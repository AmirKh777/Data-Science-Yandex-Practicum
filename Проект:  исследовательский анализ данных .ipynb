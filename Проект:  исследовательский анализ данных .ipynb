{
 "cells": [
  {
   "cell_type": "markdown",
   "id": "c81a8a11",
   "metadata": {},
   "source": [
    "<div style=\"border:solid green 3px; padding: 20px\">\n",
    "<b>🥇 Амир, спасибо за доработки, проект принят, молодец!</b>\n",
    "    \n",
    "Ты провел хорошую работу над ошибками! Уверен, ты обязательно достигнешь своей цели! Успехов в дальнейшем обучении! 🙂\n",
    "    "
   ]
  },
  {
   "cell_type": "markdown",
   "metadata": {},
   "source": [
    "<div style=\"border:solid green 2px; padding: 20px\">\n",
    "Амир, привет! Меня зовут  и сегодня я буду делать ревью твоего проекта!\n",
    "    \n",
    "В Практикуме принято общаться на \"ты\", однако если это неудобно - дай знать, и можем перейти на более официальное общение.\n",
    "\n",
    "Ниже ты найдешь мои комментарии - пожалуйста, не перемещай, не изменяй и не удаляй их. Я буду использовать цветовую разметку: \n",
    "\n",
    "<div class=\"alert alert-block alert-success\">\n",
    "<b>✅Комментарий ревьюера:</b> Если все сделано хорошо. </div>\n",
    "\n",
    "<div class=\"alert alert-block alert-warning\">\n",
    "<b>🔁Комментарий ревьюера:</b> Некритичное замечание, рекомендация.</div>\n",
    "\n",
    "<div class=\"alert alert-block alert-danger\">\n",
    "<b>❌Комментарий ревьюера:</b> Грубая ошибка, необходимо исправить, иначе проект не будет принят.\n",
    "</div>\n",
    "\n",
    "Давай работать над проектом в диалоге: если ты что-то меняешь в проекте или отвечаешь на мои комментарии — пиши об этом. Мне будет легче отследить изменения, если ты выделишь свои комментарии:\n",
    "Например так:\n",
    "<div class=\"alert alert-block alert-info\">\n",
    "<b>🔄Комментарий студента:</b> \n",
    "Hello World! ✔\n",
    "</div>\n",
    "\n",
    "Или можешь использовать эту галочку ✔ в моих комментариях, если писать особо нечего.\n",
    "\n",
    "<div class=\"alert alert-block alert-warning\">\n",
    "<b>Общее впечатление:</b> \n",
    "    \n",
    "- Ты проделал огромную работу :)\n",
    "- У меня есть несколько замечаний, исправив которые ты сделаешь проект  лучше.\n",
    "- Пробегись по моим комментариям, исправь недочёты и всё будет отлично :)\n",
    "    \n",
    "</div>\n",
    "\n"
   ]
  },
  {
   "cell_type": "markdown",
   "metadata": {
    "id": "-VFbjcb3Awb7"
   },
   "source": [
    "# Исследование объявлений о продаже квартир\n",
    "\n",
    "В вашем распоряжении данные сервиса Яндекс Недвижимость — архив объявлений о продаже квартир в Санкт-Петербурге и соседних населённых пунктах за несколько лет. Вам нужно научиться определять рыночную стоимость объектов недвижимости. Для этого проведите исследовательский анализ данных и установите параметры, влияющие на цену объектов. Это позволит построить автоматизированную систему: она отследит аномалии и мошенническую деятельность.\n",
    "\n",
    "По каждой квартире на продажу доступны два вида данных. Первые вписаны пользователем, вторые — получены автоматически на основе картографических данных. Например, расстояние до центра, аэропорта и других объектов — эти данные автоматически получены из геосервисов. Количество парков и водоёмов также заполняется без участия пользователя."
   ]
  },
  {
   "cell_type": "markdown",
   "metadata": {
    "id": "aeFLH07FAwb9"
   },
   "source": [
    "### Откройте файл с данными и изучите общую информацию"
   ]
  },
  {
   "cell_type": "code",
   "execution_count": 1,
   "metadata": {
    "id": "7MZxY65pAwb9"
   },
   "outputs": [],
   "source": [
    "import pandas as pd #импортируем библиотеку pandas\n",
    "import matplotlib.pyplot as plt #импортируем библиотеку matplotlib\n",
    "import datetime #импортируем модуль datetime"
   ]
  },
  {
   "cell_type": "markdown",
   "metadata": {},
   "source": [
    "<div class=\"alert alert-block alert-success\">\n",
    "<b>✅Комментарий ревьюера:</b> Правильно, что импортируешь все библиотеки в отдельной ячейке!  </div>"
   ]
  },
  {
   "cell_type": "code",
   "execution_count": 2,
   "metadata": {},
   "outputs": [],
   "source": [
    "data = pd.read_csv('/datasets/real_estate_data.csv', sep='\\t') #считываем csv файл, разделяем и присваиваем таблицу в переменную data"
   ]
  },
  {
   "cell_type": "code",
   "execution_count": 3,
   "metadata": {},
   "outputs": [
    {
     "name": "stdout",
     "output_type": "stream",
     "text": [
      "<class 'pandas.core.frame.DataFrame'>\n",
      "RangeIndex: 23699 entries, 0 to 23698\n",
      "Data columns (total 22 columns):\n",
      " #   Column                Non-Null Count  Dtype  \n",
      "---  ------                --------------  -----  \n",
      " 0   total_images          23699 non-null  int64  \n",
      " 1   last_price            23699 non-null  float64\n",
      " 2   total_area            23699 non-null  float64\n",
      " 3   first_day_exposition  23699 non-null  object \n",
      " 4   rooms                 23699 non-null  int64  \n",
      " 5   ceiling_height        14504 non-null  float64\n",
      " 6   floors_total          23613 non-null  float64\n",
      " 7   living_area           21796 non-null  float64\n",
      " 8   floor                 23699 non-null  int64  \n",
      " 9   is_apartment          2775 non-null   object \n",
      " 10  studio                23699 non-null  bool   \n",
      " 11  open_plan             23699 non-null  bool   \n",
      " 12  kitchen_area          21421 non-null  float64\n",
      " 13  balcony               12180 non-null  float64\n",
      " 14  locality_name         23650 non-null  object \n",
      " 15  airports_nearest      18157 non-null  float64\n",
      " 16  cityCenters_nearest   18180 non-null  float64\n",
      " 17  parks_around3000      18181 non-null  float64\n",
      " 18  parks_nearest         8079 non-null   float64\n",
      " 19  ponds_around3000      18181 non-null  float64\n",
      " 20  ponds_nearest         9110 non-null   float64\n",
      " 21  days_exposition       20518 non-null  float64\n",
      "dtypes: bool(2), float64(14), int64(3), object(3)\n",
      "memory usage: 3.7+ MB\n"
     ]
    }
   ],
   "source": [
    "data.info() #получаем информацию о таблице"
   ]
  },
  {
   "cell_type": "code",
   "execution_count": 4,
   "metadata": {},
   "outputs": [
    {
     "data": {
      "text/html": [
       "<div>\n",
       "<style scoped>\n",
       "    .dataframe tbody tr th:only-of-type {\n",
       "        vertical-align: middle;\n",
       "    }\n",
       "\n",
       "    .dataframe tbody tr th {\n",
       "        vertical-align: top;\n",
       "    }\n",
       "\n",
       "    .dataframe thead th {\n",
       "        text-align: right;\n",
       "    }\n",
       "</style>\n",
       "<table border=\"1\" class=\"dataframe\">\n",
       "  <thead>\n",
       "    <tr style=\"text-align: right;\">\n",
       "      <th></th>\n",
       "      <th>total_images</th>\n",
       "      <th>last_price</th>\n",
       "      <th>total_area</th>\n",
       "      <th>first_day_exposition</th>\n",
       "      <th>rooms</th>\n",
       "      <th>ceiling_height</th>\n",
       "      <th>floors_total</th>\n",
       "      <th>living_area</th>\n",
       "      <th>floor</th>\n",
       "      <th>is_apartment</th>\n",
       "      <th>...</th>\n",
       "      <th>kitchen_area</th>\n",
       "      <th>balcony</th>\n",
       "      <th>locality_name</th>\n",
       "      <th>airports_nearest</th>\n",
       "      <th>cityCenters_nearest</th>\n",
       "      <th>parks_around3000</th>\n",
       "      <th>parks_nearest</th>\n",
       "      <th>ponds_around3000</th>\n",
       "      <th>ponds_nearest</th>\n",
       "      <th>days_exposition</th>\n",
       "    </tr>\n",
       "  </thead>\n",
       "  <tbody>\n",
       "    <tr>\n",
       "      <th>0</th>\n",
       "      <td>20</td>\n",
       "      <td>13000000.0</td>\n",
       "      <td>108.0</td>\n",
       "      <td>2019-03-07T00:00:00</td>\n",
       "      <td>3</td>\n",
       "      <td>2.70</td>\n",
       "      <td>16.0</td>\n",
       "      <td>51.0</td>\n",
       "      <td>8</td>\n",
       "      <td>NaN</td>\n",
       "      <td>...</td>\n",
       "      <td>25.0</td>\n",
       "      <td>NaN</td>\n",
       "      <td>Санкт-Петербург</td>\n",
       "      <td>18863.0</td>\n",
       "      <td>16028.0</td>\n",
       "      <td>1.0</td>\n",
       "      <td>482.0</td>\n",
       "      <td>2.0</td>\n",
       "      <td>755.0</td>\n",
       "      <td>NaN</td>\n",
       "    </tr>\n",
       "    <tr>\n",
       "      <th>1</th>\n",
       "      <td>7</td>\n",
       "      <td>3350000.0</td>\n",
       "      <td>40.4</td>\n",
       "      <td>2018-12-04T00:00:00</td>\n",
       "      <td>1</td>\n",
       "      <td>NaN</td>\n",
       "      <td>11.0</td>\n",
       "      <td>18.6</td>\n",
       "      <td>1</td>\n",
       "      <td>NaN</td>\n",
       "      <td>...</td>\n",
       "      <td>11.0</td>\n",
       "      <td>2.0</td>\n",
       "      <td>посёлок Шушары</td>\n",
       "      <td>12817.0</td>\n",
       "      <td>18603.0</td>\n",
       "      <td>0.0</td>\n",
       "      <td>NaN</td>\n",
       "      <td>0.0</td>\n",
       "      <td>NaN</td>\n",
       "      <td>81.0</td>\n",
       "    </tr>\n",
       "    <tr>\n",
       "      <th>2</th>\n",
       "      <td>10</td>\n",
       "      <td>5196000.0</td>\n",
       "      <td>56.0</td>\n",
       "      <td>2015-08-20T00:00:00</td>\n",
       "      <td>2</td>\n",
       "      <td>NaN</td>\n",
       "      <td>5.0</td>\n",
       "      <td>34.3</td>\n",
       "      <td>4</td>\n",
       "      <td>NaN</td>\n",
       "      <td>...</td>\n",
       "      <td>8.3</td>\n",
       "      <td>0.0</td>\n",
       "      <td>Санкт-Петербург</td>\n",
       "      <td>21741.0</td>\n",
       "      <td>13933.0</td>\n",
       "      <td>1.0</td>\n",
       "      <td>90.0</td>\n",
       "      <td>2.0</td>\n",
       "      <td>574.0</td>\n",
       "      <td>558.0</td>\n",
       "    </tr>\n",
       "    <tr>\n",
       "      <th>3</th>\n",
       "      <td>0</td>\n",
       "      <td>64900000.0</td>\n",
       "      <td>159.0</td>\n",
       "      <td>2015-07-24T00:00:00</td>\n",
       "      <td>3</td>\n",
       "      <td>NaN</td>\n",
       "      <td>14.0</td>\n",
       "      <td>NaN</td>\n",
       "      <td>9</td>\n",
       "      <td>NaN</td>\n",
       "      <td>...</td>\n",
       "      <td>NaN</td>\n",
       "      <td>0.0</td>\n",
       "      <td>Санкт-Петербург</td>\n",
       "      <td>28098.0</td>\n",
       "      <td>6800.0</td>\n",
       "      <td>2.0</td>\n",
       "      <td>84.0</td>\n",
       "      <td>3.0</td>\n",
       "      <td>234.0</td>\n",
       "      <td>424.0</td>\n",
       "    </tr>\n",
       "    <tr>\n",
       "      <th>4</th>\n",
       "      <td>2</td>\n",
       "      <td>10000000.0</td>\n",
       "      <td>100.0</td>\n",
       "      <td>2018-06-19T00:00:00</td>\n",
       "      <td>2</td>\n",
       "      <td>3.03</td>\n",
       "      <td>14.0</td>\n",
       "      <td>32.0</td>\n",
       "      <td>13</td>\n",
       "      <td>NaN</td>\n",
       "      <td>...</td>\n",
       "      <td>41.0</td>\n",
       "      <td>NaN</td>\n",
       "      <td>Санкт-Петербург</td>\n",
       "      <td>31856.0</td>\n",
       "      <td>8098.0</td>\n",
       "      <td>2.0</td>\n",
       "      <td>112.0</td>\n",
       "      <td>1.0</td>\n",
       "      <td>48.0</td>\n",
       "      <td>121.0</td>\n",
       "    </tr>\n",
       "  </tbody>\n",
       "</table>\n",
       "<p>5 rows × 22 columns</p>\n",
       "</div>"
      ],
      "text/plain": [
       "   total_images  last_price  total_area first_day_exposition  rooms  \\\n",
       "0            20  13000000.0       108.0  2019-03-07T00:00:00      3   \n",
       "1             7   3350000.0        40.4  2018-12-04T00:00:00      1   \n",
       "2            10   5196000.0        56.0  2015-08-20T00:00:00      2   \n",
       "3             0  64900000.0       159.0  2015-07-24T00:00:00      3   \n",
       "4             2  10000000.0       100.0  2018-06-19T00:00:00      2   \n",
       "\n",
       "   ceiling_height  floors_total  living_area  floor is_apartment  ...  \\\n",
       "0            2.70          16.0         51.0      8          NaN  ...   \n",
       "1             NaN          11.0         18.6      1          NaN  ...   \n",
       "2             NaN           5.0         34.3      4          NaN  ...   \n",
       "3             NaN          14.0          NaN      9          NaN  ...   \n",
       "4            3.03          14.0         32.0     13          NaN  ...   \n",
       "\n",
       "   kitchen_area  balcony    locality_name  airports_nearest  \\\n",
       "0          25.0      NaN  Санкт-Петербург           18863.0   \n",
       "1          11.0      2.0   посёлок Шушары           12817.0   \n",
       "2           8.3      0.0  Санкт-Петербург           21741.0   \n",
       "3           NaN      0.0  Санкт-Петербург           28098.0   \n",
       "4          41.0      NaN  Санкт-Петербург           31856.0   \n",
       "\n",
       "  cityCenters_nearest  parks_around3000  parks_nearest  ponds_around3000  \\\n",
       "0             16028.0               1.0          482.0               2.0   \n",
       "1             18603.0               0.0            NaN               0.0   \n",
       "2             13933.0               1.0           90.0               2.0   \n",
       "3              6800.0               2.0           84.0               3.0   \n",
       "4              8098.0               2.0          112.0               1.0   \n",
       "\n",
       "   ponds_nearest  days_exposition  \n",
       "0          755.0              NaN  \n",
       "1            NaN             81.0  \n",
       "2          574.0            558.0  \n",
       "3          234.0            424.0  \n",
       "4           48.0            121.0  \n",
       "\n",
       "[5 rows x 22 columns]"
      ]
     },
     "execution_count": 4,
     "metadata": {},
     "output_type": "execute_result"
    }
   ],
   "source": [
    "data.head() #получаем первые 5 строк таблицы для лучшего ознакомления"
   ]
  },
  {
   "cell_type": "code",
   "execution_count": 5,
   "metadata": {},
   "outputs": [
    {
     "data": {
      "text/html": [
       "<div>\n",
       "<style scoped>\n",
       "    .dataframe tbody tr th:only-of-type {\n",
       "        vertical-align: middle;\n",
       "    }\n",
       "\n",
       "    .dataframe tbody tr th {\n",
       "        vertical-align: top;\n",
       "    }\n",
       "\n",
       "    .dataframe thead th {\n",
       "        text-align: right;\n",
       "    }\n",
       "</style>\n",
       "<table border=\"1\" class=\"dataframe\">\n",
       "  <thead>\n",
       "    <tr style=\"text-align: right;\">\n",
       "      <th></th>\n",
       "      <th>total_images</th>\n",
       "      <th>last_price</th>\n",
       "      <th>total_area</th>\n",
       "      <th>first_day_exposition</th>\n",
       "      <th>rooms</th>\n",
       "      <th>ceiling_height</th>\n",
       "      <th>floors_total</th>\n",
       "      <th>living_area</th>\n",
       "      <th>floor</th>\n",
       "      <th>is_apartment</th>\n",
       "      <th>...</th>\n",
       "      <th>kitchen_area</th>\n",
       "      <th>balcony</th>\n",
       "      <th>locality_name</th>\n",
       "      <th>airports_nearest</th>\n",
       "      <th>cityCenters_nearest</th>\n",
       "      <th>parks_around3000</th>\n",
       "      <th>parks_nearest</th>\n",
       "      <th>ponds_around3000</th>\n",
       "      <th>ponds_nearest</th>\n",
       "      <th>days_exposition</th>\n",
       "    </tr>\n",
       "  </thead>\n",
       "  <tbody>\n",
       "    <tr>\n",
       "      <th>23694</th>\n",
       "      <td>9</td>\n",
       "      <td>9700000.0</td>\n",
       "      <td>133.81</td>\n",
       "      <td>2017-03-21T00:00:00</td>\n",
       "      <td>3</td>\n",
       "      <td>3.7</td>\n",
       "      <td>5.0</td>\n",
       "      <td>73.3</td>\n",
       "      <td>3</td>\n",
       "      <td>NaN</td>\n",
       "      <td>...</td>\n",
       "      <td>13.83</td>\n",
       "      <td>NaN</td>\n",
       "      <td>Санкт-Петербург</td>\n",
       "      <td>24665.0</td>\n",
       "      <td>4232.0</td>\n",
       "      <td>1.0</td>\n",
       "      <td>796.0</td>\n",
       "      <td>3.0</td>\n",
       "      <td>381.0</td>\n",
       "      <td>NaN</td>\n",
       "    </tr>\n",
       "    <tr>\n",
       "      <th>23695</th>\n",
       "      <td>14</td>\n",
       "      <td>3100000.0</td>\n",
       "      <td>59.00</td>\n",
       "      <td>2018-01-15T00:00:00</td>\n",
       "      <td>3</td>\n",
       "      <td>NaN</td>\n",
       "      <td>5.0</td>\n",
       "      <td>38.0</td>\n",
       "      <td>4</td>\n",
       "      <td>NaN</td>\n",
       "      <td>...</td>\n",
       "      <td>8.50</td>\n",
       "      <td>NaN</td>\n",
       "      <td>Тосно</td>\n",
       "      <td>NaN</td>\n",
       "      <td>NaN</td>\n",
       "      <td>NaN</td>\n",
       "      <td>NaN</td>\n",
       "      <td>NaN</td>\n",
       "      <td>NaN</td>\n",
       "      <td>45.0</td>\n",
       "    </tr>\n",
       "    <tr>\n",
       "      <th>23696</th>\n",
       "      <td>18</td>\n",
       "      <td>2500000.0</td>\n",
       "      <td>56.70</td>\n",
       "      <td>2018-02-11T00:00:00</td>\n",
       "      <td>2</td>\n",
       "      <td>NaN</td>\n",
       "      <td>3.0</td>\n",
       "      <td>29.7</td>\n",
       "      <td>1</td>\n",
       "      <td>NaN</td>\n",
       "      <td>...</td>\n",
       "      <td>NaN</td>\n",
       "      <td>NaN</td>\n",
       "      <td>село Рождествено</td>\n",
       "      <td>NaN</td>\n",
       "      <td>NaN</td>\n",
       "      <td>NaN</td>\n",
       "      <td>NaN</td>\n",
       "      <td>NaN</td>\n",
       "      <td>NaN</td>\n",
       "      <td>NaN</td>\n",
       "    </tr>\n",
       "    <tr>\n",
       "      <th>23697</th>\n",
       "      <td>13</td>\n",
       "      <td>11475000.0</td>\n",
       "      <td>76.75</td>\n",
       "      <td>2017-03-28T00:00:00</td>\n",
       "      <td>2</td>\n",
       "      <td>3.0</td>\n",
       "      <td>17.0</td>\n",
       "      <td>NaN</td>\n",
       "      <td>12</td>\n",
       "      <td>NaN</td>\n",
       "      <td>...</td>\n",
       "      <td>23.30</td>\n",
       "      <td>2.0</td>\n",
       "      <td>Санкт-Петербург</td>\n",
       "      <td>39140.0</td>\n",
       "      <td>10364.0</td>\n",
       "      <td>2.0</td>\n",
       "      <td>173.0</td>\n",
       "      <td>3.0</td>\n",
       "      <td>196.0</td>\n",
       "      <td>602.0</td>\n",
       "    </tr>\n",
       "    <tr>\n",
       "      <th>23698</th>\n",
       "      <td>4</td>\n",
       "      <td>1350000.0</td>\n",
       "      <td>32.30</td>\n",
       "      <td>2017-07-21T00:00:00</td>\n",
       "      <td>1</td>\n",
       "      <td>2.5</td>\n",
       "      <td>5.0</td>\n",
       "      <td>12.3</td>\n",
       "      <td>1</td>\n",
       "      <td>NaN</td>\n",
       "      <td>...</td>\n",
       "      <td>9.00</td>\n",
       "      <td>NaN</td>\n",
       "      <td>поселок Новый Учхоз</td>\n",
       "      <td>NaN</td>\n",
       "      <td>NaN</td>\n",
       "      <td>NaN</td>\n",
       "      <td>NaN</td>\n",
       "      <td>NaN</td>\n",
       "      <td>NaN</td>\n",
       "      <td>NaN</td>\n",
       "    </tr>\n",
       "  </tbody>\n",
       "</table>\n",
       "<p>5 rows × 22 columns</p>\n",
       "</div>"
      ],
      "text/plain": [
       "       total_images  last_price  total_area first_day_exposition  rooms  \\\n",
       "23694             9   9700000.0      133.81  2017-03-21T00:00:00      3   \n",
       "23695            14   3100000.0       59.00  2018-01-15T00:00:00      3   \n",
       "23696            18   2500000.0       56.70  2018-02-11T00:00:00      2   \n",
       "23697            13  11475000.0       76.75  2017-03-28T00:00:00      2   \n",
       "23698             4   1350000.0       32.30  2017-07-21T00:00:00      1   \n",
       "\n",
       "       ceiling_height  floors_total  living_area  floor is_apartment  ...  \\\n",
       "23694             3.7           5.0         73.3      3          NaN  ...   \n",
       "23695             NaN           5.0         38.0      4          NaN  ...   \n",
       "23696             NaN           3.0         29.7      1          NaN  ...   \n",
       "23697             3.0          17.0          NaN     12          NaN  ...   \n",
       "23698             2.5           5.0         12.3      1          NaN  ...   \n",
       "\n",
       "       kitchen_area  balcony        locality_name  airports_nearest  \\\n",
       "23694         13.83      NaN      Санкт-Петербург           24665.0   \n",
       "23695          8.50      NaN                Тосно               NaN   \n",
       "23696           NaN      NaN     село Рождествено               NaN   \n",
       "23697         23.30      2.0      Санкт-Петербург           39140.0   \n",
       "23698          9.00      NaN  поселок Новый Учхоз               NaN   \n",
       "\n",
       "      cityCenters_nearest  parks_around3000  parks_nearest  ponds_around3000  \\\n",
       "23694              4232.0               1.0          796.0               3.0   \n",
       "23695                 NaN               NaN            NaN               NaN   \n",
       "23696                 NaN               NaN            NaN               NaN   \n",
       "23697             10364.0               2.0          173.0               3.0   \n",
       "23698                 NaN               NaN            NaN               NaN   \n",
       "\n",
       "       ponds_nearest  days_exposition  \n",
       "23694          381.0              NaN  \n",
       "23695            NaN             45.0  \n",
       "23696            NaN              NaN  \n",
       "23697          196.0            602.0  \n",
       "23698            NaN              NaN  \n",
       "\n",
       "[5 rows x 22 columns]"
      ]
     },
     "execution_count": 5,
     "metadata": {},
     "output_type": "execute_result"
    }
   ],
   "source": [
    "data.tail() #получем последние 5 строк таблицы для лучшего ознакомления"
   ]
  },
  {
   "cell_type": "code",
   "execution_count": 6,
   "metadata": {},
   "outputs": [
    {
     "data": {
      "image/png": "[encoded data removed]",
      "text/plain": [
       "<Figure size 1080x1440 with 20 Axes>"
      ]
     },
     "metadata": {
      "needs_background": "light"
     },
     "output_type": "display_data"
    }
   ],
   "source": [
    "data.hist(figsize=(15,20)) #построение гистограмм для общего изучения данных\n",
    "plt.show()"
   ]
  },
  {
   "cell_type": "markdown",
   "metadata": {},
   "source": [
    "**Вывод:** познакомились с таблицей и данными в ней. Всего 21 столбец и 23699 строк. Данные в столбцах: булевого типа - 2, типа Float - 14, целочисленных - 3, строковых - 3. Также были построены гистограммы для всех числовых столбцов, что позволило узнать поглубже структуру данных в числовых столбцах."
   ]
  },
  {
   "cell_type": "markdown",
   "metadata": {},
   "source": [
    "<div class=\"alert alert-block alert-success\">\n",
    "<b>✅Комментарий ревьюера:</b> Отлично, с данными познакомились!  </div>"
   ]
  },
  {
   "cell_type": "markdown",
   "metadata": {
    "id": "-O5NtivEAwb9"
   },
   "source": [
    "### Выполните предобработку данных"
   ]
  },
  {
   "cell_type": "code",
   "execution_count": 7,
   "metadata": {
    "id": "7v3vAeTuAwb-"
   },
   "outputs": [
    {
     "name": "stdout",
     "output_type": "stream",
     "text": [
      "total_images                0\n",
      "last_price                  0\n",
      "total_area                  0\n",
      "first_day_exposition        0\n",
      "rooms                       0\n",
      "ceiling_height           9195\n",
      "floors_total               86\n",
      "living_area              1903\n",
      "floor                       0\n",
      "is_apartment            20924\n",
      "studio                      0\n",
      "open_plan                   0\n",
      "kitchen_area             2278\n",
      "balcony                 11519\n",
      "locality_name              49\n",
      "airports_nearest         5542\n",
      "cityCenters_nearest      5519\n",
      "parks_around3000         5518\n",
      "parks_nearest           15620\n",
      "ponds_around3000         5518\n",
      "ponds_nearest           14589\n",
      "days_exposition          3181\n",
      "dtype: int64\n"
     ]
    }
   ],
   "source": [
    "print(data.isna().sum()) #подсчет количества пропусков в разных столбцах таблицы"
   ]
  },
  {
   "cell_type": "markdown",
   "metadata": {},
   "source": [
    "**В ходе выполнения кода выявили, что пропуски присутствуют в следующих столбцах:** \n",
    "ceiling_height, floors_total, living_area, is_apartment, kitchen_area, balcony, locality_name, airports_nearest, cityCenters_nearest, parks_around3000, parks_nearest, ponds_around3000, ponds_nearest, days_exposition (всего в 14 столбцах). \n",
    "\n",
    "**Возможные причины пропусков:** ошибки в сборе данных, технические проблемы."
   ]
  },
  {
   "cell_type": "markdown",
   "metadata": {},
   "source": [
    "На высоту потолков влияет название района. Поэтому следует сгрупировать данные по районам и внести медианное значение в высоту потолка. Если человек не указал является ли недвижимость апартаментами - скорее всего не является, тоже самое с балконами - скорее всего их нет. Таким же образом следует заполнить пропуски в других параметрах\n",
    "<div class=\"alert alert-block alert-info\">\n",
    "<b>🔄Комментарий студента:</b> \n",
    "Надеюсь что я правильно понял логику при выполнении заполнения пропусков, если нет - то совсем не понимаю как их заполнить. \n",
    "</div>"
   ]
  },
  {
   "cell_type": "code",
   "execution_count": 8,
   "metadata": {},
   "outputs": [],
   "source": [
    "data['ceiling_height'] = data['ceiling_height'].fillna(\n",
    "data.groupby('locality_name')['ceiling_height'].transform('median')\n",
    ") #заполняем медианным значением ceiling height по группировке по районам"
   ]
  },
  {
   "cell_type": "code",
   "execution_count": 9,
   "metadata": {},
   "outputs": [],
   "source": [
    "data['ceiling_height'] = data['ceiling_height'].fillna(data['ceiling_height'].median()) #дозаполняем пустые значения"
   ]
  },
  {
   "cell_type": "code",
   "execution_count": 10,
   "metadata": {},
   "outputs": [],
   "source": [
    "data['balcony'] = data['balcony'].fillna(0) #заменяем пустые значения в столбце balcony на 0"
   ]
  },
  {
   "cell_type": "code",
   "execution_count": 11,
   "metadata": {},
   "outputs": [],
   "source": [
    "data['is_apartment'] = data['is_apartment'].fillna(False) #заменяем пустые значения в столбце is_apartment на false"
   ]
  },
  {
   "cell_type": "code",
   "execution_count": 12,
   "metadata": {},
   "outputs": [],
   "source": [
    "data['floors_total'] = data['floors_total'].dropna(axis=0) #удаляем пустые значения в столбце floors_total"
   ]
  },
  {
   "cell_type": "code",
   "execution_count": 13,
   "metadata": {},
   "outputs": [],
   "source": [
    "data['locality_name'] = data['locality_name'].dropna(axis=0) #удаляем пустые значения в столбце locality_name"
   ]
  },
  {
   "cell_type": "code",
   "execution_count": 14,
   "metadata": {},
   "outputs": [],
   "source": [
    "data['airports_nearest'] = data['airports_nearest'].fillna(\n",
    "data.groupby('locality_name')['airports_nearest'].transform('median')\n",
    ") #заполняем медианным значением airports_nearest по группировке по районам"
   ]
  },
  {
   "cell_type": "code",
   "execution_count": 15,
   "metadata": {},
   "outputs": [],
   "source": [
    "data['cityCenters_nearest'] = data['cityCenters_nearest'].fillna(\n",
    "data.groupby('locality_name')['cityCenters_nearest'].transform('median')\n",
    ") #заполняем медианным значением cityCenters_nearest по группировке по районам"
   ]
  },
  {
   "cell_type": "markdown",
   "metadata": {},
   "source": [
    "<div class=\"alert alert-block alert-danger\">\n",
    "<b>❌Комментарий ревьюера 3:</b> \n",
    "\n",
    "Растояния до центра и аэропорта допустимо заполнить только медианой с группировкой по населенному пункту, общей медианой заполнять нельзя. Не в каждом населенном пункте есть аэропорт.\n",
    "\n",
    "</div>\n",
    "\n",
    "<div class=\"alert alert-block alert-info\">\n",
    "<b>🔄Комментарий студента3:</b> \n",
    "Вроде бы все исправил\n",
    "</div>\n"
   ]
  },
  {
   "cell_type": "markdown",
   "id": "a9f80e94",
   "metadata": {},
   "source": [
    "<div class=\"alert alert-block alert-success\">\n",
    "<b>✅Комментарий ревьюера 4:</b> Отлично, исправлено!👍  </div>"
   ]
  },
  {
   "cell_type": "markdown",
   "metadata": {},
   "source": [
    "<div class=\"alert alert-block alert-danger\">\n",
    "<b>❌Комментарий ревьюера 2:</b> \n",
    "\n",
    "Растояния до центра и аэропорта допустимо заполнить медианой по населенному пункту, так как эти объекты у них в единственном числе или вообще отсутствуют.\n",
    "    \n",
    "Парков и прудов же может быть несколько, а может и не быть вообще, поэтому такое заполнение не совсем корректно. Особенно это касается столбцов с количеством прудов и парков в радиусе 3км. Обязательно ли у всех квартир в непосредственной близости должен быть и парк и пруд?\n",
    "\n",
    "</div>\n",
    "<div class=\"alert alert-block alert-info\">\n",
    "<b>🔄Комментарий студента2:</b> \n",
    "Вроде бы все исправил\n",
    "</div>"
   ]
  },
  {
   "cell_type": "markdown",
   "metadata": {},
   "source": [
    "<div class=\"alert alert-block alert-danger\">\n",
    "<b>❌Комментарий ревьюера 3:</b> \n",
    "\n",
    "Строки с пропусками в количестве дней размещения удалять нельзя\n",
    "\n",
    "</div>\n",
    "<div class=\"alert alert-block alert-info\">\n",
    "<b>🔄Комментарий студента3:</b> \n",
    "Вроде бы все исправил\n",
    "</div>\n"
   ]
  },
  {
   "cell_type": "markdown",
   "id": "a9f80e94",
   "metadata": {},
   "source": [
    "<div class=\"alert alert-block alert-success\">\n",
    "<b>✅Комментарий ревьюера 4:</b> Отлично, исправлено!👍  </div>"
   ]
  },
  {
   "cell_type": "markdown",
   "metadata": {},
   "source": [
    "<div class=\"alert alert-block alert-danger\">\n",
    "<b>❌Комментарий ревьюера 2:</b> \n",
    "\n",
    "Строки с пропусками в площади кухни, жилой площади и количестве дней размещения удалять нельзя, они представляют собой значительный объем данных, потеря которых может привести к искажению результатов исследования. Если мы не можем заполнить пропуски достоверными значениями, то следует их оставить как есть.\n",
    "\n",
    "</div>\n",
    "<div class=\"alert alert-block alert-info\">\n",
    "<b>🔄Комментарий студента2:</b> \n",
    "Вроде бы все исправил\n",
    "</div>"
   ]
  },
  {
   "cell_type": "code",
   "execution_count": 16,
   "metadata": {},
   "outputs": [
    {
     "name": "stdout",
     "output_type": "stream",
     "text": [
      "total_images                0\n",
      "last_price                  0\n",
      "total_area                  0\n",
      "first_day_exposition        0\n",
      "rooms                       0\n",
      "ceiling_height              0\n",
      "floors_total               86\n",
      "living_area              1903\n",
      "floor                       0\n",
      "is_apartment                0\n",
      "studio                      0\n",
      "open_plan                   0\n",
      "kitchen_area             2278\n",
      "balcony                     0\n",
      "locality_name              49\n",
      "airports_nearest         5394\n",
      "cityCenters_nearest      5394\n",
      "parks_around3000         5518\n",
      "parks_nearest           15620\n",
      "ponds_around3000         5518\n",
      "ponds_nearest           14589\n",
      "days_exposition          3181\n",
      "dtype: int64\n"
     ]
    }
   ],
   "source": [
    "print(data.isna().sum()) #подсчет количества пропусков в разных столбцах таблицы"
   ]
  },
  {
   "cell_type": "markdown",
   "metadata": {},
   "source": [
    "<div class=\"alert alert-block alert-danger\">\n",
    "<b>❌Комментарий ревьюера:</b> \n",
    "    \n",
    "Нельзя просто взять и заполнить пропуски во всех столбцах медианой. Необходимо разобрать каждый столбец отдельно. Если есть логическое обоснование возможности заполнить пропуски, то мы это делаем, если нет, то поясняем почему и оставляем пропуски как есть.\n",
    "\n",
    "</div>\n",
    "<div class=\"alert alert-block alert-info\">\n",
    "<b>🔄Комментарий студента:</b> \n",
    "Поправил все что мог\n",
    "</div>"
   ]
  },
  {
   "cell_type": "markdown",
   "metadata": {},
   "source": [
    "<div class=\"alert alert-block alert-success\">\n",
    "<b>✅Комментарий ревьюера 2:</b> Отлично, исправлено!👍  </div>"
   ]
  },
  {
   "cell_type": "code",
   "execution_count": 17,
   "metadata": {},
   "outputs": [
    {
     "name": "stdout",
     "output_type": "stream",
     "text": [
      "<class 'pandas.core.frame.DataFrame'>\n",
      "RangeIndex: 23699 entries, 0 to 23698\n",
      "Data columns (total 22 columns):\n",
      " #   Column                Non-Null Count  Dtype  \n",
      "---  ------                --------------  -----  \n",
      " 0   total_images          23699 non-null  int64  \n",
      " 1   last_price            23699 non-null  float64\n",
      " 2   total_area            23699 non-null  float64\n",
      " 3   first_day_exposition  23699 non-null  object \n",
      " 4   rooms                 23699 non-null  int64  \n",
      " 5   ceiling_height        23699 non-null  float64\n",
      " 6   floors_total          23613 non-null  float64\n",
      " 7   living_area           21796 non-null  float64\n",
      " 8   floor                 23699 non-null  int64  \n",
      " 9   is_apartment          23699 non-null  bool   \n",
      " 10  studio                23699 non-null  bool   \n",
      " 11  open_plan             23699 non-null  bool   \n",
      " 12  kitchen_area          21421 non-null  float64\n",
      " 13  balcony               23699 non-null  float64\n",
      " 14  locality_name         23650 non-null  object \n",
      " 15  airports_nearest      18305 non-null  float64\n",
      " 16  cityCenters_nearest   18305 non-null  float64\n",
      " 17  parks_around3000      18181 non-null  float64\n",
      " 18  parks_nearest         8079 non-null   float64\n",
      " 19  ponds_around3000      18181 non-null  float64\n",
      " 20  ponds_nearest         9110 non-null   float64\n",
      " 21  days_exposition       20518 non-null  float64\n",
      "dtypes: bool(3), float64(14), int64(3), object(2)\n",
      "memory usage: 3.5+ MB\n",
      "None\n"
     ]
    }
   ],
   "source": [
    "print(data.info()) #вызовем функцию info для data, чтобы еще раз взглянуть на тип данных в каждом столбце"
   ]
  },
  {
   "cell_type": "markdown",
   "metadata": {},
   "source": [
    "Необходимо изменить тип данных для first_day_exposition (на форматы даты и времени), balcony (на целочисленное), days_exposition (на целочисленное)."
   ]
  },
  {
   "cell_type": "code",
   "execution_count": 18,
   "metadata": {},
   "outputs": [],
   "source": [
    "data['first_day_exposition'] = pd.to_datetime(data['first_day_exposition'], format='%Y.%m.%dT%H:%M:%S') #меняем тип данных на datetime64"
   ]
  },
  {
   "cell_type": "markdown",
   "metadata": {},
   "source": [
    "<div class=\"alert alert-block alert-danger\">\n",
    "<b>❌Комментарий ревьюера:</b> \n",
    "    \n",
    "Теперь у нас почти все квартиры стали апартаментами.\n",
    "\n",
    "</div>\n",
    "<div class=\"alert alert-block alert-info\">\n",
    "<b>🔄Комментарий студента:</b> \n",
    "Вроде бы все поправил\n",
    "</div>"
   ]
  },
  {
   "cell_type": "markdown",
   "metadata": {},
   "source": [
    "<div class=\"alert alert-block alert-success\">\n",
    "<b>✅Комментарий ревьюера 2:</b> Отлично, исправлено!👍  </div>"
   ]
  },
  {
   "cell_type": "code",
   "execution_count": 19,
   "metadata": {},
   "outputs": [
    {
     "data": {
      "text/plain": [
       "False    23649\n",
       "True        50\n",
       "Name: is_apartment, dtype: int64"
      ]
     },
     "execution_count": 19,
     "metadata": {},
     "output_type": "execute_result"
    }
   ],
   "source": [
    "# код ревьюера\n",
    "data['is_apartment'].value_counts()"
   ]
  },
  {
   "cell_type": "code",
   "execution_count": 20,
   "metadata": {},
   "outputs": [],
   "source": [
    "data['balcony'] = data['balcony'].astype('int', errors='raise') #меняем тип данных на int"
   ]
  },
  {
   "cell_type": "code",
   "execution_count": 21,
   "metadata": {},
   "outputs": [
    {
     "name": "stdout",
     "output_type": "stream",
     "text": [
      "<class 'pandas.core.frame.DataFrame'>\n",
      "RangeIndex: 23699 entries, 0 to 23698\n",
      "Data columns (total 22 columns):\n",
      " #   Column                Non-Null Count  Dtype         \n",
      "---  ------                --------------  -----         \n",
      " 0   total_images          23699 non-null  int64         \n",
      " 1   last_price            23699 non-null  float64       \n",
      " 2   total_area            23699 non-null  float64       \n",
      " 3   first_day_exposition  23699 non-null  datetime64[ns]\n",
      " 4   rooms                 23699 non-null  int64         \n",
      " 5   ceiling_height        23699 non-null  float64       \n",
      " 6   floors_total          23613 non-null  float64       \n",
      " 7   living_area           21796 non-null  float64       \n",
      " 8   floor                 23699 non-null  int64         \n",
      " 9   is_apartment          23699 non-null  bool          \n",
      " 10  studio                23699 non-null  bool          \n",
      " 11  open_plan             23699 non-null  bool          \n",
      " 12  kitchen_area          21421 non-null  float64       \n",
      " 13  balcony               23699 non-null  int64         \n",
      " 14  locality_name         23650 non-null  object        \n",
      " 15  airports_nearest      18305 non-null  float64       \n",
      " 16  cityCenters_nearest   18305 non-null  float64       \n",
      " 17  parks_around3000      18181 non-null  float64       \n",
      " 18  parks_nearest         8079 non-null   float64       \n",
      " 19  ponds_around3000      18181 non-null  float64       \n",
      " 20  ponds_nearest         9110 non-null   float64       \n",
      " 21  days_exposition       20518 non-null  float64       \n",
      "dtypes: bool(3), datetime64[ns](1), float64(13), int64(4), object(1)\n",
      "memory usage: 3.5+ MB\n",
      "None\n"
     ]
    }
   ],
   "source": [
    "print(data.info()) #проверяем что все типы данных изменились без ошибок"
   ]
  },
  {
   "cell_type": "code",
   "execution_count": 22,
   "metadata": {},
   "outputs": [
    {
     "name": "stdout",
     "output_type": "stream",
     "text": [
      "['Санкт-Петербург' 'посёлок Шушары' 'городской посёлок Янино-1'\n",
      " 'посёлок Парголово' 'посёлок Мурино' 'Ломоносов' 'Сертолово' 'Петергоф'\n",
      " 'Пушкин' 'деревня Кудрово' 'Коммунар' 'Колпино'\n",
      " 'поселок городского типа Красный Бор' 'Гатчина' 'поселок Мурино'\n",
      " 'деревня Фёдоровское' 'Выборг' 'Кронштадт' 'Кировск'\n",
      " 'деревня Новое Девяткино' 'посёлок Металлострой'\n",
      " 'посёлок городского типа Лебяжье' 'посёлок городского типа Сиверский'\n",
      " 'поселок Молодцово' 'поселок городского типа Кузьмоловский'\n",
      " 'садовое товарищество Новая Ропша' 'Павловск' 'деревня Пикколово'\n",
      " 'Всеволожск' 'Волхов' 'Кингисепп' 'Приозерск' 'Сестрорецк'\n",
      " 'деревня Куттузи' 'посёлок Аннино' 'поселок городского типа Ефимовский'\n",
      " 'посёлок Плодовое' 'деревня Заклинье' 'поселок Торковичи'\n",
      " 'поселок Первомайское' 'Красное Село' 'посёлок Понтонный' 'Сясьстрой'\n",
      " 'деревня Старая' 'деревня Лесколово' 'посёлок Новый Свет' 'Сланцы'\n",
      " 'село Путилово' 'Ивангород' 'Мурино' 'Шлиссельбург' 'Никольское'\n",
      " 'Зеленогорск' 'Сосновый Бор' 'поселок Новый Свет' 'деревня Оржицы'\n",
      " 'деревня Кальтино' 'Кудрово' 'поселок Романовка' 'посёлок Бугры'\n",
      " 'поселок Бугры' 'поселок городского типа Рощино' 'Кириши' 'Луга'\n",
      " 'Волосово' 'Отрадное' 'село Павлово' 'поселок Оредеж' 'село Копорье'\n",
      " 'посёлок городского типа Красный Бор' 'посёлок Молодёжное' 'Тихвин'\n",
      " 'посёлок Победа' 'деревня Нурма' 'поселок городского типа Синявино'\n",
      " 'Тосно' 'посёлок городского типа Кузьмоловский' 'посёлок Стрельна'\n",
      " 'Бокситогорск' 'посёлок Александровская' 'деревня Лопухинка' 'Пикалёво'\n",
      " 'поселок Терволово' 'поселок городского типа Советский' 'Подпорожье'\n",
      " 'посёлок Петровское' 'посёлок городского типа Токсово' 'поселок Сельцо'\n",
      " 'посёлок городского типа Вырица' 'деревня Кипень' 'деревня Келози'\n",
      " 'деревня Вартемяги' 'посёлок Тельмана' 'поселок Севастьяново'\n",
      " 'городской поселок Большая Ижора' nan 'городской посёлок Павлово'\n",
      " 'деревня Агалатово' 'посёлок Новогорелово'\n",
      " 'городской посёлок Лесогорский' 'деревня Лаголово' 'поселок Цвелодубово'\n",
      " 'поселок городского типа Рахья' 'поселок городского типа Вырица'\n",
      " 'деревня Белогорка' 'поселок Заводской' 'городской посёлок Новоселье'\n",
      " 'деревня Большие Колпаны' 'деревня Горбунки' 'деревня Батово'\n",
      " 'деревня Заневка' 'деревня Иссад' 'Приморск'\n",
      " 'городской посёлок Фёдоровское' 'деревня Мистолово' 'Новая Ладога'\n",
      " 'поселок Зимитицы' 'поселок Барышево' 'деревня Разметелево'\n",
      " 'поселок городского типа имени Свердлова' 'деревня Пеники'\n",
      " 'поселок Рябово' 'деревня Пудомяги' 'поселок станции Корнево'\n",
      " 'деревня Низино' 'деревня Бегуницы' 'посёлок Поляны'\n",
      " 'городской посёлок Мга' 'поселок Елизаветино'\n",
      " 'посёлок городского типа Кузнечное' 'деревня Колтуши'\n",
      " 'поселок Запорожское' 'посёлок городского типа Рощино'\n",
      " 'деревня Гостилицы' 'деревня Малое Карлино' 'посёлок Мичуринское'\n",
      " 'посёлок городского типа имени Морозова' 'посёлок Песочный'\n",
      " 'посёлок Сосново' 'деревня Аро' 'поселок Ильичёво'\n",
      " 'посёлок городского типа Тайцы' 'деревня Малое Верево' 'деревня Извара'\n",
      " 'поселок станции Вещево' 'село Паша' 'деревня Калитино'\n",
      " 'посёлок городского типа Ульяновка' 'деревня Чудской Бор'\n",
      " 'поселок городского типа Дубровка' 'деревня Мины' 'поселок Войсковицы'\n",
      " 'посёлок городского типа имени Свердлова' 'деревня Коркино'\n",
      " 'посёлок Ропша' 'поселок городского типа Приладожский' 'посёлок Щеглово'\n",
      " 'посёлок Гаврилово' 'Лодейное Поле' 'деревня Рабитицы'\n",
      " 'поселок городского типа Никольский' 'деревня Кузьмолово'\n",
      " 'деревня Малые Колпаны' 'поселок Тельмана' 'посёлок Петро-Славянка'\n",
      " 'городской посёлок Назия' 'посёлок Репино' 'посёлок Ильичёво'\n",
      " 'поселок Углово' 'поселок Старая Малукса' 'садовое товарищество Рахья'\n",
      " 'поселок Аннино' 'поселок Победа' 'деревня Меньково'\n",
      " 'деревня Старые Бегуницы' 'посёлок Сапёрный' 'поселок Семрино'\n",
      " 'поселок Гаврилово' 'поселок Глажево' 'поселок Кобринское'\n",
      " 'деревня Гарболово' 'деревня Юкки' 'поселок станции Приветнинское'\n",
      " 'деревня Мануйлово' 'деревня Пчева' 'поселок Поляны' 'поселок Цвылёво'\n",
      " 'поселок Мельниково' 'посёлок Пудость' 'посёлок Усть-Луга' 'Светогорск'\n",
      " 'Любань' 'поселок Селезнёво' 'поселок городского типа Рябово'\n",
      " 'Каменногорск' 'деревня Кривко' 'поселок Глебычево' 'деревня Парицы'\n",
      " 'поселок Жилпосёлок' 'посёлок городского типа Мга'\n",
      " 'городской поселок Янино-1' 'посёлок Войскорово' 'село Никольское'\n",
      " 'посёлок Терволово' 'поселок Стеклянный' 'посёлок городского типа Важины'\n",
      " 'посёлок Мыза-Ивановка' 'село Русско-Высоцкое'\n",
      " 'поселок городского типа Лебяжье' 'поселок городского типа Форносово'\n",
      " 'село Старая Ладога' 'поселок Житково' 'городской посёлок Виллози'\n",
      " 'деревня Лампово' 'деревня Шпаньково' 'деревня Лаврики' 'посёлок Сумино'\n",
      " 'посёлок Возрождение' 'деревня Старосиверская' 'посёлок Кикерино'\n",
      " 'поселок Возрождение' 'деревня Старое Хинколово' 'посёлок Пригородный'\n",
      " 'посёлок Торфяное' 'городской посёлок Будогощь' 'поселок Суходолье'\n",
      " 'поселок Красная Долина' 'деревня Хапо-Ое'\n",
      " 'поселок городского типа Дружная Горка' 'поселок Лисий Нос'\n",
      " 'деревня Яльгелево' 'посёлок Стеклянный' 'село Рождествено'\n",
      " 'деревня Старополье' 'посёлок Левашово' 'деревня Сяськелево'\n",
      " 'деревня Камышовка'\n",
      " 'садоводческое некоммерческое товарищество Лесная Поляна'\n",
      " 'деревня Хязельки' 'поселок Жилгородок' 'посёлок городского типа Павлово'\n",
      " 'деревня Ялгино' 'поселок Новый Учхоз' 'городской посёлок Рощино'\n",
      " 'поселок Гончарово' 'поселок Почап' 'посёлок Сапёрное'\n",
      " 'посёлок Платформа 69-й километр' 'поселок Каложицы' 'деревня Фалилеево'\n",
      " 'деревня Пельгора' 'поселок городского типа Лесогорский'\n",
      " 'деревня Торошковичи' 'посёлок Белоостров' 'посёлок Алексеевка'\n",
      " 'поселок Серебрянский' 'поселок Лукаши' 'поселок Петровское'\n",
      " 'деревня Щеглово' 'поселок Мичуринское' 'деревня Тарасово'\n",
      " 'поселок Кингисеппский' 'посёлок при железнодорожной станции Вещево'\n",
      " 'поселок Ушаки' 'деревня Котлы' 'деревня Сижно' 'деревня Торосово'\n",
      " 'посёлок Форт Красная Горка' 'поселок городского типа Токсово'\n",
      " 'деревня Новолисино' 'посёлок станции Громово' 'деревня Глинка'\n",
      " 'посёлок Мельниково' 'поселок городского типа Назия'\n",
      " 'деревня Старая Пустошь' 'поселок Коммунары' 'поселок Починок'\n",
      " 'посёлок городского типа Вознесенье' 'деревня Разбегаево'\n",
      " 'посёлок городского типа Рябово' 'поселок Гладкое'\n",
      " 'посёлок при железнодорожной станции Приветнинское' 'поселок Тёсово-4'\n",
      " 'посёлок Жилгородок' 'деревня Бор' 'посёлок Коробицыно'\n",
      " 'деревня Большая Вруда' 'деревня Курковицы' 'посёлок Лисий Нос'\n",
      " 'городской посёлок Советский' 'посёлок Кобралово' 'деревня Суоранда'\n",
      " 'поселок Кобралово' 'поселок городского типа Кондратьево'\n",
      " 'коттеджный поселок Счастье' 'поселок Любань' 'деревня Реброво'\n",
      " 'деревня Зимитицы' 'деревня Тойворово' 'поселок Семиозерье'\n",
      " 'поселок Лесное' 'поселок Совхозный' 'поселок Усть-Луга'\n",
      " 'посёлок Ленинское' 'посёлок Суйда' 'посёлок городского типа Форносово'\n",
      " 'деревня Нижние Осельки' 'посёлок станции Свирь' 'поселок Перово'\n",
      " 'Высоцк' 'поселок Гарболово' 'село Шум' 'поселок Котельский'\n",
      " 'поселок станции Лужайка' 'деревня Большая Пустомержа'\n",
      " 'поселок Красносельское' 'деревня Вахнова Кара' 'деревня Пижма'\n",
      " 'коттеджный поселок Кивеннапа Север' 'поселок Коробицыно'\n",
      " 'поселок Ромашки' 'посёлок Перово' 'деревня Каськово' 'деревня Куровицы'\n",
      " 'посёлок Плоское' 'поселок Сумино'\n",
      " 'поселок городского типа Большая Ижора' 'поселок Кирпичное'\n",
      " 'деревня Ям-Тесово' 'деревня Раздолье' 'деревня Терпилицы'\n",
      " 'посёлок Шугозеро' 'деревня Ваганово' 'поселок Пушное'\n",
      " 'садовое товарищество Садко' 'посёлок Усть-Ижора' 'деревня Выскатка'\n",
      " 'городской посёлок Свирьстрой' 'поселок Громово' 'деревня Кисельня'\n",
      " 'посёлок Старая Малукса' 'деревня Трубников Бор' 'поселок Калитино'\n",
      " 'посёлок Высокоключевой' 'садовое товарищество Приладожский'\n",
      " 'посёлок Пансионат Зелёный Бор' 'деревня Ненимяки'\n",
      " 'поселок Пансионат Зелёный Бор' 'деревня Снегирёвка' 'деревня Рапполово'\n",
      " 'деревня Пустынка' 'поселок Рабитицы' 'деревня Большой Сабск'\n",
      " 'деревня Русско' 'деревня Лупполово' 'деревня Большое Рейзино'\n",
      " 'деревня Малая Романовка' 'поселок Дружноселье' 'поселок Пчевжа'\n",
      " 'поселок Володарское' 'деревня Нижняя' 'коттеджный посёлок Лесное'\n",
      " 'деревня Тихковицы' 'деревня Борисова Грива' 'посёлок Дзержинского']\n"
     ]
    }
   ],
   "source": [
    "print(data['locality_name'].unique()) #проверим все уникальные значения в столбце locality_name, чтобы по-возможности убрать неявные дубликаты"
   ]
  },
  {
   "cell_type": "markdown",
   "metadata": {},
   "source": [
    "Из неявных дубликатов, что удалось найти: поселок Мурино, Мурино, поселок Бугры, посёлок городского типа Красный Бор, городской посёлок Фёдоровское. "
   ]
  },
  {
   "cell_type": "code",
   "execution_count": 23,
   "metadata": {},
   "outputs": [],
   "source": [
    "data['locality_name'] = data['locality_name'].str.replace('поселок Мурино', 'посёлок Мурино')  #заменяем неявные дубликаты\n",
    "data['locality_name'] = data['locality_name'].str.replace('Мурино', 'посёлок Мурино')\n",
    "data['locality_name'] = data['locality_name'].str.replace('поселок Бугры', 'посёлок Бугры')\n",
    "data['locality_name'] = data['locality_name'].str.replace('посёлок городского типа Красный Бор', 'поселок городского типа Красный Бор')\n",
    "data['locality_name'] = data['locality_name'].str.replace('городской посёлок Фёдоровское', 'деревня Фёдоровское')\n"
   ]
  },
  {
   "cell_type": "markdown",
   "metadata": {},
   "source": [
    "<div class=\"alert alert-block alert-warning\">\n",
    "<b>🔁Комментарий ревьюера:</b>\n",
    "\n",
    "Тут  можно дополнительно сравнить количество уникальных значений до обработки названий населенных пунктов и после, чтобы увидеть результат проведенной работы. </div>"
   ]
  },
  {
   "cell_type": "markdown",
   "metadata": {},
   "source": [
    "**Вывод:** обработка данных была успешно проведена. В ходе предварительной обработки данных, заменили пропущенные значения, заменили неявные дубликаты, изменили тип столбцов. "
   ]
  },
  {
   "cell_type": "markdown",
   "metadata": {
    "id": "QCcvyY6YAwb-"
   },
   "source": [
    "### Добавьте в таблицу новые столбцы"
   ]
  },
  {
   "cell_type": "code",
   "execution_count": 24,
   "metadata": {
    "id": "Z8eJek3IAwb-"
   },
   "outputs": [],
   "source": [
    "data['price_for_one_meter'] = round(data['last_price'] / data['total_area'], 2) #создаем новый столбец c ценой за 1 кв.метр."
   ]
  },
  {
   "cell_type": "code",
   "execution_count": 25,
   "metadata": {},
   "outputs": [],
   "source": [
    "data['day_of_the_week_published'] = data['first_day_exposition'].dt.dayofweek #создаем новый столбец с днем недели публикации, где понедельник - 0, вск - 6"
   ]
  },
  {
   "cell_type": "code",
   "execution_count": 26,
   "metadata": {},
   "outputs": [],
   "source": [
    "data['month_published'] = data['first_day_exposition'].dt.month #создаем новый столбец с месяцем публикации"
   ]
  },
  {
   "cell_type": "code",
   "execution_count": 27,
   "metadata": {},
   "outputs": [],
   "source": [
    "data['year_published'] = data['first_day_exposition'].dt.year #создаем новый столбец с годом публикации"
   ]
  },
  {
   "cell_type": "code",
   "execution_count": 28,
   "metadata": {},
   "outputs": [],
   "source": [
    "def classify_floor(row):         #создадим новую таблицу floor_type с категоризованными данными об этаже\n",
    "    if row['floor'] == 1:\n",
    "        return 'первый'\n",
    "    elif row['floor'] == row['floors_total']:\n",
    "        return 'последний'\n",
    "    else:\n",
    "        return 'другой'\n",
    "    \n",
    "data['floor_type'] = data.apply(classify_floor, axis=1)"
   ]
  },
  {
   "cell_type": "code",
   "execution_count": 29,
   "metadata": {},
   "outputs": [],
   "source": [
    "data['distance_to_center'] = round(data['cityCenters_nearest'] / 1000) #cоздание таблицы с расстоянием до центра в км"
   ]
  },
  {
   "cell_type": "markdown",
   "metadata": {},
   "source": [
    "<div class=\"alert alert-block alert-danger\">\n",
    "<b>❌Комментарий ревьюера:</b>\n",
    "    \n",
    "    \n",
    "Расстояния до центра в километрах нужно округлить до целых чисел. </div>\n",
    "<div class=\"alert alert-block alert-info\">\n",
    "<b>🔄Комментарий студента:</b> \n",
    "Вроде бы все поправил\n",
    "</div>"
   ]
  },
  {
   "cell_type": "markdown",
   "metadata": {},
   "source": [
    "<div class=\"alert alert-block alert-success\">\n",
    "<b>✅Комментарий ревьюера 2:</b> Отлично, исправлено!👍  </div>"
   ]
  },
  {
   "cell_type": "code",
   "execution_count": 30,
   "metadata": {},
   "outputs": [
    {
     "data": {
      "text/html": [
       "<div>\n",
       "<style scoped>\n",
       "    .dataframe tbody tr th:only-of-type {\n",
       "        vertical-align: middle;\n",
       "    }\n",
       "\n",
       "    .dataframe tbody tr th {\n",
       "        vertical-align: top;\n",
       "    }\n",
       "\n",
       "    .dataframe thead th {\n",
       "        text-align: right;\n",
       "    }\n",
       "</style>\n",
       "<table border=\"1\" class=\"dataframe\">\n",
       "  <thead>\n",
       "    <tr style=\"text-align: right;\">\n",
       "      <th></th>\n",
       "      <th>total_images</th>\n",
       "      <th>last_price</th>\n",
       "      <th>total_area</th>\n",
       "      <th>first_day_exposition</th>\n",
       "      <th>rooms</th>\n",
       "      <th>ceiling_height</th>\n",
       "      <th>floors_total</th>\n",
       "      <th>living_area</th>\n",
       "      <th>floor</th>\n",
       "      <th>is_apartment</th>\n",
       "      <th>...</th>\n",
       "      <th>parks_nearest</th>\n",
       "      <th>ponds_around3000</th>\n",
       "      <th>ponds_nearest</th>\n",
       "      <th>days_exposition</th>\n",
       "      <th>price_for_one_meter</th>\n",
       "      <th>day_of_the_week_published</th>\n",
       "      <th>month_published</th>\n",
       "      <th>year_published</th>\n",
       "      <th>floor_type</th>\n",
       "      <th>distance_to_center</th>\n",
       "    </tr>\n",
       "  </thead>\n",
       "  <tbody>\n",
       "    <tr>\n",
       "      <th>0</th>\n",
       "      <td>20</td>\n",
       "      <td>13000000.0</td>\n",
       "      <td>108.0</td>\n",
       "      <td>2019-03-07</td>\n",
       "      <td>3</td>\n",
       "      <td>2.70</td>\n",
       "      <td>16.0</td>\n",
       "      <td>51.0</td>\n",
       "      <td>8</td>\n",
       "      <td>False</td>\n",
       "      <td>...</td>\n",
       "      <td>482.0</td>\n",
       "      <td>2.0</td>\n",
       "      <td>755.0</td>\n",
       "      <td>NaN</td>\n",
       "      <td>120370.37</td>\n",
       "      <td>3</td>\n",
       "      <td>3</td>\n",
       "      <td>2019</td>\n",
       "      <td>другой</td>\n",
       "      <td>16.0</td>\n",
       "    </tr>\n",
       "    <tr>\n",
       "      <th>1</th>\n",
       "      <td>7</td>\n",
       "      <td>3350000.0</td>\n",
       "      <td>40.4</td>\n",
       "      <td>2018-12-04</td>\n",
       "      <td>1</td>\n",
       "      <td>2.63</td>\n",
       "      <td>11.0</td>\n",
       "      <td>18.6</td>\n",
       "      <td>1</td>\n",
       "      <td>False</td>\n",
       "      <td>...</td>\n",
       "      <td>NaN</td>\n",
       "      <td>0.0</td>\n",
       "      <td>NaN</td>\n",
       "      <td>81.0</td>\n",
       "      <td>82920.79</td>\n",
       "      <td>1</td>\n",
       "      <td>12</td>\n",
       "      <td>2018</td>\n",
       "      <td>первый</td>\n",
       "      <td>19.0</td>\n",
       "    </tr>\n",
       "    <tr>\n",
       "      <th>2</th>\n",
       "      <td>10</td>\n",
       "      <td>5196000.0</td>\n",
       "      <td>56.0</td>\n",
       "      <td>2015-08-20</td>\n",
       "      <td>2</td>\n",
       "      <td>2.70</td>\n",
       "      <td>5.0</td>\n",
       "      <td>34.3</td>\n",
       "      <td>4</td>\n",
       "      <td>False</td>\n",
       "      <td>...</td>\n",
       "      <td>90.0</td>\n",
       "      <td>2.0</td>\n",
       "      <td>574.0</td>\n",
       "      <td>558.0</td>\n",
       "      <td>92785.71</td>\n",
       "      <td>3</td>\n",
       "      <td>8</td>\n",
       "      <td>2015</td>\n",
       "      <td>другой</td>\n",
       "      <td>14.0</td>\n",
       "    </tr>\n",
       "    <tr>\n",
       "      <th>3</th>\n",
       "      <td>0</td>\n",
       "      <td>64900000.0</td>\n",
       "      <td>159.0</td>\n",
       "      <td>2015-07-24</td>\n",
       "      <td>3</td>\n",
       "      <td>2.70</td>\n",
       "      <td>14.0</td>\n",
       "      <td>NaN</td>\n",
       "      <td>9</td>\n",
       "      <td>False</td>\n",
       "      <td>...</td>\n",
       "      <td>84.0</td>\n",
       "      <td>3.0</td>\n",
       "      <td>234.0</td>\n",
       "      <td>424.0</td>\n",
       "      <td>408176.10</td>\n",
       "      <td>4</td>\n",
       "      <td>7</td>\n",
       "      <td>2015</td>\n",
       "      <td>другой</td>\n",
       "      <td>7.0</td>\n",
       "    </tr>\n",
       "    <tr>\n",
       "      <th>4</th>\n",
       "      <td>2</td>\n",
       "      <td>10000000.0</td>\n",
       "      <td>100.0</td>\n",
       "      <td>2018-06-19</td>\n",
       "      <td>2</td>\n",
       "      <td>3.03</td>\n",
       "      <td>14.0</td>\n",
       "      <td>32.0</td>\n",
       "      <td>13</td>\n",
       "      <td>False</td>\n",
       "      <td>...</td>\n",
       "      <td>112.0</td>\n",
       "      <td>1.0</td>\n",
       "      <td>48.0</td>\n",
       "      <td>121.0</td>\n",
       "      <td>100000.00</td>\n",
       "      <td>1</td>\n",
       "      <td>6</td>\n",
       "      <td>2018</td>\n",
       "      <td>другой</td>\n",
       "      <td>8.0</td>\n",
       "    </tr>\n",
       "  </tbody>\n",
       "</table>\n",
       "<p>5 rows × 28 columns</p>\n",
       "</div>"
      ],
      "text/plain": [
       "   total_images  last_price  total_area first_day_exposition  rooms  \\\n",
       "0            20  13000000.0       108.0           2019-03-07      3   \n",
       "1             7   3350000.0        40.4           2018-12-04      1   \n",
       "2            10   5196000.0        56.0           2015-08-20      2   \n",
       "3             0  64900000.0       159.0           2015-07-24      3   \n",
       "4             2  10000000.0       100.0           2018-06-19      2   \n",
       "\n",
       "   ceiling_height  floors_total  living_area  floor  is_apartment  ...  \\\n",
       "0            2.70          16.0         51.0      8         False  ...   \n",
       "1            2.63          11.0         18.6      1         False  ...   \n",
       "2            2.70           5.0         34.3      4         False  ...   \n",
       "3            2.70          14.0          NaN      9         False  ...   \n",
       "4            3.03          14.0         32.0     13         False  ...   \n",
       "\n",
       "   parks_nearest  ponds_around3000  ponds_nearest  days_exposition  \\\n",
       "0          482.0               2.0          755.0              NaN   \n",
       "1            NaN               0.0            NaN             81.0   \n",
       "2           90.0               2.0          574.0            558.0   \n",
       "3           84.0               3.0          234.0            424.0   \n",
       "4          112.0               1.0           48.0            121.0   \n",
       "\n",
       "  price_for_one_meter  day_of_the_week_published  month_published  \\\n",
       "0           120370.37                          3                3   \n",
       "1            82920.79                          1               12   \n",
       "2            92785.71                          3                8   \n",
       "3           408176.10                          4                7   \n",
       "4           100000.00                          1                6   \n",
       "\n",
       "   year_published  floor_type  distance_to_center  \n",
       "0            2019      другой                16.0  \n",
       "1            2018      первый                19.0  \n",
       "2            2015      другой                14.0  \n",
       "3            2015      другой                 7.0  \n",
       "4            2018      другой                 8.0  \n",
       "\n",
       "[5 rows x 28 columns]"
      ]
     },
     "execution_count": 30,
     "metadata": {},
     "output_type": "execute_result"
    }
   ],
   "source": [
    "data.head() #повторный просмотр всех столбцов для проверки"
   ]
  },
  {
   "cell_type": "markdown",
   "metadata": {},
   "source": [
    "<div class=\"alert alert-block alert-warning\">\n",
    "<b>🔁Комментарий ревьюера:</b> \n",
    "    \n",
    "Выводить датафрейм на экран лучше в табличном виде (без использования функции `print()`), так будет гораздо понятнее и нагляднее.  </div>"
   ]
  },
  {
   "cell_type": "markdown",
   "metadata": {},
   "source": [
    "<div class=\"alert alert-block alert-success\">\n",
    "<b>✅Комментарий ревьюера 2:</b> Отлично, исправлено!👍  </div>"
   ]
  },
  {
   "cell_type": "markdown",
   "metadata": {
    "id": "pPyxrKWTAwb-"
   },
   "source": [
    "### Проведите исследовательский анализ данных"
   ]
  },
  {
   "cell_type": "markdown",
   "metadata": {},
   "source": [
    "<div class=\"alert alert-block alert-warning\">\n",
    "<b>🔁Комментарий ревьюера:</b>\n",
    "\n",
    "Из-за наличия больших значений графики получаются очень сжатыми и реальный диапазон значений очень сложно определить, можно рассмотреть его поближе, ограничив значения на оси с помощью `plt.xlim()`. Пример привел ниже</div>"
   ]
  },
  {
   "cell_type": "markdown",
   "metadata": {},
   "source": [
    "<div class=\"alert alert-block alert-success\">\n",
    "<b>✅Комментарий ревьюера 2:</b> Отлично, исправлено!👍  </div>"
   ]
  },
  {
   "cell_type": "code",
   "execution_count": 31,
   "metadata": {},
   "outputs": [
    {
     "data": {
      "image/png": "[encoded data removed]",
      "text/plain": [
       "<Figure size 1080x504 with 1 Axes>"
      ]
     },
     "metadata": {
      "needs_background": "light"
     },
     "output_type": "display_data"
    }
   ],
   "source": [
    "# код ревьюера\n",
    "data.query('total_area > 15') #удаление общей площади менее 15 кв. метров (нереалистично)\n",
    "data['total_area'].hist(bins = 200, figsize = (15, 7), color='#A7D2CB')\n",
    "plt.xlim(10, 150)\n",
    "\n",
    "plt.title('Распределение значений общей площади')\n",
    "plt.xlabel('Площадь') \n",
    "plt.ylabel('Количество объявлений')\n",
    "plt.show()\n",
    "#аномалий не найдено"
   ]
  },
  {
   "cell_type": "code",
   "execution_count": 32,
   "metadata": {},
   "outputs": [
    {
     "data": {
      "image/png": "[encoded data removed]",
      "text/plain": [
       "<Figure size 1080x504 with 1 Axes>"
      ]
     },
     "metadata": {
      "needs_background": "light"
     },
     "output_type": "display_data"
    }
   ],
   "source": [
    "data.query('living_area > 10') #удаление жилой площади менее 10 кв. метров (нереалистично)\n",
    "data['living_area'].hist(bins = 200, figsize = (15, 7), color='#A7D2CB')\n",
    "plt.xlim(10, 150)\n",
    "plt.title('Распределение значений жилой площади')\n",
    "plt.xlabel('Площадь') \n",
    "plt.ylabel('Количество объявлений')\n",
    "plt.show()\n",
    "#построение гистограммы для столбца living_area\n",
    "#аномалий в гистограмме не наблюдается"
   ]
  },
  {
   "cell_type": "markdown",
   "metadata": {},
   "source": [
    "<div class=\"alert alert-block alert-warning\">\n",
    "<b>🔁Комментарий ревьюера:</b> \n",
    "    \n",
    "Необходимо подписывать название для каждого графика и оси на нем. Есть [хорошая статья](https://devpractice.ru/matplotlib-lesson-3-3-text-elements/), которая подскажет как это правильно сделать). </div>\n",
    "<div class=\"alert alert-block alert-info\">\n",
    "<b>🔄Комментарий студента:</b> \n",
    "Вроде бы все поправил\n",
    "</div>"
   ]
  },
  {
   "cell_type": "code",
   "execution_count": 33,
   "metadata": {},
   "outputs": [
    {
     "data": {
      "image/png": "[encoded data removed]",
      "text/plain": [
       "<Figure size 1080x504 with 1 Axes>"
      ]
     },
     "metadata": {
      "needs_background": "light"
     },
     "output_type": "display_data"
    }
   ],
   "source": [
    "data = data.query('kitchen_area > 5') # удаление квартир с кухней менее 5 кв. метров (нереалистично)\n",
    "data['kitchen_area'].hist(bins = 200, figsize = (15, 7), color='#A7D2CB')\n",
    "plt.xlim(0, 60)\n",
    "plt.title('Распределение значений площади кухни')\n",
    "plt.xlabel('Площадь') \n",
    "plt.ylabel('Количество объявлений')\n",
    "plt.show()\n",
    "#аномалий в гистограмме не наблюдается"
   ]
  },
  {
   "cell_type": "code",
   "execution_count": 34,
   "metadata": {},
   "outputs": [
    {
     "data": {
      "image/png": "[encoded data removed]",
      "text/plain": [
       "<Figure size 1080x504 with 1 Axes>"
      ]
     },
     "metadata": {
      "needs_background": "light"
     },
     "output_type": "display_data"
    }
   ],
   "source": [
    "#есть очень дорогие квартиры (но их мало), поэтому можно задать верхний предел до 60 млн рублей и пренебречь \n",
    "#значениями дорогих квартир. \n",
    "data = data.query('last_price > 500000') #удаление квартир менее 500 тыс рублей (квартиры не могут стоить так дешево)\n",
    "data['last_price'].hist(bins = 200, figsize = (15, 7), color='#A7D2CB')\n",
    "plt.xlim(0, 30000000)\n",
    "plt.title('Распределение стоимости недвижимости')\n",
    "plt.xlabel('Стоимость') \n",
    "plt.ylabel('Количество объявлений')\n",
    "plt.show()\n",
    "#аномалий в гистограмме не наблюдается"
   ]
  },
  {
   "cell_type": "code",
   "execution_count": 35,
   "metadata": {},
   "outputs": [
    {
     "data": {
      "image/png": "[encoded data removed]",
      "text/plain": [
       "<Figure size 1080x504 with 1 Axes>"
      ]
     },
     "metadata": {
      "needs_background": "light"
     },
     "output_type": "display_data"
    }
   ],
   "source": [
    "#аномалий не найдено\n",
    "data['rooms'].hist(bins = 50, figsize = (15, 7), color='#A7D2CB')\n",
    "plt.title('Распределение количества комнат')\n",
    "plt.xlabel('Количество комнат')\n",
    "plt.ylabel('Количество объявлений')\n",
    "plt.show()\n",
    "#аномалий в гистограмме не наблюдается"
   ]
  },
  {
   "cell_type": "markdown",
   "metadata": {},
   "source": [
    "<div class=\"alert alert-block alert-warning\">\n",
    "<b>🔁Комментарий ревьюера:</b> \n",
    "    \n",
    "Для дискретных переменных лучше использовать барплот</div>"
   ]
  },
  {
   "cell_type": "code",
   "execution_count": 36,
   "metadata": {},
   "outputs": [
    {
     "data": {
      "image/png": "[encoded data removed]",
      "text/plain": [
       "<Figure size 1080x504 with 1 Axes>"
      ]
     },
     "metadata": {
      "needs_background": "light"
     },
     "output_type": "display_data"
    }
   ],
   "source": [
    "#построение гистограммы для столбца ceiling_height\n",
    "data = data.query('ceiling_height < 10') #удаление потолков более 10 метров (нереалистично)\n",
    "data = data.query('ceiling_height > 2') #удаление потолков менее 2 метров (нереалистично)\n",
    "data['ceiling_height'].hist(bins = 50, figsize = (15, 7), color='#A7D2CB')\n",
    "plt.xlim(2, 5)\n",
    "plt.title('Распределение высоты потолков')\n",
    "plt.xlabel('Высота потолков')\n",
    "plt.ylabel('Количество объявлений')\n",
    "plt.show()\n",
    "#аномалий в гистограмме не наблюдается"
   ]
  },
  {
   "cell_type": "markdown",
   "metadata": {},
   "source": [
    "<div class=\"alert alert-block alert-danger\">\n",
    "<b>❌Комментарий ревьюера:</b>\n",
    "    \n",
    "    \n",
    " - Следует рассматривать и аномально низкие значения тоже.\n",
    " - Визуализация получилась совсем неинформативной. По такому \"распределению\" сложно сделать какие-либо выводы.</div>\n",
    " <div class=\"alert alert-block alert-info\">\n",
    "<b>🔄Комментарий студента:</b> \n",
    "Вроде бы все поправил\n",
    "</div>"
   ]
  },
  {
   "cell_type": "markdown",
   "metadata": {},
   "source": [
    "<div class=\"alert alert-block alert-success\">\n",
    "<b>✅Комментарий ревьюера 2:</b> Отлично, исправлено!👍  </div>"
   ]
  },
  {
   "cell_type": "code",
   "execution_count": 37,
   "metadata": {},
   "outputs": [
    {
     "data": {
      "image/png": "[encoded data removed]",
      "text/plain": [
       "<Figure size 1080x504 with 1 Axes>"
      ]
     },
     "metadata": {
      "needs_background": "light"
     },
     "output_type": "display_data"
    }
   ],
   "source": [
    "#построение гистограммы для столбца floor_type\n",
    "\n",
    "data['floor_type'].hist(figsize = (15, 7), color='#A7D2CB')\n",
    "plt.title('Распределение групп объектов недвижимости по этажам')\n",
    "plt.xlabel('Тип этажа')\n",
    "plt.ylabel('Количество объявлений')\n",
    "plt.show()\n",
    "#аномалий в гистограмме не наблюдается\n",
    "#аномалий не найдено"
   ]
  },
  {
   "cell_type": "code",
   "execution_count": 38,
   "metadata": {},
   "outputs": [
    {
     "data": {
      "image/png": "[encoded data removed]",
      "text/plain": [
       "<Figure size 1080x504 with 1 Axes>"
      ]
     },
     "metadata": {
      "needs_background": "light"
     },
     "output_type": "display_data"
    }
   ],
   "source": [
    "#построение гистограммы для столбца floors_total\n",
    "data.query('floors_total > 5') #удаление нереалистичных показателей общего количества этажей (менее 5)\n",
    "data['floors_total'].hist(bins = 50, figsize = (15, 7), color='#A7D2CB')\n",
    "plt.title('Распределение количества этажей в доме')\n",
    "plt.xlabel('Количество этажей в доме')\n",
    "plt.ylabel('Количество объявлений')\n",
    "plt.show()\n",
    "#аномалий в гистограмме не наблюдается"
   ]
  },
  {
   "cell_type": "code",
   "execution_count": 39,
   "metadata": {},
   "outputs": [
    {
     "data": {
      "image/png": "[encoded data removed]",
      "text/plain": [
       "<Figure size 1080x504 with 1 Axes>"
      ]
     },
     "metadata": {
      "needs_background": "light"
     },
     "output_type": "display_data"
    }
   ],
   "source": [
    "#построение гистограммы для столбца cityCenters_nearest\n",
    "data['cityCenters_nearest'].hist(bins = 50, figsize = (15, 7), color='#A7D2CB')\n",
    "plt.title('Распределение расстояния до центра в метрах')\n",
    "plt.xlabel('Расстояние, метры')\n",
    "plt.ylabel('Количество объявлений')\n",
    "plt.show()\n",
    "#аномалий в гистограмме не наблюдается"
   ]
  },
  {
   "cell_type": "code",
   "execution_count": 40,
   "metadata": {},
   "outputs": [
    {
     "data": {
      "image/png": "[encoded data removed]",
      "text/plain": [
       "<Figure size 1080x504 with 1 Axes>"
      ]
     },
     "metadata": {
      "needs_background": "light"
     },
     "output_type": "display_data"
    }
   ],
   "source": [
    "#построение гистограммы для столбца parks_nearest\n",
    "data['parks_nearest'].hist(bins = 50, figsize = (15, 7), color='#A7D2CB')\n",
    "plt.title('Распределение расстояния до ближайшего парка')\n",
    "plt.xlabel('Расстояние, метры')\n",
    "plt.ylabel('Количество объявлений')\n",
    "plt.show()\n",
    "#аномалий в гистограмме не наблюдается"
   ]
  },
  {
   "cell_type": "markdown",
   "metadata": {},
   "source": [
    "<div class=\"alert alert-block alert-danger\">\n",
    "<b>❌Комментарий ревьюера 2:</b> \n",
    "    \n",
    "Видим результаты некорректного заполнения пропусков\n",
    "\n",
    "</div>\n",
    " <div class=\"alert alert-block alert-info\">\n",
    "<b>🔄Комментарий студента:</b> \n",
    "Вроде бы все поправил\n",
    "</div>"
   ]
  },
  {
   "cell_type": "markdown",
   "metadata": {},
   "source": [
    "<div class=\"alert alert-block alert-danger\">\n",
    "<b>❌Комментарий ревьюера 3:</b> \n",
    "\n",
    "В расстояниях до центра все еще видим пик, образованный в результате заполнения пропусков общей медианой\n",
    "\n",
    "</div>\n",
    "<div class=\"alert alert-block alert-info\">\n",
    "<b>🔄Комментарий студента 3:</b> \n",
    "Вроде бы все поправил, но пик все равно виднеется. \n",
    "</div>"
   ]
  },
  {
   "cell_type": "markdown",
   "id": "a9f80e94",
   "metadata": {},
   "source": [
    "<div class=\"alert alert-block alert-success\">\n",
    "<b>✅Комментарий ревьюера 4:</b> Отлично, исправлено!👍  </div>"
   ]
  },
  {
   "cell_type": "markdown",
   "metadata": {},
   "source": [
    "**Вывод:** Построили гистограммы и проверили данные на аномальные значения по таким параметрам, как:\n",
    "общая площадь;\n",
    "жилая площадь;\n",
    "площадь кухни;\n",
    "цена объекта;\n",
    "количество комнат;\n",
    "высота потолков;\n",
    "тип этажа квартиры («первый», «последний», «другой»);\n",
    "общее количество этажей в доме;\n",
    "расстояние до центра города в метрах;\n",
    "расстояние до ближайшего парка.\n",
    "\n",
    "Исправили значения, которые явно ошибочны/не допустимы для конкретных параметров.\n",
    "\n",
    "Из самых многочисленных квартир - одна, дву и трех-комнатные квартиры с общей площадью менее 100 кв. метров, жилой площадью менее 50 кв. метров, площадью кухни менее 10 кв. метров и с ценой до 10 млн. рублей."
   ]
  },
  {
   "cell_type": "code",
   "execution_count": 41,
   "metadata": {},
   "outputs": [
    {
     "data": {
      "image/png": "[encoded data removed]",
      "text/plain": [
       "<Figure size 1080x504 with 1 Axes>"
      ]
     },
     "metadata": {
      "needs_background": "light"
     },
     "output_type": "display_data"
    },
    {
     "data": {
      "text/plain": [
       "count    18009.000000\n",
       "mean       185.683492\n",
       "std        222.411208\n",
       "min          1.000000\n",
       "25%         45.000000\n",
       "50%        102.000000\n",
       "75%        239.000000\n",
       "max       1580.000000\n",
       "Name: days_exposition, dtype: float64"
      ]
     },
     "execution_count": 41,
     "metadata": {},
     "output_type": "execute_result"
    }
   ],
   "source": [
    "data['days_exposition'].hist(bins = 50, figsize = (15, 7), color='#A7D2CB')\n",
    "plt.title('Распределение количества дней до продажи')\n",
    "plt.xlabel('Количество дней до продажи')\n",
    "plt.ylabel('Количество объявлений')\n",
    "plt.show()\n",
    "data['days_exposition'].describe()"
   ]
  },
  {
   "cell_type": "markdown",
   "metadata": {},
   "source": [
    "<div class=\"alert alert-block alert-warning\">\n",
    "<b>🔁Комментарий ревьюера:</b>\n",
    "\n",
    "В качестве дополнительного инструмента для анализа можно использовать `describe()`</div>"
   ]
  },
  {
   "cell_type": "markdown",
   "metadata": {},
   "source": [
    "<div class=\"alert alert-block alert-success\">\n",
    "<b>✅Комментарий ревьюера 2:</b> Отлично, исправлено!👍  </div>"
   ]
  },
  {
   "cell_type": "markdown",
   "metadata": {},
   "source": [
    "**Вывод:** График похож на распределение Пуассона (что указывает на достоверность данных). Из гистограммы, среднего и медианного значения можно сделать вывод что 50% всех квартир обычно продается за 95 дней. Большая часть квартир продается за первые 200 дней. Также была выявлена отрицательная (заметная) корреляция между длительностью размещения объявления и годом публикации. Так как для других параметров корреляция очень слабая, делать выводы о быстрых или медленных продажах с учетом параметров квартир не логично. \n",
    "Продажи можно считать быстрыми до 45 дней, необычно долгими - после 239 дней.\n"
   ]
  },
  {
   "cell_type": "markdown",
   "metadata": {},
   "source": [
    "<div class=\"alert alert-block alert-warning\">\n",
    "<b>🔁Комментарий ревьюера 2:</b>\n",
    "\n",
    "При ответе на вопрос о быстрых и долгих продажах лучше обратить внимание на 25 и 75 квартили. </div>"
   ]
  },
  {
   "cell_type": "markdown",
   "metadata": {},
   "source": [
    "<div class=\"alert alert-block alert-success\">\n",
    "<b>✅Комментарий ревьюера 3:</b> Отлично, исправлено!👍  </div>"
   ]
  },
  {
   "cell_type": "markdown",
   "metadata": {},
   "source": [
    "<div class=\"alert alert-block alert-danger\">\n",
    "<b>❌Комментарий ревьюера:</b>\n",
    "    \n",
    "    \n",
    "Какие продажи можно считать быстрыми, а какие — необычно долгими? </div>\n",
    "<div class=\"alert alert-block alert-info\">\n",
    "<b>🔄Комментарий студента:</b> \n",
    "Вроде бы ответил выше\n",
    "</div>\n"
   ]
  },
  {
   "cell_type": "markdown",
   "metadata": {},
   "source": [
    "<div class=\"alert alert-block alert-success\">\n",
    "<b>✅Комментарий ревьюера 2:</b> Отлично, исправлено!👍  </div>"
   ]
  },
  {
   "cell_type": "markdown",
   "metadata": {},
   "source": [
    "Чтобы посмотреть насколько сильно влияют те или иные параметры на общую(полную) стоимость объекта, следует взглянуть на таблицу коэффицентов Пирсона для столбца last_price. Видны заметные зависимости для общей площади, жилой площади, площади кухни. А также выявлена зависимость для количества комнат (хоть и более слабая, чем для первых параметров). На полную стоимость объекта практически никак не оказывают ни этаж, ни дата размещения публикации. Поэтому следует вывести только график для общей площади, жилой площади, площади кухни."
   ]
  },
  {
   "cell_type": "code",
   "execution_count": 42,
   "metadata": {},
   "outputs": [
    {
     "data": {
      "text/html": [
       "<div>\n",
       "<style scoped>\n",
       "    .dataframe tbody tr th:only-of-type {\n",
       "        vertical-align: middle;\n",
       "    }\n",
       "\n",
       "    .dataframe tbody tr th {\n",
       "        vertical-align: top;\n",
       "    }\n",
       "\n",
       "    .dataframe thead th {\n",
       "        text-align: right;\n",
       "    }\n",
       "</style>\n",
       "<table border=\"1\" class=\"dataframe\">\n",
       "  <thead>\n",
       "    <tr style=\"text-align: right;\">\n",
       "      <th></th>\n",
       "      <th>total_images</th>\n",
       "      <th>last_price</th>\n",
       "      <th>total_area</th>\n",
       "      <th>rooms</th>\n",
       "      <th>ceiling_height</th>\n",
       "      <th>floors_total</th>\n",
       "      <th>living_area</th>\n",
       "      <th>floor</th>\n",
       "      <th>is_apartment</th>\n",
       "      <th>studio</th>\n",
       "      <th>...</th>\n",
       "      <th>parks_around3000</th>\n",
       "      <th>parks_nearest</th>\n",
       "      <th>ponds_around3000</th>\n",
       "      <th>ponds_nearest</th>\n",
       "      <th>days_exposition</th>\n",
       "      <th>price_for_one_meter</th>\n",
       "      <th>day_of_the_week_published</th>\n",
       "      <th>month_published</th>\n",
       "      <th>year_published</th>\n",
       "      <th>distance_to_center</th>\n",
       "    </tr>\n",
       "  </thead>\n",
       "  <tbody>\n",
       "    <tr>\n",
       "      <th>total_images</th>\n",
       "      <td>1.000000</td>\n",
       "      <td>0.109811</td>\n",
       "      <td>0.110470</td>\n",
       "      <td>0.092973</td>\n",
       "      <td>0.048481</td>\n",
       "      <td>0.013440</td>\n",
       "      <td>0.098480</td>\n",
       "      <td>0.033518</td>\n",
       "      <td>0.011489</td>\n",
       "      <td>NaN</td>\n",
       "      <td>...</td>\n",
       "      <td>0.022470</td>\n",
       "      <td>-0.008238</td>\n",
       "      <td>-0.010496</td>\n",
       "      <td>0.001095</td>\n",
       "      <td>-0.036525</td>\n",
       "      <td>0.136205</td>\n",
       "      <td>-0.010032</td>\n",
       "      <td>0.005190</td>\n",
       "      <td>0.153908</td>\n",
       "      <td>-0.048382</td>\n",
       "    </tr>\n",
       "    <tr>\n",
       "      <th>last_price</th>\n",
       "      <td>0.109811</td>\n",
       "      <td>1.000000</td>\n",
       "      <td>0.697196</td>\n",
       "      <td>0.392059</td>\n",
       "      <td>0.326003</td>\n",
       "      <td>-0.005897</td>\n",
       "      <td>0.602990</td>\n",
       "      <td>0.028808</td>\n",
       "      <td>0.037321</td>\n",
       "      <td>NaN</td>\n",
       "      <td>...</td>\n",
       "      <td>0.161846</td>\n",
       "      <td>-0.016830</td>\n",
       "      <td>0.173756</td>\n",
       "      <td>-0.101716</td>\n",
       "      <td>0.087770</td>\n",
       "      <td>0.739539</td>\n",
       "      <td>-0.006180</td>\n",
       "      <td>-0.001548</td>\n",
       "      <td>-0.041502</td>\n",
       "      <td>-0.226760</td>\n",
       "    </tr>\n",
       "    <tr>\n",
       "      <th>total_area</th>\n",
       "      <td>0.110470</td>\n",
       "      <td>0.697196</td>\n",
       "      <td>1.000000</td>\n",
       "      <td>0.766680</td>\n",
       "      <td>0.388466</td>\n",
       "      <td>-0.070302</td>\n",
       "      <td>0.939828</td>\n",
       "      <td>-0.019963</td>\n",
       "      <td>0.032862</td>\n",
       "      <td>NaN</td>\n",
       "      <td>...</td>\n",
       "      <td>0.162449</td>\n",
       "      <td>-0.020810</td>\n",
       "      <td>0.170055</td>\n",
       "      <td>-0.105390</td>\n",
       "      <td>0.143000</td>\n",
       "      <td>0.304814</td>\n",
       "      <td>-0.008287</td>\n",
       "      <td>0.003000</td>\n",
       "      <td>-0.078801</td>\n",
       "      <td>-0.233224</td>\n",
       "    </tr>\n",
       "    <tr>\n",
       "      <th>rooms</th>\n",
       "      <td>0.092973</td>\n",
       "      <td>0.392059</td>\n",
       "      <td>0.766680</td>\n",
       "      <td>1.000000</td>\n",
       "      <td>0.243579</td>\n",
       "      <td>-0.217164</td>\n",
       "      <td>0.851280</td>\n",
       "      <td>-0.142984</td>\n",
       "      <td>-0.004788</td>\n",
       "      <td>NaN</td>\n",
       "      <td>...</td>\n",
       "      <td>0.134997</td>\n",
       "      <td>-0.050160</td>\n",
       "      <td>0.099645</td>\n",
       "      <td>-0.060423</td>\n",
       "      <td>0.123436</td>\n",
       "      <td>0.057630</td>\n",
       "      <td>-0.003534</td>\n",
       "      <td>-0.003672</td>\n",
       "      <td>-0.054956</td>\n",
       "      <td>-0.193405</td>\n",
       "    </tr>\n",
       "    <tr>\n",
       "      <th>ceiling_height</th>\n",
       "      <td>0.048481</td>\n",
       "      <td>0.326003</td>\n",
       "      <td>0.388466</td>\n",
       "      <td>0.243579</td>\n",
       "      <td>1.000000</td>\n",
       "      <td>-0.051301</td>\n",
       "      <td>0.370760</td>\n",
       "      <td>-0.022461</td>\n",
       "      <td>0.060147</td>\n",
       "      <td>NaN</td>\n",
       "      <td>...</td>\n",
       "      <td>0.224117</td>\n",
       "      <td>-0.050522</td>\n",
       "      <td>0.185984</td>\n",
       "      <td>-0.112149</td>\n",
       "      <td>0.106024</td>\n",
       "      <td>0.321076</td>\n",
       "      <td>-0.018019</td>\n",
       "      <td>0.001383</td>\n",
       "      <td>-0.062294</td>\n",
       "      <td>-0.334777</td>\n",
       "    </tr>\n",
       "    <tr>\n",
       "      <th>floors_total</th>\n",
       "      <td>0.013440</td>\n",
       "      <td>-0.005897</td>\n",
       "      <td>-0.070302</td>\n",
       "      <td>-0.217164</td>\n",
       "      <td>-0.051301</td>\n",
       "      <td>1.000000</td>\n",
       "      <td>-0.167407</td>\n",
       "      <td>0.674756</td>\n",
       "      <td>-0.012844</td>\n",
       "      <td>NaN</td>\n",
       "      <td>...</td>\n",
       "      <td>-0.247603</td>\n",
       "      <td>0.095450</td>\n",
       "      <td>-0.123741</td>\n",
       "      <td>0.043533</td>\n",
       "      <td>-0.053563</td>\n",
       "      <td>0.148903</td>\n",
       "      <td>0.007860</td>\n",
       "      <td>0.016395</td>\n",
       "      <td>0.013591</td>\n",
       "      <td>0.027269</td>\n",
       "    </tr>\n",
       "    <tr>\n",
       "      <th>living_area</th>\n",
       "      <td>0.098480</td>\n",
       "      <td>0.602990</td>\n",
       "      <td>0.939828</td>\n",
       "      <td>0.851280</td>\n",
       "      <td>0.370760</td>\n",
       "      <td>-0.167407</td>\n",
       "      <td>1.000000</td>\n",
       "      <td>-0.095437</td>\n",
       "      <td>0.027319</td>\n",
       "      <td>NaN</td>\n",
       "      <td>...</td>\n",
       "      <td>0.183697</td>\n",
       "      <td>-0.049252</td>\n",
       "      <td>0.152390</td>\n",
       "      <td>-0.085036</td>\n",
       "      <td>0.139194</td>\n",
       "      <td>0.217462</td>\n",
       "      <td>-0.006993</td>\n",
       "      <td>-0.000676</td>\n",
       "      <td>-0.071954</td>\n",
       "      <td>-0.231341</td>\n",
       "    </tr>\n",
       "    <tr>\n",
       "      <th>floor</th>\n",
       "      <td>0.033518</td>\n",
       "      <td>0.028808</td>\n",
       "      <td>-0.019963</td>\n",
       "      <td>-0.142984</td>\n",
       "      <td>-0.022461</td>\n",
       "      <td>0.674756</td>\n",
       "      <td>-0.095437</td>\n",
       "      <td>1.000000</td>\n",
       "      <td>-0.001073</td>\n",
       "      <td>NaN</td>\n",
       "      <td>...</td>\n",
       "      <td>-0.160654</td>\n",
       "      <td>0.071813</td>\n",
       "      <td>-0.075923</td>\n",
       "      <td>0.028607</td>\n",
       "      <td>-0.039081</td>\n",
       "      <td>0.129599</td>\n",
       "      <td>0.008466</td>\n",
       "      <td>0.020141</td>\n",
       "      <td>0.009260</td>\n",
       "      <td>0.013303</td>\n",
       "    </tr>\n",
       "    <tr>\n",
       "      <th>is_apartment</th>\n",
       "      <td>0.011489</td>\n",
       "      <td>0.037321</td>\n",
       "      <td>0.032862</td>\n",
       "      <td>-0.004788</td>\n",
       "      <td>0.060147</td>\n",
       "      <td>-0.012844</td>\n",
       "      <td>0.027319</td>\n",
       "      <td>-0.001073</td>\n",
       "      <td>1.000000</td>\n",
       "      <td>NaN</td>\n",
       "      <td>...</td>\n",
       "      <td>0.012832</td>\n",
       "      <td>-0.027326</td>\n",
       "      <td>0.018181</td>\n",
       "      <td>0.008572</td>\n",
       "      <td>0.033942</td>\n",
       "      <td>0.047295</td>\n",
       "      <td>-0.003603</td>\n",
       "      <td>0.008564</td>\n",
       "      <td>-0.006111</td>\n",
       "      <td>-0.004679</td>\n",
       "    </tr>\n",
       "    <tr>\n",
       "      <th>studio</th>\n",
       "      <td>NaN</td>\n",
       "      <td>NaN</td>\n",
       "      <td>NaN</td>\n",
       "      <td>NaN</td>\n",
       "      <td>NaN</td>\n",
       "      <td>NaN</td>\n",
       "      <td>NaN</td>\n",
       "      <td>NaN</td>\n",
       "      <td>NaN</td>\n",
       "      <td>NaN</td>\n",
       "      <td>...</td>\n",
       "      <td>NaN</td>\n",
       "      <td>NaN</td>\n",
       "      <td>NaN</td>\n",
       "      <td>NaN</td>\n",
       "      <td>NaN</td>\n",
       "      <td>NaN</td>\n",
       "      <td>NaN</td>\n",
       "      <td>NaN</td>\n",
       "      <td>NaN</td>\n",
       "      <td>NaN</td>\n",
       "    </tr>\n",
       "    <tr>\n",
       "      <th>open_plan</th>\n",
       "      <td>NaN</td>\n",
       "      <td>NaN</td>\n",
       "      <td>NaN</td>\n",
       "      <td>NaN</td>\n",
       "      <td>NaN</td>\n",
       "      <td>NaN</td>\n",
       "      <td>NaN</td>\n",
       "      <td>NaN</td>\n",
       "      <td>NaN</td>\n",
       "      <td>NaN</td>\n",
       "      <td>...</td>\n",
       "      <td>NaN</td>\n",
       "      <td>NaN</td>\n",
       "      <td>NaN</td>\n",
       "      <td>NaN</td>\n",
       "      <td>NaN</td>\n",
       "      <td>NaN</td>\n",
       "      <td>NaN</td>\n",
       "      <td>NaN</td>\n",
       "      <td>NaN</td>\n",
       "      <td>NaN</td>\n",
       "    </tr>\n",
       "    <tr>\n",
       "      <th>kitchen_area</th>\n",
       "      <td>0.101060</td>\n",
       "      <td>0.519511</td>\n",
       "      <td>0.606855</td>\n",
       "      <td>0.271419</td>\n",
       "      <td>0.330848</td>\n",
       "      <td>0.151793</td>\n",
       "      <td>0.428016</td>\n",
       "      <td>0.127136</td>\n",
       "      <td>0.054337</td>\n",
       "      <td>NaN</td>\n",
       "      <td>...</td>\n",
       "      <td>0.090051</td>\n",
       "      <td>0.027599</td>\n",
       "      <td>0.153886</td>\n",
       "      <td>-0.103796</td>\n",
       "      <td>0.102753</td>\n",
       "      <td>0.398523</td>\n",
       "      <td>-0.010750</td>\n",
       "      <td>0.001570</td>\n",
       "      <td>-0.057070</td>\n",
       "      <td>-0.185056</td>\n",
       "    </tr>\n",
       "    <tr>\n",
       "      <th>balcony</th>\n",
       "      <td>0.034684</td>\n",
       "      <td>0.005144</td>\n",
       "      <td>0.009455</td>\n",
       "      <td>-0.014272</td>\n",
       "      <td>-0.053617</td>\n",
       "      <td>0.178355</td>\n",
       "      <td>-0.016833</td>\n",
       "      <td>0.175141</td>\n",
       "      <td>0.038692</td>\n",
       "      <td>NaN</td>\n",
       "      <td>...</td>\n",
       "      <td>-0.078494</td>\n",
       "      <td>0.036233</td>\n",
       "      <td>-0.039851</td>\n",
       "      <td>0.019882</td>\n",
       "      <td>-0.037122</td>\n",
       "      <td>0.018784</td>\n",
       "      <td>0.005347</td>\n",
       "      <td>0.008919</td>\n",
       "      <td>0.004224</td>\n",
       "      <td>0.071691</td>\n",
       "    </tr>\n",
       "    <tr>\n",
       "      <th>airports_nearest</th>\n",
       "      <td>-0.005894</td>\n",
       "      <td>-0.031921</td>\n",
       "      <td>-0.039689</td>\n",
       "      <td>-0.071897</td>\n",
       "      <td>-0.091088</td>\n",
       "      <td>0.113598</td>\n",
       "      <td>-0.062811</td>\n",
       "      <td>0.078255</td>\n",
       "      <td>0.002208</td>\n",
       "      <td>NaN</td>\n",
       "      <td>...</td>\n",
       "      <td>0.000069</td>\n",
       "      <td>-0.073973</td>\n",
       "      <td>-0.054438</td>\n",
       "      <td>0.019422</td>\n",
       "      <td>-0.020372</td>\n",
       "      <td>-0.040463</td>\n",
       "      <td>-0.000212</td>\n",
       "      <td>0.001303</td>\n",
       "      <td>0.005677</td>\n",
       "      <td>0.273125</td>\n",
       "    </tr>\n",
       "    <tr>\n",
       "      <th>cityCenters_nearest</th>\n",
       "      <td>-0.048917</td>\n",
       "      <td>-0.226217</td>\n",
       "      <td>-0.233206</td>\n",
       "      <td>-0.193742</td>\n",
       "      <td>-0.334622</td>\n",
       "      <td>0.027953</td>\n",
       "      <td>-0.231637</td>\n",
       "      <td>0.013905</td>\n",
       "      <td>-0.004802</td>\n",
       "      <td>NaN</td>\n",
       "      <td>...</td>\n",
       "      <td>-0.163809</td>\n",
       "      <td>-0.034377</td>\n",
       "      <td>-0.077123</td>\n",
       "      <td>0.032058</td>\n",
       "      <td>-0.064948</td>\n",
       "      <td>-0.325969</td>\n",
       "      <td>0.009889</td>\n",
       "      <td>-0.012465</td>\n",
       "      <td>0.029681</td>\n",
       "      <td>0.999445</td>\n",
       "    </tr>\n",
       "    <tr>\n",
       "      <th>parks_around3000</th>\n",
       "      <td>0.022470</td>\n",
       "      <td>0.161846</td>\n",
       "      <td>0.162449</td>\n",
       "      <td>0.134997</td>\n",
       "      <td>0.224117</td>\n",
       "      <td>-0.247603</td>\n",
       "      <td>0.183697</td>\n",
       "      <td>-0.160654</td>\n",
       "      <td>0.012832</td>\n",
       "      <td>NaN</td>\n",
       "      <td>...</td>\n",
       "      <td>1.000000</td>\n",
       "      <td>-0.255978</td>\n",
       "      <td>0.303570</td>\n",
       "      <td>-0.165193</td>\n",
       "      <td>0.060178</td>\n",
       "      <td>0.188844</td>\n",
       "      <td>-0.007841</td>\n",
       "      <td>0.000375</td>\n",
       "      <td>-0.042187</td>\n",
       "      <td>-0.164654</td>\n",
       "    </tr>\n",
       "    <tr>\n",
       "      <th>parks_nearest</th>\n",
       "      <td>-0.008238</td>\n",
       "      <td>-0.016830</td>\n",
       "      <td>-0.020810</td>\n",
       "      <td>-0.050160</td>\n",
       "      <td>-0.050522</td>\n",
       "      <td>0.095450</td>\n",
       "      <td>-0.049252</td>\n",
       "      <td>0.071813</td>\n",
       "      <td>-0.027326</td>\n",
       "      <td>NaN</td>\n",
       "      <td>...</td>\n",
       "      <td>-0.255978</td>\n",
       "      <td>1.000000</td>\n",
       "      <td>0.070817</td>\n",
       "      <td>0.001073</td>\n",
       "      <td>0.021435</td>\n",
       "      <td>0.006947</td>\n",
       "      <td>-0.014214</td>\n",
       "      <td>0.020321</td>\n",
       "      <td>-0.016178</td>\n",
       "      <td>-0.033821</td>\n",
       "    </tr>\n",
       "    <tr>\n",
       "      <th>ponds_around3000</th>\n",
       "      <td>-0.010496</td>\n",
       "      <td>0.173756</td>\n",
       "      <td>0.170055</td>\n",
       "      <td>0.099645</td>\n",
       "      <td>0.185984</td>\n",
       "      <td>-0.123741</td>\n",
       "      <td>0.152390</td>\n",
       "      <td>-0.075923</td>\n",
       "      <td>0.018181</td>\n",
       "      <td>NaN</td>\n",
       "      <td>...</td>\n",
       "      <td>0.303570</td>\n",
       "      <td>0.070817</td>\n",
       "      <td>1.000000</td>\n",
       "      <td>-0.339387</td>\n",
       "      <td>0.074110</td>\n",
       "      <td>0.194326</td>\n",
       "      <td>0.003032</td>\n",
       "      <td>-0.007411</td>\n",
       "      <td>-0.038392</td>\n",
       "      <td>-0.078692</td>\n",
       "    </tr>\n",
       "    <tr>\n",
       "      <th>ponds_nearest</th>\n",
       "      <td>0.001095</td>\n",
       "      <td>-0.101716</td>\n",
       "      <td>-0.105390</td>\n",
       "      <td>-0.060423</td>\n",
       "      <td>-0.112149</td>\n",
       "      <td>0.043533</td>\n",
       "      <td>-0.085036</td>\n",
       "      <td>0.028607</td>\n",
       "      <td>0.008572</td>\n",
       "      <td>NaN</td>\n",
       "      <td>...</td>\n",
       "      <td>-0.165193</td>\n",
       "      <td>0.001073</td>\n",
       "      <td>-0.339387</td>\n",
       "      <td>1.000000</td>\n",
       "      <td>-0.080028</td>\n",
       "      <td>-0.106666</td>\n",
       "      <td>-0.011054</td>\n",
       "      <td>0.015353</td>\n",
       "      <td>0.032484</td>\n",
       "      <td>0.034467</td>\n",
       "    </tr>\n",
       "    <tr>\n",
       "      <th>days_exposition</th>\n",
       "      <td>-0.036525</td>\n",
       "      <td>0.087770</td>\n",
       "      <td>0.143000</td>\n",
       "      <td>0.123436</td>\n",
       "      <td>0.106024</td>\n",
       "      <td>-0.053563</td>\n",
       "      <td>0.139194</td>\n",
       "      <td>-0.039081</td>\n",
       "      <td>0.033942</td>\n",
       "      <td>NaN</td>\n",
       "      <td>...</td>\n",
       "      <td>0.060178</td>\n",
       "      <td>0.021435</td>\n",
       "      <td>0.074110</td>\n",
       "      <td>-0.080028</td>\n",
       "      <td>1.000000</td>\n",
       "      <td>0.047634</td>\n",
       "      <td>-0.025473</td>\n",
       "      <td>-0.042168</td>\n",
       "      <td>-0.610574</td>\n",
       "      <td>-0.065038</td>\n",
       "    </tr>\n",
       "    <tr>\n",
       "      <th>price_for_one_meter</th>\n",
       "      <td>0.136205</td>\n",
       "      <td>0.739539</td>\n",
       "      <td>0.304814</td>\n",
       "      <td>0.057630</td>\n",
       "      <td>0.321076</td>\n",
       "      <td>0.148903</td>\n",
       "      <td>0.217462</td>\n",
       "      <td>0.129599</td>\n",
       "      <td>0.047295</td>\n",
       "      <td>NaN</td>\n",
       "      <td>...</td>\n",
       "      <td>0.188844</td>\n",
       "      <td>0.006947</td>\n",
       "      <td>0.194326</td>\n",
       "      <td>-0.106666</td>\n",
       "      <td>0.047634</td>\n",
       "      <td>1.000000</td>\n",
       "      <td>-0.012040</td>\n",
       "      <td>-0.006004</td>\n",
       "      <td>0.013211</td>\n",
       "      <td>-0.326903</td>\n",
       "    </tr>\n",
       "    <tr>\n",
       "      <th>day_of_the_week_published</th>\n",
       "      <td>-0.010032</td>\n",
       "      <td>-0.006180</td>\n",
       "      <td>-0.008287</td>\n",
       "      <td>-0.003534</td>\n",
       "      <td>-0.018019</td>\n",
       "      <td>0.007860</td>\n",
       "      <td>-0.006993</td>\n",
       "      <td>0.008466</td>\n",
       "      <td>-0.003603</td>\n",
       "      <td>NaN</td>\n",
       "      <td>...</td>\n",
       "      <td>-0.007841</td>\n",
       "      <td>-0.014214</td>\n",
       "      <td>0.003032</td>\n",
       "      <td>-0.011054</td>\n",
       "      <td>-0.025473</td>\n",
       "      <td>-0.012040</td>\n",
       "      <td>1.000000</td>\n",
       "      <td>0.010244</td>\n",
       "      <td>-0.005191</td>\n",
       "      <td>0.009712</td>\n",
       "    </tr>\n",
       "    <tr>\n",
       "      <th>month_published</th>\n",
       "      <td>0.005190</td>\n",
       "      <td>-0.001548</td>\n",
       "      <td>0.003000</td>\n",
       "      <td>-0.003672</td>\n",
       "      <td>0.001383</td>\n",
       "      <td>0.016395</td>\n",
       "      <td>-0.000676</td>\n",
       "      <td>0.020141</td>\n",
       "      <td>0.008564</td>\n",
       "      <td>NaN</td>\n",
       "      <td>...</td>\n",
       "      <td>0.000375</td>\n",
       "      <td>0.020321</td>\n",
       "      <td>-0.007411</td>\n",
       "      <td>0.015353</td>\n",
       "      <td>-0.042168</td>\n",
       "      <td>-0.006004</td>\n",
       "      <td>0.010244</td>\n",
       "      <td>1.000000</td>\n",
       "      <td>-0.258483</td>\n",
       "      <td>-0.012655</td>\n",
       "    </tr>\n",
       "    <tr>\n",
       "      <th>year_published</th>\n",
       "      <td>0.153908</td>\n",
       "      <td>-0.041502</td>\n",
       "      <td>-0.078801</td>\n",
       "      <td>-0.054956</td>\n",
       "      <td>-0.062294</td>\n",
       "      <td>0.013591</td>\n",
       "      <td>-0.071954</td>\n",
       "      <td>0.009260</td>\n",
       "      <td>-0.006111</td>\n",
       "      <td>NaN</td>\n",
       "      <td>...</td>\n",
       "      <td>-0.042187</td>\n",
       "      <td>-0.016178</td>\n",
       "      <td>-0.038392</td>\n",
       "      <td>0.032484</td>\n",
       "      <td>-0.610574</td>\n",
       "      <td>0.013211</td>\n",
       "      <td>-0.005191</td>\n",
       "      <td>-0.258483</td>\n",
       "      <td>1.000000</td>\n",
       "      <td>0.029970</td>\n",
       "    </tr>\n",
       "    <tr>\n",
       "      <th>distance_to_center</th>\n",
       "      <td>-0.048382</td>\n",
       "      <td>-0.226760</td>\n",
       "      <td>-0.233224</td>\n",
       "      <td>-0.193405</td>\n",
       "      <td>-0.334777</td>\n",
       "      <td>0.027269</td>\n",
       "      <td>-0.231341</td>\n",
       "      <td>0.013303</td>\n",
       "      <td>-0.004679</td>\n",
       "      <td>NaN</td>\n",
       "      <td>...</td>\n",
       "      <td>-0.164654</td>\n",
       "      <td>-0.033821</td>\n",
       "      <td>-0.078692</td>\n",
       "      <td>0.034467</td>\n",
       "      <td>-0.065038</td>\n",
       "      <td>-0.326903</td>\n",
       "      <td>0.009712</td>\n",
       "      <td>-0.012655</td>\n",
       "      <td>0.029970</td>\n",
       "      <td>1.000000</td>\n",
       "    </tr>\n",
       "  </tbody>\n",
       "</table>\n",
       "<p>25 rows × 25 columns</p>\n",
       "</div>"
      ],
      "text/plain": [
       "                           total_images  last_price  total_area     rooms  \\\n",
       "total_images                   1.000000    0.109811    0.110470  0.092973   \n",
       "last_price                     0.109811    1.000000    0.697196  0.392059   \n",
       "total_area                     0.110470    0.697196    1.000000  0.766680   \n",
       "rooms                          0.092973    0.392059    0.766680  1.000000   \n",
       "ceiling_height                 0.048481    0.326003    0.388466  0.243579   \n",
       "floors_total                   0.013440   -0.005897   -0.070302 -0.217164   \n",
       "living_area                    0.098480    0.602990    0.939828  0.851280   \n",
       "floor                          0.033518    0.028808   -0.019963 -0.142984   \n",
       "is_apartment                   0.011489    0.037321    0.032862 -0.004788   \n",
       "studio                              NaN         NaN         NaN       NaN   \n",
       "open_plan                           NaN         NaN         NaN       NaN   \n",
       "kitchen_area                   0.101060    0.519511    0.606855  0.271419   \n",
       "balcony                        0.034684    0.005144    0.009455 -0.014272   \n",
       "airports_nearest              -0.005894   -0.031921   -0.039689 -0.071897   \n",
       "cityCenters_nearest           -0.048917   -0.226217   -0.233206 -0.193742   \n",
       "parks_around3000               0.022470    0.161846    0.162449  0.134997   \n",
       "parks_nearest                 -0.008238   -0.016830   -0.020810 -0.050160   \n",
       "ponds_around3000              -0.010496    0.173756    0.170055  0.099645   \n",
       "ponds_nearest                  0.001095   -0.101716   -0.105390 -0.060423   \n",
       "days_exposition               -0.036525    0.087770    0.143000  0.123436   \n",
       "price_for_one_meter            0.136205    0.739539    0.304814  0.057630   \n",
       "day_of_the_week_published     -0.010032   -0.006180   -0.008287 -0.003534   \n",
       "month_published                0.005190   -0.001548    0.003000 -0.003672   \n",
       "year_published                 0.153908   -0.041502   -0.078801 -0.054956   \n",
       "distance_to_center            -0.048382   -0.226760   -0.233224 -0.193405   \n",
       "\n",
       "                           ceiling_height  floors_total  living_area  \\\n",
       "total_images                     0.048481      0.013440     0.098480   \n",
       "last_price                       0.326003     -0.005897     0.602990   \n",
       "total_area                       0.388466     -0.070302     0.939828   \n",
       "rooms                            0.243579     -0.217164     0.851280   \n",
       "ceiling_height                   1.000000     -0.051301     0.370760   \n",
       "floors_total                    -0.051301      1.000000    -0.167407   \n",
       "living_area                      0.370760     -0.167407     1.000000   \n",
       "floor                           -0.022461      0.674756    -0.095437   \n",
       "is_apartment                     0.060147     -0.012844     0.027319   \n",
       "studio                                NaN           NaN          NaN   \n",
       "open_plan                             NaN           NaN          NaN   \n",
       "kitchen_area                     0.330848      0.151793     0.428016   \n",
       "balcony                         -0.053617      0.178355    -0.016833   \n",
       "airports_nearest                -0.091088      0.113598    -0.062811   \n",
       "cityCenters_nearest             -0.334622      0.027953    -0.231637   \n",
       "parks_around3000                 0.224117     -0.247603     0.183697   \n",
       "parks_nearest                   -0.050522      0.095450    -0.049252   \n",
       "ponds_around3000                 0.185984     -0.123741     0.152390   \n",
       "ponds_nearest                   -0.112149      0.043533    -0.085036   \n",
       "days_exposition                  0.106024     -0.053563     0.139194   \n",
       "price_for_one_meter              0.321076      0.148903     0.217462   \n",
       "day_of_the_week_published       -0.018019      0.007860    -0.006993   \n",
       "month_published                  0.001383      0.016395    -0.000676   \n",
       "year_published                  -0.062294      0.013591    -0.071954   \n",
       "distance_to_center              -0.334777      0.027269    -0.231341   \n",
       "\n",
       "                              floor  is_apartment  studio  ...  \\\n",
       "total_images               0.033518      0.011489     NaN  ...   \n",
       "last_price                 0.028808      0.037321     NaN  ...   \n",
       "total_area                -0.019963      0.032862     NaN  ...   \n",
       "rooms                     -0.142984     -0.004788     NaN  ...   \n",
       "ceiling_height            -0.022461      0.060147     NaN  ...   \n",
       "floors_total               0.674756     -0.012844     NaN  ...   \n",
       "living_area               -0.095437      0.027319     NaN  ...   \n",
       "floor                      1.000000     -0.001073     NaN  ...   \n",
       "is_apartment              -0.001073      1.000000     NaN  ...   \n",
       "studio                          NaN           NaN     NaN  ...   \n",
       "open_plan                       NaN           NaN     NaN  ...   \n",
       "kitchen_area               0.127136      0.054337     NaN  ...   \n",
       "balcony                    0.175141      0.038692     NaN  ...   \n",
       "airports_nearest           0.078255      0.002208     NaN  ...   \n",
       "cityCenters_nearest        0.013905     -0.004802     NaN  ...   \n",
       "parks_around3000          -0.160654      0.012832     NaN  ...   \n",
       "parks_nearest              0.071813     -0.027326     NaN  ...   \n",
       "ponds_around3000          -0.075923      0.018181     NaN  ...   \n",
       "ponds_nearest              0.028607      0.008572     NaN  ...   \n",
       "days_exposition           -0.039081      0.033942     NaN  ...   \n",
       "price_for_one_meter        0.129599      0.047295     NaN  ...   \n",
       "day_of_the_week_published  0.008466     -0.003603     NaN  ...   \n",
       "month_published            0.020141      0.008564     NaN  ...   \n",
       "year_published             0.009260     -0.006111     NaN  ...   \n",
       "distance_to_center         0.013303     -0.004679     NaN  ...   \n",
       "\n",
       "                           parks_around3000  parks_nearest  ponds_around3000  \\\n",
       "total_images                       0.022470      -0.008238         -0.010496   \n",
       "last_price                         0.161846      -0.016830          0.173756   \n",
       "total_area                         0.162449      -0.020810          0.170055   \n",
       "rooms                              0.134997      -0.050160          0.099645   \n",
       "ceiling_height                     0.224117      -0.050522          0.185984   \n",
       "floors_total                      -0.247603       0.095450         -0.123741   \n",
       "living_area                        0.183697      -0.049252          0.152390   \n",
       "floor                             -0.160654       0.071813         -0.075923   \n",
       "is_apartment                       0.012832      -0.027326          0.018181   \n",
       "studio                                  NaN            NaN               NaN   \n",
       "open_plan                               NaN            NaN               NaN   \n",
       "kitchen_area                       0.090051       0.027599          0.153886   \n",
       "balcony                           -0.078494       0.036233         -0.039851   \n",
       "airports_nearest                   0.000069      -0.073973         -0.054438   \n",
       "cityCenters_nearest               -0.163809      -0.034377         -0.077123   \n",
       "parks_around3000                   1.000000      -0.255978          0.303570   \n",
       "parks_nearest                     -0.255978       1.000000          0.070817   \n",
       "ponds_around3000                   0.303570       0.070817          1.000000   \n",
       "ponds_nearest                     -0.165193       0.001073         -0.339387   \n",
       "days_exposition                    0.060178       0.021435          0.074110   \n",
       "price_for_one_meter                0.188844       0.006947          0.194326   \n",
       "day_of_the_week_published         -0.007841      -0.014214          0.003032   \n",
       "month_published                    0.000375       0.020321         -0.007411   \n",
       "year_published                    -0.042187      -0.016178         -0.038392   \n",
       "distance_to_center                -0.164654      -0.033821         -0.078692   \n",
       "\n",
       "                           ponds_nearest  days_exposition  \\\n",
       "total_images                    0.001095        -0.036525   \n",
       "last_price                     -0.101716         0.087770   \n",
       "total_area                     -0.105390         0.143000   \n",
       "rooms                          -0.060423         0.123436   \n",
       "ceiling_height                 -0.112149         0.106024   \n",
       "floors_total                    0.043533        -0.053563   \n",
       "living_area                    -0.085036         0.139194   \n",
       "floor                           0.028607        -0.039081   \n",
       "is_apartment                    0.008572         0.033942   \n",
       "studio                               NaN              NaN   \n",
       "open_plan                            NaN              NaN   \n",
       "kitchen_area                   -0.103796         0.102753   \n",
       "balcony                         0.019882        -0.037122   \n",
       "airports_nearest                0.019422        -0.020372   \n",
       "cityCenters_nearest             0.032058        -0.064948   \n",
       "parks_around3000               -0.165193         0.060178   \n",
       "parks_nearest                   0.001073         0.021435   \n",
       "ponds_around3000               -0.339387         0.074110   \n",
       "ponds_nearest                   1.000000        -0.080028   \n",
       "days_exposition                -0.080028         1.000000   \n",
       "price_for_one_meter            -0.106666         0.047634   \n",
       "day_of_the_week_published      -0.011054        -0.025473   \n",
       "month_published                 0.015353        -0.042168   \n",
       "year_published                  0.032484        -0.610574   \n",
       "distance_to_center              0.034467        -0.065038   \n",
       "\n",
       "                           price_for_one_meter  day_of_the_week_published  \\\n",
       "total_images                          0.136205                  -0.010032   \n",
       "last_price                            0.739539                  -0.006180   \n",
       "total_area                            0.304814                  -0.008287   \n",
       "rooms                                 0.057630                  -0.003534   \n",
       "ceiling_height                        0.321076                  -0.018019   \n",
       "floors_total                          0.148903                   0.007860   \n",
       "living_area                           0.217462                  -0.006993   \n",
       "floor                                 0.129599                   0.008466   \n",
       "is_apartment                          0.047295                  -0.003603   \n",
       "studio                                     NaN                        NaN   \n",
       "open_plan                                  NaN                        NaN   \n",
       "kitchen_area                          0.398523                  -0.010750   \n",
       "balcony                               0.018784                   0.005347   \n",
       "airports_nearest                     -0.040463                  -0.000212   \n",
       "cityCenters_nearest                  -0.325969                   0.009889   \n",
       "parks_around3000                      0.188844                  -0.007841   \n",
       "parks_nearest                         0.006947                  -0.014214   \n",
       "ponds_around3000                      0.194326                   0.003032   \n",
       "ponds_nearest                        -0.106666                  -0.011054   \n",
       "days_exposition                       0.047634                  -0.025473   \n",
       "price_for_one_meter                   1.000000                  -0.012040   \n",
       "day_of_the_week_published            -0.012040                   1.000000   \n",
       "month_published                      -0.006004                   0.010244   \n",
       "year_published                        0.013211                  -0.005191   \n",
       "distance_to_center                   -0.326903                   0.009712   \n",
       "\n",
       "                           month_published  year_published  distance_to_center  \n",
       "total_images                      0.005190        0.153908           -0.048382  \n",
       "last_price                       -0.001548       -0.041502           -0.226760  \n",
       "total_area                        0.003000       -0.078801           -0.233224  \n",
       "rooms                            -0.003672       -0.054956           -0.193405  \n",
       "ceiling_height                    0.001383       -0.062294           -0.334777  \n",
       "floors_total                      0.016395        0.013591            0.027269  \n",
       "living_area                      -0.000676       -0.071954           -0.231341  \n",
       "floor                             0.020141        0.009260            0.013303  \n",
       "is_apartment                      0.008564       -0.006111           -0.004679  \n",
       "studio                                 NaN             NaN                 NaN  \n",
       "open_plan                              NaN             NaN                 NaN  \n",
       "kitchen_area                      0.001570       -0.057070           -0.185056  \n",
       "balcony                           0.008919        0.004224            0.071691  \n",
       "airports_nearest                  0.001303        0.005677            0.273125  \n",
       "cityCenters_nearest              -0.012465        0.029681            0.999445  \n",
       "parks_around3000                  0.000375       -0.042187           -0.164654  \n",
       "parks_nearest                     0.020321       -0.016178           -0.033821  \n",
       "ponds_around3000                 -0.007411       -0.038392           -0.078692  \n",
       "ponds_nearest                     0.015353        0.032484            0.034467  \n",
       "days_exposition                  -0.042168       -0.610574           -0.065038  \n",
       "price_for_one_meter              -0.006004        0.013211           -0.326903  \n",
       "day_of_the_week_published         0.010244       -0.005191            0.009712  \n",
       "month_published                   1.000000       -0.258483           -0.012655  \n",
       "year_published                   -0.258483        1.000000            0.029970  \n",
       "distance_to_center               -0.012655        0.029970            1.000000  \n",
       "\n",
       "[25 rows x 25 columns]"
      ]
     },
     "execution_count": 42,
     "metadata": {},
     "output_type": "execute_result"
    }
   ],
   "source": [
    "data.corr() #выведем для всех столбцов график корреляции Пирсона, который поможет нам узнать взаимосвязь двух величин (столбцов)"
   ]
  },
  {
   "cell_type": "code",
   "execution_count": 43,
   "metadata": {},
   "outputs": [
    {
     "data": {
      "text/plain": [
       "<AxesSubplot:title={'center':'Зависимость цены от общей площади'}, xlabel='total_area', ylabel='last_price'>"
      ]
     },
     "execution_count": 43,
     "metadata": {},
     "output_type": "execute_result"
    },
    {
     "data": {
      "image/png": "[encoded data removed]",
      "text/plain": [
       "<Figure size 720x432 with 1 Axes>"
      ]
     },
     "metadata": {
      "needs_background": "light"
     },
     "output_type": "display_data"
    }
   ],
   "source": [
    "#построим графики для визуализации данных и зависимости параметров от цены\n",
    "data.plot(x='total_area', y='last_price', kind='scatter', alpha=0.2, figsize=(10, 6), title='Зависимость цены от общей площади')"
   ]
  },
  {
   "cell_type": "markdown",
   "metadata": {},
   "source": [
    "<div class=\"alert alert-block alert-warning\">\n",
    "<b>🔁Комментарий ревьюера 2:</b>\n",
    "\n",
    "Так как мы анализируем зависимость цены, то ее следует расположить по оси `Y`</div>"
   ]
  },
  {
   "cell_type": "markdown",
   "metadata": {},
   "source": [
    "<div class=\"alert alert-block alert-success\">\n",
    "<b>✅Комментарий ревьюера 3:</b> Отлично, исправлено!👍  </div>"
   ]
  },
  {
   "cell_type": "code",
   "execution_count": 44,
   "metadata": {},
   "outputs": [
    {
     "data": {
      "text/plain": [
       "<AxesSubplot:title={'center':'Зависимость цены от жилой площади'}, xlabel='living_area', ylabel='last_price'>"
      ]
     },
     "execution_count": 44,
     "metadata": {},
     "output_type": "execute_result"
    },
    {
     "data": {
      "image/png": "[encoded data removed]",
      "text/plain": [
       "<Figure size 720x432 with 1 Axes>"
      ]
     },
     "metadata": {
      "needs_background": "light"
     },
     "output_type": "display_data"
    }
   ],
   "source": [
    "data.plot(x='living_area', y='last_price', kind='scatter', alpha=0.2, figsize=(10, 6), title='Зависимость цены от жилой площади')"
   ]
  },
  {
   "cell_type": "code",
   "execution_count": 45,
   "metadata": {},
   "outputs": [
    {
     "data": {
      "text/plain": [
       "<AxesSubplot:title={'center':'Зависимость цены от площади кухни'}, xlabel='kitchen_area', ylabel='last_price'>"
      ]
     },
     "execution_count": 45,
     "metadata": {},
     "output_type": "execute_result"
    },
    {
     "data": {
      "image/png": "[encoded data removed]",
      "text/plain": [
       "<Figure size 720x432 with 1 Axes>"
      ]
     },
     "metadata": {
      "needs_background": "light"
     },
     "output_type": "display_data"
    }
   ],
   "source": [
    "data.plot(x='kitchen_area', y='last_price', kind='scatter', alpha=0.2, figsize=(10, 6), title='Зависимость цены от площади кухни')"
   ]
  },
  {
   "cell_type": "code",
   "execution_count": 46,
   "metadata": {},
   "outputs": [
    {
     "data": {
      "image/png": "[encoded data removed]",
      "text/plain": [
       "<Figure size 792x504 with 1 Axes>"
      ]
     },
     "metadata": {
      "needs_background": "light"
     },
     "output_type": "display_data"
    }
   ],
   "source": [
    "data.groupby('rooms')['last_price'].median().plot(kind='bar', figsize=(11, 7), color='#73A9AD')\n",
    "\n",
    "plt.xticks(rotation=0)\n",
    "plt.title('Средняя цена квартиры в зависимости от количества комнат', size=15)\n",
    "plt.xlabel('Количество комнат', size=12)\n",
    "plt.ylabel('Средняя цена квартиры', size=12)\n",
    "\n",
    "plt.show()"
   ]
  },
  {
   "cell_type": "markdown",
   "metadata": {},
   "source": [
    "<div class=\"alert alert-block alert-warning\">\n",
    "<b>🔁Комментарий ревьюера:</b>\n",
    "\n",
    "При ограниченном количестве значений метрик (категориальные и дискретные переменные), таких как количество комнат, категория этажа, а также день, месяц и год размещения объявления, лучше использовать barplot, предварительно рассчитав среднюю цену с группировкой по нужной метрике. Так зависимости будут гораздо нагляднее. Пример написал ниже. </div>\n",
    "\n",
    "<div class=\"alert alert-block alert-info\">\n",
    "<b>🔄Комментарий студента:</b> \n",
    "Спасибо большое за подсказку, так, действительно, нагляднее!\n",
    "</div>"
   ]
  },
  {
   "cell_type": "markdown",
   "id": "a9f80e94",
   "metadata": {},
   "source": [
    "<div class=\"alert alert-block alert-success\">\n",
    "<b>✅Комментарий ревьюера 4:</b> Отлично, исправлено!👍  </div>"
   ]
  },
  {
   "cell_type": "code",
   "execution_count": 47,
   "metadata": {},
   "outputs": [
    {
     "data": {
      "image/png": "[encoded data removed]",
      "text/plain": [
       "<Figure size 792x504 with 1 Axes>"
      ]
     },
     "metadata": {
      "needs_background": "light"
     },
     "output_type": "display_data"
    }
   ],
   "source": [
    "# код ревьюера\n",
    "\n",
    "data.groupby('floor_type')['last_price'].median().plot(kind='bar', figsize=(11, 7), color='#73A9AD')\n",
    "\n",
    "plt.xticks(rotation=0)\n",
    "plt.title('Средняя цена квартиры в зависимости от категории этажа', size=15)\n",
    "plt.xlabel('Категория этажа', size=12)\n",
    "plt.ylabel('Средняя цена квартиры', size=12)\n",
    "\n",
    "plt.show()"
   ]
  },
  {
   "cell_type": "code",
   "execution_count": 48,
   "metadata": {},
   "outputs": [
    {
     "data": {
      "image/png": "[encoded data removed]",
      "text/plain": [
       "<Figure size 792x504 with 1 Axes>"
      ]
     },
     "metadata": {
      "needs_background": "light"
     },
     "output_type": "display_data"
    }
   ],
   "source": [
    "data.groupby('day_of_the_week_published')['last_price'].median().plot(kind='bar', figsize=(11, 7), color='#73A9AD')\n",
    "\n",
    "plt.xticks(rotation=0)\n",
    "plt.title('Средняя цена квартиры в зависимости от дни недели публикации', size=15)\n",
    "plt.xlabel('День недели', size=12)\n",
    "plt.ylabel('Средняя цена квартиры', size=12)\n",
    "\n",
    "plt.show()"
   ]
  },
  {
   "cell_type": "code",
   "execution_count": 49,
   "metadata": {},
   "outputs": [
    {
     "data": {
      "image/png": "[encoded data removed]",
      "text/plain": [
       "<Figure size 792x504 with 1 Axes>"
      ]
     },
     "metadata": {
      "needs_background": "light"
     },
     "output_type": "display_data"
    }
   ],
   "source": [
    "data.groupby('month_published')['last_price'].median().plot(kind='bar', figsize=(11, 7), color='#73A9AD')\n",
    "\n",
    "plt.xticks(rotation=0)\n",
    "plt.title('Средняя цена квартиры в зависимости от месяца публикации', size=15)\n",
    "plt.xlabel('Месяц', size=12)\n",
    "plt.ylabel('Средняя цена квартиры', size=12)\n",
    "\n",
    "plt.show()"
   ]
  },
  {
   "cell_type": "code",
   "execution_count": 50,
   "metadata": {},
   "outputs": [
    {
     "data": {
      "image/png": "[encoded data removed]",
      "text/plain": [
       "<Figure size 792x504 with 1 Axes>"
      ]
     },
     "metadata": {
      "needs_background": "light"
     },
     "output_type": "display_data"
    }
   ],
   "source": [
    "data.groupby('year_published')['last_price'].median().plot(kind='bar', figsize=(11, 7), color='#73A9AD')\n",
    "\n",
    "plt.xticks(rotation=0)\n",
    "plt.title('Средняя цена квартиры в зависимости от года публикации', size=15)\n",
    "plt.xlabel('Год публикации', size=12)\n",
    "plt.ylabel('Средняя цена квартиры', size=12)\n",
    "\n",
    "plt.show()"
   ]
  },
  {
   "cell_type": "markdown",
   "metadata": {},
   "source": [
    "**Вывод:** на стоимость значительно оказывают влияние три параметра общая площадь, жилая площадь и площадь кухни. Чем меньше площади, тем меньше цена, и, наоборот, чем больше количество комнат, тем цена выше. Этаж и дата размещения не сильно/не оказывает влияние на цену недвижимости, за исключением года публикации. В целом имеется тенденция к снижению стоимости недвижимости с 2014 года."
   ]
  },
  {
   "cell_type": "markdown",
   "metadata": {},
   "source": [
    "<div class=\"alert alert-block alert-danger\">\n",
    "<b>❌Комментарий ревьюера 3:</b> \n",
    "    \n",
    "Нам нужно проанализировать зависимость цены от дня недели, месяца и года размещения объявления отдельно друг от друга.\n",
    "</div>\n",
    "<div class=\"alert alert-block alert-info\">\n",
    "<b>🔄Комментарий студента 3:</b> \n",
    "Сделано\n",
    "</div>"
   ]
  },
  {
   "cell_type": "markdown",
   "id": "a9f80e94",
   "metadata": {},
   "source": [
    "<div class=\"alert alert-block alert-success\">\n",
    "<b>✅Комментарий ревьюера 4:</b> Отлично, исправлено!👍  </div>"
   ]
  },
  {
   "cell_type": "markdown",
   "metadata": {},
   "source": [
    "<div class=\"alert alert-block alert-warning\">\n",
    "<b>🔁Комментарий ревьюера 2:</b>\n",
    "\n",
    "Не забывай подписывать названия для графиков и оси</div>"
   ]
  },
  {
   "cell_type": "markdown",
   "metadata": {},
   "source": []
  },
  {
   "cell_type": "markdown",
   "metadata": {},
   "source": [
    "<div class=\"alert alert-block alert-danger\">\n",
    "<b>❌Комментарий ревьюера:</b>\n",
    "    \n",
    "    \n",
    "Задание по данному пункту необходимо выполнить. Если у тебя возникают сложности, то ты всегда можешь обратиться к преподавателю. </div>\n",
    "<div class=\"alert alert-block alert-info\">\n",
    "<b>🔄Комментарий студента:</b> \n",
    "Вроде бы ответил выше\n",
    "</div>"
   ]
  },
  {
   "cell_type": "markdown",
   "metadata": {
    "id": "5766e785"
   },
   "source": [
    "<div class=\"alert alert-block alert-danger\">\n",
    "<b>❌Комментарий ревьюера 2:</b> \n",
    "    \n",
    "А еще нам нужно изучить зависимость цены от количества комнат, этажа, на котором расположена квартира (первый, последний, другой) и даты размещения (день недели, месяц, год).</div>\n",
    "\n",
    "<div class=\"alert alert-block alert-info\">\n",
    "<b>🔄Комментарий студента 2:</b> \n",
    "Вроде бы все исправил\n",
    "</div>"
   ]
  },
  {
   "cell_type": "markdown",
   "id": "a9f80e94",
   "metadata": {},
   "source": [
    "<div class=\"alert alert-block alert-success\">\n",
    "<b>✅Комментарий ревьюера 4:</b> Отлично, исправлено!👍  </div>"
   ]
  },
  {
   "cell_type": "code",
   "execution_count": 51,
   "metadata": {},
   "outputs": [],
   "source": [
    "data_price_for_meter = data.pivot_table(index='locality_name' , values='price_for_one_meter', aggfunc=['mean', 'count']) #создаем сводную таблицу для количества объявлений и средней ценой квадратного метра для населенных пунктов. "
   ]
  },
  {
   "cell_type": "code",
   "execution_count": 52,
   "metadata": {},
   "outputs": [],
   "source": [
    "data_price_for_meter.columns = ['mean_price_metr', 'number_announcements'] #переименовываем столбцы"
   ]
  },
  {
   "cell_type": "code",
   "execution_count": 53,
   "metadata": {},
   "outputs": [],
   "source": [
    "data_price_for_meter = data_price_for_meter.sort_values('number_announcements', ascending=False) #упорядывачиваем населённые пункты с наибольшим числом объявлений"
   ]
  },
  {
   "cell_type": "code",
   "execution_count": 54,
   "metadata": {},
   "outputs": [
    {
     "data": {
      "text/html": [
       "<div>\n",
       "<style scoped>\n",
       "    .dataframe tbody tr th:only-of-type {\n",
       "        vertical-align: middle;\n",
       "    }\n",
       "\n",
       "    .dataframe tbody tr th {\n",
       "        vertical-align: top;\n",
       "    }\n",
       "\n",
       "    .dataframe thead th {\n",
       "        text-align: right;\n",
       "    }\n",
       "</style>\n",
       "<table border=\"1\" class=\"dataframe\">\n",
       "  <thead>\n",
       "    <tr style=\"text-align: right;\">\n",
       "      <th></th>\n",
       "      <th>mean_price_metr</th>\n",
       "      <th>number_announcements</th>\n",
       "    </tr>\n",
       "    <tr>\n",
       "      <th>locality_name</th>\n",
       "      <th></th>\n",
       "      <th></th>\n",
       "    </tr>\n",
       "  </thead>\n",
       "  <tbody>\n",
       "    <tr>\n",
       "      <th>Санкт-Петербург</th>\n",
       "      <td>114247.148370</td>\n",
       "      <td>14137</td>\n",
       "    </tr>\n",
       "    <tr>\n",
       "      <th>посёлок посёлок Мурино</th>\n",
       "      <td>85067.872426</td>\n",
       "      <td>441</td>\n",
       "    </tr>\n",
       "    <tr>\n",
       "      <th>посёлок Шушары</th>\n",
       "      <td>78516.430256</td>\n",
       "      <td>390</td>\n",
       "    </tr>\n",
       "    <tr>\n",
       "      <th>Всеволожск</th>\n",
       "      <td>69161.351870</td>\n",
       "      <td>353</td>\n",
       "    </tr>\n",
       "    <tr>\n",
       "      <th>Колпино</th>\n",
       "      <td>75290.051182</td>\n",
       "      <td>313</td>\n",
       "    </tr>\n",
       "    <tr>\n",
       "      <th>Пушкин</th>\n",
       "      <td>104179.608000</td>\n",
       "      <td>310</td>\n",
       "    </tr>\n",
       "    <tr>\n",
       "      <th>посёлок Парголово</th>\n",
       "      <td>90584.615486</td>\n",
       "      <td>288</td>\n",
       "    </tr>\n",
       "    <tr>\n",
       "      <th>Гатчина</th>\n",
       "      <td>69156.237378</td>\n",
       "      <td>267</td>\n",
       "    </tr>\n",
       "    <tr>\n",
       "      <th>деревня Кудрово</th>\n",
       "      <td>92096.754000</td>\n",
       "      <td>230</td>\n",
       "    </tr>\n",
       "    <tr>\n",
       "      <th>Выборг</th>\n",
       "      <td>58634.234731</td>\n",
       "      <td>186</td>\n",
       "    </tr>\n",
       "  </tbody>\n",
       "</table>\n",
       "</div>"
      ],
      "text/plain": [
       "                        mean_price_metr  number_announcements\n",
       "locality_name                                                \n",
       "Санкт-Петербург           114247.148370                 14137\n",
       "посёлок посёлок Мурино     85067.872426                   441\n",
       "посёлок Шушары             78516.430256                   390\n",
       "Всеволожск                 69161.351870                   353\n",
       "Колпино                    75290.051182                   313\n",
       "Пушкин                    104179.608000                   310\n",
       "посёлок Парголово          90584.615486                   288\n",
       "Гатчина                    69156.237378                   267\n",
       "деревня Кудрово            92096.754000                   230\n",
       "Выборг                     58634.234731                   186"
      ]
     },
     "execution_count": 54,
     "metadata": {},
     "output_type": "execute_result"
    }
   ],
   "source": [
    "data_price_for_meter.head(10) #выводим 10 населённых пунктов с наибольшим числом объявлений"
   ]
  },
  {
   "cell_type": "markdown",
   "metadata": {},
   "source": [
    "**Вывод:** Самой низкой стоимостью за кв. метр среди 10 населенных пунктов с наибольшим числом объявлений обладает Выборг. Самой высокой - Санкт-Петербург."
   ]
  },
  {
   "cell_type": "markdown",
   "metadata": {},
   "source": [
    "<div class=\"alert alert-block alert-success\">\n",
    "<b>✅Комментарий ревьюера:</b> Все так</div>"
   ]
  },
  {
   "cell_type": "code",
   "execution_count": 55,
   "metadata": {},
   "outputs": [],
   "source": [
    "new_data = data.query('locality_name == \"Санкт-Петербург\"') #выделяем в новый датафрейм квартиры в Санкт-Петербурге"
   ]
  },
  {
   "cell_type": "code",
   "execution_count": 56,
   "metadata": {},
   "outputs": [],
   "source": [
    "new_data2 = new_data.pivot_table(index='distance_to_center', values='last_price', aggfunc='mean') #создаем сводную таблицу со средней стоимостью жилья в зависимости от расстояния до центра в км."
   ]
  },
  {
   "cell_type": "code",
   "execution_count": 57,
   "metadata": {},
   "outputs": [
    {
     "data": {
      "text/plain": [
       "<AxesSubplot:xlabel='distance_to_center'>"
      ]
     },
     "execution_count": 57,
     "metadata": {},
     "output_type": "execute_result"
    },
    {
     "data": {
      "image/png": "[encoded data removed]",
      "text/plain": [
       "<Figure size 720x360 with 1 Axes>"
      ]
     },
     "metadata": {
      "needs_background": "light"
     },
     "output_type": "display_data"
    }
   ],
   "source": [
    "new_data2.plot(figsize=(10, 5), grid=True)"
   ]
  },
  {
   "cell_type": "code",
   "execution_count": 58,
   "metadata": {},
   "outputs": [
    {
     "data": {
      "text/html": [
       "<div>\n",
       "<style scoped>\n",
       "    .dataframe tbody tr th:only-of-type {\n",
       "        vertical-align: middle;\n",
       "    }\n",
       "\n",
       "    .dataframe tbody tr th {\n",
       "        vertical-align: top;\n",
       "    }\n",
       "\n",
       "    .dataframe thead th {\n",
       "        text-align: right;\n",
       "    }\n",
       "</style>\n",
       "<table border=\"1\" class=\"dataframe\">\n",
       "  <thead>\n",
       "    <tr style=\"text-align: right;\">\n",
       "      <th></th>\n",
       "      <th>last_price</th>\n",
       "    </tr>\n",
       "    <tr>\n",
       "      <th>distance_to_center</th>\n",
       "      <th></th>\n",
       "    </tr>\n",
       "  </thead>\n",
       "  <tbody>\n",
       "    <tr>\n",
       "      <th>0.0</th>\n",
       "      <td>3.235100e+07</td>\n",
       "    </tr>\n",
       "    <tr>\n",
       "      <th>1.0</th>\n",
       "      <td>2.144860e+07</td>\n",
       "    </tr>\n",
       "    <tr>\n",
       "      <th>2.0</th>\n",
       "      <td>1.826903e+07</td>\n",
       "    </tr>\n",
       "    <tr>\n",
       "      <th>3.0</th>\n",
       "      <td>1.111686e+07</td>\n",
       "    </tr>\n",
       "    <tr>\n",
       "      <th>4.0</th>\n",
       "      <td>1.214770e+07</td>\n",
       "    </tr>\n",
       "  </tbody>\n",
       "</table>\n",
       "</div>"
      ],
      "text/plain": [
       "                      last_price\n",
       "distance_to_center              \n",
       "0.0                 3.235100e+07\n",
       "1.0                 2.144860e+07\n",
       "2.0                 1.826903e+07\n",
       "3.0                 1.111686e+07\n",
       "4.0                 1.214770e+07"
      ]
     },
     "execution_count": 58,
     "metadata": {},
     "output_type": "execute_result"
    }
   ],
   "source": [
    "new_data2.head() #посмотрим среднюю стоимость квартир за удаление от центра по км. "
   ]
  },
  {
   "cell_type": "markdown",
   "metadata": {},
   "source": [
    "<div class=\"alert alert-block alert-danger\">\n",
    "<b>❌Комментарий ревьюера:</b>\n",
    "    \n",
    "    \n",
    "График получился неинформативным, так как расстояния до центра в километрах не были округлены до целых чисел. </div>\n",
    "<div class=\"alert alert-block alert-info\">\n",
    "<b>🔄Комментарий студента:</b> \n",
    "Вроде бы все поправил\n",
    "</div>"
   ]
  },
  {
   "cell_type": "markdown",
   "metadata": {},
   "source": [
    "<div class=\"alert alert-block alert-success\">\n",
    "<b>✅Комментарий ревьюера 2:</b> Отлично, исправлено!👍  </div>"
   ]
  },
  {
   "cell_type": "markdown",
   "metadata": {},
   "source": [
    "**Вывод:** Чем удаленее недвижимость от центра Санкт-Петербурга, тем стоимость квартир ниже. Средняя цена квартир в удалении от центра 1 км - 20 млн, 2км - 18 млн, 3 км - 11 млн."
   ]
  },
  {
   "cell_type": "markdown",
   "metadata": {
    "id": "h7VpzkIDAwb-"
   },
   "source": [
    "### Напишите общий вывод"
   ]
  },
  {
   "cell_type": "markdown",
   "metadata": {
    "id": "5766e785"
   },
   "source": [
    "<div class=\"alert alert-block alert-danger\">\n",
    "<b>❌Комментарий ревьюера:</b> \n",
    "    \n",
    "Необходимо написать итоговый вывод, он должен содержать в себе краткую информацию о том, какая работа была проделана и какие результаты получены **по всем пунктам исследования**.\n",
    "    \n",
    "Можно дополнительно описать основные характеристики \"среднестатистической\" квартиры из объявления.\n",
    "\n",
    "</div>"
   ]
  },
  {
   "cell_type": "markdown",
   "metadata": {},
   "source": [
    "<div class=\"alert alert-block alert-success\">\n",
    "<b>✅Комментарий ревьюера 2:</b> Отлично, исправлено!👍  </div>"
   ]
  },
  {
   "cell_type": "markdown",
   "metadata": {},
   "source": [
    "**Итоговый вывод:** в ходе выполнения проекта, успешно ознакомился с данными, обработал их и получить наглядные и информативные результаты после исследования данных.\n",
    "\n",
    "Самая часто встречаемая квартиры - одна, дву и трех-комнатные квартиры с общей площадью менее 100 кв. метров, жилой площадью менее 50 кв. метров, площадью кухни менее 10 кв. метров и с ценой до 10 млн. рублей.\n",
    "\n",
    "Доказано, что на стоимость значительно оказывает влияние удаленость недвижимости от центра города Санкт-Петербург, а самой низкой стоимостью за кв. метр среди 10 населенных пунктов с наибольшим числом объявлений обладает Выборг. Также на стоимость сильно оказывает влияние такие показатели, как общая площадь, жилая площадь и площадь кухни.\n",
    "Было также обнаружено, что имеется тенденция к общему удешевлению недвижимости по сравнению с 2014 годом."
   ]
  },
  {
   "cell_type": "markdown",
   "metadata": {
    "id": "3H4lnp_KAwb-"
   },
   "source": []
  },
  {
   "cell_type": "markdown",
   "metadata": {
    "id": "A90mc0BgAwb-"
   },
   "source": [
    "**Чек-лист готовности проекта**\n",
    "\n",
    "Поставьте 'x' в выполненных пунктах. Далее нажмите Shift+Enter."
   ]
  },
  {
   "cell_type": "markdown",
   "metadata": {
    "id": "ME3sTWm6Awb-"
   },
   "source": [
    "- [x]  Файл с данными открыт.\n",
    "- [x]  Файл с данными изучен: выведены первые строки, использован метод `info()`, построены гистограммы.\n",
    "- [x]  Найдены пропущенные значения.\n",
    "- [x]  Пропущенные значения заполнены там, где это возможно.\n",
    "- [x]  Объяснено, какие пропущенные значения обнаружены.\n",
    "- [x]  В каждом столбце установлен корректный тип данных.\n",
    "- [x]  Объяснено, в каких столбцах изменён тип данных и почему.\n",
    "- [x]  Устранены неявные дубликаты в названиях населённых пунктов.\n",
    "- [x]  Обработаны редкие и выбивающиеся значения (аномалии).\n",
    "- [x]  В таблицу добавлены новые параметры:\n",
    "       – цена одного квадратного метра;\n",
    "       – день публикации объявления (0 - понедельник, 1 - вторник и т. д.);\n",
    "       – месяц публикации объявления;\n",
    "       – год публикации объявления;\n",
    "       – тип этажа квартиры (значения — «первый», «последний», «другой»);\n",
    "       – расстояние до центра города в километрах.\n",
    "- [x]  Изучены и описаны параметры:\n",
    "        - общая площадь;\n",
    "        - жилая площадь;\n",
    "        - площадь кухни;\n",
    "        - цена объекта;\n",
    "        - количество комнат;\n",
    "        - высота потолков;\n",
    "        - тип этажа квартиры («первый», «последний», «другой»);\n",
    "        - общее количество этажей в доме;\n",
    "        - расстояние до центра города в метрах;\n",
    "        - расстояние до ближайшего парка.\n",
    "- [x]  Выполнено задание «Изучите, как быстро продавались квартиры (столбец `days_exposition`)»:\n",
    "    - построена гистограмма;\n",
    "    - рассчитаны среднее и медиана;\n",
    "    - описано, сколько обычно занимает продажа и указано, какие продажи можно считать быстрыми, а какие — необычно долгими.\n",
    "- [x]  Выполнено задание «Определите факторы, которые больше всего влияют на общую (полную) стоимость объекта». Построены графики, которые показывают зависимость цены от параметров:\n",
    "        - общая площадь;\n",
    "        - жилая площадь;\n",
    "        - площадь кухни;\n",
    "        - количество комнат;\n",
    "        - тип этажа, на котором расположена квартира (первый, последний, другой);\n",
    "        - дата размещения (день недели, месяц, год).\n",
    "- [x]  Выполнено задание «Посчитайте среднюю цену одного квадратного метра в 10 населённых пунктах с наибольшим числом объявлений»:\n",
    "    - выделены населённые пункты с самой высокой и низкой стоимостью квадратного метра.\n",
    "- [x]  Выполнено задание «Выделите квартиры в Санкт-Петербурге с помощью столбца `locality_name` и вычислите их среднюю стоимость на разном удалении от центра»:\n",
    "    -  учтён каждый километр расстояния, известны средние цены квартир в одном километре от центра, в двух и так далее;\n",
    "    -  описано, как стоимость объекта зависит от расстояния до центра города;\n",
    "    -  построен график изменения средней цены для каждого километра от центра Петербурга.\n",
    "- [x]  На каждом этапе сделаны промежуточные выводы.\n",
    "- [x]  В конце проекта сделан общий вывод."
   ]
  },
  {
   "cell_type": "markdown",
   "metadata": {},
   "source": []
  }
 ],
 "metadata": {
  "ExecuteTimeLog": [
   {
    "duration": 61,
    "start_time": "2025-05-27T10:19:31.417Z"
   },
   {
    "duration": 473,
    "start_time": "2025-05-27T10:19:36.176Z"
   },
   {
    "duration": 99,
    "start_time": "2025-05-27T10:19:36.651Z"
   },
   {
    "duration": 20,
    "start_time": "2025-05-27T10:19:36.752Z"
   },
   {
    "duration": 20,
    "start_time": "2025-05-27T10:19:36.775Z"
   },
   {
    "duration": 414,
    "start_time": "2025-05-27T10:21:14.196Z"
   },
   {
    "duration": 98,
    "start_time": "2025-05-27T10:21:14.613Z"
   },
   {
    "duration": 21,
    "start_time": "2025-05-27T10:21:14.713Z"
   },
   {
    "duration": 53,
    "start_time": "2025-05-27T10:21:14.736Z"
   },
   {
    "duration": 1623,
    "start_time": "2025-05-27T10:27:08.778Z"
   },
   {
    "duration": 1133,
    "start_time": "2025-05-27T10:28:14.350Z"
   },
   {
    "duration": 3,
    "start_time": "2025-05-27T10:28:19.702Z"
   },
   {
    "duration": 543,
    "start_time": "2025-05-27T10:28:24.965Z"
   },
   {
    "duration": 139,
    "start_time": "2025-05-27T10:28:25.510Z"
   },
   {
    "duration": 23,
    "start_time": "2025-05-27T10:28:25.650Z"
   },
   {
    "duration": 37,
    "start_time": "2025-05-27T10:28:25.677Z"
   },
   {
    "duration": 1411,
    "start_time": "2025-05-27T10:28:25.716Z"
   },
   {
    "duration": 13,
    "start_time": "2025-05-27T10:29:57.595Z"
   },
   {
    "duration": 278,
    "start_time": "2025-05-27T10:30:36.632Z"
   },
   {
    "duration": 12,
    "start_time": "2025-05-27T10:31:27.265Z"
   },
   {
    "duration": 10,
    "start_time": "2025-05-27T10:31:34.696Z"
   },
   {
    "duration": 252,
    "start_time": "2025-05-27T10:33:10.731Z"
   },
   {
    "duration": 743,
    "start_time": "2025-05-27T10:34:04.144Z"
   },
   {
    "duration": 101,
    "start_time": "2025-05-27T10:34:04.889Z"
   },
   {
    "duration": 18,
    "start_time": "2025-05-27T10:34:04.992Z"
   },
   {
    "duration": 52,
    "start_time": "2025-05-27T10:34:05.012Z"
   },
   {
    "duration": 864,
    "start_time": "2025-05-27T10:34:05.067Z"
   },
   {
    "duration": 900,
    "start_time": "2025-05-27T10:34:50.042Z"
   },
   {
    "duration": 1335,
    "start_time": "2025-05-27T10:36:41.479Z"
   },
   {
    "duration": 2186,
    "start_time": "2025-05-27T10:37:08.152Z"
   },
   {
    "duration": 18,
    "start_time": "2025-05-27T10:47:10.389Z"
   },
   {
    "duration": 18,
    "start_time": "2025-05-27T10:47:28.695Z"
   },
   {
    "duration": 14,
    "start_time": "2025-05-27T10:47:33.572Z"
   },
   {
    "duration": 10,
    "start_time": "2025-05-27T10:48:06.635Z"
   },
   {
    "duration": 780,
    "start_time": "2025-05-27T11:13:51.647Z"
   },
   {
    "duration": 107,
    "start_time": "2025-05-27T11:13:52.429Z"
   },
   {
    "duration": 21,
    "start_time": "2025-05-27T11:13:52.539Z"
   },
   {
    "duration": 33,
    "start_time": "2025-05-27T11:13:52.563Z"
   },
   {
    "duration": 2214,
    "start_time": "2025-05-27T11:13:52.599Z"
   },
   {
    "duration": 13,
    "start_time": "2025-05-27T11:13:54.815Z"
   },
   {
    "duration": 37,
    "start_time": "2025-05-27T11:14:27.969Z"
   },
   {
    "duration": 30,
    "start_time": "2025-05-27T11:14:30.417Z"
   },
   {
    "duration": 5,
    "start_time": "2025-05-27T11:15:01.927Z"
   },
   {
    "duration": 6,
    "start_time": "2025-05-27T11:15:43.188Z"
   },
   {
    "duration": 7,
    "start_time": "2025-05-27T11:16:01.637Z"
   },
   {
    "duration": 53,
    "start_time": "2025-05-27T13:58:55.618Z"
   },
   {
    "duration": 883,
    "start_time": "2025-05-27T13:59:01.529Z"
   },
   {
    "duration": 107,
    "start_time": "2025-05-27T13:59:02.414Z"
   },
   {
    "duration": 18,
    "start_time": "2025-05-27T13:59:02.523Z"
   },
   {
    "duration": 44,
    "start_time": "2025-05-27T13:59:02.543Z"
   },
   {
    "duration": 26,
    "start_time": "2025-05-27T13:59:02.590Z"
   },
   {
    "duration": 6,
    "start_time": "2025-05-27T13:59:02.618Z"
   },
   {
    "duration": 2117,
    "start_time": "2025-05-27T13:59:02.626Z"
   },
   {
    "duration": 9,
    "start_time": "2025-05-27T13:59:04.745Z"
   },
   {
    "duration": 53,
    "start_time": "2025-05-27T13:59:04.756Z"
   },
   {
    "duration": 11,
    "start_time": "2025-05-27T13:59:19.298Z"
   },
   {
    "duration": 22,
    "start_time": "2025-05-27T14:06:33.776Z"
   },
   {
    "duration": 10,
    "start_time": "2025-05-27T14:06:35.655Z"
   },
   {
    "duration": 4,
    "start_time": "2025-05-27T14:08:34.683Z"
   },
   {
    "duration": 77,
    "start_time": "2025-05-27T14:08:36.539Z"
   },
   {
    "duration": 9,
    "start_time": "2025-05-27T14:08:42.487Z"
   },
   {
    "duration": 8,
    "start_time": "2025-05-27T14:12:57.186Z"
   },
   {
    "duration": 8,
    "start_time": "2025-05-27T14:13:04.909Z"
   },
   {
    "duration": 7,
    "start_time": "2025-05-27T14:13:12.634Z"
   },
   {
    "duration": 4,
    "start_time": "2025-05-27T14:13:17.577Z"
   },
   {
    "duration": 16,
    "start_time": "2025-05-27T14:13:26.356Z"
   },
   {
    "duration": 8,
    "start_time": "2025-05-27T14:24:11.370Z"
   },
   {
    "duration": 8,
    "start_time": "2025-05-27T14:24:35.791Z"
   },
   {
    "duration": 5,
    "start_time": "2025-05-27T14:24:54.403Z"
   },
   {
    "duration": 7,
    "start_time": "2025-05-27T14:26:40.315Z"
   },
   {
    "duration": 4,
    "start_time": "2025-05-27T14:27:29.758Z"
   },
   {
    "duration": 5,
    "start_time": "2025-05-27T14:28:30.045Z"
   },
   {
    "duration": 5,
    "start_time": "2025-05-27T14:29:20.830Z"
   },
   {
    "duration": 14,
    "start_time": "2025-05-27T14:29:32.900Z"
   },
   {
    "duration": 5,
    "start_time": "2025-05-27T14:31:41.647Z"
   },
   {
    "duration": 642,
    "start_time": "2025-05-27T15:33:40.192Z"
   },
   {
    "duration": 93,
    "start_time": "2025-05-27T15:33:40.836Z"
   },
   {
    "duration": 15,
    "start_time": "2025-05-27T15:33:40.931Z"
   },
   {
    "duration": 39,
    "start_time": "2025-05-27T15:33:40.948Z"
   },
   {
    "duration": 25,
    "start_time": "2025-05-27T15:33:40.989Z"
   },
   {
    "duration": 13,
    "start_time": "2025-05-27T15:33:41.016Z"
   },
   {
    "duration": 1933,
    "start_time": "2025-05-27T15:33:41.030Z"
   },
   {
    "duration": 8,
    "start_time": "2025-05-27T15:33:42.965Z"
   },
   {
    "duration": 19,
    "start_time": "2025-05-27T15:33:42.975Z"
   },
   {
    "duration": 4,
    "start_time": "2025-05-27T15:33:42.996Z"
   },
   {
    "duration": 9,
    "start_time": "2025-05-27T15:33:43.001Z"
   },
   {
    "duration": 34,
    "start_time": "2025-05-27T15:33:43.011Z"
   },
   {
    "duration": 20,
    "start_time": "2025-05-27T15:33:43.047Z"
   },
   {
    "duration": 16,
    "start_time": "2025-05-27T15:33:43.069Z"
   },
   {
    "duration": 23,
    "start_time": "2025-05-27T15:33:43.086Z"
   },
   {
    "duration": 15,
    "start_time": "2025-05-27T15:33:43.111Z"
   },
   {
    "duration": 11,
    "start_time": "2025-05-27T15:33:43.128Z"
   },
   {
    "duration": 14,
    "start_time": "2025-05-27T15:33:43.141Z"
   },
   {
    "duration": 61,
    "start_time": "2025-05-27T15:33:43.156Z"
   },
   {
    "duration": 108,
    "start_time": "2025-05-27T15:41:12.234Z"
   },
   {
    "duration": 687,
    "start_time": "2025-05-27T15:41:29.144Z"
   },
   {
    "duration": 97,
    "start_time": "2025-05-27T15:41:29.833Z"
   },
   {
    "duration": 17,
    "start_time": "2025-05-27T15:41:29.932Z"
   },
   {
    "duration": 40,
    "start_time": "2025-05-27T15:41:29.951Z"
   },
   {
    "duration": 26,
    "start_time": "2025-05-27T15:41:29.993Z"
   },
   {
    "duration": 54,
    "start_time": "2025-05-27T15:41:30.020Z"
   },
   {
    "duration": 2030,
    "start_time": "2025-05-27T15:41:30.077Z"
   },
   {
    "duration": 9,
    "start_time": "2025-05-27T15:41:32.109Z"
   },
   {
    "duration": 20,
    "start_time": "2025-05-27T15:41:32.119Z"
   },
   {
    "duration": 4,
    "start_time": "2025-05-27T15:41:32.140Z"
   },
   {
    "duration": 23,
    "start_time": "2025-05-27T15:41:32.146Z"
   },
   {
    "duration": 16,
    "start_time": "2025-05-27T15:41:32.171Z"
   },
   {
    "duration": 9,
    "start_time": "2025-05-27T15:41:32.188Z"
   },
   {
    "duration": 18,
    "start_time": "2025-05-27T15:41:32.200Z"
   },
   {
    "duration": 8,
    "start_time": "2025-05-27T15:41:32.219Z"
   },
   {
    "duration": 13,
    "start_time": "2025-05-27T15:41:32.228Z"
   },
   {
    "duration": 19,
    "start_time": "2025-05-27T15:41:32.243Z"
   },
   {
    "duration": 33,
    "start_time": "2025-05-27T15:41:32.264Z"
   },
   {
    "duration": 6,
    "start_time": "2025-05-27T15:41:32.299Z"
   },
   {
    "duration": 93,
    "start_time": "2025-05-27T15:41:32.306Z"
   },
   {
    "duration": 72,
    "start_time": "2025-05-27T15:42:45.974Z"
   },
   {
    "duration": 5,
    "start_time": "2025-05-27T15:46:26.957Z"
   },
   {
    "duration": 5,
    "start_time": "2025-05-27T15:46:51.706Z"
   },
   {
    "duration": 642,
    "start_time": "2025-05-27T15:50:24.505Z"
   },
   {
    "duration": 103,
    "start_time": "2025-05-27T15:50:25.149Z"
   },
   {
    "duration": 17,
    "start_time": "2025-05-27T15:50:25.254Z"
   },
   {
    "duration": 41,
    "start_time": "2025-05-27T15:50:25.274Z"
   },
   {
    "duration": 28,
    "start_time": "2025-05-27T15:50:25.317Z"
   },
   {
    "duration": 6,
    "start_time": "2025-05-27T15:50:25.361Z"
   },
   {
    "duration": 1962,
    "start_time": "2025-05-27T15:50:25.369Z"
   },
   {
    "duration": 9,
    "start_time": "2025-05-27T15:50:27.333Z"
   },
   {
    "duration": 20,
    "start_time": "2025-05-27T15:50:27.343Z"
   },
   {
    "duration": 4,
    "start_time": "2025-05-27T15:50:27.367Z"
   },
   {
    "duration": 14,
    "start_time": "2025-05-27T15:50:27.373Z"
   },
   {
    "duration": 18,
    "start_time": "2025-05-27T15:50:27.389Z"
   },
   {
    "duration": 9,
    "start_time": "2025-05-27T15:50:27.409Z"
   },
   {
    "duration": 32,
    "start_time": "2025-05-27T15:50:27.420Z"
   },
   {
    "duration": 11,
    "start_time": "2025-05-27T15:50:27.454Z"
   },
   {
    "duration": 6,
    "start_time": "2025-05-27T15:50:27.466Z"
   },
   {
    "duration": 5,
    "start_time": "2025-05-27T15:50:27.475Z"
   },
   {
    "duration": 29,
    "start_time": "2025-05-27T15:50:27.482Z"
   },
   {
    "duration": 5,
    "start_time": "2025-05-27T15:50:27.513Z"
   },
   {
    "duration": 160,
    "start_time": "2025-05-27T15:50:27.521Z"
   },
   {
    "duration": 7,
    "start_time": "2025-05-27T15:50:27.682Z"
   },
   {
    "duration": 98,
    "start_time": "2025-05-27T15:50:27.691Z"
   },
   {
    "duration": 71,
    "start_time": "2025-05-27T15:51:32.201Z"
   },
   {
    "duration": 12,
    "start_time": "2025-05-27T15:51:42.739Z"
   },
   {
    "duration": 9,
    "start_time": "2025-05-27T15:53:49.560Z"
   },
   {
    "duration": 9,
    "start_time": "2025-05-27T15:54:55.740Z"
   },
   {
    "duration": 8,
    "start_time": "2025-05-27T15:57:04.345Z"
   },
   {
    "duration": 9,
    "start_time": "2025-05-27T15:57:17.373Z"
   },
   {
    "duration": 9,
    "start_time": "2025-05-27T15:59:13.645Z"
   },
   {
    "duration": 15,
    "start_time": "2025-05-27T15:59:20.298Z"
   },
   {
    "duration": 7,
    "start_time": "2025-05-27T16:04:25.778Z"
   },
   {
    "duration": 6,
    "start_time": "2025-05-27T16:05:30.554Z"
   },
   {
    "duration": 6,
    "start_time": "2025-05-27T16:06:41.343Z"
   },
   {
    "duration": 9,
    "start_time": "2025-05-27T16:07:23.464Z"
   },
   {
    "duration": 5,
    "start_time": "2025-05-27T16:07:32.727Z"
   },
   {
    "duration": 6,
    "start_time": "2025-05-27T16:08:25.070Z"
   },
   {
    "duration": 95,
    "start_time": "2025-05-27T16:22:26.638Z"
   },
   {
    "duration": 11,
    "start_time": "2025-05-27T16:22:43.398Z"
   },
   {
    "duration": 7,
    "start_time": "2025-05-27T16:23:37.954Z"
   },
   {
    "duration": 1436,
    "start_time": "2025-05-27T16:24:32.737Z"
   },
   {
    "duration": 11,
    "start_time": "2025-05-27T16:25:05.601Z"
   },
   {
    "duration": 11,
    "start_time": "2025-05-27T16:25:51.082Z"
   },
   {
    "duration": 6,
    "start_time": "2025-05-27T16:27:20.353Z"
   },
   {
    "duration": 10,
    "start_time": "2025-05-27T16:27:57.264Z"
   },
   {
    "duration": 12,
    "start_time": "2025-05-27T16:28:02.069Z"
   },
   {
    "duration": 9,
    "start_time": "2025-05-27T16:28:24.589Z"
   },
   {
    "duration": 358,
    "start_time": "2025-05-27T16:35:42.008Z"
   },
   {
    "duration": 113,
    "start_time": "2025-05-27T16:39:47.610Z"
   },
   {
    "duration": 97,
    "start_time": "2025-05-27T16:39:58.602Z"
   },
   {
    "duration": 97,
    "start_time": "2025-05-27T16:40:13.189Z"
   },
   {
    "duration": 134,
    "start_time": "2025-05-27T16:40:21.330Z"
   },
   {
    "duration": 387,
    "start_time": "2025-05-27T16:40:35.240Z"
   },
   {
    "duration": 94,
    "start_time": "2025-05-27T16:40:43.918Z"
   },
   {
    "duration": 3118,
    "start_time": "2025-05-27T16:41:36.385Z"
   },
   {
    "duration": 98,
    "start_time": "2025-05-27T16:41:56.590Z"
   },
   {
    "duration": 112,
    "start_time": "2025-05-27T16:42:44.140Z"
   },
   {
    "duration": 905,
    "start_time": "2025-05-27T16:43:33.416Z"
   },
   {
    "duration": 5,
    "start_time": "2025-05-27T16:43:55.654Z"
   },
   {
    "duration": 94,
    "start_time": "2025-05-27T16:45:49.083Z"
   },
   {
    "duration": 4,
    "start_time": "2025-05-27T16:45:50.869Z"
   },
   {
    "duration": 7,
    "start_time": "2025-05-27T16:48:01.567Z"
   },
   {
    "duration": 5,
    "start_time": "2025-05-27T16:48:03.651Z"
   },
   {
    "duration": 138,
    "start_time": "2025-05-27T16:50:16.666Z"
   },
   {
    "duration": 375,
    "start_time": "2025-05-27T16:50:27.093Z"
   },
   {
    "duration": 421,
    "start_time": "2025-05-27T17:01:16.279Z"
   },
   {
    "duration": 4,
    "start_time": "2025-05-27T17:01:42.414Z"
   },
   {
    "duration": 4,
    "start_time": "2025-05-27T17:01:48.755Z"
   },
   {
    "duration": 5,
    "start_time": "2025-05-27T17:10:57.421Z"
   },
   {
    "duration": 15,
    "start_time": "2025-05-27T17:11:06.006Z"
   },
   {
    "duration": 622,
    "start_time": "2025-05-27T17:12:26.018Z"
   },
   {
    "duration": 93,
    "start_time": "2025-05-27T17:12:26.642Z"
   },
   {
    "duration": 16,
    "start_time": "2025-05-27T17:12:26.737Z"
   },
   {
    "duration": 33,
    "start_time": "2025-05-27T17:12:26.754Z"
   },
   {
    "duration": 24,
    "start_time": "2025-05-27T17:12:26.789Z"
   },
   {
    "duration": 7,
    "start_time": "2025-05-27T17:12:26.815Z"
   },
   {
    "duration": 2027,
    "start_time": "2025-05-27T17:12:26.824Z"
   },
   {
    "duration": 9,
    "start_time": "2025-05-27T17:12:28.853Z"
   },
   {
    "duration": 74,
    "start_time": "2025-05-27T17:12:28.863Z"
   },
   {
    "duration": 4,
    "start_time": "2025-05-27T17:12:28.938Z"
   },
   {
    "duration": 9,
    "start_time": "2025-05-27T17:12:28.943Z"
   },
   {
    "duration": 18,
    "start_time": "2025-05-27T17:12:28.954Z"
   },
   {
    "duration": 8,
    "start_time": "2025-05-27T17:12:28.973Z"
   },
   {
    "duration": 6,
    "start_time": "2025-05-27T17:12:28.984Z"
   },
   {
    "duration": 10,
    "start_time": "2025-05-27T17:12:28.991Z"
   },
   {
    "duration": 8,
    "start_time": "2025-05-27T17:12:29.002Z"
   },
   {
    "duration": 4,
    "start_time": "2025-05-27T17:12:29.012Z"
   },
   {
    "duration": 21,
    "start_time": "2025-05-27T17:12:29.018Z"
   },
   {
    "duration": 6,
    "start_time": "2025-05-27T17:12:29.062Z"
   },
   {
    "duration": 74,
    "start_time": "2025-05-27T17:12:29.070Z"
   },
   {
    "duration": 16,
    "start_time": "2025-05-27T17:12:29.146Z"
   },
   {
    "duration": 7,
    "start_time": "2025-05-27T17:12:29.164Z"
   },
   {
    "duration": 6,
    "start_time": "2025-05-27T17:12:29.173Z"
   },
   {
    "duration": 6,
    "start_time": "2025-05-27T17:12:29.181Z"
   },
   {
    "duration": 339,
    "start_time": "2025-05-27T17:12:29.189Z"
   },
   {
    "duration": 4,
    "start_time": "2025-05-27T17:12:29.529Z"
   },
   {
    "duration": 73,
    "start_time": "2025-05-27T17:12:29.535Z"
   },
   {
    "duration": 871,
    "start_time": "2025-05-28T15:00:25.211Z"
   },
   {
    "duration": 114,
    "start_time": "2025-05-28T15:00:26.085Z"
   },
   {
    "duration": 17,
    "start_time": "2025-05-28T15:00:26.201Z"
   },
   {
    "duration": 46,
    "start_time": "2025-05-28T15:00:26.220Z"
   },
   {
    "duration": 28,
    "start_time": "2025-05-28T15:00:26.274Z"
   },
   {
    "duration": 11,
    "start_time": "2025-05-28T15:00:26.303Z"
   },
   {
    "duration": 2395,
    "start_time": "2025-05-28T15:00:26.315Z"
   },
   {
    "duration": 12,
    "start_time": "2025-05-28T15:00:28.712Z"
   },
   {
    "duration": 24,
    "start_time": "2025-05-28T15:00:28.726Z"
   },
   {
    "duration": 30,
    "start_time": "2025-05-28T15:00:28.752Z"
   },
   {
    "duration": 12,
    "start_time": "2025-05-28T15:00:28.784Z"
   },
   {
    "duration": 20,
    "start_time": "2025-05-28T15:00:28.798Z"
   },
   {
    "duration": 57,
    "start_time": "2025-05-28T15:00:28.820Z"
   },
   {
    "duration": 22,
    "start_time": "2025-05-28T15:00:28.880Z"
   },
   {
    "duration": 34,
    "start_time": "2025-05-28T15:00:28.904Z"
   },
   {
    "duration": 9,
    "start_time": "2025-05-28T15:00:28.940Z"
   },
   {
    "duration": 19,
    "start_time": "2025-05-28T15:00:28.951Z"
   },
   {
    "duration": 15,
    "start_time": "2025-05-28T15:00:28.973Z"
   },
   {
    "duration": 11,
    "start_time": "2025-05-28T15:00:28.989Z"
   },
   {
    "duration": 82,
    "start_time": "2025-05-28T15:00:29.002Z"
   },
   {
    "duration": 6,
    "start_time": "2025-05-28T15:00:29.086Z"
   },
   {
    "duration": 6,
    "start_time": "2025-05-28T15:00:29.093Z"
   },
   {
    "duration": 6,
    "start_time": "2025-05-28T15:00:29.101Z"
   },
   {
    "duration": 6,
    "start_time": "2025-05-28T15:00:29.108Z"
   },
   {
    "duration": 398,
    "start_time": "2025-05-28T15:00:29.115Z"
   },
   {
    "duration": 5,
    "start_time": "2025-05-28T15:00:29.514Z"
   },
   {
    "duration": 25,
    "start_time": "2025-05-28T15:00:29.520Z"
   },
   {
    "duration": 654,
    "start_time": "2025-05-28T15:03:32.126Z"
   },
   {
    "duration": 101,
    "start_time": "2025-05-28T15:03:32.782Z"
   },
   {
    "duration": 18,
    "start_time": "2025-05-28T15:03:32.885Z"
   },
   {
    "duration": 52,
    "start_time": "2025-05-28T15:03:32.905Z"
   },
   {
    "duration": 46,
    "start_time": "2025-05-28T15:03:32.960Z"
   },
   {
    "duration": 35,
    "start_time": "2025-05-28T15:03:33.007Z"
   },
   {
    "duration": 2230,
    "start_time": "2025-05-28T15:03:33.044Z"
   },
   {
    "duration": 10,
    "start_time": "2025-05-28T15:03:35.276Z"
   },
   {
    "duration": 43,
    "start_time": "2025-05-28T15:03:35.287Z"
   },
   {
    "duration": 4,
    "start_time": "2025-05-28T15:03:35.332Z"
   },
   {
    "duration": 24,
    "start_time": "2025-05-28T15:03:35.338Z"
   },
   {
    "duration": 17,
    "start_time": "2025-05-28T15:03:35.370Z"
   },
   {
    "duration": 24,
    "start_time": "2025-05-28T15:03:35.389Z"
   },
   {
    "duration": 11,
    "start_time": "2025-05-28T15:03:35.416Z"
   },
   {
    "duration": 22,
    "start_time": "2025-05-28T15:03:35.429Z"
   },
   {
    "duration": 52,
    "start_time": "2025-05-28T15:03:35.452Z"
   },
   {
    "duration": 29,
    "start_time": "2025-05-28T15:03:35.505Z"
   },
   {
    "duration": 15,
    "start_time": "2025-05-28T15:03:35.535Z"
   },
   {
    "duration": 32,
    "start_time": "2025-05-28T15:03:35.551Z"
   },
   {
    "duration": 73,
    "start_time": "2025-05-28T15:03:35.585Z"
   },
   {
    "duration": 14,
    "start_time": "2025-05-28T15:03:35.659Z"
   },
   {
    "duration": 30,
    "start_time": "2025-05-28T15:03:35.675Z"
   },
   {
    "duration": 44,
    "start_time": "2025-05-28T15:03:35.707Z"
   },
   {
    "duration": 36,
    "start_time": "2025-05-28T15:03:35.753Z"
   },
   {
    "duration": 538,
    "start_time": "2025-05-28T15:03:35.790Z"
   },
   {
    "duration": 5,
    "start_time": "2025-05-28T15:03:36.330Z"
   },
   {
    "duration": 107,
    "start_time": "2025-05-28T15:03:36.337Z"
   },
   {
    "duration": 2887,
    "start_time": "2025-05-28T15:05:07.386Z"
   },
   {
    "duration": 201,
    "start_time": "2025-05-28T15:06:29.120Z"
   },
   {
    "duration": 159,
    "start_time": "2025-05-28T15:06:41.375Z"
   },
   {
    "duration": 271,
    "start_time": "2025-05-28T15:06:51.071Z"
   },
   {
    "duration": 129,
    "start_time": "2025-05-28T15:06:55.475Z"
   },
   {
    "duration": 222,
    "start_time": "2025-05-28T15:07:03.854Z"
   },
   {
    "duration": 237,
    "start_time": "2025-05-28T15:08:12.939Z"
   },
   {
    "duration": 253,
    "start_time": "2025-05-28T15:08:32.422Z"
   },
   {
    "duration": 229,
    "start_time": "2025-05-28T15:09:40.793Z"
   },
   {
    "duration": 297,
    "start_time": "2025-05-28T15:09:50.026Z"
   },
   {
    "duration": 249,
    "start_time": "2025-05-28T15:10:00.597Z"
   },
   {
    "duration": 272,
    "start_time": "2025-05-28T15:13:22.207Z"
   },
   {
    "duration": 258,
    "start_time": "2025-05-28T15:13:41.252Z"
   },
   {
    "duration": 252,
    "start_time": "2025-05-28T15:14:52.802Z"
   },
   {
    "duration": 343,
    "start_time": "2025-05-28T15:15:06.187Z"
   },
   {
    "duration": 281,
    "start_time": "2025-05-28T15:15:15.692Z"
   },
   {
    "duration": 251,
    "start_time": "2025-05-28T15:16:43.972Z"
   },
   {
    "duration": 233,
    "start_time": "2025-05-28T15:17:35.277Z"
   },
   {
    "duration": 257,
    "start_time": "2025-05-28T15:17:44.878Z"
   },
   {
    "duration": 285,
    "start_time": "2025-05-28T15:19:46.522Z"
   },
   {
    "duration": 253,
    "start_time": "2025-05-28T15:20:26.974Z"
   },
   {
    "duration": 248,
    "start_time": "2025-05-28T15:20:55.973Z"
   },
   {
    "duration": 275,
    "start_time": "2025-05-28T15:21:24.537Z"
   },
   {
    "duration": 280,
    "start_time": "2025-05-28T15:21:37.372Z"
   },
   {
    "duration": 265,
    "start_time": "2025-05-28T15:21:48.308Z"
   },
   {
    "duration": 341,
    "start_time": "2025-05-28T15:22:06.793Z"
   },
   {
    "duration": 93,
    "start_time": "2025-05-28T15:23:28.602Z"
   },
   {
    "duration": 228,
    "start_time": "2025-05-28T15:23:33.822Z"
   },
   {
    "duration": 227,
    "start_time": "2025-05-28T15:23:54.874Z"
   },
   {
    "duration": 251,
    "start_time": "2025-05-28T15:24:06.683Z"
   },
   {
    "duration": 262,
    "start_time": "2025-05-28T15:24:17.477Z"
   },
   {
    "duration": 90,
    "start_time": "2025-05-28T15:28:14.434Z"
   },
   {
    "duration": 244,
    "start_time": "2025-05-28T15:28:20.453Z"
   },
   {
    "duration": 240,
    "start_time": "2025-05-28T15:30:28.542Z"
   },
   {
    "duration": 273,
    "start_time": "2025-05-28T15:30:48.638Z"
   },
   {
    "duration": 285,
    "start_time": "2025-05-28T15:31:10.338Z"
   },
   {
    "duration": 262,
    "start_time": "2025-05-28T15:31:41.055Z"
   },
   {
    "duration": 242,
    "start_time": "2025-05-28T15:32:07.810Z"
   },
   {
    "duration": 353,
    "start_time": "2025-05-28T15:33:19.157Z"
   },
   {
    "duration": 333,
    "start_time": "2025-05-28T15:35:46.654Z"
   },
   {
    "duration": 263,
    "start_time": "2025-05-28T15:36:34.475Z"
   },
   {
    "duration": 272,
    "start_time": "2025-05-28T15:36:44.065Z"
   },
   {
    "duration": 325,
    "start_time": "2025-05-28T15:37:06.459Z"
   },
   {
    "duration": 270,
    "start_time": "2025-05-28T15:37:16.143Z"
   },
   {
    "duration": 262,
    "start_time": "2025-05-28T15:38:30.630Z"
   },
   {
    "duration": 277,
    "start_time": "2025-05-28T15:38:38.669Z"
   },
   {
    "duration": 249,
    "start_time": "2025-05-28T15:39:36.453Z"
   },
   {
    "duration": 300,
    "start_time": "2025-05-28T15:39:52.255Z"
   },
   {
    "duration": 257,
    "start_time": "2025-05-28T15:40:04.293Z"
   },
   {
    "duration": 338,
    "start_time": "2025-05-28T15:40:17.710Z"
   },
   {
    "duration": 361,
    "start_time": "2025-05-28T15:43:56.550Z"
   },
   {
    "duration": 242,
    "start_time": "2025-05-28T15:44:13.876Z"
   },
   {
    "duration": 265,
    "start_time": "2025-05-28T15:44:54.138Z"
   },
   {
    "duration": 248,
    "start_time": "2025-05-28T15:45:35.766Z"
   },
   {
    "duration": 246,
    "start_time": "2025-05-28T15:46:10.664Z"
   },
   {
    "duration": 256,
    "start_time": "2025-05-28T15:47:00.697Z"
   },
   {
    "duration": 273,
    "start_time": "2025-05-28T15:47:38.315Z"
   },
   {
    "duration": 303,
    "start_time": "2025-05-28T15:49:21.769Z"
   },
   {
    "duration": 300,
    "start_time": "2025-05-28T15:49:31.843Z"
   },
   {
    "duration": 278,
    "start_time": "2025-05-28T15:51:17.795Z"
   },
   {
    "duration": 382,
    "start_time": "2025-05-28T15:51:34.346Z"
   },
   {
    "duration": 273,
    "start_time": "2025-05-28T15:52:17.494Z"
   },
   {
    "duration": 239,
    "start_time": "2025-05-28T15:52:36.150Z"
   },
   {
    "duration": 891,
    "start_time": "2025-05-28T20:53:46.187Z"
   },
   {
    "duration": 100,
    "start_time": "2025-05-28T20:53:47.081Z"
   },
   {
    "duration": 23,
    "start_time": "2025-05-28T20:53:47.183Z"
   },
   {
    "duration": 30,
    "start_time": "2025-05-28T20:53:47.209Z"
   },
   {
    "duration": 62,
    "start_time": "2025-05-28T20:53:47.241Z"
   },
   {
    "duration": 5,
    "start_time": "2025-05-28T20:53:47.305Z"
   },
   {
    "duration": 2333,
    "start_time": "2025-05-28T20:53:47.312Z"
   },
   {
    "duration": 10,
    "start_time": "2025-05-28T20:53:49.647Z"
   },
   {
    "duration": 38,
    "start_time": "2025-05-28T20:53:49.659Z"
   },
   {
    "duration": 4,
    "start_time": "2025-05-28T20:53:49.700Z"
   },
   {
    "duration": 33,
    "start_time": "2025-05-28T20:53:49.705Z"
   },
   {
    "duration": 16,
    "start_time": "2025-05-28T20:53:49.740Z"
   },
   {
    "duration": 13,
    "start_time": "2025-05-28T20:53:49.758Z"
   },
   {
    "duration": 27,
    "start_time": "2025-05-28T20:53:49.781Z"
   },
   {
    "duration": 29,
    "start_time": "2025-05-28T20:53:49.810Z"
   },
   {
    "duration": 22,
    "start_time": "2025-05-28T20:53:49.841Z"
   },
   {
    "duration": 60,
    "start_time": "2025-05-28T20:53:49.865Z"
   },
   {
    "duration": 34,
    "start_time": "2025-05-28T20:53:49.926Z"
   },
   {
    "duration": 21,
    "start_time": "2025-05-28T20:53:49.962Z"
   },
   {
    "duration": 140,
    "start_time": "2025-05-28T20:53:49.986Z"
   },
   {
    "duration": 28,
    "start_time": "2025-05-28T20:53:50.129Z"
   },
   {
    "duration": 27,
    "start_time": "2025-05-28T20:53:50.159Z"
   },
   {
    "duration": 11,
    "start_time": "2025-05-28T20:53:50.189Z"
   },
   {
    "duration": 38,
    "start_time": "2025-05-28T20:53:50.202Z"
   },
   {
    "duration": 415,
    "start_time": "2025-05-28T20:53:50.242Z"
   },
   {
    "duration": 5,
    "start_time": "2025-05-28T20:53:50.658Z"
   },
   {
    "duration": 47,
    "start_time": "2025-05-28T20:53:50.664Z"
   },
   {
    "duration": 217,
    "start_time": "2025-05-28T20:53:50.713Z"
   },
   {
    "duration": 303,
    "start_time": "2025-05-28T20:53:50.932Z"
   },
   {
    "duration": 302,
    "start_time": "2025-05-28T20:53:51.237Z"
   },
   {
    "duration": 373,
    "start_time": "2025-05-28T20:53:51.541Z"
   },
   {
    "duration": 300,
    "start_time": "2025-05-28T20:53:51.915Z"
   },
   {
    "duration": 243,
    "start_time": "2025-05-28T20:53:52.216Z"
   },
   {
    "duration": 210,
    "start_time": "2025-05-28T20:53:52.461Z"
   },
   {
    "duration": 190,
    "start_time": "2025-05-28T20:54:09.851Z"
   },
   {
    "duration": 205,
    "start_time": "2025-05-28T20:54:17.462Z"
   },
   {
    "duration": 200,
    "start_time": "2025-05-28T20:54:26.078Z"
   },
   {
    "duration": 192,
    "start_time": "2025-05-28T20:54:36.906Z"
   },
   {
    "duration": 209,
    "start_time": "2025-05-28T20:54:43.589Z"
   },
   {
    "duration": 135,
    "start_time": "2025-05-28T20:54:53.002Z"
   },
   {
    "duration": 163,
    "start_time": "2025-05-28T20:55:39.821Z"
   },
   {
    "duration": 302,
    "start_time": "2025-05-28T20:56:06.129Z"
   },
   {
    "duration": 167,
    "start_time": "2025-05-28T20:57:16.854Z"
   },
   {
    "duration": 204,
    "start_time": "2025-05-28T20:57:52.629Z"
   },
   {
    "duration": 144,
    "start_time": "2025-05-28T20:57:58.493Z"
   },
   {
    "duration": 225,
    "start_time": "2025-05-28T20:58:10.885Z"
   },
   {
    "duration": 201,
    "start_time": "2025-05-28T20:58:58.449Z"
   },
   {
    "duration": 217,
    "start_time": "2025-05-28T21:00:02.478Z"
   },
   {
    "duration": 181,
    "start_time": "2025-05-28T21:01:11.378Z"
   },
   {
    "duration": 176,
    "start_time": "2025-05-28T21:01:24.527Z"
   },
   {
    "duration": 177,
    "start_time": "2025-05-28T21:01:44.798Z"
   },
   {
    "duration": 166,
    "start_time": "2025-05-28T21:20:30.204Z"
   },
   {
    "duration": 4,
    "start_time": "2025-05-28T21:20:48.611Z"
   },
   {
    "duration": 291,
    "start_time": "2025-05-28T21:20:53.661Z"
   },
   {
    "duration": 6,
    "start_time": "2025-05-28T21:31:00.318Z"
   },
   {
    "duration": 30,
    "start_time": "2025-05-28T21:31:45.882Z"
   },
   {
    "duration": 65,
    "start_time": "2025-05-28T21:31:55.499Z"
   },
   {
    "duration": 53,
    "start_time": "2025-05-29T05:49:23.478Z"
   },
   {
    "duration": 863,
    "start_time": "2025-05-29T05:49:32.136Z"
   },
   {
    "duration": 96,
    "start_time": "2025-05-29T05:49:33.002Z"
   },
   {
    "duration": 17,
    "start_time": "2025-05-29T05:49:33.100Z"
   },
   {
    "duration": 34,
    "start_time": "2025-05-29T05:49:33.119Z"
   },
   {
    "duration": 41,
    "start_time": "2025-05-29T05:49:33.156Z"
   },
   {
    "duration": 9,
    "start_time": "2025-05-29T05:49:33.199Z"
   },
   {
    "duration": 2114,
    "start_time": "2025-05-29T05:49:33.210Z"
   },
   {
    "duration": 10,
    "start_time": "2025-05-29T05:49:35.325Z"
   },
   {
    "duration": 42,
    "start_time": "2025-05-29T05:49:35.336Z"
   },
   {
    "duration": 4,
    "start_time": "2025-05-29T05:49:35.380Z"
   },
   {
    "duration": 18,
    "start_time": "2025-05-29T05:49:35.386Z"
   },
   {
    "duration": 16,
    "start_time": "2025-05-29T05:49:35.406Z"
   },
   {
    "duration": 22,
    "start_time": "2025-05-29T05:49:35.424Z"
   },
   {
    "duration": 12,
    "start_time": "2025-05-29T05:49:35.451Z"
   },
   {
    "duration": 11,
    "start_time": "2025-05-29T05:49:35.470Z"
   },
   {
    "duration": 25,
    "start_time": "2025-05-29T05:49:35.482Z"
   },
   {
    "duration": 11,
    "start_time": "2025-05-29T05:49:35.508Z"
   },
   {
    "duration": 56,
    "start_time": "2025-05-29T05:49:35.521Z"
   },
   {
    "duration": 5,
    "start_time": "2025-05-29T05:49:35.580Z"
   },
   {
    "duration": 84,
    "start_time": "2025-05-29T05:49:35.587Z"
   },
   {
    "duration": 7,
    "start_time": "2025-05-29T05:49:35.673Z"
   },
   {
    "duration": 23,
    "start_time": "2025-05-29T05:49:35.682Z"
   },
   {
    "duration": 19,
    "start_time": "2025-05-29T05:49:35.707Z"
   },
   {
    "duration": 21,
    "start_time": "2025-05-29T05:49:35.728Z"
   },
   {
    "duration": 350,
    "start_time": "2025-05-29T05:49:35.751Z"
   },
   {
    "duration": 5,
    "start_time": "2025-05-29T05:49:36.103Z"
   },
   {
    "duration": 24,
    "start_time": "2025-05-29T05:49:36.109Z"
   },
   {
    "duration": 190,
    "start_time": "2025-05-29T05:49:36.135Z"
   },
   {
    "duration": 194,
    "start_time": "2025-05-29T05:49:36.328Z"
   },
   {
    "duration": 188,
    "start_time": "2025-05-29T05:49:36.524Z"
   },
   {
    "duration": 286,
    "start_time": "2025-05-29T05:49:36.714Z"
   },
   {
    "duration": 189,
    "start_time": "2025-05-29T05:49:37.002Z"
   },
   {
    "duration": 175,
    "start_time": "2025-05-29T05:49:37.193Z"
   },
   {
    "duration": 143,
    "start_time": "2025-05-29T05:49:37.372Z"
   },
   {
    "duration": 193,
    "start_time": "2025-05-29T05:49:37.517Z"
   },
   {
    "duration": 189,
    "start_time": "2025-05-29T05:49:37.712Z"
   },
   {
    "duration": 198,
    "start_time": "2025-05-29T05:49:37.902Z"
   },
   {
    "duration": 189,
    "start_time": "2025-05-29T05:49:38.102Z"
   },
   {
    "duration": 80,
    "start_time": "2025-05-29T05:49:38.293Z"
   },
   {
    "duration": 84,
    "start_time": "2025-05-29T05:49:38.374Z"
   },
   {
    "duration": 63,
    "start_time": "2025-05-29T05:49:54.973Z"
   },
   {
    "duration": 26,
    "start_time": "2025-05-29T05:50:06.454Z"
   },
   {
    "duration": 83,
    "start_time": "2025-05-29T05:54:59.232Z"
   },
   {
    "duration": 18,
    "start_time": "2025-05-29T05:55:02.308Z"
   },
   {
    "duration": 12,
    "start_time": "2025-05-29T05:56:59.393Z"
   },
   {
    "duration": 5,
    "start_time": "2025-05-29T05:57:01.973Z"
   },
   {
    "duration": 15,
    "start_time": "2025-05-29T05:58:53.078Z"
   },
   {
    "duration": 27,
    "start_time": "2025-05-29T05:59:17.366Z"
   },
   {
    "duration": 8,
    "start_time": "2025-05-29T05:59:19.416Z"
   },
   {
    "duration": 8,
    "start_time": "2025-05-29T06:03:48.844Z"
   },
   {
    "duration": 8,
    "start_time": "2025-05-29T06:03:58.351Z"
   },
   {
    "duration": 42,
    "start_time": "2025-05-29T06:04:00.917Z"
   },
   {
    "duration": 9,
    "start_time": "2025-05-29T06:04:02.446Z"
   },
   {
    "duration": 16,
    "start_time": "2025-05-29T06:04:47.269Z"
   },
   {
    "duration": 27,
    "start_time": "2025-05-29T06:04:53.483Z"
   },
   {
    "duration": 8,
    "start_time": "2025-05-29T06:05:18.295Z"
   },
   {
    "duration": 29848,
    "start_time": "2025-05-29T06:06:54.881Z"
   },
   {
    "duration": 29785,
    "start_time": "2025-05-29T06:08:47.779Z"
   },
   {
    "duration": 104,
    "start_time": "2025-05-29T06:10:55.134Z"
   },
   {
    "duration": 15,
    "start_time": "2025-05-29T06:11:03.090Z"
   },
   {
    "duration": 17,
    "start_time": "2025-05-29T06:13:01.952Z"
   },
   {
    "duration": 29,
    "start_time": "2025-05-29T06:13:23.009Z"
   },
   {
    "duration": 6,
    "start_time": "2025-05-29T06:13:45.277Z"
   },
   {
    "duration": 14,
    "start_time": "2025-05-29T06:14:11.273Z"
   },
   {
    "duration": 151,
    "start_time": "2025-05-29T06:14:42.986Z"
   },
   {
    "duration": 131,
    "start_time": "2025-05-29T06:14:53.809Z"
   },
   {
    "duration": 0,
    "start_time": "2025-05-29T06:21:34.432Z"
   },
   {
    "duration": 0,
    "start_time": "2025-05-29T06:21:34.434Z"
   },
   {
    "duration": 100,
    "start_time": "2025-05-29T06:21:37.222Z"
   },
   {
    "duration": 20,
    "start_time": "2025-05-29T06:21:46.547Z"
   },
   {
    "duration": 6,
    "start_time": "2025-05-29T06:21:59.978Z"
   },
   {
    "duration": 3,
    "start_time": "2025-05-29T06:39:51.766Z"
   },
   {
    "duration": 12,
    "start_time": "2025-05-29T06:41:54.278Z"
   },
   {
    "duration": 10,
    "start_time": "2025-05-29T06:42:05.707Z"
   },
   {
    "duration": 4,
    "start_time": "2025-05-29T06:42:33.357Z"
   },
   {
    "duration": 8,
    "start_time": "2025-05-29T06:42:42.302Z"
   },
   {
    "duration": 8,
    "start_time": "2025-05-29T06:42:48.657Z"
   },
   {
    "duration": 7,
    "start_time": "2025-05-29T06:49:44.716Z"
   },
   {
    "duration": 8,
    "start_time": "2025-05-29T06:52:13.392Z"
   },
   {
    "duration": 4,
    "start_time": "2025-05-29T06:52:24.643Z"
   },
   {
    "duration": 8,
    "start_time": "2025-05-29T06:52:33.152Z"
   },
   {
    "duration": 4,
    "start_time": "2025-05-29T06:52:34.976Z"
   },
   {
    "duration": 8,
    "start_time": "2025-05-29T06:52:38.249Z"
   },
   {
    "duration": 3,
    "start_time": "2025-05-29T06:52:39.626Z"
   },
   {
    "duration": 7,
    "start_time": "2025-05-29T06:53:04.260Z"
   },
   {
    "duration": 87,
    "start_time": "2025-05-29T06:55:08.832Z"
   },
   {
    "duration": 671,
    "start_time": "2025-05-29T06:55:27.286Z"
   },
   {
    "duration": 109,
    "start_time": "2025-05-29T06:55:27.960Z"
   },
   {
    "duration": 17,
    "start_time": "2025-05-29T06:55:28.071Z"
   },
   {
    "duration": 33,
    "start_time": "2025-05-29T06:55:28.090Z"
   },
   {
    "duration": 47,
    "start_time": "2025-05-29T06:55:28.126Z"
   },
   {
    "duration": 6,
    "start_time": "2025-05-29T06:55:28.176Z"
   },
   {
    "duration": 2028,
    "start_time": "2025-05-29T06:55:28.184Z"
   },
   {
    "duration": 12,
    "start_time": "2025-05-29T06:55:30.214Z"
   },
   {
    "duration": 33,
    "start_time": "2025-05-29T06:55:30.228Z"
   },
   {
    "duration": 28,
    "start_time": "2025-05-29T06:55:30.263Z"
   },
   {
    "duration": 22,
    "start_time": "2025-05-29T06:55:30.293Z"
   },
   {
    "duration": 41,
    "start_time": "2025-05-29T06:55:30.316Z"
   },
   {
    "duration": 19,
    "start_time": "2025-05-29T06:55:30.359Z"
   },
   {
    "duration": 5,
    "start_time": "2025-05-29T06:55:30.381Z"
   },
   {
    "duration": 35,
    "start_time": "2025-05-29T06:55:30.388Z"
   },
   {
    "duration": 35,
    "start_time": "2025-05-29T06:55:30.425Z"
   },
   {
    "duration": 17,
    "start_time": "2025-05-29T06:55:30.462Z"
   },
   {
    "duration": 16,
    "start_time": "2025-05-29T06:55:30.481Z"
   },
   {
    "duration": 5,
    "start_time": "2025-05-29T06:55:30.499Z"
   },
   {
    "duration": 91,
    "start_time": "2025-05-29T06:55:30.506Z"
   },
   {
    "duration": 5,
    "start_time": "2025-05-29T06:55:30.599Z"
   },
   {
    "duration": 8,
    "start_time": "2025-05-29T06:55:30.606Z"
   },
   {
    "duration": 5,
    "start_time": "2025-05-29T06:55:30.616Z"
   },
   {
    "duration": 38,
    "start_time": "2025-05-29T06:55:30.623Z"
   },
   {
    "duration": 354,
    "start_time": "2025-05-29T06:55:30.663Z"
   },
   {
    "duration": 4,
    "start_time": "2025-05-29T06:55:31.019Z"
   },
   {
    "duration": 57,
    "start_time": "2025-05-29T06:55:31.025Z"
   },
   {
    "duration": 171,
    "start_time": "2025-05-29T06:55:31.084Z"
   },
   {
    "duration": 175,
    "start_time": "2025-05-29T06:55:31.256Z"
   },
   {
    "duration": 201,
    "start_time": "2025-05-29T06:55:31.434Z"
   },
   {
    "duration": 294,
    "start_time": "2025-05-29T06:55:31.637Z"
   },
   {
    "duration": 187,
    "start_time": "2025-05-29T06:55:31.932Z"
   },
   {
    "duration": 190,
    "start_time": "2025-05-29T06:55:32.120Z"
   },
   {
    "duration": 146,
    "start_time": "2025-05-29T06:55:32.312Z"
   },
   {
    "duration": 180,
    "start_time": "2025-05-29T06:55:32.459Z"
   },
   {
    "duration": 191,
    "start_time": "2025-05-29T06:55:32.641Z"
   },
   {
    "duration": 182,
    "start_time": "2025-05-29T06:55:32.834Z"
   },
   {
    "duration": 175,
    "start_time": "2025-05-29T06:55:33.018Z"
   },
   {
    "duration": 78,
    "start_time": "2025-05-29T06:55:33.195Z"
   },
   {
    "duration": 3,
    "start_time": "2025-05-29T06:55:33.274Z"
   },
   {
    "duration": 22,
    "start_time": "2025-05-29T06:55:33.282Z"
   },
   {
    "duration": 4,
    "start_time": "2025-05-29T06:55:33.306Z"
   },
   {
    "duration": 17,
    "start_time": "2025-05-29T06:55:33.312Z"
   },
   {
    "duration": 23,
    "start_time": "2025-05-29T06:55:33.331Z"
   },
   {
    "duration": 19,
    "start_time": "2025-05-29T06:55:33.356Z"
   },
   {
    "duration": 21,
    "start_time": "2025-05-29T06:55:33.377Z"
   },
   {
    "duration": 9,
    "start_time": "2025-05-29T06:55:33.399Z"
   },
   {
    "duration": 94,
    "start_time": "2025-05-29T06:55:33.410Z"
   },
   {
    "duration": 6,
    "start_time": "2025-05-29T06:57:19.509Z"
   },
   {
    "duration": 7,
    "start_time": "2025-05-29T06:57:21.720Z"
   },
   {
    "duration": 8,
    "start_time": "2025-05-29T06:57:39.687Z"
   },
   {
    "duration": 15,
    "start_time": "2025-05-29T06:57:41.221Z"
   },
   {
    "duration": 10,
    "start_time": "2025-05-29T06:57:51.658Z"
   },
   {
    "duration": 8,
    "start_time": "2025-05-29T06:57:53.656Z"
   },
   {
    "duration": 9,
    "start_time": "2025-05-29T06:57:56.679Z"
   },
   {
    "duration": 10,
    "start_time": "2025-05-29T06:58:03.414Z"
   },
   {
    "duration": 5,
    "start_time": "2025-05-29T06:58:05.549Z"
   },
   {
    "duration": 1383,
    "start_time": "2025-05-29T07:00:32.168Z"
   },
   {
    "duration": 160,
    "start_time": "2025-05-29T07:00:59.467Z"
   },
   {
    "duration": 1689,
    "start_time": "2025-05-29T07:01:20.930Z"
   },
   {
    "duration": 9,
    "start_time": "2025-05-29T07:01:30.688Z"
   },
   {
    "duration": 5,
    "start_time": "2025-05-29T07:02:06.042Z"
   },
   {
    "duration": 360,
    "start_time": "2025-05-29T07:03:03.272Z"
   },
   {
    "duration": 13,
    "start_time": "2025-05-29T07:03:29.327Z"
   },
   {
    "duration": 369,
    "start_time": "2025-05-29T07:03:33.853Z"
   },
   {
    "duration": 343,
    "start_time": "2025-05-29T07:03:51.004Z"
   },
   {
    "duration": 9,
    "start_time": "2025-05-29T07:04:13.577Z"
   },
   {
    "duration": 5,
    "start_time": "2025-05-29T07:04:18.911Z"
   },
   {
    "duration": 102,
    "start_time": "2025-05-29T07:04:46.434Z"
   },
   {
    "duration": 161,
    "start_time": "2025-05-29T07:04:51.476Z"
   },
   {
    "duration": 237,
    "start_time": "2025-05-29T07:05:28.214Z"
   },
   {
    "duration": 147,
    "start_time": "2025-05-29T07:05:39.586Z"
   },
   {
    "duration": 147,
    "start_time": "2025-05-29T07:05:46.511Z"
   },
   {
    "duration": 251,
    "start_time": "2025-05-29T07:06:33.854Z"
   },
   {
    "duration": 192,
    "start_time": "2025-05-29T07:06:44.503Z"
   },
   {
    "duration": 163,
    "start_time": "2025-05-29T07:07:00.232Z"
   },
   {
    "duration": 631,
    "start_time": "2025-05-29T07:29:00.987Z"
   },
   {
    "duration": 117,
    "start_time": "2025-05-29T07:29:01.620Z"
   },
   {
    "duration": 23,
    "start_time": "2025-05-29T07:29:01.738Z"
   },
   {
    "duration": 47,
    "start_time": "2025-05-29T07:29:01.762Z"
   },
   {
    "duration": 42,
    "start_time": "2025-05-29T07:29:01.811Z"
   },
   {
    "duration": 91,
    "start_time": "2025-05-29T07:29:01.855Z"
   },
   {
    "duration": 1974,
    "start_time": "2025-05-29T07:29:01.950Z"
   },
   {
    "duration": 9,
    "start_time": "2025-05-29T07:29:03.925Z"
   },
   {
    "duration": 33,
    "start_time": "2025-05-29T07:29:03.935Z"
   },
   {
    "duration": 4,
    "start_time": "2025-05-29T07:29:03.969Z"
   },
   {
    "duration": 78,
    "start_time": "2025-05-29T07:29:03.974Z"
   },
   {
    "duration": 19,
    "start_time": "2025-05-29T07:29:04.054Z"
   },
   {
    "duration": 8,
    "start_time": "2025-05-29T07:29:04.075Z"
   },
   {
    "duration": 6,
    "start_time": "2025-05-29T07:29:04.086Z"
   },
   {
    "duration": 31,
    "start_time": "2025-05-29T07:29:04.093Z"
   },
   {
    "duration": 9,
    "start_time": "2025-05-29T07:29:04.126Z"
   },
   {
    "duration": 35,
    "start_time": "2025-05-29T07:29:04.137Z"
   },
   {
    "duration": 22,
    "start_time": "2025-05-29T07:29:04.175Z"
   },
   {
    "duration": 26,
    "start_time": "2025-05-29T07:29:04.198Z"
   },
   {
    "duration": 77,
    "start_time": "2025-05-29T07:29:04.226Z"
   },
   {
    "duration": 6,
    "start_time": "2025-05-29T07:29:04.305Z"
   },
   {
    "duration": 41,
    "start_time": "2025-05-29T07:29:04.312Z"
   },
   {
    "duration": 14,
    "start_time": "2025-05-29T07:29:04.354Z"
   },
   {
    "duration": 29,
    "start_time": "2025-05-29T07:29:04.369Z"
   },
   {
    "duration": 360,
    "start_time": "2025-05-29T07:29:04.400Z"
   },
   {
    "duration": 5,
    "start_time": "2025-05-29T07:29:04.762Z"
   },
   {
    "duration": 26,
    "start_time": "2025-05-29T07:29:04.768Z"
   },
   {
    "duration": 179,
    "start_time": "2025-05-29T07:29:04.795Z"
   },
   {
    "duration": 178,
    "start_time": "2025-05-29T07:29:04.975Z"
   },
   {
    "duration": 177,
    "start_time": "2025-05-29T07:29:05.155Z"
   },
   {
    "duration": 279,
    "start_time": "2025-05-29T07:29:05.334Z"
   },
   {
    "duration": 173,
    "start_time": "2025-05-29T07:29:05.614Z"
   },
   {
    "duration": 171,
    "start_time": "2025-05-29T07:29:05.789Z"
   },
   {
    "duration": 131,
    "start_time": "2025-05-29T07:29:05.961Z"
   },
   {
    "duration": 179,
    "start_time": "2025-05-29T07:29:06.094Z"
   },
   {
    "duration": 187,
    "start_time": "2025-05-29T07:29:06.275Z"
   },
   {
    "duration": 189,
    "start_time": "2025-05-29T07:29:06.464Z"
   },
   {
    "duration": 172,
    "start_time": "2025-05-29T07:29:06.655Z"
   },
   {
    "duration": 74,
    "start_time": "2025-05-29T07:29:06.829Z"
   },
   {
    "duration": 3,
    "start_time": "2025-05-29T07:29:06.904Z"
   },
   {
    "duration": 39,
    "start_time": "2025-05-29T07:29:06.911Z"
   },
   {
    "duration": 102,
    "start_time": "2025-05-29T07:29:06.952Z"
   },
   {
    "duration": 11,
    "start_time": "2025-05-29T07:29:07.056Z"
   },
   {
    "duration": 27,
    "start_time": "2025-05-29T07:29:07.069Z"
   },
   {
    "duration": 37,
    "start_time": "2025-05-29T07:29:07.098Z"
   },
   {
    "duration": 18,
    "start_time": "2025-05-29T07:29:07.137Z"
   },
   {
    "duration": 161,
    "start_time": "2025-05-29T07:29:07.156Z"
   },
   {
    "duration": 7,
    "start_time": "2025-05-29T07:34:33.424Z"
   },
   {
    "duration": 50,
    "start_time": "2025-05-29T07:36:16.831Z"
   },
   {
    "duration": 463,
    "start_time": "2025-05-29T07:36:43.139Z"
   },
   {
    "duration": 10,
    "start_time": "2025-05-29T07:41:09.039Z"
   },
   {
    "duration": 39,
    "start_time": "2025-05-29T07:41:13.254Z"
   },
   {
    "duration": 660,
    "start_time": "2025-05-29T07:43:25.551Z"
   },
   {
    "duration": 93,
    "start_time": "2025-05-29T07:43:26.213Z"
   },
   {
    "duration": 15,
    "start_time": "2025-05-29T07:43:26.308Z"
   },
   {
    "duration": 36,
    "start_time": "2025-05-29T07:43:26.326Z"
   },
   {
    "duration": 23,
    "start_time": "2025-05-29T07:43:26.364Z"
   },
   {
    "duration": 16,
    "start_time": "2025-05-29T07:43:26.389Z"
   },
   {
    "duration": 1984,
    "start_time": "2025-05-29T07:43:26.407Z"
   },
   {
    "duration": 9,
    "start_time": "2025-05-29T07:43:28.393Z"
   },
   {
    "duration": 19,
    "start_time": "2025-05-29T07:43:28.403Z"
   },
   {
    "duration": 3,
    "start_time": "2025-05-29T07:43:28.424Z"
   },
   {
    "duration": 8,
    "start_time": "2025-05-29T07:43:28.439Z"
   },
   {
    "duration": 14,
    "start_time": "2025-05-29T07:43:28.448Z"
   },
   {
    "duration": 8,
    "start_time": "2025-05-29T07:43:28.463Z"
   },
   {
    "duration": 4,
    "start_time": "2025-05-29T07:43:28.474Z"
   },
   {
    "duration": 12,
    "start_time": "2025-05-29T07:43:28.480Z"
   },
   {
    "duration": 5,
    "start_time": "2025-05-29T07:43:28.494Z"
   },
   {
    "duration": 5,
    "start_time": "2025-05-29T07:43:28.500Z"
   },
   {
    "duration": 6,
    "start_time": "2025-05-29T07:43:28.538Z"
   },
   {
    "duration": 15,
    "start_time": "2025-05-29T07:43:28.545Z"
   },
   {
    "duration": 5,
    "start_time": "2025-05-29T07:43:28.561Z"
   },
   {
    "duration": 87,
    "start_time": "2025-05-29T07:43:28.568Z"
   },
   {
    "duration": 6,
    "start_time": "2025-05-29T07:43:28.656Z"
   },
   {
    "duration": 9,
    "start_time": "2025-05-29T07:43:28.663Z"
   },
   {
    "duration": 6,
    "start_time": "2025-05-29T07:43:28.673Z"
   },
   {
    "duration": 12,
    "start_time": "2025-05-29T07:43:28.680Z"
   },
   {
    "duration": 322,
    "start_time": "2025-05-29T07:43:28.693Z"
   },
   {
    "duration": 4,
    "start_time": "2025-05-29T07:43:29.017Z"
   },
   {
    "duration": 24,
    "start_time": "2025-05-29T07:43:29.022Z"
   },
   {
    "duration": 223,
    "start_time": "2025-05-29T07:43:29.048Z"
   },
   {
    "duration": 459,
    "start_time": "2025-05-29T07:43:29.272Z"
   },
   {
    "duration": 170,
    "start_time": "2025-05-29T07:43:29.732Z"
   },
   {
    "duration": 174,
    "start_time": "2025-05-29T07:43:29.904Z"
   },
   {
    "duration": 183,
    "start_time": "2025-05-29T07:43:30.080Z"
   },
   {
    "duration": 169,
    "start_time": "2025-05-29T07:43:30.265Z"
   },
   {
    "duration": 160,
    "start_time": "2025-05-29T07:43:30.435Z"
   },
   {
    "duration": 127,
    "start_time": "2025-05-29T07:43:30.597Z"
   },
   {
    "duration": 168,
    "start_time": "2025-05-29T07:43:30.725Z"
   },
   {
    "duration": 205,
    "start_time": "2025-05-29T07:43:30.895Z"
   },
   {
    "duration": 180,
    "start_time": "2025-05-29T07:43:31.102Z"
   },
   {
    "duration": 171,
    "start_time": "2025-05-29T07:43:31.284Z"
   },
   {
    "duration": 95,
    "start_time": "2025-05-29T07:43:31.460Z"
   },
   {
    "duration": 3,
    "start_time": "2025-05-29T07:43:31.557Z"
   },
   {
    "duration": 41,
    "start_time": "2025-05-29T07:43:31.562Z"
   },
   {
    "duration": 18,
    "start_time": "2025-05-29T07:43:31.605Z"
   },
   {
    "duration": 5,
    "start_time": "2025-05-29T07:43:31.624Z"
   },
   {
    "duration": 8,
    "start_time": "2025-05-29T07:43:31.630Z"
   },
   {
    "duration": 104,
    "start_time": "2025-05-29T07:43:31.640Z"
   },
   {
    "duration": 9,
    "start_time": "2025-05-29T07:43:31.745Z"
   },
   {
    "duration": 160,
    "start_time": "2025-05-29T07:43:31.755Z"
   },
   {
    "duration": 52,
    "start_time": "2025-05-29T14:41:57.979Z"
   },
   {
    "duration": 928,
    "start_time": "2025-05-29T14:42:05.406Z"
   },
   {
    "duration": 106,
    "start_time": "2025-05-29T14:42:06.337Z"
   },
   {
    "duration": 18,
    "start_time": "2025-05-29T14:42:06.444Z"
   },
   {
    "duration": 37,
    "start_time": "2025-05-29T14:42:06.465Z"
   },
   {
    "duration": 43,
    "start_time": "2025-05-29T14:42:06.504Z"
   },
   {
    "duration": 2248,
    "start_time": "2025-05-29T14:42:06.549Z"
   },
   {
    "duration": 10,
    "start_time": "2025-05-29T14:42:08.799Z"
   },
   {
    "duration": 88,
    "start_time": "2025-05-29T14:42:08.811Z"
   },
   {
    "duration": 5,
    "start_time": "2025-05-29T14:42:08.902Z"
   },
   {
    "duration": 21,
    "start_time": "2025-05-29T14:42:08.909Z"
   },
   {
    "duration": 23,
    "start_time": "2025-05-29T14:42:08.937Z"
   },
   {
    "duration": 11,
    "start_time": "2025-05-29T14:42:08.962Z"
   },
   {
    "duration": 14,
    "start_time": "2025-05-29T14:42:08.975Z"
   },
   {
    "duration": 24,
    "start_time": "2025-05-29T14:42:08.993Z"
   },
   {
    "duration": 109,
    "start_time": "2025-05-29T14:42:09.019Z"
   },
   {
    "duration": 0,
    "start_time": "2025-05-29T14:42:09.131Z"
   },
   {
    "duration": 1,
    "start_time": "2025-05-29T14:42:09.135Z"
   },
   {
    "duration": 0,
    "start_time": "2025-05-29T14:42:09.138Z"
   },
   {
    "duration": 0,
    "start_time": "2025-05-29T14:42:09.138Z"
   },
   {
    "duration": 0,
    "start_time": "2025-05-29T14:42:09.139Z"
   },
   {
    "duration": 0,
    "start_time": "2025-05-29T14:42:09.140Z"
   },
   {
    "duration": 0,
    "start_time": "2025-05-29T14:42:09.142Z"
   },
   {
    "duration": 0,
    "start_time": "2025-05-29T14:42:09.144Z"
   },
   {
    "duration": 0,
    "start_time": "2025-05-29T14:42:09.145Z"
   },
   {
    "duration": 0,
    "start_time": "2025-05-29T14:42:09.147Z"
   },
   {
    "duration": 0,
    "start_time": "2025-05-29T14:42:09.148Z"
   },
   {
    "duration": 0,
    "start_time": "2025-05-29T14:42:09.150Z"
   },
   {
    "duration": 0,
    "start_time": "2025-05-29T14:42:09.151Z"
   },
   {
    "duration": 0,
    "start_time": "2025-05-29T14:42:09.153Z"
   },
   {
    "duration": 0,
    "start_time": "2025-05-29T14:42:09.154Z"
   },
   {
    "duration": 0,
    "start_time": "2025-05-29T14:42:09.157Z"
   },
   {
    "duration": 0,
    "start_time": "2025-05-29T14:42:09.159Z"
   },
   {
    "duration": 0,
    "start_time": "2025-05-29T14:42:09.161Z"
   },
   {
    "duration": 0,
    "start_time": "2025-05-29T14:42:09.162Z"
   },
   {
    "duration": 0,
    "start_time": "2025-05-29T14:42:09.164Z"
   },
   {
    "duration": 0,
    "start_time": "2025-05-29T14:42:09.165Z"
   },
   {
    "duration": 0,
    "start_time": "2025-05-29T14:42:09.167Z"
   },
   {
    "duration": 0,
    "start_time": "2025-05-29T14:42:09.168Z"
   },
   {
    "duration": 0,
    "start_time": "2025-05-29T14:42:09.170Z"
   },
   {
    "duration": 0,
    "start_time": "2025-05-29T14:42:09.171Z"
   },
   {
    "duration": 0,
    "start_time": "2025-05-29T14:42:09.173Z"
   },
   {
    "duration": 0,
    "start_time": "2025-05-29T14:42:09.174Z"
   },
   {
    "duration": 0,
    "start_time": "2025-05-29T14:42:09.175Z"
   },
   {
    "duration": 0,
    "start_time": "2025-05-29T14:42:09.236Z"
   },
   {
    "duration": 1,
    "start_time": "2025-05-29T14:42:09.237Z"
   },
   {
    "duration": 0,
    "start_time": "2025-05-29T14:42:09.239Z"
   },
   {
    "duration": 0,
    "start_time": "2025-05-29T14:42:09.240Z"
   },
   {
    "duration": 0,
    "start_time": "2025-05-29T14:42:09.241Z"
   },
   {
    "duration": 204,
    "start_time": "2025-05-29T14:45:05.321Z"
   },
   {
    "duration": 0,
    "start_time": "2025-05-29T14:50:56.403Z"
   },
   {
    "duration": 19,
    "start_time": "2025-05-29T15:00:08.405Z"
   },
   {
    "duration": 209,
    "start_time": "2025-05-29T15:00:18.281Z"
   },
   {
    "duration": 9,
    "start_time": "2025-05-29T15:00:31.282Z"
   },
   {
    "duration": 4,
    "start_time": "2025-05-29T15:01:33.198Z"
   },
   {
    "duration": 9,
    "start_time": "2025-05-29T15:01:39.314Z"
   },
   {
    "duration": 174,
    "start_time": "2025-05-29T15:02:20.175Z"
   },
   {
    "duration": 6412,
    "start_time": "2025-05-29T15:02:28.204Z"
   },
   {
    "duration": 9,
    "start_time": "2025-05-29T15:02:47.374Z"
   },
   {
    "duration": 160,
    "start_time": "2025-05-29T15:02:55.832Z"
   },
   {
    "duration": 152,
    "start_time": "2025-05-29T15:03:18.943Z"
   },
   {
    "duration": 18,
    "start_time": "2025-05-29T15:03:55.094Z"
   },
   {
    "duration": 4,
    "start_time": "2025-05-29T15:03:56.662Z"
   },
   {
    "duration": 131,
    "start_time": "2025-05-29T15:03:57.999Z"
   },
   {
    "duration": 18,
    "start_time": "2025-05-29T15:04:43.913Z"
   },
   {
    "duration": 4,
    "start_time": "2025-05-29T15:04:45.857Z"
   },
   {
    "duration": 12,
    "start_time": "2025-05-29T15:05:10.822Z"
   },
   {
    "duration": 10,
    "start_time": "2025-05-29T15:07:19.314Z"
   },
   {
    "duration": 7,
    "start_time": "2025-05-29T15:08:08.579Z"
   },
   {
    "duration": 206,
    "start_time": "2025-05-29T15:08:16.131Z"
   },
   {
    "duration": 156,
    "start_time": "2025-05-29T15:08:22.360Z"
   },
   {
    "duration": 7834,
    "start_time": "2025-05-29T15:08:44.987Z"
   },
   {
    "duration": 5,
    "start_time": "2025-05-29T15:09:44.731Z"
   },
   {
    "duration": 5,
    "start_time": "2025-05-29T15:09:51.087Z"
   },
   {
    "duration": 6,
    "start_time": "2025-05-29T15:10:19.858Z"
   },
   {
    "duration": 6,
    "start_time": "2025-05-29T15:10:51.504Z"
   },
   {
    "duration": 3,
    "start_time": "2025-05-29T15:11:11.509Z"
   },
   {
    "duration": 180,
    "start_time": "2025-05-29T15:11:24.031Z"
   },
   {
    "duration": 15,
    "start_time": "2025-05-29T15:11:55.249Z"
   },
   {
    "duration": 11,
    "start_time": "2025-05-29T15:12:36.521Z"
   },
   {
    "duration": 3,
    "start_time": "2025-05-29T15:12:53.579Z"
   },
   {
    "duration": 12,
    "start_time": "2025-05-29T15:13:00.601Z"
   },
   {
    "duration": 10,
    "start_time": "2025-05-29T15:13:14.420Z"
   },
   {
    "duration": 10,
    "start_time": "2025-05-29T15:13:32.651Z"
   },
   {
    "duration": 10,
    "start_time": "2025-05-29T15:14:44.078Z"
   },
   {
    "duration": 16,
    "start_time": "2025-05-29T15:19:04.746Z"
   },
   {
    "duration": 11,
    "start_time": "2025-05-29T15:19:39.197Z"
   },
   {
    "duration": 17,
    "start_time": "2025-05-29T15:20:49.500Z"
   },
   {
    "duration": 731,
    "start_time": "2025-05-29T15:22:50.584Z"
   },
   {
    "duration": 147,
    "start_time": "2025-05-29T15:22:51.316Z"
   },
   {
    "duration": 17,
    "start_time": "2025-05-29T15:22:51.465Z"
   },
   {
    "duration": 50,
    "start_time": "2025-05-29T15:22:51.484Z"
   },
   {
    "duration": 32,
    "start_time": "2025-05-29T15:22:51.536Z"
   },
   {
    "duration": 2371,
    "start_time": "2025-05-29T15:22:51.570Z"
   },
   {
    "duration": 14,
    "start_time": "2025-05-29T15:22:53.943Z"
   },
   {
    "duration": 112,
    "start_time": "2025-05-29T15:22:53.960Z"
   },
   {
    "duration": 1830,
    "start_time": "2025-05-29T15:22:54.074Z"
   },
   {
    "duration": 99,
    "start_time": "2025-05-29T15:22:55.906Z"
   },
   {
    "duration": 0,
    "start_time": "2025-05-29T15:22:56.008Z"
   },
   {
    "duration": 0,
    "start_time": "2025-05-29T15:22:56.010Z"
   },
   {
    "duration": 0,
    "start_time": "2025-05-29T15:22:56.011Z"
   },
   {
    "duration": 0,
    "start_time": "2025-05-29T15:22:56.013Z"
   },
   {
    "duration": 0,
    "start_time": "2025-05-29T15:22:56.014Z"
   },
   {
    "duration": 0,
    "start_time": "2025-05-29T15:22:56.016Z"
   },
   {
    "duration": 0,
    "start_time": "2025-05-29T15:22:56.017Z"
   },
   {
    "duration": 0,
    "start_time": "2025-05-29T15:22:56.019Z"
   },
   {
    "duration": 0,
    "start_time": "2025-05-29T15:22:56.041Z"
   },
   {
    "duration": 0,
    "start_time": "2025-05-29T15:22:56.043Z"
   },
   {
    "duration": 0,
    "start_time": "2025-05-29T15:22:56.046Z"
   },
   {
    "duration": 0,
    "start_time": "2025-05-29T15:22:56.048Z"
   },
   {
    "duration": 0,
    "start_time": "2025-05-29T15:22:56.050Z"
   },
   {
    "duration": 0,
    "start_time": "2025-05-29T15:22:56.052Z"
   },
   {
    "duration": 0,
    "start_time": "2025-05-29T15:22:56.053Z"
   },
   {
    "duration": 0,
    "start_time": "2025-05-29T15:22:56.056Z"
   },
   {
    "duration": 0,
    "start_time": "2025-05-29T15:22:56.058Z"
   },
   {
    "duration": 0,
    "start_time": "2025-05-29T15:22:56.061Z"
   },
   {
    "duration": 0,
    "start_time": "2025-05-29T15:22:56.063Z"
   },
   {
    "duration": 0,
    "start_time": "2025-05-29T15:22:56.065Z"
   },
   {
    "duration": 0,
    "start_time": "2025-05-29T15:22:56.066Z"
   },
   {
    "duration": 0,
    "start_time": "2025-05-29T15:22:56.068Z"
   },
   {
    "duration": 0,
    "start_time": "2025-05-29T15:22:56.069Z"
   },
   {
    "duration": 0,
    "start_time": "2025-05-29T15:22:56.070Z"
   },
   {
    "duration": 0,
    "start_time": "2025-05-29T15:22:56.071Z"
   },
   {
    "duration": 0,
    "start_time": "2025-05-29T15:22:56.072Z"
   },
   {
    "duration": 0,
    "start_time": "2025-05-29T15:22:56.073Z"
   },
   {
    "duration": 0,
    "start_time": "2025-05-29T15:22:56.075Z"
   },
   {
    "duration": 0,
    "start_time": "2025-05-29T15:22:56.076Z"
   },
   {
    "duration": 0,
    "start_time": "2025-05-29T15:22:56.077Z"
   },
   {
    "duration": 0,
    "start_time": "2025-05-29T15:22:56.078Z"
   },
   {
    "duration": 0,
    "start_time": "2025-05-29T15:22:56.080Z"
   },
   {
    "duration": 0,
    "start_time": "2025-05-29T15:22:56.081Z"
   },
   {
    "duration": 0,
    "start_time": "2025-05-29T15:22:56.082Z"
   },
   {
    "duration": 0,
    "start_time": "2025-05-29T15:22:56.083Z"
   },
   {
    "duration": 0,
    "start_time": "2025-05-29T15:22:56.084Z"
   },
   {
    "duration": 0,
    "start_time": "2025-05-29T15:22:56.137Z"
   },
   {
    "duration": 0,
    "start_time": "2025-05-29T15:22:56.142Z"
   },
   {
    "duration": 0,
    "start_time": "2025-05-29T15:22:56.144Z"
   },
   {
    "duration": 0,
    "start_time": "2025-05-29T15:22:56.146Z"
   },
   {
    "duration": 1822,
    "start_time": "2025-05-29T15:23:24.012Z"
   },
   {
    "duration": 829,
    "start_time": "2025-05-29T17:58:38.831Z"
   },
   {
    "duration": 92,
    "start_time": "2025-05-29T17:58:39.663Z"
   },
   {
    "duration": 17,
    "start_time": "2025-05-29T17:58:39.757Z"
   },
   {
    "duration": 29,
    "start_time": "2025-05-29T17:58:39.776Z"
   },
   {
    "duration": 42,
    "start_time": "2025-05-29T17:58:39.806Z"
   },
   {
    "duration": 1927,
    "start_time": "2025-05-29T17:58:39.849Z"
   },
   {
    "duration": 9,
    "start_time": "2025-05-29T17:58:41.778Z"
   },
   {
    "duration": 72,
    "start_time": "2025-05-29T17:58:41.789Z"
   },
   {
    "duration": 1435,
    "start_time": "2025-05-29T17:58:41.863Z"
   },
   {
    "duration": 4,
    "start_time": "2025-05-29T17:58:43.301Z"
   },
   {
    "duration": 12,
    "start_time": "2025-05-29T17:58:43.307Z"
   },
   {
    "duration": 27,
    "start_time": "2025-05-29T17:58:43.321Z"
   },
   {
    "duration": 18,
    "start_time": "2025-05-29T17:58:43.350Z"
   },
   {
    "duration": 23,
    "start_time": "2025-05-29T17:58:43.370Z"
   },
   {
    "duration": 15,
    "start_time": "2025-05-29T17:58:43.395Z"
   },
   {
    "duration": 92,
    "start_time": "2025-05-29T17:58:43.412Z"
   },
   {
    "duration": 0,
    "start_time": "2025-05-29T17:58:43.507Z"
   },
   {
    "duration": 0,
    "start_time": "2025-05-29T17:58:43.509Z"
   },
   {
    "duration": 0,
    "start_time": "2025-05-29T17:58:43.510Z"
   },
   {
    "duration": 0,
    "start_time": "2025-05-29T17:58:43.512Z"
   },
   {
    "duration": 0,
    "start_time": "2025-05-29T17:58:43.513Z"
   },
   {
    "duration": 0,
    "start_time": "2025-05-29T17:58:43.514Z"
   },
   {
    "duration": 0,
    "start_time": "2025-05-29T17:58:43.516Z"
   },
   {
    "duration": 0,
    "start_time": "2025-05-29T17:58:43.517Z"
   },
   {
    "duration": 0,
    "start_time": "2025-05-29T17:58:43.539Z"
   },
   {
    "duration": 0,
    "start_time": "2025-05-29T17:58:43.540Z"
   },
   {
    "duration": 0,
    "start_time": "2025-05-29T17:58:43.541Z"
   },
   {
    "duration": 0,
    "start_time": "2025-05-29T17:58:43.543Z"
   },
   {
    "duration": 0,
    "start_time": "2025-05-29T17:58:43.544Z"
   },
   {
    "duration": 0,
    "start_time": "2025-05-29T17:58:43.545Z"
   },
   {
    "duration": 0,
    "start_time": "2025-05-29T17:58:43.547Z"
   },
   {
    "duration": 0,
    "start_time": "2025-05-29T17:58:43.548Z"
   },
   {
    "duration": 0,
    "start_time": "2025-05-29T17:58:43.550Z"
   },
   {
    "duration": 0,
    "start_time": "2025-05-29T17:58:43.552Z"
   },
   {
    "duration": 0,
    "start_time": "2025-05-29T17:58:43.553Z"
   },
   {
    "duration": 0,
    "start_time": "2025-05-29T17:58:43.555Z"
   },
   {
    "duration": 0,
    "start_time": "2025-05-29T17:58:43.556Z"
   },
   {
    "duration": 0,
    "start_time": "2025-05-29T17:58:43.558Z"
   },
   {
    "duration": 0,
    "start_time": "2025-05-29T17:58:43.559Z"
   },
   {
    "duration": 0,
    "start_time": "2025-05-29T17:58:43.560Z"
   },
   {
    "duration": 0,
    "start_time": "2025-05-29T17:58:43.561Z"
   },
   {
    "duration": 0,
    "start_time": "2025-05-29T17:58:43.562Z"
   },
   {
    "duration": 0,
    "start_time": "2025-05-29T17:58:43.567Z"
   },
   {
    "duration": 0,
    "start_time": "2025-05-29T17:58:43.568Z"
   },
   {
    "duration": 0,
    "start_time": "2025-05-29T17:58:43.569Z"
   },
   {
    "duration": 0,
    "start_time": "2025-05-29T17:58:43.570Z"
   },
   {
    "duration": 0,
    "start_time": "2025-05-29T17:58:43.572Z"
   },
   {
    "duration": 0,
    "start_time": "2025-05-29T17:58:43.573Z"
   },
   {
    "duration": 0,
    "start_time": "2025-05-29T17:58:43.574Z"
   },
   {
    "duration": 654,
    "start_time": "2025-05-29T18:01:57.898Z"
   },
   {
    "duration": 105,
    "start_time": "2025-05-29T18:01:58.554Z"
   },
   {
    "duration": 16,
    "start_time": "2025-05-29T18:01:58.661Z"
   },
   {
    "duration": 29,
    "start_time": "2025-05-29T18:01:58.679Z"
   },
   {
    "duration": 43,
    "start_time": "2025-05-29T18:01:58.709Z"
   },
   {
    "duration": 1995,
    "start_time": "2025-05-29T18:01:58.753Z"
   },
   {
    "duration": 10,
    "start_time": "2025-05-29T18:02:00.749Z"
   },
   {
    "duration": 95,
    "start_time": "2025-05-29T18:02:00.761Z"
   },
   {
    "duration": 1492,
    "start_time": "2025-05-29T18:02:00.858Z"
   },
   {
    "duration": 3,
    "start_time": "2025-05-29T18:02:02.353Z"
   },
   {
    "duration": 122,
    "start_time": "2025-05-29T18:02:02.358Z"
   },
   {
    "duration": 47,
    "start_time": "2025-05-29T18:02:02.482Z"
   },
   {
    "duration": 20,
    "start_time": "2025-05-29T18:02:02.531Z"
   },
   {
    "duration": 40,
    "start_time": "2025-05-29T18:02:02.553Z"
   },
   {
    "duration": 36,
    "start_time": "2025-05-29T18:02:02.595Z"
   },
   {
    "duration": 81,
    "start_time": "2025-05-29T18:02:02.633Z"
   },
   {
    "duration": 0,
    "start_time": "2025-05-29T18:02:02.717Z"
   },
   {
    "duration": 1,
    "start_time": "2025-05-29T18:02:02.719Z"
   },
   {
    "duration": 0,
    "start_time": "2025-05-29T18:02:02.721Z"
   },
   {
    "duration": 0,
    "start_time": "2025-05-29T18:02:02.722Z"
   },
   {
    "duration": 0,
    "start_time": "2025-05-29T18:02:02.724Z"
   },
   {
    "duration": 0,
    "start_time": "2025-05-29T18:02:02.738Z"
   },
   {
    "duration": 0,
    "start_time": "2025-05-29T18:02:02.740Z"
   },
   {
    "duration": 0,
    "start_time": "2025-05-29T18:02:02.742Z"
   },
   {
    "duration": 0,
    "start_time": "2025-05-29T18:02:02.743Z"
   },
   {
    "duration": 0,
    "start_time": "2025-05-29T18:02:02.744Z"
   },
   {
    "duration": 0,
    "start_time": "2025-05-29T18:02:02.745Z"
   },
   {
    "duration": 0,
    "start_time": "2025-05-29T18:02:02.746Z"
   },
   {
    "duration": 0,
    "start_time": "2025-05-29T18:02:02.747Z"
   },
   {
    "duration": 0,
    "start_time": "2025-05-29T18:02:02.748Z"
   },
   {
    "duration": 0,
    "start_time": "2025-05-29T18:02:02.749Z"
   },
   {
    "duration": 0,
    "start_time": "2025-05-29T18:02:02.750Z"
   },
   {
    "duration": 0,
    "start_time": "2025-05-29T18:02:02.752Z"
   },
   {
    "duration": 1,
    "start_time": "2025-05-29T18:02:02.752Z"
   },
   {
    "duration": 0,
    "start_time": "2025-05-29T18:02:02.754Z"
   },
   {
    "duration": 0,
    "start_time": "2025-05-29T18:02:02.755Z"
   },
   {
    "duration": 0,
    "start_time": "2025-05-29T18:02:02.756Z"
   },
   {
    "duration": 0,
    "start_time": "2025-05-29T18:02:02.757Z"
   },
   {
    "duration": 0,
    "start_time": "2025-05-29T18:02:02.758Z"
   },
   {
    "duration": 0,
    "start_time": "2025-05-29T18:02:02.759Z"
   },
   {
    "duration": 0,
    "start_time": "2025-05-29T18:02:02.760Z"
   },
   {
    "duration": 0,
    "start_time": "2025-05-29T18:02:02.761Z"
   },
   {
    "duration": 0,
    "start_time": "2025-05-29T18:02:02.762Z"
   },
   {
    "duration": 0,
    "start_time": "2025-05-29T18:02:02.763Z"
   },
   {
    "duration": 0,
    "start_time": "2025-05-29T18:02:02.764Z"
   },
   {
    "duration": 0,
    "start_time": "2025-05-29T18:02:02.765Z"
   },
   {
    "duration": 0,
    "start_time": "2025-05-29T18:02:02.766Z"
   },
   {
    "duration": 0,
    "start_time": "2025-05-29T18:02:02.767Z"
   },
   {
    "duration": 0,
    "start_time": "2025-05-29T18:02:02.768Z"
   },
   {
    "duration": 3,
    "start_time": "2025-05-29T18:03:03.937Z"
   },
   {
    "duration": 4,
    "start_time": "2025-05-29T18:03:27.249Z"
   },
   {
    "duration": 1362,
    "start_time": "2025-05-29T18:03:34.207Z"
   },
   {
    "duration": 10629,
    "start_time": "2025-05-29T18:05:49.377Z"
   },
   {
    "duration": 1381,
    "start_time": "2025-05-29T18:11:20.634Z"
   },
   {
    "duration": 1357,
    "start_time": "2025-05-29T18:11:40.372Z"
   },
   {
    "duration": 1338,
    "start_time": "2025-05-29T18:11:43.816Z"
   },
   {
    "duration": 1351,
    "start_time": "2025-05-29T18:17:36.276Z"
   },
   {
    "duration": 7,
    "start_time": "2025-05-29T18:20:28.401Z"
   },
   {
    "duration": 2,
    "start_time": "2025-05-29T18:48:08.548Z"
   },
   {
    "duration": 636,
    "start_time": "2025-05-29T18:48:17.003Z"
   },
   {
    "duration": 98,
    "start_time": "2025-05-29T18:48:17.641Z"
   },
   {
    "duration": 16,
    "start_time": "2025-05-29T18:48:17.740Z"
   },
   {
    "duration": 163,
    "start_time": "2025-05-29T18:48:17.757Z"
   },
   {
    "duration": 22,
    "start_time": "2025-05-29T18:48:17.923Z"
   },
   {
    "duration": 1809,
    "start_time": "2025-05-29T18:48:17.947Z"
   },
   {
    "duration": 8,
    "start_time": "2025-05-29T18:48:19.757Z"
   },
   {
    "duration": 189,
    "start_time": "2025-05-29T18:48:19.767Z"
   },
   {
    "duration": 1381,
    "start_time": "2025-05-29T18:48:19.958Z"
   },
   {
    "duration": 7,
    "start_time": "2025-05-29T18:48:21.341Z"
   },
   {
    "duration": 12,
    "start_time": "2025-05-29T18:48:21.350Z"
   },
   {
    "duration": 12,
    "start_time": "2025-05-29T18:48:21.363Z"
   },
   {
    "duration": 27,
    "start_time": "2025-05-29T18:48:21.376Z"
   },
   {
    "duration": 7,
    "start_time": "2025-05-29T18:48:21.406Z"
   },
   {
    "duration": 5,
    "start_time": "2025-05-29T18:48:21.414Z"
   },
   {
    "duration": 9,
    "start_time": "2025-05-29T18:48:21.421Z"
   },
   {
    "duration": 79,
    "start_time": "2025-05-29T18:48:21.432Z"
   },
   {
    "duration": 0,
    "start_time": "2025-05-29T18:48:21.514Z"
   },
   {
    "duration": 0,
    "start_time": "2025-05-29T18:48:21.515Z"
   },
   {
    "duration": 0,
    "start_time": "2025-05-29T18:48:21.516Z"
   },
   {
    "duration": 0,
    "start_time": "2025-05-29T18:48:21.517Z"
   },
   {
    "duration": 0,
    "start_time": "2025-05-29T18:48:21.518Z"
   },
   {
    "duration": 0,
    "start_time": "2025-05-29T18:48:21.519Z"
   },
   {
    "duration": 0,
    "start_time": "2025-05-29T18:48:21.539Z"
   },
   {
    "duration": 0,
    "start_time": "2025-05-29T18:48:21.541Z"
   },
   {
    "duration": 0,
    "start_time": "2025-05-29T18:48:21.542Z"
   },
   {
    "duration": 0,
    "start_time": "2025-05-29T18:48:21.543Z"
   },
   {
    "duration": 0,
    "start_time": "2025-05-29T18:48:21.544Z"
   },
   {
    "duration": 0,
    "start_time": "2025-05-29T18:48:21.544Z"
   },
   {
    "duration": 0,
    "start_time": "2025-05-29T18:48:21.546Z"
   },
   {
    "duration": 0,
    "start_time": "2025-05-29T18:48:21.547Z"
   },
   {
    "duration": 0,
    "start_time": "2025-05-29T18:48:21.548Z"
   },
   {
    "duration": 0,
    "start_time": "2025-05-29T18:48:21.548Z"
   },
   {
    "duration": 0,
    "start_time": "2025-05-29T18:48:21.549Z"
   },
   {
    "duration": 0,
    "start_time": "2025-05-29T18:48:21.550Z"
   },
   {
    "duration": 0,
    "start_time": "2025-05-29T18:48:21.551Z"
   },
   {
    "duration": 0,
    "start_time": "2025-05-29T18:48:21.552Z"
   },
   {
    "duration": 0,
    "start_time": "2025-05-29T18:48:21.553Z"
   },
   {
    "duration": 0,
    "start_time": "2025-05-29T18:48:21.554Z"
   },
   {
    "duration": 0,
    "start_time": "2025-05-29T18:48:21.555Z"
   },
   {
    "duration": 0,
    "start_time": "2025-05-29T18:48:21.556Z"
   },
   {
    "duration": 0,
    "start_time": "2025-05-29T18:48:21.558Z"
   },
   {
    "duration": 0,
    "start_time": "2025-05-29T18:48:21.559Z"
   },
   {
    "duration": 1,
    "start_time": "2025-05-29T18:48:21.559Z"
   },
   {
    "duration": 0,
    "start_time": "2025-05-29T18:48:21.561Z"
   },
   {
    "duration": 0,
    "start_time": "2025-05-29T18:48:21.562Z"
   },
   {
    "duration": 0,
    "start_time": "2025-05-29T18:48:21.563Z"
   },
   {
    "duration": 0,
    "start_time": "2025-05-29T18:48:21.564Z"
   },
   {
    "duration": 0,
    "start_time": "2025-05-29T18:48:21.565Z"
   },
   {
    "duration": 0,
    "start_time": "2025-05-29T18:48:21.566Z"
   },
   {
    "duration": 7,
    "start_time": "2025-05-29T18:50:42.584Z"
   },
   {
    "duration": 5,
    "start_time": "2025-05-29T18:52:13.885Z"
   },
   {
    "duration": 763,
    "start_time": "2025-05-29T18:52:17.384Z"
   },
   {
    "duration": 5,
    "start_time": "2025-05-29T18:52:36.791Z"
   },
   {
    "duration": 659,
    "start_time": "2025-05-29T18:53:00.343Z"
   },
   {
    "duration": 91,
    "start_time": "2025-05-29T18:53:01.004Z"
   },
   {
    "duration": 14,
    "start_time": "2025-05-29T18:53:01.097Z"
   },
   {
    "duration": 58,
    "start_time": "2025-05-29T18:53:01.113Z"
   },
   {
    "duration": 33,
    "start_time": "2025-05-29T18:53:01.174Z"
   },
   {
    "duration": 1944,
    "start_time": "2025-05-29T18:53:01.208Z"
   },
   {
    "duration": 9,
    "start_time": "2025-05-29T18:53:03.154Z"
   },
   {
    "duration": 28,
    "start_time": "2025-05-29T18:53:03.165Z"
   },
   {
    "duration": 35,
    "start_time": "2025-05-29T18:53:03.195Z"
   },
   {
    "duration": 1452,
    "start_time": "2025-05-29T18:53:03.232Z"
   },
   {
    "duration": 8,
    "start_time": "2025-05-29T18:53:04.686Z"
   },
   {
    "duration": 11,
    "start_time": "2025-05-29T18:53:04.696Z"
   },
   {
    "duration": 26,
    "start_time": "2025-05-29T18:53:04.708Z"
   },
   {
    "duration": 39,
    "start_time": "2025-05-29T18:53:04.737Z"
   },
   {
    "duration": 20,
    "start_time": "2025-05-29T18:53:04.777Z"
   },
   {
    "duration": 42,
    "start_time": "2025-05-29T18:53:04.799Z"
   },
   {
    "duration": 20,
    "start_time": "2025-05-29T18:53:04.843Z"
   },
   {
    "duration": 95,
    "start_time": "2025-05-29T18:53:04.864Z"
   },
   {
    "duration": 0,
    "start_time": "2025-05-29T18:53:04.960Z"
   },
   {
    "duration": 0,
    "start_time": "2025-05-29T18:53:04.962Z"
   },
   {
    "duration": 0,
    "start_time": "2025-05-29T18:53:04.963Z"
   },
   {
    "duration": 0,
    "start_time": "2025-05-29T18:53:04.964Z"
   },
   {
    "duration": 0,
    "start_time": "2025-05-29T18:53:04.965Z"
   },
   {
    "duration": 0,
    "start_time": "2025-05-29T18:53:04.966Z"
   },
   {
    "duration": 0,
    "start_time": "2025-05-29T18:53:04.967Z"
   },
   {
    "duration": 0,
    "start_time": "2025-05-29T18:53:04.969Z"
   },
   {
    "duration": 0,
    "start_time": "2025-05-29T18:53:04.970Z"
   },
   {
    "duration": 0,
    "start_time": "2025-05-29T18:53:04.971Z"
   },
   {
    "duration": 0,
    "start_time": "2025-05-29T18:53:04.972Z"
   },
   {
    "duration": 0,
    "start_time": "2025-05-29T18:53:04.973Z"
   },
   {
    "duration": 0,
    "start_time": "2025-05-29T18:53:04.974Z"
   },
   {
    "duration": 0,
    "start_time": "2025-05-29T18:53:04.975Z"
   },
   {
    "duration": 0,
    "start_time": "2025-05-29T18:53:04.976Z"
   },
   {
    "duration": 0,
    "start_time": "2025-05-29T18:53:04.977Z"
   },
   {
    "duration": 0,
    "start_time": "2025-05-29T18:53:04.978Z"
   },
   {
    "duration": 0,
    "start_time": "2025-05-29T18:53:04.979Z"
   },
   {
    "duration": 0,
    "start_time": "2025-05-29T18:53:04.980Z"
   },
   {
    "duration": 0,
    "start_time": "2025-05-29T18:53:04.981Z"
   },
   {
    "duration": 0,
    "start_time": "2025-05-29T18:53:04.981Z"
   },
   {
    "duration": 0,
    "start_time": "2025-05-29T18:53:04.982Z"
   },
   {
    "duration": 1,
    "start_time": "2025-05-29T18:53:04.983Z"
   },
   {
    "duration": 0,
    "start_time": "2025-05-29T18:53:04.985Z"
   },
   {
    "duration": 0,
    "start_time": "2025-05-29T18:53:04.986Z"
   },
   {
    "duration": 0,
    "start_time": "2025-05-29T18:53:04.987Z"
   },
   {
    "duration": 0,
    "start_time": "2025-05-29T18:53:04.987Z"
   },
   {
    "duration": 0,
    "start_time": "2025-05-29T18:53:04.988Z"
   },
   {
    "duration": 0,
    "start_time": "2025-05-29T18:53:04.990Z"
   },
   {
    "duration": 0,
    "start_time": "2025-05-29T18:53:05.039Z"
   },
   {
    "duration": 0,
    "start_time": "2025-05-29T18:53:05.041Z"
   },
   {
    "duration": 0,
    "start_time": "2025-05-29T18:53:05.042Z"
   },
   {
    "duration": 0,
    "start_time": "2025-05-29T18:53:05.043Z"
   },
   {
    "duration": 6,
    "start_time": "2025-05-29T18:53:33.168Z"
   },
   {
    "duration": 6,
    "start_time": "2025-05-29T18:54:16.853Z"
   },
   {
    "duration": 6,
    "start_time": "2025-05-29T18:54:18.479Z"
   },
   {
    "duration": 5,
    "start_time": "2025-05-29T18:54:51.459Z"
   },
   {
    "duration": 734,
    "start_time": "2025-05-29T18:54:53.654Z"
   },
   {
    "duration": 659,
    "start_time": "2025-05-29T18:55:17.155Z"
   },
   {
    "duration": 90,
    "start_time": "2025-05-29T18:55:17.815Z"
   },
   {
    "duration": 16,
    "start_time": "2025-05-29T18:55:17.907Z"
   },
   {
    "duration": 28,
    "start_time": "2025-05-29T18:55:17.939Z"
   },
   {
    "duration": 26,
    "start_time": "2025-05-29T18:55:17.970Z"
   },
   {
    "duration": 1814,
    "start_time": "2025-05-29T18:55:17.998Z"
   },
   {
    "duration": 10,
    "start_time": "2025-05-29T18:55:19.814Z"
   },
   {
    "duration": 97,
    "start_time": "2025-05-29T18:55:19.825Z"
   },
   {
    "duration": 16,
    "start_time": "2025-05-29T18:55:19.924Z"
   },
   {
    "duration": 1378,
    "start_time": "2025-05-29T18:55:19.942Z"
   },
   {
    "duration": 17,
    "start_time": "2025-05-29T18:55:21.322Z"
   },
   {
    "duration": 4,
    "start_time": "2025-05-29T18:55:21.340Z"
   },
   {
    "duration": 12,
    "start_time": "2025-05-29T18:55:21.345Z"
   },
   {
    "duration": 14,
    "start_time": "2025-05-29T18:55:21.360Z"
   },
   {
    "duration": 28,
    "start_time": "2025-05-29T18:55:21.375Z"
   },
   {
    "duration": 40,
    "start_time": "2025-05-29T18:55:21.405Z"
   },
   {
    "duration": 22,
    "start_time": "2025-05-29T18:55:21.447Z"
   },
   {
    "duration": 79,
    "start_time": "2025-05-29T18:55:21.471Z"
   },
   {
    "duration": 0,
    "start_time": "2025-05-29T18:55:21.552Z"
   },
   {
    "duration": 0,
    "start_time": "2025-05-29T18:55:21.554Z"
   },
   {
    "duration": 0,
    "start_time": "2025-05-29T18:55:21.555Z"
   },
   {
    "duration": 0,
    "start_time": "2025-05-29T18:55:21.556Z"
   },
   {
    "duration": 0,
    "start_time": "2025-05-29T18:55:21.556Z"
   },
   {
    "duration": 0,
    "start_time": "2025-05-29T18:55:21.557Z"
   },
   {
    "duration": 0,
    "start_time": "2025-05-29T18:55:21.559Z"
   },
   {
    "duration": 0,
    "start_time": "2025-05-29T18:55:21.560Z"
   },
   {
    "duration": 0,
    "start_time": "2025-05-29T18:55:21.561Z"
   },
   {
    "duration": 0,
    "start_time": "2025-05-29T18:55:21.562Z"
   },
   {
    "duration": 0,
    "start_time": "2025-05-29T18:55:21.563Z"
   },
   {
    "duration": 0,
    "start_time": "2025-05-29T18:55:21.564Z"
   },
   {
    "duration": 0,
    "start_time": "2025-05-29T18:55:21.566Z"
   },
   {
    "duration": 0,
    "start_time": "2025-05-29T18:55:21.567Z"
   },
   {
    "duration": 0,
    "start_time": "2025-05-29T18:55:21.568Z"
   },
   {
    "duration": 0,
    "start_time": "2025-05-29T18:55:21.569Z"
   },
   {
    "duration": 0,
    "start_time": "2025-05-29T18:55:21.570Z"
   },
   {
    "duration": 0,
    "start_time": "2025-05-29T18:55:21.571Z"
   },
   {
    "duration": 0,
    "start_time": "2025-05-29T18:55:21.572Z"
   },
   {
    "duration": 0,
    "start_time": "2025-05-29T18:55:21.573Z"
   },
   {
    "duration": 0,
    "start_time": "2025-05-29T18:55:21.574Z"
   },
   {
    "duration": 0,
    "start_time": "2025-05-29T18:55:21.575Z"
   },
   {
    "duration": 0,
    "start_time": "2025-05-29T18:55:21.577Z"
   },
   {
    "duration": 0,
    "start_time": "2025-05-29T18:55:21.578Z"
   },
   {
    "duration": 0,
    "start_time": "2025-05-29T18:55:21.579Z"
   },
   {
    "duration": 0,
    "start_time": "2025-05-29T18:55:21.579Z"
   },
   {
    "duration": 0,
    "start_time": "2025-05-29T18:55:21.580Z"
   },
   {
    "duration": 0,
    "start_time": "2025-05-29T18:55:21.582Z"
   },
   {
    "duration": 0,
    "start_time": "2025-05-29T18:55:21.583Z"
   },
   {
    "duration": 0,
    "start_time": "2025-05-29T18:55:21.584Z"
   },
   {
    "duration": 0,
    "start_time": "2025-05-29T18:55:21.585Z"
   },
   {
    "duration": 0,
    "start_time": "2025-05-29T18:55:21.586Z"
   },
   {
    "duration": 0,
    "start_time": "2025-05-29T18:55:21.587Z"
   },
   {
    "duration": 8,
    "start_time": "2025-05-29T18:55:45.219Z"
   },
   {
    "duration": 5,
    "start_time": "2025-05-29T18:56:35.457Z"
   },
   {
    "duration": 8,
    "start_time": "2025-05-29T18:56:37.558Z"
   },
   {
    "duration": 4,
    "start_time": "2025-05-29T18:56:57.087Z"
   },
   {
    "duration": 632,
    "start_time": "2025-05-29T18:57:11.275Z"
   },
   {
    "duration": 87,
    "start_time": "2025-05-29T18:57:11.909Z"
   },
   {
    "duration": 16,
    "start_time": "2025-05-29T18:57:11.997Z"
   },
   {
    "duration": 39,
    "start_time": "2025-05-29T18:57:12.015Z"
   },
   {
    "duration": 24,
    "start_time": "2025-05-29T18:57:12.056Z"
   },
   {
    "duration": 1843,
    "start_time": "2025-05-29T18:57:12.081Z"
   },
   {
    "duration": 9,
    "start_time": "2025-05-29T18:57:13.926Z"
   },
   {
    "duration": 7,
    "start_time": "2025-05-29T18:57:13.936Z"
   },
   {
    "duration": 13,
    "start_time": "2025-05-29T18:57:13.944Z"
   },
   {
    "duration": 1421,
    "start_time": "2025-05-29T18:57:13.960Z"
   },
   {
    "duration": 8,
    "start_time": "2025-05-29T18:57:15.383Z"
   },
   {
    "duration": 18,
    "start_time": "2025-05-29T18:57:15.393Z"
   },
   {
    "duration": 28,
    "start_time": "2025-05-29T18:57:15.412Z"
   },
   {
    "duration": 53,
    "start_time": "2025-05-29T18:57:15.442Z"
   },
   {
    "duration": 7,
    "start_time": "2025-05-29T18:57:15.497Z"
   },
   {
    "duration": 7,
    "start_time": "2025-05-29T18:57:15.506Z"
   },
   {
    "duration": 9,
    "start_time": "2025-05-29T18:57:15.514Z"
   },
   {
    "duration": 75,
    "start_time": "2025-05-29T18:57:15.524Z"
   },
   {
    "duration": 0,
    "start_time": "2025-05-29T18:57:15.601Z"
   },
   {
    "duration": 0,
    "start_time": "2025-05-29T18:57:15.603Z"
   },
   {
    "duration": 0,
    "start_time": "2025-05-29T18:57:15.604Z"
   },
   {
    "duration": 0,
    "start_time": "2025-05-29T18:57:15.605Z"
   },
   {
    "duration": 0,
    "start_time": "2025-05-29T18:57:15.606Z"
   },
   {
    "duration": 0,
    "start_time": "2025-05-29T18:57:15.608Z"
   },
   {
    "duration": 0,
    "start_time": "2025-05-29T18:57:15.609Z"
   },
   {
    "duration": 0,
    "start_time": "2025-05-29T18:57:15.610Z"
   },
   {
    "duration": 0,
    "start_time": "2025-05-29T18:57:15.611Z"
   },
   {
    "duration": 0,
    "start_time": "2025-05-29T18:57:15.612Z"
   },
   {
    "duration": 0,
    "start_time": "2025-05-29T18:57:15.639Z"
   },
   {
    "duration": 0,
    "start_time": "2025-05-29T18:57:15.640Z"
   },
   {
    "duration": 0,
    "start_time": "2025-05-29T18:57:15.641Z"
   },
   {
    "duration": 0,
    "start_time": "2025-05-29T18:57:15.642Z"
   },
   {
    "duration": 0,
    "start_time": "2025-05-29T18:57:15.643Z"
   },
   {
    "duration": 0,
    "start_time": "2025-05-29T18:57:15.644Z"
   },
   {
    "duration": 0,
    "start_time": "2025-05-29T18:57:15.645Z"
   },
   {
    "duration": 0,
    "start_time": "2025-05-29T18:57:15.646Z"
   },
   {
    "duration": 0,
    "start_time": "2025-05-29T18:57:15.647Z"
   },
   {
    "duration": 0,
    "start_time": "2025-05-29T18:57:15.648Z"
   },
   {
    "duration": 0,
    "start_time": "2025-05-29T18:57:15.649Z"
   },
   {
    "duration": 0,
    "start_time": "2025-05-29T18:57:15.650Z"
   },
   {
    "duration": 0,
    "start_time": "2025-05-29T18:57:15.651Z"
   },
   {
    "duration": 0,
    "start_time": "2025-05-29T18:57:15.652Z"
   },
   {
    "duration": 0,
    "start_time": "2025-05-29T18:57:15.653Z"
   },
   {
    "duration": 0,
    "start_time": "2025-05-29T18:57:15.654Z"
   },
   {
    "duration": 0,
    "start_time": "2025-05-29T18:57:15.655Z"
   },
   {
    "duration": 0,
    "start_time": "2025-05-29T18:57:15.657Z"
   },
   {
    "duration": 0,
    "start_time": "2025-05-29T18:57:15.657Z"
   },
   {
    "duration": 0,
    "start_time": "2025-05-29T18:57:15.658Z"
   },
   {
    "duration": 0,
    "start_time": "2025-05-29T18:57:15.659Z"
   },
   {
    "duration": 0,
    "start_time": "2025-05-29T18:57:15.660Z"
   },
   {
    "duration": 0,
    "start_time": "2025-05-29T18:57:15.661Z"
   },
   {
    "duration": 6,
    "start_time": "2025-05-29T18:57:39.249Z"
   },
   {
    "duration": 8,
    "start_time": "2025-05-29T19:17:15.043Z"
   },
   {
    "duration": 4,
    "start_time": "2025-05-29T19:17:28.851Z"
   },
   {
    "duration": 68,
    "start_time": "2025-05-29T19:17:55.777Z"
   },
   {
    "duration": 9,
    "start_time": "2025-05-29T19:18:10.779Z"
   },
   {
    "duration": 855,
    "start_time": "2025-05-30T06:24:50.377Z"
   },
   {
    "duration": 91,
    "start_time": "2025-05-30T06:24:51.234Z"
   },
   {
    "duration": 15,
    "start_time": "2025-05-30T06:24:51.327Z"
   },
   {
    "duration": 38,
    "start_time": "2025-05-30T06:24:51.344Z"
   },
   {
    "duration": 28,
    "start_time": "2025-05-30T06:24:51.384Z"
   },
   {
    "duration": 2168,
    "start_time": "2025-05-30T06:24:51.414Z"
   },
   {
    "duration": 9,
    "start_time": "2025-05-30T06:24:53.584Z"
   },
   {
    "duration": 7,
    "start_time": "2025-05-30T06:24:53.595Z"
   },
   {
    "duration": 10,
    "start_time": "2025-05-30T06:24:53.603Z"
   },
   {
    "duration": 9,
    "start_time": "2025-05-30T06:24:53.615Z"
   },
   {
    "duration": 4,
    "start_time": "2025-05-30T06:24:53.625Z"
   },
   {
    "duration": 18,
    "start_time": "2025-05-30T06:24:53.631Z"
   },
   {
    "duration": 27,
    "start_time": "2025-05-30T06:24:53.650Z"
   },
   {
    "duration": 10,
    "start_time": "2025-05-30T06:24:53.679Z"
   },
   {
    "duration": 8,
    "start_time": "2025-05-30T06:24:53.691Z"
   },
   {
    "duration": 5,
    "start_time": "2025-05-30T06:24:53.701Z"
   },
   {
    "duration": 103,
    "start_time": "2025-05-30T06:24:53.708Z"
   },
   {
    "duration": 0,
    "start_time": "2025-05-30T06:24:53.813Z"
   },
   {
    "duration": 0,
    "start_time": "2025-05-30T06:24:53.814Z"
   },
   {
    "duration": 0,
    "start_time": "2025-05-30T06:24:53.816Z"
   },
   {
    "duration": 0,
    "start_time": "2025-05-30T06:24:53.817Z"
   },
   {
    "duration": 0,
    "start_time": "2025-05-30T06:24:53.818Z"
   },
   {
    "duration": 0,
    "start_time": "2025-05-30T06:24:53.820Z"
   },
   {
    "duration": 0,
    "start_time": "2025-05-30T06:24:53.821Z"
   },
   {
    "duration": 0,
    "start_time": "2025-05-30T06:24:53.822Z"
   },
   {
    "duration": 0,
    "start_time": "2025-05-30T06:24:53.823Z"
   },
   {
    "duration": 0,
    "start_time": "2025-05-30T06:24:53.824Z"
   },
   {
    "duration": 0,
    "start_time": "2025-05-30T06:24:53.825Z"
   },
   {
    "duration": 0,
    "start_time": "2025-05-30T06:24:53.827Z"
   },
   {
    "duration": 0,
    "start_time": "2025-05-30T06:24:53.828Z"
   },
   {
    "duration": 0,
    "start_time": "2025-05-30T06:24:53.829Z"
   },
   {
    "duration": 1,
    "start_time": "2025-05-30T06:24:53.862Z"
   },
   {
    "duration": 0,
    "start_time": "2025-05-30T06:24:53.864Z"
   },
   {
    "duration": 0,
    "start_time": "2025-05-30T06:24:53.866Z"
   },
   {
    "duration": 0,
    "start_time": "2025-05-30T06:24:53.868Z"
   },
   {
    "duration": 0,
    "start_time": "2025-05-30T06:24:53.869Z"
   },
   {
    "duration": 0,
    "start_time": "2025-05-30T06:24:53.872Z"
   },
   {
    "duration": 0,
    "start_time": "2025-05-30T06:24:53.874Z"
   },
   {
    "duration": 0,
    "start_time": "2025-05-30T06:24:53.877Z"
   },
   {
    "duration": 0,
    "start_time": "2025-05-30T06:24:53.878Z"
   },
   {
    "duration": 0,
    "start_time": "2025-05-30T06:24:53.879Z"
   },
   {
    "duration": 0,
    "start_time": "2025-05-30T06:24:53.881Z"
   },
   {
    "duration": 0,
    "start_time": "2025-05-30T06:24:53.882Z"
   },
   {
    "duration": 0,
    "start_time": "2025-05-30T06:24:53.884Z"
   },
   {
    "duration": 0,
    "start_time": "2025-05-30T06:24:53.885Z"
   },
   {
    "duration": 0,
    "start_time": "2025-05-30T06:24:53.887Z"
   },
   {
    "duration": 0,
    "start_time": "2025-05-30T06:24:53.888Z"
   },
   {
    "duration": 0,
    "start_time": "2025-05-30T06:24:53.889Z"
   },
   {
    "duration": 0,
    "start_time": "2025-05-30T06:24:53.890Z"
   },
   {
    "duration": 0,
    "start_time": "2025-05-30T06:24:53.891Z"
   },
   {
    "duration": 6,
    "start_time": "2025-05-30T06:25:43.215Z"
   },
   {
    "duration": 9,
    "start_time": "2025-05-30T06:25:44.890Z"
   },
   {
    "duration": 9,
    "start_time": "2025-05-30T06:28:54.765Z"
   },
   {
    "duration": 3,
    "start_time": "2025-05-30T06:29:29.151Z"
   },
   {
    "duration": 4,
    "start_time": "2025-05-30T06:29:52.686Z"
   },
   {
    "duration": 715,
    "start_time": "2025-05-30T06:33:05.763Z"
   },
   {
    "duration": 93,
    "start_time": "2025-05-30T06:33:06.480Z"
   },
   {
    "duration": 20,
    "start_time": "2025-05-30T06:33:06.576Z"
   },
   {
    "duration": 28,
    "start_time": "2025-05-30T06:33:06.598Z"
   },
   {
    "duration": 50,
    "start_time": "2025-05-30T06:33:06.627Z"
   },
   {
    "duration": 2027,
    "start_time": "2025-05-30T06:33:06.679Z"
   },
   {
    "duration": 8,
    "start_time": "2025-05-30T06:33:08.708Z"
   },
   {
    "duration": 7,
    "start_time": "2025-05-30T06:33:08.718Z"
   },
   {
    "duration": 4,
    "start_time": "2025-05-30T06:33:08.726Z"
   },
   {
    "duration": 3,
    "start_time": "2025-05-30T06:33:08.733Z"
   },
   {
    "duration": 5,
    "start_time": "2025-05-30T06:33:08.737Z"
   },
   {
    "duration": 23,
    "start_time": "2025-05-30T06:33:08.743Z"
   },
   {
    "duration": 18,
    "start_time": "2025-05-30T06:33:08.768Z"
   },
   {
    "duration": 86,
    "start_time": "2025-05-30T06:33:08.788Z"
   },
   {
    "duration": 17,
    "start_time": "2025-05-30T06:33:08.876Z"
   },
   {
    "duration": 7,
    "start_time": "2025-05-30T06:33:08.894Z"
   },
   {
    "duration": 80,
    "start_time": "2025-05-30T06:33:08.903Z"
   },
   {
    "duration": 0,
    "start_time": "2025-05-30T06:33:08.986Z"
   },
   {
    "duration": 0,
    "start_time": "2025-05-30T06:33:08.987Z"
   },
   {
    "duration": 0,
    "start_time": "2025-05-30T06:33:08.988Z"
   },
   {
    "duration": 0,
    "start_time": "2025-05-30T06:33:08.989Z"
   },
   {
    "duration": 0,
    "start_time": "2025-05-30T06:33:08.990Z"
   },
   {
    "duration": 0,
    "start_time": "2025-05-30T06:33:08.992Z"
   },
   {
    "duration": 0,
    "start_time": "2025-05-30T06:33:08.993Z"
   },
   {
    "duration": 0,
    "start_time": "2025-05-30T06:33:08.993Z"
   },
   {
    "duration": 0,
    "start_time": "2025-05-30T06:33:08.994Z"
   },
   {
    "duration": 0,
    "start_time": "2025-05-30T06:33:08.995Z"
   },
   {
    "duration": 0,
    "start_time": "2025-05-30T06:33:08.996Z"
   },
   {
    "duration": 0,
    "start_time": "2025-05-30T06:33:08.997Z"
   },
   {
    "duration": 0,
    "start_time": "2025-05-30T06:33:08.998Z"
   },
   {
    "duration": 0,
    "start_time": "2025-05-30T06:33:08.999Z"
   },
   {
    "duration": 0,
    "start_time": "2025-05-30T06:33:09.000Z"
   },
   {
    "duration": 0,
    "start_time": "2025-05-30T06:33:09.001Z"
   },
   {
    "duration": 0,
    "start_time": "2025-05-30T06:33:09.003Z"
   },
   {
    "duration": 0,
    "start_time": "2025-05-30T06:33:09.003Z"
   },
   {
    "duration": 0,
    "start_time": "2025-05-30T06:33:09.004Z"
   },
   {
    "duration": 0,
    "start_time": "2025-05-30T06:33:09.006Z"
   },
   {
    "duration": 0,
    "start_time": "2025-05-30T06:33:09.007Z"
   },
   {
    "duration": 0,
    "start_time": "2025-05-30T06:33:09.008Z"
   },
   {
    "duration": 0,
    "start_time": "2025-05-30T06:33:09.009Z"
   },
   {
    "duration": 0,
    "start_time": "2025-05-30T06:33:09.010Z"
   },
   {
    "duration": 0,
    "start_time": "2025-05-30T06:33:09.011Z"
   },
   {
    "duration": 0,
    "start_time": "2025-05-30T06:33:09.012Z"
   },
   {
    "duration": 0,
    "start_time": "2025-05-30T06:33:09.013Z"
   },
   {
    "duration": 0,
    "start_time": "2025-05-30T06:33:09.057Z"
   },
   {
    "duration": 0,
    "start_time": "2025-05-30T06:33:09.059Z"
   },
   {
    "duration": 0,
    "start_time": "2025-05-30T06:33:09.061Z"
   },
   {
    "duration": 0,
    "start_time": "2025-05-30T06:33:09.062Z"
   },
   {
    "duration": 0,
    "start_time": "2025-05-30T06:33:09.063Z"
   },
   {
    "duration": 0,
    "start_time": "2025-05-30T06:33:09.065Z"
   },
   {
    "duration": 6,
    "start_time": "2025-05-30T06:33:49.142Z"
   },
   {
    "duration": 649,
    "start_time": "2025-05-30T06:34:22.910Z"
   },
   {
    "duration": 85,
    "start_time": "2025-05-30T06:34:23.561Z"
   },
   {
    "duration": 19,
    "start_time": "2025-05-30T06:34:23.647Z"
   },
   {
    "duration": 31,
    "start_time": "2025-05-30T06:34:23.669Z"
   },
   {
    "duration": 24,
    "start_time": "2025-05-30T06:34:23.702Z"
   },
   {
    "duration": 2083,
    "start_time": "2025-05-30T06:34:23.727Z"
   },
   {
    "duration": 9,
    "start_time": "2025-05-30T06:34:25.812Z"
   },
   {
    "duration": 9,
    "start_time": "2025-05-30T06:34:25.822Z"
   },
   {
    "duration": 10,
    "start_time": "2025-05-30T06:34:25.832Z"
   },
   {
    "duration": 3,
    "start_time": "2025-05-30T06:34:25.844Z"
   },
   {
    "duration": 5,
    "start_time": "2025-05-30T06:34:25.849Z"
   },
   {
    "duration": 20,
    "start_time": "2025-05-30T06:34:25.861Z"
   },
   {
    "duration": 17,
    "start_time": "2025-05-30T06:34:25.884Z"
   },
   {
    "duration": 7,
    "start_time": "2025-05-30T06:34:25.903Z"
   },
   {
    "duration": 2,
    "start_time": "2025-05-30T06:34:25.912Z"
   },
   {
    "duration": 7,
    "start_time": "2025-05-30T06:34:25.916Z"
   },
   {
    "duration": 120,
    "start_time": "2025-05-30T06:34:25.924Z"
   },
   {
    "duration": 0,
    "start_time": "2025-05-30T06:34:26.047Z"
   },
   {
    "duration": 0,
    "start_time": "2025-05-30T06:34:26.048Z"
   },
   {
    "duration": 0,
    "start_time": "2025-05-30T06:34:26.049Z"
   },
   {
    "duration": 0,
    "start_time": "2025-05-30T06:34:26.050Z"
   },
   {
    "duration": 0,
    "start_time": "2025-05-30T06:34:26.058Z"
   },
   {
    "duration": 0,
    "start_time": "2025-05-30T06:34:26.062Z"
   },
   {
    "duration": 0,
    "start_time": "2025-05-30T06:34:26.064Z"
   },
   {
    "duration": 0,
    "start_time": "2025-05-30T06:34:26.066Z"
   },
   {
    "duration": 0,
    "start_time": "2025-05-30T06:34:26.067Z"
   },
   {
    "duration": 0,
    "start_time": "2025-05-30T06:34:26.068Z"
   },
   {
    "duration": 0,
    "start_time": "2025-05-30T06:34:26.069Z"
   },
   {
    "duration": 0,
    "start_time": "2025-05-30T06:34:26.070Z"
   },
   {
    "duration": 0,
    "start_time": "2025-05-30T06:34:26.071Z"
   },
   {
    "duration": 0,
    "start_time": "2025-05-30T06:34:26.073Z"
   },
   {
    "duration": 0,
    "start_time": "2025-05-30T06:34:26.074Z"
   },
   {
    "duration": 0,
    "start_time": "2025-05-30T06:34:26.075Z"
   },
   {
    "duration": 0,
    "start_time": "2025-05-30T06:34:26.076Z"
   },
   {
    "duration": 0,
    "start_time": "2025-05-30T06:34:26.078Z"
   },
   {
    "duration": 0,
    "start_time": "2025-05-30T06:34:26.079Z"
   },
   {
    "duration": 0,
    "start_time": "2025-05-30T06:34:26.080Z"
   },
   {
    "duration": 0,
    "start_time": "2025-05-30T06:34:26.081Z"
   },
   {
    "duration": 0,
    "start_time": "2025-05-30T06:34:26.082Z"
   },
   {
    "duration": 0,
    "start_time": "2025-05-30T06:34:26.083Z"
   },
   {
    "duration": 0,
    "start_time": "2025-05-30T06:34:26.084Z"
   },
   {
    "duration": 0,
    "start_time": "2025-05-30T06:34:26.085Z"
   },
   {
    "duration": 0,
    "start_time": "2025-05-30T06:34:26.086Z"
   },
   {
    "duration": 0,
    "start_time": "2025-05-30T06:34:26.087Z"
   },
   {
    "duration": 0,
    "start_time": "2025-05-30T06:34:26.088Z"
   },
   {
    "duration": 0,
    "start_time": "2025-05-30T06:34:26.089Z"
   },
   {
    "duration": 0,
    "start_time": "2025-05-30T06:34:26.090Z"
   },
   {
    "duration": 0,
    "start_time": "2025-05-30T06:34:26.091Z"
   },
   {
    "duration": 0,
    "start_time": "2025-05-30T06:34:26.092Z"
   },
   {
    "duration": 0,
    "start_time": "2025-05-30T06:34:26.093Z"
   },
   {
    "duration": 698,
    "start_time": "2025-05-30T06:34:57.517Z"
   },
   {
    "duration": 88,
    "start_time": "2025-05-30T06:34:58.217Z"
   },
   {
    "duration": 16,
    "start_time": "2025-05-30T06:34:58.306Z"
   },
   {
    "duration": 45,
    "start_time": "2025-05-30T06:34:58.323Z"
   },
   {
    "duration": 26,
    "start_time": "2025-05-30T06:34:58.371Z"
   },
   {
    "duration": 2024,
    "start_time": "2025-05-30T06:34:58.398Z"
   },
   {
    "duration": 10,
    "start_time": "2025-05-30T06:35:00.425Z"
   },
   {
    "duration": 19,
    "start_time": "2025-05-30T06:35:00.437Z"
   },
   {
    "duration": 8,
    "start_time": "2025-05-30T06:35:00.462Z"
   },
   {
    "duration": 19,
    "start_time": "2025-05-30T06:35:00.472Z"
   },
   {
    "duration": 6,
    "start_time": "2025-05-30T06:35:00.492Z"
   },
   {
    "duration": 10,
    "start_time": "2025-05-30T06:35:00.500Z"
   },
   {
    "duration": 18,
    "start_time": "2025-05-30T06:35:00.512Z"
   },
   {
    "duration": 26,
    "start_time": "2025-05-30T06:35:00.534Z"
   },
   {
    "duration": 8,
    "start_time": "2025-05-30T06:35:00.562Z"
   },
   {
    "duration": 22,
    "start_time": "2025-05-30T06:35:00.573Z"
   },
   {
    "duration": 90,
    "start_time": "2025-05-30T06:35:00.597Z"
   },
   {
    "duration": 0,
    "start_time": "2025-05-30T06:35:00.690Z"
   },
   {
    "duration": 0,
    "start_time": "2025-05-30T06:35:00.691Z"
   },
   {
    "duration": 0,
    "start_time": "2025-05-30T06:35:00.692Z"
   },
   {
    "duration": 0,
    "start_time": "2025-05-30T06:35:00.693Z"
   },
   {
    "duration": 0,
    "start_time": "2025-05-30T06:35:00.695Z"
   },
   {
    "duration": 0,
    "start_time": "2025-05-30T06:35:00.696Z"
   },
   {
    "duration": 0,
    "start_time": "2025-05-30T06:35:00.697Z"
   },
   {
    "duration": 0,
    "start_time": "2025-05-30T06:35:00.698Z"
   },
   {
    "duration": 0,
    "start_time": "2025-05-30T06:35:00.700Z"
   },
   {
    "duration": 1,
    "start_time": "2025-05-30T06:35:00.700Z"
   },
   {
    "duration": 0,
    "start_time": "2025-05-30T06:35:00.702Z"
   },
   {
    "duration": 0,
    "start_time": "2025-05-30T06:35:00.703Z"
   },
   {
    "duration": 0,
    "start_time": "2025-05-30T06:35:00.704Z"
   },
   {
    "duration": 0,
    "start_time": "2025-05-30T06:35:00.704Z"
   },
   {
    "duration": 0,
    "start_time": "2025-05-30T06:35:00.706Z"
   },
   {
    "duration": 0,
    "start_time": "2025-05-30T06:35:00.707Z"
   },
   {
    "duration": 0,
    "start_time": "2025-05-30T06:35:00.708Z"
   },
   {
    "duration": 0,
    "start_time": "2025-05-30T06:35:00.709Z"
   },
   {
    "duration": 0,
    "start_time": "2025-05-30T06:35:00.710Z"
   },
   {
    "duration": 0,
    "start_time": "2025-05-30T06:35:00.711Z"
   },
   {
    "duration": 0,
    "start_time": "2025-05-30T06:35:00.712Z"
   },
   {
    "duration": 0,
    "start_time": "2025-05-30T06:35:00.714Z"
   },
   {
    "duration": 0,
    "start_time": "2025-05-30T06:35:00.715Z"
   },
   {
    "duration": 0,
    "start_time": "2025-05-30T06:35:00.717Z"
   },
   {
    "duration": 0,
    "start_time": "2025-05-30T06:35:00.759Z"
   },
   {
    "duration": 0,
    "start_time": "2025-05-30T06:35:00.761Z"
   },
   {
    "duration": 0,
    "start_time": "2025-05-30T06:35:00.763Z"
   },
   {
    "duration": 0,
    "start_time": "2025-05-30T06:35:00.774Z"
   },
   {
    "duration": 0,
    "start_time": "2025-05-30T06:35:00.777Z"
   },
   {
    "duration": 0,
    "start_time": "2025-05-30T06:35:00.779Z"
   },
   {
    "duration": 0,
    "start_time": "2025-05-30T06:35:00.780Z"
   },
   {
    "duration": 0,
    "start_time": "2025-05-30T06:35:00.781Z"
   },
   {
    "duration": 0,
    "start_time": "2025-05-30T06:35:00.782Z"
   },
   {
    "duration": 14,
    "start_time": "2025-05-30T06:35:28.499Z"
   },
   {
    "duration": 674,
    "start_time": "2025-05-30T06:36:53.884Z"
   },
   {
    "duration": 87,
    "start_time": "2025-05-30T06:36:54.562Z"
   },
   {
    "duration": 22,
    "start_time": "2025-05-30T06:36:54.650Z"
   },
   {
    "duration": 113,
    "start_time": "2025-05-30T06:36:54.675Z"
   },
   {
    "duration": 24,
    "start_time": "2025-05-30T06:36:54.790Z"
   },
   {
    "duration": 2111,
    "start_time": "2025-05-30T06:36:54.815Z"
   },
   {
    "duration": 8,
    "start_time": "2025-05-30T06:36:56.928Z"
   },
   {
    "duration": 63,
    "start_time": "2025-05-30T06:36:56.938Z"
   },
   {
    "duration": 8,
    "start_time": "2025-05-30T06:36:57.002Z"
   },
   {
    "duration": 3,
    "start_time": "2025-05-30T06:36:57.012Z"
   },
   {
    "duration": 5,
    "start_time": "2025-05-30T06:36:57.017Z"
   },
   {
    "duration": 15,
    "start_time": "2025-05-30T06:36:57.023Z"
   },
   {
    "duration": 14,
    "start_time": "2025-05-30T06:36:57.039Z"
   },
   {
    "duration": 13,
    "start_time": "2025-05-30T06:36:57.055Z"
   },
   {
    "duration": 10,
    "start_time": "2025-05-30T06:36:57.072Z"
   },
   {
    "duration": 100,
    "start_time": "2025-05-30T06:36:57.084Z"
   },
   {
    "duration": 0,
    "start_time": "2025-05-30T06:36:57.186Z"
   },
   {
    "duration": 0,
    "start_time": "2025-05-30T06:36:57.188Z"
   },
   {
    "duration": 0,
    "start_time": "2025-05-30T06:36:57.188Z"
   },
   {
    "duration": 1,
    "start_time": "2025-05-30T06:36:57.189Z"
   },
   {
    "duration": 0,
    "start_time": "2025-05-30T06:36:57.191Z"
   },
   {
    "duration": 0,
    "start_time": "2025-05-30T06:36:57.192Z"
   },
   {
    "duration": 0,
    "start_time": "2025-05-30T06:36:57.193Z"
   },
   {
    "duration": 0,
    "start_time": "2025-05-30T06:36:57.194Z"
   },
   {
    "duration": 0,
    "start_time": "2025-05-30T06:36:57.195Z"
   },
   {
    "duration": 0,
    "start_time": "2025-05-30T06:36:57.197Z"
   },
   {
    "duration": 0,
    "start_time": "2025-05-30T06:36:57.198Z"
   },
   {
    "duration": 0,
    "start_time": "2025-05-30T06:36:57.200Z"
   },
   {
    "duration": 0,
    "start_time": "2025-05-30T06:36:57.201Z"
   },
   {
    "duration": 0,
    "start_time": "2025-05-30T06:36:57.202Z"
   },
   {
    "duration": 0,
    "start_time": "2025-05-30T06:36:57.203Z"
   },
   {
    "duration": 0,
    "start_time": "2025-05-30T06:36:57.204Z"
   },
   {
    "duration": 0,
    "start_time": "2025-05-30T06:36:57.206Z"
   },
   {
    "duration": 0,
    "start_time": "2025-05-30T06:36:57.207Z"
   },
   {
    "duration": 0,
    "start_time": "2025-05-30T06:36:57.208Z"
   },
   {
    "duration": 0,
    "start_time": "2025-05-30T06:36:57.209Z"
   },
   {
    "duration": 0,
    "start_time": "2025-05-30T06:36:57.210Z"
   },
   {
    "duration": 0,
    "start_time": "2025-05-30T06:36:57.211Z"
   },
   {
    "duration": 0,
    "start_time": "2025-05-30T06:36:57.212Z"
   },
   {
    "duration": 0,
    "start_time": "2025-05-30T06:36:57.259Z"
   },
   {
    "duration": 0,
    "start_time": "2025-05-30T06:36:57.261Z"
   },
   {
    "duration": 0,
    "start_time": "2025-05-30T06:36:57.263Z"
   },
   {
    "duration": 0,
    "start_time": "2025-05-30T06:36:57.264Z"
   },
   {
    "duration": 0,
    "start_time": "2025-05-30T06:36:57.266Z"
   },
   {
    "duration": 0,
    "start_time": "2025-05-30T06:36:57.267Z"
   },
   {
    "duration": 0,
    "start_time": "2025-05-30T06:36:57.269Z"
   },
   {
    "duration": 0,
    "start_time": "2025-05-30T06:36:57.270Z"
   },
   {
    "duration": 0,
    "start_time": "2025-05-30T06:36:57.271Z"
   },
   {
    "duration": 0,
    "start_time": "2025-05-30T06:36:57.273Z"
   },
   {
    "duration": 12,
    "start_time": "2025-05-30T06:37:12.490Z"
   },
   {
    "duration": 6,
    "start_time": "2025-05-30T06:38:41.141Z"
   },
   {
    "duration": 8,
    "start_time": "2025-05-30T06:38:48.033Z"
   },
   {
    "duration": 5,
    "start_time": "2025-05-30T06:39:32.930Z"
   },
   {
    "duration": 9,
    "start_time": "2025-05-30T06:39:37.064Z"
   },
   {
    "duration": 4,
    "start_time": "2025-05-30T06:40:36.052Z"
   },
   {
    "duration": 10,
    "start_time": "2025-05-30T06:40:37.746Z"
   },
   {
    "duration": 738,
    "start_time": "2025-05-30T06:40:44.830Z"
   },
   {
    "duration": 87,
    "start_time": "2025-05-30T06:40:45.571Z"
   },
   {
    "duration": 19,
    "start_time": "2025-05-30T06:40:45.660Z"
   },
   {
    "duration": 29,
    "start_time": "2025-05-30T06:40:45.681Z"
   },
   {
    "duration": 50,
    "start_time": "2025-05-30T06:40:45.712Z"
   },
   {
    "duration": 1977,
    "start_time": "2025-05-30T06:40:45.765Z"
   },
   {
    "duration": 10,
    "start_time": "2025-05-30T06:40:47.744Z"
   },
   {
    "duration": 8,
    "start_time": "2025-05-30T06:40:47.756Z"
   },
   {
    "duration": 7,
    "start_time": "2025-05-30T06:40:47.766Z"
   },
   {
    "duration": 16,
    "start_time": "2025-05-30T06:40:47.776Z"
   },
   {
    "duration": 6,
    "start_time": "2025-05-30T06:40:47.794Z"
   },
   {
    "duration": 13,
    "start_time": "2025-05-30T06:40:47.801Z"
   },
   {
    "duration": 10,
    "start_time": "2025-05-30T06:40:47.815Z"
   },
   {
    "duration": 32,
    "start_time": "2025-05-30T06:40:47.828Z"
   },
   {
    "duration": 10,
    "start_time": "2025-05-30T06:40:47.862Z"
   },
   {
    "duration": 8,
    "start_time": "2025-05-30T06:40:47.873Z"
   },
   {
    "duration": 115,
    "start_time": "2025-05-30T06:40:47.883Z"
   },
   {
    "duration": 0,
    "start_time": "2025-05-30T06:40:48.000Z"
   },
   {
    "duration": 0,
    "start_time": "2025-05-30T06:40:48.002Z"
   },
   {
    "duration": 0,
    "start_time": "2025-05-30T06:40:48.003Z"
   },
   {
    "duration": 0,
    "start_time": "2025-05-30T06:40:48.005Z"
   },
   {
    "duration": 0,
    "start_time": "2025-05-30T06:40:48.007Z"
   },
   {
    "duration": 0,
    "start_time": "2025-05-30T06:40:48.008Z"
   },
   {
    "duration": 0,
    "start_time": "2025-05-30T06:40:48.009Z"
   },
   {
    "duration": 0,
    "start_time": "2025-05-30T06:40:48.010Z"
   },
   {
    "duration": 0,
    "start_time": "2025-05-30T06:40:48.012Z"
   },
   {
    "duration": 0,
    "start_time": "2025-05-30T06:40:48.013Z"
   },
   {
    "duration": 0,
    "start_time": "2025-05-30T06:40:48.014Z"
   },
   {
    "duration": 0,
    "start_time": "2025-05-30T06:40:48.015Z"
   },
   {
    "duration": 0,
    "start_time": "2025-05-30T06:40:48.016Z"
   },
   {
    "duration": 0,
    "start_time": "2025-05-30T06:40:48.017Z"
   },
   {
    "duration": 1,
    "start_time": "2025-05-30T06:40:48.018Z"
   },
   {
    "duration": 0,
    "start_time": "2025-05-30T06:40:48.020Z"
   },
   {
    "duration": 0,
    "start_time": "2025-05-30T06:40:48.021Z"
   },
   {
    "duration": 0,
    "start_time": "2025-05-30T06:40:48.022Z"
   },
   {
    "duration": 0,
    "start_time": "2025-05-30T06:40:48.023Z"
   },
   {
    "duration": 0,
    "start_time": "2025-05-30T06:40:48.057Z"
   },
   {
    "duration": 0,
    "start_time": "2025-05-30T06:40:48.059Z"
   },
   {
    "duration": 0,
    "start_time": "2025-05-30T06:40:48.060Z"
   },
   {
    "duration": 0,
    "start_time": "2025-05-30T06:40:48.061Z"
   },
   {
    "duration": 0,
    "start_time": "2025-05-30T06:40:48.062Z"
   },
   {
    "duration": 0,
    "start_time": "2025-05-30T06:40:48.063Z"
   },
   {
    "duration": 0,
    "start_time": "2025-05-30T06:40:48.065Z"
   },
   {
    "duration": 0,
    "start_time": "2025-05-30T06:40:48.066Z"
   },
   {
    "duration": 0,
    "start_time": "2025-05-30T06:40:48.067Z"
   },
   {
    "duration": 0,
    "start_time": "2025-05-30T06:40:48.069Z"
   },
   {
    "duration": 0,
    "start_time": "2025-05-30T06:40:48.070Z"
   },
   {
    "duration": 0,
    "start_time": "2025-05-30T06:40:48.070Z"
   },
   {
    "duration": 0,
    "start_time": "2025-05-30T06:40:48.072Z"
   },
   {
    "duration": 0,
    "start_time": "2025-05-30T06:40:48.073Z"
   },
   {
    "duration": 4,
    "start_time": "2025-05-30T06:41:03.639Z"
   },
   {
    "duration": 10,
    "start_time": "2025-05-30T06:41:05.202Z"
   },
   {
    "duration": 667,
    "start_time": "2025-05-30T06:42:39.333Z"
   },
   {
    "duration": 86,
    "start_time": "2025-05-30T06:42:40.002Z"
   },
   {
    "duration": 15,
    "start_time": "2025-05-30T06:42:40.090Z"
   },
   {
    "duration": 28,
    "start_time": "2025-05-30T06:42:40.107Z"
   },
   {
    "duration": 36,
    "start_time": "2025-05-30T06:42:40.136Z"
   },
   {
    "duration": 1976,
    "start_time": "2025-05-30T06:42:40.174Z"
   },
   {
    "duration": 12,
    "start_time": "2025-05-30T06:42:42.152Z"
   },
   {
    "duration": 12,
    "start_time": "2025-05-30T06:42:42.166Z"
   },
   {
    "duration": 6,
    "start_time": "2025-05-30T06:42:42.179Z"
   },
   {
    "duration": 3,
    "start_time": "2025-05-30T06:42:42.187Z"
   },
   {
    "duration": 6,
    "start_time": "2025-05-30T06:42:42.191Z"
   },
   {
    "duration": 89,
    "start_time": "2025-05-30T06:42:42.198Z"
   },
   {
    "duration": 0,
    "start_time": "2025-05-30T06:42:42.289Z"
   },
   {
    "duration": 0,
    "start_time": "2025-05-30T06:42:42.290Z"
   },
   {
    "duration": 0,
    "start_time": "2025-05-30T06:42:42.291Z"
   },
   {
    "duration": 0,
    "start_time": "2025-05-30T06:42:42.292Z"
   },
   {
    "duration": 0,
    "start_time": "2025-05-30T06:42:42.294Z"
   },
   {
    "duration": 0,
    "start_time": "2025-05-30T06:42:42.295Z"
   },
   {
    "duration": 0,
    "start_time": "2025-05-30T06:42:42.296Z"
   },
   {
    "duration": 0,
    "start_time": "2025-05-30T06:42:42.297Z"
   },
   {
    "duration": 0,
    "start_time": "2025-05-30T06:42:42.298Z"
   },
   {
    "duration": 0,
    "start_time": "2025-05-30T06:42:42.299Z"
   },
   {
    "duration": 0,
    "start_time": "2025-05-30T06:42:42.300Z"
   },
   {
    "duration": 0,
    "start_time": "2025-05-30T06:42:42.302Z"
   },
   {
    "duration": 0,
    "start_time": "2025-05-30T06:42:42.303Z"
   },
   {
    "duration": 0,
    "start_time": "2025-05-30T06:42:42.304Z"
   },
   {
    "duration": 0,
    "start_time": "2025-05-30T06:42:42.305Z"
   },
   {
    "duration": 0,
    "start_time": "2025-05-30T06:42:42.306Z"
   },
   {
    "duration": 0,
    "start_time": "2025-05-30T06:42:42.307Z"
   },
   {
    "duration": 0,
    "start_time": "2025-05-30T06:42:42.308Z"
   },
   {
    "duration": 0,
    "start_time": "2025-05-30T06:42:42.309Z"
   },
   {
    "duration": 0,
    "start_time": "2025-05-30T06:42:42.310Z"
   },
   {
    "duration": 1,
    "start_time": "2025-05-30T06:42:42.311Z"
   },
   {
    "duration": 0,
    "start_time": "2025-05-30T06:42:42.313Z"
   },
   {
    "duration": 0,
    "start_time": "2025-05-30T06:42:42.314Z"
   },
   {
    "duration": 0,
    "start_time": "2025-05-30T06:42:42.315Z"
   },
   {
    "duration": 0,
    "start_time": "2025-05-30T06:42:42.317Z"
   },
   {
    "duration": 0,
    "start_time": "2025-05-30T06:42:42.359Z"
   },
   {
    "duration": 0,
    "start_time": "2025-05-30T06:42:42.360Z"
   },
   {
    "duration": 0,
    "start_time": "2025-05-30T06:42:42.361Z"
   },
   {
    "duration": 0,
    "start_time": "2025-05-30T06:42:42.363Z"
   },
   {
    "duration": 0,
    "start_time": "2025-05-30T06:42:42.364Z"
   },
   {
    "duration": 0,
    "start_time": "2025-05-30T06:42:42.367Z"
   },
   {
    "duration": 0,
    "start_time": "2025-05-30T06:42:42.368Z"
   },
   {
    "duration": 0,
    "start_time": "2025-05-30T06:42:42.369Z"
   },
   {
    "duration": 0,
    "start_time": "2025-05-30T06:42:42.370Z"
   },
   {
    "duration": 0,
    "start_time": "2025-05-30T06:42:42.371Z"
   },
   {
    "duration": 0,
    "start_time": "2025-05-30T06:42:42.372Z"
   },
   {
    "duration": 0,
    "start_time": "2025-05-30T06:42:42.373Z"
   },
   {
    "duration": 0,
    "start_time": "2025-05-30T06:42:42.375Z"
   },
   {
    "duration": 13,
    "start_time": "2025-05-30T06:42:55.551Z"
   },
   {
    "duration": 676,
    "start_time": "2025-05-30T06:44:03.481Z"
   },
   {
    "duration": 88,
    "start_time": "2025-05-30T06:44:04.158Z"
   },
   {
    "duration": 15,
    "start_time": "2025-05-30T06:44:04.248Z"
   },
   {
    "duration": 42,
    "start_time": "2025-05-30T06:44:04.265Z"
   },
   {
    "duration": 25,
    "start_time": "2025-05-30T06:44:04.308Z"
   },
   {
    "duration": 1967,
    "start_time": "2025-05-30T06:44:04.335Z"
   },
   {
    "duration": 9,
    "start_time": "2025-05-30T06:44:06.304Z"
   },
   {
    "duration": 19,
    "start_time": "2025-05-30T06:44:06.314Z"
   },
   {
    "duration": 7,
    "start_time": "2025-05-30T06:44:06.336Z"
   },
   {
    "duration": 5,
    "start_time": "2025-05-30T06:44:06.345Z"
   },
   {
    "duration": 56,
    "start_time": "2025-05-30T06:44:06.351Z"
   },
   {
    "duration": 42,
    "start_time": "2025-05-30T06:44:06.408Z"
   },
   {
    "duration": 15,
    "start_time": "2025-05-30T06:44:06.451Z"
   },
   {
    "duration": 10,
    "start_time": "2025-05-30T06:44:06.467Z"
   },
   {
    "duration": 15,
    "start_time": "2025-05-30T06:44:06.478Z"
   },
   {
    "duration": 85,
    "start_time": "2025-05-30T06:44:06.494Z"
   },
   {
    "duration": 0,
    "start_time": "2025-05-30T06:44:06.581Z"
   },
   {
    "duration": 0,
    "start_time": "2025-05-30T06:44:06.582Z"
   },
   {
    "duration": 0,
    "start_time": "2025-05-30T06:44:06.583Z"
   },
   {
    "duration": 0,
    "start_time": "2025-05-30T06:44:06.584Z"
   },
   {
    "duration": 0,
    "start_time": "2025-05-30T06:44:06.585Z"
   },
   {
    "duration": 0,
    "start_time": "2025-05-30T06:44:06.588Z"
   },
   {
    "duration": 0,
    "start_time": "2025-05-30T06:44:06.589Z"
   },
   {
    "duration": 0,
    "start_time": "2025-05-30T06:44:06.590Z"
   },
   {
    "duration": 1,
    "start_time": "2025-05-30T06:44:06.591Z"
   },
   {
    "duration": 0,
    "start_time": "2025-05-30T06:44:06.593Z"
   },
   {
    "duration": 0,
    "start_time": "2025-05-30T06:44:06.594Z"
   },
   {
    "duration": 0,
    "start_time": "2025-05-30T06:44:06.595Z"
   },
   {
    "duration": 0,
    "start_time": "2025-05-30T06:44:06.596Z"
   },
   {
    "duration": 0,
    "start_time": "2025-05-30T06:44:06.597Z"
   },
   {
    "duration": 0,
    "start_time": "2025-05-30T06:44:06.598Z"
   },
   {
    "duration": 0,
    "start_time": "2025-05-30T06:44:06.599Z"
   },
   {
    "duration": 0,
    "start_time": "2025-05-30T06:44:06.600Z"
   },
   {
    "duration": 0,
    "start_time": "2025-05-30T06:44:06.601Z"
   },
   {
    "duration": 0,
    "start_time": "2025-05-30T06:44:06.602Z"
   },
   {
    "duration": 0,
    "start_time": "2025-05-30T06:44:06.604Z"
   },
   {
    "duration": 0,
    "start_time": "2025-05-30T06:44:06.605Z"
   },
   {
    "duration": 0,
    "start_time": "2025-05-30T06:44:06.606Z"
   },
   {
    "duration": 0,
    "start_time": "2025-05-30T06:44:06.607Z"
   },
   {
    "duration": 0,
    "start_time": "2025-05-30T06:44:06.608Z"
   },
   {
    "duration": 0,
    "start_time": "2025-05-30T06:44:06.657Z"
   },
   {
    "duration": 0,
    "start_time": "2025-05-30T06:44:06.658Z"
   },
   {
    "duration": 0,
    "start_time": "2025-05-30T06:44:06.660Z"
   },
   {
    "duration": 0,
    "start_time": "2025-05-30T06:44:06.660Z"
   },
   {
    "duration": 0,
    "start_time": "2025-05-30T06:44:06.662Z"
   },
   {
    "duration": 0,
    "start_time": "2025-05-30T06:44:06.663Z"
   },
   {
    "duration": 0,
    "start_time": "2025-05-30T06:44:06.664Z"
   },
   {
    "duration": 0,
    "start_time": "2025-05-30T06:44:06.665Z"
   },
   {
    "duration": 0,
    "start_time": "2025-05-30T06:44:06.666Z"
   },
   {
    "duration": 656,
    "start_time": "2025-05-30T06:47:35.050Z"
   },
   {
    "duration": 88,
    "start_time": "2025-05-30T06:47:35.708Z"
   },
   {
    "duration": 16,
    "start_time": "2025-05-30T06:47:35.797Z"
   },
   {
    "duration": 27,
    "start_time": "2025-05-30T06:47:35.815Z"
   },
   {
    "duration": 36,
    "start_time": "2025-05-30T06:47:35.844Z"
   },
   {
    "duration": 1949,
    "start_time": "2025-05-30T06:47:35.881Z"
   },
   {
    "duration": 9,
    "start_time": "2025-05-30T06:47:37.832Z"
   },
   {
    "duration": 8,
    "start_time": "2025-05-30T06:47:37.843Z"
   },
   {
    "duration": 5,
    "start_time": "2025-05-30T06:47:37.852Z"
   },
   {
    "duration": 3,
    "start_time": "2025-05-30T06:47:37.859Z"
   },
   {
    "duration": 5,
    "start_time": "2025-05-30T06:47:37.864Z"
   },
   {
    "duration": 8,
    "start_time": "2025-05-30T06:47:37.870Z"
   },
   {
    "duration": 13,
    "start_time": "2025-05-30T06:47:37.880Z"
   },
   {
    "duration": 11,
    "start_time": "2025-05-30T06:47:37.896Z"
   },
   {
    "duration": 8,
    "start_time": "2025-05-30T06:47:37.908Z"
   },
   {
    "duration": 44,
    "start_time": "2025-05-30T06:47:37.917Z"
   },
   {
    "duration": 76,
    "start_time": "2025-05-30T06:47:37.963Z"
   },
   {
    "duration": 0,
    "start_time": "2025-05-30T06:47:38.041Z"
   },
   {
    "duration": 0,
    "start_time": "2025-05-30T06:47:38.058Z"
   },
   {
    "duration": 0,
    "start_time": "2025-05-30T06:47:38.059Z"
   },
   {
    "duration": 0,
    "start_time": "2025-05-30T06:47:38.060Z"
   },
   {
    "duration": 0,
    "start_time": "2025-05-30T06:47:38.061Z"
   },
   {
    "duration": 0,
    "start_time": "2025-05-30T06:47:38.062Z"
   },
   {
    "duration": 0,
    "start_time": "2025-05-30T06:47:38.064Z"
   },
   {
    "duration": 0,
    "start_time": "2025-05-30T06:47:38.066Z"
   },
   {
    "duration": 0,
    "start_time": "2025-05-30T06:47:38.067Z"
   },
   {
    "duration": 0,
    "start_time": "2025-05-30T06:47:38.068Z"
   },
   {
    "duration": 0,
    "start_time": "2025-05-30T06:47:38.069Z"
   },
   {
    "duration": 0,
    "start_time": "2025-05-30T06:47:38.071Z"
   },
   {
    "duration": 0,
    "start_time": "2025-05-30T06:47:38.072Z"
   },
   {
    "duration": 0,
    "start_time": "2025-05-30T06:47:38.073Z"
   },
   {
    "duration": 0,
    "start_time": "2025-05-30T06:47:38.074Z"
   },
   {
    "duration": 0,
    "start_time": "2025-05-30T06:47:38.075Z"
   },
   {
    "duration": 0,
    "start_time": "2025-05-30T06:47:38.076Z"
   },
   {
    "duration": 0,
    "start_time": "2025-05-30T06:47:38.077Z"
   },
   {
    "duration": 0,
    "start_time": "2025-05-30T06:47:38.078Z"
   },
   {
    "duration": 0,
    "start_time": "2025-05-30T06:47:38.080Z"
   },
   {
    "duration": 0,
    "start_time": "2025-05-30T06:47:38.080Z"
   },
   {
    "duration": 0,
    "start_time": "2025-05-30T06:47:38.082Z"
   },
   {
    "duration": 0,
    "start_time": "2025-05-30T06:47:38.083Z"
   },
   {
    "duration": 0,
    "start_time": "2025-05-30T06:47:38.084Z"
   },
   {
    "duration": 0,
    "start_time": "2025-05-30T06:47:38.085Z"
   },
   {
    "duration": 0,
    "start_time": "2025-05-30T06:47:38.086Z"
   },
   {
    "duration": 0,
    "start_time": "2025-05-30T06:47:38.087Z"
   },
   {
    "duration": 0,
    "start_time": "2025-05-30T06:47:38.088Z"
   },
   {
    "duration": 0,
    "start_time": "2025-05-30T06:47:38.090Z"
   },
   {
    "duration": 0,
    "start_time": "2025-05-30T06:47:38.090Z"
   },
   {
    "duration": 0,
    "start_time": "2025-05-30T06:47:38.092Z"
   },
   {
    "duration": 4,
    "start_time": "2025-05-30T06:55:24.510Z"
   },
   {
    "duration": 14,
    "start_time": "2025-05-30T06:55:43.082Z"
   },
   {
    "duration": 5,
    "start_time": "2025-05-30T06:55:52.958Z"
   },
   {
    "duration": 65,
    "start_time": "2025-05-30T06:55:55.662Z"
   },
   {
    "duration": 696,
    "start_time": "2025-05-30T06:56:20.930Z"
   },
   {
    "duration": 88,
    "start_time": "2025-05-30T06:56:21.628Z"
   },
   {
    "duration": 16,
    "start_time": "2025-05-30T06:56:21.718Z"
   },
   {
    "duration": 42,
    "start_time": "2025-05-30T06:56:21.736Z"
   },
   {
    "duration": 24,
    "start_time": "2025-05-30T06:56:21.780Z"
   },
   {
    "duration": 1908,
    "start_time": "2025-05-30T06:56:21.806Z"
   },
   {
    "duration": 11,
    "start_time": "2025-05-30T06:56:23.716Z"
   },
   {
    "duration": 23,
    "start_time": "2025-05-30T06:56:23.729Z"
   },
   {
    "duration": 7,
    "start_time": "2025-05-30T06:56:23.753Z"
   },
   {
    "duration": 13,
    "start_time": "2025-05-30T06:56:23.761Z"
   },
   {
    "duration": 6,
    "start_time": "2025-05-30T06:56:23.775Z"
   },
   {
    "duration": 87,
    "start_time": "2025-05-30T06:56:23.783Z"
   },
   {
    "duration": 0,
    "start_time": "2025-05-30T06:56:23.873Z"
   },
   {
    "duration": 0,
    "start_time": "2025-05-30T06:56:23.874Z"
   },
   {
    "duration": 0,
    "start_time": "2025-05-30T06:56:23.875Z"
   },
   {
    "duration": 0,
    "start_time": "2025-05-30T06:56:23.876Z"
   },
   {
    "duration": 0,
    "start_time": "2025-05-30T06:56:23.878Z"
   },
   {
    "duration": 0,
    "start_time": "2025-05-30T06:56:23.879Z"
   },
   {
    "duration": 0,
    "start_time": "2025-05-30T06:56:23.880Z"
   },
   {
    "duration": 0,
    "start_time": "2025-05-30T06:56:23.881Z"
   },
   {
    "duration": 0,
    "start_time": "2025-05-30T06:56:23.882Z"
   },
   {
    "duration": 0,
    "start_time": "2025-05-30T06:56:23.883Z"
   },
   {
    "duration": 0,
    "start_time": "2025-05-30T06:56:23.884Z"
   },
   {
    "duration": 0,
    "start_time": "2025-05-30T06:56:23.886Z"
   },
   {
    "duration": 0,
    "start_time": "2025-05-30T06:56:23.887Z"
   },
   {
    "duration": 0,
    "start_time": "2025-05-30T06:56:23.888Z"
   },
   {
    "duration": 0,
    "start_time": "2025-05-30T06:56:23.890Z"
   },
   {
    "duration": 0,
    "start_time": "2025-05-30T06:56:23.892Z"
   },
   {
    "duration": 0,
    "start_time": "2025-05-30T06:56:23.893Z"
   },
   {
    "duration": 0,
    "start_time": "2025-05-30T06:56:23.895Z"
   },
   {
    "duration": 0,
    "start_time": "2025-05-30T06:56:23.896Z"
   },
   {
    "duration": 0,
    "start_time": "2025-05-30T06:56:23.898Z"
   },
   {
    "duration": 0,
    "start_time": "2025-05-30T06:56:23.900Z"
   },
   {
    "duration": 0,
    "start_time": "2025-05-30T06:56:23.901Z"
   },
   {
    "duration": 0,
    "start_time": "2025-05-30T06:56:23.903Z"
   },
   {
    "duration": 0,
    "start_time": "2025-05-30T06:56:23.905Z"
   },
   {
    "duration": 0,
    "start_time": "2025-05-30T06:56:23.906Z"
   },
   {
    "duration": 0,
    "start_time": "2025-05-30T06:56:23.907Z"
   },
   {
    "duration": 0,
    "start_time": "2025-05-30T06:56:23.909Z"
   },
   {
    "duration": 0,
    "start_time": "2025-05-30T06:56:23.959Z"
   },
   {
    "duration": 0,
    "start_time": "2025-05-30T06:56:23.960Z"
   },
   {
    "duration": 0,
    "start_time": "2025-05-30T06:56:23.961Z"
   },
   {
    "duration": 0,
    "start_time": "2025-05-30T06:56:23.963Z"
   },
   {
    "duration": 0,
    "start_time": "2025-05-30T06:56:23.965Z"
   },
   {
    "duration": 0,
    "start_time": "2025-05-30T06:56:23.966Z"
   },
   {
    "duration": 0,
    "start_time": "2025-05-30T06:56:23.968Z"
   },
   {
    "duration": 0,
    "start_time": "2025-05-30T06:56:23.969Z"
   },
   {
    "duration": 0,
    "start_time": "2025-05-30T06:56:23.971Z"
   },
   {
    "duration": 638,
    "start_time": "2025-05-30T06:56:45.624Z"
   },
   {
    "duration": 90,
    "start_time": "2025-05-30T06:56:46.264Z"
   },
   {
    "duration": 16,
    "start_time": "2025-05-30T06:56:46.355Z"
   },
   {
    "duration": 28,
    "start_time": "2025-05-30T06:56:46.373Z"
   },
   {
    "duration": 110,
    "start_time": "2025-05-30T06:56:46.403Z"
   },
   {
    "duration": 1948,
    "start_time": "2025-05-30T06:56:46.514Z"
   },
   {
    "duration": 9,
    "start_time": "2025-05-30T06:56:48.464Z"
   },
   {
    "duration": 25,
    "start_time": "2025-05-30T06:56:48.474Z"
   },
   {
    "duration": 5,
    "start_time": "2025-05-30T06:56:48.501Z"
   },
   {
    "duration": 9,
    "start_time": "2025-05-30T06:56:48.509Z"
   },
   {
    "duration": 6,
    "start_time": "2025-05-30T06:56:48.519Z"
   },
   {
    "duration": 20,
    "start_time": "2025-05-30T06:56:48.527Z"
   },
   {
    "duration": 19,
    "start_time": "2025-05-30T06:56:48.549Z"
   },
   {
    "duration": 8,
    "start_time": "2025-05-30T06:56:48.570Z"
   },
   {
    "duration": 8,
    "start_time": "2025-05-30T06:56:48.580Z"
   },
   {
    "duration": 8,
    "start_time": "2025-05-30T06:56:48.589Z"
   },
   {
    "duration": 14,
    "start_time": "2025-05-30T06:56:48.599Z"
   },
   {
    "duration": 5,
    "start_time": "2025-05-30T06:56:48.615Z"
   },
   {
    "duration": 101,
    "start_time": "2025-05-30T06:56:48.621Z"
   },
   {
    "duration": 6,
    "start_time": "2025-05-30T06:56:48.723Z"
   },
   {
    "duration": 84,
    "start_time": "2025-05-30T06:56:48.730Z"
   },
   {
    "duration": 6,
    "start_time": "2025-05-30T06:56:48.815Z"
   },
   {
    "duration": 6,
    "start_time": "2025-05-30T06:56:48.822Z"
   },
   {
    "duration": 324,
    "start_time": "2025-05-30T06:56:48.829Z"
   },
   {
    "duration": 4,
    "start_time": "2025-05-30T06:56:49.157Z"
   },
   {
    "duration": 114,
    "start_time": "2025-05-30T06:56:49.162Z"
   },
   {
    "duration": 239,
    "start_time": "2025-05-30T06:56:49.278Z"
   },
   {
    "duration": 473,
    "start_time": "2025-05-30T06:56:49.520Z"
   },
   {
    "duration": 173,
    "start_time": "2025-05-30T06:56:49.995Z"
   },
   {
    "duration": 182,
    "start_time": "2025-05-30T06:56:50.169Z"
   },
   {
    "duration": 185,
    "start_time": "2025-05-30T06:56:50.353Z"
   },
   {
    "duration": 175,
    "start_time": "2025-05-30T06:56:50.539Z"
   },
   {
    "duration": 174,
    "start_time": "2025-05-30T06:56:50.716Z"
   },
   {
    "duration": 146,
    "start_time": "2025-05-30T06:56:50.891Z"
   },
   {
    "duration": 195,
    "start_time": "2025-05-30T06:56:51.039Z"
   },
   {
    "duration": 171,
    "start_time": "2025-05-30T06:56:51.235Z"
   },
   {
    "duration": 175,
    "start_time": "2025-05-30T06:56:51.408Z"
   },
   {
    "duration": 175,
    "start_time": "2025-05-30T06:56:51.585Z"
   },
   {
    "duration": 67,
    "start_time": "2025-05-30T06:56:51.762Z"
   },
   {
    "duration": 3,
    "start_time": "2025-05-30T06:56:51.831Z"
   },
   {
    "duration": 38,
    "start_time": "2025-05-30T06:56:51.835Z"
   },
   {
    "duration": 7,
    "start_time": "2025-05-30T06:56:51.875Z"
   },
   {
    "duration": 36,
    "start_time": "2025-05-30T06:56:51.883Z"
   },
   {
    "duration": 17,
    "start_time": "2025-05-30T06:56:51.921Z"
   },
   {
    "duration": 123,
    "start_time": "2025-05-30T06:56:51.939Z"
   },
   {
    "duration": 18,
    "start_time": "2025-05-30T06:56:52.064Z"
   },
   {
    "duration": 165,
    "start_time": "2025-05-30T06:56:52.084Z"
   },
   {
    "duration": 5,
    "start_time": "2025-05-30T06:57:24.891Z"
   },
   {
    "duration": 25,
    "start_time": "2025-05-30T06:57:26.573Z"
   },
   {
    "duration": 393,
    "start_time": "2025-05-30T07:01:04.480Z"
   },
   {
    "duration": 398,
    "start_time": "2025-05-30T07:02:47.426Z"
   },
   {
    "duration": 209,
    "start_time": "2025-05-30T07:03:09.707Z"
   },
   {
    "duration": 413,
    "start_time": "2025-05-30T07:03:14.765Z"
   },
   {
    "duration": 510,
    "start_time": "2025-05-30T07:04:44.691Z"
   },
   {
    "duration": 420,
    "start_time": "2025-05-30T07:05:09.143Z"
   },
   {
    "duration": 642,
    "start_time": "2025-05-30T07:07:09.783Z"
   },
   {
    "duration": 91,
    "start_time": "2025-05-30T07:07:10.427Z"
   },
   {
    "duration": 18,
    "start_time": "2025-05-30T07:07:10.520Z"
   },
   {
    "duration": 38,
    "start_time": "2025-05-30T07:07:10.539Z"
   },
   {
    "duration": 26,
    "start_time": "2025-05-30T07:07:10.579Z"
   },
   {
    "duration": 2080,
    "start_time": "2025-05-30T07:07:10.607Z"
   },
   {
    "duration": 9,
    "start_time": "2025-05-30T07:07:12.688Z"
   },
   {
    "duration": 8,
    "start_time": "2025-05-30T07:07:12.699Z"
   },
   {
    "duration": 6,
    "start_time": "2025-05-30T07:07:12.708Z"
   },
   {
    "duration": 4,
    "start_time": "2025-05-30T07:07:12.716Z"
   },
   {
    "duration": 8,
    "start_time": "2025-05-30T07:07:12.721Z"
   },
   {
    "duration": 31,
    "start_time": "2025-05-30T07:07:12.731Z"
   },
   {
    "duration": 16,
    "start_time": "2025-05-30T07:07:12.764Z"
   },
   {
    "duration": 9,
    "start_time": "2025-05-30T07:07:12.785Z"
   },
   {
    "duration": 94,
    "start_time": "2025-05-30T07:07:12.795Z"
   },
   {
    "duration": 6,
    "start_time": "2025-05-30T07:07:12.891Z"
   },
   {
    "duration": 187,
    "start_time": "2025-05-30T07:07:12.899Z"
   },
   {
    "duration": 9,
    "start_time": "2025-05-30T07:07:13.088Z"
   },
   {
    "duration": 68,
    "start_time": "2025-05-30T07:07:13.098Z"
   },
   {
    "duration": 5,
    "start_time": "2025-05-30T07:07:13.168Z"
   },
   {
    "duration": 6,
    "start_time": "2025-05-30T07:07:13.175Z"
   },
   {
    "duration": 5,
    "start_time": "2025-05-30T07:07:13.183Z"
   },
   {
    "duration": 9,
    "start_time": "2025-05-30T07:07:13.190Z"
   },
   {
    "duration": 358,
    "start_time": "2025-05-30T07:07:13.200Z"
   },
   {
    "duration": 4,
    "start_time": "2025-05-30T07:07:13.560Z"
   },
   {
    "duration": 33,
    "start_time": "2025-05-30T07:07:13.566Z"
   },
   {
    "duration": 412,
    "start_time": "2025-05-30T07:07:13.601Z"
   },
   {
    "duration": 504,
    "start_time": "2025-05-30T07:07:14.015Z"
   },
   {
    "duration": 424,
    "start_time": "2025-05-30T07:07:14.520Z"
   },
   {
    "duration": 460,
    "start_time": "2025-05-30T07:07:14.946Z"
   },
   {
    "duration": 675,
    "start_time": "2025-05-30T07:11:36.552Z"
   },
   {
    "duration": 108,
    "start_time": "2025-05-30T07:11:37.229Z"
   },
   {
    "duration": 16,
    "start_time": "2025-05-30T07:11:37.338Z"
   },
   {
    "duration": 130,
    "start_time": "2025-05-30T07:11:37.355Z"
   },
   {
    "duration": 24,
    "start_time": "2025-05-30T07:11:37.488Z"
   },
   {
    "duration": 2044,
    "start_time": "2025-05-30T07:11:37.514Z"
   },
   {
    "duration": 11,
    "start_time": "2025-05-30T07:11:39.560Z"
   },
   {
    "duration": 8,
    "start_time": "2025-05-30T07:11:39.573Z"
   },
   {
    "duration": 8,
    "start_time": "2025-05-30T07:11:39.582Z"
   },
   {
    "duration": 9,
    "start_time": "2025-05-30T07:11:39.591Z"
   },
   {
    "duration": 6,
    "start_time": "2025-05-30T07:11:39.601Z"
   },
   {
    "duration": 103,
    "start_time": "2025-05-30T07:11:39.609Z"
   },
   {
    "duration": 17,
    "start_time": "2025-05-30T07:11:39.714Z"
   },
   {
    "duration": 9,
    "start_time": "2025-05-30T07:11:39.734Z"
   },
   {
    "duration": 20,
    "start_time": "2025-05-30T07:11:39.745Z"
   },
   {
    "duration": 9,
    "start_time": "2025-05-30T07:11:39.766Z"
   },
   {
    "duration": 21,
    "start_time": "2025-05-30T07:11:39.777Z"
   },
   {
    "duration": 6,
    "start_time": "2025-05-30T07:11:39.800Z"
   },
   {
    "duration": 84,
    "start_time": "2025-05-30T07:11:39.808Z"
   },
   {
    "duration": 6,
    "start_time": "2025-05-30T07:11:39.894Z"
   },
   {
    "duration": 7,
    "start_time": "2025-05-30T07:11:39.901Z"
   },
   {
    "duration": 6,
    "start_time": "2025-05-30T07:11:39.910Z"
   },
   {
    "duration": 10,
    "start_time": "2025-05-30T07:11:39.918Z"
   },
   {
    "duration": 366,
    "start_time": "2025-05-30T07:11:39.929Z"
   },
   {
    "duration": 5,
    "start_time": "2025-05-30T07:11:40.296Z"
   },
   {
    "duration": 27,
    "start_time": "2025-05-30T07:11:40.303Z"
   },
   {
    "duration": 418,
    "start_time": "2025-05-30T07:11:40.332Z"
   },
   {
    "duration": 521,
    "start_time": "2025-05-30T07:11:40.752Z"
   },
   {
    "duration": 443,
    "start_time": "2025-05-30T07:11:41.275Z"
   },
   {
    "duration": 458,
    "start_time": "2025-05-30T07:11:41.720Z"
   },
   {
    "duration": 83,
    "start_time": "2025-05-30T07:11:42.180Z"
   },
   {
    "duration": 0,
    "start_time": "2025-05-30T07:11:42.265Z"
   },
   {
    "duration": 0,
    "start_time": "2025-05-30T07:11:42.266Z"
   },
   {
    "duration": 0,
    "start_time": "2025-05-30T07:11:42.267Z"
   },
   {
    "duration": 0,
    "start_time": "2025-05-30T07:11:42.269Z"
   },
   {
    "duration": 0,
    "start_time": "2025-05-30T07:11:42.270Z"
   },
   {
    "duration": 0,
    "start_time": "2025-05-30T07:11:42.271Z"
   },
   {
    "duration": 0,
    "start_time": "2025-05-30T07:11:42.272Z"
   },
   {
    "duration": 0,
    "start_time": "2025-05-30T07:11:42.273Z"
   },
   {
    "duration": 0,
    "start_time": "2025-05-30T07:11:42.274Z"
   },
   {
    "duration": 0,
    "start_time": "2025-05-30T07:11:42.275Z"
   },
   {
    "duration": 0,
    "start_time": "2025-05-30T07:11:42.276Z"
   },
   {
    "duration": 0,
    "start_time": "2025-05-30T07:11:42.277Z"
   },
   {
    "duration": 0,
    "start_time": "2025-05-30T07:11:42.278Z"
   },
   {
    "duration": 0,
    "start_time": "2025-05-30T07:11:42.279Z"
   },
   {
    "duration": 0,
    "start_time": "2025-05-30T07:11:42.280Z"
   },
   {
    "duration": 9,
    "start_time": "2025-05-30T07:12:56.164Z"
   },
   {
    "duration": 675,
    "start_time": "2025-05-30T07:14:10.746Z"
   },
   {
    "duration": 96,
    "start_time": "2025-05-30T07:14:11.423Z"
   },
   {
    "duration": 18,
    "start_time": "2025-05-30T07:14:11.521Z"
   },
   {
    "duration": 44,
    "start_time": "2025-05-30T07:14:11.540Z"
   },
   {
    "duration": 31,
    "start_time": "2025-05-30T07:14:11.587Z"
   },
   {
    "duration": 1979,
    "start_time": "2025-05-30T07:14:11.619Z"
   },
   {
    "duration": 9,
    "start_time": "2025-05-30T07:14:13.600Z"
   },
   {
    "duration": 8,
    "start_time": "2025-05-30T07:14:13.610Z"
   },
   {
    "duration": 5,
    "start_time": "2025-05-30T07:14:13.619Z"
   },
   {
    "duration": 3,
    "start_time": "2025-05-30T07:14:13.625Z"
   },
   {
    "duration": 33,
    "start_time": "2025-05-30T07:14:13.629Z"
   },
   {
    "duration": 37,
    "start_time": "2025-05-30T07:14:13.664Z"
   },
   {
    "duration": 13,
    "start_time": "2025-05-30T07:14:13.703Z"
   },
   {
    "duration": 8,
    "start_time": "2025-05-30T07:14:13.719Z"
   },
   {
    "duration": 7,
    "start_time": "2025-05-30T07:14:13.728Z"
   },
   {
    "duration": 5,
    "start_time": "2025-05-30T07:14:13.736Z"
   },
   {
    "duration": 15,
    "start_time": "2025-05-30T07:14:13.743Z"
   },
   {
    "duration": 5,
    "start_time": "2025-05-30T07:14:13.759Z"
   },
   {
    "duration": 82,
    "start_time": "2025-05-30T07:14:13.766Z"
   },
   {
    "duration": 8,
    "start_time": "2025-05-30T07:14:13.850Z"
   },
   {
    "duration": 5,
    "start_time": "2025-05-30T07:14:13.859Z"
   },
   {
    "duration": 6,
    "start_time": "2025-05-30T07:14:13.866Z"
   },
   {
    "duration": 5,
    "start_time": "2025-05-30T07:14:13.874Z"
   },
   {
    "duration": 350,
    "start_time": "2025-05-30T07:14:13.880Z"
   },
   {
    "duration": 4,
    "start_time": "2025-05-30T07:14:14.231Z"
   },
   {
    "duration": 33,
    "start_time": "2025-05-30T07:14:14.237Z"
   },
   {
    "duration": 395,
    "start_time": "2025-05-30T07:14:14.272Z"
   },
   {
    "duration": 490,
    "start_time": "2025-05-30T07:14:14.669Z"
   },
   {
    "duration": 430,
    "start_time": "2025-05-30T07:14:15.161Z"
   },
   {
    "duration": 412,
    "start_time": "2025-05-30T07:14:15.593Z"
   },
   {
    "duration": 480,
    "start_time": "2025-05-30T07:14:16.007Z"
   },
   {
    "duration": 177,
    "start_time": "2025-05-30T07:14:16.488Z"
   },
   {
    "duration": 134,
    "start_time": "2025-05-30T07:14:16.667Z"
   },
   {
    "duration": 171,
    "start_time": "2025-05-30T07:14:16.802Z"
   },
   {
    "duration": 170,
    "start_time": "2025-05-30T07:14:16.975Z"
   },
   {
    "duration": 156,
    "start_time": "2025-05-30T07:14:17.147Z"
   },
   {
    "duration": 156,
    "start_time": "2025-05-30T07:14:17.304Z"
   },
   {
    "duration": 68,
    "start_time": "2025-05-30T07:14:17.462Z"
   },
   {
    "duration": 3,
    "start_time": "2025-05-30T07:14:17.531Z"
   },
   {
    "duration": 37,
    "start_time": "2025-05-30T07:14:17.535Z"
   },
   {
    "duration": 3,
    "start_time": "2025-05-30T07:14:17.576Z"
   },
   {
    "duration": 4,
    "start_time": "2025-05-30T07:14:17.580Z"
   },
   {
    "duration": 10,
    "start_time": "2025-05-30T07:14:17.585Z"
   },
   {
    "duration": 7,
    "start_time": "2025-05-30T07:14:17.597Z"
   },
   {
    "duration": 11,
    "start_time": "2025-05-30T07:14:17.606Z"
   },
   {
    "duration": 177,
    "start_time": "2025-05-30T07:14:17.618Z"
   },
   {
    "duration": 227,
    "start_time": "2025-05-30T07:15:17.069Z"
   },
   {
    "duration": 227,
    "start_time": "2025-05-30T07:18:03.215Z"
   },
   {
    "duration": 230,
    "start_time": "2025-05-30T07:18:43.182Z"
   },
   {
    "duration": 288,
    "start_time": "2025-05-30T07:23:37.172Z"
   },
   {
    "duration": 189,
    "start_time": "2025-05-30T07:23:47.955Z"
   },
   {
    "duration": 165,
    "start_time": "2025-05-30T07:23:55.252Z"
   },
   {
    "duration": 225,
    "start_time": "2025-05-30T07:25:01.741Z"
   },
   {
    "duration": 223,
    "start_time": "2025-05-30T07:26:01.052Z"
   },
   {
    "duration": 227,
    "start_time": "2025-05-30T07:27:48.279Z"
   },
   {
    "duration": 230,
    "start_time": "2025-05-30T07:29:12.968Z"
   },
   {
    "duration": 93,
    "start_time": "2025-05-30T07:32:59.722Z"
   },
   {
    "duration": 238,
    "start_time": "2025-05-30T07:33:12.168Z"
   },
   {
    "duration": 314,
    "start_time": "2025-05-30T07:33:44.535Z"
   },
   {
    "duration": 10,
    "start_time": "2025-05-30T07:38:17.898Z"
   },
   {
    "duration": 23,
    "start_time": "2025-05-30T07:39:09.660Z"
   },
   {
    "duration": 243,
    "start_time": "2025-05-30T07:41:47.835Z"
   },
   {
    "duration": 235,
    "start_time": "2025-05-30T07:42:09.667Z"
   },
   {
    "duration": 240,
    "start_time": "2025-05-30T07:42:14.419Z"
   },
   {
    "duration": 241,
    "start_time": "2025-05-30T07:42:18.483Z"
   },
   {
    "duration": 72,
    "start_time": "2025-05-30T07:51:56.138Z"
   },
   {
    "duration": 65,
    "start_time": "2025-05-30T08:05:12.650Z"
   },
   {
    "duration": 8,
    "start_time": "2025-05-30T08:07:09.650Z"
   },
   {
    "duration": 10,
    "start_time": "2025-05-30T08:07:30.836Z"
   },
   {
    "duration": 27628,
    "start_time": "2025-05-30T08:07:42.383Z"
   },
   {
    "duration": 779,
    "start_time": "2025-05-30T12:05:32.698Z"
   },
   {
    "duration": 101,
    "start_time": "2025-05-30T12:05:33.478Z"
   },
   {
    "duration": 16,
    "start_time": "2025-05-30T12:05:33.581Z"
   },
   {
    "duration": 140,
    "start_time": "2025-05-30T12:05:33.599Z"
   },
   {
    "duration": 24,
    "start_time": "2025-05-30T12:05:33.740Z"
   },
   {
    "duration": 1931,
    "start_time": "2025-05-30T12:05:33.765Z"
   },
   {
    "duration": 8,
    "start_time": "2025-05-30T12:05:35.698Z"
   },
   {
    "duration": 47,
    "start_time": "2025-05-30T12:05:35.707Z"
   },
   {
    "duration": 8,
    "start_time": "2025-05-30T12:05:35.756Z"
   },
   {
    "duration": 30,
    "start_time": "2025-05-30T12:05:35.766Z"
   },
   {
    "duration": 22,
    "start_time": "2025-05-30T12:05:35.798Z"
   },
   {
    "duration": 17,
    "start_time": "2025-05-30T12:05:35.821Z"
   },
   {
    "duration": 14,
    "start_time": "2025-05-30T12:05:35.839Z"
   },
   {
    "duration": 8,
    "start_time": "2025-05-30T12:05:35.855Z"
   },
   {
    "duration": 16,
    "start_time": "2025-05-30T12:05:35.865Z"
   },
   {
    "duration": 5,
    "start_time": "2025-05-30T12:05:35.883Z"
   },
   {
    "duration": 13,
    "start_time": "2025-05-30T12:05:35.890Z"
   },
   {
    "duration": 32,
    "start_time": "2025-05-30T12:05:35.905Z"
   },
   {
    "duration": 68,
    "start_time": "2025-05-30T12:05:35.938Z"
   },
   {
    "duration": 5,
    "start_time": "2025-05-30T12:05:36.008Z"
   },
   {
    "duration": 50,
    "start_time": "2025-05-30T12:05:36.014Z"
   },
   {
    "duration": 9,
    "start_time": "2025-05-30T12:05:36.066Z"
   },
   {
    "duration": 8,
    "start_time": "2025-05-30T12:05:36.077Z"
   },
   {
    "duration": 412,
    "start_time": "2025-05-30T12:05:36.086Z"
   },
   {
    "duration": 9,
    "start_time": "2025-05-30T12:05:36.501Z"
   },
   {
    "duration": 43,
    "start_time": "2025-05-30T12:05:36.512Z"
   },
   {
    "duration": 479,
    "start_time": "2025-05-30T12:05:36.556Z"
   },
   {
    "duration": 411,
    "start_time": "2025-05-30T12:05:37.039Z"
   },
   {
    "duration": 386,
    "start_time": "2025-05-30T12:05:37.452Z"
   },
   {
    "duration": 375,
    "start_time": "2025-05-30T12:05:37.840Z"
   },
   {
    "duration": 236,
    "start_time": "2025-05-30T12:05:38.217Z"
   },
   {
    "duration": 321,
    "start_time": "2025-05-30T12:05:38.455Z"
   },
   {
    "duration": 164,
    "start_time": "2025-05-30T12:05:38.778Z"
   },
   {
    "duration": 219,
    "start_time": "2025-05-30T12:05:38.944Z"
   },
   {
    "duration": 218,
    "start_time": "2025-05-30T12:05:39.165Z"
   },
   {
    "duration": 224,
    "start_time": "2025-05-30T12:05:39.385Z"
   },
   {
    "duration": 247,
    "start_time": "2025-05-30T12:05:39.611Z"
   },
   {
    "duration": 75,
    "start_time": "2025-05-30T12:05:39.860Z"
   },
   {
    "duration": 17,
    "start_time": "2025-05-30T12:05:39.937Z"
   },
   {
    "duration": 4,
    "start_time": "2025-05-30T12:05:39.955Z"
   },
   {
    "duration": 9,
    "start_time": "2025-05-30T12:05:39.960Z"
   },
   {
    "duration": 14,
    "start_time": "2025-05-30T12:05:39.970Z"
   },
   {
    "duration": 11,
    "start_time": "2025-05-30T12:05:39.986Z"
   },
   {
    "duration": 22,
    "start_time": "2025-05-30T12:05:39.998Z"
   },
   {
    "duration": 173,
    "start_time": "2025-05-30T12:05:40.022Z"
   },
   {
    "duration": 715,
    "start_time": "2025-05-30T12:20:03.714Z"
   },
   {
    "duration": 742,
    "start_time": "2025-05-30T12:21:55.060Z"
   },
   {
    "duration": 433,
    "start_time": "2025-05-30T12:23:02.135Z"
   },
   {
    "duration": 385,
    "start_time": "2025-05-30T12:23:22.200Z"
   },
   {
    "duration": 53175,
    "start_time": "2025-05-30T12:24:02.247Z"
   },
   {
    "duration": 92,
    "start_time": "2025-05-30T12:24:55.436Z"
   },
   {
    "duration": 6,
    "start_time": "2025-05-30T12:26:51.253Z"
   },
   {
    "duration": 9,
    "start_time": "2025-05-30T12:26:53.007Z"
   },
   {
    "duration": 6,
    "start_time": "2025-05-30T12:27:03.910Z"
   },
   {
    "duration": 9,
    "start_time": "2025-05-30T12:27:05.497Z"
   },
   {
    "duration": 4,
    "start_time": "2025-05-30T12:28:10.213Z"
   },
   {
    "duration": 10,
    "start_time": "2025-05-30T12:28:11.905Z"
   },
   {
    "duration": 90,
    "start_time": "2025-05-30T12:30:24.141Z"
   },
   {
    "duration": 12,
    "start_time": "2025-05-30T12:30:28.562Z"
   },
   {
    "duration": 11,
    "start_time": "2025-05-30T12:30:33.082Z"
   },
   {
    "duration": 11,
    "start_time": "2025-05-30T12:30:42.983Z"
   },
   {
    "duration": 595,
    "start_time": "2025-05-30T12:30:58.386Z"
   },
   {
    "duration": 105,
    "start_time": "2025-05-30T12:30:58.983Z"
   },
   {
    "duration": 17,
    "start_time": "2025-05-30T12:30:59.089Z"
   },
   {
    "duration": 34,
    "start_time": "2025-05-30T12:30:59.109Z"
   },
   {
    "duration": 137,
    "start_time": "2025-05-30T12:30:59.145Z"
   },
   {
    "duration": 2040,
    "start_time": "2025-05-30T12:30:59.284Z"
   },
   {
    "duration": 11,
    "start_time": "2025-05-30T12:31:01.326Z"
   },
   {
    "duration": 47,
    "start_time": "2025-05-30T12:31:01.339Z"
   },
   {
    "duration": 31,
    "start_time": "2025-05-30T12:31:01.388Z"
   },
   {
    "duration": 24,
    "start_time": "2025-05-30T12:31:01.423Z"
   },
   {
    "duration": 17,
    "start_time": "2025-05-30T12:31:01.448Z"
   },
   {
    "duration": 34,
    "start_time": "2025-05-30T12:31:01.467Z"
   },
   {
    "duration": 12,
    "start_time": "2025-05-30T12:31:01.503Z"
   },
   {
    "duration": 16,
    "start_time": "2025-05-30T12:31:01.517Z"
   },
   {
    "duration": 13,
    "start_time": "2025-05-30T12:31:01.535Z"
   },
   {
    "duration": 28,
    "start_time": "2025-05-30T12:31:01.550Z"
   },
   {
    "duration": 42,
    "start_time": "2025-05-30T12:31:01.581Z"
   },
   {
    "duration": 37,
    "start_time": "2025-05-30T12:31:01.625Z"
   },
   {
    "duration": 7,
    "start_time": "2025-05-30T12:31:01.665Z"
   },
   {
    "duration": 219,
    "start_time": "2025-05-30T12:31:01.674Z"
   },
   {
    "duration": 5,
    "start_time": "2025-05-30T12:31:01.895Z"
   },
   {
    "duration": 10,
    "start_time": "2025-05-30T12:31:01.901Z"
   },
   {
    "duration": 22,
    "start_time": "2025-05-30T12:31:01.912Z"
   },
   {
    "duration": 10,
    "start_time": "2025-05-30T12:31:01.936Z"
   },
   {
    "duration": 393,
    "start_time": "2025-05-30T12:31:01.948Z"
   },
   {
    "duration": 5,
    "start_time": "2025-05-30T12:31:02.343Z"
   },
   {
    "duration": 99,
    "start_time": "2025-05-30T12:31:02.349Z"
   },
   {
    "duration": 413,
    "start_time": "2025-05-30T12:31:02.451Z"
   },
   {
    "duration": 458,
    "start_time": "2025-05-30T12:31:02.866Z"
   },
   {
    "duration": 385,
    "start_time": "2025-05-30T12:31:03.326Z"
   },
   {
    "duration": 400,
    "start_time": "2025-05-30T12:31:03.713Z"
   },
   {
    "duration": 251,
    "start_time": "2025-05-30T12:31:04.115Z"
   },
   {
    "duration": 239,
    "start_time": "2025-05-30T12:31:04.368Z"
   },
   {
    "duration": 280,
    "start_time": "2025-05-30T12:31:04.608Z"
   },
   {
    "duration": 229,
    "start_time": "2025-05-30T12:31:04.890Z"
   },
   {
    "duration": 237,
    "start_time": "2025-05-30T12:31:05.120Z"
   },
   {
    "duration": 233,
    "start_time": "2025-05-30T12:31:05.360Z"
   },
   {
    "duration": 249,
    "start_time": "2025-05-30T12:31:05.595Z"
   },
   {
    "duration": 63,
    "start_time": "2025-05-30T12:31:05.846Z"
   },
   {
    "duration": 108,
    "start_time": "2025-05-30T12:31:05.911Z"
   },
   {
    "duration": 81,
    "start_time": "2025-05-30T12:31:06.021Z"
   },
   {
    "duration": 0,
    "start_time": "2025-05-30T12:31:06.104Z"
   },
   {
    "duration": 0,
    "start_time": "2025-05-30T12:31:06.105Z"
   },
   {
    "duration": 0,
    "start_time": "2025-05-30T12:31:06.106Z"
   },
   {
    "duration": 0,
    "start_time": "2025-05-30T12:31:06.107Z"
   },
   {
    "duration": 0,
    "start_time": "2025-05-30T12:31:06.108Z"
   },
   {
    "duration": 0,
    "start_time": "2025-05-30T12:31:06.109Z"
   },
   {
    "duration": 0,
    "start_time": "2025-05-30T12:31:06.110Z"
   },
   {
    "duration": 10,
    "start_time": "2025-05-30T12:31:47.168Z"
   },
   {
    "duration": 10,
    "start_time": "2025-05-30T12:31:49.028Z"
   },
   {
    "duration": 7,
    "start_time": "2025-05-30T12:32:29.464Z"
   },
   {
    "duration": 10,
    "start_time": "2025-05-30T12:32:31.085Z"
   },
   {
    "duration": 6,
    "start_time": "2025-05-30T12:32:50.948Z"
   },
   {
    "duration": 7,
    "start_time": "2025-05-30T12:33:23.136Z"
   },
   {
    "duration": 9,
    "start_time": "2025-05-30T12:33:32.726Z"
   },
   {
    "duration": 10,
    "start_time": "2025-05-30T12:33:49.326Z"
   },
   {
    "duration": 627,
    "start_time": "2025-05-30T12:52:43.386Z"
   },
   {
    "duration": 95,
    "start_time": "2025-05-30T12:52:44.014Z"
   },
   {
    "duration": 17,
    "start_time": "2025-05-30T12:52:44.111Z"
   },
   {
    "duration": 32,
    "start_time": "2025-05-30T12:52:44.136Z"
   },
   {
    "duration": 34,
    "start_time": "2025-05-30T12:52:44.171Z"
   },
   {
    "duration": 1972,
    "start_time": "2025-05-30T12:52:44.208Z"
   },
   {
    "duration": 9,
    "start_time": "2025-05-30T12:52:46.181Z"
   },
   {
    "duration": 17,
    "start_time": "2025-05-30T12:52:46.192Z"
   },
   {
    "duration": 11,
    "start_time": "2025-05-30T12:52:46.210Z"
   },
   {
    "duration": 3,
    "start_time": "2025-05-30T12:52:46.224Z"
   },
   {
    "duration": 10,
    "start_time": "2025-05-30T12:52:46.229Z"
   },
   {
    "duration": 6,
    "start_time": "2025-05-30T12:52:46.241Z"
   },
   {
    "duration": 14,
    "start_time": "2025-05-30T12:52:46.248Z"
   },
   {
    "duration": 6,
    "start_time": "2025-05-30T12:52:46.263Z"
   },
   {
    "duration": 9,
    "start_time": "2025-05-30T12:52:46.271Z"
   },
   {
    "duration": 24,
    "start_time": "2025-05-30T12:52:46.281Z"
   },
   {
    "duration": 60,
    "start_time": "2025-05-30T12:52:46.307Z"
   },
   {
    "duration": 12,
    "start_time": "2025-05-30T12:52:46.368Z"
   },
   {
    "duration": 22,
    "start_time": "2025-05-30T12:52:46.381Z"
   },
   {
    "duration": 10,
    "start_time": "2025-05-30T12:52:46.405Z"
   },
   {
    "duration": 7,
    "start_time": "2025-05-30T12:52:46.416Z"
   },
   {
    "duration": 8,
    "start_time": "2025-05-30T12:52:46.424Z"
   },
   {
    "duration": 8,
    "start_time": "2025-05-30T12:52:46.433Z"
   },
   {
    "duration": 6,
    "start_time": "2025-05-30T12:52:46.443Z"
   },
   {
    "duration": 4,
    "start_time": "2025-05-30T12:52:46.451Z"
   },
   {
    "duration": 6,
    "start_time": "2025-05-30T12:52:46.456Z"
   },
   {
    "duration": 4,
    "start_time": "2025-05-30T12:52:46.463Z"
   },
   {
    "duration": 5,
    "start_time": "2025-05-30T12:52:46.470Z"
   },
   {
    "duration": 16,
    "start_time": "2025-05-30T12:52:46.476Z"
   },
   {
    "duration": 45,
    "start_time": "2025-05-30T12:52:46.495Z"
   },
   {
    "duration": 10,
    "start_time": "2025-05-30T12:52:46.543Z"
   },
   {
    "duration": 6,
    "start_time": "2025-05-30T12:52:46.555Z"
   },
   {
    "duration": 28,
    "start_time": "2025-05-30T12:52:46.562Z"
   },
   {
    "duration": 5,
    "start_time": "2025-05-30T12:52:46.592Z"
   },
   {
    "duration": 86,
    "start_time": "2025-05-30T12:52:46.598Z"
   },
   {
    "duration": 6,
    "start_time": "2025-05-30T12:52:46.686Z"
   },
   {
    "duration": 6,
    "start_time": "2025-05-30T12:52:46.694Z"
   },
   {
    "duration": 5,
    "start_time": "2025-05-30T12:52:46.702Z"
   },
   {
    "duration": 30,
    "start_time": "2025-05-30T12:52:46.709Z"
   },
   {
    "duration": 322,
    "start_time": "2025-05-30T12:52:46.740Z"
   },
   {
    "duration": 5,
    "start_time": "2025-05-30T12:52:47.063Z"
   },
   {
    "duration": 72,
    "start_time": "2025-05-30T12:52:47.069Z"
   },
   {
    "duration": 378,
    "start_time": "2025-05-30T12:52:47.143Z"
   },
   {
    "duration": 491,
    "start_time": "2025-05-30T12:52:47.523Z"
   },
   {
    "duration": 389,
    "start_time": "2025-05-30T12:52:48.016Z"
   },
   {
    "duration": 391,
    "start_time": "2025-05-30T12:52:48.407Z"
   },
   {
    "duration": 235,
    "start_time": "2025-05-30T12:52:48.800Z"
   },
   {
    "duration": 230,
    "start_time": "2025-05-30T12:52:49.037Z"
   },
   {
    "duration": 256,
    "start_time": "2025-05-30T12:52:49.268Z"
   },
   {
    "duration": 220,
    "start_time": "2025-05-30T12:52:49.526Z"
   },
   {
    "duration": 239,
    "start_time": "2025-05-30T12:52:49.748Z"
   },
   {
    "duration": 235,
    "start_time": "2025-05-30T12:52:49.989Z"
   },
   {
    "duration": 245,
    "start_time": "2025-05-30T12:52:50.225Z"
   },
   {
    "duration": 76,
    "start_time": "2025-05-30T12:52:50.472Z"
   },
   {
    "duration": 103,
    "start_time": "2025-05-30T12:52:50.550Z"
   },
   {
    "duration": 81,
    "start_time": "2025-05-30T12:52:50.655Z"
   },
   {
    "duration": 0,
    "start_time": "2025-05-30T12:52:50.738Z"
   },
   {
    "duration": 0,
    "start_time": "2025-05-30T12:52:50.739Z"
   },
   {
    "duration": 0,
    "start_time": "2025-05-30T12:52:50.740Z"
   },
   {
    "duration": 0,
    "start_time": "2025-05-30T12:52:50.742Z"
   },
   {
    "duration": 0,
    "start_time": "2025-05-30T12:52:50.743Z"
   },
   {
    "duration": 0,
    "start_time": "2025-05-30T12:52:50.744Z"
   },
   {
    "duration": 0,
    "start_time": "2025-05-30T12:52:50.745Z"
   },
   {
    "duration": 10,
    "start_time": "2025-05-30T12:53:16.706Z"
   },
   {
    "duration": 87,
    "start_time": "2025-05-30T12:54:31.797Z"
   },
   {
    "duration": 74,
    "start_time": "2025-05-30T12:55:06.525Z"
   },
   {
    "duration": 42900,
    "start_time": "2025-05-30T12:55:08.248Z"
   },
   {
    "duration": 176,
    "start_time": "2025-05-30T12:58:02.782Z"
   },
   {
    "duration": 183,
    "start_time": "2025-05-30T12:58:33.532Z"
   },
   {
    "duration": 154,
    "start_time": "2025-05-30T12:59:12.001Z"
   },
   {
    "duration": 149,
    "start_time": "2025-05-30T12:59:49.397Z"
   },
   {
    "duration": 167,
    "start_time": "2025-05-30T13:02:02.721Z"
   },
   {
    "duration": 156,
    "start_time": "2025-05-30T13:02:07.588Z"
   },
   {
    "duration": 151,
    "start_time": "2025-05-30T13:02:11.406Z"
   },
   {
    "duration": 243,
    "start_time": "2025-05-30T13:02:33.810Z"
   },
   {
    "duration": 163,
    "start_time": "2025-05-30T13:02:43.139Z"
   },
   {
    "duration": 181,
    "start_time": "2025-05-30T13:03:24.076Z"
   },
   {
    "duration": 169,
    "start_time": "2025-05-30T13:04:12.049Z"
   },
   {
    "duration": 187,
    "start_time": "2025-05-30T13:05:05.145Z"
   },
   {
    "duration": 173,
    "start_time": "2025-05-30T13:05:17.785Z"
   },
   {
    "duration": 174,
    "start_time": "2025-05-30T13:05:35.965Z"
   },
   {
    "duration": 638,
    "start_time": "2025-05-30T13:09:12.064Z"
   },
   {
    "duration": 100,
    "start_time": "2025-05-30T13:09:12.704Z"
   },
   {
    "duration": 17,
    "start_time": "2025-05-30T13:09:12.806Z"
   },
   {
    "duration": 32,
    "start_time": "2025-05-30T13:09:12.825Z"
   },
   {
    "duration": 24,
    "start_time": "2025-05-30T13:09:12.859Z"
   },
   {
    "duration": 1891,
    "start_time": "2025-05-30T13:09:12.885Z"
   },
   {
    "duration": 9,
    "start_time": "2025-05-30T13:09:14.778Z"
   },
   {
    "duration": 7,
    "start_time": "2025-05-30T13:09:14.789Z"
   },
   {
    "duration": 5,
    "start_time": "2025-05-30T13:09:14.798Z"
   },
   {
    "duration": 3,
    "start_time": "2025-05-30T13:09:14.805Z"
   },
   {
    "duration": 17,
    "start_time": "2025-05-30T13:09:14.810Z"
   },
   {
    "duration": 4,
    "start_time": "2025-05-30T13:09:14.829Z"
   },
   {
    "duration": 4,
    "start_time": "2025-05-30T13:09:14.835Z"
   },
   {
    "duration": 4,
    "start_time": "2025-05-30T13:09:14.841Z"
   },
   {
    "duration": 6,
    "start_time": "2025-05-30T13:09:14.846Z"
   },
   {
    "duration": 6,
    "start_time": "2025-05-30T13:09:14.854Z"
   },
   {
    "duration": 5,
    "start_time": "2025-05-30T13:09:14.862Z"
   },
   {
    "duration": 7,
    "start_time": "2025-05-30T13:09:14.868Z"
   },
   {
    "duration": 4,
    "start_time": "2025-05-30T13:09:14.877Z"
   },
   {
    "duration": 10,
    "start_time": "2025-05-30T13:09:14.882Z"
   },
   {
    "duration": 8,
    "start_time": "2025-05-30T13:09:14.893Z"
   },
   {
    "duration": 36,
    "start_time": "2025-05-30T13:09:14.902Z"
   },
   {
    "duration": 4,
    "start_time": "2025-05-30T13:09:14.940Z"
   },
   {
    "duration": 11,
    "start_time": "2025-05-30T13:09:14.946Z"
   },
   {
    "duration": 5,
    "start_time": "2025-05-30T13:09:14.958Z"
   },
   {
    "duration": 8,
    "start_time": "2025-05-30T13:09:14.965Z"
   },
   {
    "duration": 5,
    "start_time": "2025-05-30T13:09:14.974Z"
   },
   {
    "duration": 8,
    "start_time": "2025-05-30T13:09:14.982Z"
   },
   {
    "duration": 7,
    "start_time": "2025-05-30T13:09:14.992Z"
   },
   {
    "duration": 44,
    "start_time": "2025-05-30T13:09:15.000Z"
   },
   {
    "duration": 8,
    "start_time": "2025-05-30T13:09:15.045Z"
   },
   {
    "duration": 20,
    "start_time": "2025-05-30T13:09:15.054Z"
   },
   {
    "duration": 24,
    "start_time": "2025-05-30T13:09:15.075Z"
   },
   {
    "duration": 73,
    "start_time": "2025-05-30T13:09:15.100Z"
   },
   {
    "duration": 5,
    "start_time": "2025-05-30T13:09:15.175Z"
   },
   {
    "duration": 94,
    "start_time": "2025-05-30T13:09:15.181Z"
   },
   {
    "duration": 4,
    "start_time": "2025-05-30T13:09:15.277Z"
   },
   {
    "duration": 96,
    "start_time": "2025-05-30T13:09:15.283Z"
   },
   {
    "duration": 96,
    "start_time": "2025-05-30T13:09:15.381Z"
   },
   {
    "duration": 36,
    "start_time": "2025-05-30T13:09:15.479Z"
   },
   {
    "duration": 313,
    "start_time": "2025-05-30T13:09:15.517Z"
   },
   {
    "duration": 6,
    "start_time": "2025-05-30T13:09:15.831Z"
   },
   {
    "duration": 72,
    "start_time": "2025-05-30T13:09:15.838Z"
   },
   {
    "duration": 370,
    "start_time": "2025-05-30T13:09:15.911Z"
   },
   {
    "duration": 507,
    "start_time": "2025-05-30T13:09:16.282Z"
   },
   {
    "duration": 395,
    "start_time": "2025-05-30T13:09:16.790Z"
   },
   {
    "duration": 384,
    "start_time": "2025-05-30T13:09:17.187Z"
   },
   {
    "duration": 216,
    "start_time": "2025-05-30T13:09:17.573Z"
   },
   {
    "duration": 227,
    "start_time": "2025-05-30T13:09:17.790Z"
   },
   {
    "duration": 240,
    "start_time": "2025-05-30T13:09:18.018Z"
   },
   {
    "duration": 219,
    "start_time": "2025-05-30T13:09:18.259Z"
   },
   {
    "duration": 213,
    "start_time": "2025-05-30T13:09:18.480Z"
   },
   {
    "duration": 222,
    "start_time": "2025-05-30T13:09:18.694Z"
   },
   {
    "duration": 236,
    "start_time": "2025-05-30T13:09:18.918Z"
   },
   {
    "duration": 62,
    "start_time": "2025-05-30T13:09:19.156Z"
   },
   {
    "duration": 190,
    "start_time": "2025-05-30T13:09:19.220Z"
   },
   {
    "duration": 184,
    "start_time": "2025-05-30T13:09:19.411Z"
   },
   {
    "duration": 175,
    "start_time": "2025-05-30T13:09:19.597Z"
   },
   {
    "duration": 18,
    "start_time": "2025-05-30T13:09:19.774Z"
   },
   {
    "duration": 3,
    "start_time": "2025-05-30T13:09:19.793Z"
   },
   {
    "duration": 7,
    "start_time": "2025-05-30T13:09:19.798Z"
   },
   {
    "duration": 93,
    "start_time": "2025-05-30T13:09:19.807Z"
   },
   {
    "duration": 72,
    "start_time": "2025-05-30T13:09:19.901Z"
   },
   {
    "duration": 9,
    "start_time": "2025-05-30T13:09:19.975Z"
   },
   {
    "duration": 154,
    "start_time": "2025-05-30T13:09:19.985Z"
   },
   {
    "duration": 11,
    "start_time": "2025-05-30T13:14:36.895Z"
   },
   {
    "duration": 658,
    "start_time": "2025-05-30T13:39:23.405Z"
   },
   {
    "duration": 107,
    "start_time": "2025-05-30T13:39:24.065Z"
   },
   {
    "duration": 18,
    "start_time": "2025-05-30T13:39:24.175Z"
   },
   {
    "duration": 42,
    "start_time": "2025-05-30T13:39:24.195Z"
   },
   {
    "duration": 23,
    "start_time": "2025-05-30T13:39:24.239Z"
   },
   {
    "duration": 1878,
    "start_time": "2025-05-30T13:39:24.263Z"
   },
   {
    "duration": 9,
    "start_time": "2025-05-30T13:39:26.142Z"
   },
   {
    "duration": 7,
    "start_time": "2025-05-30T13:39:26.152Z"
   },
   {
    "duration": 5,
    "start_time": "2025-05-30T13:39:26.160Z"
   },
   {
    "duration": 10,
    "start_time": "2025-05-30T13:39:26.166Z"
   },
   {
    "duration": 7,
    "start_time": "2025-05-30T13:39:26.177Z"
   },
   {
    "duration": 17,
    "start_time": "2025-05-30T13:39:26.186Z"
   },
   {
    "duration": 6,
    "start_time": "2025-05-30T13:39:26.204Z"
   },
   {
    "duration": 24,
    "start_time": "2025-05-30T13:39:26.213Z"
   },
   {
    "duration": 6,
    "start_time": "2025-05-30T13:39:26.238Z"
   },
   {
    "duration": 20,
    "start_time": "2025-05-30T13:39:26.245Z"
   },
   {
    "duration": 5,
    "start_time": "2025-05-30T13:39:26.267Z"
   },
   {
    "duration": 11,
    "start_time": "2025-05-30T13:39:26.274Z"
   },
   {
    "duration": 7,
    "start_time": "2025-05-30T13:39:26.286Z"
   },
   {
    "duration": 7,
    "start_time": "2025-05-30T13:39:26.295Z"
   },
   {
    "duration": 4,
    "start_time": "2025-05-30T13:39:26.304Z"
   },
   {
    "duration": 12,
    "start_time": "2025-05-30T13:39:26.309Z"
   },
   {
    "duration": 16,
    "start_time": "2025-05-30T13:39:26.323Z"
   },
   {
    "duration": 12,
    "start_time": "2025-05-30T13:39:26.341Z"
   },
   {
    "duration": 5,
    "start_time": "2025-05-30T13:39:26.354Z"
   },
   {
    "duration": 19,
    "start_time": "2025-05-30T13:39:26.361Z"
   },
   {
    "duration": 7,
    "start_time": "2025-05-30T13:39:26.382Z"
   },
   {
    "duration": 5,
    "start_time": "2025-05-30T13:39:26.390Z"
   },
   {
    "duration": 9,
    "start_time": "2025-05-30T13:39:26.397Z"
   },
   {
    "duration": 28,
    "start_time": "2025-05-30T13:39:26.408Z"
   },
   {
    "duration": 8,
    "start_time": "2025-05-30T13:39:26.438Z"
   },
   {
    "duration": 6,
    "start_time": "2025-05-30T13:39:26.448Z"
   },
   {
    "duration": 13,
    "start_time": "2025-05-30T13:39:26.455Z"
   },
   {
    "duration": 18,
    "start_time": "2025-05-30T13:39:26.469Z"
   },
   {
    "duration": 8,
    "start_time": "2025-05-30T13:39:26.489Z"
   },
   {
    "duration": 115,
    "start_time": "2025-05-30T13:39:26.499Z"
   },
   {
    "duration": 17,
    "start_time": "2025-05-30T13:39:26.615Z"
   },
   {
    "duration": 5,
    "start_time": "2025-05-30T13:39:26.634Z"
   },
   {
    "duration": 11,
    "start_time": "2025-05-30T13:39:26.641Z"
   },
   {
    "duration": 6,
    "start_time": "2025-05-30T13:39:26.653Z"
   },
   {
    "duration": 325,
    "start_time": "2025-05-30T13:39:26.662Z"
   },
   {
    "duration": 5,
    "start_time": "2025-05-30T13:39:26.989Z"
   },
   {
    "duration": 25,
    "start_time": "2025-05-30T13:39:26.995Z"
   },
   {
    "duration": 399,
    "start_time": "2025-05-30T13:39:27.036Z"
   },
   {
    "duration": 475,
    "start_time": "2025-05-30T13:39:27.437Z"
   },
   {
    "duration": 381,
    "start_time": "2025-05-30T13:39:27.914Z"
   },
   {
    "duration": 402,
    "start_time": "2025-05-30T13:39:28.297Z"
   },
   {
    "duration": 225,
    "start_time": "2025-05-30T13:39:28.701Z"
   },
   {
    "duration": 253,
    "start_time": "2025-05-30T13:39:28.927Z"
   },
   {
    "duration": 259,
    "start_time": "2025-05-30T13:39:29.182Z"
   },
   {
    "duration": 226,
    "start_time": "2025-05-30T13:39:29.443Z"
   },
   {
    "duration": 241,
    "start_time": "2025-05-30T13:39:29.671Z"
   },
   {
    "duration": 233,
    "start_time": "2025-05-30T13:39:29.913Z"
   },
   {
    "duration": 245,
    "start_time": "2025-05-30T13:39:30.148Z"
   },
   {
    "duration": 71,
    "start_time": "2025-05-30T13:39:30.394Z"
   },
   {
    "duration": 184,
    "start_time": "2025-05-30T13:39:30.466Z"
   },
   {
    "duration": 192,
    "start_time": "2025-05-30T13:39:30.651Z"
   },
   {
    "duration": 176,
    "start_time": "2025-05-30T13:39:30.845Z"
   },
   {
    "duration": 21,
    "start_time": "2025-05-30T13:39:31.022Z"
   },
   {
    "duration": 3,
    "start_time": "2025-05-30T13:39:31.045Z"
   },
   {
    "duration": 7,
    "start_time": "2025-05-30T13:39:31.049Z"
   },
   {
    "duration": 11,
    "start_time": "2025-05-30T13:39:31.058Z"
   },
   {
    "duration": 92,
    "start_time": "2025-05-30T13:39:31.071Z"
   },
   {
    "duration": 82,
    "start_time": "2025-05-30T13:39:31.165Z"
   },
   {
    "duration": 178,
    "start_time": "2025-05-30T13:39:31.249Z"
   },
   {
    "duration": 11,
    "start_time": "2025-05-30T13:39:31.430Z"
   },
   {
    "duration": 15,
    "start_time": "2025-05-30T13:41:05.820Z"
   },
   {
    "duration": 664,
    "start_time": "2025-05-30T13:41:12.938Z"
   },
   {
    "duration": 95,
    "start_time": "2025-05-30T13:41:13.603Z"
   },
   {
    "duration": 14,
    "start_time": "2025-05-30T13:41:13.700Z"
   },
   {
    "duration": 33,
    "start_time": "2025-05-30T13:41:13.716Z"
   },
   {
    "duration": 26,
    "start_time": "2025-05-30T13:41:13.751Z"
   },
   {
    "duration": 1979,
    "start_time": "2025-05-30T13:41:13.779Z"
   },
   {
    "duration": 10,
    "start_time": "2025-05-30T13:41:15.760Z"
   },
   {
    "duration": 19,
    "start_time": "2025-05-30T13:41:15.772Z"
   },
   {
    "duration": 8,
    "start_time": "2025-05-30T13:41:15.793Z"
   },
   {
    "duration": 22,
    "start_time": "2025-05-30T13:41:15.804Z"
   },
   {
    "duration": 13,
    "start_time": "2025-05-30T13:41:15.828Z"
   },
   {
    "duration": 16,
    "start_time": "2025-05-30T13:41:15.843Z"
   },
   {
    "duration": 5,
    "start_time": "2025-05-30T13:41:15.861Z"
   },
   {
    "duration": 6,
    "start_time": "2025-05-30T13:41:15.867Z"
   },
   {
    "duration": 37,
    "start_time": "2025-05-30T13:41:15.874Z"
   },
   {
    "duration": 73,
    "start_time": "2025-05-30T13:41:15.913Z"
   },
   {
    "duration": 5,
    "start_time": "2025-05-30T13:41:15.988Z"
   },
   {
    "duration": 13,
    "start_time": "2025-05-30T13:41:15.995Z"
   },
   {
    "duration": 5,
    "start_time": "2025-05-30T13:41:16.010Z"
   },
   {
    "duration": 7,
    "start_time": "2025-05-30T13:41:16.017Z"
   },
   {
    "duration": 4,
    "start_time": "2025-05-30T13:41:16.026Z"
   },
   {
    "duration": 10,
    "start_time": "2025-05-30T13:41:16.032Z"
   },
   {
    "duration": 20,
    "start_time": "2025-05-30T13:41:16.044Z"
   },
   {
    "duration": 8,
    "start_time": "2025-05-30T13:41:16.066Z"
   },
   {
    "duration": 5,
    "start_time": "2025-05-30T13:41:16.076Z"
   },
   {
    "duration": 8,
    "start_time": "2025-05-30T13:41:16.082Z"
   },
   {
    "duration": 5,
    "start_time": "2025-05-30T13:41:16.091Z"
   },
   {
    "duration": 4,
    "start_time": "2025-05-30T13:41:16.101Z"
   },
   {
    "duration": 34,
    "start_time": "2025-05-30T13:41:16.107Z"
   },
   {
    "duration": 15,
    "start_time": "2025-05-30T13:41:16.143Z"
   },
   {
    "duration": 8,
    "start_time": "2025-05-30T13:41:16.160Z"
   },
   {
    "duration": 10,
    "start_time": "2025-05-30T13:41:16.170Z"
   },
   {
    "duration": 5,
    "start_time": "2025-05-30T13:41:16.182Z"
   },
   {
    "duration": 14,
    "start_time": "2025-05-30T13:41:16.188Z"
   },
   {
    "duration": 35,
    "start_time": "2025-05-30T13:41:16.204Z"
   },
   {
    "duration": 66,
    "start_time": "2025-05-30T13:41:16.241Z"
   },
   {
    "duration": 5,
    "start_time": "2025-05-30T13:41:16.308Z"
   },
   {
    "duration": 22,
    "start_time": "2025-05-30T13:41:16.315Z"
   },
   {
    "duration": 5,
    "start_time": "2025-05-30T13:41:16.338Z"
   },
   {
    "duration": 25,
    "start_time": "2025-05-30T13:41:16.344Z"
   },
   {
    "duration": 369,
    "start_time": "2025-05-30T13:41:16.371Z"
   },
   {
    "duration": 5,
    "start_time": "2025-05-30T13:41:16.742Z"
   },
   {
    "duration": 36,
    "start_time": "2025-05-30T13:41:16.748Z"
   },
   {
    "duration": 398,
    "start_time": "2025-05-30T13:41:16.786Z"
   },
   {
    "duration": 471,
    "start_time": "2025-05-30T13:41:17.185Z"
   },
   {
    "duration": 392,
    "start_time": "2025-05-30T13:41:17.658Z"
   },
   {
    "duration": 397,
    "start_time": "2025-05-30T13:41:18.052Z"
   },
   {
    "duration": 226,
    "start_time": "2025-05-30T13:41:18.451Z"
   },
   {
    "duration": 235,
    "start_time": "2025-05-30T13:41:18.678Z"
   },
   {
    "duration": 284,
    "start_time": "2025-05-30T13:41:18.915Z"
   },
   {
    "duration": 220,
    "start_time": "2025-05-30T13:41:19.201Z"
   },
   {
    "duration": 327,
    "start_time": "2025-05-30T13:41:19.423Z"
   },
   {
    "duration": 270,
    "start_time": "2025-05-30T13:41:19.752Z"
   },
   {
    "duration": 242,
    "start_time": "2025-05-30T13:41:20.024Z"
   },
   {
    "duration": 74,
    "start_time": "2025-05-30T13:41:20.268Z"
   },
   {
    "duration": 183,
    "start_time": "2025-05-30T13:41:20.344Z"
   },
   {
    "duration": 202,
    "start_time": "2025-05-30T13:41:20.528Z"
   },
   {
    "duration": 184,
    "start_time": "2025-05-30T13:41:20.732Z"
   },
   {
    "duration": 26,
    "start_time": "2025-05-30T13:41:20.918Z"
   },
   {
    "duration": 3,
    "start_time": "2025-05-30T13:41:20.946Z"
   },
   {
    "duration": 7,
    "start_time": "2025-05-30T13:41:20.951Z"
   },
   {
    "duration": 20,
    "start_time": "2025-05-30T13:41:20.959Z"
   },
   {
    "duration": 86,
    "start_time": "2025-05-30T13:41:20.981Z"
   },
   {
    "duration": 9,
    "start_time": "2025-05-30T13:41:21.068Z"
   },
   {
    "duration": 157,
    "start_time": "2025-05-30T13:41:21.078Z"
   },
   {
    "duration": 7,
    "start_time": "2025-05-30T13:41:21.237Z"
   },
   {
    "duration": 40,
    "start_time": "2025-05-30T13:46:24.249Z"
   },
   {
    "duration": 691,
    "start_time": "2025-05-30T13:50:01.101Z"
   },
   {
    "duration": 96,
    "start_time": "2025-05-30T13:50:01.794Z"
   },
   {
    "duration": 24,
    "start_time": "2025-05-30T13:50:01.891Z"
   },
   {
    "duration": 183,
    "start_time": "2025-05-30T13:50:01.917Z"
   },
   {
    "duration": 79,
    "start_time": "2025-05-30T13:50:02.102Z"
   },
   {
    "duration": 2126,
    "start_time": "2025-05-30T13:50:02.183Z"
   },
   {
    "duration": 24,
    "start_time": "2025-05-30T13:50:04.311Z"
   },
   {
    "duration": 31,
    "start_time": "2025-05-30T13:50:04.338Z"
   },
   {
    "duration": 56,
    "start_time": "2025-05-30T13:50:04.371Z"
   },
   {
    "duration": 267,
    "start_time": "2025-05-30T13:50:04.429Z"
   },
   {
    "duration": 24,
    "start_time": "2025-05-30T13:50:04.698Z"
   },
   {
    "duration": 21,
    "start_time": "2025-05-30T13:50:04.724Z"
   },
   {
    "duration": 56,
    "start_time": "2025-05-30T13:50:04.747Z"
   },
   {
    "duration": 14,
    "start_time": "2025-05-30T13:50:04.806Z"
   },
   {
    "duration": 30,
    "start_time": "2025-05-30T13:50:04.822Z"
   },
   {
    "duration": 63,
    "start_time": "2025-05-30T13:50:04.854Z"
   },
   {
    "duration": 18,
    "start_time": "2025-05-30T13:50:04.919Z"
   },
   {
    "duration": 8,
    "start_time": "2025-05-30T13:50:04.939Z"
   },
   {
    "duration": 15,
    "start_time": "2025-05-30T13:50:04.949Z"
   },
   {
    "duration": 58,
    "start_time": "2025-05-30T13:50:04.965Z"
   },
   {
    "duration": 14,
    "start_time": "2025-05-30T13:50:05.025Z"
   },
   {
    "duration": 13,
    "start_time": "2025-05-30T13:50:05.041Z"
   },
   {
    "duration": 74,
    "start_time": "2025-05-30T13:50:05.055Z"
   },
   {
    "duration": 24,
    "start_time": "2025-05-30T13:50:05.131Z"
   },
   {
    "duration": 97,
    "start_time": "2025-05-30T13:50:05.156Z"
   },
   {
    "duration": 94,
    "start_time": "2025-05-30T13:50:05.255Z"
   },
   {
    "duration": 16,
    "start_time": "2025-05-30T13:50:05.351Z"
   },
   {
    "duration": 9,
    "start_time": "2025-05-30T13:50:05.369Z"
   },
   {
    "duration": 42,
    "start_time": "2025-05-30T13:50:05.379Z"
   },
   {
    "duration": 45,
    "start_time": "2025-05-30T13:50:05.423Z"
   },
   {
    "duration": 160,
    "start_time": "2025-05-30T13:50:05.470Z"
   },
   {
    "duration": 29,
    "start_time": "2025-05-30T13:50:05.633Z"
   },
   {
    "duration": 7,
    "start_time": "2025-05-30T13:50:05.664Z"
   },
   {
    "duration": 36,
    "start_time": "2025-05-30T13:50:05.673Z"
   },
   {
    "duration": 20,
    "start_time": "2025-05-30T13:50:05.710Z"
   },
   {
    "duration": 95,
    "start_time": "2025-05-30T13:50:05.732Z"
   },
   {
    "duration": 7,
    "start_time": "2025-05-30T13:50:05.829Z"
   },
   {
    "duration": 21,
    "start_time": "2025-05-30T13:50:05.837Z"
   },
   {
    "duration": 21,
    "start_time": "2025-05-30T13:50:05.860Z"
   },
   {
    "duration": 14,
    "start_time": "2025-05-30T13:50:05.883Z"
   },
   {
    "duration": 496,
    "start_time": "2025-05-30T13:50:05.902Z"
   },
   {
    "duration": 5,
    "start_time": "2025-05-30T13:50:06.399Z"
   },
   {
    "duration": 61,
    "start_time": "2025-05-30T13:50:06.406Z"
   },
   {
    "duration": 480,
    "start_time": "2025-05-30T13:50:06.469Z"
   },
   {
    "duration": 533,
    "start_time": "2025-05-30T13:50:06.951Z"
   },
   {
    "duration": 410,
    "start_time": "2025-05-30T13:50:07.486Z"
   },
   {
    "duration": 412,
    "start_time": "2025-05-30T13:50:07.899Z"
   },
   {
    "duration": 249,
    "start_time": "2025-05-30T13:50:08.313Z"
   },
   {
    "duration": 261,
    "start_time": "2025-05-30T13:50:08.565Z"
   },
   {
    "duration": 262,
    "start_time": "2025-05-30T13:50:08.835Z"
   },
   {
    "duration": 252,
    "start_time": "2025-05-30T13:50:09.099Z"
   },
   {
    "duration": 235,
    "start_time": "2025-05-30T13:50:09.353Z"
   },
   {
    "duration": 249,
    "start_time": "2025-05-30T13:50:09.590Z"
   },
   {
    "duration": 248,
    "start_time": "2025-05-30T13:50:09.841Z"
   },
   {
    "duration": 68,
    "start_time": "2025-05-30T13:50:10.090Z"
   },
   {
    "duration": 190,
    "start_time": "2025-05-30T13:50:10.159Z"
   },
   {
    "duration": 220,
    "start_time": "2025-05-30T13:50:10.350Z"
   },
   {
    "duration": 205,
    "start_time": "2025-05-30T13:50:10.572Z"
   },
   {
    "duration": 18,
    "start_time": "2025-05-30T13:50:10.778Z"
   },
   {
    "duration": 21,
    "start_time": "2025-05-30T13:50:10.798Z"
   },
   {
    "duration": 5,
    "start_time": "2025-05-30T13:50:10.821Z"
   },
   {
    "duration": 8,
    "start_time": "2025-05-30T13:50:10.835Z"
   },
   {
    "duration": 93,
    "start_time": "2025-05-30T13:50:10.844Z"
   },
   {
    "duration": 8,
    "start_time": "2025-05-30T13:50:10.939Z"
   },
   {
    "duration": 170,
    "start_time": "2025-05-30T13:50:10.949Z"
   },
   {
    "duration": 16,
    "start_time": "2025-05-30T13:50:11.121Z"
   },
   {
    "duration": 759,
    "start_time": "2025-05-30T14:13:15.078Z"
   },
   {
    "duration": 102,
    "start_time": "2025-05-30T14:13:15.844Z"
   },
   {
    "duration": 16,
    "start_time": "2025-05-30T14:13:15.951Z"
   },
   {
    "duration": 54,
    "start_time": "2025-05-30T14:13:15.969Z"
   },
   {
    "duration": 53,
    "start_time": "2025-05-30T14:13:16.025Z"
   },
   {
    "duration": 2049,
    "start_time": "2025-05-30T14:13:16.079Z"
   },
   {
    "duration": 9,
    "start_time": "2025-05-30T14:13:18.130Z"
   },
   {
    "duration": 43,
    "start_time": "2025-05-30T14:13:18.141Z"
   },
   {
    "duration": 5,
    "start_time": "2025-05-30T14:13:18.186Z"
   },
   {
    "duration": 20,
    "start_time": "2025-05-30T14:13:18.193Z"
   },
   {
    "duration": 12,
    "start_time": "2025-05-30T14:13:18.214Z"
   },
   {
    "duration": 23,
    "start_time": "2025-05-30T14:13:18.228Z"
   },
   {
    "duration": 9,
    "start_time": "2025-05-30T14:13:18.253Z"
   },
   {
    "duration": 13,
    "start_time": "2025-05-30T14:13:18.263Z"
   },
   {
    "duration": 10,
    "start_time": "2025-05-30T14:13:18.278Z"
   },
   {
    "duration": 6,
    "start_time": "2025-05-30T14:13:18.290Z"
   },
   {
    "duration": 5,
    "start_time": "2025-05-30T14:13:18.297Z"
   },
   {
    "duration": 9,
    "start_time": "2025-05-30T14:13:18.303Z"
   },
   {
    "duration": 8,
    "start_time": "2025-05-30T14:13:18.313Z"
   },
   {
    "duration": 20,
    "start_time": "2025-05-30T14:13:18.322Z"
   },
   {
    "duration": 11,
    "start_time": "2025-05-30T14:13:18.344Z"
   },
   {
    "duration": 8,
    "start_time": "2025-05-30T14:13:18.357Z"
   },
   {
    "duration": 16,
    "start_time": "2025-05-30T14:13:18.366Z"
   },
   {
    "duration": 17,
    "start_time": "2025-05-30T14:13:18.384Z"
   },
   {
    "duration": 5,
    "start_time": "2025-05-30T14:13:18.402Z"
   },
   {
    "duration": 94,
    "start_time": "2025-05-30T14:13:18.408Z"
   },
   {
    "duration": 5,
    "start_time": "2025-05-30T14:13:18.503Z"
   },
   {
    "duration": 12,
    "start_time": "2025-05-30T14:13:18.512Z"
   },
   {
    "duration": 20,
    "start_time": "2025-05-30T14:13:18.526Z"
   },
   {
    "duration": 5,
    "start_time": "2025-05-30T14:13:18.551Z"
   },
   {
    "duration": 356,
    "start_time": "2025-05-30T14:13:18.557Z"
   },
   {
    "duration": 4,
    "start_time": "2025-05-30T14:13:18.915Z"
   },
   {
    "duration": 35,
    "start_time": "2025-05-30T14:13:18.921Z"
   },
   {
    "duration": 415,
    "start_time": "2025-05-30T14:13:18.957Z"
   },
   {
    "duration": 506,
    "start_time": "2025-05-30T14:13:19.373Z"
   },
   {
    "duration": 406,
    "start_time": "2025-05-30T14:13:19.880Z"
   },
   {
    "duration": 416,
    "start_time": "2025-05-30T14:13:20.287Z"
   },
   {
    "duration": 246,
    "start_time": "2025-05-30T14:13:20.705Z"
   },
   {
    "duration": 253,
    "start_time": "2025-05-30T14:13:20.953Z"
   },
   {
    "duration": 272,
    "start_time": "2025-05-30T14:13:21.207Z"
   },
   {
    "duration": 223,
    "start_time": "2025-05-30T14:13:21.480Z"
   },
   {
    "duration": 243,
    "start_time": "2025-05-30T14:13:21.705Z"
   },
   {
    "duration": 234,
    "start_time": "2025-05-30T14:13:21.952Z"
   },
   {
    "duration": 262,
    "start_time": "2025-05-30T14:13:22.188Z"
   },
   {
    "duration": 60,
    "start_time": "2025-05-30T14:13:22.452Z"
   },
   {
    "duration": 178,
    "start_time": "2025-05-30T14:13:22.514Z"
   },
   {
    "duration": 231,
    "start_time": "2025-05-30T14:13:22.693Z"
   },
   {
    "duration": 192,
    "start_time": "2025-05-30T14:13:22.926Z"
   },
   {
    "duration": 30,
    "start_time": "2025-05-30T14:13:23.120Z"
   },
   {
    "duration": 3,
    "start_time": "2025-05-30T14:13:23.152Z"
   },
   {
    "duration": 4,
    "start_time": "2025-05-30T14:13:23.156Z"
   },
   {
    "duration": 23,
    "start_time": "2025-05-30T14:13:23.162Z"
   },
   {
    "duration": 78,
    "start_time": "2025-05-30T14:13:23.187Z"
   },
   {
    "duration": 8,
    "start_time": "2025-05-30T14:13:23.267Z"
   },
   {
    "duration": 203,
    "start_time": "2025-05-30T14:13:23.276Z"
   },
   {
    "duration": 7,
    "start_time": "2025-05-30T14:13:23.482Z"
   },
   {
    "duration": 629,
    "start_time": "2025-05-30T14:15:58.567Z"
   },
   {
    "duration": 97,
    "start_time": "2025-05-30T14:15:59.197Z"
   },
   {
    "duration": 16,
    "start_time": "2025-05-30T14:15:59.295Z"
   },
   {
    "duration": 41,
    "start_time": "2025-05-30T14:15:59.313Z"
   },
   {
    "duration": 25,
    "start_time": "2025-05-30T14:15:59.355Z"
   },
   {
    "duration": 2062,
    "start_time": "2025-05-30T14:15:59.381Z"
   },
   {
    "duration": 9,
    "start_time": "2025-05-30T14:16:01.448Z"
   },
   {
    "duration": 16,
    "start_time": "2025-05-30T14:16:01.459Z"
   },
   {
    "duration": 18,
    "start_time": "2025-05-30T14:16:01.476Z"
   },
   {
    "duration": 6,
    "start_time": "2025-05-30T14:16:01.497Z"
   },
   {
    "duration": 18,
    "start_time": "2025-05-30T14:16:01.505Z"
   },
   {
    "duration": 34,
    "start_time": "2025-05-30T14:16:01.525Z"
   },
   {
    "duration": 12,
    "start_time": "2025-05-30T14:16:01.561Z"
   },
   {
    "duration": 122,
    "start_time": "2025-05-30T14:16:01.575Z"
   },
   {
    "duration": 9,
    "start_time": "2025-05-30T14:16:01.699Z"
   },
   {
    "duration": 41,
    "start_time": "2025-05-30T14:16:01.710Z"
   },
   {
    "duration": 24,
    "start_time": "2025-05-30T14:16:01.753Z"
   },
   {
    "duration": 11,
    "start_time": "2025-05-30T14:16:01.779Z"
   },
   {
    "duration": 18,
    "start_time": "2025-05-30T14:16:01.792Z"
   },
   {
    "duration": 20,
    "start_time": "2025-05-30T14:16:01.811Z"
   },
   {
    "duration": 20,
    "start_time": "2025-05-30T14:16:01.833Z"
   },
   {
    "duration": 15,
    "start_time": "2025-05-30T14:16:01.855Z"
   },
   {
    "duration": 20,
    "start_time": "2025-05-30T14:16:01.871Z"
   },
   {
    "duration": 35,
    "start_time": "2025-05-30T14:16:01.893Z"
   },
   {
    "duration": 24,
    "start_time": "2025-05-30T14:16:01.929Z"
   },
   {
    "duration": 70,
    "start_time": "2025-05-30T14:16:01.955Z"
   },
   {
    "duration": 121,
    "start_time": "2025-05-30T14:16:02.027Z"
   },
   {
    "duration": 31,
    "start_time": "2025-05-30T14:16:02.152Z"
   },
   {
    "duration": 17,
    "start_time": "2025-05-30T14:16:02.185Z"
   },
   {
    "duration": 45,
    "start_time": "2025-05-30T14:16:02.203Z"
   },
   {
    "duration": 395,
    "start_time": "2025-05-30T14:16:02.250Z"
   },
   {
    "duration": 5,
    "start_time": "2025-05-30T14:16:02.650Z"
   },
   {
    "duration": 70,
    "start_time": "2025-05-30T14:16:02.656Z"
   },
   {
    "duration": 532,
    "start_time": "2025-05-30T14:16:02.728Z"
   },
   {
    "duration": 546,
    "start_time": "2025-05-30T14:16:03.262Z"
   },
   {
    "duration": 481,
    "start_time": "2025-05-30T14:16:03.809Z"
   },
   {
    "duration": 436,
    "start_time": "2025-05-30T14:16:04.292Z"
   },
   {
    "duration": 250,
    "start_time": "2025-05-30T14:16:04.736Z"
   },
   {
    "duration": 270,
    "start_time": "2025-05-30T14:16:04.988Z"
   },
   {
    "duration": 265,
    "start_time": "2025-05-30T14:16:05.260Z"
   },
   {
    "duration": 265,
    "start_time": "2025-05-30T14:16:05.528Z"
   },
   {
    "duration": 253,
    "start_time": "2025-05-30T14:16:05.795Z"
   },
   {
    "duration": 231,
    "start_time": "2025-05-30T14:16:06.052Z"
   },
   {
    "duration": 287,
    "start_time": "2025-05-30T14:16:06.284Z"
   },
   {
    "duration": 85,
    "start_time": "2025-05-30T14:16:06.573Z"
   },
   {
    "duration": 194,
    "start_time": "2025-05-30T14:16:06.659Z"
   },
   {
    "duration": 207,
    "start_time": "2025-05-30T14:16:06.855Z"
   },
   {
    "duration": 205,
    "start_time": "2025-05-30T14:16:07.063Z"
   },
   {
    "duration": 17,
    "start_time": "2025-05-30T14:16:07.270Z"
   },
   {
    "duration": 50,
    "start_time": "2025-05-30T14:16:07.289Z"
   },
   {
    "duration": 5,
    "start_time": "2025-05-30T14:16:07.341Z"
   },
   {
    "duration": 13,
    "start_time": "2025-05-30T14:16:07.347Z"
   },
   {
    "duration": 83,
    "start_time": "2025-05-30T14:16:07.362Z"
   },
   {
    "duration": 9,
    "start_time": "2025-05-30T14:16:07.447Z"
   },
   {
    "duration": 165,
    "start_time": "2025-05-30T14:16:07.457Z"
   },
   {
    "duration": 13,
    "start_time": "2025-05-30T14:16:07.623Z"
   },
   {
    "duration": 174,
    "start_time": "2025-05-30T14:16:54.653Z"
   },
   {
    "duration": 158,
    "start_time": "2025-05-30T14:17:21.440Z"
   },
   {
    "duration": 349,
    "start_time": "2025-05-30T14:18:17.803Z"
   },
   {
    "duration": 205,
    "start_time": "2025-05-30T14:20:28.394Z"
   },
   {
    "duration": 179,
    "start_time": "2025-05-30T14:20:45.694Z"
   },
   {
    "duration": 184,
    "start_time": "2025-05-30T14:21:02.123Z"
   },
   {
    "duration": 183,
    "start_time": "2025-05-30T14:21:23.064Z"
   },
   {
    "duration": 163,
    "start_time": "2025-05-30T14:21:49.732Z"
   },
   {
    "duration": 251,
    "start_time": "2025-05-30T14:22:10.260Z"
   },
   {
    "duration": 801,
    "start_time": "2025-05-30T17:06:32.274Z"
   },
   {
    "duration": 95,
    "start_time": "2025-05-30T17:06:33.077Z"
   },
   {
    "duration": 16,
    "start_time": "2025-05-30T17:06:33.174Z"
   },
   {
    "duration": 155,
    "start_time": "2025-05-30T17:06:33.193Z"
   },
   {
    "duration": 32,
    "start_time": "2025-05-30T17:06:33.350Z"
   },
   {
    "duration": 2142,
    "start_time": "2025-05-30T17:06:33.384Z"
   },
   {
    "duration": 12,
    "start_time": "2025-05-30T17:06:35.528Z"
   },
   {
    "duration": 88,
    "start_time": "2025-05-30T17:06:35.543Z"
   },
   {
    "duration": 78,
    "start_time": "2025-05-30T17:06:35.633Z"
   },
   {
    "duration": 42,
    "start_time": "2025-05-30T17:06:35.714Z"
   },
   {
    "duration": 55,
    "start_time": "2025-05-30T17:06:35.758Z"
   },
   {
    "duration": 26,
    "start_time": "2025-05-30T17:06:35.814Z"
   },
   {
    "duration": 36,
    "start_time": "2025-05-30T17:06:35.841Z"
   },
   {
    "duration": 8,
    "start_time": "2025-05-30T17:06:35.879Z"
   },
   {
    "duration": 29,
    "start_time": "2025-05-30T17:06:35.888Z"
   },
   {
    "duration": 34,
    "start_time": "2025-05-30T17:06:35.918Z"
   },
   {
    "duration": 62,
    "start_time": "2025-05-30T17:06:35.954Z"
   },
   {
    "duration": 38,
    "start_time": "2025-05-30T17:06:36.018Z"
   },
   {
    "duration": 42,
    "start_time": "2025-05-30T17:06:36.058Z"
   },
   {
    "duration": 33,
    "start_time": "2025-05-30T17:06:36.102Z"
   },
   {
    "duration": 37,
    "start_time": "2025-05-30T17:06:36.137Z"
   },
   {
    "duration": 28,
    "start_time": "2025-05-30T17:06:36.176Z"
   },
   {
    "duration": 28,
    "start_time": "2025-05-30T17:06:36.206Z"
   },
   {
    "duration": 24,
    "start_time": "2025-05-30T17:06:36.236Z"
   },
   {
    "duration": 6,
    "start_time": "2025-05-30T17:06:36.262Z"
   },
   {
    "duration": 77,
    "start_time": "2025-05-30T17:06:36.270Z"
   },
   {
    "duration": 16,
    "start_time": "2025-05-30T17:06:36.349Z"
   },
   {
    "duration": 13,
    "start_time": "2025-05-30T17:06:36.369Z"
   },
   {
    "duration": 8,
    "start_time": "2025-05-30T17:06:36.384Z"
   },
   {
    "duration": 39,
    "start_time": "2025-05-30T17:06:36.394Z"
   },
   {
    "duration": 534,
    "start_time": "2025-05-30T17:06:36.435Z"
   },
   {
    "duration": 4,
    "start_time": "2025-05-30T17:06:36.971Z"
   },
   {
    "duration": 175,
    "start_time": "2025-05-30T17:06:36.977Z"
   },
   {
    "duration": 466,
    "start_time": "2025-05-30T17:06:37.155Z"
   },
   {
    "duration": 542,
    "start_time": "2025-05-30T17:06:37.623Z"
   },
   {
    "duration": 434,
    "start_time": "2025-05-30T17:06:38.167Z"
   },
   {
    "duration": 435,
    "start_time": "2025-05-30T17:06:38.604Z"
   },
   {
    "duration": 250,
    "start_time": "2025-05-30T17:06:39.042Z"
   },
   {
    "duration": 259,
    "start_time": "2025-05-30T17:06:39.294Z"
   },
   {
    "duration": 284,
    "start_time": "2025-05-30T17:06:39.555Z"
   },
   {
    "duration": 243,
    "start_time": "2025-05-30T17:06:39.841Z"
   },
   {
    "duration": 251,
    "start_time": "2025-05-30T17:06:40.086Z"
   },
   {
    "duration": 260,
    "start_time": "2025-05-30T17:06:40.339Z"
   },
   {
    "duration": 275,
    "start_time": "2025-05-30T17:06:40.602Z"
   },
   {
    "duration": 84,
    "start_time": "2025-05-30T17:06:40.879Z"
   },
   {
    "duration": 204,
    "start_time": "2025-05-30T17:06:40.964Z"
   },
   {
    "duration": 229,
    "start_time": "2025-05-30T17:06:41.170Z"
   },
   {
    "duration": 212,
    "start_time": "2025-05-30T17:06:41.401Z"
   },
   {
    "duration": 285,
    "start_time": "2025-05-30T17:06:41.615Z"
   },
   {
    "duration": 192,
    "start_time": "2025-05-30T17:06:41.901Z"
   },
   {
    "duration": 352,
    "start_time": "2025-05-30T17:06:42.095Z"
   },
   {
    "duration": 24,
    "start_time": "2025-05-30T17:06:42.449Z"
   },
   {
    "duration": 75,
    "start_time": "2025-05-30T17:06:42.474Z"
   },
   {
    "duration": 19,
    "start_time": "2025-05-30T17:06:42.551Z"
   },
   {
    "duration": 28,
    "start_time": "2025-05-30T17:06:42.572Z"
   },
   {
    "duration": 27,
    "start_time": "2025-05-30T17:06:42.602Z"
   },
   {
    "duration": 24,
    "start_time": "2025-05-30T17:06:42.633Z"
   },
   {
    "duration": 173,
    "start_time": "2025-05-30T17:06:42.659Z"
   },
   {
    "duration": 27,
    "start_time": "2025-05-30T17:06:42.834Z"
   },
   {
    "duration": 151,
    "start_time": "2025-05-30T17:11:26.951Z"
   },
   {
    "duration": 674,
    "start_time": "2025-05-30T17:12:38.674Z"
   },
   {
    "duration": 109,
    "start_time": "2025-05-30T17:12:39.350Z"
   },
   {
    "duration": 17,
    "start_time": "2025-05-30T17:12:39.461Z"
   },
   {
    "duration": 36,
    "start_time": "2025-05-30T17:12:39.480Z"
   },
   {
    "duration": 63,
    "start_time": "2025-05-30T17:12:39.519Z"
   },
   {
    "duration": 2171,
    "start_time": "2025-05-30T17:12:39.583Z"
   },
   {
    "duration": 9,
    "start_time": "2025-05-30T17:12:41.755Z"
   },
   {
    "duration": 35,
    "start_time": "2025-05-30T17:12:41.766Z"
   },
   {
    "duration": 139,
    "start_time": "2025-05-30T17:12:41.803Z"
   },
   {
    "duration": 5,
    "start_time": "2025-05-30T17:12:41.943Z"
   },
   {
    "duration": 8,
    "start_time": "2025-05-30T17:12:41.949Z"
   },
   {
    "duration": 12,
    "start_time": "2025-05-30T17:12:41.959Z"
   },
   {
    "duration": 8,
    "start_time": "2025-05-30T17:12:41.972Z"
   },
   {
    "duration": 7,
    "start_time": "2025-05-30T17:12:41.985Z"
   },
   {
    "duration": 13,
    "start_time": "2025-05-30T17:12:41.993Z"
   },
   {
    "duration": 21,
    "start_time": "2025-05-30T17:12:42.007Z"
   },
   {
    "duration": 8,
    "start_time": "2025-05-30T17:12:42.030Z"
   },
   {
    "duration": 8,
    "start_time": "2025-05-30T17:12:42.039Z"
   },
   {
    "duration": 17,
    "start_time": "2025-05-30T17:12:42.048Z"
   },
   {
    "duration": 15,
    "start_time": "2025-05-30T17:12:42.067Z"
   },
   {
    "duration": 8,
    "start_time": "2025-05-30T17:12:42.084Z"
   },
   {
    "duration": 9,
    "start_time": "2025-05-30T17:12:42.093Z"
   },
   {
    "duration": 6,
    "start_time": "2025-05-30T17:12:42.103Z"
   },
   {
    "duration": 15,
    "start_time": "2025-05-30T17:12:42.111Z"
   },
   {
    "duration": 36,
    "start_time": "2025-05-30T17:12:42.127Z"
   },
   {
    "duration": 73,
    "start_time": "2025-05-30T17:12:42.165Z"
   },
   {
    "duration": 24,
    "start_time": "2025-05-30T17:12:42.240Z"
   },
   {
    "duration": 8,
    "start_time": "2025-05-30T17:12:42.266Z"
   },
   {
    "duration": 5,
    "start_time": "2025-05-30T17:12:42.276Z"
   },
   {
    "duration": 8,
    "start_time": "2025-05-30T17:12:42.283Z"
   },
   {
    "duration": 373,
    "start_time": "2025-05-30T17:12:42.292Z"
   },
   {
    "duration": 5,
    "start_time": "2025-05-30T17:12:42.668Z"
   },
   {
    "duration": 46,
    "start_time": "2025-05-30T17:12:42.675Z"
   },
   {
    "duration": 407,
    "start_time": "2025-05-30T17:12:42.724Z"
   },
   {
    "duration": 530,
    "start_time": "2025-05-30T17:12:43.133Z"
   },
   {
    "duration": 429,
    "start_time": "2025-05-30T17:12:43.666Z"
   },
   {
    "duration": 432,
    "start_time": "2025-05-30T17:12:44.097Z"
   },
   {
    "duration": 251,
    "start_time": "2025-05-30T17:12:44.531Z"
   },
   {
    "duration": 259,
    "start_time": "2025-05-30T17:12:44.784Z"
   },
   {
    "duration": 288,
    "start_time": "2025-05-30T17:12:45.045Z"
   },
   {
    "duration": 251,
    "start_time": "2025-05-30T17:12:45.337Z"
   },
   {
    "duration": 257,
    "start_time": "2025-05-30T17:12:45.590Z"
   },
   {
    "duration": 258,
    "start_time": "2025-05-30T17:12:45.850Z"
   },
   {
    "duration": 278,
    "start_time": "2025-05-30T17:12:46.110Z"
   },
   {
    "duration": 80,
    "start_time": "2025-05-30T17:12:46.390Z"
   },
   {
    "duration": 209,
    "start_time": "2025-05-30T17:12:46.472Z"
   },
   {
    "duration": 256,
    "start_time": "2025-05-30T17:12:46.683Z"
   },
   {
    "duration": 207,
    "start_time": "2025-05-30T17:12:46.941Z"
   },
   {
    "duration": 294,
    "start_time": "2025-05-30T17:12:47.150Z"
   },
   {
    "duration": 216,
    "start_time": "2025-05-30T17:12:47.447Z"
   },
   {
    "duration": 158,
    "start_time": "2025-05-30T17:12:47.665Z"
   },
   {
    "duration": 349,
    "start_time": "2025-05-30T17:12:47.825Z"
   },
   {
    "duration": 18,
    "start_time": "2025-05-30T17:12:48.175Z"
   },
   {
    "duration": 9,
    "start_time": "2025-05-30T17:12:48.195Z"
   },
   {
    "duration": 22,
    "start_time": "2025-05-30T17:12:48.206Z"
   },
   {
    "duration": 11,
    "start_time": "2025-05-30T17:12:48.230Z"
   },
   {
    "duration": 20,
    "start_time": "2025-05-30T17:12:48.243Z"
   },
   {
    "duration": 10,
    "start_time": "2025-05-30T17:12:48.265Z"
   },
   {
    "duration": 184,
    "start_time": "2025-05-30T17:12:48.277Z"
   },
   {
    "duration": 9,
    "start_time": "2025-05-30T17:12:48.462Z"
   },
   {
    "duration": 60,
    "start_time": "2025-05-30T17:57:21.989Z"
   },
   {
    "duration": 994,
    "start_time": "2025-05-30T17:57:27.431Z"
   },
   {
    "duration": 106,
    "start_time": "2025-05-30T17:57:28.428Z"
   },
   {
    "duration": 25,
    "start_time": "2025-05-30T17:57:28.536Z"
   },
   {
    "duration": 39,
    "start_time": "2025-05-30T17:57:28.563Z"
   },
   {
    "duration": 28,
    "start_time": "2025-05-30T17:57:28.604Z"
   },
   {
    "duration": 2308,
    "start_time": "2025-05-30T17:57:28.633Z"
   },
   {
    "duration": 15,
    "start_time": "2025-05-30T17:57:30.944Z"
   },
   {
    "duration": 11,
    "start_time": "2025-05-30T17:57:30.962Z"
   },
   {
    "duration": 6,
    "start_time": "2025-05-30T17:57:30.975Z"
   },
   {
    "duration": 5,
    "start_time": "2025-05-30T17:57:30.983Z"
   },
   {
    "duration": 9,
    "start_time": "2025-05-30T17:57:30.991Z"
   },
   {
    "duration": 36,
    "start_time": "2025-05-30T17:57:31.002Z"
   },
   {
    "duration": 22,
    "start_time": "2025-05-30T17:57:31.040Z"
   },
   {
    "duration": 10,
    "start_time": "2025-05-30T17:57:31.067Z"
   },
   {
    "duration": 11,
    "start_time": "2025-05-30T17:57:31.079Z"
   },
   {
    "duration": 9,
    "start_time": "2025-05-30T17:57:31.092Z"
   },
   {
    "duration": 15,
    "start_time": "2025-05-30T17:57:31.103Z"
   },
   {
    "duration": 10,
    "start_time": "2025-05-30T17:57:31.160Z"
   },
   {
    "duration": 102,
    "start_time": "2025-05-30T17:57:31.172Z"
   },
   {
    "duration": 7,
    "start_time": "2025-05-30T17:57:31.276Z"
   },
   {
    "duration": 15,
    "start_time": "2025-05-30T17:57:31.285Z"
   },
   {
    "duration": 7,
    "start_time": "2025-05-30T17:57:31.302Z"
   },
   {
    "duration": 99,
    "start_time": "2025-05-30T17:57:31.311Z"
   },
   {
    "duration": 7,
    "start_time": "2025-05-30T17:57:31.412Z"
   },
   {
    "duration": 16,
    "start_time": "2025-05-30T17:57:31.420Z"
   },
   {
    "duration": 23,
    "start_time": "2025-05-30T17:57:31.438Z"
   },
   {
    "duration": 20,
    "start_time": "2025-05-30T17:57:31.463Z"
   },
   {
    "duration": 411,
    "start_time": "2025-05-30T17:57:31.484Z"
   },
   {
    "duration": 5,
    "start_time": "2025-05-30T17:57:31.897Z"
   },
   {
    "duration": 55,
    "start_time": "2025-05-30T17:57:31.904Z"
   },
   {
    "duration": 438,
    "start_time": "2025-05-30T17:57:31.961Z"
   },
   {
    "duration": 581,
    "start_time": "2025-05-30T17:57:32.401Z"
   },
   {
    "duration": 449,
    "start_time": "2025-05-30T17:57:32.984Z"
   },
   {
    "duration": 457,
    "start_time": "2025-05-30T17:57:33.435Z"
   },
   {
    "duration": 265,
    "start_time": "2025-05-30T17:57:33.895Z"
   },
   {
    "duration": 331,
    "start_time": "2025-05-30T17:57:34.162Z"
   },
   {
    "duration": 317,
    "start_time": "2025-05-30T17:57:34.496Z"
   },
   {
    "duration": 269,
    "start_time": "2025-05-30T17:57:34.814Z"
   },
   {
    "duration": 281,
    "start_time": "2025-05-30T17:57:35.085Z"
   },
   {
    "duration": 293,
    "start_time": "2025-05-30T17:57:35.369Z"
   },
   {
    "duration": 336,
    "start_time": "2025-05-30T17:57:35.666Z"
   },
   {
    "duration": 82,
    "start_time": "2025-05-30T17:57:36.004Z"
   },
   {
    "duration": 223,
    "start_time": "2025-05-30T17:57:36.088Z"
   },
   {
    "duration": 266,
    "start_time": "2025-05-30T17:57:36.313Z"
   },
   {
    "duration": 322,
    "start_time": "2025-05-30T17:57:36.582Z"
   },
   {
    "duration": 286,
    "start_time": "2025-05-30T17:57:36.907Z"
   },
   {
    "duration": 160,
    "start_time": "2025-05-30T17:57:37.195Z"
   },
   {
    "duration": 381,
    "start_time": "2025-05-30T17:57:37.357Z"
   },
   {
    "duration": 32,
    "start_time": "2025-05-30T17:57:37.740Z"
   },
   {
    "duration": 4,
    "start_time": "2025-05-30T17:57:37.775Z"
   },
   {
    "duration": 8,
    "start_time": "2025-05-30T17:57:37.781Z"
   },
   {
    "duration": 10,
    "start_time": "2025-05-30T17:57:37.791Z"
   },
   {
    "duration": 14,
    "start_time": "2025-05-30T17:57:37.802Z"
   },
   {
    "duration": 9,
    "start_time": "2025-05-30T17:57:37.817Z"
   },
   {
    "duration": 199,
    "start_time": "2025-05-30T17:57:37.828Z"
   },
   {
    "duration": 9,
    "start_time": "2025-05-30T17:57:38.030Z"
   },
   {
    "duration": 232,
    "start_time": "2025-05-30T18:04:27.564Z"
   },
   {
    "duration": 171,
    "start_time": "2025-05-30T18:05:21.705Z"
   },
   {
    "duration": 184,
    "start_time": "2025-05-30T18:06:12.427Z"
   },
   {
    "duration": 170,
    "start_time": "2025-05-30T18:06:53.279Z"
   },
   {
    "duration": 641,
    "start_time": "2025-05-31T09:23:20.876Z"
   },
   {
    "duration": 91,
    "start_time": "2025-05-31T09:23:21.518Z"
   },
   {
    "duration": 16,
    "start_time": "2025-05-31T09:23:21.611Z"
   },
   {
    "duration": 36,
    "start_time": "2025-05-31T09:23:21.629Z"
   },
   {
    "duration": 24,
    "start_time": "2025-05-31T09:23:21.667Z"
   },
   {
    "duration": 1878,
    "start_time": "2025-05-31T09:23:21.693Z"
   },
   {
    "duration": 9,
    "start_time": "2025-05-31T09:23:23.572Z"
   },
   {
    "duration": 10,
    "start_time": "2025-05-31T09:23:23.582Z"
   },
   {
    "duration": 9,
    "start_time": "2025-05-31T09:23:23.593Z"
   },
   {
    "duration": 3,
    "start_time": "2025-05-31T09:23:23.605Z"
   },
   {
    "duration": 7,
    "start_time": "2025-05-31T09:23:23.609Z"
   },
   {
    "duration": 4,
    "start_time": "2025-05-31T09:23:23.618Z"
   },
   {
    "duration": 5,
    "start_time": "2025-05-31T09:23:23.624Z"
   },
   {
    "duration": 7,
    "start_time": "2025-05-31T09:23:23.630Z"
   },
   {
    "duration": 28,
    "start_time": "2025-05-31T09:23:23.638Z"
   },
   {
    "duration": 8,
    "start_time": "2025-05-31T09:23:23.667Z"
   },
   {
    "duration": 14,
    "start_time": "2025-05-31T09:23:23.677Z"
   },
   {
    "duration": 8,
    "start_time": "2025-05-31T09:23:23.692Z"
   },
   {
    "duration": 7,
    "start_time": "2025-05-31T09:23:23.702Z"
   },
   {
    "duration": 6,
    "start_time": "2025-05-31T09:23:23.711Z"
   },
   {
    "duration": 46,
    "start_time": "2025-05-31T09:23:23.719Z"
   },
   {
    "duration": 5,
    "start_time": "2025-05-31T09:23:23.767Z"
   },
   {
    "duration": 69,
    "start_time": "2025-05-31T09:23:23.774Z"
   },
   {
    "duration": 21,
    "start_time": "2025-05-31T09:23:23.844Z"
   },
   {
    "duration": 7,
    "start_time": "2025-05-31T09:23:23.866Z"
   },
   {
    "duration": 6,
    "start_time": "2025-05-31T09:23:23.874Z"
   },
   {
    "duration": 6,
    "start_time": "2025-05-31T09:23:23.881Z"
   },
   {
    "duration": 352,
    "start_time": "2025-05-31T09:23:23.891Z"
   },
   {
    "duration": 5,
    "start_time": "2025-05-31T09:23:24.246Z"
   },
   {
    "duration": 35,
    "start_time": "2025-05-31T09:23:24.252Z"
   },
   {
    "duration": 400,
    "start_time": "2025-05-31T09:23:24.289Z"
   },
   {
    "duration": 487,
    "start_time": "2025-05-31T09:23:24.691Z"
   },
   {
    "duration": 386,
    "start_time": "2025-05-31T09:23:25.180Z"
   },
   {
    "duration": 383,
    "start_time": "2025-05-31T09:23:25.568Z"
   },
   {
    "duration": 225,
    "start_time": "2025-05-31T09:23:25.953Z"
   },
   {
    "duration": 228,
    "start_time": "2025-05-31T09:23:26.180Z"
   },
   {
    "duration": 261,
    "start_time": "2025-05-31T09:23:26.409Z"
   },
   {
    "duration": 225,
    "start_time": "2025-05-31T09:23:26.672Z"
   },
   {
    "duration": 236,
    "start_time": "2025-05-31T09:23:26.899Z"
   },
   {
    "duration": 232,
    "start_time": "2025-05-31T09:23:27.136Z"
   },
   {
    "duration": 236,
    "start_time": "2025-05-31T09:23:27.370Z"
   },
   {
    "duration": 70,
    "start_time": "2025-05-31T09:23:27.608Z"
   },
   {
    "duration": 188,
    "start_time": "2025-05-31T09:23:27.679Z"
   },
   {
    "duration": 238,
    "start_time": "2025-05-31T09:23:27.868Z"
   },
   {
    "duration": 271,
    "start_time": "2025-05-31T09:23:28.108Z"
   },
   {
    "duration": 212,
    "start_time": "2025-05-31T09:23:28.380Z"
   },
   {
    "duration": 140,
    "start_time": "2025-05-31T09:23:28.593Z"
   },
   {
    "duration": 157,
    "start_time": "2025-05-31T09:23:28.734Z"
   },
   {
    "duration": 173,
    "start_time": "2025-05-31T09:23:28.893Z"
   },
   {
    "duration": 166,
    "start_time": "2025-05-31T09:23:29.068Z"
   },
   {
    "duration": 26,
    "start_time": "2025-05-31T09:23:29.236Z"
   },
   {
    "duration": 3,
    "start_time": "2025-05-31T09:23:29.264Z"
   },
   {
    "duration": 38,
    "start_time": "2025-05-31T09:23:29.269Z"
   },
   {
    "duration": 11,
    "start_time": "2025-05-31T09:23:29.309Z"
   },
   {
    "duration": 21,
    "start_time": "2025-05-31T09:23:29.322Z"
   },
   {
    "duration": 8,
    "start_time": "2025-05-31T09:23:29.345Z"
   },
   {
    "duration": 153,
    "start_time": "2025-05-31T09:23:29.355Z"
   },
   {
    "duration": 8,
    "start_time": "2025-05-31T09:23:29.509Z"
   }
  ],
  "colab": {
   "provenance": []
  },
  "kernelspec": {
   "display_name": "Python 3 (ipykernel)",
   "language": "python",
   "name": "python3"
  },
  "language_info": {
   "codemirror_mode": {
    "name": "ipython",
    "version": 3
   },
   "file_extension": ".py",
   "mimetype": "text/x-python",
   "name": "python",
   "nbconvert_exporter": "python",
   "pygments_lexer": "ipython3",
   "version": "3.9.5"
  },
  "toc": {
   "base_numbering": 1,
   "nav_menu": {},
   "number_sections": true,
   "sideBar": true,
   "skip_h1_title": true,
   "title_cell": "Table of Contents",
   "title_sidebar": "Contents",
   "toc_cell": false,
   "toc_position": {},
   "toc_section_display": true,
   "toc_window_display": false
  }
 },
 "nbformat": 4,
 "nbformat_minor": 1
}
