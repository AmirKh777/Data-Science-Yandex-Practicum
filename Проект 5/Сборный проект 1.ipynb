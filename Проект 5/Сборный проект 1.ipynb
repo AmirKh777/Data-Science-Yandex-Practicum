{
 "cells": [
  {
   "cell_type": "markdown",
   "metadata": {},
   "source": [
    "# Сборный проект\n",
    "\n",
    "# Описание проекта\n",
    "Вы работаете в интернет-магазине «Стримчик», который продаёт по всему миру компьютерные игры. Из открытых источников доступны исторические данные о продажах игр, оценки пользователей и экспертов, жанры и платформы (например, Xbox или PlayStation). Вам нужно выявить определяющие успешность игры закономерности. Это позволит сделать ставку на потенциально популярный продукт и спланировать рекламные кампании.\n",
    "\n",
    "Перед вами данные до 2016 года. Представим, что сейчас декабрь 2016 г., и вы планируете кампанию на 2017-й. Нужно отработать принцип работы с данными. Неважно, прогнозируете ли вы продажи на 2017 год по данным 2016-го или же 2027-й — по данным 2026 года.\n",
    "\n",
    "В наборе данных попадается аббревиатура ESRB (Entertainment Software Rating Board) — это ассоциация, определяющая возрастной рейтинг компьютерных игр. ESRB оценивает игровой контент и присваивает ему подходящую возрастную категорию, например, «Для взрослых», «Для детей младшего возраста» или «Для подростков»."
   ]
  },
  {
   "cell_type": "markdown",
   "metadata": {},
   "source": []
  },
  {
   "cell_type": "markdown",
   "metadata": {},
   "source": [
    "**Шаг 1. Откройте файл с данными и изучите общую информацию**"
   ]
  },
  {
   "cell_type": "code",
   "execution_count": 1,
   "metadata": {},
   "outputs": [],
   "source": [
    "import pandas as pd \n",
    "import matplotlib.pyplot as plt \n",
    "import seaborn as sns \n",
    "import numpy as np     \n",
    "from scipy import stats as st  #импорт всех необходимых библиотек"
   ]
  },
  {
   "cell_type": "code",
   "execution_count": 2,
   "metadata": {},
   "outputs": [],
   "source": [
    "data = pd.read_csv('/datasets/games.csv') #чтение данных и ввод датафрейма в новую переменную"
   ]
  },
  {
   "cell_type": "code",
   "execution_count": 3,
   "metadata": {},
   "outputs": [
    {
     "name": "stdout",
     "output_type": "stream",
     "text": [
      "<class 'pandas.core.frame.DataFrame'>\n",
      "RangeIndex: 16715 entries, 0 to 16714\n",
      "Data columns (total 11 columns):\n",
      " #   Column           Non-Null Count  Dtype  \n",
      "---  ------           --------------  -----  \n",
      " 0   Name             16713 non-null  object \n",
      " 1   Platform         16715 non-null  object \n",
      " 2   Year_of_Release  16446 non-null  float64\n",
      " 3   Genre            16713 non-null  object \n",
      " 4   NA_sales         16715 non-null  float64\n",
      " 5   EU_sales         16715 non-null  float64\n",
      " 6   JP_sales         16715 non-null  float64\n",
      " 7   Other_sales      16715 non-null  float64\n",
      " 8   Critic_Score     8137 non-null   float64\n",
      " 9   User_Score       10014 non-null  object \n",
      " 10  Rating           9949 non-null   object \n",
      "dtypes: float64(6), object(5)\n",
      "memory usage: 1.4+ MB\n"
     ]
    }
   ],
   "source": [
    "data.info()  #вывод общей информации о датафрейме"
   ]
  },
  {
   "cell_type": "code",
   "execution_count": 4,
   "metadata": {},
   "outputs": [
    {
     "data": {
      "text/html": [
       "<div>\n",
       "<style scoped>\n",
       "    .dataframe tbody tr th:only-of-type {\n",
       "        vertical-align: middle;\n",
       "    }\n",
       "\n",
       "    .dataframe tbody tr th {\n",
       "        vertical-align: top;\n",
       "    }\n",
       "\n",
       "    .dataframe thead th {\n",
       "        text-align: right;\n",
       "    }\n",
       "</style>\n",
       "<table border=\"1\" class=\"dataframe\">\n",
       "  <thead>\n",
       "    <tr style=\"text-align: right;\">\n",
       "      <th></th>\n",
       "      <th>Name</th>\n",
       "      <th>Platform</th>\n",
       "      <th>Year_of_Release</th>\n",
       "      <th>Genre</th>\n",
       "      <th>NA_sales</th>\n",
       "      <th>EU_sales</th>\n",
       "      <th>JP_sales</th>\n",
       "      <th>Other_sales</th>\n",
       "      <th>Critic_Score</th>\n",
       "      <th>User_Score</th>\n",
       "      <th>Rating</th>\n",
       "    </tr>\n",
       "  </thead>\n",
       "  <tbody>\n",
       "    <tr>\n",
       "      <th>0</th>\n",
       "      <td>Wii Sports</td>\n",
       "      <td>Wii</td>\n",
       "      <td>2006.0</td>\n",
       "      <td>Sports</td>\n",
       "      <td>41.36</td>\n",
       "      <td>28.96</td>\n",
       "      <td>3.77</td>\n",
       "      <td>8.45</td>\n",
       "      <td>76.0</td>\n",
       "      <td>8</td>\n",
       "      <td>E</td>\n",
       "    </tr>\n",
       "    <tr>\n",
       "      <th>1</th>\n",
       "      <td>Super Mario Bros.</td>\n",
       "      <td>NES</td>\n",
       "      <td>1985.0</td>\n",
       "      <td>Platform</td>\n",
       "      <td>29.08</td>\n",
       "      <td>3.58</td>\n",
       "      <td>6.81</td>\n",
       "      <td>0.77</td>\n",
       "      <td>NaN</td>\n",
       "      <td>NaN</td>\n",
       "      <td>NaN</td>\n",
       "    </tr>\n",
       "    <tr>\n",
       "      <th>2</th>\n",
       "      <td>Mario Kart Wii</td>\n",
       "      <td>Wii</td>\n",
       "      <td>2008.0</td>\n",
       "      <td>Racing</td>\n",
       "      <td>15.68</td>\n",
       "      <td>12.76</td>\n",
       "      <td>3.79</td>\n",
       "      <td>3.29</td>\n",
       "      <td>82.0</td>\n",
       "      <td>8.3</td>\n",
       "      <td>E</td>\n",
       "    </tr>\n",
       "    <tr>\n",
       "      <th>3</th>\n",
       "      <td>Wii Sports Resort</td>\n",
       "      <td>Wii</td>\n",
       "      <td>2009.0</td>\n",
       "      <td>Sports</td>\n",
       "      <td>15.61</td>\n",
       "      <td>10.93</td>\n",
       "      <td>3.28</td>\n",
       "      <td>2.95</td>\n",
       "      <td>80.0</td>\n",
       "      <td>8</td>\n",
       "      <td>E</td>\n",
       "    </tr>\n",
       "    <tr>\n",
       "      <th>4</th>\n",
       "      <td>Pokemon Red/Pokemon Blue</td>\n",
       "      <td>GB</td>\n",
       "      <td>1996.0</td>\n",
       "      <td>Role-Playing</td>\n",
       "      <td>11.27</td>\n",
       "      <td>8.89</td>\n",
       "      <td>10.22</td>\n",
       "      <td>1.00</td>\n",
       "      <td>NaN</td>\n",
       "      <td>NaN</td>\n",
       "      <td>NaN</td>\n",
       "    </tr>\n",
       "  </tbody>\n",
       "</table>\n",
       "</div>"
      ],
      "text/plain": [
       "                       Name Platform  Year_of_Release         Genre  NA_sales  \\\n",
       "0                Wii Sports      Wii           2006.0        Sports     41.36   \n",
       "1         Super Mario Bros.      NES           1985.0      Platform     29.08   \n",
       "2            Mario Kart Wii      Wii           2008.0        Racing     15.68   \n",
       "3         Wii Sports Resort      Wii           2009.0        Sports     15.61   \n",
       "4  Pokemon Red/Pokemon Blue       GB           1996.0  Role-Playing     11.27   \n",
       "\n",
       "   EU_sales  JP_sales  Other_sales  Critic_Score User_Score Rating  \n",
       "0     28.96      3.77         8.45          76.0          8      E  \n",
       "1      3.58      6.81         0.77           NaN        NaN    NaN  \n",
       "2     12.76      3.79         3.29          82.0        8.3      E  \n",
       "3     10.93      3.28         2.95          80.0          8      E  \n",
       "4      8.89     10.22         1.00           NaN        NaN    NaN  "
      ]
     },
     "execution_count": 4,
     "metadata": {},
     "output_type": "execute_result"
    }
   ],
   "source": [
    "data.head() #вывод пяти строк датафрейма"
   ]
  },
  {
   "cell_type": "code",
   "execution_count": 5,
   "metadata": {},
   "outputs": [
    {
     "data": {
      "text/html": [
       "<div>\n",
       "<style scoped>\n",
       "    .dataframe tbody tr th:only-of-type {\n",
       "        vertical-align: middle;\n",
       "    }\n",
       "\n",
       "    .dataframe tbody tr th {\n",
       "        vertical-align: top;\n",
       "    }\n",
       "\n",
       "    .dataframe thead th {\n",
       "        text-align: right;\n",
       "    }\n",
       "</style>\n",
       "<table border=\"1\" class=\"dataframe\">\n",
       "  <thead>\n",
       "    <tr style=\"text-align: right;\">\n",
       "      <th></th>\n",
       "      <th>Name</th>\n",
       "      <th>Platform</th>\n",
       "      <th>Year_of_Release</th>\n",
       "      <th>Genre</th>\n",
       "      <th>NA_sales</th>\n",
       "      <th>EU_sales</th>\n",
       "      <th>JP_sales</th>\n",
       "      <th>Other_sales</th>\n",
       "      <th>Critic_Score</th>\n",
       "      <th>User_Score</th>\n",
       "      <th>Rating</th>\n",
       "    </tr>\n",
       "  </thead>\n",
       "  <tbody>\n",
       "    <tr>\n",
       "      <th>16710</th>\n",
       "      <td>Samurai Warriors: Sanada Maru</td>\n",
       "      <td>PS3</td>\n",
       "      <td>2016.0</td>\n",
       "      <td>Action</td>\n",
       "      <td>0.00</td>\n",
       "      <td>0.00</td>\n",
       "      <td>0.01</td>\n",
       "      <td>0.0</td>\n",
       "      <td>NaN</td>\n",
       "      <td>NaN</td>\n",
       "      <td>NaN</td>\n",
       "    </tr>\n",
       "    <tr>\n",
       "      <th>16711</th>\n",
       "      <td>LMA Manager 2007</td>\n",
       "      <td>X360</td>\n",
       "      <td>2006.0</td>\n",
       "      <td>Sports</td>\n",
       "      <td>0.00</td>\n",
       "      <td>0.01</td>\n",
       "      <td>0.00</td>\n",
       "      <td>0.0</td>\n",
       "      <td>NaN</td>\n",
       "      <td>NaN</td>\n",
       "      <td>NaN</td>\n",
       "    </tr>\n",
       "    <tr>\n",
       "      <th>16712</th>\n",
       "      <td>Haitaka no Psychedelica</td>\n",
       "      <td>PSV</td>\n",
       "      <td>2016.0</td>\n",
       "      <td>Adventure</td>\n",
       "      <td>0.00</td>\n",
       "      <td>0.00</td>\n",
       "      <td>0.01</td>\n",
       "      <td>0.0</td>\n",
       "      <td>NaN</td>\n",
       "      <td>NaN</td>\n",
       "      <td>NaN</td>\n",
       "    </tr>\n",
       "    <tr>\n",
       "      <th>16713</th>\n",
       "      <td>Spirits &amp; Spells</td>\n",
       "      <td>GBA</td>\n",
       "      <td>2003.0</td>\n",
       "      <td>Platform</td>\n",
       "      <td>0.01</td>\n",
       "      <td>0.00</td>\n",
       "      <td>0.00</td>\n",
       "      <td>0.0</td>\n",
       "      <td>NaN</td>\n",
       "      <td>NaN</td>\n",
       "      <td>NaN</td>\n",
       "    </tr>\n",
       "    <tr>\n",
       "      <th>16714</th>\n",
       "      <td>Winning Post 8 2016</td>\n",
       "      <td>PSV</td>\n",
       "      <td>2016.0</td>\n",
       "      <td>Simulation</td>\n",
       "      <td>0.00</td>\n",
       "      <td>0.00</td>\n",
       "      <td>0.01</td>\n",
       "      <td>0.0</td>\n",
       "      <td>NaN</td>\n",
       "      <td>NaN</td>\n",
       "      <td>NaN</td>\n",
       "    </tr>\n",
       "  </tbody>\n",
       "</table>\n",
       "</div>"
      ],
      "text/plain": [
       "                                Name Platform  Year_of_Release       Genre  \\\n",
       "16710  Samurai Warriors: Sanada Maru      PS3           2016.0      Action   \n",
       "16711               LMA Manager 2007     X360           2006.0      Sports   \n",
       "16712        Haitaka no Psychedelica      PSV           2016.0   Adventure   \n",
       "16713               Spirits & Spells      GBA           2003.0    Platform   \n",
       "16714            Winning Post 8 2016      PSV           2016.0  Simulation   \n",
       "\n",
       "       NA_sales  EU_sales  JP_sales  Other_sales  Critic_Score User_Score  \\\n",
       "16710      0.00      0.00      0.01          0.0           NaN        NaN   \n",
       "16711      0.00      0.01      0.00          0.0           NaN        NaN   \n",
       "16712      0.00      0.00      0.01          0.0           NaN        NaN   \n",
       "16713      0.01      0.00      0.00          0.0           NaN        NaN   \n",
       "16714      0.00      0.00      0.01          0.0           NaN        NaN   \n",
       "\n",
       "      Rating  \n",
       "16710    NaN  \n",
       "16711    NaN  \n",
       "16712    NaN  \n",
       "16713    NaN  \n",
       "16714    NaN  "
      ]
     },
     "execution_count": 5,
     "metadata": {},
     "output_type": "execute_result"
    }
   ],
   "source": [
    "data.tail() #вывод последних пяти строк датафрейма"
   ]
  },
  {
   "cell_type": "markdown",
   "metadata": {},
   "source": [
    "**Вывод по разделу:** успешно познакомились открыли файл с данными и ознакомились с его содержимым. В датафрейме 11 столбцов, 16715 строк, тип данных в колонках - float64, object. "
   ]
  },
  {
   "cell_type": "markdown",
   "metadata": {},
   "source": [
    "**Шаг 2. Подготовьте данные**"
   ]
  },
  {
   "cell_type": "markdown",
   "metadata": {},
   "source": [
    "**Задание:** Замените названия столбцов (приведите к нижнему регистру);"
   ]
  },
  {
   "cell_type": "code",
   "execution_count": 6,
   "metadata": {},
   "outputs": [],
   "source": [
    "data.columns = data.columns.str.lower() #приведение всех названий столбцов к нижнему регистру."
   ]
  },
  {
   "cell_type": "markdown",
   "metadata": {},
   "source": [
    "**Задание:** Преобразуйте данные в нужные типы. Опишите, в каких столбцах заменили тип данных и почему;\n",
    "\n",
    "Обработайте пропуски при необходимости:\n",
    "    \n",
    "Объясните, почему заполнили пропуски определённым образом или почему не стали это делать;**\n",
    "\n",
    "Опишите причины, которые могли привести к пропускам;\n",
    "\n",
    "Обратите внимание на аббревиатуру 'tbd' в столбце с оценкой пользователей. Отдельно разберите это значение и опишите, как его обработать;"
   ]
  },
  {
   "cell_type": "code",
   "execution_count": 7,
   "metadata": {},
   "outputs": [],
   "source": [
    "data['year_of_release'] = pd.to_datetime(data['year_of_release'], format='%Y') #пребразование year_of_release в datetime64"
   ]
  },
  {
   "cell_type": "code",
   "execution_count": 8,
   "metadata": {},
   "outputs": [],
   "source": [
    "data['user_score'] = pd.to_numeric(data['user_score'], errors='coerce') #пребразование user_score в данные типа numeric"
   ]
  },
  {
   "cell_type": "code",
   "execution_count": 9,
   "metadata": {},
   "outputs": [
    {
     "data": {
      "text/plain": [
       "name                  2\n",
       "platform              0\n",
       "year_of_release     269\n",
       "genre                 2\n",
       "na_sales              0\n",
       "eu_sales              0\n",
       "jp_sales              0\n",
       "other_sales           0\n",
       "critic_score       8578\n",
       "user_score         9125\n",
       "rating             6766\n",
       "dtype: int64"
      ]
     },
     "execution_count": 9,
     "metadata": {},
     "output_type": "execute_result"
    }
   ],
   "source": [
    "data.isna().sum() #вывод всех пропущенных значений в таблице"
   ]
  },
  {
   "cell_type": "code",
   "execution_count": 10,
   "metadata": {},
   "outputs": [],
   "source": [
    "data['name'] = data['name'].fillna('unknown') #добавление имени unknown в пропущенные значения, так как имя неизвестно"
   ]
  },
  {
   "cell_type": "code",
   "execution_count": 11,
   "metadata": {},
   "outputs": [],
   "source": [
    "data['genre'] = data['genre'].fillna('unknown') #добавление жанра unknown в пропущенные значения, так как жанр неизвестен"
   ]
  },
  {
   "cell_type": "code",
   "execution_count": 12,
   "metadata": {},
   "outputs": [],
   "source": [
    "data['rating'] = data['rating'].fillna('unknown') #добавление рейтинга unknown в пропущенные значения, так как рейтинг неизвестен"
   ]
  },
  {
   "cell_type": "code",
   "execution_count": 13,
   "metadata": {},
   "outputs": [
    {
     "data": {
      "text/plain": [
       "name                  0\n",
       "platform              0\n",
       "year_of_release     269\n",
       "genre                 0\n",
       "na_sales              0\n",
       "eu_sales              0\n",
       "jp_sales              0\n",
       "other_sales           0\n",
       "critic_score       8578\n",
       "user_score         9125\n",
       "rating                0\n",
       "dtype: int64"
      ]
     },
     "execution_count": 13,
     "metadata": {},
     "output_type": "execute_result"
    }
   ],
   "source": [
    "data.isna().sum() #повторная проверка изменений"
   ]
  },
  {
   "cell_type": "markdown",
   "metadata": {},
   "source": [
    "**Задание:** Посчитайте суммарные продажи во всех регионах и запишите их в отдельный столбец."
   ]
  },
  {
   "cell_type": "code",
   "execution_count": 14,
   "metadata": {},
   "outputs": [],
   "source": [
    "data['sum_sales'] = data['na_sales'] + data['eu_sales'] + data['jp_sales'] + data['other_sales'] \n",
    "#суммирование всех продаж во всех регионах и занесение результата в столбец sum_sales"
   ]
  },
  {
   "cell_type": "markdown",
   "metadata": {},
   "source": []
  },
  {
   "cell_type": "code",
   "execution_count": 15,
   "metadata": {},
   "outputs": [
    {
     "data": {
      "text/html": [
       "<div>\n",
       "<style scoped>\n",
       "    .dataframe tbody tr th:only-of-type {\n",
       "        vertical-align: middle;\n",
       "    }\n",
       "\n",
       "    .dataframe tbody tr th {\n",
       "        vertical-align: top;\n",
       "    }\n",
       "\n",
       "    .dataframe thead th {\n",
       "        text-align: right;\n",
       "    }\n",
       "</style>\n",
       "<table border=\"1\" class=\"dataframe\">\n",
       "  <thead>\n",
       "    <tr style=\"text-align: right;\">\n",
       "      <th></th>\n",
       "      <th>name</th>\n",
       "      <th>platform</th>\n",
       "      <th>year_of_release</th>\n",
       "      <th>genre</th>\n",
       "      <th>na_sales</th>\n",
       "      <th>eu_sales</th>\n",
       "      <th>jp_sales</th>\n",
       "      <th>other_sales</th>\n",
       "      <th>critic_score</th>\n",
       "      <th>user_score</th>\n",
       "      <th>rating</th>\n",
       "      <th>sum_sales</th>\n",
       "    </tr>\n",
       "  </thead>\n",
       "  <tbody>\n",
       "    <tr>\n",
       "      <th>0</th>\n",
       "      <td>Wii Sports</td>\n",
       "      <td>Wii</td>\n",
       "      <td>2006-01-01</td>\n",
       "      <td>Sports</td>\n",
       "      <td>41.36</td>\n",
       "      <td>28.96</td>\n",
       "      <td>3.77</td>\n",
       "      <td>8.45</td>\n",
       "      <td>76.0</td>\n",
       "      <td>8.0</td>\n",
       "      <td>E</td>\n",
       "      <td>82.54</td>\n",
       "    </tr>\n",
       "    <tr>\n",
       "      <th>1</th>\n",
       "      <td>Super Mario Bros.</td>\n",
       "      <td>NES</td>\n",
       "      <td>1985-01-01</td>\n",
       "      <td>Platform</td>\n",
       "      <td>29.08</td>\n",
       "      <td>3.58</td>\n",
       "      <td>6.81</td>\n",
       "      <td>0.77</td>\n",
       "      <td>NaN</td>\n",
       "      <td>NaN</td>\n",
       "      <td>unknown</td>\n",
       "      <td>40.24</td>\n",
       "    </tr>\n",
       "    <tr>\n",
       "      <th>2</th>\n",
       "      <td>Mario Kart Wii</td>\n",
       "      <td>Wii</td>\n",
       "      <td>2008-01-01</td>\n",
       "      <td>Racing</td>\n",
       "      <td>15.68</td>\n",
       "      <td>12.76</td>\n",
       "      <td>3.79</td>\n",
       "      <td>3.29</td>\n",
       "      <td>82.0</td>\n",
       "      <td>8.3</td>\n",
       "      <td>E</td>\n",
       "      <td>35.52</td>\n",
       "    </tr>\n",
       "    <tr>\n",
       "      <th>3</th>\n",
       "      <td>Wii Sports Resort</td>\n",
       "      <td>Wii</td>\n",
       "      <td>2009-01-01</td>\n",
       "      <td>Sports</td>\n",
       "      <td>15.61</td>\n",
       "      <td>10.93</td>\n",
       "      <td>3.28</td>\n",
       "      <td>2.95</td>\n",
       "      <td>80.0</td>\n",
       "      <td>8.0</td>\n",
       "      <td>E</td>\n",
       "      <td>32.77</td>\n",
       "    </tr>\n",
       "    <tr>\n",
       "      <th>4</th>\n",
       "      <td>Pokemon Red/Pokemon Blue</td>\n",
       "      <td>GB</td>\n",
       "      <td>1996-01-01</td>\n",
       "      <td>Role-Playing</td>\n",
       "      <td>11.27</td>\n",
       "      <td>8.89</td>\n",
       "      <td>10.22</td>\n",
       "      <td>1.00</td>\n",
       "      <td>NaN</td>\n",
       "      <td>NaN</td>\n",
       "      <td>unknown</td>\n",
       "      <td>31.38</td>\n",
       "    </tr>\n",
       "  </tbody>\n",
       "</table>\n",
       "</div>"
      ],
      "text/plain": [
       "                       name platform year_of_release         genre  na_sales  \\\n",
       "0                Wii Sports      Wii      2006-01-01        Sports     41.36   \n",
       "1         Super Mario Bros.      NES      1985-01-01      Platform     29.08   \n",
       "2            Mario Kart Wii      Wii      2008-01-01        Racing     15.68   \n",
       "3         Wii Sports Resort      Wii      2009-01-01        Sports     15.61   \n",
       "4  Pokemon Red/Pokemon Blue       GB      1996-01-01  Role-Playing     11.27   \n",
       "\n",
       "   eu_sales  jp_sales  other_sales  critic_score  user_score   rating  \\\n",
       "0     28.96      3.77         8.45          76.0         8.0        E   \n",
       "1      3.58      6.81         0.77           NaN         NaN  unknown   \n",
       "2     12.76      3.79         3.29          82.0         8.3        E   \n",
       "3     10.93      3.28         2.95          80.0         8.0        E   \n",
       "4      8.89     10.22         1.00           NaN         NaN  unknown   \n",
       "\n",
       "   sum_sales  \n",
       "0      82.54  \n",
       "1      40.24  \n",
       "2      35.52  \n",
       "3      32.77  \n",
       "4      31.38  "
      ]
     },
     "execution_count": 15,
     "metadata": {},
     "output_type": "execute_result"
    }
   ],
   "source": [
    "data.head() #проверка наличия столбца sum_sales"
   ]
  },
  {
   "cell_type": "code",
   "execution_count": 16,
   "metadata": {},
   "outputs": [
    {
     "data": {
      "text/plain": [
       "array(['Wii', 'NES', 'GB', 'DS', 'X360', 'PS3', 'PS2', 'SNES', 'GBA',\n",
       "       'PS4', '3DS', 'N64', 'PS', 'XB', 'PC', '2600', 'PSP', 'XOne',\n",
       "       'WiiU', 'GC', 'GEN', 'DC', 'PSV', 'SAT', 'SCD', 'WS', 'NG', 'TG16',\n",
       "       '3DO', 'GG', 'PCFX'], dtype=object)"
      ]
     },
     "execution_count": 16,
     "metadata": {},
     "output_type": "execute_result"
    }
   ],
   "source": [
    "data['platform'].unique() #проверка на неявные дубликаты"
   ]
  },
  {
   "cell_type": "code",
   "execution_count": 17,
   "metadata": {
    "scrolled": true
   },
   "outputs": [
    {
     "data": {
      "text/plain": [
       "array(['Sports', 'Platform', 'Racing', 'Role-Playing', 'Puzzle', 'Misc',\n",
       "       'Shooter', 'Simulation', 'Action', 'Fighting', 'Adventure',\n",
       "       'Strategy', 'unknown'], dtype=object)"
      ]
     },
     "execution_count": 17,
     "metadata": {},
     "output_type": "execute_result"
    }
   ],
   "source": [
    "data['genre'].unique() #проверка на неявные дубликаты"
   ]
  },
  {
   "cell_type": "code",
   "execution_count": 18,
   "metadata": {},
   "outputs": [
    {
     "data": {
      "text/plain": [
       "array(['E', 'unknown', 'M', 'T', 'E10+', 'K-A', 'AO', 'EC', 'RP'],\n",
       "      dtype=object)"
      ]
     },
     "execution_count": 18,
     "metadata": {},
     "output_type": "execute_result"
    }
   ],
   "source": [
    "data['rating'].unique() #проверка на неявные дубликаты"
   ]
  },
  {
   "cell_type": "code",
   "execution_count": 19,
   "metadata": {},
   "outputs": [
    {
     "data": {
      "text/plain": [
       "2"
      ]
     },
     "execution_count": 19,
     "metadata": {},
     "output_type": "execute_result"
    }
   ],
   "source": [
    "data.duplicated(subset=['name', 'platform', 'year_of_release', 'genre']).sum()"
   ]
  },
  {
   "cell_type": "code",
   "execution_count": 20,
   "metadata": {},
   "outputs": [],
   "source": [
    "data = data.drop_duplicates()"
   ]
  },
  {
   "cell_type": "markdown",
   "metadata": {},
   "source": []
  },
  {
   "cell_type": "markdown",
   "metadata": {},
   "source": [
    "**Вывод по разделу:** преобразовали некоторые данные в нужные типы, описали в каких столбцах изменили тип данных и почему. Заполнили некоторый вид данных именем 'unknown'. Пропуски в столбцах year of release, critic_score, user_score нельзя ни заменить, ни удалить, так как это сильно повлияет на конечные выводы по данным. \n",
    "Причины по которым могли образоваться пропуски: не предоставлены данные, ошибки в сборе данных, технические проблемы при передаче или хранении данных. Также проверили данные на наличие неявных дубликатов.\n",
    "Значение tbd (to be defined), к сожалению, никак нельзя обработать, так как любая замена на случайное значение может изменить конечный вывод по данным, так же как и удаление данных (пропусков)."
   ]
  },
  {
   "cell_type": "markdown",
   "metadata": {},
   "source": [
    "**Шаг 3. Проведите исследовательский анализ данных**"
   ]
  },
  {
   "cell_type": "markdown",
   "metadata": {},
   "source": [
    "**Задание:** Посмотрите, сколько игр выпускалось в разные годы. Важны ли данные за все периоды?"
   ]
  },
  {
   "cell_type": "code",
   "execution_count": 21,
   "metadata": {},
   "outputs": [],
   "source": [
    "numbergames_per_year = data.groupby('year_of_release')['name'].count()"
   ]
  },
  {
   "cell_type": "code",
   "execution_count": 22,
   "metadata": {},
   "outputs": [
    {
     "data": {
      "text/plain": [
       "<AxesSubplot:title={'center':'Количество выпущенных игр по годам'}, xlabel='Год выпуска', ylabel='Количество выпущенных игр'>"
      ]
     },
     "execution_count": 22,
     "metadata": {},
     "output_type": "execute_result"
    },
    {
     "data": {
      "image/png": "[encoded data removed]",
      "text/plain": [
       "<Figure size 432x288 with 1 Axes>"
      ]
     },
     "metadata": {
      "needs_background": "light"
     },
     "output_type": "display_data"
    }
   ],
   "source": [
    "numbergames_per_year.plot(title='Количество выпущенных игр по годам', \n",
    "                          xlabel='Год выпуска', ylabel='Количество выпущенных игр') #график выпуска игр по годам"
   ]
  },
  {
   "cell_type": "markdown",
   "metadata": {},
   "source": []
  },
  {
   "cell_type": "markdown",
   "metadata": {},
   "source": [
    "**Вывод по графику** согласно графику основной выпуск игр пришелся с 1995 года. На графике отчетливо видна кривая, ползущая вниз в 2015 году. Отсюда можно сделать вывод, что данные важны с 2015 года."
   ]
  },
  {
   "cell_type": "markdown",
   "metadata": {},
   "source": [
    "**Задание:** Посмотрите, как менялись продажи по платформам. Выберите платформы с наибольшими суммарными продажами и постройте распределение по годам. За какой характерный срок появляются новые и исчезают старые платформы?"
   ]
  },
  {
   "cell_type": "code",
   "execution_count": 23,
   "metadata": {},
   "outputs": [],
   "source": [
    "sales_platforms = data.groupby('platform')['sum_sales'].sum()"
   ]
  },
  {
   "cell_type": "code",
   "execution_count": 24,
   "metadata": {},
   "outputs": [
    {
     "data": {
      "image/png": "[encoded data removed]",
      "text/plain": [
       "<Figure size 792x504 with 1 Axes>"
      ]
     },
     "metadata": {
      "needs_background": "light"
     },
     "output_type": "display_data"
    }
   ],
   "source": [
    "sales_platforms.plot(kind='bar', figsize=(11, 7), color='#73A9AD', grid=True) #построение графика для сумм продаж по платформам\n",
    "plt.title('Распределение сумм продаж с платформ')\n",
    "plt.xlabel('Платформа') \n",
    "plt.ylabel('Сумма продаж, млн копий')\n",
    "plt.show()"
   ]
  },
  {
   "cell_type": "code",
   "execution_count": 25,
   "metadata": {},
   "outputs": [
    {
     "data": {
      "text/plain": [
       "platform\n",
       "PS2     1255.77\n",
       "X360     971.42\n",
       "PS3      939.65\n",
       "Wii      907.51\n",
       "DS       806.12\n",
       "Name: sum_sales, dtype: float64"
      ]
     },
     "execution_count": 25,
     "metadata": {},
     "output_type": "execute_result"
    }
   ],
   "source": [
    "sales_platforms.sort_values(ascending=False).head(5) #вывод пяти игровых платформ с наиболее большими суммарными продажами"
   ]
  },
  {
   "cell_type": "markdown",
   "metadata": {},
   "source": [
    "**Промежуточный вывод:** платформами с самыми многочисленными суммарными продажами являются PS2, X360, PS3, Wii, DS."
   ]
  },
  {
   "cell_type": "code",
   "execution_count": 26,
   "metadata": {},
   "outputs": [],
   "source": [
    "data_platforms = data.query('platform == [\"PS2\", \"X360\", \"PS3\", \"Wii\", \"DS\"]') #получаем срез по выбранным платформам"
   ]
  },
  {
   "cell_type": "code",
   "execution_count": 27,
   "metadata": {},
   "outputs": [],
   "source": [
    "new_data = data_platforms.pivot_table(index=['platform', 'year_of_release'], values='sum_sales', aggfunc='sum') "
   ]
  },
  {
   "cell_type": "code",
   "execution_count": 28,
   "metadata": {},
   "outputs": [
    {
     "data": {
      "image/png": "[encoded data removed]",
      "text/plain": [
       "<Figure size 792x504 with 1 Axes>"
      ]
     },
     "metadata": {
      "needs_background": "light"
     },
     "output_type": "display_data"
    }
   ],
   "source": [
    "new_data.plot(kind='bar', figsize=(11, 7), color='#73A9AD', grid=True)\n",
    "plt.title('Распределение сумм продаж с пяти выбранных платформ по годам') #построение графика пяти маржинальных платформ по годам выпуска\n",
    "plt.xlabel('Платформа') \n",
    "plt.ylabel('Сумма продаж, млн копий')\n",
    "plt.show()"
   ]
  },
  {
   "cell_type": "markdown",
   "metadata": {},
   "source": [
    "**Вывод по графику:** из графика видно, что новые платформы выпускаются обычно раз в 10 лет, исключение - платформа DS. Актуальным периодом, можно считать данные с 2014 года, так как с этого периода пришелся основной спад на выпуск игр. "
   ]
  },
  {
   "cell_type": "markdown",
   "metadata": {},
   "source": [
    "Возьмите данные за соответствующий актуальный период. Актуальный период определите самостоятельно в результате исследования предыдущих вопросов. Основной фактор — эти данные помогут построить прогноз на 2017 год."
   ]
  },
  {
   "cell_type": "code",
   "execution_count": 29,
   "metadata": {},
   "outputs": [],
   "source": [
    "data_actual = data.query('year_of_release >= 2014') #выполним срез по данным с 2014 года включительно"
   ]
  },
  {
   "cell_type": "markdown",
   "metadata": {},
   "source": []
  },
  {
   "cell_type": "markdown",
   "metadata": {},
   "source": [
    "**Задание:** Не учитывайте в работе данные за предыдущие годы.\n",
    "\n",
    "Какие платформы лидируют по продажам, растут или падают? Выберите несколько потенциально прибыльных платформ."
   ]
  },
  {
   "cell_type": "code",
   "execution_count": 30,
   "metadata": {},
   "outputs": [
    {
     "data": {
      "image/png": "[encoded data removed]",
      "text/plain": [
       "<Figure size 792x504 with 1 Axes>"
      ]
     },
     "metadata": {
      "needs_background": "light"
     },
     "output_type": "display_data"
    }
   ],
   "source": [
    "data_actual.groupby('platform')['sum_sales'].sum().plot(kind='bar', figsize=(11, 7), color='#73A9AD', grid=True)\n",
    "plt.title('Распределение сумм продаж с платформ c 2015 года включительно') #построение графика всех платформ с 2000 года за все время\n",
    "plt.xlabel('Платформа') \n",
    "plt.ylabel('Сумма продаж, млн копий')\n",
    "plt.show()"
   ]
  },
  {
   "cell_type": "code",
   "execution_count": 31,
   "metadata": {},
   "outputs": [],
   "source": [
    "platform_year_sales = data_actual.groupby(['platform', 'year_of_release'])['sum_sales'].sum().reset_index()"
   ]
  },
  {
   "cell_type": "code",
   "execution_count": 32,
   "metadata": {},
   "outputs": [],
   "source": [
    "platform_year_sales_sorted = platform_year_sales.sort_values(by='sum_sales', ascending=False)"
   ]
  },
  {
   "cell_type": "code",
   "execution_count": 33,
   "metadata": {},
   "outputs": [
    {
     "data": {
      "image/png": "[encoded data removed]",
      "text/plain": [
       "<Figure size 720x432 with 1 Axes>"
      ]
     },
     "metadata": {
      "needs_background": "light"
     },
     "output_type": "display_data"
    }
   ],
   "source": [
    "plt.figure(figsize=(10, 6))                                                      #вывод графика по суммам продаж по платформам с 2000 года\n",
    "for platform in platform_year_sales['platform'].unique():  \n",
    "    subset = platform_year_sales[platform_year_sales['platform'] == platform]\n",
    "    plt.plot(subset['year_of_release'], subset['sum_sales'], label=platform)\n",
    "\n",
    "plt.title('Продажи по платформам по годам')\n",
    "plt.xlabel('Год')\n",
    "plt.ylabel('Продажи, млн копий')\n",
    "plt.legend(loc='upper left')\n",
    "plt.grid()\n",
    "plt.show()"
   ]
  },
  {
   "cell_type": "code",
   "execution_count": 34,
   "metadata": {},
   "outputs": [
    {
     "data": {
      "text/html": [
       "<div>\n",
       "<style scoped>\n",
       "    .dataframe tbody tr th:only-of-type {\n",
       "        vertical-align: middle;\n",
       "    }\n",
       "\n",
       "    .dataframe tbody tr th {\n",
       "        vertical-align: top;\n",
       "    }\n",
       "\n",
       "    .dataframe thead th {\n",
       "        text-align: right;\n",
       "    }\n",
       "</style>\n",
       "<table border=\"1\" class=\"dataframe\">\n",
       "  <thead>\n",
       "    <tr style=\"text-align: right;\">\n",
       "      <th></th>\n",
       "      <th>platform</th>\n",
       "      <th>year_of_release</th>\n",
       "      <th>sum_sales</th>\n",
       "    </tr>\n",
       "  </thead>\n",
       "  <tbody>\n",
       "    <tr>\n",
       "      <th>11</th>\n",
       "      <td>PS4</td>\n",
       "      <td>2016-01-01</td>\n",
       "      <td>69.25</td>\n",
       "    </tr>\n",
       "    <tr>\n",
       "      <th>28</th>\n",
       "      <td>XOne</td>\n",
       "      <td>2016-01-01</td>\n",
       "      <td>26.15</td>\n",
       "    </tr>\n",
       "    <tr>\n",
       "      <th>2</th>\n",
       "      <td>3DS</td>\n",
       "      <td>2016-01-01</td>\n",
       "      <td>15.14</td>\n",
       "    </tr>\n",
       "    <tr>\n",
       "      <th>5</th>\n",
       "      <td>PC</td>\n",
       "      <td>2016-01-01</td>\n",
       "      <td>5.25</td>\n",
       "    </tr>\n",
       "    <tr>\n",
       "      <th>22</th>\n",
       "      <td>WiiU</td>\n",
       "      <td>2016-01-01</td>\n",
       "      <td>4.60</td>\n",
       "    </tr>\n",
       "    <tr>\n",
       "      <th>16</th>\n",
       "      <td>PSV</td>\n",
       "      <td>2016-01-01</td>\n",
       "      <td>4.25</td>\n",
       "    </tr>\n",
       "    <tr>\n",
       "      <th>8</th>\n",
       "      <td>PS3</td>\n",
       "      <td>2016-01-01</td>\n",
       "      <td>3.60</td>\n",
       "    </tr>\n",
       "    <tr>\n",
       "      <th>25</th>\n",
       "      <td>X360</td>\n",
       "      <td>2016-01-01</td>\n",
       "      <td>1.52</td>\n",
       "    </tr>\n",
       "    <tr>\n",
       "      <th>19</th>\n",
       "      <td>Wii</td>\n",
       "      <td>2016-01-01</td>\n",
       "      <td>0.18</td>\n",
       "    </tr>\n",
       "  </tbody>\n",
       "</table>\n",
       "</div>"
      ],
      "text/plain": [
       "   platform year_of_release  sum_sales\n",
       "11      PS4      2016-01-01      69.25\n",
       "28     XOne      2016-01-01      26.15\n",
       "2       3DS      2016-01-01      15.14\n",
       "5        PC      2016-01-01       5.25\n",
       "22     WiiU      2016-01-01       4.60\n",
       "16      PSV      2016-01-01       4.25\n",
       "8       PS3      2016-01-01       3.60\n",
       "25     X360      2016-01-01       1.52\n",
       "19      Wii      2016-01-01       0.18"
      ]
     },
     "execution_count": 34,
     "metadata": {},
     "output_type": "execute_result"
    }
   ],
   "source": [
    "platform_year_sales_sorted.query('year_of_release == 2016') #вывод за 2016 год"
   ]
  },
  {
   "cell_type": "markdown",
   "metadata": {},
   "source": [
    "**Вывод по графикам:** лидируют по продажам (с 2014 года) - PS4, XOne, 3DS. В целом видна тенденция к снижению объема продаж у всех платформ с 2015 года. Из самых потенциально прибыльных к 2017 году - PS4, Xone, 3DS (согласно таблице за 2016 год и графику продажи по платформам.)"
   ]
  },
  {
   "cell_type": "markdown",
   "metadata": {},
   "source": [
    "**Задание:** Постройте график «ящик с усами» по глобальным продажам игр в разбивке по платформам. Опишите результат."
   ]
  },
  {
   "cell_type": "code",
   "execution_count": 35,
   "metadata": {},
   "outputs": [
    {
     "data": {
      "text/plain": [
       "<AxesSubplot:xlabel='sum_sales', ylabel='platform'>"
      ]
     },
     "execution_count": 35,
     "metadata": {},
     "output_type": "execute_result"
    },
    {
     "data": {
      "image/png": "[encoded data removed]",
      "text/plain": [
       "<Figure size 1296x648 with 1 Axes>"
      ]
     },
     "metadata": {
      "needs_background": "light"
     },
     "output_type": "display_data"
    }
   ],
   "source": [
    "#построение боксплота по глобальным продажам с 2015 года.\n",
    "fig, ax = plt.subplots(figsize=(18, 9))\n",
    "\n",
    "# добавдяем боксплот и устанавливаем логирифмическую шкалу\n",
    "sns.boxplot(x=\"sum_sales\", y=\"platform\",\n",
    "            data=data_actual)\n",
    "ax.set_xscale(\"log\")\n",
    "\n",
    "# добавляем точки\n",
    "sns.stripplot(data=data_actual, x='sum_sales', y='platform', size=4, color=\".3\")"
   ]
  },
  {
   "cell_type": "markdown",
   "metadata": {},
   "source": [
    "**Вывод по графику:** успешно построили график по продажами с разбивкой по платформам. Видно, что самую низкую медиану имеет платформа PSV, самую высокую - платформа WiiU. Также отчетливо видно, что многие значения по продажам сильно выбиваются из межквартильного размаха, это может указывает на широкое распределение данных. "
   ]
  },
  {
   "cell_type": "markdown",
   "metadata": {},
   "source": [
    "**Задание:** Посмотрите, как влияют на продажи внутри одной популярной платформы отзывы пользователей и критиков. Постройте диаграмму рассеяния и посчитайте корреляцию между отзывами и продажами. Сформулируйте выводы."
   ]
  },
  {
   "cell_type": "markdown",
   "metadata": {},
   "source": [
    "Возьмем в качестве примера платформу PS4."
   ]
  },
  {
   "cell_type": "code",
   "execution_count": 36,
   "metadata": {},
   "outputs": [
    {
     "data": {
      "text/plain": [
       "0.40266141068104083"
      ]
     },
     "execution_count": 36,
     "metadata": {},
     "output_type": "execute_result"
    },
    {
     "data": {
      "image/png": "[encoded data removed]",
      "text/plain": [
       "<Figure size 432x288 with 1 Axes>"
      ]
     },
     "metadata": {
      "needs_background": "light"
     },
     "output_type": "display_data"
    }
   ],
   "source": [
    "data_actual.query('platform == \"PS4\"').plot(x='critic_score', y='sum_sales', kind='scatter', title='Диграмма рассеяния critic_score | sum_sales') #вывод диаграммы рассеяния\n",
    "data_actual.query('platform == \"PS4\"')['critic_score'].corr(data_actual.query('platform == \"PS4\"')['sum_sales']) #вывод корреляции"
   ]
  },
  {
   "cell_type": "code",
   "execution_count": 37,
   "metadata": {},
   "outputs": [
    {
     "data": {
      "text/plain": [
       "-0.040131589472697356"
      ]
     },
     "execution_count": 37,
     "metadata": {},
     "output_type": "execute_result"
    },
    {
     "data": {
      "image/png": "[encoded data removed]",
      "text/plain": [
       "<Figure size 432x288 with 1 Axes>"
      ]
     },
     "metadata": {
      "needs_background": "light"
     },
     "output_type": "display_data"
    }
   ],
   "source": [
    "data_actual.query('platform == \"PS4\"').plot(x='user_score', y='sum_sales', kind='scatter', title='Диграмма рассеяния user_score | sum_sales') #вывод диаграммы рассеяния\n",
    "data_actual.query('platform == \"PS4\"')['user_score'].corr(data_actual.query('platform == \"PS4\"')['sum_sales']) #вывод корреляции"
   ]
  },
  {
   "cell_type": "markdown",
   "metadata": {},
   "source": [
    "**Вывод по графикам и корреляциям:** отзывы пользователей неощутимо влияют на сумму продаж, в то время как отзывы критиков имеют слабую положительную корреляцию с суммой продаж для платформы PS4. "
   ]
  },
  {
   "cell_type": "markdown",
   "metadata": {},
   "source": [
    "**Задание:** Соотнесите выводы с продажами игр на других платформах."
   ]
  },
  {
   "cell_type": "markdown",
   "metadata": {},
   "source": [
    "Возьмем для другого примера платформу XOne"
   ]
  },
  {
   "cell_type": "code",
   "execution_count": 38,
   "metadata": {},
   "outputs": [
    {
     "data": {
      "text/plain": [
       "0.42867694370333226"
      ]
     },
     "execution_count": 38,
     "metadata": {},
     "output_type": "execute_result"
    },
    {
     "data": {
      "image/png": "[encoded data removed]",
      "text/plain": [
       "<Figure size 432x288 with 1 Axes>"
      ]
     },
     "metadata": {
      "needs_background": "light"
     },
     "output_type": "display_data"
    }
   ],
   "source": [
    "data_actual.query('platform == \"XOne\"').plot(x='critic_score', y='sum_sales', kind='scatter', title='Диграмма рассеяния critic_score | sum_sales') #вывод диаграммы рассеяния\n",
    "data_actual.query('platform == \"XOne\"')['critic_score'].corr(data_actual.query('platform == \"XOne\"')['sum_sales']) #вывод корреляции"
   ]
  },
  {
   "cell_type": "code",
   "execution_count": 39,
   "metadata": {},
   "outputs": [
    {
     "data": {
      "text/plain": [
       "-0.0703839280647581"
      ]
     },
     "execution_count": 39,
     "metadata": {},
     "output_type": "execute_result"
    },
    {
     "data": {
      "image/png": "[encoded data removed]",
      "text/plain": [
       "<Figure size 432x288 with 1 Axes>"
      ]
     },
     "metadata": {
      "needs_background": "light"
     },
     "output_type": "display_data"
    }
   ],
   "source": [
    "data_actual.query('platform == \"XOne\"').plot(x='user_score', y='sum_sales', kind='scatter', title='Диграмма рассеяния user_score | sum_sales') #вывод диаграммы рассеяния\n",
    "data_actual.query('platform == \"XOne\"')['user_score'].corr(data_actual.query('platform == \"XOne\"')['sum_sales']) #вывод корреляции"
   ]
  },
  {
   "cell_type": "markdown",
   "metadata": {},
   "source": [
    "Возьмем для другого примера платформу 3DS"
   ]
  },
  {
   "cell_type": "code",
   "execution_count": 40,
   "metadata": {},
   "outputs": [
    {
     "data": {
      "text/plain": [
       "0.314117492869051"
      ]
     },
     "execution_count": 40,
     "metadata": {},
     "output_type": "execute_result"
    },
    {
     "data": {
      "image/png": "[encoded data removed]",
      "text/plain": [
       "<Figure size 432x288 with 1 Axes>"
      ]
     },
     "metadata": {
      "needs_background": "light"
     },
     "output_type": "display_data"
    }
   ],
   "source": [
    "data_actual.query('platform == \"3DS\"').plot(x='critic_score', y='sum_sales', kind='scatter', title='Диграмма рассеяния critic_score | sum_sales') #вывод диаграммы рассеяния\n",
    "data_actual.query('platform == \"3DS\"')['critic_score'].corr(data_actual.query('platform == \"3DS\"')['sum_sales']) #вывод корреляции"
   ]
  },
  {
   "cell_type": "code",
   "execution_count": 41,
   "metadata": {},
   "outputs": [
    {
     "data": {
      "text/plain": [
       "0.2151932718527028"
      ]
     },
     "execution_count": 41,
     "metadata": {},
     "output_type": "execute_result"
    },
    {
     "data": {
      "image/png": "[encoded data removed]",
      "text/plain": [
       "<Figure size 432x288 with 1 Axes>"
      ]
     },
     "metadata": {
      "needs_background": "light"
     },
     "output_type": "display_data"
    }
   ],
   "source": [
    "data_actual.query('platform == \"3DS\"').plot(x='user_score', y='sum_sales', kind='scatter', title='Диграмма рассеяния user_score | sum_sales') #вывод диаграммы рассеяния\n",
    "data_actual.query('platform == \"3DS\"')['user_score'].corr(data_actual.query('platform == \"3DS\"')['sum_sales']) #вывод корреляции"
   ]
  },
  {
   "cell_type": "markdown",
   "metadata": {},
   "source": [
    "**Вывод по графикам и корреляциям:** данный график подтвердил предыдущую теорию, мнение критиков действительно оказывает некоторое влияние на конечную сумму продаж, в отличии от мнения пользователей."
   ]
  },
  {
   "cell_type": "markdown",
   "metadata": {},
   "source": [
    "**Задание:** посмотрите на общее распределение игр по жанрам. Что можно сказать о самых прибыльных жанрах? Выделяются ли жанры с высокими и низкими продажами?"
   ]
  },
  {
   "cell_type": "code",
   "execution_count": 42,
   "metadata": {},
   "outputs": [],
   "source": [
    "data_genre_sum = data_actual.groupby('genre')['sum_sales'].sum().reset_index() #вывод распределения сумм продаж по жанрам."
   ]
  },
  {
   "cell_type": "code",
   "execution_count": 43,
   "metadata": {},
   "outputs": [
    {
     "data": {
      "text/html": [
       "<div>\n",
       "<style scoped>\n",
       "    .dataframe tbody tr th:only-of-type {\n",
       "        vertical-align: middle;\n",
       "    }\n",
       "\n",
       "    .dataframe tbody tr th {\n",
       "        vertical-align: top;\n",
       "    }\n",
       "\n",
       "    .dataframe thead th {\n",
       "        text-align: right;\n",
       "    }\n",
       "</style>\n",
       "<table border=\"1\" class=\"dataframe\">\n",
       "  <thead>\n",
       "    <tr style=\"text-align: right;\">\n",
       "      <th></th>\n",
       "      <th>genre</th>\n",
       "      <th>sum_sales</th>\n",
       "    </tr>\n",
       "  </thead>\n",
       "  <tbody>\n",
       "    <tr>\n",
       "      <th>0</th>\n",
       "      <td>Action</td>\n",
       "      <td>199.36</td>\n",
       "    </tr>\n",
       "    <tr>\n",
       "      <th>8</th>\n",
       "      <td>Shooter</td>\n",
       "      <td>170.94</td>\n",
       "    </tr>\n",
       "    <tr>\n",
       "      <th>10</th>\n",
       "      <td>Sports</td>\n",
       "      <td>109.48</td>\n",
       "    </tr>\n",
       "    <tr>\n",
       "      <th>7</th>\n",
       "      <td>Role-Playing</td>\n",
       "      <td>101.44</td>\n",
       "    </tr>\n",
       "    <tr>\n",
       "      <th>3</th>\n",
       "      <td>Misc</td>\n",
       "      <td>37.55</td>\n",
       "    </tr>\n",
       "    <tr>\n",
       "      <th>2</th>\n",
       "      <td>Fighting</td>\n",
       "      <td>28.22</td>\n",
       "    </tr>\n",
       "    <tr>\n",
       "      <th>6</th>\n",
       "      <td>Racing</td>\n",
       "      <td>27.52</td>\n",
       "    </tr>\n",
       "    <tr>\n",
       "      <th>4</th>\n",
       "      <td>Platform</td>\n",
       "      <td>18.09</td>\n",
       "    </tr>\n",
       "    <tr>\n",
       "      <th>1</th>\n",
       "      <td>Adventure</td>\n",
       "      <td>17.55</td>\n",
       "    </tr>\n",
       "    <tr>\n",
       "      <th>9</th>\n",
       "      <td>Simulation</td>\n",
       "      <td>13.13</td>\n",
       "    </tr>\n",
       "    <tr>\n",
       "      <th>11</th>\n",
       "      <td>Strategy</td>\n",
       "      <td>3.96</td>\n",
       "    </tr>\n",
       "    <tr>\n",
       "      <th>5</th>\n",
       "      <td>Puzzle</td>\n",
       "      <td>2.21</td>\n",
       "    </tr>\n",
       "  </tbody>\n",
       "</table>\n",
       "</div>"
      ],
      "text/plain": [
       "           genre  sum_sales\n",
       "0         Action     199.36\n",
       "8        Shooter     170.94\n",
       "10        Sports     109.48\n",
       "7   Role-Playing     101.44\n",
       "3           Misc      37.55\n",
       "2       Fighting      28.22\n",
       "6         Racing      27.52\n",
       "4       Platform      18.09\n",
       "1      Adventure      17.55\n",
       "9     Simulation      13.13\n",
       "11      Strategy       3.96\n",
       "5         Puzzle       2.21"
      ]
     },
     "execution_count": 43,
     "metadata": {},
     "output_type": "execute_result"
    }
   ],
   "source": [
    "data_genre_sum.sort_values(by='sum_sales', ascending=False) "
   ]
  },
  {
   "cell_type": "code",
   "execution_count": 44,
   "metadata": {},
   "outputs": [
    {
     "data": {
      "text/plain": [
       "<AxesSubplot:xlabel='sum_sales', ylabel='genre'>"
      ]
     },
     "execution_count": 44,
     "metadata": {},
     "output_type": "execute_result"
    },
    {
     "data": {
      "image/png": "[encoded data removed]",
      "text/plain": [
       "<Figure size 1296x648 with 1 Axes>"
      ]
     },
     "metadata": {
      "needs_background": "light"
     },
     "output_type": "display_data"
    }
   ],
   "source": [
    "#построение боксплота \n",
    "fig, ax = plt.subplots(figsize=(18, 9))\n",
    "\n",
    "# добавдяем боксплот и устанавливаем логирифмическую шкалу\n",
    "sns.boxplot(x=\"sum_sales\", y=\"genre\",\n",
    "            data=data_actual)\n",
    "ax.set_xscale(\"log\")\n",
    "\n",
    "# добавляем точки\n",
    "sns.stripplot(data=data_actual, x='sum_sales', y='genre', size=4, color=\".3\")"
   ]
  },
  {
   "cell_type": "markdown",
   "metadata": {},
   "source": [
    "**Вывод по таблице:** самым продаваемым жанром является жанр Shooter, самым нерентабельным - жанр Adventure. "
   ]
  },
  {
   "cell_type": "markdown",
   "metadata": {},
   "source": []
  },
  {
   "cell_type": "markdown",
   "metadata": {},
   "source": [
    "**Вывод по разделу:** успешно провели исследовательский анализ данных, в ходе которого построили различные графики, гистограммы и таблицы. Было показано, что актуальные период для исследования данных являются данные с 2014 года. Также была показана корреляция между отзывами критиков и сумм продаж (выявилась слабая положительная корреляция). А самым прибыльным жанром оказался жанр Shooter."
   ]
  },
  {
   "cell_type": "markdown",
   "metadata": {},
   "source": [
    "**Шаг 4. Составьте портрет пользователя каждого региона**"
   ]
  },
  {
   "cell_type": "markdown",
   "metadata": {},
   "source": [
    "**Задание:** Определите для пользователя каждого региона (NA, EU, JP):\n",
    "- Самые популярные платформы (топ-5). Опишите различия в долях продаж."
   ]
  },
  {
   "cell_type": "code",
   "execution_count": 45,
   "metadata": {},
   "outputs": [],
   "source": [
    "data_na_sales = data_actual.groupby('platform')['na_sales'].sum().reset_index() #вывод распределения сумм продаж по северной америке."
   ]
  },
  {
   "cell_type": "code",
   "execution_count": 46,
   "metadata": {},
   "outputs": [],
   "source": [
    "data_eu_sales = data_actual.groupby('platform')['eu_sales'].sum().reset_index() #вывод распределения сумм продаж по европе."
   ]
  },
  {
   "cell_type": "code",
   "execution_count": 47,
   "metadata": {},
   "outputs": [],
   "source": [
    "data_jp_sales = data_actual.groupby('platform')['jp_sales'].sum().reset_index() #вывод распределения сумм продаж по японии."
   ]
  },
  {
   "cell_type": "code",
   "execution_count": 48,
   "metadata": {},
   "outputs": [
    {
     "data": {
      "text/html": [
       "<div>\n",
       "<style scoped>\n",
       "    .dataframe tbody tr th:only-of-type {\n",
       "        vertical-align: middle;\n",
       "    }\n",
       "\n",
       "    .dataframe tbody tr th {\n",
       "        vertical-align: top;\n",
       "    }\n",
       "\n",
       "    .dataframe thead th {\n",
       "        text-align: right;\n",
       "    }\n",
       "</style>\n",
       "<table border=\"1\" class=\"dataframe\">\n",
       "  <thead>\n",
       "    <tr style=\"text-align: right;\">\n",
       "      <th></th>\n",
       "      <th>platform</th>\n",
       "      <th>na_sales</th>\n",
       "    </tr>\n",
       "  </thead>\n",
       "  <tbody>\n",
       "    <tr>\n",
       "      <th>3</th>\n",
       "      <td>PS4</td>\n",
       "      <td>98.61</td>\n",
       "    </tr>\n",
       "    <tr>\n",
       "      <th>9</th>\n",
       "      <td>XOne</td>\n",
       "      <td>81.27</td>\n",
       "    </tr>\n",
       "    <tr>\n",
       "      <th>8</th>\n",
       "      <td>X360</td>\n",
       "      <td>28.30</td>\n",
       "    </tr>\n",
       "    <tr>\n",
       "      <th>0</th>\n",
       "      <td>3DS</td>\n",
       "      <td>22.64</td>\n",
       "    </tr>\n",
       "    <tr>\n",
       "      <th>2</th>\n",
       "      <td>PS3</td>\n",
       "      <td>22.05</td>\n",
       "    </tr>\n",
       "  </tbody>\n",
       "</table>\n",
       "</div>"
      ],
      "text/plain": [
       "  platform  na_sales\n",
       "3      PS4     98.61\n",
       "9     XOne     81.27\n",
       "8     X360     28.30\n",
       "0      3DS     22.64\n",
       "2      PS3     22.05"
      ]
     },
     "execution_count": 48,
     "metadata": {},
     "output_type": "execute_result"
    }
   ],
   "source": [
    "data_na_sales.sort_values(by='na_sales', ascending=False).head() #вывод пяти самых популярных платформ для северной америки"
   ]
  },
  {
   "cell_type": "code",
   "execution_count": 49,
   "metadata": {},
   "outputs": [
    {
     "data": {
      "text/html": [
       "<div>\n",
       "<style scoped>\n",
       "    .dataframe tbody tr th:only-of-type {\n",
       "        vertical-align: middle;\n",
       "    }\n",
       "\n",
       "    .dataframe tbody tr th {\n",
       "        vertical-align: top;\n",
       "    }\n",
       "\n",
       "    .dataframe thead th {\n",
       "        text-align: right;\n",
       "    }\n",
       "</style>\n",
       "<table border=\"1\" class=\"dataframe\">\n",
       "  <thead>\n",
       "    <tr style=\"text-align: right;\">\n",
       "      <th></th>\n",
       "      <th>platform</th>\n",
       "      <th>eu_sales</th>\n",
       "    </tr>\n",
       "  </thead>\n",
       "  <tbody>\n",
       "    <tr>\n",
       "      <th>3</th>\n",
       "      <td>PS4</td>\n",
       "      <td>130.04</td>\n",
       "    </tr>\n",
       "    <tr>\n",
       "      <th>9</th>\n",
       "      <td>XOne</td>\n",
       "      <td>46.25</td>\n",
       "    </tr>\n",
       "    <tr>\n",
       "      <th>2</th>\n",
       "      <td>PS3</td>\n",
       "      <td>25.54</td>\n",
       "    </tr>\n",
       "    <tr>\n",
       "      <th>1</th>\n",
       "      <td>PC</td>\n",
       "      <td>17.97</td>\n",
       "    </tr>\n",
       "    <tr>\n",
       "      <th>0</th>\n",
       "      <td>3DS</td>\n",
       "      <td>16.12</td>\n",
       "    </tr>\n",
       "  </tbody>\n",
       "</table>\n",
       "</div>"
      ],
      "text/plain": [
       "  platform  eu_sales\n",
       "3      PS4    130.04\n",
       "9     XOne     46.25\n",
       "2      PS3     25.54\n",
       "1       PC     17.97\n",
       "0      3DS     16.12"
      ]
     },
     "execution_count": 49,
     "metadata": {},
     "output_type": "execute_result"
    }
   ],
   "source": [
    "data_eu_sales.sort_values(by='eu_sales', ascending=False).head() #вывод пяти самых популярных платформ для европы"
   ]
  },
  {
   "cell_type": "code",
   "execution_count": 50,
   "metadata": {},
   "outputs": [
    {
     "data": {
      "text/html": [
       "<div>\n",
       "<style scoped>\n",
       "    .dataframe tbody tr th:only-of-type {\n",
       "        vertical-align: middle;\n",
       "    }\n",
       "\n",
       "    .dataframe tbody tr th {\n",
       "        vertical-align: top;\n",
       "    }\n",
       "\n",
       "    .dataframe thead th {\n",
       "        text-align: right;\n",
       "    }\n",
       "</style>\n",
       "<table border=\"1\" class=\"dataframe\">\n",
       "  <thead>\n",
       "    <tr style=\"text-align: right;\">\n",
       "      <th></th>\n",
       "      <th>platform</th>\n",
       "      <th>jp_sales</th>\n",
       "    </tr>\n",
       "  </thead>\n",
       "  <tbody>\n",
       "    <tr>\n",
       "      <th>0</th>\n",
       "      <td>3DS</td>\n",
       "      <td>44.24</td>\n",
       "    </tr>\n",
       "    <tr>\n",
       "      <th>3</th>\n",
       "      <td>PS4</td>\n",
       "      <td>15.02</td>\n",
       "    </tr>\n",
       "    <tr>\n",
       "      <th>5</th>\n",
       "      <td>PSV</td>\n",
       "      <td>14.54</td>\n",
       "    </tr>\n",
       "    <tr>\n",
       "      <th>2</th>\n",
       "      <td>PS3</td>\n",
       "      <td>11.22</td>\n",
       "    </tr>\n",
       "    <tr>\n",
       "      <th>7</th>\n",
       "      <td>WiiU</td>\n",
       "      <td>7.31</td>\n",
       "    </tr>\n",
       "  </tbody>\n",
       "</table>\n",
       "</div>"
      ],
      "text/plain": [
       "  platform  jp_sales\n",
       "0      3DS     44.24\n",
       "3      PS4     15.02\n",
       "5      PSV     14.54\n",
       "2      PS3     11.22\n",
       "7     WiiU      7.31"
      ]
     },
     "execution_count": 50,
     "metadata": {},
     "output_type": "execute_result"
    }
   ],
   "source": [
    "data_jp_sales.sort_values(by='jp_sales', ascending=False).head() #вывод пяти самых популярных платформ для японии"
   ]
  },
  {
   "cell_type": "markdown",
   "metadata": {},
   "source": [
    "**Вывод:** из таблиц видны пять самых популярных платформ для различных регионов с 2014 года. Самыми популярными платформами являются PS4, XOne, X360 для Северной Америки. Для Европы: PS4, XOne, PS3. Для Японии: 3DS, PS4, PSV. Также видно, что с 2014 года доля продаж для 5 востребованных платформ значительно меньше, чем для Европы и Северной Америки.  "
   ]
  },
  {
   "cell_type": "markdown",
   "metadata": {},
   "source": [
    "**Задание:** \n",
    "- Самые популярные жанры (топ-5). Поясните разницу."
   ]
  },
  {
   "cell_type": "code",
   "execution_count": 51,
   "metadata": {},
   "outputs": [],
   "source": [
    "data_na_genre = data_actual.groupby('genre')['na_sales'].sum().reset_index()"
   ]
  },
  {
   "cell_type": "code",
   "execution_count": 52,
   "metadata": {},
   "outputs": [],
   "source": [
    "data_eu_genre = data_actual.groupby('genre')['eu_sales'].sum().reset_index()"
   ]
  },
  {
   "cell_type": "code",
   "execution_count": 53,
   "metadata": {},
   "outputs": [],
   "source": [
    "data_jp_genre = data_actual.groupby('genre')['jp_sales'].sum().reset_index()"
   ]
  },
  {
   "cell_type": "code",
   "execution_count": 54,
   "metadata": {},
   "outputs": [
    {
     "data": {
      "text/html": [
       "<div>\n",
       "<style scoped>\n",
       "    .dataframe tbody tr th:only-of-type {\n",
       "        vertical-align: middle;\n",
       "    }\n",
       "\n",
       "    .dataframe tbody tr th {\n",
       "        vertical-align: top;\n",
       "    }\n",
       "\n",
       "    .dataframe thead th {\n",
       "        text-align: right;\n",
       "    }\n",
       "</style>\n",
       "<table border=\"1\" class=\"dataframe\">\n",
       "  <thead>\n",
       "    <tr style=\"text-align: right;\">\n",
       "      <th></th>\n",
       "      <th>genre</th>\n",
       "      <th>na_sales</th>\n",
       "    </tr>\n",
       "  </thead>\n",
       "  <tbody>\n",
       "    <tr>\n",
       "      <th>8</th>\n",
       "      <td>Shooter</td>\n",
       "      <td>79.02</td>\n",
       "    </tr>\n",
       "    <tr>\n",
       "      <th>0</th>\n",
       "      <td>Action</td>\n",
       "      <td>72.53</td>\n",
       "    </tr>\n",
       "    <tr>\n",
       "      <th>10</th>\n",
       "      <td>Sports</td>\n",
       "      <td>46.13</td>\n",
       "    </tr>\n",
       "    <tr>\n",
       "      <th>7</th>\n",
       "      <td>Role-Playing</td>\n",
       "      <td>33.47</td>\n",
       "    </tr>\n",
       "    <tr>\n",
       "      <th>3</th>\n",
       "      <td>Misc</td>\n",
       "      <td>15.05</td>\n",
       "    </tr>\n",
       "  </tbody>\n",
       "</table>\n",
       "</div>"
      ],
      "text/plain": [
       "           genre  na_sales\n",
       "8        Shooter     79.02\n",
       "0         Action     72.53\n",
       "10        Sports     46.13\n",
       "7   Role-Playing     33.47\n",
       "3           Misc     15.05"
      ]
     },
     "execution_count": 54,
     "metadata": {},
     "output_type": "execute_result"
    }
   ],
   "source": [
    "data_na_genre.sort_values(by='na_sales', ascending=False).head()"
   ]
  },
  {
   "cell_type": "code",
   "execution_count": 55,
   "metadata": {},
   "outputs": [
    {
     "data": {
      "text/html": [
       "<div>\n",
       "<style scoped>\n",
       "    .dataframe tbody tr th:only-of-type {\n",
       "        vertical-align: middle;\n",
       "    }\n",
       "\n",
       "    .dataframe tbody tr th {\n",
       "        vertical-align: top;\n",
       "    }\n",
       "\n",
       "    .dataframe thead th {\n",
       "        text-align: right;\n",
       "    }\n",
       "</style>\n",
       "<table border=\"1\" class=\"dataframe\">\n",
       "  <thead>\n",
       "    <tr style=\"text-align: right;\">\n",
       "      <th></th>\n",
       "      <th>genre</th>\n",
       "      <th>eu_sales</th>\n",
       "    </tr>\n",
       "  </thead>\n",
       "  <tbody>\n",
       "    <tr>\n",
       "      <th>0</th>\n",
       "      <td>Action</td>\n",
       "      <td>74.68</td>\n",
       "    </tr>\n",
       "    <tr>\n",
       "      <th>8</th>\n",
       "      <td>Shooter</td>\n",
       "      <td>65.52</td>\n",
       "    </tr>\n",
       "    <tr>\n",
       "      <th>10</th>\n",
       "      <td>Sports</td>\n",
       "      <td>45.73</td>\n",
       "    </tr>\n",
       "    <tr>\n",
       "      <th>7</th>\n",
       "      <td>Role-Playing</td>\n",
       "      <td>28.17</td>\n",
       "    </tr>\n",
       "    <tr>\n",
       "      <th>6</th>\n",
       "      <td>Racing</td>\n",
       "      <td>14.13</td>\n",
       "    </tr>\n",
       "  </tbody>\n",
       "</table>\n",
       "</div>"
      ],
      "text/plain": [
       "           genre  eu_sales\n",
       "0         Action     74.68\n",
       "8        Shooter     65.52\n",
       "10        Sports     45.73\n",
       "7   Role-Playing     28.17\n",
       "6         Racing     14.13"
      ]
     },
     "execution_count": 55,
     "metadata": {},
     "output_type": "execute_result"
    }
   ],
   "source": [
    "data_eu_genre.sort_values(by='eu_sales', ascending=False).head()"
   ]
  },
  {
   "cell_type": "code",
   "execution_count": 56,
   "metadata": {},
   "outputs": [
    {
     "data": {
      "text/html": [
       "<div>\n",
       "<style scoped>\n",
       "    .dataframe tbody tr th:only-of-type {\n",
       "        vertical-align: middle;\n",
       "    }\n",
       "\n",
       "    .dataframe tbody tr th {\n",
       "        vertical-align: top;\n",
       "    }\n",
       "\n",
       "    .dataframe thead th {\n",
       "        text-align: right;\n",
       "    }\n",
       "</style>\n",
       "<table border=\"1\" class=\"dataframe\">\n",
       "  <thead>\n",
       "    <tr style=\"text-align: right;\">\n",
       "      <th></th>\n",
       "      <th>genre</th>\n",
       "      <th>jp_sales</th>\n",
       "    </tr>\n",
       "  </thead>\n",
       "  <tbody>\n",
       "    <tr>\n",
       "      <th>7</th>\n",
       "      <td>Role-Playing</td>\n",
       "      <td>31.16</td>\n",
       "    </tr>\n",
       "    <tr>\n",
       "      <th>0</th>\n",
       "      <td>Action</td>\n",
       "      <td>29.58</td>\n",
       "    </tr>\n",
       "    <tr>\n",
       "      <th>2</th>\n",
       "      <td>Fighting</td>\n",
       "      <td>6.37</td>\n",
       "    </tr>\n",
       "    <tr>\n",
       "      <th>3</th>\n",
       "      <td>Misc</td>\n",
       "      <td>5.61</td>\n",
       "    </tr>\n",
       "    <tr>\n",
       "      <th>8</th>\n",
       "      <td>Shooter</td>\n",
       "      <td>4.87</td>\n",
       "    </tr>\n",
       "  </tbody>\n",
       "</table>\n",
       "</div>"
      ],
      "text/plain": [
       "          genre  jp_sales\n",
       "7  Role-Playing     31.16\n",
       "0        Action     29.58\n",
       "2      Fighting      6.37\n",
       "3          Misc      5.61\n",
       "8       Shooter      4.87"
      ]
     },
     "execution_count": 56,
     "metadata": {},
     "output_type": "execute_result"
    }
   ],
   "source": [
    "data_jp_genre.sort_values(by='jp_sales', ascending=False).head()"
   ]
  },
  {
   "cell_type": "markdown",
   "metadata": {},
   "source": [
    "**Вывод:** в Северной Америке и Европе топ популярных жанров практически один и тот же, с различием по пятому месту, в северной Америке это Shooter, в Европе - Action. Что касается Японии, то такие жанры как action, shooter также входят в пятерку, но на первом месте тут Role-Playing. "
   ]
  },
  {
   "cell_type": "markdown",
   "metadata": {},
   "source": [
    "**Задание:**\n",
    "- Влияет ли рейтинг ESRB на продажи в отдельном регионе?"
   ]
  },
  {
   "cell_type": "code",
   "execution_count": 57,
   "metadata": {},
   "outputs": [],
   "source": [
    "data_na_rating = data_actual.groupby('rating')['na_sales'].sum().reset_index()"
   ]
  },
  {
   "cell_type": "code",
   "execution_count": 58,
   "metadata": {},
   "outputs": [],
   "source": [
    "data_eu_rating = data_actual.groupby('rating')['eu_sales'].sum().reset_index()"
   ]
  },
  {
   "cell_type": "code",
   "execution_count": 59,
   "metadata": {},
   "outputs": [],
   "source": [
    "data_jp_rating = data_actual.groupby('rating')['jp_sales'].sum().reset_index()"
   ]
  },
  {
   "cell_type": "code",
   "execution_count": 60,
   "metadata": {},
   "outputs": [
    {
     "data": {
      "text/html": [
       "<div>\n",
       "<style scoped>\n",
       "    .dataframe tbody tr th:only-of-type {\n",
       "        vertical-align: middle;\n",
       "    }\n",
       "\n",
       "    .dataframe tbody tr th {\n",
       "        vertical-align: top;\n",
       "    }\n",
       "\n",
       "    .dataframe thead th {\n",
       "        text-align: right;\n",
       "    }\n",
       "</style>\n",
       "<table border=\"1\" class=\"dataframe\">\n",
       "  <thead>\n",
       "    <tr style=\"text-align: right;\">\n",
       "      <th></th>\n",
       "      <th>rating</th>\n",
       "      <th>na_sales</th>\n",
       "    </tr>\n",
       "  </thead>\n",
       "  <tbody>\n",
       "    <tr>\n",
       "      <th>2</th>\n",
       "      <td>M</td>\n",
       "      <td>96.42</td>\n",
       "    </tr>\n",
       "    <tr>\n",
       "      <th>4</th>\n",
       "      <td>unknown</td>\n",
       "      <td>64.72</td>\n",
       "    </tr>\n",
       "    <tr>\n",
       "      <th>0</th>\n",
       "      <td>E</td>\n",
       "      <td>50.74</td>\n",
       "    </tr>\n",
       "    <tr>\n",
       "      <th>3</th>\n",
       "      <td>T</td>\n",
       "      <td>38.95</td>\n",
       "    </tr>\n",
       "    <tr>\n",
       "      <th>1</th>\n",
       "      <td>E10+</td>\n",
       "      <td>33.23</td>\n",
       "    </tr>\n",
       "  </tbody>\n",
       "</table>\n",
       "</div>"
      ],
      "text/plain": [
       "    rating  na_sales\n",
       "2        M     96.42\n",
       "4  unknown     64.72\n",
       "0        E     50.74\n",
       "3        T     38.95\n",
       "1     E10+     33.23"
      ]
     },
     "execution_count": 60,
     "metadata": {},
     "output_type": "execute_result"
    }
   ],
   "source": [
    "data_na_rating.sort_values(by='na_sales', ascending=False)"
   ]
  },
  {
   "cell_type": "code",
   "execution_count": 61,
   "metadata": {},
   "outputs": [
    {
     "data": {
      "text/html": [
       "<div>\n",
       "<style scoped>\n",
       "    .dataframe tbody tr th:only-of-type {\n",
       "        vertical-align: middle;\n",
       "    }\n",
       "\n",
       "    .dataframe tbody tr th {\n",
       "        vertical-align: top;\n",
       "    }\n",
       "\n",
       "    .dataframe thead th {\n",
       "        text-align: right;\n",
       "    }\n",
       "</style>\n",
       "<table border=\"1\" class=\"dataframe\">\n",
       "  <thead>\n",
       "    <tr style=\"text-align: right;\">\n",
       "      <th></th>\n",
       "      <th>rating</th>\n",
       "      <th>eu_sales</th>\n",
       "    </tr>\n",
       "  </thead>\n",
       "  <tbody>\n",
       "    <tr>\n",
       "      <th>2</th>\n",
       "      <td>M</td>\n",
       "      <td>93.44</td>\n",
       "    </tr>\n",
       "    <tr>\n",
       "      <th>4</th>\n",
       "      <td>unknown</td>\n",
       "      <td>58.95</td>\n",
       "    </tr>\n",
       "    <tr>\n",
       "      <th>0</th>\n",
       "      <td>E</td>\n",
       "      <td>58.06</td>\n",
       "    </tr>\n",
       "    <tr>\n",
       "      <th>3</th>\n",
       "      <td>T</td>\n",
       "      <td>34.07</td>\n",
       "    </tr>\n",
       "    <tr>\n",
       "      <th>1</th>\n",
       "      <td>E10+</td>\n",
       "      <td>26.16</td>\n",
       "    </tr>\n",
       "  </tbody>\n",
       "</table>\n",
       "</div>"
      ],
      "text/plain": [
       "    rating  eu_sales\n",
       "2        M     93.44\n",
       "4  unknown     58.95\n",
       "0        E     58.06\n",
       "3        T     34.07\n",
       "1     E10+     26.16"
      ]
     },
     "execution_count": 61,
     "metadata": {},
     "output_type": "execute_result"
    }
   ],
   "source": [
    "data_eu_rating.sort_values(by='eu_sales', ascending=False)"
   ]
  },
  {
   "cell_type": "code",
   "execution_count": 62,
   "metadata": {},
   "outputs": [
    {
     "data": {
      "text/html": [
       "<div>\n",
       "<style scoped>\n",
       "    .dataframe tbody tr th:only-of-type {\n",
       "        vertical-align: middle;\n",
       "    }\n",
       "\n",
       "    .dataframe tbody tr th {\n",
       "        vertical-align: top;\n",
       "    }\n",
       "\n",
       "    .dataframe thead th {\n",
       "        text-align: right;\n",
       "    }\n",
       "</style>\n",
       "<table border=\"1\" class=\"dataframe\">\n",
       "  <thead>\n",
       "    <tr style=\"text-align: right;\">\n",
       "      <th></th>\n",
       "      <th>rating</th>\n",
       "      <th>jp_sales</th>\n",
       "    </tr>\n",
       "  </thead>\n",
       "  <tbody>\n",
       "    <tr>\n",
       "      <th>4</th>\n",
       "      <td>unknown</td>\n",
       "      <td>56.90</td>\n",
       "    </tr>\n",
       "    <tr>\n",
       "      <th>3</th>\n",
       "      <td>T</td>\n",
       "      <td>14.78</td>\n",
       "    </tr>\n",
       "    <tr>\n",
       "      <th>0</th>\n",
       "      <td>E</td>\n",
       "      <td>8.94</td>\n",
       "    </tr>\n",
       "    <tr>\n",
       "      <th>2</th>\n",
       "      <td>M</td>\n",
       "      <td>8.01</td>\n",
       "    </tr>\n",
       "    <tr>\n",
       "      <th>1</th>\n",
       "      <td>E10+</td>\n",
       "      <td>4.46</td>\n",
       "    </tr>\n",
       "  </tbody>\n",
       "</table>\n",
       "</div>"
      ],
      "text/plain": [
       "    rating  jp_sales\n",
       "4  unknown     56.90\n",
       "3        T     14.78\n",
       "0        E      8.94\n",
       "2        M      8.01\n",
       "1     E10+      4.46"
      ]
     },
     "execution_count": 62,
     "metadata": {},
     "output_type": "execute_result"
    }
   ],
   "source": [
    "data_jp_rating.sort_values(by='jp_sales', ascending=False)"
   ]
  },
  {
   "cell_type": "markdown",
   "metadata": {},
   "source": [
    "**Вывод по таблицам:** Пример рейтингов ESRB:\n",
    "E (Everyone): Подходит для всех возрастов.\n",
    "E10+ (Everyone 10+): Подходит для детей от 10 лет и старше.\n",
    "T (Teen): Подходит для подростков от 13 лет и старше.\n",
    "M (Mature): Подходит для взрослых от 17 лет и старше.\n",
    "AO (Adults Only): Подходит только для взрослых (18+).\n",
    "RP (Rating Pending): Рейтинг находится в процессе рассмотрения. \n",
    "\n",
    "Согласно данным таблиц, рейтинг действительно влияет на совокупность продаж во всех регионах. Показано, что рейтинг M (для взрослых) самый высоко-маржинальный. Далее идет рейтинг для всех. Тем не менее, нельзя сказать что рейтинг как-то отдельно влияет на совокупность продаж в конкретном регионе. "
   ]
  },
  {
   "cell_type": "markdown",
   "metadata": {},
   "source": [
    "**Вывод по разделу:** успешно составили портрет пользователя каждого региона. Самый распространенные типы покупателей: для северной америки - держатель платформы PS4, жанр игр Shooter, категория игр M. Для европы - держатель платформы PS4, жанр игр Action, категория игр M. Для Японии - платформа 3DS, жанр Role-Playing, категория - для подростков."
   ]
  },
  {
   "cell_type": "markdown",
   "metadata": {},
   "source": []
  },
  {
   "cell_type": "markdown",
   "metadata": {},
   "source": [
    "**Шаг 5. Проверьте гипотезы**"
   ]
  },
  {
   "cell_type": "markdown",
   "metadata": {},
   "source": [
    "**Задание:** Средние пользовательские рейтинги платформ Xbox One и PC одинаковые;"
   ]
  },
  {
   "cell_type": "markdown",
   "metadata": {},
   "source": [
    "Нулевая гипотеза: средние пользовательские рейтинги платформ Xone и PC одинаковы.\n",
    "\n",
    "Альтернативная гипотеза: средние пользователские рейтинги платформ Xone и PC разные"
   ]
  },
  {
   "cell_type": "markdown",
   "metadata": {},
   "source": [
    "<div class=\"alert alert-block alert-success\">✔️\n",
    "    \n",
    "\n",
    "__Комментарий от ревьюера №1__\n",
    "\n",
    "Гипотезы верные. Отлично!\n",
    "</div>"
   ]
  },
  {
   "cell_type": "markdown",
   "metadata": {},
   "source": []
  },
  {
   "cell_type": "code",
   "execution_count": 63,
   "metadata": {},
   "outputs": [],
   "source": [
    "data_stat = data_actual.query('platform == \"XOne\"')['user_score'].reset_index()  #вывод нужных датафреймов\n",
    "data_stat2 = data_actual.query('platform == \"PC\"')['user_score'].reset_index()\n",
    "data_stat_filtered = data_stat.dropna()\n",
    "data_stat2_filtered = data_stat2.dropna()"
   ]
  },
  {
   "cell_type": "code",
   "execution_count": 64,
   "metadata": {},
   "outputs": [
    {
     "name": "stdout",
     "output_type": "stream",
     "text": [
      "среднее первой выборки - Xone: 6.594545454545456\n",
      "среднее первой выборки - PC: 6.298360655737705\n",
      "p-значение: 0.10450507919348415\n",
      "Не получилось отвергнуть нулевую гипотезу\n"
     ]
    }
   ],
   "source": [
    "print('среднее первой выборки - Xone:', np.mean(data_stat_filtered['user_score']))   #проверка статистической гипотезы\n",
    "print('среднее первой выборки - PC:', np.mean(data_stat2_filtered['user_score']))\n",
    "alpha = 0.05\n",
    "results = st.ttest_ind(data_stat_filtered['user_score'], data_stat2_filtered['user_score'])\n",
    "print('p-значение:', results.pvalue)\n",
    "if results.pvalue < alpha:\n",
    "    print('Отвергаем нулевую гипотезу')\n",
    "else:\n",
    "    print('Не получилось отвергнуть нулевую гипотезу')"
   ]
  },
  {
   "cell_type": "markdown",
   "metadata": {},
   "source": [
    "**Вывод:** согласно статистическому тесту, можно сказать, что средние пользовательские рейтинги платформ XOne и PC одинаковы."
   ]
  },
  {
   "cell_type": "markdown",
   "metadata": {},
   "source": [
    "**Задание:** Средние пользовательские рейтинги жанров Action (англ. «действие», экшен-игры) и Sports (англ. «спортивные соревнования») одинаковые."
   ]
  },
  {
   "cell_type": "markdown",
   "metadata": {},
   "source": [
    "Нулевая гипотеза: средние пользовательские рейтинги жанров Action и Sports одинаковы.\n",
    "\n",
    "Альтернативная гипотеза: средние пользователские рейтинги жанров Action и Sports разные"
   ]
  },
  {
   "cell_type": "code",
   "execution_count": 65,
   "metadata": {},
   "outputs": [],
   "source": [
    "data_stat3 = data_actual.query('genre == \"Action\"')['user_score'].reset_index()\n",
    "data_stat4 = data_actual.query('genre == \"Sports\"')['user_score'].reset_index()\n",
    "data_stat3_filtered = data_stat3.dropna()\n",
    "data_stat4_filtered = data_stat4.dropna()"
   ]
  },
  {
   "cell_type": "code",
   "execution_count": 66,
   "metadata": {},
   "outputs": [
    {
     "name": "stdout",
     "output_type": "stream",
     "text": [
      "среднее первой выборки - Action: 6.760606060606061\n",
      "среднее первой выборки - Sports: 5.2251968503937\n",
      "p-значение: 2.8711147985105864e-19\n",
      "Отвергаем нулевую гипотезу\n"
     ]
    }
   ],
   "source": [
    "print('среднее первой выборки - Action:', np.mean(data_stat3_filtered['user_score']))   #проверка статистической гипотезы\n",
    "print('среднее первой выборки - Sports:', np.mean(data_stat4_filtered['user_score']))\n",
    "alpha = 0.05\n",
    "results = st.ttest_ind(data_stat3_filtered['user_score'], data_stat4_filtered['user_score'])\n",
    "print('p-значение:', results.pvalue)\n",
    "if results.pvalue < alpha:\n",
    "    print('Отвергаем нулевую гипотезу')\n",
    "else:\n",
    "    print('Не получилось отвергнуть нулевую гипотезу')"
   ]
  },
  {
   "cell_type": "markdown",
   "metadata": {},
   "source": [
    "**Вывод:** согласно статистическому тесту, можно сказать, что средние пользовательские рейтинги жанров игр Action и Sports статистически разные"
   ]
  },
  {
   "cell_type": "markdown",
   "metadata": {},
   "source": [
    "**Задание:** Какой критерий применили для проверки гипотез и почему."
   ]
  },
  {
   "cell_type": "markdown",
   "metadata": {},
   "source": [
    "Ответ: Применили двухвыборочный t-тест для независимых выборок. Так-как требуется проверить две независимые выборки."
   ]
  },
  {
   "cell_type": "markdown",
   "metadata": {},
   "source": [
    "**Шаг 6. Напишите общий вывод**"
   ]
  },
  {
   "cell_type": "markdown",
   "metadata": {},
   "source": [
    "**Итоговый вывод:** в ходе проекта успешно подготовили данные, провели предобработку, исследовательский анализ данных, а также проверили две статистические гипотезы. Провели подсчет суммарных продаж и занесли значения в отдельный столбец. В ходе предобработки успешно преобразовали данные в нужные типы, обработали пропуски в некоторых столбцах. На этапе исследовательского анализа данных построили различные графики, гистограммы и таблицы. Было показано, что актуальные период для исследования данных являются данные с 2015 года, так как именно с этого времени начался основной спад продажа игр. Также была показана корреляция между отзывами критиков и сумм продаж (выявилась слабая положительная корреляция). Отдельно составили портрет пользователя для каждого региона: для северной америки для европы и для Японии. В ходе проверки гипотез, статистически доказали, что средние пользовательские рейтинги платформ XOne и PC одинаковы, а средние пользовательские рейтинги жанров игр Action и Sports статистически разные.\n",
    "\n",
    "**Из рекомандаций:** Данные (c 2015 года) говорят о том , что особым успехом, особенно в Европе и Северной Америке пользуются игры категории для взрослых, жанра Shooter. А наиболее пользующаяся платформой является PS4. Соответственно необходимо делать ставку на данные категории игр и для данной платформы. "
   ]
  },
  {
   "cell_type": "markdown",
   "metadata": {},
   "source": []
  },
  {
   "cell_type": "markdown",
   "metadata": {},
   "source": []
  }
 ],
 "metadata": {
  "ExecuteTimeLog": [
   {
    "duration": 419,
    "start_time": "2025-06-22T06:33:21.613Z"
   },
   {
    "duration": 56,
    "start_time": "2025-06-22T06:33:41.113Z"
   },
   {
    "duration": 21,
    "start_time": "2025-06-22T06:34:24.759Z"
   },
   {
    "duration": 15,
    "start_time": "2025-06-22T06:35:22.268Z"
   },
   {
    "duration": 14,
    "start_time": "2025-06-22T06:35:24.580Z"
   },
   {
    "duration": 14,
    "start_time": "2025-06-22T06:38:07.553Z"
   },
   {
    "duration": 49,
    "start_time": "2025-06-22T10:29:52.135Z"
   },
   {
    "duration": 381,
    "start_time": "2025-06-22T10:29:56.688Z"
   },
   {
    "duration": 97,
    "start_time": "2025-06-22T10:29:57.071Z"
   },
   {
    "duration": 15,
    "start_time": "2025-06-22T10:29:57.170Z"
   },
   {
    "duration": 22,
    "start_time": "2025-06-22T10:29:57.187Z"
   },
   {
    "duration": 14,
    "start_time": "2025-06-22T10:29:57.210Z"
   },
   {
    "duration": 70,
    "start_time": "2025-06-22T10:29:57.225Z"
   },
   {
    "duration": 4,
    "start_time": "2025-06-22T10:30:13.697Z"
   },
   {
    "duration": 8,
    "start_time": "2025-06-22T10:30:19.423Z"
   },
   {
    "duration": 9,
    "start_time": "2025-06-22T10:30:27.558Z"
   },
   {
    "duration": 421,
    "start_time": "2025-06-22T10:30:37.153Z"
   },
   {
    "duration": 45,
    "start_time": "2025-06-22T10:30:37.576Z"
   },
   {
    "duration": 17,
    "start_time": "2025-06-22T10:30:37.622Z"
   },
   {
    "duration": 21,
    "start_time": "2025-06-22T10:30:37.640Z"
   },
   {
    "duration": 13,
    "start_time": "2025-06-22T10:30:37.663Z"
   },
   {
    "duration": 20,
    "start_time": "2025-06-22T10:30:37.678Z"
   },
   {
    "duration": 3,
    "start_time": "2025-06-22T10:31:28.936Z"
   },
   {
    "duration": 15,
    "start_time": "2025-06-22T10:31:34.564Z"
   },
   {
    "duration": 7,
    "start_time": "2025-06-22T10:35:14.701Z"
   },
   {
    "duration": 14,
    "start_time": "2025-06-22T10:35:25.576Z"
   },
   {
    "duration": 56,
    "start_time": "2025-06-22T10:36:11.966Z"
   },
   {
    "duration": 15,
    "start_time": "2025-06-22T10:36:13.435Z"
   },
   {
    "duration": 11,
    "start_time": "2025-06-22T10:36:33.325Z"
   },
   {
    "duration": 3,
    "start_time": "2025-06-22T10:37:41.582Z"
   },
   {
    "duration": 11,
    "start_time": "2025-06-22T10:37:52.872Z"
   },
   {
    "duration": 14,
    "start_time": "2025-06-22T10:37:54.398Z"
   },
   {
    "duration": 66,
    "start_time": "2025-06-22T10:38:02.637Z"
   },
   {
    "duration": 13,
    "start_time": "2025-06-22T10:38:06.934Z"
   },
   {
    "duration": 13,
    "start_time": "2025-06-22T10:38:08.376Z"
   },
   {
    "duration": 15,
    "start_time": "2025-06-22T10:39:00.580Z"
   },
   {
    "duration": 414,
    "start_time": "2025-06-22T10:39:15.639Z"
   },
   {
    "duration": 45,
    "start_time": "2025-06-22T10:39:16.055Z"
   },
   {
    "duration": 15,
    "start_time": "2025-06-22T10:39:16.101Z"
   },
   {
    "duration": 29,
    "start_time": "2025-06-22T10:39:16.117Z"
   },
   {
    "duration": 13,
    "start_time": "2025-06-22T10:39:16.148Z"
   },
   {
    "duration": 4,
    "start_time": "2025-06-22T10:39:16.162Z"
   },
   {
    "duration": 86,
    "start_time": "2025-06-22T10:39:16.167Z"
   },
   {
    "duration": 0,
    "start_time": "2025-06-22T10:39:16.255Z"
   },
   {
    "duration": 6,
    "start_time": "2025-06-22T10:39:34.069Z"
   },
   {
    "duration": 12,
    "start_time": "2025-06-22T10:41:35.315Z"
   },
   {
    "duration": 86,
    "start_time": "2025-06-22T10:44:13.780Z"
   },
   {
    "duration": 10,
    "start_time": "2025-06-22T11:56:05.092Z"
   },
   {
    "duration": 5,
    "start_time": "2025-06-22T11:57:52.950Z"
   },
   {
    "duration": 5,
    "start_time": "2025-06-22T12:00:12.892Z"
   },
   {
    "duration": 4,
    "start_time": "2025-06-22T12:12:12.502Z"
   },
   {
    "duration": 11,
    "start_time": "2025-06-22T12:12:58.209Z"
   },
   {
    "duration": 6,
    "start_time": "2025-06-22T12:21:39.872Z"
   },
   {
    "duration": 16,
    "start_time": "2025-06-22T12:21:45.140Z"
   },
   {
    "duration": 9,
    "start_time": "2025-06-22T12:25:34.917Z"
   },
   {
    "duration": 15,
    "start_time": "2025-06-22T12:27:23.317Z"
   },
   {
    "duration": 9,
    "start_time": "2025-06-22T12:29:22.920Z"
   },
   {
    "duration": 627,
    "start_time": "2025-06-22T12:30:08.612Z"
   },
   {
    "duration": 9,
    "start_time": "2025-06-22T12:30:17.632Z"
   },
   {
    "duration": 6,
    "start_time": "2025-06-22T12:30:45.326Z"
   },
   {
    "duration": 6,
    "start_time": "2025-06-22T12:30:51.823Z"
   },
   {
    "duration": 159,
    "start_time": "2025-06-22T12:31:03.049Z"
   },
   {
    "duration": 235,
    "start_time": "2025-06-22T12:31:20.222Z"
   },
   {
    "duration": 7,
    "start_time": "2025-06-22T12:42:46.950Z"
   },
   {
    "duration": 9,
    "start_time": "2025-06-22T12:43:01.791Z"
   },
   {
    "duration": 6,
    "start_time": "2025-06-22T12:43:29.111Z"
   },
   {
    "duration": 136,
    "start_time": "2025-06-22T12:43:38.379Z"
   },
   {
    "duration": 150,
    "start_time": "2025-06-22T12:43:44.629Z"
   },
   {
    "duration": 88,
    "start_time": "2025-06-22T12:45:44.363Z"
   },
   {
    "duration": 336,
    "start_time": "2025-06-22T12:45:47.684Z"
   },
   {
    "duration": 489,
    "start_time": "2025-06-22T12:46:14.043Z"
   },
   {
    "duration": 0,
    "start_time": "2025-06-22T12:46:14.534Z"
   },
   {
    "duration": 0,
    "start_time": "2025-06-22T12:46:14.539Z"
   },
   {
    "duration": 0,
    "start_time": "2025-06-22T12:46:14.539Z"
   },
   {
    "duration": 0,
    "start_time": "2025-06-22T12:46:14.541Z"
   },
   {
    "duration": 0,
    "start_time": "2025-06-22T12:46:14.543Z"
   },
   {
    "duration": 0,
    "start_time": "2025-06-22T12:46:14.544Z"
   },
   {
    "duration": 0,
    "start_time": "2025-06-22T12:46:14.545Z"
   },
   {
    "duration": 0,
    "start_time": "2025-06-22T12:46:14.547Z"
   },
   {
    "duration": 0,
    "start_time": "2025-06-22T12:46:14.548Z"
   },
   {
    "duration": 1,
    "start_time": "2025-06-22T12:46:14.549Z"
   },
   {
    "duration": 0,
    "start_time": "2025-06-22T12:46:14.550Z"
   },
   {
    "duration": 0,
    "start_time": "2025-06-22T12:46:14.551Z"
   },
   {
    "duration": 0,
    "start_time": "2025-06-22T12:46:14.553Z"
   },
   {
    "duration": 0,
    "start_time": "2025-06-22T12:46:14.560Z"
   },
   {
    "duration": 0,
    "start_time": "2025-06-22T12:46:14.562Z"
   },
   {
    "duration": 0,
    "start_time": "2025-06-22T12:46:14.564Z"
   },
   {
    "duration": 0,
    "start_time": "2025-06-22T12:46:14.565Z"
   },
   {
    "duration": 503,
    "start_time": "2025-06-22T12:46:47.061Z"
   },
   {
    "duration": 61,
    "start_time": "2025-06-22T12:46:47.567Z"
   },
   {
    "duration": 17,
    "start_time": "2025-06-22T12:46:47.630Z"
   },
   {
    "duration": 29,
    "start_time": "2025-06-22T12:46:47.650Z"
   },
   {
    "duration": 15,
    "start_time": "2025-06-22T12:46:47.681Z"
   },
   {
    "duration": 19,
    "start_time": "2025-06-22T12:46:47.697Z"
   },
   {
    "duration": 43,
    "start_time": "2025-06-22T12:46:47.718Z"
   },
   {
    "duration": 10,
    "start_time": "2025-06-22T12:46:47.764Z"
   },
   {
    "duration": 27,
    "start_time": "2025-06-22T12:46:47.776Z"
   },
   {
    "duration": 17,
    "start_time": "2025-06-22T12:46:47.806Z"
   },
   {
    "duration": 7,
    "start_time": "2025-06-22T12:46:47.825Z"
   },
   {
    "duration": 15,
    "start_time": "2025-06-22T12:46:47.833Z"
   },
   {
    "duration": 16,
    "start_time": "2025-06-22T12:46:47.850Z"
   },
   {
    "duration": 55,
    "start_time": "2025-06-22T12:46:47.868Z"
   },
   {
    "duration": 76,
    "start_time": "2025-06-22T12:46:47.925Z"
   },
   {
    "duration": 426,
    "start_time": "2025-06-22T12:46:48.003Z"
   },
   {
    "duration": 12,
    "start_time": "2025-06-22T12:46:48.430Z"
   },
   {
    "duration": 415,
    "start_time": "2025-06-22T12:46:48.445Z"
   },
   {
    "duration": 717,
    "start_time": "2025-06-22T12:47:45.485Z"
   },
   {
    "duration": 56,
    "start_time": "2025-06-22T12:47:46.204Z"
   },
   {
    "duration": 16,
    "start_time": "2025-06-22T12:47:46.262Z"
   },
   {
    "duration": 20,
    "start_time": "2025-06-22T12:47:46.280Z"
   },
   {
    "duration": 17,
    "start_time": "2025-06-22T12:47:46.302Z"
   },
   {
    "duration": 30,
    "start_time": "2025-06-22T12:47:46.320Z"
   },
   {
    "duration": 21,
    "start_time": "2025-06-22T12:47:46.354Z"
   },
   {
    "duration": 22,
    "start_time": "2025-06-22T12:47:46.376Z"
   },
   {
    "duration": 8,
    "start_time": "2025-06-22T12:47:46.399Z"
   },
   {
    "duration": 15,
    "start_time": "2025-06-22T12:47:46.409Z"
   },
   {
    "duration": 8,
    "start_time": "2025-06-22T12:47:46.425Z"
   },
   {
    "duration": 28,
    "start_time": "2025-06-22T12:47:46.435Z"
   },
   {
    "duration": 12,
    "start_time": "2025-06-22T12:47:46.464Z"
   },
   {
    "duration": 21,
    "start_time": "2025-06-22T12:47:46.478Z"
   },
   {
    "duration": 32,
    "start_time": "2025-06-22T12:47:46.500Z"
   },
   {
    "duration": 258,
    "start_time": "2025-06-22T12:47:46.533Z"
   },
   {
    "duration": 5,
    "start_time": "2025-06-22T12:47:46.793Z"
   },
   {
    "duration": 363,
    "start_time": "2025-06-22T12:47:46.799Z"
   },
   {
    "duration": 5,
    "start_time": "2025-06-22T12:49:55.275Z"
   },
   {
    "duration": 7,
    "start_time": "2025-06-22T12:50:16.079Z"
   },
   {
    "duration": 6,
    "start_time": "2025-06-22T12:50:24.130Z"
   },
   {
    "duration": 6,
    "start_time": "2025-06-22T12:50:34.125Z"
   },
   {
    "duration": 6,
    "start_time": "2025-06-22T12:52:04.827Z"
   },
   {
    "duration": 5,
    "start_time": "2025-06-22T12:54:51.996Z"
   },
   {
    "duration": 9,
    "start_time": "2025-06-22T12:55:13.466Z"
   },
   {
    "duration": 10,
    "start_time": "2025-06-22T13:05:31.303Z"
   },
   {
    "duration": 15,
    "start_time": "2025-06-22T13:06:15.162Z"
   },
   {
    "duration": 84,
    "start_time": "2025-06-22T13:07:34.775Z"
   },
   {
    "duration": 17,
    "start_time": "2025-06-22T13:07:41.683Z"
   },
   {
    "duration": 14,
    "start_time": "2025-06-22T13:08:10.575Z"
   },
   {
    "duration": 24,
    "start_time": "2025-06-22T13:08:18.381Z"
   },
   {
    "duration": 157,
    "start_time": "2025-06-22T13:08:47.784Z"
   },
   {
    "duration": 204,
    "start_time": "2025-06-22T13:08:54.093Z"
   },
   {
    "duration": 11,
    "start_time": "2025-06-22T13:09:12.373Z"
   },
   {
    "duration": 11,
    "start_time": "2025-06-22T13:09:18.655Z"
   },
   {
    "duration": 1522,
    "start_time": "2025-06-22T13:11:34.312Z"
   },
   {
    "duration": 11,
    "start_time": "2025-06-22T13:11:53.870Z"
   },
   {
    "duration": 7,
    "start_time": "2025-06-22T13:12:00.610Z"
   },
   {
    "duration": 15,
    "start_time": "2025-06-22T13:12:41.523Z"
   },
   {
    "duration": 11,
    "start_time": "2025-06-22T13:12:43.031Z"
   },
   {
    "duration": 1546,
    "start_time": "2025-06-22T13:12:59.021Z"
   },
   {
    "duration": 155,
    "start_time": "2025-06-22T13:13:22.103Z"
   },
   {
    "duration": 138,
    "start_time": "2025-06-22T13:13:28.663Z"
   },
   {
    "duration": 155,
    "start_time": "2025-06-22T13:13:43.821Z"
   },
   {
    "duration": 9,
    "start_time": "2025-06-22T13:13:57.417Z"
   },
   {
    "duration": 11,
    "start_time": "2025-06-22T13:14:08.028Z"
   },
   {
    "duration": 7,
    "start_time": "2025-06-22T13:16:14.284Z"
   },
   {
    "duration": 7,
    "start_time": "2025-06-22T13:16:30.043Z"
   },
   {
    "duration": 12,
    "start_time": "2025-06-22T13:16:31.525Z"
   },
   {
    "duration": 1410,
    "start_time": "2025-06-22T13:16:55.423Z"
   },
   {
    "duration": 1554,
    "start_time": "2025-06-22T13:18:07.438Z"
   },
   {
    "duration": 900,
    "start_time": "2025-06-22T16:53:17.473Z"
   },
   {
    "duration": 56,
    "start_time": "2025-06-22T16:53:18.375Z"
   },
   {
    "duration": 27,
    "start_time": "2025-06-22T16:53:18.433Z"
   },
   {
    "duration": 20,
    "start_time": "2025-06-22T16:53:18.463Z"
   },
   {
    "duration": 13,
    "start_time": "2025-06-22T16:53:18.486Z"
   },
   {
    "duration": 14,
    "start_time": "2025-06-22T16:53:18.500Z"
   },
   {
    "duration": 24,
    "start_time": "2025-06-22T16:53:18.515Z"
   },
   {
    "duration": 16,
    "start_time": "2025-06-22T16:53:18.542Z"
   },
   {
    "duration": 8,
    "start_time": "2025-06-22T16:53:18.560Z"
   },
   {
    "duration": 17,
    "start_time": "2025-06-22T16:53:18.570Z"
   },
   {
    "duration": 6,
    "start_time": "2025-06-22T16:53:18.588Z"
   },
   {
    "duration": 23,
    "start_time": "2025-06-22T16:53:18.595Z"
   },
   {
    "duration": 19,
    "start_time": "2025-06-22T16:53:18.620Z"
   },
   {
    "duration": 21,
    "start_time": "2025-06-22T16:53:18.642Z"
   },
   {
    "duration": 5,
    "start_time": "2025-06-22T16:53:18.666Z"
   },
   {
    "duration": 260,
    "start_time": "2025-06-22T16:53:18.672Z"
   },
   {
    "duration": 8,
    "start_time": "2025-06-22T16:53:18.938Z"
   },
   {
    "duration": 338,
    "start_time": "2025-06-22T16:53:18.947Z"
   },
   {
    "duration": 7,
    "start_time": "2025-06-22T16:53:19.286Z"
   },
   {
    "duration": 14,
    "start_time": "2025-06-22T16:53:19.294Z"
   },
   {
    "duration": 29,
    "start_time": "2025-06-22T16:53:19.310Z"
   },
   {
    "duration": 1459,
    "start_time": "2025-06-22T16:53:19.341Z"
   },
   {
    "duration": 685,
    "start_time": "2025-06-22T16:55:47.420Z"
   },
   {
    "duration": 44,
    "start_time": "2025-06-22T16:55:48.108Z"
   },
   {
    "duration": 17,
    "start_time": "2025-06-22T16:55:48.153Z"
   },
   {
    "duration": 18,
    "start_time": "2025-06-22T16:55:48.172Z"
   },
   {
    "duration": 42,
    "start_time": "2025-06-22T16:55:48.192Z"
   },
   {
    "duration": 3,
    "start_time": "2025-06-22T16:55:48.236Z"
   },
   {
    "duration": 9,
    "start_time": "2025-06-22T16:55:48.241Z"
   },
   {
    "duration": 28,
    "start_time": "2025-06-22T16:55:48.252Z"
   },
   {
    "duration": 6,
    "start_time": "2025-06-22T16:55:48.281Z"
   },
   {
    "duration": 10,
    "start_time": "2025-06-22T16:55:48.289Z"
   },
   {
    "duration": 18,
    "start_time": "2025-06-22T16:55:48.301Z"
   },
   {
    "duration": 17,
    "start_time": "2025-06-22T16:55:48.321Z"
   },
   {
    "duration": 5,
    "start_time": "2025-06-22T16:55:48.340Z"
   },
   {
    "duration": 19,
    "start_time": "2025-06-22T16:55:48.348Z"
   },
   {
    "duration": 6,
    "start_time": "2025-06-22T16:55:48.368Z"
   },
   {
    "duration": 235,
    "start_time": "2025-06-22T16:55:48.376Z"
   },
   {
    "duration": 5,
    "start_time": "2025-06-22T16:55:48.613Z"
   },
   {
    "duration": 302,
    "start_time": "2025-06-22T16:55:48.619Z"
   },
   {
    "duration": 6,
    "start_time": "2025-06-22T16:55:48.923Z"
   },
   {
    "duration": 22,
    "start_time": "2025-06-22T16:55:48.940Z"
   },
   {
    "duration": 12,
    "start_time": "2025-06-22T16:55:48.963Z"
   },
   {
    "duration": 1373,
    "start_time": "2025-06-22T16:55:48.977Z"
   },
   {
    "duration": 7,
    "start_time": "2025-06-22T16:55:50.352Z"
   },
   {
    "duration": 74,
    "start_time": "2025-06-22T16:55:58.834Z"
   },
   {
    "duration": 28,
    "start_time": "2025-06-22T16:56:04.449Z"
   },
   {
    "duration": 14,
    "start_time": "2025-06-22T16:56:20.228Z"
   },
   {
    "duration": 290,
    "start_time": "2025-06-22T16:59:49.633Z"
   },
   {
    "duration": 5,
    "start_time": "2025-06-22T17:00:03.411Z"
   },
   {
    "duration": 8,
    "start_time": "2025-06-22T17:00:14.398Z"
   },
   {
    "duration": 120,
    "start_time": "2025-06-22T17:00:20.573Z"
   },
   {
    "duration": 245,
    "start_time": "2025-06-22T17:00:44.039Z"
   },
   {
    "duration": 276,
    "start_time": "2025-06-22T17:03:19.638Z"
   },
   {
    "duration": 272,
    "start_time": "2025-06-22T17:03:52.296Z"
   },
   {
    "duration": 1451,
    "start_time": "2025-06-22T17:04:02.427Z"
   },
   {
    "duration": 371,
    "start_time": "2025-06-22T17:04:13.475Z"
   },
   {
    "duration": 217,
    "start_time": "2025-06-22T17:05:11.204Z"
   },
   {
    "duration": 336,
    "start_time": "2025-06-22T17:05:54.982Z"
   },
   {
    "duration": 271,
    "start_time": "2025-06-22T17:06:14.637Z"
   },
   {
    "duration": 25,
    "start_time": "2025-06-22T17:09:11.846Z"
   },
   {
    "duration": 164,
    "start_time": "2025-06-22T17:09:30.264Z"
   },
   {
    "duration": 6,
    "start_time": "2025-06-22T17:14:36.581Z"
   },
   {
    "duration": 7,
    "start_time": "2025-06-22T17:15:11.808Z"
   },
   {
    "duration": 26,
    "start_time": "2025-06-22T17:15:18.562Z"
   },
   {
    "duration": 8,
    "start_time": "2025-06-22T17:15:48.924Z"
   },
   {
    "duration": 22,
    "start_time": "2025-06-22T17:15:55.335Z"
   },
   {
    "duration": 176,
    "start_time": "2025-06-22T17:16:11.760Z"
   },
   {
    "duration": 202,
    "start_time": "2025-06-22T17:16:38.093Z"
   },
   {
    "duration": 223,
    "start_time": "2025-06-22T17:16:50.861Z"
   },
   {
    "duration": 200,
    "start_time": "2025-06-22T17:20:08.913Z"
   },
   {
    "duration": 211,
    "start_time": "2025-06-22T17:20:18.333Z"
   },
   {
    "duration": 257,
    "start_time": "2025-06-22T17:20:34.856Z"
   },
   {
    "duration": 5,
    "start_time": "2025-06-22T17:24:06.081Z"
   },
   {
    "duration": 24,
    "start_time": "2025-06-22T17:25:45.560Z"
   },
   {
    "duration": 20,
    "start_time": "2025-06-22T17:26:33.396Z"
   },
   {
    "duration": 31,
    "start_time": "2025-06-22T17:26:41.565Z"
   },
   {
    "duration": 196,
    "start_time": "2025-06-22T17:26:54.991Z"
   },
   {
    "duration": 148,
    "start_time": "2025-06-22T17:27:00.334Z"
   },
   {
    "duration": 32,
    "start_time": "2025-06-22T17:27:15.620Z"
   },
   {
    "duration": 9,
    "start_time": "2025-06-22T17:35:14.001Z"
   },
   {
    "duration": 4,
    "start_time": "2025-06-22T17:35:33.438Z"
   },
   {
    "duration": 303,
    "start_time": "2025-06-22T17:36:20.033Z"
   },
   {
    "duration": 15,
    "start_time": "2025-06-22T17:38:34.545Z"
   },
   {
    "duration": 4,
    "start_time": "2025-06-22T17:38:36.234Z"
   },
   {
    "duration": 20,
    "start_time": "2025-06-22T17:39:16.047Z"
   },
   {
    "duration": 8,
    "start_time": "2025-06-22T17:40:20.763Z"
   },
   {
    "duration": 4,
    "start_time": "2025-06-22T17:40:21.995Z"
   },
   {
    "duration": 426,
    "start_time": "2025-06-22T17:40:31.030Z"
   },
   {
    "duration": 351,
    "start_time": "2025-06-22T17:44:22.003Z"
   },
   {
    "duration": 49,
    "start_time": "2025-06-23T10:12:55.617Z"
   },
   {
    "duration": 864,
    "start_time": "2025-06-23T10:13:00.102Z"
   },
   {
    "duration": 48,
    "start_time": "2025-06-23T10:13:00.968Z"
   },
   {
    "duration": 19,
    "start_time": "2025-06-23T10:13:01.018Z"
   },
   {
    "duration": 40,
    "start_time": "2025-06-23T10:13:01.039Z"
   },
   {
    "duration": 34,
    "start_time": "2025-06-23T10:13:01.082Z"
   },
   {
    "duration": 12,
    "start_time": "2025-06-23T10:13:01.117Z"
   },
   {
    "duration": 28,
    "start_time": "2025-06-23T10:13:01.131Z"
   },
   {
    "duration": 14,
    "start_time": "2025-06-23T10:13:01.161Z"
   },
   {
    "duration": 21,
    "start_time": "2025-06-23T10:13:01.176Z"
   },
   {
    "duration": 17,
    "start_time": "2025-06-23T10:13:01.199Z"
   },
   {
    "duration": 33,
    "start_time": "2025-06-23T10:13:01.217Z"
   },
   {
    "duration": 28,
    "start_time": "2025-06-23T10:13:01.251Z"
   },
   {
    "duration": 34,
    "start_time": "2025-06-23T10:13:01.281Z"
   },
   {
    "duration": 74,
    "start_time": "2025-06-23T10:13:01.318Z"
   },
   {
    "duration": 9,
    "start_time": "2025-06-23T10:13:01.396Z"
   },
   {
    "duration": 266,
    "start_time": "2025-06-23T10:13:01.407Z"
   },
   {
    "duration": 9,
    "start_time": "2025-06-23T10:13:01.675Z"
   },
   {
    "duration": 334,
    "start_time": "2025-06-23T10:13:01.686Z"
   },
   {
    "duration": 16,
    "start_time": "2025-06-23T10:13:02.022Z"
   },
   {
    "duration": 37,
    "start_time": "2025-06-23T10:13:02.039Z"
   },
   {
    "duration": 30,
    "start_time": "2025-06-23T10:13:02.078Z"
   },
   {
    "duration": 1392,
    "start_time": "2025-06-23T10:13:02.110Z"
   },
   {
    "duration": 8,
    "start_time": "2025-06-23T10:13:03.503Z"
   },
   {
    "duration": 253,
    "start_time": "2025-06-23T10:13:03.512Z"
   },
   {
    "duration": 9,
    "start_time": "2025-06-23T10:13:03.766Z"
   },
   {
    "duration": 85,
    "start_time": "2025-06-23T10:13:03.777Z"
   },
   {
    "duration": 0,
    "start_time": "2025-06-23T10:13:03.863Z"
   },
   {
    "duration": 0,
    "start_time": "2025-06-23T10:13:03.865Z"
   },
   {
    "duration": 5,
    "start_time": "2025-06-23T10:13:18.774Z"
   },
   {
    "duration": 451,
    "start_time": "2025-06-23T10:13:20.675Z"
   },
   {
    "duration": 13,
    "start_time": "2025-06-23T10:13:24.030Z"
   },
   {
    "duration": 20,
    "start_time": "2025-06-23T10:14:31.099Z"
   },
   {
    "duration": 10,
    "start_time": "2025-06-23T10:14:48.959Z"
   },
   {
    "duration": 12,
    "start_time": "2025-06-23T10:23:14.233Z"
   },
   {
    "duration": 99,
    "start_time": "2025-06-23T10:23:22.986Z"
   },
   {
    "duration": 8,
    "start_time": "2025-06-23T10:25:00.922Z"
   },
   {
    "duration": 12,
    "start_time": "2025-06-23T10:25:11.479Z"
   },
   {
    "duration": 104,
    "start_time": "2025-06-23T10:25:21.492Z"
   },
   {
    "duration": 1192,
    "start_time": "2025-06-23T10:29:08.990Z"
   },
   {
    "duration": 48,
    "start_time": "2025-06-23T10:29:10.184Z"
   },
   {
    "duration": 71,
    "start_time": "2025-06-23T10:29:10.233Z"
   },
   {
    "duration": 47,
    "start_time": "2025-06-23T10:29:10.306Z"
   },
   {
    "duration": 171,
    "start_time": "2025-06-23T10:29:10.356Z"
   },
   {
    "duration": 52,
    "start_time": "2025-06-23T10:29:10.529Z"
   },
   {
    "duration": 57,
    "start_time": "2025-06-23T10:29:10.583Z"
   },
   {
    "duration": 100,
    "start_time": "2025-06-23T10:29:10.642Z"
   },
   {
    "duration": 58,
    "start_time": "2025-06-23T10:29:10.745Z"
   },
   {
    "duration": 38,
    "start_time": "2025-06-23T10:29:10.806Z"
   },
   {
    "duration": 99,
    "start_time": "2025-06-23T10:29:10.846Z"
   },
   {
    "duration": 48,
    "start_time": "2025-06-23T10:29:10.947Z"
   },
   {
    "duration": 46,
    "start_time": "2025-06-23T10:29:10.998Z"
   },
   {
    "duration": 44,
    "start_time": "2025-06-23T10:29:11.048Z"
   },
   {
    "duration": 54,
    "start_time": "2025-06-23T10:29:11.094Z"
   },
   {
    "duration": 297,
    "start_time": "2025-06-23T10:29:11.150Z"
   },
   {
    "duration": 5,
    "start_time": "2025-06-23T10:29:11.449Z"
   },
   {
    "duration": 346,
    "start_time": "2025-06-23T10:29:11.456Z"
   },
   {
    "duration": 7,
    "start_time": "2025-06-23T10:29:11.805Z"
   },
   {
    "duration": 70,
    "start_time": "2025-06-23T10:29:11.814Z"
   },
   {
    "duration": 95,
    "start_time": "2025-06-23T10:29:11.886Z"
   },
   {
    "duration": 1392,
    "start_time": "2025-06-23T10:29:11.983Z"
   },
   {
    "duration": 9,
    "start_time": "2025-06-23T10:29:13.377Z"
   },
   {
    "duration": 284,
    "start_time": "2025-06-23T10:29:13.388Z"
   },
   {
    "duration": 9,
    "start_time": "2025-06-23T10:29:13.674Z"
   },
   {
    "duration": 12,
    "start_time": "2025-06-23T10:29:13.684Z"
   },
   {
    "duration": 592,
    "start_time": "2025-06-23T10:29:13.698Z"
   },
   {
    "duration": 17,
    "start_time": "2025-06-23T10:29:14.293Z"
   },
   {
    "duration": 363,
    "start_time": "2025-06-23T10:29:14.312Z"
   },
   {
    "duration": 13,
    "start_time": "2025-06-23T10:30:28.394Z"
   },
   {
    "duration": 110,
    "start_time": "2025-06-23T10:34:37.359Z"
   },
   {
    "duration": 15,
    "start_time": "2025-06-23T10:35:06.788Z"
   },
   {
    "duration": 14,
    "start_time": "2025-06-23T10:35:18.733Z"
   },
   {
    "duration": 409,
    "start_time": "2025-06-23T10:35:43.852Z"
   },
   {
    "duration": 12,
    "start_time": "2025-06-23T10:42:50.599Z"
   },
   {
    "duration": 7,
    "start_time": "2025-06-23T10:44:01.701Z"
   },
   {
    "duration": 10,
    "start_time": "2025-06-23T10:44:14.483Z"
   },
   {
    "duration": 19,
    "start_time": "2025-06-23T10:44:26.754Z"
   },
   {
    "duration": 14,
    "start_time": "2025-06-23T10:44:34.625Z"
   },
   {
    "duration": 13,
    "start_time": "2025-06-23T10:44:44.734Z"
   },
   {
    "duration": 11,
    "start_time": "2025-06-23T10:45:05.898Z"
   },
   {
    "duration": 11,
    "start_time": "2025-06-23T10:45:12.825Z"
   },
   {
    "duration": 11,
    "start_time": "2025-06-23T10:52:28.890Z"
   },
   {
    "duration": 10,
    "start_time": "2025-06-23T10:52:39.119Z"
   },
   {
    "duration": 22,
    "start_time": "2025-06-23T10:52:48.313Z"
   },
   {
    "duration": 31,
    "start_time": "2025-06-23T10:54:10.002Z"
   },
   {
    "duration": 3,
    "start_time": "2025-06-23T10:55:15.038Z"
   },
   {
    "duration": 10,
    "start_time": "2025-06-23T10:55:25.058Z"
   },
   {
    "duration": 20,
    "start_time": "2025-06-23T10:55:29.033Z"
   },
   {
    "duration": 708,
    "start_time": "2025-06-23T10:56:04.584Z"
   },
   {
    "duration": 1472,
    "start_time": "2025-06-23T19:36:23.935Z"
   },
   {
    "duration": 58,
    "start_time": "2025-06-23T19:36:25.409Z"
   },
   {
    "duration": 20,
    "start_time": "2025-06-23T19:36:25.469Z"
   },
   {
    "duration": 21,
    "start_time": "2025-06-23T19:36:25.491Z"
   },
   {
    "duration": 57,
    "start_time": "2025-06-23T19:36:25.539Z"
   },
   {
    "duration": 95,
    "start_time": "2025-06-23T19:36:25.598Z"
   },
   {
    "duration": 23,
    "start_time": "2025-06-23T19:36:25.695Z"
   },
   {
    "duration": 10,
    "start_time": "2025-06-23T19:36:25.720Z"
   },
   {
    "duration": 17,
    "start_time": "2025-06-23T19:36:25.731Z"
   },
   {
    "duration": 5,
    "start_time": "2025-06-23T19:36:25.750Z"
   },
   {
    "duration": 13,
    "start_time": "2025-06-23T19:36:25.757Z"
   },
   {
    "duration": 11,
    "start_time": "2025-06-23T19:36:25.771Z"
   },
   {
    "duration": 10,
    "start_time": "2025-06-23T19:36:25.783Z"
   },
   {
    "duration": 17,
    "start_time": "2025-06-23T19:36:25.795Z"
   },
   {
    "duration": 6,
    "start_time": "2025-06-23T19:36:25.813Z"
   },
   {
    "duration": 251,
    "start_time": "2025-06-23T19:36:25.820Z"
   },
   {
    "duration": 5,
    "start_time": "2025-06-23T19:36:26.073Z"
   },
   {
    "duration": 315,
    "start_time": "2025-06-23T19:36:26.080Z"
   },
   {
    "duration": 6,
    "start_time": "2025-06-23T19:36:26.397Z"
   },
   {
    "duration": 8,
    "start_time": "2025-06-23T19:36:26.404Z"
   },
   {
    "duration": 28,
    "start_time": "2025-06-23T19:36:26.413Z"
   },
   {
    "duration": 1336,
    "start_time": "2025-06-23T19:36:26.443Z"
   },
   {
    "duration": 8,
    "start_time": "2025-06-23T19:36:27.780Z"
   },
   {
    "duration": 258,
    "start_time": "2025-06-23T19:36:27.790Z"
   },
   {
    "duration": 8,
    "start_time": "2025-06-23T19:36:28.050Z"
   },
   {
    "duration": 4,
    "start_time": "2025-06-23T19:36:28.059Z"
   },
   {
    "duration": 534,
    "start_time": "2025-06-23T19:36:28.064Z"
   },
   {
    "duration": 12,
    "start_time": "2025-06-23T19:36:28.600Z"
   },
   {
    "duration": 279,
    "start_time": "2025-06-23T19:36:28.613Z"
   },
   {
    "duration": 164,
    "start_time": "2025-06-23T19:36:47.736Z"
   },
   {
    "duration": 1410,
    "start_time": "2025-06-24T05:38:38.709Z"
   },
   {
    "duration": 62,
    "start_time": "2025-06-24T05:38:40.121Z"
   },
   {
    "duration": 16,
    "start_time": "2025-06-24T05:38:40.185Z"
   },
   {
    "duration": 19,
    "start_time": "2025-06-24T05:38:40.203Z"
   },
   {
    "duration": 15,
    "start_time": "2025-06-24T05:38:40.224Z"
   },
   {
    "duration": 21,
    "start_time": "2025-06-24T05:38:40.241Z"
   },
   {
    "duration": 7,
    "start_time": "2025-06-24T05:38:40.264Z"
   },
   {
    "duration": 13,
    "start_time": "2025-06-24T05:38:40.273Z"
   },
   {
    "duration": 5,
    "start_time": "2025-06-24T05:38:40.287Z"
   },
   {
    "duration": 5,
    "start_time": "2025-06-24T05:38:40.295Z"
   },
   {
    "duration": 6,
    "start_time": "2025-06-24T05:38:40.302Z"
   },
   {
    "duration": 11,
    "start_time": "2025-06-24T05:38:40.310Z"
   },
   {
    "duration": 7,
    "start_time": "2025-06-24T05:38:40.361Z"
   },
   {
    "duration": 21,
    "start_time": "2025-06-24T05:38:40.369Z"
   },
   {
    "duration": 90,
    "start_time": "2025-06-24T05:38:40.392Z"
   },
   {
    "duration": 252,
    "start_time": "2025-06-24T05:38:40.484Z"
   },
   {
    "duration": 5,
    "start_time": "2025-06-24T05:38:40.738Z"
   },
   {
    "duration": 368,
    "start_time": "2025-06-24T05:38:40.745Z"
   },
   {
    "duration": 7,
    "start_time": "2025-06-24T05:38:41.115Z"
   },
   {
    "duration": 9,
    "start_time": "2025-06-24T05:38:41.124Z"
   },
   {
    "duration": 35,
    "start_time": "2025-06-24T05:38:41.135Z"
   },
   {
    "duration": 1472,
    "start_time": "2025-06-24T05:38:41.172Z"
   },
   {
    "duration": 18,
    "start_time": "2025-06-24T05:38:42.645Z"
   },
   {
    "duration": 264,
    "start_time": "2025-06-24T05:38:42.665Z"
   },
   {
    "duration": 9,
    "start_time": "2025-06-24T05:38:42.930Z"
   },
   {
    "duration": 58,
    "start_time": "2025-06-24T05:38:42.941Z"
   },
   {
    "duration": 560,
    "start_time": "2025-06-24T05:38:43.001Z"
   },
   {
    "duration": 12,
    "start_time": "2025-06-24T05:38:43.564Z"
   },
   {
    "duration": 503,
    "start_time": "2025-06-24T05:38:43.578Z"
   },
   {
    "duration": 305,
    "start_time": "2025-06-24T05:39:53.080Z"
   },
   {
    "duration": 7,
    "start_time": "2025-06-24T05:41:09.489Z"
   },
   {
    "duration": 181,
    "start_time": "2025-06-24T05:41:15.871Z"
   },
   {
    "duration": 170,
    "start_time": "2025-06-24T05:43:20.987Z"
   },
   {
    "duration": 645,
    "start_time": "2025-06-24T05:44:18.075Z"
   },
   {
    "duration": 757,
    "start_time": "2025-06-24T05:45:01.856Z"
   },
   {
    "duration": 1093,
    "start_time": "2025-06-24T05:45:25.562Z"
   },
   {
    "duration": 727,
    "start_time": "2025-06-24T05:47:42.656Z"
   },
   {
    "duration": 1083,
    "start_time": "2025-06-24T05:48:09.230Z"
   },
   {
    "duration": 621,
    "start_time": "2025-06-24T05:50:10.919Z"
   },
   {
    "duration": 1024,
    "start_time": "2025-06-24T05:50:18.568Z"
   },
   {
    "duration": 884,
    "start_time": "2025-06-24T05:52:16.898Z"
   },
   {
    "duration": 1004,
    "start_time": "2025-06-24T05:52:35.324Z"
   },
   {
    "duration": 1106,
    "start_time": "2025-06-24T05:52:50.066Z"
   },
   {
    "duration": 729,
    "start_time": "2025-06-24T05:53:03.437Z"
   },
   {
    "duration": 954,
    "start_time": "2025-06-24T05:53:17.789Z"
   },
   {
    "duration": 158,
    "start_time": "2025-06-24T06:09:26.636Z"
   },
   {
    "duration": 153,
    "start_time": "2025-06-24T06:09:35.269Z"
   },
   {
    "duration": 99,
    "start_time": "2025-06-24T06:10:44.724Z"
   },
   {
    "duration": 1247,
    "start_time": "2025-06-24T06:10:50.161Z"
   },
   {
    "duration": 148,
    "start_time": "2025-06-24T06:11:08.149Z"
   },
   {
    "duration": 151,
    "start_time": "2025-06-24T06:11:23.679Z"
   },
   {
    "duration": 155,
    "start_time": "2025-06-24T06:12:41.973Z"
   },
   {
    "duration": 167,
    "start_time": "2025-06-24T06:12:50.474Z"
   },
   {
    "duration": 303,
    "start_time": "2025-06-24T06:13:20.897Z"
   },
   {
    "duration": 1506,
    "start_time": "2025-06-24T06:17:27.140Z"
   },
   {
    "duration": 50,
    "start_time": "2025-06-24T06:17:28.648Z"
   },
   {
    "duration": 16,
    "start_time": "2025-06-24T06:17:28.700Z"
   },
   {
    "duration": 19,
    "start_time": "2025-06-24T06:17:28.718Z"
   },
   {
    "duration": 32,
    "start_time": "2025-06-24T06:17:28.740Z"
   },
   {
    "duration": 5,
    "start_time": "2025-06-24T06:17:28.775Z"
   },
   {
    "duration": 8,
    "start_time": "2025-06-24T06:17:28.782Z"
   },
   {
    "duration": 10,
    "start_time": "2025-06-24T06:17:28.791Z"
   },
   {
    "duration": 12,
    "start_time": "2025-06-24T06:17:28.803Z"
   },
   {
    "duration": 44,
    "start_time": "2025-06-24T06:17:28.817Z"
   },
   {
    "duration": 5,
    "start_time": "2025-06-24T06:17:28.863Z"
   },
   {
    "duration": 226,
    "start_time": "2025-06-24T06:17:28.870Z"
   },
   {
    "duration": 28,
    "start_time": "2025-06-24T06:17:29.098Z"
   },
   {
    "duration": 6,
    "start_time": "2025-06-24T06:17:29.131Z"
   },
   {
    "duration": 17,
    "start_time": "2025-06-24T06:17:29.139Z"
   },
   {
    "duration": 8,
    "start_time": "2025-06-24T06:17:29.158Z"
   },
   {
    "duration": 260,
    "start_time": "2025-06-24T06:17:29.168Z"
   },
   {
    "duration": 6,
    "start_time": "2025-06-24T06:17:29.430Z"
   },
   {
    "duration": 323,
    "start_time": "2025-06-24T06:17:29.438Z"
   },
   {
    "duration": 6,
    "start_time": "2025-06-24T06:17:29.763Z"
   },
   {
    "duration": 93,
    "start_time": "2025-06-24T06:17:29.771Z"
   },
   {
    "duration": 13,
    "start_time": "2025-06-24T06:17:29.865Z"
   },
   {
    "duration": 1406,
    "start_time": "2025-06-24T06:17:29.879Z"
   },
   {
    "duration": 8,
    "start_time": "2025-06-24T06:17:31.287Z"
   },
   {
    "duration": 274,
    "start_time": "2025-06-24T06:17:31.297Z"
   },
   {
    "duration": 11,
    "start_time": "2025-06-24T06:17:31.574Z"
   },
   {
    "duration": 6,
    "start_time": "2025-06-24T06:17:31.587Z"
   },
   {
    "duration": 574,
    "start_time": "2025-06-24T06:17:31.595Z"
   },
   {
    "duration": 13,
    "start_time": "2025-06-24T06:17:32.171Z"
   },
   {
    "duration": 1048,
    "start_time": "2025-06-24T06:17:32.185Z"
   },
   {
    "duration": 187,
    "start_time": "2025-06-24T06:17:33.235Z"
   },
   {
    "duration": 163,
    "start_time": "2025-06-24T06:17:33.424Z"
   },
   {
    "duration": 16,
    "start_time": "2025-06-24T06:17:52.660Z"
   },
   {
    "duration": 5,
    "start_time": "2025-06-24T06:19:10.146Z"
   },
   {
    "duration": 168,
    "start_time": "2025-06-24T06:19:13.695Z"
   },
   {
    "duration": 269,
    "start_time": "2025-06-24T06:22:20.552Z"
   },
   {
    "duration": 161,
    "start_time": "2025-06-24T06:22:42.333Z"
   },
   {
    "duration": 153,
    "start_time": "2025-06-24T06:28:29.754Z"
   },
   {
    "duration": 147,
    "start_time": "2025-06-24T06:28:49.801Z"
   },
   {
    "duration": 5,
    "start_time": "2025-06-24T06:31:30.100Z"
   },
   {
    "duration": 9,
    "start_time": "2025-06-24T06:31:36.484Z"
   },
   {
    "duration": 12,
    "start_time": "2025-06-24T06:31:50.026Z"
   },
   {
    "duration": 8,
    "start_time": "2025-06-24T06:35:25.501Z"
   },
   {
    "duration": 10,
    "start_time": "2025-06-24T06:35:48.740Z"
   },
   {
    "duration": 10,
    "start_time": "2025-06-24T06:35:54.783Z"
   },
   {
    "duration": 1345,
    "start_time": "2025-06-24T10:45:42.934Z"
   },
   {
    "duration": 48,
    "start_time": "2025-06-24T10:45:44.281Z"
   },
   {
    "duration": 16,
    "start_time": "2025-06-24T10:45:44.331Z"
   },
   {
    "duration": 27,
    "start_time": "2025-06-24T10:45:44.349Z"
   },
   {
    "duration": 15,
    "start_time": "2025-06-24T10:45:44.378Z"
   },
   {
    "duration": 8,
    "start_time": "2025-06-24T10:45:44.394Z"
   },
   {
    "duration": 12,
    "start_time": "2025-06-24T10:45:44.404Z"
   },
   {
    "duration": 9,
    "start_time": "2025-06-24T10:45:44.418Z"
   },
   {
    "duration": 10,
    "start_time": "2025-06-24T10:45:44.429Z"
   },
   {
    "duration": 5,
    "start_time": "2025-06-24T10:45:44.441Z"
   },
   {
    "duration": 33,
    "start_time": "2025-06-24T10:45:44.448Z"
   },
   {
    "duration": 5,
    "start_time": "2025-06-24T10:45:44.483Z"
   },
   {
    "duration": 11,
    "start_time": "2025-06-24T10:45:44.490Z"
   },
   {
    "duration": 6,
    "start_time": "2025-06-24T10:45:44.504Z"
   },
   {
    "duration": 22,
    "start_time": "2025-06-24T10:45:44.511Z"
   },
   {
    "duration": 8,
    "start_time": "2025-06-24T10:45:44.534Z"
   },
   {
    "duration": 263,
    "start_time": "2025-06-24T10:45:44.543Z"
   },
   {
    "duration": 5,
    "start_time": "2025-06-24T10:45:44.808Z"
   },
   {
    "duration": 303,
    "start_time": "2025-06-24T10:45:44.814Z"
   },
   {
    "duration": 7,
    "start_time": "2025-06-24T10:45:45.120Z"
   },
   {
    "duration": 18,
    "start_time": "2025-06-24T10:45:45.129Z"
   },
   {
    "duration": 69,
    "start_time": "2025-06-24T10:45:45.149Z"
   },
   {
    "duration": 1347,
    "start_time": "2025-06-24T10:45:45.220Z"
   },
   {
    "duration": 10,
    "start_time": "2025-06-24T10:45:46.576Z"
   },
   {
    "duration": 323,
    "start_time": "2025-06-24T10:45:46.588Z"
   },
   {
    "duration": 8,
    "start_time": "2025-06-24T10:45:46.912Z"
   },
   {
    "duration": 31,
    "start_time": "2025-06-24T10:45:46.922Z"
   },
   {
    "duration": 502,
    "start_time": "2025-06-24T10:45:46.955Z"
   },
   {
    "duration": 12,
    "start_time": "2025-06-24T10:45:47.458Z"
   },
   {
    "duration": 972,
    "start_time": "2025-06-24T10:45:47.471Z"
   },
   {
    "duration": 165,
    "start_time": "2025-06-24T10:45:48.445Z"
   },
   {
    "duration": 157,
    "start_time": "2025-06-24T10:45:48.612Z"
   },
   {
    "duration": 233,
    "start_time": "2025-06-24T10:45:48.775Z"
   },
   {
    "duration": 154,
    "start_time": "2025-06-24T10:45:49.009Z"
   },
   {
    "duration": 15,
    "start_time": "2025-06-24T10:45:49.164Z"
   },
   {
    "duration": 14,
    "start_time": "2025-06-24T10:45:49.181Z"
   },
   {
    "duration": 27,
    "start_time": "2025-06-24T10:45:49.196Z"
   },
   {
    "duration": 15,
    "start_time": "2025-06-24T10:45:49.225Z"
   },
   {
    "duration": 12,
    "start_time": "2025-06-24T10:45:49.242Z"
   },
   {
    "duration": 9,
    "start_time": "2025-06-24T10:45:49.255Z"
   },
   {
    "duration": 28,
    "start_time": "2025-06-24T10:45:49.268Z"
   },
   {
    "duration": 133,
    "start_time": "2025-06-24T10:45:49.297Z"
   },
   {
    "duration": 12,
    "start_time": "2025-06-24T10:45:49.432Z"
   },
   {
    "duration": 15,
    "start_time": "2025-06-24T10:45:49.445Z"
   },
   {
    "duration": 53,
    "start_time": "2025-06-24T10:45:49.463Z"
   },
   {
    "duration": 10,
    "start_time": "2025-06-24T10:45:49.518Z"
   },
   {
    "duration": 16,
    "start_time": "2025-06-24T10:45:49.530Z"
   },
   {
    "duration": 11,
    "start_time": "2025-06-24T10:45:49.547Z"
   },
   {
    "duration": 7,
    "start_time": "2025-06-24T10:47:39.952Z"
   },
   {
    "duration": 6,
    "start_time": "2025-06-24T10:47:41.482Z"
   },
   {
    "duration": 7,
    "start_time": "2025-06-24T10:47:42.874Z"
   },
   {
    "duration": 9,
    "start_time": "2025-06-24T10:48:33.971Z"
   },
   {
    "duration": 114,
    "start_time": "2025-06-24T10:48:54.444Z"
   },
   {
    "duration": 9,
    "start_time": "2025-06-24T10:49:05.450Z"
   },
   {
    "duration": 9,
    "start_time": "2025-06-24T10:49:07.583Z"
   },
   {
    "duration": 1390,
    "start_time": "2025-06-24T15:22:45.705Z"
   },
   {
    "duration": 56,
    "start_time": "2025-06-24T15:22:47.097Z"
   },
   {
    "duration": 16,
    "start_time": "2025-06-24T15:22:47.155Z"
   },
   {
    "duration": 61,
    "start_time": "2025-06-24T15:22:47.173Z"
   },
   {
    "duration": 19,
    "start_time": "2025-06-24T15:22:47.236Z"
   },
   {
    "duration": 8,
    "start_time": "2025-06-24T15:22:47.257Z"
   },
   {
    "duration": 15,
    "start_time": "2025-06-24T15:22:47.266Z"
   },
   {
    "duration": 14,
    "start_time": "2025-06-24T15:22:47.283Z"
   },
   {
    "duration": 12,
    "start_time": "2025-06-24T15:22:47.299Z"
   },
   {
    "duration": 6,
    "start_time": "2025-06-24T15:22:47.312Z"
   },
   {
    "duration": 4,
    "start_time": "2025-06-24T15:22:47.320Z"
   },
   {
    "duration": 14,
    "start_time": "2025-06-24T15:22:47.326Z"
   },
   {
    "duration": 31,
    "start_time": "2025-06-24T15:22:47.342Z"
   },
   {
    "duration": 6,
    "start_time": "2025-06-24T15:22:47.377Z"
   },
   {
    "duration": 15,
    "start_time": "2025-06-24T15:22:47.384Z"
   },
   {
    "duration": 7,
    "start_time": "2025-06-24T15:22:47.401Z"
   },
   {
    "duration": 241,
    "start_time": "2025-06-24T15:22:47.410Z"
   },
   {
    "duration": 5,
    "start_time": "2025-06-24T15:22:47.653Z"
   },
   {
    "duration": 316,
    "start_time": "2025-06-24T15:22:47.659Z"
   },
   {
    "duration": 6,
    "start_time": "2025-06-24T15:22:47.977Z"
   },
   {
    "duration": 13,
    "start_time": "2025-06-24T15:22:47.985Z"
   },
   {
    "duration": 12,
    "start_time": "2025-06-24T15:22:48.000Z"
   },
   {
    "duration": 1355,
    "start_time": "2025-06-24T15:22:48.014Z"
   },
   {
    "duration": 8,
    "start_time": "2025-06-24T15:22:49.371Z"
   },
   {
    "duration": 257,
    "start_time": "2025-06-24T15:22:49.380Z"
   },
   {
    "duration": 8,
    "start_time": "2025-06-24T15:22:49.639Z"
   },
   {
    "duration": 20,
    "start_time": "2025-06-24T15:22:49.649Z"
   },
   {
    "duration": 532,
    "start_time": "2025-06-24T15:22:49.670Z"
   },
   {
    "duration": 13,
    "start_time": "2025-06-24T15:22:50.204Z"
   },
   {
    "duration": 1032,
    "start_time": "2025-06-24T15:22:50.218Z"
   },
   {
    "duration": 168,
    "start_time": "2025-06-24T15:22:51.252Z"
   },
   {
    "duration": 156,
    "start_time": "2025-06-24T15:22:51.422Z"
   },
   {
    "duration": 236,
    "start_time": "2025-06-24T15:22:51.580Z"
   },
   {
    "duration": 150,
    "start_time": "2025-06-24T15:22:51.818Z"
   },
   {
    "duration": 6,
    "start_time": "2025-06-24T15:22:51.970Z"
   },
   {
    "duration": 15,
    "start_time": "2025-06-24T15:22:51.978Z"
   },
   {
    "duration": 11,
    "start_time": "2025-06-24T15:22:51.994Z"
   },
   {
    "duration": 6,
    "start_time": "2025-06-24T15:22:52.006Z"
   },
   {
    "duration": 123,
    "start_time": "2025-06-24T15:22:52.013Z"
   },
   {
    "duration": 97,
    "start_time": "2025-06-24T15:22:52.138Z"
   },
   {
    "duration": 22,
    "start_time": "2025-06-24T15:22:52.239Z"
   },
   {
    "duration": 22,
    "start_time": "2025-06-24T15:22:52.263Z"
   },
   {
    "duration": 6,
    "start_time": "2025-06-24T15:22:52.287Z"
   },
   {
    "duration": 6,
    "start_time": "2025-06-24T15:22:52.295Z"
   },
   {
    "duration": 6,
    "start_time": "2025-06-24T15:22:52.303Z"
   },
   {
    "duration": 14,
    "start_time": "2025-06-24T15:22:52.311Z"
   },
   {
    "duration": 45,
    "start_time": "2025-06-24T15:22:52.326Z"
   },
   {
    "duration": 25,
    "start_time": "2025-06-24T15:22:52.373Z"
   },
   {
    "duration": 7,
    "start_time": "2025-06-24T15:22:52.400Z"
   },
   {
    "duration": 6,
    "start_time": "2025-06-24T15:22:52.408Z"
   },
   {
    "duration": 6,
    "start_time": "2025-06-24T15:22:52.415Z"
   },
   {
    "duration": 26,
    "start_time": "2025-06-24T15:22:52.423Z"
   },
   {
    "duration": 13,
    "start_time": "2025-06-24T15:22:52.450Z"
   },
   {
    "duration": 21,
    "start_time": "2025-06-24T15:22:52.465Z"
   },
   {
    "duration": 1242,
    "start_time": "2025-06-24T15:37:51.229Z"
   },
   {
    "duration": 47,
    "start_time": "2025-06-24T15:37:52.473Z"
   },
   {
    "duration": 23,
    "start_time": "2025-06-24T15:37:52.521Z"
   },
   {
    "duration": 37,
    "start_time": "2025-06-24T15:37:52.546Z"
   },
   {
    "duration": 14,
    "start_time": "2025-06-24T15:37:52.585Z"
   },
   {
    "duration": 19,
    "start_time": "2025-06-24T15:37:52.600Z"
   },
   {
    "duration": 7,
    "start_time": "2025-06-24T15:37:52.620Z"
   },
   {
    "duration": 9,
    "start_time": "2025-06-24T15:37:53.227Z"
   },
   {
    "duration": 17,
    "start_time": "2025-06-24T15:37:53.238Z"
   },
   {
    "duration": 16,
    "start_time": "2025-06-24T15:37:53.257Z"
   },
   {
    "duration": 8,
    "start_time": "2025-06-24T15:37:53.274Z"
   },
   {
    "duration": 12,
    "start_time": "2025-06-24T15:37:53.284Z"
   },
   {
    "duration": 9,
    "start_time": "2025-06-24T15:37:53.298Z"
   },
   {
    "duration": 12,
    "start_time": "2025-06-24T15:37:53.308Z"
   },
   {
    "duration": 21,
    "start_time": "2025-06-24T15:37:53.323Z"
   },
   {
    "duration": 29,
    "start_time": "2025-06-24T15:37:53.345Z"
   },
   {
    "duration": 238,
    "start_time": "2025-06-24T15:37:56.926Z"
   },
   {
    "duration": 5,
    "start_time": "2025-06-24T15:37:57.166Z"
   },
   {
    "duration": 301,
    "start_time": "2025-06-24T15:37:57.914Z"
   },
   {
    "duration": 7,
    "start_time": "2025-06-24T15:37:58.217Z"
   },
   {
    "duration": 73,
    "start_time": "2025-06-24T15:37:58.225Z"
   },
   {
    "duration": 12,
    "start_time": "2025-06-24T15:37:58.300Z"
   },
   {
    "duration": 1325,
    "start_time": "2025-06-24T15:37:58.315Z"
   },
   {
    "duration": 7,
    "start_time": "2025-06-24T15:37:59.642Z"
   },
   {
    "duration": 297,
    "start_time": "2025-06-24T15:37:59.651Z"
   },
   {
    "duration": 8,
    "start_time": "2025-06-24T15:37:59.950Z"
   },
   {
    "duration": 11,
    "start_time": "2025-06-24T15:37:59.959Z"
   },
   {
    "duration": 552,
    "start_time": "2025-06-24T15:38:04.138Z"
   },
   {
    "duration": 17,
    "start_time": "2025-06-24T15:38:04.694Z"
   },
   {
    "duration": 0,
    "start_time": "2025-06-24T15:38:51.438Z"
   },
   {
    "duration": 0,
    "start_time": "2025-06-24T15:38:51.439Z"
   },
   {
    "duration": 0,
    "start_time": "2025-06-24T15:38:51.440Z"
   },
   {
    "duration": 0,
    "start_time": "2025-06-24T15:38:51.442Z"
   },
   {
    "duration": 0,
    "start_time": "2025-06-24T15:38:51.444Z"
   },
   {
    "duration": 0,
    "start_time": "2025-06-24T15:38:51.445Z"
   },
   {
    "duration": 0,
    "start_time": "2025-06-24T15:38:51.447Z"
   },
   {
    "duration": 0,
    "start_time": "2025-06-24T15:38:51.449Z"
   },
   {
    "duration": 0,
    "start_time": "2025-06-24T15:38:51.450Z"
   },
   {
    "duration": 0,
    "start_time": "2025-06-24T15:38:51.452Z"
   },
   {
    "duration": 0,
    "start_time": "2025-06-24T15:38:51.453Z"
   },
   {
    "duration": 0,
    "start_time": "2025-06-24T15:38:51.455Z"
   },
   {
    "duration": 0,
    "start_time": "2025-06-24T15:38:51.456Z"
   },
   {
    "duration": 0,
    "start_time": "2025-06-24T15:38:51.458Z"
   },
   {
    "duration": 0,
    "start_time": "2025-06-24T15:38:51.459Z"
   },
   {
    "duration": 0,
    "start_time": "2025-06-24T15:38:51.461Z"
   },
   {
    "duration": 0,
    "start_time": "2025-06-24T15:38:51.463Z"
   },
   {
    "duration": 0,
    "start_time": "2025-06-24T15:38:51.464Z"
   },
   {
    "duration": 0,
    "start_time": "2025-06-24T15:38:51.466Z"
   },
   {
    "duration": 0,
    "start_time": "2025-06-24T15:38:51.467Z"
   },
   {
    "duration": 0,
    "start_time": "2025-06-24T15:38:51.469Z"
   },
   {
    "duration": 0,
    "start_time": "2025-06-24T15:38:51.470Z"
   },
   {
    "duration": 0,
    "start_time": "2025-06-24T15:38:51.472Z"
   },
   {
    "duration": 0,
    "start_time": "2025-06-24T15:38:51.473Z"
   },
   {
    "duration": 0,
    "start_time": "2025-06-24T15:38:51.475Z"
   },
   {
    "duration": 0,
    "start_time": "2025-06-24T15:38:51.476Z"
   },
   {
    "duration": 0,
    "start_time": "2025-06-24T15:38:51.538Z"
   },
   {
    "duration": 0,
    "start_time": "2025-06-24T15:38:51.540Z"
   },
   {
    "duration": 0,
    "start_time": "2025-06-24T15:38:51.541Z"
   },
   {
    "duration": 0,
    "start_time": "2025-06-24T15:38:51.542Z"
   },
   {
    "duration": 0,
    "start_time": "2025-06-24T15:38:51.544Z"
   },
   {
    "duration": 0,
    "start_time": "2025-06-24T15:38:51.544Z"
   },
   {
    "duration": 0,
    "start_time": "2025-06-24T15:38:51.546Z"
   },
   {
    "duration": 0,
    "start_time": "2025-06-24T15:38:51.547Z"
   },
   {
    "duration": 0,
    "start_time": "2025-06-24T15:38:51.548Z"
   },
   {
    "duration": 0,
    "start_time": "2025-06-24T15:38:51.549Z"
   },
   {
    "duration": 0,
    "start_time": "2025-06-24T15:38:51.550Z"
   },
   {
    "duration": 0,
    "start_time": "2025-06-24T15:38:51.551Z"
   },
   {
    "duration": 0,
    "start_time": "2025-06-24T15:38:51.552Z"
   },
   {
    "duration": 0,
    "start_time": "2025-06-24T15:38:51.553Z"
   },
   {
    "duration": 0,
    "start_time": "2025-06-24T15:38:51.554Z"
   },
   {
    "duration": 0,
    "start_time": "2025-06-24T15:38:51.555Z"
   },
   {
    "duration": 0,
    "start_time": "2025-06-24T15:38:51.556Z"
   },
   {
    "duration": 0,
    "start_time": "2025-06-24T15:38:51.557Z"
   },
   {
    "duration": 0,
    "start_time": "2025-06-24T15:38:51.558Z"
   },
   {
    "duration": 0,
    "start_time": "2025-06-24T15:38:51.560Z"
   },
   {
    "duration": 0,
    "start_time": "2025-06-24T15:38:51.561Z"
   },
   {
    "duration": 0,
    "start_time": "2025-06-24T15:38:51.562Z"
   },
   {
    "duration": 0,
    "start_time": "2025-06-24T15:38:51.563Z"
   },
   {
    "duration": 0,
    "start_time": "2025-06-24T15:38:51.565Z"
   },
   {
    "duration": 0,
    "start_time": "2025-06-24T15:38:51.566Z"
   },
   {
    "duration": 0,
    "start_time": "2025-06-24T15:38:51.567Z"
   },
   {
    "duration": 0,
    "start_time": "2025-06-24T15:38:51.568Z"
   },
   {
    "duration": 0,
    "start_time": "2025-06-24T15:38:51.569Z"
   },
   {
    "duration": 0,
    "start_time": "2025-06-24T15:38:51.570Z"
   },
   {
    "duration": 0,
    "start_time": "2025-06-24T15:38:51.571Z"
   },
   {
    "duration": 1187,
    "start_time": "2025-06-24T15:38:56.885Z"
   },
   {
    "duration": 50,
    "start_time": "2025-06-24T15:38:58.073Z"
   },
   {
    "duration": 16,
    "start_time": "2025-06-24T15:38:58.124Z"
   },
   {
    "duration": 182,
    "start_time": "2025-06-24T15:38:58.142Z"
   },
   {
    "duration": 15,
    "start_time": "2025-06-24T15:38:58.326Z"
   },
   {
    "duration": 4,
    "start_time": "2025-06-24T15:38:58.343Z"
   },
   {
    "duration": 10,
    "start_time": "2025-06-24T15:38:58.349Z"
   },
   {
    "duration": 12,
    "start_time": "2025-06-24T15:38:58.361Z"
   },
   {
    "duration": 18,
    "start_time": "2025-06-24T15:38:58.375Z"
   },
   {
    "duration": 5,
    "start_time": "2025-06-24T15:38:58.396Z"
   },
   {
    "duration": 7,
    "start_time": "2025-06-24T15:38:58.402Z"
   },
   {
    "duration": 26,
    "start_time": "2025-06-24T15:38:58.411Z"
   },
   {
    "duration": 9,
    "start_time": "2025-06-24T15:38:58.439Z"
   },
   {
    "duration": 5,
    "start_time": "2025-06-24T15:38:58.450Z"
   },
   {
    "duration": 21,
    "start_time": "2025-06-24T15:38:58.457Z"
   },
   {
    "duration": 23,
    "start_time": "2025-06-24T15:38:58.480Z"
   },
   {
    "duration": 244,
    "start_time": "2025-06-24T15:38:58.504Z"
   },
   {
    "duration": 5,
    "start_time": "2025-06-24T15:38:58.750Z"
   },
   {
    "duration": 308,
    "start_time": "2025-06-24T15:38:58.756Z"
   },
   {
    "duration": 6,
    "start_time": "2025-06-24T15:38:59.066Z"
   },
   {
    "duration": 8,
    "start_time": "2025-06-24T15:38:59.074Z"
   },
   {
    "duration": 12,
    "start_time": "2025-06-24T15:38:59.084Z"
   },
   {
    "duration": 1372,
    "start_time": "2025-06-24T15:38:59.098Z"
   },
   {
    "duration": 9,
    "start_time": "2025-06-24T15:39:00.472Z"
   },
   {
    "duration": 271,
    "start_time": "2025-06-24T15:39:00.482Z"
   },
   {
    "duration": 8,
    "start_time": "2025-06-24T15:39:00.755Z"
   },
   {
    "duration": 16,
    "start_time": "2025-06-24T15:39:00.765Z"
   },
   {
    "duration": 549,
    "start_time": "2025-06-24T15:39:00.785Z"
   },
   {
    "duration": 13,
    "start_time": "2025-06-24T15:39:01.336Z"
   },
   {
    "duration": 1049,
    "start_time": "2025-06-24T15:39:01.351Z"
   },
   {
    "duration": 170,
    "start_time": "2025-06-24T15:39:02.402Z"
   },
   {
    "duration": 164,
    "start_time": "2025-06-24T15:39:02.573Z"
   },
   {
    "duration": 149,
    "start_time": "2025-06-24T15:39:02.739Z"
   },
   {
    "duration": 241,
    "start_time": "2025-06-24T15:39:02.890Z"
   },
   {
    "duration": 6,
    "start_time": "2025-06-24T15:39:03.138Z"
   },
   {
    "duration": 37,
    "start_time": "2025-06-24T15:39:03.145Z"
   },
   {
    "duration": 55,
    "start_time": "2025-06-24T15:39:03.184Z"
   },
   {
    "duration": 17,
    "start_time": "2025-06-24T15:39:03.240Z"
   },
   {
    "duration": 6,
    "start_time": "2025-06-24T15:39:03.258Z"
   },
   {
    "duration": 20,
    "start_time": "2025-06-24T15:39:03.266Z"
   },
   {
    "duration": 29,
    "start_time": "2025-06-24T15:39:03.288Z"
   },
   {
    "duration": 45,
    "start_time": "2025-06-24T15:39:03.318Z"
   },
   {
    "duration": 9,
    "start_time": "2025-06-24T15:39:03.364Z"
   },
   {
    "duration": 21,
    "start_time": "2025-06-24T15:39:03.374Z"
   },
   {
    "duration": 21,
    "start_time": "2025-06-24T15:39:03.397Z"
   },
   {
    "duration": 15,
    "start_time": "2025-06-24T15:39:03.420Z"
   },
   {
    "duration": 37,
    "start_time": "2025-06-24T15:39:03.437Z"
   },
   {
    "duration": 17,
    "start_time": "2025-06-24T15:39:03.475Z"
   },
   {
    "duration": 7,
    "start_time": "2025-06-24T15:39:03.493Z"
   },
   {
    "duration": 6,
    "start_time": "2025-06-24T15:39:03.502Z"
   },
   {
    "duration": 13,
    "start_time": "2025-06-24T15:39:03.509Z"
   },
   {
    "duration": 20,
    "start_time": "2025-06-24T15:39:03.523Z"
   },
   {
    "duration": 16,
    "start_time": "2025-06-24T15:39:03.545Z"
   },
   {
    "duration": 22,
    "start_time": "2025-06-24T15:39:03.563Z"
   },
   {
    "duration": 18,
    "start_time": "2025-06-24T15:39:03.587Z"
   },
   {
    "duration": 120,
    "start_time": "2025-06-24T15:39:03.607Z"
   },
   {
    "duration": 1182,
    "start_time": "2025-06-24T15:39:32.590Z"
   },
   {
    "duration": 47,
    "start_time": "2025-06-24T15:39:33.774Z"
   },
   {
    "duration": 15,
    "start_time": "2025-06-24T15:39:33.823Z"
   },
   {
    "duration": 25,
    "start_time": "2025-06-24T15:39:33.840Z"
   },
   {
    "duration": 14,
    "start_time": "2025-06-24T15:39:33.866Z"
   },
   {
    "duration": 19,
    "start_time": "2025-06-24T15:39:33.882Z"
   },
   {
    "duration": 12,
    "start_time": "2025-06-24T15:39:33.903Z"
   },
   {
    "duration": 8,
    "start_time": "2025-06-24T15:39:33.916Z"
   },
   {
    "duration": 12,
    "start_time": "2025-06-24T15:39:33.926Z"
   },
   {
    "duration": 36,
    "start_time": "2025-06-24T15:39:33.940Z"
   },
   {
    "duration": 12,
    "start_time": "2025-06-24T15:39:33.978Z"
   },
   {
    "duration": 8,
    "start_time": "2025-06-24T15:39:33.992Z"
   },
   {
    "duration": 13,
    "start_time": "2025-06-24T15:39:34.002Z"
   },
   {
    "duration": 6,
    "start_time": "2025-06-24T15:39:34.016Z"
   },
   {
    "duration": 15,
    "start_time": "2025-06-24T15:39:34.024Z"
   },
   {
    "duration": 9,
    "start_time": "2025-06-24T15:39:34.041Z"
   },
   {
    "duration": 273,
    "start_time": "2025-06-24T15:39:34.051Z"
   },
   {
    "duration": 12,
    "start_time": "2025-06-24T15:39:34.325Z"
   },
   {
    "duration": 311,
    "start_time": "2025-06-24T15:39:34.339Z"
   },
   {
    "duration": 6,
    "start_time": "2025-06-24T15:39:34.652Z"
   },
   {
    "duration": 31,
    "start_time": "2025-06-24T15:39:34.659Z"
   },
   {
    "duration": 25,
    "start_time": "2025-06-24T15:39:34.691Z"
   },
   {
    "duration": 1374,
    "start_time": "2025-06-24T15:39:34.718Z"
   },
   {
    "duration": 7,
    "start_time": "2025-06-24T15:39:36.094Z"
   },
   {
    "duration": 284,
    "start_time": "2025-06-24T15:39:36.103Z"
   },
   {
    "duration": 8,
    "start_time": "2025-06-24T15:39:36.389Z"
   },
   {
    "duration": 3,
    "start_time": "2025-06-24T15:39:36.399Z"
   },
   {
    "duration": 548,
    "start_time": "2025-06-24T15:39:36.406Z"
   },
   {
    "duration": 12,
    "start_time": "2025-06-24T15:39:36.956Z"
   },
   {
    "duration": 993,
    "start_time": "2025-06-24T15:39:36.969Z"
   },
   {
    "duration": 169,
    "start_time": "2025-06-24T15:39:37.963Z"
   },
   {
    "duration": 155,
    "start_time": "2025-06-24T15:39:38.138Z"
   },
   {
    "duration": 145,
    "start_time": "2025-06-24T15:39:38.295Z"
   },
   {
    "duration": 242,
    "start_time": "2025-06-24T15:39:38.441Z"
   },
   {
    "duration": 5,
    "start_time": "2025-06-24T15:39:38.685Z"
   },
   {
    "duration": 10,
    "start_time": "2025-06-24T15:39:38.692Z"
   },
   {
    "duration": 15,
    "start_time": "2025-06-24T15:39:38.704Z"
   },
   {
    "duration": 18,
    "start_time": "2025-06-24T15:39:38.720Z"
   },
   {
    "duration": 6,
    "start_time": "2025-06-24T15:39:38.740Z"
   },
   {
    "duration": 14,
    "start_time": "2025-06-24T15:39:38.747Z"
   },
   {
    "duration": 10,
    "start_time": "2025-06-24T15:39:38.762Z"
   },
   {
    "duration": 8,
    "start_time": "2025-06-24T15:39:38.774Z"
   },
   {
    "duration": 8,
    "start_time": "2025-06-24T15:39:38.784Z"
   },
   {
    "duration": 18,
    "start_time": "2025-06-24T15:39:38.793Z"
   },
   {
    "duration": 25,
    "start_time": "2025-06-24T15:39:38.813Z"
   },
   {
    "duration": 9,
    "start_time": "2025-06-24T15:39:38.839Z"
   },
   {
    "duration": 9,
    "start_time": "2025-06-24T15:39:38.849Z"
   },
   {
    "duration": 10,
    "start_time": "2025-06-24T15:39:38.859Z"
   },
   {
    "duration": 7,
    "start_time": "2025-06-24T15:39:38.870Z"
   },
   {
    "duration": 5,
    "start_time": "2025-06-24T15:39:38.879Z"
   },
   {
    "duration": 7,
    "start_time": "2025-06-24T15:39:38.886Z"
   },
   {
    "duration": 48,
    "start_time": "2025-06-24T15:39:38.895Z"
   },
   {
    "duration": 8,
    "start_time": "2025-06-24T15:39:38.945Z"
   },
   {
    "duration": 22,
    "start_time": "2025-06-24T15:39:38.955Z"
   },
   {
    "duration": 8,
    "start_time": "2025-06-24T15:39:38.979Z"
   },
   {
    "duration": 7,
    "start_time": "2025-06-24T15:39:38.989Z"
   },
   {
    "duration": 11,
    "start_time": "2025-06-24T15:41:22.145Z"
   },
   {
    "duration": 11,
    "start_time": "2025-06-24T15:42:00.770Z"
   },
   {
    "duration": 12,
    "start_time": "2025-06-24T15:42:09.017Z"
   },
   {
    "duration": 17,
    "start_time": "2025-06-24T15:42:19.754Z"
   },
   {
    "duration": 8,
    "start_time": "2025-06-24T15:43:06.328Z"
   },
   {
    "duration": 15,
    "start_time": "2025-06-24T15:45:58.146Z"
   },
   {
    "duration": 17,
    "start_time": "2025-06-24T15:46:04.226Z"
   },
   {
    "duration": 17,
    "start_time": "2025-06-24T15:46:09.458Z"
   },
   {
    "duration": 11,
    "start_time": "2025-06-24T15:46:44.858Z"
   },
   {
    "duration": 8,
    "start_time": "2025-06-24T15:46:46.602Z"
   },
   {
    "duration": 7,
    "start_time": "2025-06-24T15:56:48.374Z"
   },
   {
    "duration": 12,
    "start_time": "2025-06-24T16:04:14.532Z"
   },
   {
    "duration": 9,
    "start_time": "2025-06-24T16:04:41.068Z"
   },
   {
    "duration": 1227,
    "start_time": "2025-06-24T16:05:45.356Z"
   },
   {
    "duration": 61,
    "start_time": "2025-06-24T16:05:46.585Z"
   },
   {
    "duration": 17,
    "start_time": "2025-06-24T16:05:46.648Z"
   },
   {
    "duration": 19,
    "start_time": "2025-06-24T16:05:46.667Z"
   },
   {
    "duration": 15,
    "start_time": "2025-06-24T16:05:46.687Z"
   },
   {
    "duration": 7,
    "start_time": "2025-06-24T16:05:46.704Z"
   },
   {
    "duration": 25,
    "start_time": "2025-06-24T16:05:46.713Z"
   },
   {
    "duration": 4,
    "start_time": "2025-06-24T16:05:46.740Z"
   },
   {
    "duration": 12,
    "start_time": "2025-06-24T16:05:46.746Z"
   },
   {
    "duration": 5,
    "start_time": "2025-06-24T16:05:46.761Z"
   },
   {
    "duration": 15,
    "start_time": "2025-06-24T16:05:46.768Z"
   },
   {
    "duration": 5,
    "start_time": "2025-06-24T16:05:46.785Z"
   },
   {
    "duration": 15,
    "start_time": "2025-06-24T16:05:46.792Z"
   },
   {
    "duration": 7,
    "start_time": "2025-06-24T16:05:46.837Z"
   },
   {
    "duration": 18,
    "start_time": "2025-06-24T16:05:46.846Z"
   },
   {
    "duration": 29,
    "start_time": "2025-06-24T16:05:46.867Z"
   },
   {
    "duration": 247,
    "start_time": "2025-06-24T16:05:46.898Z"
   },
   {
    "duration": 6,
    "start_time": "2025-06-24T16:05:47.148Z"
   },
   {
    "duration": 325,
    "start_time": "2025-06-24T16:05:47.156Z"
   },
   {
    "duration": 7,
    "start_time": "2025-06-24T16:05:47.484Z"
   },
   {
    "duration": 14,
    "start_time": "2025-06-24T16:05:47.494Z"
   },
   {
    "duration": 32,
    "start_time": "2025-06-24T16:05:47.511Z"
   },
   {
    "duration": 1360,
    "start_time": "2025-06-24T16:05:47.545Z"
   },
   {
    "duration": 9,
    "start_time": "2025-06-24T16:05:48.906Z"
   },
   {
    "duration": 262,
    "start_time": "2025-06-24T16:05:48.917Z"
   },
   {
    "duration": 8,
    "start_time": "2025-06-24T16:05:49.181Z"
   },
   {
    "duration": 7,
    "start_time": "2025-06-24T16:05:49.191Z"
   },
   {
    "duration": 556,
    "start_time": "2025-06-24T16:05:49.202Z"
   },
   {
    "duration": 12,
    "start_time": "2025-06-24T16:05:49.760Z"
   },
   {
    "duration": 1043,
    "start_time": "2025-06-24T16:05:49.774Z"
   },
   {
    "duration": 174,
    "start_time": "2025-06-24T16:05:50.818Z"
   },
   {
    "duration": 244,
    "start_time": "2025-06-24T16:05:50.994Z"
   },
   {
    "duration": 0,
    "start_time": "2025-06-24T16:05:51.239Z"
   },
   {
    "duration": 0,
    "start_time": "2025-06-24T16:05:51.241Z"
   },
   {
    "duration": 0,
    "start_time": "2025-06-24T16:05:51.242Z"
   },
   {
    "duration": 0,
    "start_time": "2025-06-24T16:05:51.243Z"
   },
   {
    "duration": 0,
    "start_time": "2025-06-24T16:05:51.244Z"
   },
   {
    "duration": 0,
    "start_time": "2025-06-24T16:05:51.245Z"
   },
   {
    "duration": 0,
    "start_time": "2025-06-24T16:05:51.246Z"
   },
   {
    "duration": 0,
    "start_time": "2025-06-24T16:05:51.247Z"
   },
   {
    "duration": 0,
    "start_time": "2025-06-24T16:05:51.248Z"
   },
   {
    "duration": 0,
    "start_time": "2025-06-24T16:05:51.249Z"
   },
   {
    "duration": 0,
    "start_time": "2025-06-24T16:05:51.250Z"
   },
   {
    "duration": 0,
    "start_time": "2025-06-24T16:05:51.251Z"
   },
   {
    "duration": 0,
    "start_time": "2025-06-24T16:05:51.252Z"
   },
   {
    "duration": 0,
    "start_time": "2025-06-24T16:05:51.253Z"
   },
   {
    "duration": 0,
    "start_time": "2025-06-24T16:05:51.255Z"
   },
   {
    "duration": 0,
    "start_time": "2025-06-24T16:05:51.256Z"
   },
   {
    "duration": 0,
    "start_time": "2025-06-24T16:05:51.257Z"
   },
   {
    "duration": 0,
    "start_time": "2025-06-24T16:05:51.258Z"
   },
   {
    "duration": 0,
    "start_time": "2025-06-24T16:05:51.259Z"
   },
   {
    "duration": 0,
    "start_time": "2025-06-24T16:05:51.260Z"
   },
   {
    "duration": 0,
    "start_time": "2025-06-24T16:05:51.261Z"
   },
   {
    "duration": 0,
    "start_time": "2025-06-24T16:05:51.262Z"
   },
   {
    "duration": 0,
    "start_time": "2025-06-24T16:05:51.263Z"
   },
   {
    "duration": 0,
    "start_time": "2025-06-24T16:05:51.264Z"
   },
   {
    "duration": 0,
    "start_time": "2025-06-24T16:05:51.265Z"
   },
   {
    "duration": 0,
    "start_time": "2025-06-24T16:05:51.266Z"
   },
   {
    "duration": 1243,
    "start_time": "2025-06-24T16:05:59.533Z"
   },
   {
    "duration": 48,
    "start_time": "2025-06-24T16:06:00.778Z"
   },
   {
    "duration": 16,
    "start_time": "2025-06-24T16:06:00.827Z"
   },
   {
    "duration": 18,
    "start_time": "2025-06-24T16:06:00.845Z"
   },
   {
    "duration": 24,
    "start_time": "2025-06-24T16:06:00.865Z"
   },
   {
    "duration": 18,
    "start_time": "2025-06-24T16:06:00.891Z"
   },
   {
    "duration": 13,
    "start_time": "2025-06-24T16:06:00.910Z"
   },
   {
    "duration": 9,
    "start_time": "2025-06-24T16:06:00.924Z"
   },
   {
    "duration": 11,
    "start_time": "2025-06-24T16:06:00.935Z"
   },
   {
    "duration": 4,
    "start_time": "2025-06-24T16:06:00.949Z"
   },
   {
    "duration": 5,
    "start_time": "2025-06-24T16:06:00.955Z"
   },
   {
    "duration": 25,
    "start_time": "2025-06-24T16:06:00.961Z"
   },
   {
    "duration": 12,
    "start_time": "2025-06-24T16:06:00.988Z"
   },
   {
    "duration": 13,
    "start_time": "2025-06-24T16:06:01.002Z"
   },
   {
    "duration": 22,
    "start_time": "2025-06-24T16:06:01.016Z"
   },
   {
    "duration": 16,
    "start_time": "2025-06-24T16:06:01.040Z"
   },
   {
    "duration": 242,
    "start_time": "2025-06-24T16:06:01.058Z"
   },
   {
    "duration": 5,
    "start_time": "2025-06-24T16:06:01.302Z"
   },
   {
    "duration": 317,
    "start_time": "2025-06-24T16:06:01.309Z"
   },
   {
    "duration": 11,
    "start_time": "2025-06-24T16:06:01.628Z"
   },
   {
    "duration": 14,
    "start_time": "2025-06-24T16:06:01.641Z"
   },
   {
    "duration": 12,
    "start_time": "2025-06-24T16:06:01.657Z"
   },
   {
    "duration": 1369,
    "start_time": "2025-06-24T16:06:01.671Z"
   },
   {
    "duration": 8,
    "start_time": "2025-06-24T16:06:03.041Z"
   },
   {
    "duration": 252,
    "start_time": "2025-06-24T16:06:03.050Z"
   },
   {
    "duration": 10,
    "start_time": "2025-06-24T16:06:03.304Z"
   },
   {
    "duration": 21,
    "start_time": "2025-06-24T16:06:03.316Z"
   },
   {
    "duration": 537,
    "start_time": "2025-06-24T16:06:03.341Z"
   },
   {
    "duration": 12,
    "start_time": "2025-06-24T16:06:03.880Z"
   },
   {
    "duration": 1074,
    "start_time": "2025-06-24T16:06:03.893Z"
   },
   {
    "duration": 178,
    "start_time": "2025-06-24T16:06:04.969Z"
   },
   {
    "duration": 241,
    "start_time": "2025-06-24T16:06:05.150Z"
   },
   {
    "duration": 0,
    "start_time": "2025-06-24T16:06:05.393Z"
   },
   {
    "duration": 0,
    "start_time": "2025-06-24T16:06:05.394Z"
   },
   {
    "duration": 0,
    "start_time": "2025-06-24T16:06:05.395Z"
   },
   {
    "duration": 0,
    "start_time": "2025-06-24T16:06:05.396Z"
   },
   {
    "duration": 0,
    "start_time": "2025-06-24T16:06:05.397Z"
   },
   {
    "duration": 0,
    "start_time": "2025-06-24T16:06:05.398Z"
   },
   {
    "duration": 0,
    "start_time": "2025-06-24T16:06:05.399Z"
   },
   {
    "duration": 0,
    "start_time": "2025-06-24T16:06:05.400Z"
   },
   {
    "duration": 0,
    "start_time": "2025-06-24T16:06:05.401Z"
   },
   {
    "duration": 0,
    "start_time": "2025-06-24T16:06:05.402Z"
   },
   {
    "duration": 0,
    "start_time": "2025-06-24T16:06:05.403Z"
   },
   {
    "duration": 0,
    "start_time": "2025-06-24T16:06:05.404Z"
   },
   {
    "duration": 0,
    "start_time": "2025-06-24T16:06:05.405Z"
   },
   {
    "duration": 0,
    "start_time": "2025-06-24T16:06:05.406Z"
   },
   {
    "duration": 0,
    "start_time": "2025-06-24T16:06:05.407Z"
   },
   {
    "duration": 0,
    "start_time": "2025-06-24T16:06:05.438Z"
   },
   {
    "duration": 0,
    "start_time": "2025-06-24T16:06:05.439Z"
   },
   {
    "duration": 0,
    "start_time": "2025-06-24T16:06:05.440Z"
   },
   {
    "duration": 0,
    "start_time": "2025-06-24T16:06:05.441Z"
   },
   {
    "duration": 0,
    "start_time": "2025-06-24T16:06:05.442Z"
   },
   {
    "duration": 0,
    "start_time": "2025-06-24T16:06:05.444Z"
   },
   {
    "duration": 0,
    "start_time": "2025-06-24T16:06:05.445Z"
   },
   {
    "duration": 0,
    "start_time": "2025-06-24T16:06:05.446Z"
   },
   {
    "duration": 0,
    "start_time": "2025-06-24T16:06:05.447Z"
   },
   {
    "duration": 0,
    "start_time": "2025-06-24T16:06:05.448Z"
   },
   {
    "duration": 0,
    "start_time": "2025-06-24T16:06:05.449Z"
   },
   {
    "duration": 1196,
    "start_time": "2025-06-24T16:08:14.481Z"
   },
   {
    "duration": 46,
    "start_time": "2025-06-24T16:08:15.679Z"
   },
   {
    "duration": 18,
    "start_time": "2025-06-24T16:08:15.727Z"
   },
   {
    "duration": 40,
    "start_time": "2025-06-24T16:08:15.747Z"
   },
   {
    "duration": 14,
    "start_time": "2025-06-24T16:08:15.790Z"
   },
   {
    "duration": 11,
    "start_time": "2025-06-24T16:08:15.805Z"
   },
   {
    "duration": 23,
    "start_time": "2025-06-24T16:08:15.818Z"
   },
   {
    "duration": 360,
    "start_time": "2025-06-24T16:08:15.843Z"
   },
   {
    "duration": 0,
    "start_time": "2025-06-24T16:08:16.207Z"
   },
   {
    "duration": 0,
    "start_time": "2025-06-24T16:08:16.208Z"
   },
   {
    "duration": 0,
    "start_time": "2025-06-24T16:08:16.209Z"
   },
   {
    "duration": 0,
    "start_time": "2025-06-24T16:08:16.210Z"
   },
   {
    "duration": 0,
    "start_time": "2025-06-24T16:08:16.211Z"
   },
   {
    "duration": 0,
    "start_time": "2025-06-24T16:08:16.212Z"
   },
   {
    "duration": 0,
    "start_time": "2025-06-24T16:08:16.213Z"
   },
   {
    "duration": 0,
    "start_time": "2025-06-24T16:08:16.214Z"
   },
   {
    "duration": 0,
    "start_time": "2025-06-24T16:08:16.215Z"
   },
   {
    "duration": 0,
    "start_time": "2025-06-24T16:08:16.216Z"
   },
   {
    "duration": 0,
    "start_time": "2025-06-24T16:08:16.217Z"
   },
   {
    "duration": 0,
    "start_time": "2025-06-24T16:08:16.218Z"
   },
   {
    "duration": 0,
    "start_time": "2025-06-24T16:08:16.219Z"
   },
   {
    "duration": 0,
    "start_time": "2025-06-24T16:08:16.220Z"
   },
   {
    "duration": 0,
    "start_time": "2025-06-24T16:08:16.221Z"
   },
   {
    "duration": 0,
    "start_time": "2025-06-24T16:08:16.222Z"
   },
   {
    "duration": 0,
    "start_time": "2025-06-24T16:08:16.223Z"
   },
   {
    "duration": 0,
    "start_time": "2025-06-24T16:08:16.224Z"
   },
   {
    "duration": 0,
    "start_time": "2025-06-24T16:08:16.225Z"
   },
   {
    "duration": 0,
    "start_time": "2025-06-24T16:08:16.226Z"
   },
   {
    "duration": 0,
    "start_time": "2025-06-24T16:08:16.227Z"
   },
   {
    "duration": 0,
    "start_time": "2025-06-24T16:08:16.228Z"
   },
   {
    "duration": 0,
    "start_time": "2025-06-24T16:08:16.229Z"
   },
   {
    "duration": 0,
    "start_time": "2025-06-24T16:08:16.230Z"
   },
   {
    "duration": 0,
    "start_time": "2025-06-24T16:08:16.231Z"
   },
   {
    "duration": 0,
    "start_time": "2025-06-24T16:08:16.232Z"
   },
   {
    "duration": 0,
    "start_time": "2025-06-24T16:08:16.233Z"
   },
   {
    "duration": 0,
    "start_time": "2025-06-24T16:08:16.234Z"
   },
   {
    "duration": 0,
    "start_time": "2025-06-24T16:08:16.235Z"
   },
   {
    "duration": 0,
    "start_time": "2025-06-24T16:08:16.236Z"
   },
   {
    "duration": 0,
    "start_time": "2025-06-24T16:08:16.237Z"
   },
   {
    "duration": 0,
    "start_time": "2025-06-24T16:08:16.238Z"
   },
   {
    "duration": 0,
    "start_time": "2025-06-24T16:08:16.239Z"
   },
   {
    "duration": 0,
    "start_time": "2025-06-24T16:08:16.240Z"
   },
   {
    "duration": 0,
    "start_time": "2025-06-24T16:08:16.241Z"
   },
   {
    "duration": 0,
    "start_time": "2025-06-24T16:08:16.242Z"
   },
   {
    "duration": 0,
    "start_time": "2025-06-24T16:08:16.243Z"
   },
   {
    "duration": 0,
    "start_time": "2025-06-24T16:08:16.244Z"
   },
   {
    "duration": 0,
    "start_time": "2025-06-24T16:08:16.245Z"
   },
   {
    "duration": 0,
    "start_time": "2025-06-24T16:08:16.246Z"
   },
   {
    "duration": 0,
    "start_time": "2025-06-24T16:08:16.247Z"
   },
   {
    "duration": 0,
    "start_time": "2025-06-24T16:08:16.248Z"
   },
   {
    "duration": 0,
    "start_time": "2025-06-24T16:08:16.249Z"
   },
   {
    "duration": 0,
    "start_time": "2025-06-24T16:08:16.250Z"
   },
   {
    "duration": 0,
    "start_time": "2025-06-24T16:08:16.251Z"
   },
   {
    "duration": 0,
    "start_time": "2025-06-24T16:08:16.252Z"
   },
   {
    "duration": 0,
    "start_time": "2025-06-24T16:08:16.253Z"
   },
   {
    "duration": 0,
    "start_time": "2025-06-24T16:08:16.254Z"
   },
   {
    "duration": 0,
    "start_time": "2025-06-24T16:08:16.255Z"
   },
   {
    "duration": 0,
    "start_time": "2025-06-24T16:08:16.256Z"
   },
   {
    "duration": 1225,
    "start_time": "2025-06-24T16:11:42.960Z"
   },
   {
    "duration": 47,
    "start_time": "2025-06-24T16:11:44.188Z"
   },
   {
    "duration": 15,
    "start_time": "2025-06-24T16:11:44.237Z"
   },
   {
    "duration": 57,
    "start_time": "2025-06-24T16:11:44.254Z"
   },
   {
    "duration": 126,
    "start_time": "2025-06-24T16:11:44.313Z"
   },
   {
    "duration": 6,
    "start_time": "2025-06-24T16:11:44.441Z"
   },
   {
    "duration": 8,
    "start_time": "2025-06-24T16:11:44.448Z"
   },
   {
    "duration": 8,
    "start_time": "2025-06-24T16:11:44.458Z"
   },
   {
    "duration": 9,
    "start_time": "2025-06-24T16:11:44.467Z"
   },
   {
    "duration": 7,
    "start_time": "2025-06-24T16:11:44.478Z"
   },
   {
    "duration": 6,
    "start_time": "2025-06-24T16:11:44.486Z"
   },
   {
    "duration": 5,
    "start_time": "2025-06-24T16:11:44.493Z"
   },
   {
    "duration": 43,
    "start_time": "2025-06-24T16:11:44.499Z"
   },
   {
    "duration": 6,
    "start_time": "2025-06-24T16:11:44.545Z"
   },
   {
    "duration": 23,
    "start_time": "2025-06-24T16:11:44.552Z"
   },
   {
    "duration": 12,
    "start_time": "2025-06-24T16:11:44.577Z"
   },
   {
    "duration": 271,
    "start_time": "2025-06-24T16:11:44.591Z"
   },
   {
    "duration": 6,
    "start_time": "2025-06-24T16:11:44.864Z"
   },
   {
    "duration": 326,
    "start_time": "2025-06-24T16:11:44.872Z"
   },
   {
    "duration": 7,
    "start_time": "2025-06-24T16:11:45.199Z"
   },
   {
    "duration": 12,
    "start_time": "2025-06-24T16:11:45.208Z"
   },
   {
    "duration": 75,
    "start_time": "2025-06-24T16:11:45.222Z"
   },
   {
    "duration": 1365,
    "start_time": "2025-06-24T16:11:45.299Z"
   },
   {
    "duration": 7,
    "start_time": "2025-06-24T16:11:46.666Z"
   },
   {
    "duration": 256,
    "start_time": "2025-06-24T16:11:46.675Z"
   },
   {
    "duration": 9,
    "start_time": "2025-06-24T16:11:46.937Z"
   },
   {
    "duration": 4,
    "start_time": "2025-06-24T16:11:46.947Z"
   },
   {
    "duration": 546,
    "start_time": "2025-06-24T16:11:46.952Z"
   },
   {
    "duration": 12,
    "start_time": "2025-06-24T16:11:47.500Z"
   },
   {
    "duration": 990,
    "start_time": "2025-06-24T16:11:47.513Z"
   },
   {
    "duration": 167,
    "start_time": "2025-06-24T16:11:48.505Z"
   },
   {
    "duration": 155,
    "start_time": "2025-06-24T16:11:48.673Z"
   },
   {
    "duration": 231,
    "start_time": "2025-06-24T16:11:48.830Z"
   },
   {
    "duration": 149,
    "start_time": "2025-06-24T16:11:49.063Z"
   },
   {
    "duration": 6,
    "start_time": "2025-06-24T16:11:49.214Z"
   },
   {
    "duration": 23,
    "start_time": "2025-06-24T16:11:49.222Z"
   },
   {
    "duration": 20,
    "start_time": "2025-06-24T16:11:49.247Z"
   },
   {
    "duration": 20,
    "start_time": "2025-06-24T16:11:49.268Z"
   },
   {
    "duration": 8,
    "start_time": "2025-06-24T16:11:49.289Z"
   },
   {
    "duration": 40,
    "start_time": "2025-06-24T16:11:49.298Z"
   },
   {
    "duration": 15,
    "start_time": "2025-06-24T16:11:49.342Z"
   },
   {
    "duration": 16,
    "start_time": "2025-06-24T16:11:49.359Z"
   },
   {
    "duration": 9,
    "start_time": "2025-06-24T16:11:49.377Z"
   },
   {
    "duration": 6,
    "start_time": "2025-06-24T16:11:49.387Z"
   },
   {
    "duration": 5,
    "start_time": "2025-06-24T16:11:49.395Z"
   },
   {
    "duration": 9,
    "start_time": "2025-06-24T16:11:49.402Z"
   },
   {
    "duration": 30,
    "start_time": "2025-06-24T16:11:49.412Z"
   },
   {
    "duration": 9,
    "start_time": "2025-06-24T16:11:49.444Z"
   },
   {
    "duration": 6,
    "start_time": "2025-06-24T16:11:49.454Z"
   },
   {
    "duration": 10,
    "start_time": "2025-06-24T16:11:49.462Z"
   },
   {
    "duration": 14,
    "start_time": "2025-06-24T16:11:49.473Z"
   },
   {
    "duration": 9,
    "start_time": "2025-06-24T16:11:49.489Z"
   },
   {
    "duration": 39,
    "start_time": "2025-06-24T16:11:49.499Z"
   },
   {
    "duration": 9,
    "start_time": "2025-06-24T16:11:49.539Z"
   },
   {
    "duration": 26,
    "start_time": "2025-06-24T16:11:49.550Z"
   },
   {
    "duration": 8,
    "start_time": "2025-06-24T16:11:49.577Z"
   },
   {
    "duration": 12,
    "start_time": "2025-06-24T16:11:49.587Z"
   },
   {
    "duration": 15,
    "start_time": "2025-06-24T16:11:49.600Z"
   },
   {
    "duration": 7,
    "start_time": "2025-06-24T16:12:17.962Z"
   },
   {
    "duration": 15,
    "start_time": "2025-06-24T16:13:27.239Z"
   },
   {
    "duration": 8,
    "start_time": "2025-06-24T16:13:28.375Z"
   },
   {
    "duration": 17,
    "start_time": "2025-06-24T16:13:56.624Z"
   },
   {
    "duration": 7,
    "start_time": "2025-06-24T16:13:57.968Z"
   },
   {
    "duration": 84,
    "start_time": "2025-06-24T16:23:07.359Z"
   },
   {
    "duration": 97,
    "start_time": "2025-06-24T16:27:08.799Z"
   },
   {
    "duration": 1178,
    "start_time": "2025-06-24T17:10:47.538Z"
   },
   {
    "duration": 45,
    "start_time": "2025-06-24T17:10:48.718Z"
   },
   {
    "duration": 14,
    "start_time": "2025-06-24T17:10:48.764Z"
   },
   {
    "duration": 20,
    "start_time": "2025-06-24T17:10:48.780Z"
   },
   {
    "duration": 16,
    "start_time": "2025-06-24T17:10:48.802Z"
   },
   {
    "duration": 3,
    "start_time": "2025-06-24T17:10:48.820Z"
   },
   {
    "duration": 15,
    "start_time": "2025-06-24T17:10:48.824Z"
   },
   {
    "duration": 8,
    "start_time": "2025-06-24T17:10:48.841Z"
   },
   {
    "duration": 11,
    "start_time": "2025-06-24T17:10:48.850Z"
   },
   {
    "duration": 10,
    "start_time": "2025-06-24T17:10:48.862Z"
   },
   {
    "duration": 25,
    "start_time": "2025-06-24T17:10:48.874Z"
   },
   {
    "duration": 5,
    "start_time": "2025-06-24T17:10:48.901Z"
   },
   {
    "duration": 13,
    "start_time": "2025-06-24T17:10:48.907Z"
   },
   {
    "duration": 6,
    "start_time": "2025-06-24T17:10:48.922Z"
   },
   {
    "duration": 15,
    "start_time": "2025-06-24T17:10:48.929Z"
   },
   {
    "duration": 7,
    "start_time": "2025-06-24T17:10:48.945Z"
   },
   {
    "duration": 262,
    "start_time": "2025-06-24T17:10:48.953Z"
   },
   {
    "duration": 5,
    "start_time": "2025-06-24T17:10:49.217Z"
   },
   {
    "duration": 289,
    "start_time": "2025-06-24T17:10:49.223Z"
   },
   {
    "duration": 5,
    "start_time": "2025-06-24T17:10:49.514Z"
   },
   {
    "duration": 16,
    "start_time": "2025-06-24T17:10:49.520Z"
   },
   {
    "duration": 31,
    "start_time": "2025-06-24T17:10:49.538Z"
   },
   {
    "duration": 1313,
    "start_time": "2025-06-24T17:10:49.571Z"
   },
   {
    "duration": 13,
    "start_time": "2025-06-24T17:10:50.885Z"
   },
   {
    "duration": 229,
    "start_time": "2025-06-24T17:10:50.900Z"
   },
   {
    "duration": 9,
    "start_time": "2025-06-24T17:10:51.131Z"
   },
   {
    "duration": 4,
    "start_time": "2025-06-24T17:10:51.141Z"
   },
   {
    "duration": 500,
    "start_time": "2025-06-24T17:10:51.147Z"
   },
   {
    "duration": 13,
    "start_time": "2025-06-24T17:10:51.650Z"
   },
   {
    "duration": 1066,
    "start_time": "2025-06-24T17:10:51.665Z"
   },
   {
    "duration": 168,
    "start_time": "2025-06-24T17:10:52.733Z"
   },
   {
    "duration": 158,
    "start_time": "2025-06-24T17:10:52.903Z"
   },
   {
    "duration": 217,
    "start_time": "2025-06-24T17:10:53.063Z"
   },
   {
    "duration": 159,
    "start_time": "2025-06-24T17:10:53.282Z"
   },
   {
    "duration": 6,
    "start_time": "2025-06-24T17:10:53.442Z"
   },
   {
    "duration": 9,
    "start_time": "2025-06-24T17:10:53.449Z"
   },
   {
    "duration": 28,
    "start_time": "2025-06-24T17:10:53.459Z"
   },
   {
    "duration": 12,
    "start_time": "2025-06-24T17:10:53.488Z"
   },
   {
    "duration": 23,
    "start_time": "2025-06-24T17:10:53.502Z"
   },
   {
    "duration": 10,
    "start_time": "2025-06-24T17:10:53.526Z"
   },
   {
    "duration": 8,
    "start_time": "2025-06-24T17:10:53.540Z"
   },
   {
    "duration": 10,
    "start_time": "2025-06-24T17:10:53.550Z"
   },
   {
    "duration": 6,
    "start_time": "2025-06-24T17:10:53.562Z"
   },
   {
    "duration": 7,
    "start_time": "2025-06-24T17:10:53.571Z"
   },
   {
    "duration": 21,
    "start_time": "2025-06-24T17:10:53.580Z"
   },
   {
    "duration": 8,
    "start_time": "2025-06-24T17:10:53.603Z"
   },
   {
    "duration": 21,
    "start_time": "2025-06-24T17:10:53.613Z"
   },
   {
    "duration": 88,
    "start_time": "2025-06-24T17:10:53.636Z"
   },
   {
    "duration": 99,
    "start_time": "2025-06-24T17:10:53.726Z"
   },
   {
    "duration": 11,
    "start_time": "2025-06-24T17:10:53.827Z"
   },
   {
    "duration": 7,
    "start_time": "2025-06-24T17:10:53.839Z"
   },
   {
    "duration": 15,
    "start_time": "2025-06-24T17:10:53.847Z"
   },
   {
    "duration": 9,
    "start_time": "2025-06-24T17:10:53.864Z"
   },
   {
    "duration": 9,
    "start_time": "2025-06-24T17:10:53.874Z"
   },
   {
    "duration": 19,
    "start_time": "2025-06-24T17:10:53.885Z"
   },
   {
    "duration": 16,
    "start_time": "2025-06-24T17:10:53.906Z"
   },
   {
    "duration": 16,
    "start_time": "2025-06-24T17:10:53.924Z"
   },
   {
    "duration": 11,
    "start_time": "2025-06-24T17:10:53.941Z"
   },
   {
    "duration": 1279,
    "start_time": "2025-06-24T17:11:38.171Z"
   },
   {
    "duration": 50,
    "start_time": "2025-06-24T17:11:39.452Z"
   },
   {
    "duration": 17,
    "start_time": "2025-06-24T17:11:39.504Z"
   },
   {
    "duration": 25,
    "start_time": "2025-06-24T17:11:39.523Z"
   },
   {
    "duration": 15,
    "start_time": "2025-06-24T17:11:39.550Z"
   },
   {
    "duration": 6,
    "start_time": "2025-06-24T17:11:39.567Z"
   },
   {
    "duration": 24,
    "start_time": "2025-06-24T17:11:39.575Z"
   },
   {
    "duration": 8,
    "start_time": "2025-06-24T17:11:39.601Z"
   },
   {
    "duration": 12,
    "start_time": "2025-06-24T17:11:39.611Z"
   },
   {
    "duration": 5,
    "start_time": "2025-06-24T17:11:39.625Z"
   },
   {
    "duration": 6,
    "start_time": "2025-06-24T17:11:39.632Z"
   },
   {
    "duration": 119,
    "start_time": "2025-06-24T17:11:39.640Z"
   },
   {
    "duration": 62,
    "start_time": "2025-06-24T17:11:39.760Z"
   },
   {
    "duration": 6,
    "start_time": "2025-06-24T17:11:39.825Z"
   },
   {
    "duration": 16,
    "start_time": "2025-06-24T17:11:39.832Z"
   },
   {
    "duration": 6,
    "start_time": "2025-06-24T17:11:39.850Z"
   },
   {
    "duration": 255,
    "start_time": "2025-06-24T17:11:39.857Z"
   },
   {
    "duration": 5,
    "start_time": "2025-06-24T17:11:40.114Z"
   },
   {
    "duration": 394,
    "start_time": "2025-06-24T17:11:40.121Z"
   },
   {
    "duration": 6,
    "start_time": "2025-06-24T17:11:40.517Z"
   },
   {
    "duration": 79,
    "start_time": "2025-06-24T17:11:40.524Z"
   },
   {
    "duration": 32,
    "start_time": "2025-06-24T17:11:40.605Z"
   },
   {
    "duration": 1308,
    "start_time": "2025-06-24T17:11:40.639Z"
   },
   {
    "duration": 9,
    "start_time": "2025-06-24T17:11:41.949Z"
   },
   {
    "duration": 242,
    "start_time": "2025-06-24T17:11:41.960Z"
   },
   {
    "duration": 7,
    "start_time": "2025-06-24T17:11:42.204Z"
   },
   {
    "duration": 7,
    "start_time": "2025-06-24T17:11:42.212Z"
   },
   {
    "duration": 514,
    "start_time": "2025-06-24T17:11:42.221Z"
   },
   {
    "duration": 12,
    "start_time": "2025-06-24T17:11:42.736Z"
   },
   {
    "duration": 973,
    "start_time": "2025-06-24T17:11:42.749Z"
   },
   {
    "duration": 170,
    "start_time": "2025-06-24T17:11:43.724Z"
   },
   {
    "duration": 149,
    "start_time": "2025-06-24T17:11:43.896Z"
   },
   {
    "duration": 227,
    "start_time": "2025-06-24T17:11:44.047Z"
   },
   {
    "duration": 137,
    "start_time": "2025-06-24T17:11:44.276Z"
   },
   {
    "duration": 6,
    "start_time": "2025-06-24T17:11:44.414Z"
   },
   {
    "duration": 11,
    "start_time": "2025-06-24T17:11:44.421Z"
   },
   {
    "duration": 11,
    "start_time": "2025-06-24T17:11:44.434Z"
   },
   {
    "duration": 13,
    "start_time": "2025-06-24T17:11:44.447Z"
   },
   {
    "duration": 23,
    "start_time": "2025-06-24T17:11:44.461Z"
   },
   {
    "duration": 11,
    "start_time": "2025-06-24T17:11:44.485Z"
   },
   {
    "duration": 12,
    "start_time": "2025-06-24T17:11:44.500Z"
   },
   {
    "duration": 101,
    "start_time": "2025-06-24T17:11:44.513Z"
   },
   {
    "duration": 21,
    "start_time": "2025-06-24T17:11:44.616Z"
   },
   {
    "duration": 7,
    "start_time": "2025-06-24T17:11:44.639Z"
   },
   {
    "duration": 9,
    "start_time": "2025-06-24T17:11:44.647Z"
   },
   {
    "duration": 20,
    "start_time": "2025-06-24T17:11:44.658Z"
   },
   {
    "duration": 23,
    "start_time": "2025-06-24T17:11:44.679Z"
   },
   {
    "duration": 22,
    "start_time": "2025-06-24T17:11:44.703Z"
   },
   {
    "duration": 12,
    "start_time": "2025-06-24T17:11:44.727Z"
   },
   {
    "duration": 7,
    "start_time": "2025-06-24T17:11:44.741Z"
   },
   {
    "duration": 10,
    "start_time": "2025-06-24T17:11:44.751Z"
   },
   {
    "duration": 9,
    "start_time": "2025-06-24T17:11:44.764Z"
   },
   {
    "duration": 9,
    "start_time": "2025-06-24T17:11:44.798Z"
   },
   {
    "duration": 10,
    "start_time": "2025-06-24T17:11:44.809Z"
   },
   {
    "duration": 13,
    "start_time": "2025-06-24T17:11:44.821Z"
   },
   {
    "duration": 26,
    "start_time": "2025-06-24T17:11:44.835Z"
   },
   {
    "duration": 35,
    "start_time": "2025-06-24T17:11:44.862Z"
   },
   {
    "duration": 6,
    "start_time": "2025-06-24T17:11:44.898Z"
   },
   {
    "duration": 50,
    "start_time": "2025-06-24T19:06:03.096Z"
   },
   {
    "duration": 1431,
    "start_time": "2025-06-24T19:06:08.464Z"
   },
   {
    "duration": 46,
    "start_time": "2025-06-24T19:06:09.897Z"
   },
   {
    "duration": 45,
    "start_time": "2025-06-24T19:06:09.945Z"
   },
   {
    "duration": 17,
    "start_time": "2025-06-24T19:06:09.992Z"
   },
   {
    "duration": 14,
    "start_time": "2025-06-24T19:06:10.011Z"
   },
   {
    "duration": 21,
    "start_time": "2025-06-24T19:06:10.026Z"
   },
   {
    "duration": 6,
    "start_time": "2025-06-24T19:06:10.049Z"
   },
   {
    "duration": 8,
    "start_time": "2025-06-24T19:06:10.057Z"
   },
   {
    "duration": 10,
    "start_time": "2025-06-24T19:06:10.067Z"
   },
   {
    "duration": 5,
    "start_time": "2025-06-24T19:06:10.078Z"
   },
   {
    "duration": 18,
    "start_time": "2025-06-24T19:06:10.085Z"
   },
   {
    "duration": 9,
    "start_time": "2025-06-24T19:06:10.105Z"
   },
   {
    "duration": 10,
    "start_time": "2025-06-24T19:06:10.116Z"
   },
   {
    "duration": 5,
    "start_time": "2025-06-24T19:06:10.129Z"
   },
   {
    "duration": 98,
    "start_time": "2025-06-24T19:06:10.135Z"
   },
   {
    "duration": 7,
    "start_time": "2025-06-24T19:06:10.235Z"
   },
   {
    "duration": 6,
    "start_time": "2025-06-24T19:06:10.243Z"
   },
   {
    "duration": 233,
    "start_time": "2025-06-24T19:06:10.250Z"
   },
   {
    "duration": 5,
    "start_time": "2025-06-24T19:06:10.485Z"
   },
   {
    "duration": 308,
    "start_time": "2025-06-24T19:06:10.491Z"
   },
   {
    "duration": 6,
    "start_time": "2025-06-24T19:06:10.801Z"
   },
   {
    "duration": 32,
    "start_time": "2025-06-24T19:06:10.809Z"
   },
   {
    "duration": 14,
    "start_time": "2025-06-24T19:06:10.842Z"
   },
   {
    "duration": 1331,
    "start_time": "2025-06-24T19:06:10.860Z"
   },
   {
    "duration": 9,
    "start_time": "2025-06-24T19:06:12.193Z"
   },
   {
    "duration": 255,
    "start_time": "2025-06-24T19:06:12.203Z"
   },
   {
    "duration": 9,
    "start_time": "2025-06-24T19:06:12.461Z"
   },
   {
    "duration": 3,
    "start_time": "2025-06-24T19:06:12.472Z"
   },
   {
    "duration": 532,
    "start_time": "2025-06-24T19:06:12.477Z"
   },
   {
    "duration": 12,
    "start_time": "2025-06-24T19:06:13.012Z"
   },
   {
    "duration": 958,
    "start_time": "2025-06-24T19:06:13.027Z"
   },
   {
    "duration": 168,
    "start_time": "2025-06-24T19:06:13.988Z"
   },
   {
    "duration": 157,
    "start_time": "2025-06-24T19:06:14.159Z"
   },
   {
    "duration": 236,
    "start_time": "2025-06-24T19:06:14.319Z"
   },
   {
    "duration": 146,
    "start_time": "2025-06-24T19:06:14.559Z"
   },
   {
    "duration": 7,
    "start_time": "2025-06-24T19:06:14.707Z"
   },
   {
    "duration": 9,
    "start_time": "2025-06-24T19:06:14.716Z"
   },
   {
    "duration": 6,
    "start_time": "2025-06-24T19:06:14.727Z"
   },
   {
    "duration": 29,
    "start_time": "2025-06-24T19:06:14.735Z"
   },
   {
    "duration": 66,
    "start_time": "2025-06-24T19:06:14.765Z"
   },
   {
    "duration": 8,
    "start_time": "2025-06-24T19:06:14.835Z"
   },
   {
    "duration": 14,
    "start_time": "2025-06-24T19:06:14.844Z"
   },
   {
    "duration": 10,
    "start_time": "2025-06-24T19:06:14.860Z"
   },
   {
    "duration": 6,
    "start_time": "2025-06-24T19:06:14.871Z"
   },
   {
    "duration": 5,
    "start_time": "2025-06-24T19:06:14.878Z"
   },
   {
    "duration": 5,
    "start_time": "2025-06-24T19:06:14.885Z"
   },
   {
    "duration": 8,
    "start_time": "2025-06-24T19:06:14.892Z"
   },
   {
    "duration": 8,
    "start_time": "2025-06-24T19:06:14.901Z"
   },
   {
    "duration": 15,
    "start_time": "2025-06-24T19:06:14.911Z"
   },
   {
    "duration": 38,
    "start_time": "2025-06-24T19:06:14.927Z"
   },
   {
    "duration": 6,
    "start_time": "2025-06-24T19:06:14.966Z"
   },
   {
    "duration": 5,
    "start_time": "2025-06-24T19:06:14.974Z"
   },
   {
    "duration": 10,
    "start_time": "2025-06-24T19:06:14.981Z"
   },
   {
    "duration": 8,
    "start_time": "2025-06-24T19:06:14.993Z"
   },
   {
    "duration": 8,
    "start_time": "2025-06-24T19:06:15.003Z"
   },
   {
    "duration": 56,
    "start_time": "2025-06-24T19:06:15.013Z"
   },
   {
    "duration": 8,
    "start_time": "2025-06-24T19:06:15.071Z"
   },
   {
    "duration": 49,
    "start_time": "2025-06-24T19:06:15.080Z"
   },
   {
    "duration": 27,
    "start_time": "2025-06-24T19:06:15.131Z"
   },
   {
    "duration": 5,
    "start_time": "2025-06-24T19:06:52.555Z"
   },
   {
    "duration": 5,
    "start_time": "2025-06-24T19:07:22.968Z"
   },
   {
    "duration": 132,
    "start_time": "2025-06-24T19:08:45.742Z"
   },
   {
    "duration": 13,
    "start_time": "2025-06-24T19:08:57.741Z"
   },
   {
    "duration": 6,
    "start_time": "2025-06-24T19:10:43.961Z"
   },
   {
    "duration": 5,
    "start_time": "2025-06-24T19:11:11.440Z"
   },
   {
    "duration": 5,
    "start_time": "2025-06-24T19:11:18.071Z"
   },
   {
    "duration": 8,
    "start_time": "2025-06-24T19:12:19.486Z"
   },
   {
    "duration": 1167,
    "start_time": "2025-06-24T19:21:43.515Z"
   },
   {
    "duration": 57,
    "start_time": "2025-06-24T19:21:44.684Z"
   },
   {
    "duration": 16,
    "start_time": "2025-06-24T19:21:44.743Z"
   },
   {
    "duration": 18,
    "start_time": "2025-06-24T19:21:44.762Z"
   },
   {
    "duration": 14,
    "start_time": "2025-06-24T19:21:44.782Z"
   },
   {
    "duration": 15,
    "start_time": "2025-06-24T19:21:44.797Z"
   },
   {
    "duration": 6,
    "start_time": "2025-06-24T19:21:44.814Z"
   },
   {
    "duration": 8,
    "start_time": "2025-06-24T19:21:44.822Z"
   },
   {
    "duration": 30,
    "start_time": "2025-06-24T19:21:44.832Z"
   },
   {
    "duration": 5,
    "start_time": "2025-06-24T19:21:44.865Z"
   },
   {
    "duration": 6,
    "start_time": "2025-06-24T19:21:44.872Z"
   },
   {
    "duration": 5,
    "start_time": "2025-06-24T19:21:44.880Z"
   },
   {
    "duration": 11,
    "start_time": "2025-06-24T19:21:44.887Z"
   },
   {
    "duration": 6,
    "start_time": "2025-06-24T19:21:44.900Z"
   },
   {
    "duration": 18,
    "start_time": "2025-06-24T19:21:44.908Z"
   },
   {
    "duration": 6,
    "start_time": "2025-06-24T19:21:44.960Z"
   },
   {
    "duration": 5,
    "start_time": "2025-06-24T19:21:44.967Z"
   },
   {
    "duration": 7,
    "start_time": "2025-06-24T19:21:44.974Z"
   },
   {
    "duration": 6,
    "start_time": "2025-06-24T19:21:44.983Z"
   },
   {
    "duration": 270,
    "start_time": "2025-06-24T19:21:44.990Z"
   },
   {
    "duration": 5,
    "start_time": "2025-06-24T19:21:45.262Z"
   },
   {
    "duration": 318,
    "start_time": "2025-06-24T19:21:45.269Z"
   },
   {
    "duration": 7,
    "start_time": "2025-06-24T19:21:45.588Z"
   },
   {
    "duration": 107,
    "start_time": "2025-06-24T19:21:45.596Z"
   },
   {
    "duration": 11,
    "start_time": "2025-06-24T19:21:45.705Z"
   },
   {
    "duration": 1380,
    "start_time": "2025-06-24T19:21:45.717Z"
   },
   {
    "duration": 7,
    "start_time": "2025-06-24T19:21:47.099Z"
   },
   {
    "duration": 207,
    "start_time": "2025-06-24T19:21:47.110Z"
   },
   {
    "duration": 9,
    "start_time": "2025-06-24T19:21:47.319Z"
   },
   {
    "duration": 4,
    "start_time": "2025-06-24T19:21:47.329Z"
   },
   {
    "duration": 437,
    "start_time": "2025-06-24T19:21:47.335Z"
   },
   {
    "duration": 11,
    "start_time": "2025-06-24T19:21:47.774Z"
   },
   {
    "duration": 687,
    "start_time": "2025-06-24T19:21:47.786Z"
   },
   {
    "duration": 133,
    "start_time": "2025-06-24T19:21:48.475Z"
   },
   {
    "duration": 150,
    "start_time": "2025-06-24T19:21:48.610Z"
   },
   {
    "duration": 181,
    "start_time": "2025-06-24T19:21:48.762Z"
   },
   {
    "duration": 263,
    "start_time": "2025-06-24T19:21:48.945Z"
   },
   {
    "duration": 5,
    "start_time": "2025-06-24T19:21:49.210Z"
   },
   {
    "duration": 13,
    "start_time": "2025-06-24T19:21:49.217Z"
   },
   {
    "duration": 5,
    "start_time": "2025-06-24T19:21:49.232Z"
   },
   {
    "duration": 23,
    "start_time": "2025-06-24T19:21:49.239Z"
   },
   {
    "duration": 5,
    "start_time": "2025-06-24T19:21:49.264Z"
   },
   {
    "duration": 10,
    "start_time": "2025-06-24T19:21:49.271Z"
   },
   {
    "duration": 12,
    "start_time": "2025-06-24T19:21:49.284Z"
   },
   {
    "duration": 10,
    "start_time": "2025-06-24T19:21:49.299Z"
   },
   {
    "duration": 6,
    "start_time": "2025-06-24T19:21:49.311Z"
   },
   {
    "duration": 43,
    "start_time": "2025-06-24T19:21:49.320Z"
   },
   {
    "duration": 6,
    "start_time": "2025-06-24T19:21:49.365Z"
   },
   {
    "duration": 9,
    "start_time": "2025-06-24T19:21:49.373Z"
   },
   {
    "duration": 9,
    "start_time": "2025-06-24T19:21:49.384Z"
   },
   {
    "duration": 30,
    "start_time": "2025-06-24T19:21:49.395Z"
   },
   {
    "duration": 13,
    "start_time": "2025-06-24T19:21:49.427Z"
   },
   {
    "duration": 23,
    "start_time": "2025-06-24T19:21:49.442Z"
   },
   {
    "duration": 6,
    "start_time": "2025-06-24T19:21:49.467Z"
   },
   {
    "duration": 11,
    "start_time": "2025-06-24T19:21:49.475Z"
   },
   {
    "duration": 9,
    "start_time": "2025-06-24T19:21:49.488Z"
   },
   {
    "duration": 16,
    "start_time": "2025-06-24T19:21:49.499Z"
   },
   {
    "duration": 44,
    "start_time": "2025-06-24T19:21:49.517Z"
   },
   {
    "duration": 9,
    "start_time": "2025-06-24T19:21:49.562Z"
   },
   {
    "duration": 14,
    "start_time": "2025-06-24T19:21:49.573Z"
   },
   {
    "duration": 120,
    "start_time": "2025-06-24T19:21:49.589Z"
   },
   {
    "duration": 5,
    "start_time": "2025-06-24T19:23:20.742Z"
   },
   {
    "duration": 183,
    "start_time": "2025-06-24T19:23:54.567Z"
   },
   {
    "duration": 158,
    "start_time": "2025-06-24T19:30:29.757Z"
   },
   {
    "duration": 145,
    "start_time": "2025-06-24T19:30:41.792Z"
   },
   {
    "duration": 173,
    "start_time": "2025-06-24T19:31:27.522Z"
   },
   {
    "duration": 148,
    "start_time": "2025-06-24T19:32:20.606Z"
   },
   {
    "duration": 150,
    "start_time": "2025-06-24T19:33:14.415Z"
   },
   {
    "duration": 148,
    "start_time": "2025-06-24T19:33:40.982Z"
   },
   {
    "duration": 145,
    "start_time": "2025-06-24T19:34:24.942Z"
   },
   {
    "duration": 166,
    "start_time": "2025-06-24T19:34:38.062Z"
   },
   {
    "duration": 6,
    "start_time": "2025-06-24T19:38:21.369Z"
   },
   {
    "duration": 10,
    "start_time": "2025-06-24T19:38:31.003Z"
   },
   {
    "duration": 5,
    "start_time": "2025-06-24T19:40:12.310Z"
   },
   {
    "duration": 9,
    "start_time": "2025-06-24T19:40:13.605Z"
   },
   {
    "duration": 5,
    "start_time": "2025-06-24T19:40:19.182Z"
   },
   {
    "duration": 9,
    "start_time": "2025-06-24T19:40:22.704Z"
   },
   {
    "duration": 102,
    "start_time": "2025-06-24T19:41:24.154Z"
   },
   {
    "duration": 660,
    "start_time": "2025-06-24T19:42:56.582Z"
   },
   {
    "duration": 567,
    "start_time": "2025-06-24T19:43:14.119Z"
   },
   {
    "duration": 612,
    "start_time": "2025-06-24T19:43:24.026Z"
   },
   {
    "duration": 14,
    "start_time": "2025-06-24T19:46:09.625Z"
   },
   {
    "duration": 127,
    "start_time": "2025-06-24T19:46:18.768Z"
   },
   {
    "duration": 160,
    "start_time": "2025-06-24T19:46:26.836Z"
   },
   {
    "duration": 13,
    "start_time": "2025-06-24T19:46:38.848Z"
   },
   {
    "duration": 12,
    "start_time": "2025-06-24T19:46:51.327Z"
   },
   {
    "duration": 9,
    "start_time": "2025-06-24T19:46:54.716Z"
   },
   {
    "duration": 1183,
    "start_time": "2025-06-24T19:49:11.254Z"
   },
   {
    "duration": 1229,
    "start_time": "2025-06-24T19:49:28.796Z"
   },
   {
    "duration": 273,
    "start_time": "2025-06-24T19:49:37.050Z"
   },
   {
    "duration": 8,
    "start_time": "2025-06-24T20:00:56.487Z"
   },
   {
    "duration": 1416,
    "start_time": "2025-06-25T05:06:54.504Z"
   },
   {
    "duration": 64,
    "start_time": "2025-06-25T05:06:55.922Z"
   },
   {
    "duration": 19,
    "start_time": "2025-06-25T05:06:55.987Z"
   },
   {
    "duration": 22,
    "start_time": "2025-06-25T05:06:56.008Z"
   },
   {
    "duration": 29,
    "start_time": "2025-06-25T05:06:56.032Z"
   },
   {
    "duration": 3,
    "start_time": "2025-06-25T05:06:56.063Z"
   },
   {
    "duration": 6,
    "start_time": "2025-06-25T05:06:56.067Z"
   },
   {
    "duration": 8,
    "start_time": "2025-06-25T05:06:56.075Z"
   },
   {
    "duration": 11,
    "start_time": "2025-06-25T05:06:56.085Z"
   },
   {
    "duration": 5,
    "start_time": "2025-06-25T05:06:56.098Z"
   },
   {
    "duration": 6,
    "start_time": "2025-06-25T05:06:56.105Z"
   },
   {
    "duration": 48,
    "start_time": "2025-06-25T05:06:56.113Z"
   },
   {
    "duration": 130,
    "start_time": "2025-06-25T05:06:56.163Z"
   },
   {
    "duration": 7,
    "start_time": "2025-06-25T05:06:56.298Z"
   },
   {
    "duration": 16,
    "start_time": "2025-06-25T05:06:56.307Z"
   },
   {
    "duration": 10,
    "start_time": "2025-06-25T05:06:56.325Z"
   },
   {
    "duration": 6,
    "start_time": "2025-06-25T05:06:56.337Z"
   },
   {
    "duration": 16,
    "start_time": "2025-06-25T05:06:56.345Z"
   },
   {
    "duration": 103,
    "start_time": "2025-06-25T05:06:56.362Z"
   },
   {
    "duration": 0,
    "start_time": "2025-06-25T05:06:56.467Z"
   },
   {
    "duration": 0,
    "start_time": "2025-06-25T05:06:56.469Z"
   },
   {
    "duration": 0,
    "start_time": "2025-06-25T05:06:56.470Z"
   },
   {
    "duration": 0,
    "start_time": "2025-06-25T05:06:56.471Z"
   },
   {
    "duration": 0,
    "start_time": "2025-06-25T05:06:56.472Z"
   },
   {
    "duration": 0,
    "start_time": "2025-06-25T05:06:56.473Z"
   },
   {
    "duration": 0,
    "start_time": "2025-06-25T05:06:56.474Z"
   },
   {
    "duration": 0,
    "start_time": "2025-06-25T05:06:56.476Z"
   },
   {
    "duration": 0,
    "start_time": "2025-06-25T05:06:56.476Z"
   },
   {
    "duration": 0,
    "start_time": "2025-06-25T05:06:56.477Z"
   },
   {
    "duration": 0,
    "start_time": "2025-06-25T05:06:56.479Z"
   },
   {
    "duration": 0,
    "start_time": "2025-06-25T05:06:56.479Z"
   },
   {
    "duration": 0,
    "start_time": "2025-06-25T05:06:56.481Z"
   },
   {
    "duration": 0,
    "start_time": "2025-06-25T05:06:56.482Z"
   },
   {
    "duration": 0,
    "start_time": "2025-06-25T05:06:56.483Z"
   },
   {
    "duration": 0,
    "start_time": "2025-06-25T05:06:56.484Z"
   },
   {
    "duration": 0,
    "start_time": "2025-06-25T05:06:56.485Z"
   },
   {
    "duration": 0,
    "start_time": "2025-06-25T05:06:56.486Z"
   },
   {
    "duration": 0,
    "start_time": "2025-06-25T05:06:56.487Z"
   },
   {
    "duration": 0,
    "start_time": "2025-06-25T05:06:56.487Z"
   },
   {
    "duration": 0,
    "start_time": "2025-06-25T05:06:56.488Z"
   },
   {
    "duration": 0,
    "start_time": "2025-06-25T05:06:56.490Z"
   },
   {
    "duration": 0,
    "start_time": "2025-06-25T05:06:56.490Z"
   },
   {
    "duration": 0,
    "start_time": "2025-06-25T05:06:56.492Z"
   },
   {
    "duration": 0,
    "start_time": "2025-06-25T05:06:56.492Z"
   },
   {
    "duration": 0,
    "start_time": "2025-06-25T05:06:56.493Z"
   },
   {
    "duration": 0,
    "start_time": "2025-06-25T05:06:56.495Z"
   },
   {
    "duration": 0,
    "start_time": "2025-06-25T05:06:56.496Z"
   },
   {
    "duration": 0,
    "start_time": "2025-06-25T05:06:56.496Z"
   },
   {
    "duration": 1,
    "start_time": "2025-06-25T05:06:56.497Z"
   },
   {
    "duration": 0,
    "start_time": "2025-06-25T05:06:56.498Z"
   },
   {
    "duration": 0,
    "start_time": "2025-06-25T05:06:56.500Z"
   },
   {
    "duration": 0,
    "start_time": "2025-06-25T05:06:56.501Z"
   },
   {
    "duration": 0,
    "start_time": "2025-06-25T05:06:56.502Z"
   },
   {
    "duration": 0,
    "start_time": "2025-06-25T05:06:56.560Z"
   },
   {
    "duration": 0,
    "start_time": "2025-06-25T05:06:56.562Z"
   },
   {
    "duration": 0,
    "start_time": "2025-06-25T05:06:56.563Z"
   },
   {
    "duration": 0,
    "start_time": "2025-06-25T05:06:56.564Z"
   },
   {
    "duration": 0,
    "start_time": "2025-06-25T05:06:56.565Z"
   },
   {
    "duration": 0,
    "start_time": "2025-06-25T05:06:56.566Z"
   },
   {
    "duration": 0,
    "start_time": "2025-06-25T05:06:56.568Z"
   },
   {
    "duration": 0,
    "start_time": "2025-06-25T05:06:56.569Z"
   },
   {
    "duration": 0,
    "start_time": "2025-06-25T05:06:56.570Z"
   },
   {
    "duration": 0,
    "start_time": "2025-06-25T05:06:56.571Z"
   },
   {
    "duration": 0,
    "start_time": "2025-06-25T05:06:56.572Z"
   },
   {
    "duration": 0,
    "start_time": "2025-06-25T05:06:56.573Z"
   },
   {
    "duration": 13,
    "start_time": "2025-06-25T05:07:13.542Z"
   },
   {
    "duration": 19,
    "start_time": "2025-06-25T05:10:58.219Z"
   },
   {
    "duration": 15,
    "start_time": "2025-06-25T05:11:06.140Z"
   },
   {
    "duration": 16,
    "start_time": "2025-06-25T05:13:49.708Z"
   },
   {
    "duration": 18,
    "start_time": "2025-06-25T05:13:55.970Z"
   },
   {
    "duration": 1278,
    "start_time": "2025-06-25T05:17:24.224Z"
   },
   {
    "duration": 48,
    "start_time": "2025-06-25T05:17:25.504Z"
   },
   {
    "duration": 24,
    "start_time": "2025-06-25T05:17:25.554Z"
   },
   {
    "duration": 20,
    "start_time": "2025-06-25T05:17:25.580Z"
   },
   {
    "duration": 21,
    "start_time": "2025-06-25T05:17:25.603Z"
   },
   {
    "duration": 5,
    "start_time": "2025-06-25T05:17:25.626Z"
   },
   {
    "duration": 29,
    "start_time": "2025-06-25T05:17:25.633Z"
   },
   {
    "duration": 9,
    "start_time": "2025-06-25T05:17:25.664Z"
   },
   {
    "duration": 11,
    "start_time": "2025-06-25T05:17:25.675Z"
   },
   {
    "duration": 5,
    "start_time": "2025-06-25T05:17:25.688Z"
   },
   {
    "duration": 6,
    "start_time": "2025-06-25T05:17:25.695Z"
   },
   {
    "duration": 7,
    "start_time": "2025-06-25T05:17:25.702Z"
   },
   {
    "duration": 11,
    "start_time": "2025-06-25T05:17:25.711Z"
   },
   {
    "duration": 8,
    "start_time": "2025-06-25T05:17:25.760Z"
   },
   {
    "duration": 21,
    "start_time": "2025-06-25T05:17:25.771Z"
   },
   {
    "duration": 6,
    "start_time": "2025-06-25T05:17:25.793Z"
   },
   {
    "duration": 6,
    "start_time": "2025-06-25T05:17:25.801Z"
   },
   {
    "duration": 6,
    "start_time": "2025-06-25T05:17:25.808Z"
   },
   {
    "duration": 53,
    "start_time": "2025-06-25T05:17:25.815Z"
   },
   {
    "duration": 18,
    "start_time": "2025-06-25T05:17:25.870Z"
   },
   {
    "duration": 5,
    "start_time": "2025-06-25T05:17:25.890Z"
   },
   {
    "duration": 263,
    "start_time": "2025-06-25T05:17:25.897Z"
   },
   {
    "duration": 5,
    "start_time": "2025-06-25T05:17:26.162Z"
   },
   {
    "duration": 458,
    "start_time": "2025-06-25T05:17:26.168Z"
   },
   {
    "duration": 7,
    "start_time": "2025-06-25T05:17:26.628Z"
   },
   {
    "duration": 24,
    "start_time": "2025-06-25T05:17:26.636Z"
   },
   {
    "duration": 12,
    "start_time": "2025-06-25T05:17:26.662Z"
   },
   {
    "duration": 1351,
    "start_time": "2025-06-25T05:17:26.675Z"
   },
   {
    "duration": 7,
    "start_time": "2025-06-25T05:17:28.027Z"
   },
   {
    "duration": 211,
    "start_time": "2025-06-25T05:17:28.035Z"
   },
   {
    "duration": 12,
    "start_time": "2025-06-25T05:17:28.248Z"
   },
   {
    "duration": 61,
    "start_time": "2025-06-25T05:17:28.262Z"
   },
   {
    "duration": 438,
    "start_time": "2025-06-25T05:17:28.325Z"
   },
   {
    "duration": 12,
    "start_time": "2025-06-25T05:17:28.764Z"
   },
   {
    "duration": 731,
    "start_time": "2025-06-25T05:17:28.778Z"
   },
   {
    "duration": 175,
    "start_time": "2025-06-25T05:17:29.511Z"
   },
   {
    "duration": 174,
    "start_time": "2025-06-25T05:17:29.688Z"
   },
   {
    "duration": 173,
    "start_time": "2025-06-25T05:17:29.864Z"
   },
   {
    "duration": 262,
    "start_time": "2025-06-25T05:17:30.039Z"
   },
   {
    "duration": 180,
    "start_time": "2025-06-25T05:17:30.303Z"
   },
   {
    "duration": 179,
    "start_time": "2025-06-25T05:17:30.488Z"
   },
   {
    "duration": 5,
    "start_time": "2025-06-25T05:17:30.669Z"
   },
   {
    "duration": 10,
    "start_time": "2025-06-25T05:17:30.675Z"
   },
   {
    "duration": 641,
    "start_time": "2025-06-25T05:17:30.686Z"
   },
   {
    "duration": 5,
    "start_time": "2025-06-25T05:17:31.329Z"
   },
   {
    "duration": 8,
    "start_time": "2025-06-25T05:17:31.336Z"
   },
   {
    "duration": 5,
    "start_time": "2025-06-25T05:17:31.360Z"
   },
   {
    "duration": 9,
    "start_time": "2025-06-25T05:17:31.367Z"
   },
   {
    "duration": 30,
    "start_time": "2025-06-25T05:17:31.378Z"
   },
   {
    "duration": 156,
    "start_time": "2025-06-25T05:17:31.409Z"
   },
   {
    "duration": 49,
    "start_time": "2025-06-25T05:17:31.567Z"
   },
   {
    "duration": 13,
    "start_time": "2025-06-25T05:17:31.617Z"
   },
   {
    "duration": 8,
    "start_time": "2025-06-25T05:17:31.632Z"
   },
   {
    "duration": 17,
    "start_time": "2025-06-25T05:17:31.642Z"
   },
   {
    "duration": 16,
    "start_time": "2025-06-25T05:17:31.662Z"
   },
   {
    "duration": 8,
    "start_time": "2025-06-25T05:17:31.680Z"
   },
   {
    "duration": 5,
    "start_time": "2025-06-25T05:17:31.690Z"
   },
   {
    "duration": 5,
    "start_time": "2025-06-25T05:17:31.697Z"
   },
   {
    "duration": 7,
    "start_time": "2025-06-25T05:17:31.703Z"
   },
   {
    "duration": 25,
    "start_time": "2025-06-25T05:17:31.712Z"
   },
   {
    "duration": 22,
    "start_time": "2025-06-25T05:17:31.738Z"
   },
   {
    "duration": 10,
    "start_time": "2025-06-25T05:17:31.762Z"
   },
   {
    "duration": 24,
    "start_time": "2025-06-25T05:17:31.774Z"
   },
   {
    "duration": 7,
    "start_time": "2025-06-25T05:17:31.800Z"
   },
   {
    "duration": 26,
    "start_time": "2025-06-25T05:17:31.808Z"
   },
   {
    "duration": 11,
    "start_time": "2025-06-25T05:17:31.835Z"
   }
  ],
  "kernelspec": {
   "display_name": "Python 3 (ipykernel)",
   "language": "python",
   "name": "python3"
  },
  "language_info": {
   "codemirror_mode": {
    "name": "ipython",
    "version": 3
   },
   "file_extension": ".py",
   "mimetype": "text/x-python",
   "name": "python",
   "nbconvert_exporter": "python",
   "pygments_lexer": "ipython3",
   "version": "3.9.5"
  },
  "toc": {
   "base_numbering": 1,
   "nav_menu": {},
   "number_sections": true,
   "sideBar": true,
   "skip_h1_title": true,
   "title_cell": "Table of Contents",
   "title_sidebar": "Contents",
   "toc_cell": false,
   "toc_position": {
    "height": "calc(100% - 180px)",
    "left": "10px",
    "top": "150px",
    "width": "165px"
   },
   "toc_section_display": true,
   "toc_window_display": true
  }
 },
 "nbformat": 4,
 "nbformat_minor": 2
}
