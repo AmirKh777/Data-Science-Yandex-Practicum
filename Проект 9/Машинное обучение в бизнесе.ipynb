{
 "cells": [
  {
   "cell_type": "markdown",
   "metadata": {},
   "source": [
    "# Выбор локации для скважины"
   ]
  },
  {
   "cell_type": "markdown",
   "metadata": {},
   "source": [
    "Допустим, вы работаете в добывающей компании «ГлавРосГосНефть». Нужно решить, где бурить новую скважину.\n",
    "\n",
    "Вам предоставлены пробы нефти в трёх регионах: в каждом 100 000 месторождений, где измерили качество нефти и объём её запасов. Постройте модель машинного обучения, которая поможет определить регион, где добыча принесёт наибольшую прибыль. Проанализируйте возможную прибыль и риски техникой *Bootstrap.*\n",
    "\n",
    "Шаги для выбора локации:\n",
    "\n",
    "- В избранном регионе ищут месторождения, для каждого определяют значения признаков;\n",
    "- Строят модель и оценивают объём запасов;\n",
    "- Выбирают месторождения с самым высокими оценками значений. Количество месторождений зависит от бюджета компании и стоимости разработки одной скважины;\n",
    "- Прибыль равна суммарной прибыли отобранных месторождений."
   ]
  },
  {
   "cell_type": "code",
   "execution_count": 1,
   "metadata": {},
   "outputs": [],
   "source": [
    "#импорт всех необходимых библиотек\n",
    "import pandas as pd\n",
    "import numpy as np\n",
    "from sklearn.model_selection import train_test_split\n",
    "from sklearn.linear_model import LinearRegression\n",
    "from sklearn.metrics import mean_squared_error"
   ]
  },
  {
   "cell_type": "code",
   "execution_count": 2,
   "metadata": {},
   "outputs": [],
   "source": [
    "# количество точек для разведки\n",
    "POINTS_TO_EXPLORE = 500\n",
    "\n",
    "# количество точек для разработки\n",
    "POINTS_TO_BUILD = 200\n",
    "\n",
    "# бюджет на разработку скважин в регионе\n",
    "BUDGET = 10000000000\n",
    "\n",
    "# доход с каждой единицы продукта\n",
    "REVENUE_PER_PRODUCT = 450000\n",
    "\n",
    "# пороговая вероятность убытков\n",
    "LOSS_RATE = 0.025"
   ]
  },
  {
   "cell_type": "markdown",
   "metadata": {},
   "source": [
    "## Загрузка и подготовка данных"
   ]
  },
  {
   "cell_type": "code",
   "execution_count": 3,
   "metadata": {},
   "outputs": [],
   "source": [
    "#загрузим даннные в переменные \n",
    "data_1 = pd.read_csv('/datasets/geo_data_0.csv')\n",
    "data_2 = pd.read_csv('/datasets/geo_data_1.csv')\n",
    "data_3 = pd.read_csv('/datasets/geo_data_2.csv')"
   ]
  },
  {
   "cell_type": "code",
   "execution_count": 4,
   "metadata": {},
   "outputs": [
    {
     "data": {
      "text/html": [
       "<div>\n",
       "<style scoped>\n",
       "    .dataframe tbody tr th:only-of-type {\n",
       "        vertical-align: middle;\n",
       "    }\n",
       "\n",
       "    .dataframe tbody tr th {\n",
       "        vertical-align: top;\n",
       "    }\n",
       "\n",
       "    .dataframe thead th {\n",
       "        text-align: right;\n",
       "    }\n",
       "</style>\n",
       "<table border=\"1\" class=\"dataframe\">\n",
       "  <thead>\n",
       "    <tr style=\"text-align: right;\">\n",
       "      <th></th>\n",
       "      <th>id</th>\n",
       "      <th>f0</th>\n",
       "      <th>f1</th>\n",
       "      <th>f2</th>\n",
       "      <th>product</th>\n",
       "    </tr>\n",
       "  </thead>\n",
       "  <tbody>\n",
       "    <tr>\n",
       "      <th>0</th>\n",
       "      <td>txEyH</td>\n",
       "      <td>0.705745</td>\n",
       "      <td>-0.497823</td>\n",
       "      <td>1.221170</td>\n",
       "      <td>105.280062</td>\n",
       "    </tr>\n",
       "    <tr>\n",
       "      <th>1</th>\n",
       "      <td>2acmU</td>\n",
       "      <td>1.334711</td>\n",
       "      <td>-0.340164</td>\n",
       "      <td>4.365080</td>\n",
       "      <td>73.037750</td>\n",
       "    </tr>\n",
       "    <tr>\n",
       "      <th>2</th>\n",
       "      <td>409Wp</td>\n",
       "      <td>1.022732</td>\n",
       "      <td>0.151990</td>\n",
       "      <td>1.419926</td>\n",
       "      <td>85.265647</td>\n",
       "    </tr>\n",
       "    <tr>\n",
       "      <th>3</th>\n",
       "      <td>iJLyR</td>\n",
       "      <td>-0.032172</td>\n",
       "      <td>0.139033</td>\n",
       "      <td>2.978566</td>\n",
       "      <td>168.620776</td>\n",
       "    </tr>\n",
       "    <tr>\n",
       "      <th>4</th>\n",
       "      <td>Xdl7t</td>\n",
       "      <td>1.988431</td>\n",
       "      <td>0.155413</td>\n",
       "      <td>4.751769</td>\n",
       "      <td>154.036647</td>\n",
       "    </tr>\n",
       "  </tbody>\n",
       "</table>\n",
       "</div>"
      ],
      "text/plain": [
       "      id        f0        f1        f2     product\n",
       "0  txEyH  0.705745 -0.497823  1.221170  105.280062\n",
       "1  2acmU  1.334711 -0.340164  4.365080   73.037750\n",
       "2  409Wp  1.022732  0.151990  1.419926   85.265647\n",
       "3  iJLyR -0.032172  0.139033  2.978566  168.620776\n",
       "4  Xdl7t  1.988431  0.155413  4.751769  154.036647"
      ]
     },
     "execution_count": 4,
     "metadata": {},
     "output_type": "execute_result"
    }
   ],
   "source": [
    "#познакомимся с данными\n",
    "data_1.head()"
   ]
  },
  {
   "cell_type": "code",
   "execution_count": 5,
   "metadata": {},
   "outputs": [
    {
     "data": {
      "text/html": [
       "<div>\n",
       "<style scoped>\n",
       "    .dataframe tbody tr th:only-of-type {\n",
       "        vertical-align: middle;\n",
       "    }\n",
       "\n",
       "    .dataframe tbody tr th {\n",
       "        vertical-align: top;\n",
       "    }\n",
       "\n",
       "    .dataframe thead th {\n",
       "        text-align: right;\n",
       "    }\n",
       "</style>\n",
       "<table border=\"1\" class=\"dataframe\">\n",
       "  <thead>\n",
       "    <tr style=\"text-align: right;\">\n",
       "      <th></th>\n",
       "      <th>id</th>\n",
       "      <th>f0</th>\n",
       "      <th>f1</th>\n",
       "      <th>f2</th>\n",
       "      <th>product</th>\n",
       "    </tr>\n",
       "  </thead>\n",
       "  <tbody>\n",
       "    <tr>\n",
       "      <th>0</th>\n",
       "      <td>kBEdx</td>\n",
       "      <td>-15.001348</td>\n",
       "      <td>-8.276000</td>\n",
       "      <td>-0.005876</td>\n",
       "      <td>3.179103</td>\n",
       "    </tr>\n",
       "    <tr>\n",
       "      <th>1</th>\n",
       "      <td>62mP7</td>\n",
       "      <td>14.272088</td>\n",
       "      <td>-3.475083</td>\n",
       "      <td>0.999183</td>\n",
       "      <td>26.953261</td>\n",
       "    </tr>\n",
       "    <tr>\n",
       "      <th>2</th>\n",
       "      <td>vyE1P</td>\n",
       "      <td>6.263187</td>\n",
       "      <td>-5.948386</td>\n",
       "      <td>5.001160</td>\n",
       "      <td>134.766305</td>\n",
       "    </tr>\n",
       "    <tr>\n",
       "      <th>3</th>\n",
       "      <td>KcrkZ</td>\n",
       "      <td>-13.081196</td>\n",
       "      <td>-11.506057</td>\n",
       "      <td>4.999415</td>\n",
       "      <td>137.945408</td>\n",
       "    </tr>\n",
       "    <tr>\n",
       "      <th>4</th>\n",
       "      <td>AHL4O</td>\n",
       "      <td>12.702195</td>\n",
       "      <td>-8.147433</td>\n",
       "      <td>5.004363</td>\n",
       "      <td>134.766305</td>\n",
       "    </tr>\n",
       "  </tbody>\n",
       "</table>\n",
       "</div>"
      ],
      "text/plain": [
       "      id         f0         f1        f2     product\n",
       "0  kBEdx -15.001348  -8.276000 -0.005876    3.179103\n",
       "1  62mP7  14.272088  -3.475083  0.999183   26.953261\n",
       "2  vyE1P   6.263187  -5.948386  5.001160  134.766305\n",
       "3  KcrkZ -13.081196 -11.506057  4.999415  137.945408\n",
       "4  AHL4O  12.702195  -8.147433  5.004363  134.766305"
      ]
     },
     "execution_count": 5,
     "metadata": {},
     "output_type": "execute_result"
    }
   ],
   "source": [
    "data_2.head()"
   ]
  },
  {
   "cell_type": "code",
   "execution_count": 6,
   "metadata": {},
   "outputs": [
    {
     "data": {
      "text/html": [
       "<div>\n",
       "<style scoped>\n",
       "    .dataframe tbody tr th:only-of-type {\n",
       "        vertical-align: middle;\n",
       "    }\n",
       "\n",
       "    .dataframe tbody tr th {\n",
       "        vertical-align: top;\n",
       "    }\n",
       "\n",
       "    .dataframe thead th {\n",
       "        text-align: right;\n",
       "    }\n",
       "</style>\n",
       "<table border=\"1\" class=\"dataframe\">\n",
       "  <thead>\n",
       "    <tr style=\"text-align: right;\">\n",
       "      <th></th>\n",
       "      <th>id</th>\n",
       "      <th>f0</th>\n",
       "      <th>f1</th>\n",
       "      <th>f2</th>\n",
       "      <th>product</th>\n",
       "    </tr>\n",
       "  </thead>\n",
       "  <tbody>\n",
       "    <tr>\n",
       "      <th>0</th>\n",
       "      <td>fwXo0</td>\n",
       "      <td>-1.146987</td>\n",
       "      <td>0.963328</td>\n",
       "      <td>-0.828965</td>\n",
       "      <td>27.758673</td>\n",
       "    </tr>\n",
       "    <tr>\n",
       "      <th>1</th>\n",
       "      <td>WJtFt</td>\n",
       "      <td>0.262778</td>\n",
       "      <td>0.269839</td>\n",
       "      <td>-2.530187</td>\n",
       "      <td>56.069697</td>\n",
       "    </tr>\n",
       "    <tr>\n",
       "      <th>2</th>\n",
       "      <td>ovLUW</td>\n",
       "      <td>0.194587</td>\n",
       "      <td>0.289035</td>\n",
       "      <td>-5.586433</td>\n",
       "      <td>62.871910</td>\n",
       "    </tr>\n",
       "    <tr>\n",
       "      <th>3</th>\n",
       "      <td>q6cA6</td>\n",
       "      <td>2.236060</td>\n",
       "      <td>-0.553760</td>\n",
       "      <td>0.930038</td>\n",
       "      <td>114.572842</td>\n",
       "    </tr>\n",
       "    <tr>\n",
       "      <th>4</th>\n",
       "      <td>WPMUX</td>\n",
       "      <td>-0.515993</td>\n",
       "      <td>1.716266</td>\n",
       "      <td>5.899011</td>\n",
       "      <td>149.600746</td>\n",
       "    </tr>\n",
       "  </tbody>\n",
       "</table>\n",
       "</div>"
      ],
      "text/plain": [
       "      id        f0        f1        f2     product\n",
       "0  fwXo0 -1.146987  0.963328 -0.828965   27.758673\n",
       "1  WJtFt  0.262778  0.269839 -2.530187   56.069697\n",
       "2  ovLUW  0.194587  0.289035 -5.586433   62.871910\n",
       "3  q6cA6  2.236060 -0.553760  0.930038  114.572842\n",
       "4  WPMUX -0.515993  1.716266  5.899011  149.600746"
      ]
     },
     "execution_count": 6,
     "metadata": {},
     "output_type": "execute_result"
    }
   ],
   "source": [
    "data_3.head()"
   ]
  },
  {
   "cell_type": "code",
   "execution_count": 7,
   "metadata": {},
   "outputs": [
    {
     "name": "stdout",
     "output_type": "stream",
     "text": [
      "<class 'pandas.core.frame.DataFrame'>\n",
      "RangeIndex: 100000 entries, 0 to 99999\n",
      "Data columns (total 5 columns):\n",
      " #   Column   Non-Null Count   Dtype  \n",
      "---  ------   --------------   -----  \n",
      " 0   id       100000 non-null  object \n",
      " 1   f0       100000 non-null  float64\n",
      " 2   f1       100000 non-null  float64\n",
      " 3   f2       100000 non-null  float64\n",
      " 4   product  100000 non-null  float64\n",
      "dtypes: float64(4), object(1)\n",
      "memory usage: 3.8+ MB\n"
     ]
    }
   ],
   "source": [
    "data_1.info()"
   ]
  },
  {
   "cell_type": "code",
   "execution_count": 8,
   "metadata": {},
   "outputs": [
    {
     "name": "stdout",
     "output_type": "stream",
     "text": [
      "<class 'pandas.core.frame.DataFrame'>\n",
      "RangeIndex: 100000 entries, 0 to 99999\n",
      "Data columns (total 5 columns):\n",
      " #   Column   Non-Null Count   Dtype  \n",
      "---  ------   --------------   -----  \n",
      " 0   id       100000 non-null  object \n",
      " 1   f0       100000 non-null  float64\n",
      " 2   f1       100000 non-null  float64\n",
      " 3   f2       100000 non-null  float64\n",
      " 4   product  100000 non-null  float64\n",
      "dtypes: float64(4), object(1)\n",
      "memory usage: 3.8+ MB\n"
     ]
    }
   ],
   "source": [
    "data_2.info()"
   ]
  },
  {
   "cell_type": "code",
   "execution_count": 9,
   "metadata": {},
   "outputs": [
    {
     "name": "stdout",
     "output_type": "stream",
     "text": [
      "<class 'pandas.core.frame.DataFrame'>\n",
      "RangeIndex: 100000 entries, 0 to 99999\n",
      "Data columns (total 5 columns):\n",
      " #   Column   Non-Null Count   Dtype  \n",
      "---  ------   --------------   -----  \n",
      " 0   id       100000 non-null  object \n",
      " 1   f0       100000 non-null  float64\n",
      " 2   f1       100000 non-null  float64\n",
      " 3   f2       100000 non-null  float64\n",
      " 4   product  100000 non-null  float64\n",
      "dtypes: float64(4), object(1)\n",
      "memory usage: 3.8+ MB\n"
     ]
    }
   ],
   "source": [
    "data_3.info()"
   ]
  },
  {
   "cell_type": "code",
   "execution_count": 10,
   "metadata": {},
   "outputs": [
    {
     "name": "stdout",
     "output_type": "stream",
     "text": [
      "id         0\n",
      "f0         0\n",
      "f1         0\n",
      "f2         0\n",
      "product    0\n",
      "dtype: int64\n",
      "\n",
      "\n",
      "id         0\n",
      "f0         0\n",
      "f1         0\n",
      "f2         0\n",
      "product    0\n",
      "dtype: int64\n",
      "\n",
      "\n",
      "id         0\n",
      "f0         0\n",
      "f1         0\n",
      "f2         0\n",
      "product    0\n",
      "dtype: int64\n",
      "\n",
      "\n"
     ]
    }
   ],
   "source": [
    "#проверка на пропуски\n",
    "data = [data_1, data_2, data_3]\n",
    "for i in data:\n",
    "    print(i.isna().sum())\n",
    "    print('\\n')"
   ]
  },
  {
   "cell_type": "code",
   "execution_count": 11,
   "metadata": {},
   "outputs": [
    {
     "name": "stdout",
     "output_type": "stream",
     "text": [
      "0\n",
      "\n",
      "\n",
      "0\n",
      "\n",
      "\n",
      "0\n",
      "\n",
      "\n"
     ]
    }
   ],
   "source": [
    "#проверка на явные дубликаты\n",
    "data = [data_1, data_2, data_3]\n",
    "for i in data:\n",
    "    print(i.duplicated().sum())\n",
    "    print('\\n')"
   ]
  },
  {
   "cell_type": "code",
   "execution_count": 12,
   "metadata": {},
   "outputs": [],
   "source": [
    "#округлим все значения до двух знаков после запятой\n",
    "data_1[['f0', 'f1', 'f2', 'product']] = data_1[['f0', 'f1', 'f2', 'product']].round(2)\n",
    "data_2[['f0', 'f1', 'f2', 'product']] = data_2[['f0', 'f1', 'f2', 'product']].round(2)\n",
    "data_3[['f0', 'f1', 'f2', 'product']] = data_3[['f0', 'f1', 'f2', 'product']].round(2)"
   ]
  },
  {
   "cell_type": "code",
   "execution_count": 13,
   "metadata": {},
   "outputs": [
    {
     "data": {
      "text/html": [
       "<div>\n",
       "<style scoped>\n",
       "    .dataframe tbody tr th:only-of-type {\n",
       "        vertical-align: middle;\n",
       "    }\n",
       "\n",
       "    .dataframe tbody tr th {\n",
       "        vertical-align: top;\n",
       "    }\n",
       "\n",
       "    .dataframe thead th {\n",
       "        text-align: right;\n",
       "    }\n",
       "</style>\n",
       "<table border=\"1\" class=\"dataframe\">\n",
       "  <thead>\n",
       "    <tr style=\"text-align: right;\">\n",
       "      <th></th>\n",
       "      <th>id</th>\n",
       "      <th>f0</th>\n",
       "      <th>f1</th>\n",
       "      <th>f2</th>\n",
       "      <th>product</th>\n",
       "    </tr>\n",
       "  </thead>\n",
       "  <tbody>\n",
       "    <tr>\n",
       "      <th>0</th>\n",
       "      <td>txEyH</td>\n",
       "      <td>0.71</td>\n",
       "      <td>-0.50</td>\n",
       "      <td>1.22</td>\n",
       "      <td>105.28</td>\n",
       "    </tr>\n",
       "    <tr>\n",
       "      <th>1</th>\n",
       "      <td>2acmU</td>\n",
       "      <td>1.33</td>\n",
       "      <td>-0.34</td>\n",
       "      <td>4.37</td>\n",
       "      <td>73.04</td>\n",
       "    </tr>\n",
       "    <tr>\n",
       "      <th>2</th>\n",
       "      <td>409Wp</td>\n",
       "      <td>1.02</td>\n",
       "      <td>0.15</td>\n",
       "      <td>1.42</td>\n",
       "      <td>85.27</td>\n",
       "    </tr>\n",
       "    <tr>\n",
       "      <th>3</th>\n",
       "      <td>iJLyR</td>\n",
       "      <td>-0.03</td>\n",
       "      <td>0.14</td>\n",
       "      <td>2.98</td>\n",
       "      <td>168.62</td>\n",
       "    </tr>\n",
       "    <tr>\n",
       "      <th>4</th>\n",
       "      <td>Xdl7t</td>\n",
       "      <td>1.99</td>\n",
       "      <td>0.16</td>\n",
       "      <td>4.75</td>\n",
       "      <td>154.04</td>\n",
       "    </tr>\n",
       "  </tbody>\n",
       "</table>\n",
       "</div>"
      ],
      "text/plain": [
       "      id    f0    f1    f2  product\n",
       "0  txEyH  0.71 -0.50  1.22   105.28\n",
       "1  2acmU  1.33 -0.34  4.37    73.04\n",
       "2  409Wp  1.02  0.15  1.42    85.27\n",
       "3  iJLyR -0.03  0.14  2.98   168.62\n",
       "4  Xdl7t  1.99  0.16  4.75   154.04"
      ]
     },
     "execution_count": 13,
     "metadata": {},
     "output_type": "execute_result"
    }
   ],
   "source": [
    "#проверим преобразование\n",
    "data_1.head()"
   ]
  },
  {
   "cell_type": "code",
   "execution_count": 14,
   "metadata": {},
   "outputs": [
    {
     "data": {
      "text/html": [
       "<div>\n",
       "<style scoped>\n",
       "    .dataframe tbody tr th:only-of-type {\n",
       "        vertical-align: middle;\n",
       "    }\n",
       "\n",
       "    .dataframe tbody tr th {\n",
       "        vertical-align: top;\n",
       "    }\n",
       "\n",
       "    .dataframe thead th {\n",
       "        text-align: right;\n",
       "    }\n",
       "</style>\n",
       "<table border=\"1\" class=\"dataframe\">\n",
       "  <thead>\n",
       "    <tr style=\"text-align: right;\">\n",
       "      <th></th>\n",
       "      <th>id</th>\n",
       "      <th>f0</th>\n",
       "      <th>f1</th>\n",
       "      <th>f2</th>\n",
       "      <th>product</th>\n",
       "    </tr>\n",
       "  </thead>\n",
       "  <tbody>\n",
       "    <tr>\n",
       "      <th>0</th>\n",
       "      <td>kBEdx</td>\n",
       "      <td>-15.00</td>\n",
       "      <td>-8.28</td>\n",
       "      <td>-0.01</td>\n",
       "      <td>3.18</td>\n",
       "    </tr>\n",
       "    <tr>\n",
       "      <th>1</th>\n",
       "      <td>62mP7</td>\n",
       "      <td>14.27</td>\n",
       "      <td>-3.48</td>\n",
       "      <td>1.00</td>\n",
       "      <td>26.95</td>\n",
       "    </tr>\n",
       "    <tr>\n",
       "      <th>2</th>\n",
       "      <td>vyE1P</td>\n",
       "      <td>6.26</td>\n",
       "      <td>-5.95</td>\n",
       "      <td>5.00</td>\n",
       "      <td>134.77</td>\n",
       "    </tr>\n",
       "    <tr>\n",
       "      <th>3</th>\n",
       "      <td>KcrkZ</td>\n",
       "      <td>-13.08</td>\n",
       "      <td>-11.51</td>\n",
       "      <td>5.00</td>\n",
       "      <td>137.95</td>\n",
       "    </tr>\n",
       "    <tr>\n",
       "      <th>4</th>\n",
       "      <td>AHL4O</td>\n",
       "      <td>12.70</td>\n",
       "      <td>-8.15</td>\n",
       "      <td>5.00</td>\n",
       "      <td>134.77</td>\n",
       "    </tr>\n",
       "  </tbody>\n",
       "</table>\n",
       "</div>"
      ],
      "text/plain": [
       "      id     f0     f1    f2  product\n",
       "0  kBEdx -15.00  -8.28 -0.01     3.18\n",
       "1  62mP7  14.27  -3.48  1.00    26.95\n",
       "2  vyE1P   6.26  -5.95  5.00   134.77\n",
       "3  KcrkZ -13.08 -11.51  5.00   137.95\n",
       "4  AHL4O  12.70  -8.15  5.00   134.77"
      ]
     },
     "execution_count": 14,
     "metadata": {},
     "output_type": "execute_result"
    }
   ],
   "source": [
    "data_2.head()"
   ]
  },
  {
   "cell_type": "code",
   "execution_count": 15,
   "metadata": {
    "scrolled": true
   },
   "outputs": [
    {
     "data": {
      "text/html": [
       "<div>\n",
       "<style scoped>\n",
       "    .dataframe tbody tr th:only-of-type {\n",
       "        vertical-align: middle;\n",
       "    }\n",
       "\n",
       "    .dataframe tbody tr th {\n",
       "        vertical-align: top;\n",
       "    }\n",
       "\n",
       "    .dataframe thead th {\n",
       "        text-align: right;\n",
       "    }\n",
       "</style>\n",
       "<table border=\"1\" class=\"dataframe\">\n",
       "  <thead>\n",
       "    <tr style=\"text-align: right;\">\n",
       "      <th></th>\n",
       "      <th>id</th>\n",
       "      <th>f0</th>\n",
       "      <th>f1</th>\n",
       "      <th>f2</th>\n",
       "      <th>product</th>\n",
       "    </tr>\n",
       "  </thead>\n",
       "  <tbody>\n",
       "    <tr>\n",
       "      <th>0</th>\n",
       "      <td>fwXo0</td>\n",
       "      <td>-1.15</td>\n",
       "      <td>0.96</td>\n",
       "      <td>-0.83</td>\n",
       "      <td>27.76</td>\n",
       "    </tr>\n",
       "    <tr>\n",
       "      <th>1</th>\n",
       "      <td>WJtFt</td>\n",
       "      <td>0.26</td>\n",
       "      <td>0.27</td>\n",
       "      <td>-2.53</td>\n",
       "      <td>56.07</td>\n",
       "    </tr>\n",
       "    <tr>\n",
       "      <th>2</th>\n",
       "      <td>ovLUW</td>\n",
       "      <td>0.19</td>\n",
       "      <td>0.29</td>\n",
       "      <td>-5.59</td>\n",
       "      <td>62.87</td>\n",
       "    </tr>\n",
       "    <tr>\n",
       "      <th>3</th>\n",
       "      <td>q6cA6</td>\n",
       "      <td>2.24</td>\n",
       "      <td>-0.55</td>\n",
       "      <td>0.93</td>\n",
       "      <td>114.57</td>\n",
       "    </tr>\n",
       "    <tr>\n",
       "      <th>4</th>\n",
       "      <td>WPMUX</td>\n",
       "      <td>-0.52</td>\n",
       "      <td>1.72</td>\n",
       "      <td>5.90</td>\n",
       "      <td>149.60</td>\n",
       "    </tr>\n",
       "  </tbody>\n",
       "</table>\n",
       "</div>"
      ],
      "text/plain": [
       "      id    f0    f1    f2  product\n",
       "0  fwXo0 -1.15  0.96 -0.83    27.76\n",
       "1  WJtFt  0.26  0.27 -2.53    56.07\n",
       "2  ovLUW  0.19  0.29 -5.59    62.87\n",
       "3  q6cA6  2.24 -0.55  0.93   114.57\n",
       "4  WPMUX -0.52  1.72  5.90   149.60"
      ]
     },
     "execution_count": 15,
     "metadata": {},
     "output_type": "execute_result"
    }
   ],
   "source": [
    "data_3.head()"
   ]
  },
  {
   "cell_type": "markdown",
   "metadata": {},
   "source": [
    "## Обучение и проверка модели"
   ]
  },
  {
   "cell_type": "code",
   "execution_count": 16,
   "metadata": {},
   "outputs": [],
   "source": [
    "RANDOM_STATE = 42\n",
    "\n",
    "X_train_1, X_val_1 = train_test_split(data_1, test_size=0.25, random_state=42)\n",
    "X_train_2, X_val_2 = train_test_split(data_2, test_size=0.25, random_state=42)\n",
    "X_train_3, X_val_3 = train_test_split(data_3, test_size=0.25, random_state=42)\n",
    "\n",
    "y_train_1 = X_train_1['product']\n",
    "y_train_2 = X_train_2['product']\n",
    "y_train_3 = X_train_3['product']\n",
    "\n",
    "y_true_1 = X_val_1['product']\n",
    "y_true_2 = X_val_2['product']\n",
    "y_true_3 = X_val_3['product']"
   ]
  },
  {
   "cell_type": "code",
   "execution_count": 17,
   "metadata": {},
   "outputs": [],
   "source": [
    "X_train_1 = X_train_1.drop(['id', 'product'], axis=1)\n",
    "X_train_2 = X_train_2.drop(['id', 'product'], axis=1)\n",
    "X_train_3 = X_train_3.drop(['id', 'product'], axis=1)"
   ]
  },
  {
   "cell_type": "code",
   "execution_count": 18,
   "metadata": {},
   "outputs": [],
   "source": [
    "# Создание моделей\n",
    "model_1 = LinearRegression()\n",
    "model_2 = LinearRegression()\n",
    "model_3 = LinearRegression()"
   ]
  },
  {
   "cell_type": "code",
   "execution_count": 19,
   "metadata": {},
   "outputs": [
    {
     "data": {
      "text/plain": [
       "LinearRegression()"
      ]
     },
     "execution_count": 19,
     "metadata": {},
     "output_type": "execute_result"
    }
   ],
   "source": [
    "# Обучение моделей\n",
    "model_1.fit(X_train_1, y_train_1)\n",
    "model_2.fit(X_train_2, y_train_2)\n",
    "model_3.fit(X_train_3, y_train_3)"
   ]
  },
  {
   "cell_type": "code",
   "execution_count": 20,
   "metadata": {},
   "outputs": [],
   "source": [
    "X_val_1 = X_val_1.drop(['id', 'product'], axis=1)\n",
    "X_val_2 = X_val_2.drop(['id', 'product'], axis=1)\n",
    "X_val_3 = X_val_3.drop(['id', 'product'], axis=1)"
   ]
  },
  {
   "cell_type": "code",
   "execution_count": 21,
   "metadata": {},
   "outputs": [],
   "source": [
    "y_pred_1 = model_1.predict(X_val_1)\n",
    "y_pred_2 = model_2.predict(X_val_2)\n",
    "y_pred_3 = model_3.predict(X_val_3)"
   ]
  },
  {
   "cell_type": "code",
   "execution_count": 22,
   "metadata": {},
   "outputs": [],
   "source": [
    "RMSE_1 = mean_squared_error(y_true_1, y_pred_1, squared=False)\n",
    "RMSE_2 = mean_squared_error(y_true_2, y_pred_2, squared=False)\n",
    "RMSE_3 = mean_squared_error(y_true_3, y_pred_3, squared=False)"
   ]
  },
  {
   "cell_type": "code",
   "execution_count": 23,
   "metadata": {},
   "outputs": [],
   "source": [
    "dataframe = {\n",
    "    'predicted_product_1_mean' : y_pred_1.mean(),\n",
    "    'predicted_product_2_mean' : y_pred_2.mean(),\n",
    "    'predicted_product_3_mean' : y_pred_3.mean(),\n",
    "    'RMSE_1' : RMSE_1,\n",
    "    'RMSE_2' : RMSE_2,\n",
    "    'RMSE_3' : RMSE_3\n",
    "}"
   ]
  },
  {
   "cell_type": "code",
   "execution_count": 24,
   "metadata": {},
   "outputs": [],
   "source": [
    "predictions = pd.DataFrame(dataframe, index=[0])"
   ]
  },
  {
   "cell_type": "code",
   "execution_count": 25,
   "metadata": {},
   "outputs": [
    {
     "data": {
      "text/html": [
       "<div>\n",
       "<style scoped>\n",
       "    .dataframe tbody tr th:only-of-type {\n",
       "        vertical-align: middle;\n",
       "    }\n",
       "\n",
       "    .dataframe tbody tr th {\n",
       "        vertical-align: top;\n",
       "    }\n",
       "\n",
       "    .dataframe thead th {\n",
       "        text-align: right;\n",
       "    }\n",
       "</style>\n",
       "<table border=\"1\" class=\"dataframe\">\n",
       "  <thead>\n",
       "    <tr style=\"text-align: right;\">\n",
       "      <th></th>\n",
       "      <th>predicted_product_1_mean</th>\n",
       "      <th>predicted_product_2_mean</th>\n",
       "      <th>predicted_product_3_mean</th>\n",
       "      <th>RMSE_1</th>\n",
       "      <th>RMSE_2</th>\n",
       "      <th>RMSE_3</th>\n",
       "    </tr>\n",
       "  </thead>\n",
       "  <tbody>\n",
       "    <tr>\n",
       "      <th>0</th>\n",
       "      <td>92.398777</td>\n",
       "      <td>68.711856</td>\n",
       "      <td>94.771112</td>\n",
       "      <td>37.756641</td>\n",
       "      <td>0.893389</td>\n",
       "      <td>40.145569</td>\n",
       "    </tr>\n",
       "  </tbody>\n",
       "</table>\n",
       "</div>"
      ],
      "text/plain": [
       "   predicted_product_1_mean  predicted_product_2_mean  \\\n",
       "0                 92.398777                 68.711856   \n",
       "\n",
       "   predicted_product_3_mean     RMSE_1    RMSE_2     RMSE_3  \n",
       "0                 94.771112  37.756641  0.893389  40.145569  "
      ]
     },
     "execution_count": 25,
     "metadata": {},
     "output_type": "execute_result"
    }
   ],
   "source": [
    "#вывод на экране средний запас предсказанного сырья и RMSE моделей.\n",
    "predictions"
   ]
  },
  {
   "cell_type": "markdown",
   "metadata": {},
   "source": [
    "**Вывод:**\n",
    "\n",
    "Согласно модели средние предсказанные значения равны 92.4, 68.7, 94.8 тысяч баррелей для первого, второго и третьего региона соотвественно. Значение метрики RMSE указывает на то, что модели, обученные на первом и третьем регионе значительно уступают в точности предсказания, в отличии от модели, обученной на втором регионе."
   ]
  },
  {
   "cell_type": "markdown",
   "metadata": {},
   "source": [
    "## Подготовка к расчёту прибыли"
   ]
  },
  {
   "cell_type": "markdown",
   "metadata": {},
   "source": [
    "**Рассчитайте достаточный объём сырья для безубыточной разработки новой скважины.**\n",
    "\n",
    "При разведке региона исследуют 500 точек, из которых с помощью машинного обучения выбирают 200 лучших для разработки.\n",
    "\n",
    "При нынешних ценах один баррель сырья приносит 450 рублей дохода. Доход с каждой единицы продукта составляет 450 тыс. рублей, поскольку объём указан в тысячах баррелей.\n",
    "\n",
    "Бюджет на разработку скважин в регионе — 10 млрд рублей."
   ]
  },
  {
   "cell_type": "code",
   "execution_count": 26,
   "metadata": {},
   "outputs": [
    {
     "name": "stdout",
     "output_type": "stream",
     "text": [
      "Достаточный объем сырья для безубыточной разработки новой скважины равен 111.11 тысяч баррелей\n"
     ]
    }
   ],
   "source": [
    "#рассчитаем достаточный объём сырья для безубыточной разработки новой скважины.\n",
    "enough_volume = BUDGET/POINTS_TO_BUILD/REVENUE_PER_PRODUCT\n",
    "print(f'Достаточный объем сырья для безубыточной разработки новой скважины равен {round(enough_volume, 2)} тысяч баррелей')"
   ]
  },
  {
   "cell_type": "markdown",
   "metadata": {},
   "source": [
    "**Сравните полученный объём сырья со средним запасом в каждом регионе.**"
   ]
  },
  {
   "cell_type": "code",
   "execution_count": 27,
   "metadata": {},
   "outputs": [
    {
     "name": "stdout",
     "output_type": "stream",
     "text": [
      "Cредний запас скважин в регионе 1 равен 92.5 тыс. баррелей, достаточный объем - 111.11\n",
      "Cредний запас скважин в регионе 2 равен 68.83 тыс. баррелей, достаточный объем - 111.11\n",
      "Cредний запас скважин в регионе 3 равен 95.0 тыс. баррелей, достаточный объем - 111.11\n"
     ]
    }
   ],
   "source": [
    "print(f'Cредний запас скважин в регионе 1 равен {round(data_1[\"product\"].mean(), 2)} тыс. баррелей, достаточный объем - {round(enough_volume, 2)}')\n",
    "print(f'Cредний запас скважин в регионе 2 равен {round(data_2[\"product\"].mean(), 2)} тыс. баррелей, достаточный объем - {round(enough_volume, 2)}')\n",
    "print(f'Cредний запас скважин в регионе 3 равен {round(data_3[\"product\"].mean(), 2)} тыс. баррелей, достаточный объем - {round(enough_volume, 2)}')"
   ]
  },
  {
   "cell_type": "markdown",
   "metadata": {},
   "source": [
    "<div class=\"alert alert-block alert-success\">\n",
    "<b>Успех:</b> Точка безубыточности найдена верно, сравнение проведено!\n",
    "</div>"
   ]
  },
  {
   "cell_type": "code",
   "execution_count": 28,
   "metadata": {},
   "outputs": [],
   "source": [
    "#напишем функцию для рассчета прибыли\n",
    "def revenue(sample_test, sample_prediction):\n",
    "    # отбираем топ-N точек по запасам сырья\n",
    "    prediction = sample_prediction.sort_values(by='product', ascending=False)\n",
    "    product_sum = sample_test.loc[prediction.index][:200].sum()\n",
    "\n",
    "    # считаем прибыль\n",
    "    return product_sum * REVENUE_PER_PRODUCT - BUDGET"
   ]
  },
  {
   "cell_type": "markdown",
   "metadata": {},
   "source": [
    "**Вывод по разделу:**\n",
    "\n",
    "Средний запас сырья значительно ниже достаточного объема по всем регионам."
   ]
  },
  {
   "cell_type": "markdown",
   "metadata": {},
   "source": [
    "## Расчёт прибыли и рисков "
   ]
  },
  {
   "cell_type": "markdown",
   "metadata": {},
   "source": [
    "**Напишите функцию для расчёта прибыли по выбранным скважинам и предсказаниям модели:**"
   ]
  },
  {
   "cell_type": "code",
   "execution_count": 29,
   "metadata": {},
   "outputs": [],
   "source": [
    "#превратим предсказанные значения в датафреймы, а также свяжем индексы\n",
    "y_pred_1_df = pd.DataFrame(y_pred_1, columns=['product'])\n",
    "y_pred_2_df = pd.DataFrame(y_pred_2, columns=['product'])\n",
    "y_pred_3_df = pd.DataFrame(y_pred_3, columns=['product'])"
   ]
  },
  {
   "cell_type": "code",
   "execution_count": 30,
   "metadata": {},
   "outputs": [],
   "source": [
    "#присвоим индексы новым датафреймам\n",
    "y_pred_1_df.index = y_true_1.index\n",
    "y_pred_2_df.index = y_true_2.index\n",
    "y_pred_3_df.index = y_true_3.index"
   ]
  },
  {
   "cell_type": "code",
   "execution_count": 31,
   "metadata": {},
   "outputs": [
    {
     "data": {
      "text/html": [
       "<div>\n",
       "<style scoped>\n",
       "    .dataframe tbody tr th:only-of-type {\n",
       "        vertical-align: middle;\n",
       "    }\n",
       "\n",
       "    .dataframe tbody tr th {\n",
       "        vertical-align: top;\n",
       "    }\n",
       "\n",
       "    .dataframe thead th {\n",
       "        text-align: right;\n",
       "    }\n",
       "</style>\n",
       "<table border=\"1\" class=\"dataframe\">\n",
       "  <thead>\n",
       "    <tr style=\"text-align: right;\">\n",
       "      <th></th>\n",
       "      <th>product</th>\n",
       "    </tr>\n",
       "  </thead>\n",
       "  <tbody>\n",
       "    <tr>\n",
       "      <th>75721</th>\n",
       "      <td>101.929265</td>\n",
       "    </tr>\n",
       "    <tr>\n",
       "      <th>80184</th>\n",
       "      <td>78.160179</td>\n",
       "    </tr>\n",
       "    <tr>\n",
       "      <th>19864</th>\n",
       "      <td>115.193432</td>\n",
       "    </tr>\n",
       "    <tr>\n",
       "      <th>76699</th>\n",
       "      <td>105.671091</td>\n",
       "    </tr>\n",
       "    <tr>\n",
       "      <th>92991</th>\n",
       "      <td>98.049732</td>\n",
       "    </tr>\n",
       "  </tbody>\n",
       "</table>\n",
       "</div>"
      ],
      "text/plain": [
       "          product\n",
       "75721  101.929265\n",
       "80184   78.160179\n",
       "19864  115.193432\n",
       "76699  105.671091\n",
       "92991   98.049732"
      ]
     },
     "execution_count": 31,
     "metadata": {},
     "output_type": "execute_result"
    }
   ],
   "source": [
    "#посмотрим результаты работы\n",
    "y_pred_1_df.head()"
   ]
  },
  {
   "cell_type": "code",
   "execution_count": 32,
   "metadata": {},
   "outputs": [
    {
     "data": {
      "text/html": [
       "<div>\n",
       "<style scoped>\n",
       "    .dataframe tbody tr th:only-of-type {\n",
       "        vertical-align: middle;\n",
       "    }\n",
       "\n",
       "    .dataframe tbody tr th {\n",
       "        vertical-align: top;\n",
       "    }\n",
       "\n",
       "    .dataframe thead th {\n",
       "        text-align: right;\n",
       "    }\n",
       "</style>\n",
       "<table border=\"1\" class=\"dataframe\">\n",
       "  <thead>\n",
       "    <tr style=\"text-align: right;\">\n",
       "      <th></th>\n",
       "      <th>product</th>\n",
       "    </tr>\n",
       "  </thead>\n",
       "  <tbody>\n",
       "    <tr>\n",
       "      <th>75721</th>\n",
       "      <td>0.764303</td>\n",
       "    </tr>\n",
       "    <tr>\n",
       "      <th>80184</th>\n",
       "      <td>52.840504</td>\n",
       "    </tr>\n",
       "    <tr>\n",
       "      <th>19864</th>\n",
       "      <td>135.107080</td>\n",
       "    </tr>\n",
       "    <tr>\n",
       "      <th>76699</th>\n",
       "      <td>109.504547</td>\n",
       "    </tr>\n",
       "    <tr>\n",
       "      <th>92991</th>\n",
       "      <td>-0.102358</td>\n",
       "    </tr>\n",
       "  </tbody>\n",
       "</table>\n",
       "</div>"
      ],
      "text/plain": [
       "          product\n",
       "75721    0.764303\n",
       "80184   52.840504\n",
       "19864  135.107080\n",
       "76699  109.504547\n",
       "92991   -0.102358"
      ]
     },
     "execution_count": 32,
     "metadata": {},
     "output_type": "execute_result"
    }
   ],
   "source": [
    "y_pred_2_df.head()"
   ]
  },
  {
   "cell_type": "code",
   "execution_count": 33,
   "metadata": {},
   "outputs": [
    {
     "data": {
      "text/html": [
       "<div>\n",
       "<style scoped>\n",
       "    .dataframe tbody tr th:only-of-type {\n",
       "        vertical-align: middle;\n",
       "    }\n",
       "\n",
       "    .dataframe tbody tr th {\n",
       "        vertical-align: top;\n",
       "    }\n",
       "\n",
       "    .dataframe thead th {\n",
       "        text-align: right;\n",
       "    }\n",
       "</style>\n",
       "<table border=\"1\" class=\"dataframe\">\n",
       "  <thead>\n",
       "    <tr style=\"text-align: right;\">\n",
       "      <th></th>\n",
       "      <th>product</th>\n",
       "    </tr>\n",
       "  </thead>\n",
       "  <tbody>\n",
       "    <tr>\n",
       "      <th>75721</th>\n",
       "      <td>98.287963</td>\n",
       "    </tr>\n",
       "    <tr>\n",
       "      <th>80184</th>\n",
       "      <td>101.587447</td>\n",
       "    </tr>\n",
       "    <tr>\n",
       "      <th>19864</th>\n",
       "      <td>52.467355</td>\n",
       "    </tr>\n",
       "    <tr>\n",
       "      <th>76699</th>\n",
       "      <td>109.907007</td>\n",
       "    </tr>\n",
       "    <tr>\n",
       "      <th>92991</th>\n",
       "      <td>72.426478</td>\n",
       "    </tr>\n",
       "  </tbody>\n",
       "</table>\n",
       "</div>"
      ],
      "text/plain": [
       "          product\n",
       "75721   98.287963\n",
       "80184  101.587447\n",
       "19864   52.467355\n",
       "76699  109.907007\n",
       "92991   72.426478"
      ]
     },
     "execution_count": 33,
     "metadata": {},
     "output_type": "execute_result"
    }
   ],
   "source": [
    "y_pred_3_df.head()"
   ]
  },
  {
   "cell_type": "code",
   "execution_count": 34,
   "metadata": {},
   "outputs": [],
   "source": [
    "#превратим все настоящие значения в датафрейм\n",
    "y_true_1 = pd.DataFrame(y_true_1)\n",
    "y_true_2 = pd.DataFrame(y_true_2)\n",
    "y_true_3 = pd.DataFrame(y_true_3)"
   ]
  },
  {
   "cell_type": "code",
   "execution_count": 35,
   "metadata": {},
   "outputs": [],
   "source": [
    "sample_test_1 = y_true_1.sample(n=500, replace=True, random_state=RANDOM_STATE)\n",
    "sample_prediction_1 = y_pred_1_df.loc[sample_test_1.index]\n",
    "income_1 = revenue(sample_test_1, sample_prediction_1)"
   ]
  },
  {
   "cell_type": "code",
   "execution_count": 36,
   "metadata": {},
   "outputs": [],
   "source": [
    "sample_test_2 = y_true_2.sample(n=500, replace=True, random_state=RANDOM_STATE)\n",
    "sample_prediction_2 = y_pred_2_df.loc[sample_test_1.index]\n",
    "income_2 = revenue(sample_test_2, sample_prediction_2)"
   ]
  },
  {
   "cell_type": "code",
   "execution_count": 37,
   "metadata": {},
   "outputs": [],
   "source": [
    "sample_test_3 = y_true_3.sample(n=500, replace=True, random_state=RANDOM_STATE)\n",
    "sample_prediction_3 = y_pred_3_df.loc[sample_test_1.index]\n",
    "income_3 = revenue(sample_test_3, sample_prediction_3)"
   ]
  },
  {
   "cell_type": "code",
   "execution_count": 38,
   "metadata": {},
   "outputs": [
    {
     "name": "stdout",
     "output_type": "stream",
     "text": [
      "Прибыль для полученного обьема сырья для региона 1 равна 571791500\n",
      "Прибыль для полученного обьема сырья для региона 2 равна 763883000\n",
      "Прибыль для полученного обьема сырья для региона 3 равна 9498500\n"
     ]
    }
   ],
   "source": [
    "print(f'Прибыль для полученного обьема сырья для региона 1 равна {int(income_1)}')\n",
    "print(f'Прибыль для полученного обьема сырья для региона 2 равна {int(income_2)}')\n",
    "print(f'Прибыль для полученного обьема сырья для региона 3 равна {int(income_3)}')"
   ]
  },
  {
   "cell_type": "code",
   "execution_count": 39,
   "metadata": {},
   "outputs": [
    {
     "name": "stdout",
     "output_type": "stream",
     "text": [
      "Средняя прибыль: 430683776.00000006\n",
      "2.5%-квантиль для: -102145487.50000004\n",
      "97.5%-квантиль для: 961154900.0\n",
      "Доля случаев, когда прибыль была отрицательной 0.054\n"
     ]
    }
   ],
   "source": [
    "#для региона 1\n",
    "revenues_per_region_1 = []\n",
    "for i in range(1000):\n",
    "    target_subsample = y_true_1.sample(n=500, replace=True)\n",
    "    target_prediction = y_pred_1_df.loc[target_subsample.index]\n",
    "    revenues_per_region_1.append(revenue(target_subsample, target_prediction))\n",
    "\n",
    "# Преобразуем список в датафрейм после завершения цикла\n",
    "revenues_per_region_1 = pd.DataFrame(revenues_per_region_1)\n",
    "#посчитаем убыток\n",
    "negative_revenue_probability_1 = (revenues_per_region_1['product'] < 0).mean()\n",
    "\n",
    "#посчитаем интервал и среднюю\n",
    "lower_1 = revenues_per_region_1['product'].quantile(0.025)\n",
    "higher_1 = revenues_per_region_1['product'].quantile(0.975)\n",
    "mean_1 = revenues_per_region_1['product'].mean()\n",
    "\n",
    "print(f'Средняя прибыль:', mean_1)\n",
    "print(f'2.5%-квантиль для:', lower_1)\n",
    "print(f'97.5%-квантиль для:', higher_1)\n",
    "print(f'Доля случаев, когда прибыль была отрицательной', negative_revenue_probability_1)"
   ]
  },
  {
   "cell_type": "code",
   "execution_count": 40,
   "metadata": {
    "scrolled": true
   },
   "outputs": [
    {
     "name": "stdout",
     "output_type": "stream",
     "text": [
      "Средняя прибыль: 501401968.9999984\n",
      "2.5%-квантиль для: 56095437.499999955\n",
      "97.5%-квантиль для: 964389162.4999981\n",
      "Доля случаев, когда прибыль была отрицательной 0.013\n"
     ]
    }
   ],
   "source": [
    "#для региона 2\n",
    "revenues_per_region_2 = []\n",
    "for i in range(1000):\n",
    "    target_subsample_2 = y_true_2.sample(n=500, replace=True)\n",
    "    target_prediction_2 = y_pred_2_df.loc[target_subsample_2.index]\n",
    "    revenues_per_region_2.append(revenue(target_subsample_2, target_prediction_2))\n",
    "\n",
    "# Преобразуем список в датафрейм после завершения цикла\n",
    "revenues_per_region_2 = pd.DataFrame(revenues_per_region_2)\n",
    "#посчитаем убыток\n",
    "negative_revenue_probability_2 = (revenues_per_region_2['product'] < 0).mean()\n",
    "\n",
    "#посчитаем интервал и среднюю\n",
    "lower_2 = revenues_per_region_2['product'].quantile(0.025)\n",
    "higher_2 = revenues_per_region_2['product'].quantile(0.975)\n",
    "mean_2 = revenues_per_region_2['product'].mean()\n",
    "\n",
    "print(f'Средняя прибыль:', mean_2)\n",
    "print(f'2.5%-квантиль для:', lower_2)\n",
    "print(f'97.5%-квантиль для:', higher_2)\n",
    "print(f'Доля случаев, когда прибыль была отрицательной', negative_revenue_probability_2)"
   ]
  },
  {
   "cell_type": "code",
   "execution_count": 41,
   "metadata": {},
   "outputs": [
    {
     "name": "stdout",
     "output_type": "stream",
     "text": [
      "Средняя прибыль: 401786544.5\n",
      "2.5%-квантиль для: -139375562.49999997\n",
      "97.5%-квантиль для: 919282737.5\n",
      "Доля случаев, когда прибыль была отрицательной 0.067\n"
     ]
    }
   ],
   "source": [
    "#для региона 3\n",
    "revenues_per_region_3 = []\n",
    "for i in range(1000):\n",
    "    target_subsample_3 = y_true_3.sample(n=500, replace=True)\n",
    "    target_prediction_3 = y_pred_3_df.loc[target_subsample_3.index]\n",
    "    revenues_per_region_3.append(revenue(target_subsample_3, target_prediction_3))\n",
    "\n",
    "# Преобразуем список в датафрейм после завершения цикла\n",
    "revenues_per_region_3 = pd.DataFrame(revenues_per_region_3)\n",
    "#посчитаем убыток\n",
    "negative_revenue_probability_3 = (revenues_per_region_3['product'] < 0).mean()\n",
    "\n",
    "#посчитаем интервал и среднюю\n",
    "lower_3 = revenues_per_region_3['product'].quantile(0.025)\n",
    "higher_3 = revenues_per_region_3['product'].quantile(0.975)\n",
    "mean_3 = revenues_per_region_3['product'].mean()\n",
    "\n",
    "print(f'Средняя прибыль:', mean_3)\n",
    "print(f'2.5%-квантиль для:', lower_3)\n",
    "print(f'97.5%-квантиль для:', higher_3)\n",
    "print(f'Доля случаев, когда прибыль была отрицательной', negative_revenue_probability_3)"
   ]
  },
  {
   "cell_type": "markdown",
   "metadata": {},
   "source": [
    "**Итоговый вывод:**\n",
    "Для разработки скважин лучше всего подойдет регион 2, так как средняя прибыль там самая высокая, 95% доверительный интервал высокий, а доля случаев, когда прибыль была отрицательной минимальна. "
   ]
  },
  {
   "cell_type": "markdown",
   "metadata": {},
   "source": [
    "## Чек-лист готовности проекта"
   ]
  },
  {
   "cell_type": "markdown",
   "metadata": {},
   "source": [
    "Поставьте 'x' в выполненных пунктах. Далее нажмите Shift+Enter."
   ]
  },
  {
   "cell_type": "markdown",
   "metadata": {},
   "source": [
    "- [x]  Jupyter Notebook открыт\n",
    "- [x]  Весь код выполняется без ошибок\n",
    "- [x]  Ячейки с кодом расположены в порядке исполнения\n",
    "- [x]  Выполнен шаг 1: данные подготовлены\n",
    "- [x]  Выполнен шаг 2: модели обучены и проверены\n",
    "    - [x]  Данные корректно разбиты на обучающую и валидационную выборки\n",
    "    - [x]  Модели обучены, предсказания сделаны\n",
    "    - [x]  Предсказания и правильные ответы на валидационной выборке сохранены\n",
    "    - [x]  На экране напечатаны результаты\n",
    "    - [x]  Сделаны выводы\n",
    "- [x]  Выполнен шаг 3: проведена подготовка к расчёту прибыли\n",
    "    - [x]  Для всех ключевых значений созданы константы Python\n",
    "    - [x]  Посчитано минимальное среднее количество продукта в месторождениях региона, достаточное для разработки\n",
    "    - [x]  По предыдущему пункту сделаны выводы\n",
    "    - [x]  Написана функция расчёта прибыли\n",
    "- [x]  Выполнен шаг 4: посчитаны риски и прибыль\n",
    "    - [x]  Проведена процедура *Bootstrap*\n",
    "    - [x]  Все параметры бутстрепа соответствуют условию\n",
    "    - [x]  Найдены все нужные величины\n",
    "    - [x]  Предложен регион для разработки месторождения\n",
    "    - [x]  Выбор региона обоснован"
   ]
  },
  {
   "cell_type": "code",
   "execution_count": null,
   "metadata": {},
   "outputs": [],
   "source": []
  }
 ],
 "metadata": {
  "ExecuteTimeLog": [
   {
    "duration": 12,
    "start_time": "2025-03-28T16:34:30.916Z"
   },
   {
    "duration": 445,
    "start_time": "2025-08-27T07:02:41.339Z"
   },
   {
    "duration": 400,
    "start_time": "2025-08-27T07:02:43.361Z"
   },
   {
    "duration": 15,
    "start_time": "2025-08-27T07:03:49.806Z"
   },
   {
    "duration": 9,
    "start_time": "2025-08-27T07:04:05.479Z"
   },
   {
    "duration": 9,
    "start_time": "2025-08-27T07:04:15.974Z"
   },
   {
    "duration": 9,
    "start_time": "2025-08-27T07:04:19.958Z"
   },
   {
    "duration": 10,
    "start_time": "2025-08-27T07:04:28.386Z"
   },
   {
    "duration": 15,
    "start_time": "2025-08-27T07:04:43.338Z"
   },
   {
    "duration": 14,
    "start_time": "2025-08-27T07:04:51.906Z"
   },
   {
    "duration": 15,
    "start_time": "2025-08-27T07:04:59.071Z"
   },
   {
    "duration": 23,
    "start_time": "2025-08-27T07:09:05.531Z"
   },
   {
    "duration": 24,
    "start_time": "2025-08-27T07:09:20.383Z"
   },
   {
    "duration": 137,
    "start_time": "2025-08-27T07:09:54.703Z"
   },
   {
    "duration": 12,
    "start_time": "2025-08-27T07:13:14.511Z"
   },
   {
    "duration": 9,
    "start_time": "2025-08-27T07:13:23.991Z"
   },
   {
    "duration": 15,
    "start_time": "2025-08-27T07:13:47.558Z"
   },
   {
    "duration": 36,
    "start_time": "2025-08-27T07:14:05.871Z"
   },
   {
    "duration": 10,
    "start_time": "2025-08-27T07:14:24.582Z"
   },
   {
    "duration": 9,
    "start_time": "2025-08-27T07:14:35.979Z"
   },
   {
    "duration": 10,
    "start_time": "2025-08-27T07:14:45.819Z"
   },
   {
    "duration": 11,
    "start_time": "2025-08-27T07:14:55.842Z"
   },
   {
    "duration": 67,
    "start_time": "2025-08-27T07:24:39.588Z"
   },
   {
    "duration": 1159,
    "start_time": "2025-08-27T07:24:46.125Z"
   },
   {
    "duration": 403,
    "start_time": "2025-08-27T07:24:47.286Z"
   },
   {
    "duration": 17,
    "start_time": "2025-08-27T07:24:47.690Z"
   },
   {
    "duration": 16,
    "start_time": "2025-08-27T07:24:47.709Z"
   },
   {
    "duration": 24,
    "start_time": "2025-08-27T07:24:47.727Z"
   },
   {
    "duration": 16,
    "start_time": "2025-08-27T07:24:47.753Z"
   },
   {
    "duration": 15,
    "start_time": "2025-08-27T07:24:47.770Z"
   },
   {
    "duration": 15,
    "start_time": "2025-08-27T07:24:47.787Z"
   },
   {
    "duration": 53,
    "start_time": "2025-08-27T07:24:47.803Z"
   },
   {
    "duration": 137,
    "start_time": "2025-08-27T07:24:47.858Z"
   },
   {
    "duration": 33,
    "start_time": "2025-08-27T07:24:47.997Z"
   },
   {
    "duration": 28,
    "start_time": "2025-08-27T07:24:48.032Z"
   },
   {
    "duration": 16,
    "start_time": "2025-08-27T07:24:48.061Z"
   },
   {
    "duration": 12,
    "start_time": "2025-08-27T07:24:48.079Z"
   },
   {
    "duration": 63,
    "start_time": "2025-08-27T07:24:48.092Z"
   },
   {
    "duration": 1175,
    "start_time": "2025-08-27T07:31:58.022Z"
   },
   {
    "duration": 385,
    "start_time": "2025-08-27T07:31:59.199Z"
   },
   {
    "duration": 16,
    "start_time": "2025-08-27T07:31:59.586Z"
   },
   {
    "duration": 9,
    "start_time": "2025-08-27T07:31:59.603Z"
   },
   {
    "duration": 72,
    "start_time": "2025-08-27T07:31:59.614Z"
   },
   {
    "duration": 24,
    "start_time": "2025-08-27T07:31:59.688Z"
   },
   {
    "duration": 14,
    "start_time": "2025-08-27T07:31:59.714Z"
   },
   {
    "duration": 14,
    "start_time": "2025-08-27T07:31:59.729Z"
   },
   {
    "duration": 28,
    "start_time": "2025-08-27T07:31:59.745Z"
   },
   {
    "duration": 126,
    "start_time": "2025-08-27T07:31:59.774Z"
   },
   {
    "duration": 31,
    "start_time": "2025-08-27T07:31:59.901Z"
   },
   {
    "duration": 21,
    "start_time": "2025-08-27T07:31:59.934Z"
   },
   {
    "duration": 12,
    "start_time": "2025-08-27T07:31:59.957Z"
   },
   {
    "duration": 16,
    "start_time": "2025-08-27T07:31:59.972Z"
   },
   {
    "duration": 107,
    "start_time": "2025-08-27T07:31:59.990Z"
   },
   {
    "duration": 14,
    "start_time": "2025-08-27T07:32:00.099Z"
   },
   {
    "duration": 159,
    "start_time": "2025-08-27T07:32:00.115Z"
   },
   {
    "duration": 1139,
    "start_time": "2025-08-27T07:33:20.657Z"
   },
   {
    "duration": 386,
    "start_time": "2025-08-27T07:33:21.798Z"
   },
   {
    "duration": 15,
    "start_time": "2025-08-27T07:33:22.186Z"
   },
   {
    "duration": 8,
    "start_time": "2025-08-27T07:33:22.203Z"
   },
   {
    "duration": 33,
    "start_time": "2025-08-27T07:33:22.213Z"
   },
   {
    "duration": 52,
    "start_time": "2025-08-27T07:33:22.247Z"
   },
   {
    "duration": 16,
    "start_time": "2025-08-27T07:33:22.301Z"
   },
   {
    "duration": 14,
    "start_time": "2025-08-27T07:33:22.318Z"
   },
   {
    "duration": 87,
    "start_time": "2025-08-27T07:33:22.333Z"
   },
   {
    "duration": 130,
    "start_time": "2025-08-27T07:33:22.421Z"
   },
   {
    "duration": 31,
    "start_time": "2025-08-27T07:33:22.553Z"
   },
   {
    "duration": 9,
    "start_time": "2025-08-27T07:33:22.585Z"
   },
   {
    "duration": 18,
    "start_time": "2025-08-27T07:33:22.596Z"
   },
   {
    "duration": 98,
    "start_time": "2025-08-27T07:33:22.616Z"
   },
   {
    "duration": 36,
    "start_time": "2025-08-27T07:33:22.716Z"
   },
   {
    "duration": 3,
    "start_time": "2025-08-27T07:33:22.754Z"
   },
   {
    "duration": 116,
    "start_time": "2025-08-27T07:33:22.759Z"
   },
   {
    "duration": 1061,
    "start_time": "2025-08-27T07:37:12.300Z"
   },
   {
    "duration": 390,
    "start_time": "2025-08-27T07:37:13.363Z"
   },
   {
    "duration": 18,
    "start_time": "2025-08-27T07:37:13.754Z"
   },
   {
    "duration": 8,
    "start_time": "2025-08-27T07:37:13.774Z"
   },
   {
    "duration": 9,
    "start_time": "2025-08-27T07:37:13.784Z"
   },
   {
    "duration": 17,
    "start_time": "2025-08-27T07:37:13.794Z"
   },
   {
    "duration": 43,
    "start_time": "2025-08-27T07:37:13.812Z"
   },
   {
    "duration": 15,
    "start_time": "2025-08-27T07:37:13.856Z"
   },
   {
    "duration": 22,
    "start_time": "2025-08-27T07:37:13.873Z"
   },
   {
    "duration": 147,
    "start_time": "2025-08-27T07:37:13.896Z"
   },
   {
    "duration": 32,
    "start_time": "2025-08-27T07:37:14.051Z"
   },
   {
    "duration": 55,
    "start_time": "2025-08-27T07:37:14.084Z"
   },
   {
    "duration": 11,
    "start_time": "2025-08-27T07:37:14.141Z"
   },
   {
    "duration": 10,
    "start_time": "2025-08-27T07:37:14.154Z"
   },
   {
    "duration": 67,
    "start_time": "2025-08-27T07:37:14.165Z"
   },
   {
    "duration": 0,
    "start_time": "2025-08-27T07:37:14.234Z"
   },
   {
    "duration": 0,
    "start_time": "2025-08-27T07:37:14.235Z"
   },
   {
    "duration": 0,
    "start_time": "2025-08-27T07:37:14.236Z"
   },
   {
    "duration": 51,
    "start_time": "2025-08-27T07:37:28.366Z"
   },
   {
    "duration": 14,
    "start_time": "2025-08-27T07:37:29.230Z"
   },
   {
    "duration": 3,
    "start_time": "2025-08-27T07:37:29.870Z"
   },
   {
    "duration": 27,
    "start_time": "2025-08-27T07:37:34.266Z"
   },
   {
    "duration": 7,
    "start_time": "2025-08-27T07:38:30.078Z"
   },
   {
    "duration": 14,
    "start_time": "2025-08-27T07:39:35.680Z"
   },
   {
    "duration": 1079,
    "start_time": "2025-08-27T07:44:05.912Z"
   },
   {
    "duration": 408,
    "start_time": "2025-08-27T07:44:06.993Z"
   },
   {
    "duration": 18,
    "start_time": "2025-08-27T07:44:07.402Z"
   },
   {
    "duration": 9,
    "start_time": "2025-08-27T07:44:07.422Z"
   },
   {
    "duration": 9,
    "start_time": "2025-08-27T07:44:07.453Z"
   },
   {
    "duration": 71,
    "start_time": "2025-08-27T07:44:07.464Z"
   },
   {
    "duration": 14,
    "start_time": "2025-08-27T07:44:07.536Z"
   },
   {
    "duration": 13,
    "start_time": "2025-08-27T07:44:07.552Z"
   },
   {
    "duration": 31,
    "start_time": "2025-08-27T07:44:07.567Z"
   },
   {
    "duration": 141,
    "start_time": "2025-08-27T07:44:07.600Z"
   },
   {
    "duration": 38,
    "start_time": "2025-08-27T07:44:07.743Z"
   },
   {
    "duration": 10,
    "start_time": "2025-08-27T07:44:07.783Z"
   },
   {
    "duration": 27,
    "start_time": "2025-08-27T07:44:07.794Z"
   },
   {
    "duration": 28,
    "start_time": "2025-08-27T07:44:07.824Z"
   },
   {
    "duration": 51,
    "start_time": "2025-08-27T07:44:07.853Z"
   },
   {
    "duration": 12,
    "start_time": "2025-08-27T07:44:07.906Z"
   },
   {
    "duration": 23,
    "start_time": "2025-08-27T07:44:07.920Z"
   },
   {
    "duration": 27,
    "start_time": "2025-08-27T07:44:07.944Z"
   },
   {
    "duration": 7,
    "start_time": "2025-08-27T07:44:07.973Z"
   },
   {
    "duration": 72,
    "start_time": "2025-08-27T07:44:07.982Z"
   },
   {
    "duration": 112,
    "start_time": "2025-08-27T07:44:08.056Z"
   },
   {
    "duration": 3,
    "start_time": "2025-08-27T07:48:40.114Z"
   },
   {
    "duration": 4,
    "start_time": "2025-08-27T07:48:45.411Z"
   },
   {
    "duration": 11,
    "start_time": "2025-08-27T07:48:52.414Z"
   },
   {
    "duration": 4,
    "start_time": "2025-08-27T07:50:03.314Z"
   },
   {
    "duration": 106,
    "start_time": "2025-08-27T07:50:05.461Z"
   },
   {
    "duration": 4,
    "start_time": "2025-08-27T07:52:14.415Z"
   },
   {
    "duration": 9,
    "start_time": "2025-08-27T07:52:16.391Z"
   },
   {
    "duration": 3,
    "start_time": "2025-08-27T07:52:31.060Z"
   },
   {
    "duration": 10,
    "start_time": "2025-08-27T07:52:32.363Z"
   },
   {
    "duration": 4,
    "start_time": "2025-08-27T07:52:45.755Z"
   },
   {
    "duration": 9,
    "start_time": "2025-08-27T07:52:47.387Z"
   },
   {
    "duration": 1121,
    "start_time": "2025-08-29T16:02:55.380Z"
   },
   {
    "duration": 424,
    "start_time": "2025-08-29T16:02:56.503Z"
   },
   {
    "duration": 21,
    "start_time": "2025-08-29T16:02:56.929Z"
   },
   {
    "duration": 57,
    "start_time": "2025-08-29T16:02:56.952Z"
   },
   {
    "duration": 16,
    "start_time": "2025-08-29T16:02:57.012Z"
   },
   {
    "duration": 29,
    "start_time": "2025-08-29T16:02:57.030Z"
   },
   {
    "duration": 13,
    "start_time": "2025-08-29T16:02:57.061Z"
   },
   {
    "duration": 73,
    "start_time": "2025-08-29T16:02:57.076Z"
   },
   {
    "duration": 25,
    "start_time": "2025-08-29T16:02:57.151Z"
   },
   {
    "duration": 148,
    "start_time": "2025-08-29T16:02:57.177Z"
   },
   {
    "duration": 41,
    "start_time": "2025-08-29T16:02:57.327Z"
   },
   {
    "duration": 13,
    "start_time": "2025-08-29T16:02:57.369Z"
   },
   {
    "duration": 13,
    "start_time": "2025-08-29T16:02:57.384Z"
   },
   {
    "duration": 10,
    "start_time": "2025-08-29T16:02:57.401Z"
   },
   {
    "duration": 72,
    "start_time": "2025-08-29T16:02:57.437Z"
   },
   {
    "duration": 14,
    "start_time": "2025-08-29T16:02:57.511Z"
   },
   {
    "duration": 42,
    "start_time": "2025-08-29T16:02:57.527Z"
   },
   {
    "duration": 29,
    "start_time": "2025-08-29T16:02:57.571Z"
   },
   {
    "duration": 7,
    "start_time": "2025-08-29T16:02:57.602Z"
   },
   {
    "duration": 30,
    "start_time": "2025-08-29T16:02:57.611Z"
   },
   {
    "duration": 15,
    "start_time": "2025-08-29T16:02:57.644Z"
   },
   {
    "duration": 23,
    "start_time": "2025-08-29T16:02:57.739Z"
   },
   {
    "duration": 84,
    "start_time": "2025-08-29T16:02:57.763Z"
   },
   {
    "duration": 30,
    "start_time": "2025-08-29T16:02:57.849Z"
   },
   {
    "duration": 1128,
    "start_time": "2025-08-29T16:32:22.128Z"
   },
   {
    "duration": 403,
    "start_time": "2025-08-29T16:32:23.258Z"
   },
   {
    "duration": 15,
    "start_time": "2025-08-29T16:32:23.663Z"
   },
   {
    "duration": 9,
    "start_time": "2025-08-29T16:32:23.680Z"
   },
   {
    "duration": 15,
    "start_time": "2025-08-29T16:32:23.691Z"
   },
   {
    "duration": 33,
    "start_time": "2025-08-29T16:32:23.708Z"
   },
   {
    "duration": 20,
    "start_time": "2025-08-29T16:32:23.743Z"
   },
   {
    "duration": 17,
    "start_time": "2025-08-29T16:32:23.764Z"
   },
   {
    "duration": 36,
    "start_time": "2025-08-29T16:32:23.783Z"
   },
   {
    "duration": 142,
    "start_time": "2025-08-29T16:32:23.821Z"
   },
   {
    "duration": 33,
    "start_time": "2025-08-29T16:32:23.965Z"
   },
   {
    "duration": 10,
    "start_time": "2025-08-29T16:32:24.000Z"
   },
   {
    "duration": 28,
    "start_time": "2025-08-29T16:32:24.011Z"
   },
   {
    "duration": 32,
    "start_time": "2025-08-29T16:32:24.042Z"
   },
   {
    "duration": 73,
    "start_time": "2025-08-29T16:32:24.075Z"
   },
   {
    "duration": 42,
    "start_time": "2025-08-29T16:32:24.150Z"
   },
   {
    "duration": 12,
    "start_time": "2025-08-29T16:32:24.193Z"
   },
   {
    "duration": 52,
    "start_time": "2025-08-29T16:32:24.207Z"
   },
   {
    "duration": 6,
    "start_time": "2025-08-29T16:32:24.261Z"
   },
   {
    "duration": 14,
    "start_time": "2025-08-29T16:32:24.269Z"
   },
   {
    "duration": 98,
    "start_time": "2025-08-29T16:32:24.337Z"
   },
   {
    "duration": 19,
    "start_time": "2025-08-29T16:32:24.436Z"
   },
   {
    "duration": 21,
    "start_time": "2025-08-29T16:32:24.456Z"
   },
   {
    "duration": 23,
    "start_time": "2025-08-29T16:32:24.479Z"
   },
   {
    "duration": 31,
    "start_time": "2025-08-29T16:32:24.503Z"
   },
   {
    "duration": 5,
    "start_time": "2025-08-29T16:33:02.207Z"
   },
   {
    "duration": 4,
    "start_time": "2025-08-29T16:33:14.713Z"
   },
   {
    "duration": 4,
    "start_time": "2025-08-29T16:33:23.209Z"
   },
   {
    "duration": 3,
    "start_time": "2025-08-29T16:33:26.605Z"
   },
   {
    "duration": 4,
    "start_time": "2025-08-29T16:33:32.855Z"
   },
   {
    "duration": 4,
    "start_time": "2025-08-29T16:33:46.389Z"
   },
   {
    "duration": 4,
    "start_time": "2025-08-29T16:33:49.665Z"
   },
   {
    "duration": 1180,
    "start_time": "2025-08-30T12:07:00.794Z"
   },
   {
    "duration": 443,
    "start_time": "2025-08-30T12:07:01.976Z"
   },
   {
    "duration": 17,
    "start_time": "2025-08-30T12:07:02.420Z"
   },
   {
    "duration": 46,
    "start_time": "2025-08-30T12:07:02.439Z"
   },
   {
    "duration": 54,
    "start_time": "2025-08-30T12:07:02.487Z"
   },
   {
    "duration": 72,
    "start_time": "2025-08-30T12:07:02.542Z"
   },
   {
    "duration": 55,
    "start_time": "2025-08-30T12:07:02.616Z"
   },
   {
    "duration": 108,
    "start_time": "2025-08-30T12:07:02.673Z"
   },
   {
    "duration": 81,
    "start_time": "2025-08-30T12:07:02.783Z"
   },
   {
    "duration": 163,
    "start_time": "2025-08-30T12:07:02.866Z"
   },
   {
    "duration": 37,
    "start_time": "2025-08-30T12:07:03.031Z"
   },
   {
    "duration": 50,
    "start_time": "2025-08-30T12:07:03.070Z"
   },
   {
    "duration": 58,
    "start_time": "2025-08-30T12:07:03.122Z"
   },
   {
    "duration": 67,
    "start_time": "2025-08-30T12:07:03.184Z"
   },
   {
    "duration": 106,
    "start_time": "2025-08-30T12:07:03.253Z"
   },
   {
    "duration": 13,
    "start_time": "2025-08-30T12:07:03.361Z"
   },
   {
    "duration": 26,
    "start_time": "2025-08-30T12:07:03.375Z"
   },
   {
    "duration": 77,
    "start_time": "2025-08-30T12:07:03.402Z"
   },
   {
    "duration": 16,
    "start_time": "2025-08-30T12:07:03.480Z"
   },
   {
    "duration": 41,
    "start_time": "2025-08-30T12:07:03.497Z"
   },
   {
    "duration": 149,
    "start_time": "2025-08-30T12:07:03.541Z"
   },
   {
    "duration": 82,
    "start_time": "2025-08-30T12:07:03.692Z"
   },
   {
    "duration": 60,
    "start_time": "2025-08-30T12:07:03.776Z"
   },
   {
    "duration": 41,
    "start_time": "2025-08-30T12:07:03.838Z"
   },
   {
    "duration": 56,
    "start_time": "2025-08-30T12:07:03.880Z"
   },
   {
    "duration": 3,
    "start_time": "2025-08-30T12:07:17.694Z"
   },
   {
    "duration": 3,
    "start_time": "2025-08-30T12:07:32.926Z"
   },
   {
    "duration": 7,
    "start_time": "2025-08-30T12:10:43.052Z"
   },
   {
    "duration": 97,
    "start_time": "2025-08-30T12:14:36.440Z"
   },
   {
    "duration": 4,
    "start_time": "2025-08-30T12:14:44.546Z"
   },
   {
    "duration": 4,
    "start_time": "2025-08-30T12:14:58.526Z"
   },
   {
    "duration": 10,
    "start_time": "2025-08-30T12:16:59.017Z"
   },
   {
    "duration": 1130,
    "start_time": "2025-08-30T12:18:16.487Z"
   },
   {
    "duration": 416,
    "start_time": "2025-08-30T12:18:17.619Z"
   },
   {
    "duration": 16,
    "start_time": "2025-08-30T12:18:18.036Z"
   },
   {
    "duration": 13,
    "start_time": "2025-08-30T12:18:18.054Z"
   },
   {
    "duration": 93,
    "start_time": "2025-08-30T12:18:18.070Z"
   },
   {
    "duration": 15,
    "start_time": "2025-08-30T12:18:18.165Z"
   },
   {
    "duration": 12,
    "start_time": "2025-08-30T12:18:18.182Z"
   },
   {
    "duration": 13,
    "start_time": "2025-08-30T12:18:18.196Z"
   },
   {
    "duration": 21,
    "start_time": "2025-08-30T12:18:18.210Z"
   },
   {
    "duration": 142,
    "start_time": "2025-08-30T12:18:18.232Z"
   },
   {
    "duration": 34,
    "start_time": "2025-08-30T12:18:18.375Z"
   },
   {
    "duration": 10,
    "start_time": "2025-08-30T12:18:18.410Z"
   },
   {
    "duration": 10,
    "start_time": "2025-08-30T12:18:18.421Z"
   },
   {
    "duration": 10,
    "start_time": "2025-08-30T12:18:18.433Z"
   },
   {
    "duration": 69,
    "start_time": "2025-08-30T12:18:18.444Z"
   },
   {
    "duration": 13,
    "start_time": "2025-08-30T12:18:18.515Z"
   },
   {
    "duration": 5,
    "start_time": "2025-08-30T12:18:18.529Z"
   },
   {
    "duration": 26,
    "start_time": "2025-08-30T12:18:18.536Z"
   },
   {
    "duration": 7,
    "start_time": "2025-08-30T12:18:18.563Z"
   },
   {
    "duration": 104,
    "start_time": "2025-08-30T12:18:18.588Z"
   },
   {
    "duration": 98,
    "start_time": "2025-08-30T12:18:18.694Z"
   },
   {
    "duration": 91,
    "start_time": "2025-08-30T12:18:18.797Z"
   },
   {
    "duration": 13,
    "start_time": "2025-08-30T12:18:18.890Z"
   },
   {
    "duration": 12,
    "start_time": "2025-08-30T12:18:18.905Z"
   },
   {
    "duration": 8,
    "start_time": "2025-08-30T12:18:18.918Z"
   },
   {
    "duration": 108,
    "start_time": "2025-08-30T12:18:18.927Z"
   },
   {
    "duration": 9,
    "start_time": "2025-08-30T12:19:06.614Z"
   },
   {
    "duration": 10,
    "start_time": "2025-08-30T12:19:12.399Z"
   },
   {
    "duration": 9,
    "start_time": "2025-08-30T12:20:04.280Z"
   },
   {
    "duration": 4,
    "start_time": "2025-08-30T12:21:03.745Z"
   },
   {
    "duration": 7,
    "start_time": "2025-08-30T12:21:08.674Z"
   },
   {
    "duration": 4,
    "start_time": "2025-08-30T12:21:53.860Z"
   },
   {
    "duration": 9,
    "start_time": "2025-08-30T12:23:17.665Z"
   },
   {
    "duration": 53,
    "start_time": "2025-08-30T12:25:03.893Z"
   },
   {
    "duration": 6,
    "start_time": "2025-08-30T12:25:29.433Z"
   },
   {
    "duration": 5,
    "start_time": "2025-08-30T12:30:30.443Z"
   },
   {
    "duration": 5,
    "start_time": "2025-08-30T12:30:41.277Z"
   },
   {
    "duration": 4,
    "start_time": "2025-08-30T12:32:43.591Z"
   },
   {
    "duration": 4,
    "start_time": "2025-08-30T12:33:08.600Z"
   },
   {
    "duration": 4,
    "start_time": "2025-08-30T12:33:29.679Z"
   },
   {
    "duration": 1161,
    "start_time": "2025-08-30T14:23:15.779Z"
   },
   {
    "duration": 473,
    "start_time": "2025-08-30T14:23:16.943Z"
   },
   {
    "duration": 23,
    "start_time": "2025-08-30T14:23:17.418Z"
   },
   {
    "duration": 14,
    "start_time": "2025-08-30T14:23:17.444Z"
   },
   {
    "duration": 12,
    "start_time": "2025-08-30T14:23:17.460Z"
   },
   {
    "duration": 22,
    "start_time": "2025-08-30T14:23:17.474Z"
   },
   {
    "duration": 43,
    "start_time": "2025-08-30T14:23:17.498Z"
   },
   {
    "duration": 24,
    "start_time": "2025-08-30T14:23:17.544Z"
   },
   {
    "duration": 98,
    "start_time": "2025-08-30T14:23:17.570Z"
   },
   {
    "duration": 139,
    "start_time": "2025-08-30T14:23:17.671Z"
   },
   {
    "duration": 42,
    "start_time": "2025-08-30T14:23:17.812Z"
   },
   {
    "duration": 12,
    "start_time": "2025-08-30T14:23:17.855Z"
   },
   {
    "duration": 29,
    "start_time": "2025-08-30T14:23:17.868Z"
   },
   {
    "duration": 58,
    "start_time": "2025-08-30T14:23:17.898Z"
   },
   {
    "duration": 99,
    "start_time": "2025-08-30T14:23:17.958Z"
   },
   {
    "duration": 16,
    "start_time": "2025-08-30T14:23:18.059Z"
   },
   {
    "duration": 8,
    "start_time": "2025-08-30T14:23:18.076Z"
   },
   {
    "duration": 31,
    "start_time": "2025-08-30T14:23:18.085Z"
   },
   {
    "duration": 17,
    "start_time": "2025-08-30T14:23:18.118Z"
   },
   {
    "duration": 15,
    "start_time": "2025-08-30T14:23:18.136Z"
   },
   {
    "duration": 87,
    "start_time": "2025-08-30T14:23:18.152Z"
   },
   {
    "duration": 6,
    "start_time": "2025-08-30T14:23:18.241Z"
   },
   {
    "duration": 5,
    "start_time": "2025-08-30T14:23:18.334Z"
   },
   {
    "duration": 11,
    "start_time": "2025-08-30T14:23:18.341Z"
   },
   {
    "duration": 36,
    "start_time": "2025-08-30T14:23:18.353Z"
   },
   {
    "duration": 7,
    "start_time": "2025-08-30T14:23:18.391Z"
   },
   {
    "duration": 6,
    "start_time": "2025-08-30T14:23:18.400Z"
   },
   {
    "duration": 7,
    "start_time": "2025-08-30T14:23:18.409Z"
   },
   {
    "duration": 105,
    "start_time": "2025-08-30T14:23:18.417Z"
   },
   {
    "duration": 0,
    "start_time": "2025-08-30T14:23:18.523Z"
   },
   {
    "duration": 5,
    "start_time": "2025-08-30T14:23:48.197Z"
   },
   {
    "duration": 4,
    "start_time": "2025-08-30T14:23:51.202Z"
   },
   {
    "duration": 4,
    "start_time": "2025-08-30T14:23:54.732Z"
   },
   {
    "duration": 5,
    "start_time": "2025-08-30T14:24:00.898Z"
   },
   {
    "duration": 4,
    "start_time": "2025-08-30T14:24:05.532Z"
   },
   {
    "duration": 9,
    "start_time": "2025-08-30T14:30:43.354Z"
   },
   {
    "duration": 3,
    "start_time": "2025-08-30T14:30:49.788Z"
   },
   {
    "duration": 12,
    "start_time": "2025-08-30T14:30:51.607Z"
   },
   {
    "duration": 3,
    "start_time": "2025-08-30T14:31:05.250Z"
   },
   {
    "duration": 5,
    "start_time": "2025-08-30T14:31:08.640Z"
   },
   {
    "duration": 73,
    "start_time": "2025-08-30T14:36:22.588Z"
   },
   {
    "duration": 376,
    "start_time": "2025-08-30T14:36:47.810Z"
   },
   {
    "duration": 372,
    "start_time": "2025-08-30T14:37:14.710Z"
   },
   {
    "duration": 12,
    "start_time": "2025-08-30T14:43:42.166Z"
   },
   {
    "duration": 384,
    "start_time": "2025-08-30T14:44:03.175Z"
   },
   {
    "duration": 1122,
    "start_time": "2025-08-30T14:50:03.519Z"
   },
   {
    "duration": 4,
    "start_time": "2025-08-30T14:50:04.644Z"
   },
   {
    "duration": 449,
    "start_time": "2025-08-30T14:50:04.650Z"
   },
   {
    "duration": 18,
    "start_time": "2025-08-30T14:50:05.100Z"
   },
   {
    "duration": 64,
    "start_time": "2025-08-30T14:50:05.120Z"
   },
   {
    "duration": 24,
    "start_time": "2025-08-30T14:50:05.186Z"
   },
   {
    "duration": 42,
    "start_time": "2025-08-30T14:50:05.213Z"
   },
   {
    "duration": 15,
    "start_time": "2025-08-30T14:50:05.257Z"
   },
   {
    "duration": 17,
    "start_time": "2025-08-30T14:50:05.274Z"
   },
   {
    "duration": 41,
    "start_time": "2025-08-30T14:50:05.293Z"
   },
   {
    "duration": 144,
    "start_time": "2025-08-30T14:50:05.336Z"
   },
   {
    "duration": 56,
    "start_time": "2025-08-30T14:50:05.482Z"
   },
   {
    "duration": 10,
    "start_time": "2025-08-30T14:50:05.539Z"
   },
   {
    "duration": 36,
    "start_time": "2025-08-30T14:50:05.552Z"
   },
   {
    "duration": 18,
    "start_time": "2025-08-30T14:50:05.590Z"
   },
   {
    "duration": 163,
    "start_time": "2025-08-30T14:50:05.609Z"
   },
   {
    "duration": 13,
    "start_time": "2025-08-30T14:50:05.774Z"
   },
   {
    "duration": 152,
    "start_time": "2025-08-30T14:50:05.788Z"
   },
   {
    "duration": 46,
    "start_time": "2025-08-30T14:50:05.941Z"
   },
   {
    "duration": 9,
    "start_time": "2025-08-30T14:50:05.989Z"
   },
   {
    "duration": 95,
    "start_time": "2025-08-30T14:50:06.000Z"
   },
   {
    "duration": 139,
    "start_time": "2025-08-30T14:50:06.098Z"
   },
   {
    "duration": 29,
    "start_time": "2025-08-30T14:50:06.239Z"
   },
   {
    "duration": 19,
    "start_time": "2025-08-30T14:50:06.270Z"
   },
   {
    "duration": 17,
    "start_time": "2025-08-30T14:50:06.291Z"
   },
   {
    "duration": 47,
    "start_time": "2025-08-30T14:50:06.310Z"
   },
   {
    "duration": 40,
    "start_time": "2025-08-30T14:50:06.359Z"
   },
   {
    "duration": 95,
    "start_time": "2025-08-30T14:50:06.402Z"
   },
   {
    "duration": 0,
    "start_time": "2025-08-30T14:50:06.499Z"
   },
   {
    "duration": 0,
    "start_time": "2025-08-30T14:50:06.501Z"
   },
   {
    "duration": 0,
    "start_time": "2025-08-30T14:50:06.502Z"
   },
   {
    "duration": 0,
    "start_time": "2025-08-30T14:50:06.503Z"
   },
   {
    "duration": 0,
    "start_time": "2025-08-30T14:50:06.504Z"
   },
   {
    "duration": 3,
    "start_time": "2025-08-30T14:50:29.188Z"
   },
   {
    "duration": 5,
    "start_time": "2025-08-30T14:50:40.306Z"
   },
   {
    "duration": 79,
    "start_time": "2025-08-30T14:56:35.133Z"
   },
   {
    "duration": 3,
    "start_time": "2025-08-30T14:56:40.347Z"
   },
   {
    "duration": 99,
    "start_time": "2025-08-30T14:59:51.424Z"
   },
   {
    "duration": 10,
    "start_time": "2025-08-30T15:00:16.817Z"
   },
   {
    "duration": 4,
    "start_time": "2025-08-30T15:01:28.291Z"
   },
   {
    "duration": 6,
    "start_time": "2025-08-30T15:02:05.451Z"
   },
   {
    "duration": 17,
    "start_time": "2025-08-30T15:03:53.541Z"
   },
   {
    "duration": 464,
    "start_time": "2025-08-30T15:04:03.941Z"
   },
   {
    "duration": 458,
    "start_time": "2025-08-30T15:06:02.770Z"
   },
   {
    "duration": 450,
    "start_time": "2025-08-30T15:06:25.726Z"
   },
   {
    "duration": 464,
    "start_time": "2025-08-30T15:06:36.530Z"
   },
   {
    "duration": 437,
    "start_time": "2025-08-30T15:07:05.814Z"
   },
   {
    "duration": 438,
    "start_time": "2025-08-30T15:07:07.562Z"
   },
   {
    "duration": 19,
    "start_time": "2025-08-30T15:10:21.434Z"
   },
   {
    "duration": 11,
    "start_time": "2025-08-30T15:10:27.965Z"
   },
   {
    "duration": 457,
    "start_time": "2025-08-30T15:12:31.236Z"
   },
   {
    "duration": 438,
    "start_time": "2025-08-30T15:13:35.902Z"
   },
   {
    "duration": 437,
    "start_time": "2025-08-30T15:14:44.642Z"
   },
   {
    "duration": 452,
    "start_time": "2025-08-30T15:14:54.536Z"
   },
   {
    "duration": 435,
    "start_time": "2025-08-30T15:15:33.707Z"
   },
   {
    "duration": 4,
    "start_time": "2025-08-30T15:17:28.109Z"
   },
   {
    "duration": 5,
    "start_time": "2025-08-30T15:17:32.283Z"
   },
   {
    "duration": 429,
    "start_time": "2025-08-30T15:17:39.342Z"
   },
   {
    "duration": 423,
    "start_time": "2025-08-30T15:17:41.439Z"
   },
   {
    "duration": 449,
    "start_time": "2025-08-30T15:17:43.210Z"
   },
   {
    "duration": 451,
    "start_time": "2025-08-30T15:19:26.269Z"
   },
   {
    "duration": 1160,
    "start_time": "2025-09-02T15:13:59.290Z"
   },
   {
    "duration": 3,
    "start_time": "2025-09-02T15:14:00.452Z"
   },
   {
    "duration": 593,
    "start_time": "2025-09-02T15:14:00.457Z"
   },
   {
    "duration": 16,
    "start_time": "2025-09-02T15:14:01.052Z"
   },
   {
    "duration": 21,
    "start_time": "2025-09-02T15:14:01.069Z"
   },
   {
    "duration": 21,
    "start_time": "2025-09-02T15:14:01.092Z"
   },
   {
    "duration": 25,
    "start_time": "2025-09-02T15:14:01.115Z"
   },
   {
    "duration": 17,
    "start_time": "2025-09-02T15:14:01.142Z"
   },
   {
    "duration": 16,
    "start_time": "2025-09-02T15:14:01.161Z"
   },
   {
    "duration": 35,
    "start_time": "2025-09-02T15:14:01.189Z"
   },
   {
    "duration": 141,
    "start_time": "2025-09-02T15:14:01.226Z"
   },
   {
    "duration": 42,
    "start_time": "2025-09-02T15:14:01.369Z"
   },
   {
    "duration": 10,
    "start_time": "2025-09-02T15:14:01.413Z"
   },
   {
    "duration": 42,
    "start_time": "2025-09-02T15:14:01.424Z"
   },
   {
    "duration": 17,
    "start_time": "2025-09-02T15:14:01.468Z"
   },
   {
    "duration": 51,
    "start_time": "2025-09-02T15:14:01.487Z"
   },
   {
    "duration": 13,
    "start_time": "2025-09-02T15:14:01.540Z"
   },
   {
    "duration": 14,
    "start_time": "2025-09-02T15:14:01.555Z"
   },
   {
    "duration": 48,
    "start_time": "2025-09-02T15:14:01.570Z"
   },
   {
    "duration": 8,
    "start_time": "2025-09-02T15:14:01.621Z"
   },
   {
    "duration": 60,
    "start_time": "2025-09-02T15:14:01.631Z"
   },
   {
    "duration": 96,
    "start_time": "2025-09-02T15:14:01.693Z"
   },
   {
    "duration": 84,
    "start_time": "2025-09-02T15:14:01.792Z"
   },
   {
    "duration": 24,
    "start_time": "2025-09-02T15:14:01.878Z"
   },
   {
    "duration": 15,
    "start_time": "2025-09-02T15:14:01.903Z"
   },
   {
    "duration": 36,
    "start_time": "2025-09-02T15:14:01.920Z"
   },
   {
    "duration": 15,
    "start_time": "2025-09-02T15:14:01.958Z"
   },
   {
    "duration": 111,
    "start_time": "2025-09-02T15:14:01.977Z"
   },
   {
    "duration": 0,
    "start_time": "2025-09-02T15:14:02.090Z"
   },
   {
    "duration": 0,
    "start_time": "2025-09-02T15:14:02.091Z"
   },
   {
    "duration": 0,
    "start_time": "2025-09-02T15:14:02.093Z"
   },
   {
    "duration": 0,
    "start_time": "2025-09-02T15:14:02.094Z"
   },
   {
    "duration": 0,
    "start_time": "2025-09-02T15:14:02.096Z"
   },
   {
    "duration": 0,
    "start_time": "2025-09-02T15:14:02.097Z"
   },
   {
    "duration": 4,
    "start_time": "2025-09-02T15:14:15.119Z"
   },
   {
    "duration": 101,
    "start_time": "2025-09-02T15:14:15.944Z"
   },
   {
    "duration": 8,
    "start_time": "2025-09-02T15:14:43.256Z"
   },
   {
    "duration": 10,
    "start_time": "2025-09-02T15:15:12.744Z"
   },
   {
    "duration": 7,
    "start_time": "2025-09-02T15:18:20.135Z"
   },
   {
    "duration": 5,
    "start_time": "2025-09-02T15:18:28.939Z"
   },
   {
    "duration": 10,
    "start_time": "2025-09-02T15:18:48.527Z"
   },
   {
    "duration": 5,
    "start_time": "2025-09-02T15:24:12.381Z"
   },
   {
    "duration": 6,
    "start_time": "2025-09-02T15:25:48.847Z"
   },
   {
    "duration": 6,
    "start_time": "2025-09-02T15:25:56.622Z"
   },
   {
    "duration": 4,
    "start_time": "2025-09-02T15:28:32.892Z"
   },
   {
    "duration": 3,
    "start_time": "2025-09-02T15:29:58.214Z"
   },
   {
    "duration": 9,
    "start_time": "2025-09-02T15:30:08.543Z"
   },
   {
    "duration": 8,
    "start_time": "2025-09-02T15:30:43.133Z"
   },
   {
    "duration": 3,
    "start_time": "2025-09-02T15:30:51.349Z"
   },
   {
    "duration": 9,
    "start_time": "2025-09-02T15:31:05.223Z"
   },
   {
    "duration": 1172,
    "start_time": "2025-09-02T15:34:14.053Z"
   },
   {
    "duration": 2,
    "start_time": "2025-09-02T15:34:15.227Z"
   },
   {
    "duration": 467,
    "start_time": "2025-09-02T15:34:15.231Z"
   },
   {
    "duration": 16,
    "start_time": "2025-09-02T15:34:15.700Z"
   },
   {
    "duration": 10,
    "start_time": "2025-09-02T15:34:15.718Z"
   },
   {
    "duration": 17,
    "start_time": "2025-09-02T15:34:15.729Z"
   },
   {
    "duration": 20,
    "start_time": "2025-09-02T15:34:15.748Z"
   },
   {
    "duration": 31,
    "start_time": "2025-09-02T15:34:15.770Z"
   },
   {
    "duration": 23,
    "start_time": "2025-09-02T15:34:15.802Z"
   },
   {
    "duration": 144,
    "start_time": "2025-09-02T15:34:15.827Z"
   },
   {
    "duration": 146,
    "start_time": "2025-09-02T15:34:15.972Z"
   },
   {
    "duration": 34,
    "start_time": "2025-09-02T15:34:16.119Z"
   },
   {
    "duration": 9,
    "start_time": "2025-09-02T15:34:16.155Z"
   },
   {
    "duration": 26,
    "start_time": "2025-09-02T15:34:16.166Z"
   },
   {
    "duration": 11,
    "start_time": "2025-09-02T15:34:16.193Z"
   },
   {
    "duration": 48,
    "start_time": "2025-09-02T15:34:16.206Z"
   },
   {
    "duration": 48,
    "start_time": "2025-09-02T15:34:16.256Z"
   },
   {
    "duration": 5,
    "start_time": "2025-09-02T15:34:16.306Z"
   },
   {
    "duration": 27,
    "start_time": "2025-09-02T15:34:16.313Z"
   },
   {
    "duration": 7,
    "start_time": "2025-09-02T15:34:16.341Z"
   },
   {
    "duration": 45,
    "start_time": "2025-09-02T15:34:16.349Z"
   },
   {
    "duration": 95,
    "start_time": "2025-09-02T15:34:16.397Z"
   },
   {
    "duration": 122,
    "start_time": "2025-09-02T15:34:16.495Z"
   },
   {
    "duration": 78,
    "start_time": "2025-09-02T15:34:16.619Z"
   },
   {
    "duration": 16,
    "start_time": "2025-09-02T15:34:16.699Z"
   },
   {
    "duration": 6,
    "start_time": "2025-09-02T15:34:16.717Z"
   },
   {
    "duration": 10,
    "start_time": "2025-09-02T15:34:16.724Z"
   },
   {
    "duration": 3,
    "start_time": "2025-09-02T15:34:16.738Z"
   },
   {
    "duration": 108,
    "start_time": "2025-09-02T15:34:16.743Z"
   },
   {
    "duration": 0,
    "start_time": "2025-09-02T15:34:16.853Z"
   },
   {
    "duration": 0,
    "start_time": "2025-09-02T15:34:16.854Z"
   },
   {
    "duration": 0,
    "start_time": "2025-09-02T15:34:16.855Z"
   },
   {
    "duration": 0,
    "start_time": "2025-09-02T15:34:16.857Z"
   },
   {
    "duration": 0,
    "start_time": "2025-09-02T15:34:16.858Z"
   },
   {
    "duration": 0,
    "start_time": "2025-09-02T15:34:16.859Z"
   },
   {
    "duration": 0,
    "start_time": "2025-09-02T15:34:16.860Z"
   },
   {
    "duration": 1133,
    "start_time": "2025-09-02T15:34:44.630Z"
   },
   {
    "duration": 4,
    "start_time": "2025-09-02T15:34:45.765Z"
   },
   {
    "duration": 523,
    "start_time": "2025-09-02T15:34:45.770Z"
   },
   {
    "duration": 21,
    "start_time": "2025-09-02T15:34:46.295Z"
   },
   {
    "duration": 10,
    "start_time": "2025-09-02T15:34:46.318Z"
   },
   {
    "duration": 55,
    "start_time": "2025-09-02T15:34:46.330Z"
   },
   {
    "duration": 154,
    "start_time": "2025-09-02T15:34:46.387Z"
   },
   {
    "duration": 16,
    "start_time": "2025-09-02T15:34:46.543Z"
   },
   {
    "duration": 14,
    "start_time": "2025-09-02T15:34:46.561Z"
   },
   {
    "duration": 42,
    "start_time": "2025-09-02T15:34:46.577Z"
   },
   {
    "duration": 156,
    "start_time": "2025-09-02T15:34:46.621Z"
   },
   {
    "duration": 45,
    "start_time": "2025-09-02T15:34:46.779Z"
   },
   {
    "duration": 20,
    "start_time": "2025-09-02T15:34:46.826Z"
   },
   {
    "duration": 54,
    "start_time": "2025-09-02T15:34:46.849Z"
   },
   {
    "duration": 15,
    "start_time": "2025-09-02T15:34:46.905Z"
   },
   {
    "duration": 56,
    "start_time": "2025-09-02T15:34:46.921Z"
   },
   {
    "duration": 16,
    "start_time": "2025-09-02T15:34:46.979Z"
   },
   {
    "duration": 9,
    "start_time": "2025-09-02T15:34:46.998Z"
   },
   {
    "duration": 28,
    "start_time": "2025-09-02T15:34:47.009Z"
   },
   {
    "duration": 7,
    "start_time": "2025-09-02T15:34:47.039Z"
   },
   {
    "duration": 50,
    "start_time": "2025-09-02T15:34:47.048Z"
   },
   {
    "duration": 94,
    "start_time": "2025-09-02T15:34:47.100Z"
   },
   {
    "duration": 101,
    "start_time": "2025-09-02T15:34:47.197Z"
   },
   {
    "duration": 10,
    "start_time": "2025-09-02T15:34:47.301Z"
   },
   {
    "duration": 15,
    "start_time": "2025-09-02T15:34:47.313Z"
   },
   {
    "duration": 11,
    "start_time": "2025-09-02T15:34:47.330Z"
   },
   {
    "duration": 24,
    "start_time": "2025-09-02T15:34:47.343Z"
   },
   {
    "duration": 10,
    "start_time": "2025-09-02T15:34:47.369Z"
   },
   {
    "duration": 120,
    "start_time": "2025-09-02T15:34:47.381Z"
   },
   {
    "duration": 1,
    "start_time": "2025-09-02T15:34:47.503Z"
   },
   {
    "duration": 0,
    "start_time": "2025-09-02T15:34:47.505Z"
   },
   {
    "duration": 0,
    "start_time": "2025-09-02T15:34:47.507Z"
   },
   {
    "duration": 0,
    "start_time": "2025-09-02T15:34:47.509Z"
   },
   {
    "duration": 0,
    "start_time": "2025-09-02T15:34:47.510Z"
   },
   {
    "duration": 0,
    "start_time": "2025-09-02T15:34:47.511Z"
   },
   {
    "duration": 0,
    "start_time": "2025-09-02T15:34:47.513Z"
   },
   {
    "duration": 3,
    "start_time": "2025-09-02T15:34:59.990Z"
   },
   {
    "duration": 2,
    "start_time": "2025-09-02T15:35:00.369Z"
   },
   {
    "duration": 7,
    "start_time": "2025-09-02T15:35:00.799Z"
   },
   {
    "duration": 7,
    "start_time": "2025-09-02T15:35:14.643Z"
   },
   {
    "duration": 7,
    "start_time": "2025-09-02T15:35:27.591Z"
   },
   {
    "duration": 10,
    "start_time": "2025-09-02T15:36:05.891Z"
   },
   {
    "duration": 16,
    "start_time": "2025-09-02T15:36:26.962Z"
   },
   {
    "duration": 8,
    "start_time": "2025-09-02T15:39:44.184Z"
   },
   {
    "duration": 12,
    "start_time": "2025-09-02T15:39:55.341Z"
   },
   {
    "duration": 11,
    "start_time": "2025-09-02T15:40:10.543Z"
   },
   {
    "duration": 6,
    "start_time": "2025-09-02T15:40:15.959Z"
   },
   {
    "duration": 10,
    "start_time": "2025-09-02T15:42:12.464Z"
   },
   {
    "duration": 3,
    "start_time": "2025-09-02T15:43:15.686Z"
   },
   {
    "duration": 9,
    "start_time": "2025-09-02T15:43:22.565Z"
   },
   {
    "duration": 4,
    "start_time": "2025-09-02T15:43:39.977Z"
   },
   {
    "duration": 14,
    "start_time": "2025-09-02T15:43:43.433Z"
   },
   {
    "duration": 1185,
    "start_time": "2025-09-02T15:44:11.016Z"
   },
   {
    "duration": 2,
    "start_time": "2025-09-02T15:44:12.203Z"
   },
   {
    "duration": 436,
    "start_time": "2025-09-02T15:44:12.207Z"
   },
   {
    "duration": 17,
    "start_time": "2025-09-02T15:44:12.645Z"
   },
   {
    "duration": 99,
    "start_time": "2025-09-02T15:44:12.663Z"
   },
   {
    "duration": 10,
    "start_time": "2025-09-02T15:44:12.764Z"
   },
   {
    "duration": 18,
    "start_time": "2025-09-02T15:44:12.776Z"
   },
   {
    "duration": 15,
    "start_time": "2025-09-02T15:44:12.795Z"
   },
   {
    "duration": 14,
    "start_time": "2025-09-02T15:44:12.812Z"
   },
   {
    "duration": 23,
    "start_time": "2025-09-02T15:44:12.829Z"
   },
   {
    "duration": 153,
    "start_time": "2025-09-02T15:44:12.853Z"
   },
   {
    "duration": 35,
    "start_time": "2025-09-02T15:44:13.008Z"
   },
   {
    "duration": 9,
    "start_time": "2025-09-02T15:44:13.045Z"
   },
   {
    "duration": 11,
    "start_time": "2025-09-02T15:44:13.055Z"
   },
   {
    "duration": 10,
    "start_time": "2025-09-02T15:44:13.090Z"
   },
   {
    "duration": 47,
    "start_time": "2025-09-02T15:44:13.102Z"
   },
   {
    "duration": 13,
    "start_time": "2025-09-02T15:44:13.151Z"
   },
   {
    "duration": 26,
    "start_time": "2025-09-02T15:44:13.165Z"
   },
   {
    "duration": 26,
    "start_time": "2025-09-02T15:44:13.194Z"
   },
   {
    "duration": 7,
    "start_time": "2025-09-02T15:44:13.221Z"
   },
   {
    "duration": 68,
    "start_time": "2025-09-02T15:44:13.230Z"
   },
   {
    "duration": 102,
    "start_time": "2025-09-02T15:44:13.300Z"
   },
   {
    "duration": 87,
    "start_time": "2025-09-02T15:44:13.404Z"
   },
   {
    "duration": 16,
    "start_time": "2025-09-02T15:44:13.493Z"
   },
   {
    "duration": 24,
    "start_time": "2025-09-02T15:44:13.511Z"
   },
   {
    "duration": 93,
    "start_time": "2025-09-02T15:44:13.537Z"
   },
   {
    "duration": 20,
    "start_time": "2025-09-02T15:44:13.632Z"
   },
   {
    "duration": 14,
    "start_time": "2025-09-02T15:44:13.657Z"
   },
   {
    "duration": 18,
    "start_time": "2025-09-02T15:44:13.672Z"
   },
   {
    "duration": 5,
    "start_time": "2025-09-02T15:44:13.692Z"
   },
   {
    "duration": 8,
    "start_time": "2025-09-02T15:44:13.699Z"
   },
   {
    "duration": 13,
    "start_time": "2025-09-02T15:44:13.709Z"
   },
   {
    "duration": 14,
    "start_time": "2025-09-02T15:44:13.724Z"
   },
   {
    "duration": 13,
    "start_time": "2025-09-02T15:44:13.740Z"
   },
   {
    "duration": 125,
    "start_time": "2025-09-02T15:44:13.755Z"
   },
   {
    "duration": 0,
    "start_time": "2025-09-02T15:44:13.882Z"
   },
   {
    "duration": 0,
    "start_time": "2025-09-02T15:44:13.884Z"
   },
   {
    "duration": 0,
    "start_time": "2025-09-02T15:44:13.890Z"
   },
   {
    "duration": 7,
    "start_time": "2025-09-02T15:45:37.013Z"
   },
   {
    "duration": 7,
    "start_time": "2025-09-02T15:45:51.904Z"
   },
   {
    "duration": 14,
    "start_time": "2025-09-02T15:47:27.715Z"
   },
   {
    "duration": 3,
    "start_time": "2025-09-02T15:48:13.017Z"
   },
   {
    "duration": 17,
    "start_time": "2025-09-02T15:48:16.446Z"
   },
   {
    "duration": 1105,
    "start_time": "2025-09-02T15:50:23.826Z"
   },
   {
    "duration": 3,
    "start_time": "2025-09-02T15:50:24.933Z"
   },
   {
    "duration": 469,
    "start_time": "2025-09-02T15:50:24.937Z"
   },
   {
    "duration": 15,
    "start_time": "2025-09-02T15:50:25.408Z"
   },
   {
    "duration": 14,
    "start_time": "2025-09-02T15:50:25.425Z"
   },
   {
    "duration": 12,
    "start_time": "2025-09-02T15:50:25.441Z"
   },
   {
    "duration": 18,
    "start_time": "2025-09-02T15:50:25.454Z"
   },
   {
    "duration": 40,
    "start_time": "2025-09-02T15:50:25.474Z"
   },
   {
    "duration": 15,
    "start_time": "2025-09-02T15:50:25.516Z"
   },
   {
    "duration": 29,
    "start_time": "2025-09-02T15:50:25.532Z"
   },
   {
    "duration": 154,
    "start_time": "2025-09-02T15:50:25.563Z"
   },
   {
    "duration": 38,
    "start_time": "2025-09-02T15:50:25.718Z"
   },
   {
    "duration": 10,
    "start_time": "2025-09-02T15:50:25.757Z"
   },
   {
    "duration": 23,
    "start_time": "2025-09-02T15:50:25.770Z"
   },
   {
    "duration": 16,
    "start_time": "2025-09-02T15:50:25.796Z"
   },
   {
    "duration": 51,
    "start_time": "2025-09-02T15:50:25.813Z"
   },
   {
    "duration": 44,
    "start_time": "2025-09-02T15:50:25.866Z"
   },
   {
    "duration": 21,
    "start_time": "2025-09-02T15:50:25.912Z"
   },
   {
    "duration": 28,
    "start_time": "2025-09-02T15:50:25.935Z"
   },
   {
    "duration": 7,
    "start_time": "2025-09-02T15:50:25.965Z"
   },
   {
    "duration": 94,
    "start_time": "2025-09-02T15:50:25.974Z"
   },
   {
    "duration": 35,
    "start_time": "2025-09-02T15:50:26.072Z"
   },
   {
    "duration": 87,
    "start_time": "2025-09-02T15:50:26.117Z"
   },
   {
    "duration": 44,
    "start_time": "2025-09-02T15:50:26.206Z"
   },
   {
    "duration": 25,
    "start_time": "2025-09-02T15:50:26.252Z"
   },
   {
    "duration": 82,
    "start_time": "2025-09-02T15:50:26.279Z"
   },
   {
    "duration": 26,
    "start_time": "2025-09-02T15:50:26.363Z"
   },
   {
    "duration": 7,
    "start_time": "2025-09-02T15:50:26.396Z"
   },
   {
    "duration": 7,
    "start_time": "2025-09-02T15:50:26.405Z"
   },
   {
    "duration": 23,
    "start_time": "2025-09-02T15:50:26.413Z"
   },
   {
    "duration": 122,
    "start_time": "2025-09-02T15:50:26.438Z"
   },
   {
    "duration": 11,
    "start_time": "2025-09-02T15:50:26.561Z"
   },
   {
    "duration": 8,
    "start_time": "2025-09-02T15:50:26.574Z"
   },
   {
    "duration": 4,
    "start_time": "2025-09-02T15:50:26.584Z"
   },
   {
    "duration": 16,
    "start_time": "2025-09-02T15:50:26.591Z"
   },
   {
    "duration": 119,
    "start_time": "2025-09-02T15:50:26.608Z"
   },
   {
    "duration": 0,
    "start_time": "2025-09-02T15:50:26.729Z"
   },
   {
    "duration": 0,
    "start_time": "2025-09-02T15:50:26.730Z"
   },
   {
    "duration": 11,
    "start_time": "2025-09-02T15:51:10.846Z"
   },
   {
    "duration": 11,
    "start_time": "2025-09-02T15:51:22.790Z"
   },
   {
    "duration": 7,
    "start_time": "2025-09-02T15:51:23.580Z"
   },
   {
    "duration": 85,
    "start_time": "2025-09-02T15:53:28.253Z"
   },
   {
    "duration": 7,
    "start_time": "2025-09-02T15:53:41.175Z"
   },
   {
    "duration": 6,
    "start_time": "2025-09-02T15:54:13.242Z"
   },
   {
    "duration": 5,
    "start_time": "2025-09-02T15:54:43.977Z"
   },
   {
    "duration": 94,
    "start_time": "2025-09-02T15:55:42.521Z"
   },
   {
    "duration": 2592,
    "start_time": "2025-09-02T16:09:55.817Z"
   },
   {
    "duration": 2416,
    "start_time": "2025-09-02T16:10:34.078Z"
   },
   {
    "duration": 517,
    "start_time": "2025-09-02T16:10:50.680Z"
   },
   {
    "duration": 10,
    "start_time": "2025-09-02T16:11:03.068Z"
   },
   {
    "duration": 9,
    "start_time": "2025-09-02T16:11:06.729Z"
   },
   {
    "duration": 9,
    "start_time": "2025-09-02T16:11:15.359Z"
   },
   {
    "duration": 8,
    "start_time": "2025-09-02T16:11:24.812Z"
   },
   {
    "duration": 4,
    "start_time": "2025-09-02T16:12:02.143Z"
   },
   {
    "duration": 12,
    "start_time": "2025-09-02T16:13:10.816Z"
   },
   {
    "duration": 9,
    "start_time": "2025-09-02T16:13:20.182Z"
   },
   {
    "duration": 2214,
    "start_time": "2025-09-02T16:15:48.284Z"
   },
   {
    "duration": 11,
    "start_time": "2025-09-02T16:15:52.656Z"
   },
   {
    "duration": 9,
    "start_time": "2025-09-02T16:15:54.268Z"
   },
   {
    "duration": 391,
    "start_time": "2025-09-02T16:16:45.075Z"
   },
   {
    "duration": 3,
    "start_time": "2025-09-02T16:17:07.481Z"
   },
   {
    "duration": 4,
    "start_time": "2025-09-02T16:17:14.946Z"
   },
   {
    "duration": 4,
    "start_time": "2025-09-02T16:17:22.949Z"
   },
   {
    "duration": 4,
    "start_time": "2025-09-02T16:17:24.590Z"
   },
   {
    "duration": 4,
    "start_time": "2025-09-02T16:17:35.490Z"
   },
   {
    "duration": 4,
    "start_time": "2025-09-02T16:17:43.835Z"
   },
   {
    "duration": 9,
    "start_time": "2025-09-02T16:17:49.013Z"
   },
   {
    "duration": 9,
    "start_time": "2025-09-02T16:17:57.028Z"
   },
   {
    "duration": 5,
    "start_time": "2025-09-02T16:18:23.727Z"
   },
   {
    "duration": 9,
    "start_time": "2025-09-02T16:18:26.736Z"
   },
   {
    "duration": 2174,
    "start_time": "2025-09-02T16:19:01.516Z"
   },
   {
    "duration": 9,
    "start_time": "2025-09-02T16:19:14.148Z"
   },
   {
    "duration": 2261,
    "start_time": "2025-09-02T16:21:37.362Z"
   },
   {
    "duration": 12,
    "start_time": "2025-09-02T16:23:06.834Z"
   },
   {
    "duration": 12,
    "start_time": "2025-09-02T16:23:11.042Z"
   },
   {
    "duration": 22,
    "start_time": "2025-09-02T16:23:22.332Z"
   },
   {
    "duration": 22,
    "start_time": "2025-09-02T16:23:31.944Z"
   },
   {
    "duration": 19,
    "start_time": "2025-09-02T16:23:37.250Z"
   },
   {
    "duration": 2178,
    "start_time": "2025-09-02T16:23:43.356Z"
   },
   {
    "duration": 2225,
    "start_time": "2025-09-02T16:24:02.149Z"
   },
   {
    "duration": 22,
    "start_time": "2025-09-02T16:25:02.082Z"
   },
   {
    "duration": 2168,
    "start_time": "2025-09-02T16:25:09.232Z"
   },
   {
    "duration": 6098,
    "start_time": "2025-09-03T07:00:12.946Z"
   },
   {
    "duration": 3,
    "start_time": "2025-09-03T07:00:19.045Z"
   },
   {
    "duration": 408,
    "start_time": "2025-09-03T07:00:19.049Z"
   },
   {
    "duration": 15,
    "start_time": "2025-09-03T07:00:19.459Z"
   },
   {
    "duration": 9,
    "start_time": "2025-09-03T07:00:19.476Z"
   },
   {
    "duration": 12,
    "start_time": "2025-09-03T07:00:19.486Z"
   },
   {
    "duration": 44,
    "start_time": "2025-09-03T07:00:19.500Z"
   },
   {
    "duration": 21,
    "start_time": "2025-09-03T07:00:19.545Z"
   },
   {
    "duration": 21,
    "start_time": "2025-09-03T07:00:19.568Z"
   },
   {
    "duration": 20,
    "start_time": "2025-09-03T07:00:19.591Z"
   },
   {
    "duration": 162,
    "start_time": "2025-09-03T07:00:19.613Z"
   },
   {
    "duration": 34,
    "start_time": "2025-09-03T07:00:19.777Z"
   },
   {
    "duration": 10,
    "start_time": "2025-09-03T07:00:19.812Z"
   },
   {
    "duration": 13,
    "start_time": "2025-09-03T07:00:19.842Z"
   },
   {
    "duration": 13,
    "start_time": "2025-09-03T07:00:19.857Z"
   },
   {
    "duration": 70,
    "start_time": "2025-09-03T07:00:19.871Z"
   },
   {
    "duration": 16,
    "start_time": "2025-09-03T07:00:19.942Z"
   },
   {
    "duration": 6,
    "start_time": "2025-09-03T07:00:19.959Z"
   },
   {
    "duration": 65,
    "start_time": "2025-09-03T07:00:19.966Z"
   },
   {
    "duration": 7,
    "start_time": "2025-09-03T07:00:20.032Z"
   },
   {
    "duration": 107,
    "start_time": "2025-09-03T07:00:20.040Z"
   },
   {
    "duration": 99,
    "start_time": "2025-09-03T07:00:20.149Z"
   },
   {
    "duration": 24,
    "start_time": "2025-09-03T07:00:20.340Z"
   },
   {
    "duration": 16,
    "start_time": "2025-09-03T07:00:20.366Z"
   },
   {
    "duration": 9,
    "start_time": "2025-09-03T07:00:20.383Z"
   },
   {
    "duration": 3,
    "start_time": "2025-09-03T07:00:20.394Z"
   },
   {
    "duration": 14,
    "start_time": "2025-09-03T07:00:20.398Z"
   },
   {
    "duration": 3,
    "start_time": "2025-09-03T07:00:20.413Z"
   },
   {
    "duration": 4,
    "start_time": "2025-09-03T07:00:20.418Z"
   },
   {
    "duration": 6,
    "start_time": "2025-09-03T07:00:20.424Z"
   },
   {
    "duration": 9,
    "start_time": "2025-09-03T07:00:20.432Z"
   },
   {
    "duration": 9,
    "start_time": "2025-09-03T07:00:20.442Z"
   },
   {
    "duration": 8,
    "start_time": "2025-09-03T07:00:20.453Z"
   },
   {
    "duration": 8,
    "start_time": "2025-09-03T07:00:20.462Z"
   },
   {
    "duration": 10,
    "start_time": "2025-09-03T07:00:20.471Z"
   },
   {
    "duration": 6,
    "start_time": "2025-09-03T07:00:20.483Z"
   },
   {
    "duration": 8,
    "start_time": "2025-09-03T07:00:20.490Z"
   },
   {
    "duration": 4,
    "start_time": "2025-09-03T07:00:20.499Z"
   },
   {
    "duration": 122,
    "start_time": "2025-09-03T07:00:20.505Z"
   },
   {
    "duration": 0,
    "start_time": "2025-09-03T07:00:20.629Z"
   },
   {
    "duration": 0,
    "start_time": "2025-09-03T07:00:20.630Z"
   },
   {
    "duration": 2230,
    "start_time": "2025-09-03T07:01:21.195Z"
   },
   {
    "duration": 1165,
    "start_time": "2025-09-03T09:45:32.713Z"
   },
   {
    "duration": 4,
    "start_time": "2025-09-03T09:45:33.885Z"
   },
   {
    "duration": 498,
    "start_time": "2025-09-03T09:45:33.890Z"
   },
   {
    "duration": 17,
    "start_time": "2025-09-03T09:45:34.390Z"
   },
   {
    "duration": 24,
    "start_time": "2025-09-03T09:45:34.409Z"
   },
   {
    "duration": 49,
    "start_time": "2025-09-03T09:45:34.435Z"
   },
   {
    "duration": 42,
    "start_time": "2025-09-03T09:45:34.486Z"
   },
   {
    "duration": 15,
    "start_time": "2025-09-03T09:45:34.530Z"
   },
   {
    "duration": 21,
    "start_time": "2025-09-03T09:45:34.547Z"
   },
   {
    "duration": 33,
    "start_time": "2025-09-03T09:45:34.571Z"
   },
   {
    "duration": 158,
    "start_time": "2025-09-03T09:45:34.606Z"
   },
   {
    "duration": 47,
    "start_time": "2025-09-03T09:45:34.766Z"
   },
   {
    "duration": 10,
    "start_time": "2025-09-03T09:45:34.815Z"
   },
   {
    "duration": 20,
    "start_time": "2025-09-03T09:45:34.827Z"
   },
   {
    "duration": 42,
    "start_time": "2025-09-03T09:45:34.849Z"
   },
   {
    "duration": 53,
    "start_time": "2025-09-03T09:45:34.896Z"
   },
   {
    "duration": 12,
    "start_time": "2025-09-03T09:45:34.951Z"
   },
   {
    "duration": 23,
    "start_time": "2025-09-03T09:45:34.964Z"
   },
   {
    "duration": 36,
    "start_time": "2025-09-03T09:45:34.989Z"
   },
   {
    "duration": 8,
    "start_time": "2025-09-03T09:45:35.027Z"
   },
   {
    "duration": 142,
    "start_time": "2025-09-03T09:45:35.037Z"
   },
   {
    "duration": 7,
    "start_time": "2025-09-03T09:45:35.181Z"
   },
   {
    "duration": 85,
    "start_time": "2025-09-03T09:45:35.190Z"
   },
   {
    "duration": 6,
    "start_time": "2025-09-03T09:45:35.280Z"
   },
   {
    "duration": 21,
    "start_time": "2025-09-03T09:45:35.287Z"
   },
   {
    "duration": 33,
    "start_time": "2025-09-03T09:45:35.309Z"
   },
   {
    "duration": 26,
    "start_time": "2025-09-03T09:45:35.343Z"
   },
   {
    "duration": 12,
    "start_time": "2025-09-03T09:45:35.374Z"
   },
   {
    "duration": 60,
    "start_time": "2025-09-03T09:45:35.388Z"
   },
   {
    "duration": 18,
    "start_time": "2025-09-03T09:45:35.449Z"
   },
   {
    "duration": 57,
    "start_time": "2025-09-03T09:45:35.469Z"
   },
   {
    "duration": 12,
    "start_time": "2025-09-03T09:45:35.528Z"
   },
   {
    "duration": 18,
    "start_time": "2025-09-03T09:45:35.542Z"
   },
   {
    "duration": 8,
    "start_time": "2025-09-03T09:45:35.561Z"
   },
   {
    "duration": 19,
    "start_time": "2025-09-03T09:45:35.573Z"
   },
   {
    "duration": 8,
    "start_time": "2025-09-03T09:45:35.594Z"
   },
   {
    "duration": 9,
    "start_time": "2025-09-03T09:45:35.603Z"
   },
   {
    "duration": 5,
    "start_time": "2025-09-03T09:45:35.614Z"
   },
   {
    "duration": 2407,
    "start_time": "2025-09-03T09:45:35.621Z"
   },
   {
    "duration": 0,
    "start_time": "2025-09-03T09:45:38.030Z"
   },
   {
    "duration": 0,
    "start_time": "2025-09-03T09:45:38.031Z"
   },
   {
    "duration": 2252,
    "start_time": "2025-09-03T09:45:46.497Z"
   },
   {
    "duration": 2171,
    "start_time": "2025-09-03T09:45:58.677Z"
   },
   {
    "duration": 2291,
    "start_time": "2025-09-03T09:46:07.811Z"
   },
   {
    "duration": 2376,
    "start_time": "2025-09-03T09:46:16.337Z"
   },
   {
    "duration": 1081,
    "start_time": "2025-09-03T09:46:52.419Z"
   },
   {
    "duration": 4,
    "start_time": "2025-09-03T09:46:53.501Z"
   },
   {
    "duration": 423,
    "start_time": "2025-09-03T09:46:53.506Z"
   },
   {
    "duration": 17,
    "start_time": "2025-09-03T09:46:53.931Z"
   },
   {
    "duration": 10,
    "start_time": "2025-09-03T09:46:53.950Z"
   },
   {
    "duration": 13,
    "start_time": "2025-09-03T09:46:53.979Z"
   },
   {
    "duration": 28,
    "start_time": "2025-09-03T09:46:53.994Z"
   },
   {
    "duration": 15,
    "start_time": "2025-09-03T09:46:54.024Z"
   },
   {
    "duration": 16,
    "start_time": "2025-09-03T09:46:54.041Z"
   },
   {
    "duration": 38,
    "start_time": "2025-09-03T09:46:54.059Z"
   },
   {
    "duration": 157,
    "start_time": "2025-09-03T09:46:54.099Z"
   },
   {
    "duration": 41,
    "start_time": "2025-09-03T09:46:54.257Z"
   },
   {
    "duration": 10,
    "start_time": "2025-09-03T09:46:54.300Z"
   },
   {
    "duration": 58,
    "start_time": "2025-09-03T09:46:54.311Z"
   },
   {
    "duration": 14,
    "start_time": "2025-09-03T09:46:54.371Z"
   },
   {
    "duration": 48,
    "start_time": "2025-09-03T09:46:54.387Z"
   },
   {
    "duration": 13,
    "start_time": "2025-09-03T09:46:54.436Z"
   },
   {
    "duration": 23,
    "start_time": "2025-09-03T09:46:54.451Z"
   },
   {
    "duration": 30,
    "start_time": "2025-09-03T09:46:54.479Z"
   },
   {
    "duration": 7,
    "start_time": "2025-09-03T09:46:54.511Z"
   },
   {
    "duration": 67,
    "start_time": "2025-09-03T09:46:54.520Z"
   },
   {
    "duration": 90,
    "start_time": "2025-09-03T09:46:54.590Z"
   },
   {
    "duration": 7,
    "start_time": "2025-09-03T09:46:54.683Z"
   },
   {
    "duration": 4,
    "start_time": "2025-09-03T09:46:54.773Z"
   },
   {
    "duration": 11,
    "start_time": "2025-09-03T09:46:54.779Z"
   },
   {
    "duration": 4,
    "start_time": "2025-09-03T09:46:54.791Z"
   },
   {
    "duration": 29,
    "start_time": "2025-09-03T09:46:54.796Z"
   },
   {
    "duration": 4,
    "start_time": "2025-09-03T09:46:54.828Z"
   },
   {
    "duration": 6,
    "start_time": "2025-09-03T09:46:54.834Z"
   },
   {
    "duration": 66,
    "start_time": "2025-09-03T09:46:54.842Z"
   },
   {
    "duration": 9,
    "start_time": "2025-09-03T09:46:54.910Z"
   },
   {
    "duration": 9,
    "start_time": "2025-09-03T09:46:54.921Z"
   },
   {
    "duration": 58,
    "start_time": "2025-09-03T09:46:54.932Z"
   },
   {
    "duration": 6,
    "start_time": "2025-09-03T09:46:54.992Z"
   },
   {
    "duration": 10,
    "start_time": "2025-09-03T09:46:54.999Z"
   },
   {
    "duration": 6,
    "start_time": "2025-09-03T09:46:55.011Z"
   },
   {
    "duration": 7,
    "start_time": "2025-09-03T09:46:55.018Z"
   },
   {
    "duration": 9,
    "start_time": "2025-09-03T09:46:55.026Z"
   },
   {
    "duration": 2354,
    "start_time": "2025-09-03T09:46:55.037Z"
   },
   {
    "duration": 2251,
    "start_time": "2025-09-03T09:46:57.392Z"
   },
   {
    "duration": 2352,
    "start_time": "2025-09-03T09:46:59.644Z"
   }
  ],
  "kernelspec": {
   "display_name": "Python 3 (ipykernel)",
   "language": "python",
   "name": "python3"
  },
  "language_info": {
   "codemirror_mode": {
    "name": "ipython",
    "version": 3
   },
   "file_extension": ".py",
   "mimetype": "text/x-python",
   "name": "python",
   "nbconvert_exporter": "python",
   "pygments_lexer": "ipython3",
   "version": "3.9.5"
  },
  "toc": {
   "base_numbering": 1,
   "nav_menu": {},
   "number_sections": true,
   "sideBar": true,
   "skip_h1_title": true,
   "title_cell": "Table of Contents",
   "title_sidebar": "Contents",
   "toc_cell": false,
   "toc_position": {},
   "toc_section_display": true,
   "toc_window_display": false
  }
 },
 "nbformat": 4,
 "nbformat_minor": 2
}
