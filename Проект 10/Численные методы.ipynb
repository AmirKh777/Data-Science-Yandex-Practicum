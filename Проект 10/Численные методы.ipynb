{
 "cells": [
  {
   "cell_type": "markdown",
   "metadata": {},
   "source": [
    "# Определение стоимости автомобилей"
   ]
  },
  {
   "cell_type": "markdown",
   "metadata": {},
   "source": [
    "Сервис по продаже автомобилей с пробегом «Не бит, не крашен» разрабатывает приложение для привлечения новых клиентов. В нём можно быстро узнать рыночную стоимость своего автомобиля. В вашем распоряжении исторические данные: технические характеристики, комплектации и цены автомобилей. Вам нужно построить модель для определения стоимости. \n",
    "\n",
    "Заказчику важны:\n",
    "\n",
    "- качество предсказания;\n",
    "- скорость предсказания;\n",
    "- время обучения."
   ]
  },
  {
   "cell_type": "markdown",
   "metadata": {},
   "source": [
    "## Подготовка данных"
   ]
  },
  {
   "cell_type": "markdown",
   "metadata": {},
   "source": [
    "### Ознакомление с данными"
   ]
  },
  {
   "cell_type": "code",
   "execution_count": 1,
   "metadata": {},
   "outputs": [],
   "source": [
    "!pip install phik -q"
   ]
  },
  {
   "cell_type": "code",
   "execution_count": 2,
   "metadata": {},
   "outputs": [],
   "source": [
    "!pip install --upgrade scikit-learn -q"
   ]
  },
  {
   "cell_type": "code",
   "execution_count": 3,
   "metadata": {},
   "outputs": [],
   "source": [
    "!pip install matplotlib==3.5.0 -q"
   ]
  },
  {
   "cell_type": "code",
   "execution_count": 4,
   "metadata": {},
   "outputs": [
    {
     "data": {
      "text/html": [
       "<style>.container { width:100% !important; }</style>"
      ],
      "text/plain": [
       "<IPython.core.display.HTML object>"
      ]
     },
     "metadata": {},
     "output_type": "display_data"
    }
   ],
   "source": [
    "#импортируем все необходимые библиотеки, а также расширим ячейки\n",
    "import pandas as pd\n",
    "from phik import phik_matrix\n",
    "from phik.report import plot_correlation_matrix\n",
    "import numpy as np\n",
    "from sklearn.model_selection import train_test_split\n",
    "from sklearn.pipeline import Pipeline\n",
    "\n",
    "from sklearn.preprocessing import OneHotEncoder, MinMaxScaler\n",
    "from sklearn.compose import ColumnTransformer\n",
    "\n",
    "import time\n",
    "\n",
    "# импортируем класс RandomizedSearchCV\n",
    "from sklearn.model_selection import RandomizedSearchCV\n",
    "\n",
    "# загружаем нужные модели\n",
    "\n",
    "from sklearn.linear_model import LinearRegression\n",
    "import lightgbm as lgb\n",
    "from sklearn.metrics import mean_squared_error\n",
    "\n",
    "# загружаем класс для работы с пропусками\n",
    "from sklearn.impute import SimpleImputer\n",
    "\n",
    "from sklearn.metrics import make_scorer\n",
    "\n",
    "\n",
    "from IPython.display import display, HTML\n",
    "display(HTML(\"<style>.container { width:100% !important; }</style>\"))\n",
    "import matplotlib.pyplot as plt\n",
    "\n",
    "#установим везде графики с одинаковым размером\n",
    "plt.rcParams[\"figure.figsize\"] = (15,5)"
   ]
  },
  {
   "cell_type": "code",
   "execution_count": 5,
   "metadata": {},
   "outputs": [],
   "source": [
    "#загрузим датафрейм в переменную autos\n",
    "autos = pd.read_csv('/datasets/autos.csv')"
   ]
  },
  {
   "cell_type": "code",
   "execution_count": 6,
   "metadata": {},
   "outputs": [
    {
     "data": {
      "text/html": [
       "<div>\n",
       "<style scoped>\n",
       "    .dataframe tbody tr th:only-of-type {\n",
       "        vertical-align: middle;\n",
       "    }\n",
       "\n",
       "    .dataframe tbody tr th {\n",
       "        vertical-align: top;\n",
       "    }\n",
       "\n",
       "    .dataframe thead th {\n",
       "        text-align: right;\n",
       "    }\n",
       "</style>\n",
       "<table border=\"1\" class=\"dataframe\">\n",
       "  <thead>\n",
       "    <tr style=\"text-align: right;\">\n",
       "      <th></th>\n",
       "      <th>DateCrawled</th>\n",
       "      <th>Price</th>\n",
       "      <th>VehicleType</th>\n",
       "      <th>RegistrationYear</th>\n",
       "      <th>Gearbox</th>\n",
       "      <th>Power</th>\n",
       "      <th>Model</th>\n",
       "      <th>Kilometer</th>\n",
       "      <th>RegistrationMonth</th>\n",
       "      <th>FuelType</th>\n",
       "      <th>Brand</th>\n",
       "      <th>Repaired</th>\n",
       "      <th>DateCreated</th>\n",
       "      <th>NumberOfPictures</th>\n",
       "      <th>PostalCode</th>\n",
       "      <th>LastSeen</th>\n",
       "    </tr>\n",
       "  </thead>\n",
       "  <tbody>\n",
       "    <tr>\n",
       "      <th>0</th>\n",
       "      <td>2016-03-24 11:52:17</td>\n",
       "      <td>480</td>\n",
       "      <td>NaN</td>\n",
       "      <td>1993</td>\n",
       "      <td>manual</td>\n",
       "      <td>0</td>\n",
       "      <td>golf</td>\n",
       "      <td>150000</td>\n",
       "      <td>0</td>\n",
       "      <td>petrol</td>\n",
       "      <td>volkswagen</td>\n",
       "      <td>NaN</td>\n",
       "      <td>2016-03-24 00:00:00</td>\n",
       "      <td>0</td>\n",
       "      <td>70435</td>\n",
       "      <td>2016-04-07 03:16:57</td>\n",
       "    </tr>\n",
       "    <tr>\n",
       "      <th>1</th>\n",
       "      <td>2016-03-24 10:58:45</td>\n",
       "      <td>18300</td>\n",
       "      <td>coupe</td>\n",
       "      <td>2011</td>\n",
       "      <td>manual</td>\n",
       "      <td>190</td>\n",
       "      <td>NaN</td>\n",
       "      <td>125000</td>\n",
       "      <td>5</td>\n",
       "      <td>gasoline</td>\n",
       "      <td>audi</td>\n",
       "      <td>yes</td>\n",
       "      <td>2016-03-24 00:00:00</td>\n",
       "      <td>0</td>\n",
       "      <td>66954</td>\n",
       "      <td>2016-04-07 01:46:50</td>\n",
       "    </tr>\n",
       "    <tr>\n",
       "      <th>2</th>\n",
       "      <td>2016-03-14 12:52:21</td>\n",
       "      <td>9800</td>\n",
       "      <td>suv</td>\n",
       "      <td>2004</td>\n",
       "      <td>auto</td>\n",
       "      <td>163</td>\n",
       "      <td>grand</td>\n",
       "      <td>125000</td>\n",
       "      <td>8</td>\n",
       "      <td>gasoline</td>\n",
       "      <td>jeep</td>\n",
       "      <td>NaN</td>\n",
       "      <td>2016-03-14 00:00:00</td>\n",
       "      <td>0</td>\n",
       "      <td>90480</td>\n",
       "      <td>2016-04-05 12:47:46</td>\n",
       "    </tr>\n",
       "    <tr>\n",
       "      <th>3</th>\n",
       "      <td>2016-03-17 16:54:04</td>\n",
       "      <td>1500</td>\n",
       "      <td>small</td>\n",
       "      <td>2001</td>\n",
       "      <td>manual</td>\n",
       "      <td>75</td>\n",
       "      <td>golf</td>\n",
       "      <td>150000</td>\n",
       "      <td>6</td>\n",
       "      <td>petrol</td>\n",
       "      <td>volkswagen</td>\n",
       "      <td>no</td>\n",
       "      <td>2016-03-17 00:00:00</td>\n",
       "      <td>0</td>\n",
       "      <td>91074</td>\n",
       "      <td>2016-03-17 17:40:17</td>\n",
       "    </tr>\n",
       "    <tr>\n",
       "      <th>4</th>\n",
       "      <td>2016-03-31 17:25:20</td>\n",
       "      <td>3600</td>\n",
       "      <td>small</td>\n",
       "      <td>2008</td>\n",
       "      <td>manual</td>\n",
       "      <td>69</td>\n",
       "      <td>fabia</td>\n",
       "      <td>90000</td>\n",
       "      <td>7</td>\n",
       "      <td>gasoline</td>\n",
       "      <td>skoda</td>\n",
       "      <td>no</td>\n",
       "      <td>2016-03-31 00:00:00</td>\n",
       "      <td>0</td>\n",
       "      <td>60437</td>\n",
       "      <td>2016-04-06 10:17:21</td>\n",
       "    </tr>\n",
       "  </tbody>\n",
       "</table>\n",
       "</div>"
      ],
      "text/plain": [
       "           DateCrawled  Price VehicleType  RegistrationYear Gearbox  Power  \\\n",
       "0  2016-03-24 11:52:17    480         NaN              1993  manual      0   \n",
       "1  2016-03-24 10:58:45  18300       coupe              2011  manual    190   \n",
       "2  2016-03-14 12:52:21   9800         suv              2004    auto    163   \n",
       "3  2016-03-17 16:54:04   1500       small              2001  manual     75   \n",
       "4  2016-03-31 17:25:20   3600       small              2008  manual     69   \n",
       "\n",
       "   Model  Kilometer  RegistrationMonth  FuelType       Brand Repaired  \\\n",
       "0   golf     150000                  0    petrol  volkswagen      NaN   \n",
       "1    NaN     125000                  5  gasoline        audi      yes   \n",
       "2  grand     125000                  8  gasoline        jeep      NaN   \n",
       "3   golf     150000                  6    petrol  volkswagen       no   \n",
       "4  fabia      90000                  7  gasoline       skoda       no   \n",
       "\n",
       "           DateCreated  NumberOfPictures  PostalCode             LastSeen  \n",
       "0  2016-03-24 00:00:00                 0       70435  2016-04-07 03:16:57  \n",
       "1  2016-03-24 00:00:00                 0       66954  2016-04-07 01:46:50  \n",
       "2  2016-03-14 00:00:00                 0       90480  2016-04-05 12:47:46  \n",
       "3  2016-03-17 00:00:00                 0       91074  2016-03-17 17:40:17  \n",
       "4  2016-03-31 00:00:00                 0       60437  2016-04-06 10:17:21  "
      ]
     },
     "execution_count": 6,
     "metadata": {},
     "output_type": "execute_result"
    }
   ],
   "source": [
    "#выведем первые пять строк из таблицы для знакомства с датафреймом\n",
    "autos.head()"
   ]
  },
  {
   "cell_type": "code",
   "execution_count": 7,
   "metadata": {},
   "outputs": [
    {
     "name": "stdout",
     "output_type": "stream",
     "text": [
      "<class 'pandas.core.frame.DataFrame'>\n",
      "RangeIndex: 354369 entries, 0 to 354368\n",
      "Data columns (total 16 columns):\n",
      " #   Column             Non-Null Count   Dtype \n",
      "---  ------             --------------   ----- \n",
      " 0   DateCrawled        354369 non-null  object\n",
      " 1   Price              354369 non-null  int64 \n",
      " 2   VehicleType        316879 non-null  object\n",
      " 3   RegistrationYear   354369 non-null  int64 \n",
      " 4   Gearbox            334536 non-null  object\n",
      " 5   Power              354369 non-null  int64 \n",
      " 6   Model              334664 non-null  object\n",
      " 7   Kilometer          354369 non-null  int64 \n",
      " 8   RegistrationMonth  354369 non-null  int64 \n",
      " 9   FuelType           321474 non-null  object\n",
      " 10  Brand              354369 non-null  object\n",
      " 11  Repaired           283215 non-null  object\n",
      " 12  DateCreated        354369 non-null  object\n",
      " 13  NumberOfPictures   354369 non-null  int64 \n",
      " 14  PostalCode         354369 non-null  int64 \n",
      " 15  LastSeen           354369 non-null  object\n",
      "dtypes: int64(7), object(9)\n",
      "memory usage: 43.3+ MB\n"
     ]
    }
   ],
   "source": [
    "#выведем общую информацию по таблице\n",
    "autos.info()"
   ]
  },
  {
   "cell_type": "markdown",
   "metadata": {},
   "source": [
    "**Промежуточный вывод:** Всего в таблице 354369 строк, 16 столбцов. Имеются пропущенные значения. С таблицей познакомились. Далее необходимо проверить и удалить пропуски, проверить категориальные столбцы на наличие явных и неявных дубликатов, исправить названия столбцов в соответсвии со змеиным регистром, а также исправить формат строк в столбцах в соответствии с информацией."
   ]
  },
  {
   "cell_type": "markdown",
   "metadata": {},
   "source": [
    "### Предобработка данных"
   ]
  },
  {
   "cell_type": "code",
   "execution_count": 8,
   "metadata": {},
   "outputs": [],
   "source": [
    "#приведем все названия столбцов в нижний регистр\n",
    "autos.columns = autos.columns.str.lower()"
   ]
  },
  {
   "cell_type": "code",
   "execution_count": 9,
   "metadata": {},
   "outputs": [
    {
     "data": {
      "text/plain": [
       "Index(['datecrawled', 'price', 'vehicletype', 'registrationyear', 'gearbox',\n",
       "       'power', 'model', 'kilometer', 'registrationmonth', 'fueltype', 'brand',\n",
       "       'repaired', 'datecreated', 'numberofpictures', 'postalcode',\n",
       "       'lastseen'],\n",
       "      dtype='object')"
      ]
     },
     "execution_count": 9,
     "metadata": {},
     "output_type": "execute_result"
    }
   ],
   "source": [
    "#проверка\n",
    "autos.columns"
   ]
  },
  {
   "cell_type": "code",
   "execution_count": 10,
   "metadata": {},
   "outputs": [],
   "source": [
    "#приведем названия столдцов к нужному формату\n",
    "autos = autos.rename(columns={'datecrawled': 'date_crawled', 'vehicletype': 'vehicle_type', 'registrationyear': 'registration_year', 'registrationmonth' : 'registration_month', 'fueltype' : 'fuel_type', 'datecreated' : 'date_created', 'numberofpictures' : 'number_of_pictures', 'postalcode' : 'postal_code', 'lastseen' : 'last_seen'})"
   ]
  },
  {
   "cell_type": "code",
   "execution_count": 11,
   "metadata": {},
   "outputs": [
    {
     "data": {
      "text/plain": [
       "Index(['date_crawled', 'price', 'vehicle_type', 'registration_year', 'gearbox',\n",
       "       'power', 'model', 'kilometer', 'registration_month', 'fuel_type',\n",
       "       'brand', 'repaired', 'date_created', 'number_of_pictures',\n",
       "       'postal_code', 'last_seen'],\n",
       "      dtype='object')"
      ]
     },
     "execution_count": 11,
     "metadata": {},
     "output_type": "execute_result"
    }
   ],
   "source": [
    "#проверка\n",
    "autos.columns"
   ]
  },
  {
   "cell_type": "code",
   "execution_count": 12,
   "metadata": {},
   "outputs": [],
   "source": [
    "#изменим формат данных в столбцах date_crawled, date_created, last_seen\n",
    "autos['date_crawled'] = pd.to_datetime(autos['date_crawled'])\n",
    "autos['date_created'] = pd.to_datetime(autos['date_created'])\n",
    "autos['last_seen'] = pd.to_datetime(autos['last_seen'])"
   ]
  },
  {
   "cell_type": "code",
   "execution_count": 13,
   "metadata": {},
   "outputs": [
    {
     "name": "stdout",
     "output_type": "stream",
     "text": [
      "<class 'pandas.core.frame.DataFrame'>\n",
      "RangeIndex: 354369 entries, 0 to 354368\n",
      "Data columns (total 16 columns):\n",
      " #   Column              Non-Null Count   Dtype         \n",
      "---  ------              --------------   -----         \n",
      " 0   date_crawled        354369 non-null  datetime64[ns]\n",
      " 1   price               354369 non-null  int64         \n",
      " 2   vehicle_type        316879 non-null  object        \n",
      " 3   registration_year   354369 non-null  int64         \n",
      " 4   gearbox             334536 non-null  object        \n",
      " 5   power               354369 non-null  int64         \n",
      " 6   model               334664 non-null  object        \n",
      " 7   kilometer           354369 non-null  int64         \n",
      " 8   registration_month  354369 non-null  int64         \n",
      " 9   fuel_type           321474 non-null  object        \n",
      " 10  brand               354369 non-null  object        \n",
      " 11  repaired            283215 non-null  object        \n",
      " 12  date_created        354369 non-null  datetime64[ns]\n",
      " 13  number_of_pictures  354369 non-null  int64         \n",
      " 14  postal_code         354369 non-null  int64         \n",
      " 15  last_seen           354369 non-null  datetime64[ns]\n",
      "dtypes: datetime64[ns](3), int64(7), object(6)\n",
      "memory usage: 43.3+ MB\n"
     ]
    }
   ],
   "source": [
    "#проверка\n",
    "autos.info()"
   ]
  },
  {
   "cell_type": "code",
   "execution_count": 14,
   "metadata": {},
   "outputs": [
    {
     "data": {
      "text/html": [
       "<div>\n",
       "<style scoped>\n",
       "    .dataframe tbody tr th:only-of-type {\n",
       "        vertical-align: middle;\n",
       "    }\n",
       "\n",
       "    .dataframe tbody tr th {\n",
       "        vertical-align: top;\n",
       "    }\n",
       "\n",
       "    .dataframe thead th {\n",
       "        text-align: right;\n",
       "    }\n",
       "</style>\n",
       "<table border=\"1\" class=\"dataframe\">\n",
       "  <thead>\n",
       "    <tr style=\"text-align: right;\">\n",
       "      <th></th>\n",
       "      <th>date_crawled</th>\n",
       "      <th>price</th>\n",
       "      <th>vehicle_type</th>\n",
       "      <th>registration_year</th>\n",
       "      <th>gearbox</th>\n",
       "      <th>power</th>\n",
       "      <th>model</th>\n",
       "      <th>kilometer</th>\n",
       "      <th>registration_month</th>\n",
       "      <th>fuel_type</th>\n",
       "      <th>brand</th>\n",
       "      <th>repaired</th>\n",
       "      <th>date_created</th>\n",
       "      <th>number_of_pictures</th>\n",
       "      <th>postal_code</th>\n",
       "      <th>last_seen</th>\n",
       "    </tr>\n",
       "  </thead>\n",
       "  <tbody>\n",
       "    <tr>\n",
       "      <th>0</th>\n",
       "      <td>2016-03-24 11:52:17</td>\n",
       "      <td>480</td>\n",
       "      <td>NaN</td>\n",
       "      <td>1993</td>\n",
       "      <td>manual</td>\n",
       "      <td>0</td>\n",
       "      <td>golf</td>\n",
       "      <td>150000</td>\n",
       "      <td>0</td>\n",
       "      <td>petrol</td>\n",
       "      <td>volkswagen</td>\n",
       "      <td>NaN</td>\n",
       "      <td>2016-03-24</td>\n",
       "      <td>0</td>\n",
       "      <td>70435</td>\n",
       "      <td>2016-04-07 03:16:57</td>\n",
       "    </tr>\n",
       "    <tr>\n",
       "      <th>1</th>\n",
       "      <td>2016-03-24 10:58:45</td>\n",
       "      <td>18300</td>\n",
       "      <td>coupe</td>\n",
       "      <td>2011</td>\n",
       "      <td>manual</td>\n",
       "      <td>190</td>\n",
       "      <td>NaN</td>\n",
       "      <td>125000</td>\n",
       "      <td>5</td>\n",
       "      <td>gasoline</td>\n",
       "      <td>audi</td>\n",
       "      <td>yes</td>\n",
       "      <td>2016-03-24</td>\n",
       "      <td>0</td>\n",
       "      <td>66954</td>\n",
       "      <td>2016-04-07 01:46:50</td>\n",
       "    </tr>\n",
       "    <tr>\n",
       "      <th>2</th>\n",
       "      <td>2016-03-14 12:52:21</td>\n",
       "      <td>9800</td>\n",
       "      <td>suv</td>\n",
       "      <td>2004</td>\n",
       "      <td>auto</td>\n",
       "      <td>163</td>\n",
       "      <td>grand</td>\n",
       "      <td>125000</td>\n",
       "      <td>8</td>\n",
       "      <td>gasoline</td>\n",
       "      <td>jeep</td>\n",
       "      <td>NaN</td>\n",
       "      <td>2016-03-14</td>\n",
       "      <td>0</td>\n",
       "      <td>90480</td>\n",
       "      <td>2016-04-05 12:47:46</td>\n",
       "    </tr>\n",
       "    <tr>\n",
       "      <th>3</th>\n",
       "      <td>2016-03-17 16:54:04</td>\n",
       "      <td>1500</td>\n",
       "      <td>small</td>\n",
       "      <td>2001</td>\n",
       "      <td>manual</td>\n",
       "      <td>75</td>\n",
       "      <td>golf</td>\n",
       "      <td>150000</td>\n",
       "      <td>6</td>\n",
       "      <td>petrol</td>\n",
       "      <td>volkswagen</td>\n",
       "      <td>no</td>\n",
       "      <td>2016-03-17</td>\n",
       "      <td>0</td>\n",
       "      <td>91074</td>\n",
       "      <td>2016-03-17 17:40:17</td>\n",
       "    </tr>\n",
       "    <tr>\n",
       "      <th>4</th>\n",
       "      <td>2016-03-31 17:25:20</td>\n",
       "      <td>3600</td>\n",
       "      <td>small</td>\n",
       "      <td>2008</td>\n",
       "      <td>manual</td>\n",
       "      <td>69</td>\n",
       "      <td>fabia</td>\n",
       "      <td>90000</td>\n",
       "      <td>7</td>\n",
       "      <td>gasoline</td>\n",
       "      <td>skoda</td>\n",
       "      <td>no</td>\n",
       "      <td>2016-03-31</td>\n",
       "      <td>0</td>\n",
       "      <td>60437</td>\n",
       "      <td>2016-04-06 10:17:21</td>\n",
       "    </tr>\n",
       "  </tbody>\n",
       "</table>\n",
       "</div>"
      ],
      "text/plain": [
       "         date_crawled  price vehicle_type  registration_year gearbox  power  \\\n",
       "0 2016-03-24 11:52:17    480          NaN               1993  manual      0   \n",
       "1 2016-03-24 10:58:45  18300        coupe               2011  manual    190   \n",
       "2 2016-03-14 12:52:21   9800          suv               2004    auto    163   \n",
       "3 2016-03-17 16:54:04   1500        small               2001  manual     75   \n",
       "4 2016-03-31 17:25:20   3600        small               2008  manual     69   \n",
       "\n",
       "   model  kilometer  registration_month fuel_type       brand repaired  \\\n",
       "0   golf     150000                   0    petrol  volkswagen      NaN   \n",
       "1    NaN     125000                   5  gasoline        audi      yes   \n",
       "2  grand     125000                   8  gasoline        jeep      NaN   \n",
       "3   golf     150000                   6    petrol  volkswagen       no   \n",
       "4  fabia      90000                   7  gasoline       skoda       no   \n",
       "\n",
       "  date_created  number_of_pictures  postal_code           last_seen  \n",
       "0   2016-03-24                   0        70435 2016-04-07 03:16:57  \n",
       "1   2016-03-24                   0        66954 2016-04-07 01:46:50  \n",
       "2   2016-03-14                   0        90480 2016-04-05 12:47:46  \n",
       "3   2016-03-17                   0        91074 2016-03-17 17:40:17  \n",
       "4   2016-03-31                   0        60437 2016-04-06 10:17:21  "
      ]
     },
     "execution_count": 14,
     "metadata": {},
     "output_type": "execute_result"
    }
   ],
   "source": [
    "#проверка\n",
    "autos.head()"
   ]
  },
  {
   "cell_type": "code",
   "execution_count": 15,
   "metadata": {},
   "outputs": [
    {
     "data": {
      "text/plain": [
       "date_crawled              0\n",
       "price                     0\n",
       "vehicle_type          37490\n",
       "registration_year         0\n",
       "gearbox               19833\n",
       "power                     0\n",
       "model                 19705\n",
       "kilometer                 0\n",
       "registration_month        0\n",
       "fuel_type             32895\n",
       "brand                     0\n",
       "repaired              71154\n",
       "date_created              0\n",
       "number_of_pictures        0\n",
       "postal_code               0\n",
       "last_seen                 0\n",
       "dtype: int64"
      ]
     },
     "execution_count": 15,
     "metadata": {},
     "output_type": "execute_result"
    }
   ],
   "source": [
    "#проверим таблицу на наличие пропусков и посчитаем их кол-во в каждом столбце\n",
    "autos.isna().sum()"
   ]
  },
  {
   "cell_type": "code",
   "execution_count": 17,
   "metadata": {},
   "outputs": [],
   "source": [
    "#заменим все пропуски на unknown\n",
    "autos.fillna('unknown', inplace=True)"
   ]
  },
  {
   "cell_type": "code",
   "execution_count": 18,
   "metadata": {},
   "outputs": [
    {
     "data": {
      "text/plain": [
       "date_crawled          0\n",
       "price                 0\n",
       "vehicle_type          0\n",
       "registration_year     0\n",
       "gearbox               0\n",
       "power                 0\n",
       "model                 0\n",
       "kilometer             0\n",
       "registration_month    0\n",
       "fuel_type             0\n",
       "brand                 0\n",
       "repaired              0\n",
       "date_created          0\n",
       "number_of_pictures    0\n",
       "postal_code           0\n",
       "last_seen             0\n",
       "dtype: int64"
      ]
     },
     "execution_count": 18,
     "metadata": {},
     "output_type": "execute_result"
    }
   ],
   "source": [
    "#повторная проверка\n",
    "autos.isna().sum()"
   ]
  },
  {
   "cell_type": "code",
   "execution_count": 19,
   "metadata": {},
   "outputs": [],
   "source": [
    "#после удаления всех пропусков, займемся явными и неявными дубликатами.\n",
    "#определим присутвуют ли они в категориальных столбцах, а также внесем соответсвующие исправления\n",
    "#определим категориальные столбцы\n",
    "cat_columns = ['vehicle_type', 'registration_year', 'gearbox', 'model', 'kilometer', 'registration_month', 'fuel_type', 'brand', 'repaired', 'number_of_pictures']"
   ]
  },
  {
   "cell_type": "code",
   "execution_count": 20,
   "metadata": {},
   "outputs": [
    {
     "data": {
      "text/plain": [
       "4"
      ]
     },
     "execution_count": 20,
     "metadata": {},
     "output_type": "execute_result"
    }
   ],
   "source": [
    "autos.duplicated().sum()"
   ]
  },
  {
   "cell_type": "code",
   "execution_count": 21,
   "metadata": {},
   "outputs": [],
   "source": [
    "autos = autos.drop_duplicates()"
   ]
  },
  {
   "cell_type": "code",
   "execution_count": 22,
   "metadata": {},
   "outputs": [
    {
     "data": {
      "text/plain": [
       "0"
      ]
     },
     "execution_count": 22,
     "metadata": {},
     "output_type": "execute_result"
    }
   ],
   "source": [
    "#проверка\n",
    "autos.duplicated().sum()"
   ]
  },
  {
   "cell_type": "code",
   "execution_count": 23,
   "metadata": {
    "scrolled": false
   },
   "outputs": [
    {
     "name": "stdout",
     "output_type": "stream",
     "text": [
      "['unknown' 'coupe' 'suv' 'small' 'sedan' 'convertible' 'bus' 'wagon'\n",
      " 'other']\n",
      "\n",
      "\n",
      "[1993 2011 2004 2001 2008 1995 1980 2014 1998 2005 1910 2016 2007 2009\n",
      " 2002 2018 1997 1990 2017 1981 2003 1994 1991 1984 2006 1999 2012 2010\n",
      " 2000 1992 2013 1996 1985 1989 2015 1982 1976 1983 1973 1111 1969 1971\n",
      " 1987 1986 1988 1970 1965 1945 1925 1974 1979 1955 1978 1972 1968 1977\n",
      " 1961 1960 1966 1975 1963 1964 5000 1954 1958 1967 1959 9999 1956 3200\n",
      " 1000 1941 8888 1500 2200 4100 1962 1929 1957 1940 3000 2066 1949 2019\n",
      " 1937 1951 1800 1953 1234 8000 5300 9000 2900 6000 5900 5911 1933 1400\n",
      " 1950 4000 1948 1952 1200 8500 1932 1255 3700 3800 4800 1942 7000 1935\n",
      " 1936 6500 1923 2290 2500 1930 1001 9450 1944 1943 1934 1938 1688 2800\n",
      " 1253 1928 1919 5555 5600 1600 2222 1039 9996 1300 8455 1931 1915 4500\n",
      " 1920 1602 7800 9229 1947 1927 7100 8200 1946 7500 3500]\n",
      "\n",
      "\n",
      "['manual' 'auto' 'unknown']\n",
      "\n",
      "\n",
      "['golf' 'unknown' 'grand' 'fabia' '3er' '2_reihe' 'other' 'c_max'\n",
      " '3_reihe' 'passat' 'navara' 'ka' 'polo' 'twingo' 'a_klasse' 'scirocco'\n",
      " '5er' 'meriva' 'arosa' 'c4' 'civic' 'transporter' 'punto' 'e_klasse'\n",
      " 'clio' 'kadett' 'kangoo' 'corsa' 'one' 'fortwo' '1er' 'b_klasse' 'signum'\n",
      " 'astra' 'a8' 'jetta' 'fiesta' 'c_klasse' 'micra' 'vito' 'sprinter' '156'\n",
      " 'escort' 'forester' 'xc_reihe' 'scenic' 'a4' 'a1' 'insignia' 'combo'\n",
      " 'focus' 'tt' 'a6' 'jazz' 'omega' 'slk' '7er' '80' '147' '100' 'z_reihe'\n",
      " 'sportage' 'sorento' 'v40' 'ibiza' 'mustang' 'eos' 'touran' 'getz' 'a3'\n",
      " 'almera' 'megane' 'lupo' 'r19' 'zafira' 'caddy' 'mondeo' 'cordoba' 'colt'\n",
      " 'impreza' 'vectra' 'berlingo' 'tiguan' 'i_reihe' 'espace' 'sharan'\n",
      " '6_reihe' 'panda' 'up' 'seicento' 'ceed' '5_reihe' 'yeti' 'octavia' 'mii'\n",
      " 'rx_reihe' '6er' 'modus' 'fox' 'matiz' 'beetle' 'c1' 'rio' 'touareg'\n",
      " 'logan' 'spider' 'cuore' 's_max' 'a2' 'galaxy' 'c3' 'viano' 's_klasse'\n",
      " '1_reihe' 'avensis' 'roomster' 'sl' 'kaefer' 'santa' 'cooper' 'leon'\n",
      " '4_reihe' 'a5' '500' 'laguna' 'ptcruiser' 'clk' 'primera' 'x_reihe'\n",
      " 'exeo' '159' 'transit' 'juke' 'qashqai' 'carisma' 'accord' 'corolla'\n",
      " 'lanos' 'phaeton' 'verso' 'swift' 'rav' 'picanto' 'boxster' 'kalos'\n",
      " 'superb' 'stilo' 'alhambra' 'mx_reihe' 'roadster' 'ypsilon' 'cayenne'\n",
      " 'galant' 'justy' '90' 'sirion' 'crossfire' 'agila' 'duster' 'cr_reihe'\n",
      " 'v50' 'c_reihe' 'v_klasse' 'm_klasse' 'yaris' 'c5' 'aygo' 'cc' 'carnival'\n",
      " 'fusion' '911' 'bora' 'forfour' 'm_reihe' 'cl' 'tigra' '300c' 'spark'\n",
      " 'v70' 'kuga' 'x_type' 'ducato' 's_type' 'x_trail' 'toledo' 'altea'\n",
      " 'voyager' 'calibra' 'bravo' 'antara' 'tucson' 'citigo' 'jimny' 'wrangler'\n",
      " 'lybra' 'q7' 'lancer' 'captiva' 'c2' 'discovery' 'freelander' 'sandero'\n",
      " 'note' '900' 'cherokee' 'clubman' 'samara' 'defender' '601' 'cx_reihe'\n",
      " 'legacy' 'pajero' 'auris' 'niva' 's60' 'nubira' 'vivaro' 'g_klasse'\n",
      " 'lodgy' '850' 'range_rover' 'q3' 'serie_2' 'glk' 'charade' 'croma'\n",
      " 'outlander' 'doblo' 'musa' 'move' '9000' 'v60' '145' 'aveo' '200' 'b_max'\n",
      " 'range_rover_sport' 'terios' 'rangerover' 'q5' 'range_rover_evoque'\n",
      " 'materia' 'delta' 'gl' 'kalina' 'amarok' 'elefantino' 'i3' 'kappa'\n",
      " 'serie_3' 'serie_1']\n",
      "\n",
      "\n",
      "[150000 125000  90000  40000  30000  70000   5000 100000  60000  20000\n",
      "  80000  50000  10000]\n",
      "\n",
      "\n",
      "[ 0  5  8  6  7 10 12 11  2  3  1  4  9]\n",
      "\n",
      "\n",
      "['petrol' 'gasoline' 'unknown' 'lpg' 'other' 'hybrid' 'cng' 'electric']\n",
      "\n",
      "\n",
      "['volkswagen' 'audi' 'jeep' 'skoda' 'bmw' 'peugeot' 'ford' 'mazda'\n",
      " 'nissan' 'renault' 'mercedes_benz' 'opel' 'seat' 'citroen' 'honda' 'fiat'\n",
      " 'mini' 'smart' 'hyundai' 'sonstige_autos' 'alfa_romeo' 'subaru' 'volvo'\n",
      " 'mitsubishi' 'kia' 'suzuki' 'lancia' 'toyota' 'chevrolet' 'dacia'\n",
      " 'daihatsu' 'trabant' 'saab' 'chrysler' 'jaguar' 'daewoo' 'porsche'\n",
      " 'rover' 'land_rover' 'lada']\n",
      "\n",
      "\n",
      "['unknown' 'yes' 'no']\n",
      "\n",
      "\n",
      "[0]\n",
      "\n",
      "\n"
     ]
    }
   ],
   "source": [
    "#проверка датафрейма на неявные дубликаты в категориальных столбцах\n",
    "for i in cat_columns:\n",
    "    print(autos[i].unique()),\n",
    "    print('\\n')"
   ]
  },
  {
   "cell_type": "markdown",
   "metadata": {},
   "source": [
    "**Промежуточный вывод:** успешно предобработали таблицу. Удалили пропуски, привели к правильному формату названия столбцов, удалили явные дубликаты, а также изменили форматы данных в нужных столбцах на тип datetime."
   ]
  },
  {
   "cell_type": "markdown",
   "metadata": {},
   "source": [
    "### Исследовательский анализ данных"
   ]
  },
  {
   "cell_type": "code",
   "execution_count": 24,
   "metadata": {},
   "outputs": [
    {
     "data": {
      "text/html": [
       "<div>\n",
       "<style scoped>\n",
       "    .dataframe tbody tr th:only-of-type {\n",
       "        vertical-align: middle;\n",
       "    }\n",
       "\n",
       "    .dataframe tbody tr th {\n",
       "        vertical-align: top;\n",
       "    }\n",
       "\n",
       "    .dataframe thead th {\n",
       "        text-align: right;\n",
       "    }\n",
       "</style>\n",
       "<table border=\"1\" class=\"dataframe\">\n",
       "  <thead>\n",
       "    <tr style=\"text-align: right;\">\n",
       "      <th></th>\n",
       "      <th>date_crawled</th>\n",
       "      <th>price</th>\n",
       "      <th>vehicle_type</th>\n",
       "      <th>registration_year</th>\n",
       "      <th>gearbox</th>\n",
       "      <th>power</th>\n",
       "      <th>model</th>\n",
       "      <th>kilometer</th>\n",
       "      <th>registration_month</th>\n",
       "      <th>fuel_type</th>\n",
       "      <th>brand</th>\n",
       "      <th>repaired</th>\n",
       "      <th>date_created</th>\n",
       "      <th>number_of_pictures</th>\n",
       "      <th>postal_code</th>\n",
       "      <th>last_seen</th>\n",
       "    </tr>\n",
       "  </thead>\n",
       "  <tbody>\n",
       "    <tr>\n",
       "      <th>0</th>\n",
       "      <td>2016-03-24 11:52:17</td>\n",
       "      <td>480</td>\n",
       "      <td>unknown</td>\n",
       "      <td>1993</td>\n",
       "      <td>manual</td>\n",
       "      <td>0</td>\n",
       "      <td>golf</td>\n",
       "      <td>150000</td>\n",
       "      <td>0</td>\n",
       "      <td>petrol</td>\n",
       "      <td>volkswagen</td>\n",
       "      <td>unknown</td>\n",
       "      <td>2016-03-24</td>\n",
       "      <td>0</td>\n",
       "      <td>70435</td>\n",
       "      <td>2016-04-07 03:16:57</td>\n",
       "    </tr>\n",
       "    <tr>\n",
       "      <th>1</th>\n",
       "      <td>2016-03-24 10:58:45</td>\n",
       "      <td>18300</td>\n",
       "      <td>coupe</td>\n",
       "      <td>2011</td>\n",
       "      <td>manual</td>\n",
       "      <td>190</td>\n",
       "      <td>unknown</td>\n",
       "      <td>125000</td>\n",
       "      <td>5</td>\n",
       "      <td>gasoline</td>\n",
       "      <td>audi</td>\n",
       "      <td>yes</td>\n",
       "      <td>2016-03-24</td>\n",
       "      <td>0</td>\n",
       "      <td>66954</td>\n",
       "      <td>2016-04-07 01:46:50</td>\n",
       "    </tr>\n",
       "  </tbody>\n",
       "</table>\n",
       "</div>"
      ],
      "text/plain": [
       "         date_crawled  price vehicle_type  registration_year gearbox  power  \\\n",
       "0 2016-03-24 11:52:17    480      unknown               1993  manual      0   \n",
       "1 2016-03-24 10:58:45  18300        coupe               2011  manual    190   \n",
       "\n",
       "     model  kilometer  registration_month fuel_type       brand repaired  \\\n",
       "0     golf     150000                   0    petrol  volkswagen  unknown   \n",
       "1  unknown     125000                   5  gasoline        audi      yes   \n",
       "\n",
       "  date_created  number_of_pictures  postal_code           last_seen  \n",
       "0   2016-03-24                   0        70435 2016-04-07 03:16:57  \n",
       "1   2016-03-24                   0        66954 2016-04-07 01:46:50  "
      ]
     },
     "execution_count": 24,
     "metadata": {},
     "output_type": "execute_result"
    }
   ],
   "source": [
    "autos.head(2)"
   ]
  },
  {
   "cell_type": "code",
   "execution_count": 25,
   "metadata": {},
   "outputs": [],
   "source": [
    "#определим наши количественные столбцы\n",
    "num_columns = ['price', 'power']\n",
    "#определим категориальные столбцы\n",
    "cat_columns = ['vehicle_type', 'registration_year', 'gearbox', 'model', 'kilometer', 'registration_month', 'fuel_type', 'brand', 'repaired', 'number_of_pictures']"
   ]
  },
  {
   "cell_type": "code",
   "execution_count": 26,
   "metadata": {
    "scrolled": false
   },
   "outputs": [
    {
     "data": {
      "image/png": "[encoded data removed]",
      "text/plain": [
       "<Figure size 1080x360 with 1 Axes>"
      ]
     },
     "metadata": {
      "needs_background": "light"
     },
     "output_type": "display_data"
    },
    {
     "data": {
      "image/png": "[encoded data removed]",
      "text/plain": [
       "<Figure size 1080x360 with 1 Axes>"
      ]
     },
     "metadata": {
      "needs_background": "light"
     },
     "output_type": "display_data"
    },
    {
     "data": {
      "image/png": "[encoded data removed]",
      "text/plain": [
       "<Figure size 1080x360 with 1 Axes>"
      ]
     },
     "metadata": {
      "needs_background": "light"
     },
     "output_type": "display_data"
    },
    {
     "data": {
      "image/png": "[encoded data removed]",
      "text/plain": [
       "<Figure size 1080x360 with 1 Axes>"
      ]
     },
     "metadata": {
      "needs_background": "light"
     },
     "output_type": "display_data"
    },
    {
     "data": {
      "image/png": "[encoded data removed]",
      "text/plain": [
       "<Figure size 1080x360 with 1 Axes>"
      ]
     },
     "metadata": {
      "needs_background": "light"
     },
     "output_type": "display_data"
    },
    {
     "data": {
      "image/png": "[encoded data removed]",
      "text/plain": [
       "<Figure size 1080x360 with 1 Axes>"
      ]
     },
     "metadata": {
      "needs_background": "light"
     },
     "output_type": "display_data"
    },
    {
     "data": {
      "image/png": "[encoded data removed]",
      "text/plain": [
       "<Figure size 1080x360 with 1 Axes>"
      ]
     },
     "metadata": {
      "needs_background": "light"
     },
     "output_type": "display_data"
    },
    {
     "data": {
      "image/png": "[encoded data removed]",
      "text/plain": [
       "<Figure size 1080x360 with 1 Axes>"
      ]
     },
     "metadata": {
      "needs_background": "light"
     },
     "output_type": "display_data"
    },
    {
     "data": {
      "image/png": "[encoded data removed]",
      "text/plain": [
       "<Figure size 1080x360 with 1 Axes>"
      ]
     },
     "metadata": {
      "needs_background": "light"
     },
     "output_type": "display_data"
    },
    {
     "data": {
      "image/png": "[encoded data removed]",
      "text/plain": [
       "<Figure size 1080x360 with 1 Axes>"
      ]
     },
     "metadata": {
      "needs_background": "light"
     },
     "output_type": "display_data"
    }
   ],
   "source": [
    "#с помощью цикла выведем гистограммы для каждого категориального столбца\n",
    "for i in autos[cat_columns]:\n",
    "    autos[i].value_counts().head(15).plot(kind='bar')\n",
    "    plt.ylabel('Частота', fontsize=16)\n",
    "    plt.xlabel(i, fontsize=16)\n",
    "    plt.xticks(rotation=45, ha='right', fontsize=14)\n",
    "    plt.title(f'Столбчатая диаграмма для столбца {i}')\n",
    "    plt.show()"
   ]
  },
  {
   "cell_type": "code",
   "execution_count": 27,
   "metadata": {},
   "outputs": [],
   "source": [
    "#сделаем срез по году регистрации\n",
    "autos = autos.query('registration_year < 2016')\n",
    "autos = autos.query('registration_year > 1980')"
   ]
  },
  {
   "cell_type": "code",
   "execution_count": 28,
   "metadata": {},
   "outputs": [
    {
     "data": {
      "image/png": "[encoded data removed]",
      "text/plain": [
       "<Figure size 1080x360 with 1 Axes>"
      ]
     },
     "metadata": {
      "needs_background": "light"
     },
     "output_type": "display_data"
    }
   ],
   "source": [
    "autos['registration_year'].value_counts().plot(kind='bar')\n",
    "plt.ylabel('Частота', fontsize=16)\n",
    "plt.xlabel(i, fontsize=16)\n",
    "plt.xticks(rotation=45, ha='right', fontsize=14)\n",
    "plt.title(f'Столбчатая диаграмма для столбца reg_year')\n",
    "plt.show()"
   ]
  },
  {
   "cell_type": "markdown",
   "metadata": {},
   "source": [
    "**аномалий не обнаружено в категориальных столбцах**"
   ]
  },
  {
   "cell_type": "code",
   "execution_count": 29,
   "metadata": {
    "scrolled": false
   },
   "outputs": [
    {
     "data": {
      "image/png": "[encoded data removed]",
      "text/plain": [
       "<Figure size 1080x360 with 1 Axes>"
      ]
     },
     "metadata": {
      "needs_background": "light"
     },
     "output_type": "display_data"
    },
    {
     "data": {
      "image/png": "[encoded data removed]",
      "text/plain": [
       "<Figure size 1080x360 with 1 Axes>"
      ]
     },
     "metadata": {
      "needs_background": "light"
     },
     "output_type": "display_data"
    }
   ],
   "source": [
    "#с помощью цикла выведем гистограммы для каждого количественного столбца\n",
    "for i in autos[num_columns]:\n",
    "    autos[i].hist(bins=30)\n",
    "    plt.ylabel('Частота', fontsize=16)\n",
    "    plt.xlabel(i, fontsize=16)\n",
    "    plt.title(f'Гистограмма столбца {i}')\n",
    "    plt.xticks(fontsize=14)\n",
    "    plt.show()"
   ]
  },
  {
   "cell_type": "markdown",
   "metadata": {},
   "source": [
    "**Обнаружены аномалии в столбце power, явный выброс который можно удалить.**"
   ]
  },
  {
   "cell_type": "code",
   "execution_count": 30,
   "metadata": {},
   "outputs": [],
   "source": [
    "#удалим аномальные значения\n",
    "autos = autos.query('power < 600')\n",
    "autos = autos.query('power > 40')"
   ]
  },
  {
   "cell_type": "code",
   "execution_count": 31,
   "metadata": {},
   "outputs": [
    {
     "data": {
      "image/png": "[encoded data removed]",
      "text/plain": [
       "<Figure size 1080x360 with 1 Axes>"
      ]
     },
     "metadata": {
      "needs_background": "light"
     },
     "output_type": "display_data"
    },
    {
     "data": {
      "image/png": "[encoded data removed]",
      "text/plain": [
       "<Figure size 1080x360 with 1 Axes>"
      ]
     },
     "metadata": {
      "needs_background": "light"
     },
     "output_type": "display_data"
    }
   ],
   "source": [
    "#с помощью цикла выведем гистограммы для количественного столбца power (повторно)\n",
    "for i in autos[num_columns]:\n",
    "    autos[i].hist(bins=30)\n",
    "    plt.ylabel('Частота', fontsize=16)\n",
    "    plt.xlabel(i, fontsize=16)\n",
    "    plt.title(f'Гистограмма столбца {i}')\n",
    "    plt.xticks(fontsize=14)\n",
    "    plt.show()"
   ]
  },
  {
   "cell_type": "markdown",
   "metadata": {},
   "source": [
    "**аномалии в количественном столбце power были успешно удалены, больше аномалий не обнаружено**"
   ]
  },
  {
   "cell_type": "markdown",
   "metadata": {},
   "source": [
    "### Проверка признаков на мультиколлинеарность"
   ]
  },
  {
   "cell_type": "code",
   "execution_count": 32,
   "metadata": {},
   "outputs": [],
   "source": [
    "# Оптимизация числовых типов данных\n",
    "def optimize_memory_usage(df: pd.DataFrame, print_size: bool=True) -> pd.DataFrame:\n",
    "    '''\n",
    "    Function optimizes memory usage in dataframe\n",
    "    df: pd.DataFrame - data table\n",
    "    print_size: bool - display of optimization results\n",
    "    return pd.DataFrame - amount of optimized memory\n",
    "    '''\n",
    "    numerics = ['int16', 'int32', 'int64', 'float16', 'float32', 'float64'] # Типы, которые будем проверять на оптимизацию\n",
    "    # Размер занимаемой памяти до оптимизации (в Мб)\n",
    "    before_size = df.memory_usage().sum() / 1024**2    \n",
    "    for column in df.columns:\n",
    "        column_type = df[column].dtypes\n",
    "        if column_type in numerics:\n",
    "            column_min = df[column].min()\n",
    "            column_max = df[column].max()\n",
    "            if str(column_type).startswith('int'):\n",
    "                if column_min > np.iinfo(np.int8).min and column_max < np.iinfo(np.int8).max:\n",
    "                    df[column] = df[column].astype(np.int8)\n",
    "                elif column_min > np.iinfo(np.int16).min and column_max < np.iinfo(np.int16).max:\n",
    "                    df[column] = df[column].astype(np.int16)\n",
    "                elif column_min > np.iinfo(np.int32).min and column_max < np.iinfo(np.int32).max:\n",
    "                    df[column] = df[column].astype(np.int32)\n",
    "                elif column_min > np.iinfo(np.int64).min and column_max < np.iinfo(np.int64).max:\n",
    "                    df[column] = df[column].astype(np.int64)  \n",
    "            else:\n",
    "                if column_min > np.finfo(np.float32).min and column_max < np.finfo(np.float32).max:\n",
    "                    df[column] = df[column].astype(np.float32)\n",
    "                else:\n",
    "                    df[column] = df[column].astype(np.float64)    \n",
    "    # Размер занимаемой памяти после оптимизации (в Мб)\n",
    "    after_size = df.memory_usage().sum() / 1024**2\n",
    "    if print_size: print('Размер использования памяти: до {:5.2f} Mb - после {:5.2f} Mb ({:.1f}%)'\n",
    "                            .format(before_size, after_size, 100 * (before_size - after_size) / before_size))\n",
    "    return df"
   ]
  },
  {
   "cell_type": "code",
   "execution_count": 33,
   "metadata": {},
   "outputs": [
    {
     "name": "stdout",
     "output_type": "stream",
     "text": [
      "Размер использования памяти: до 37.92 Mb - после 26.77 Mb (29.4%)\n"
     ]
    }
   ],
   "source": [
    "#применим нашу функцию \n",
    "autos = optimize_memory_usage(autos)"
   ]
  },
  {
   "cell_type": "code",
   "execution_count": 34,
   "metadata": {},
   "outputs": [],
   "source": [
    "interval_cols = ['power']"
   ]
  },
  {
   "cell_type": "code",
   "execution_count": 35,
   "metadata": {},
   "outputs": [
    {
     "name": "stderr",
     "output_type": "stream",
     "text": [
      "/opt/conda/lib/python3.9/site-packages/phik/data_quality.py:59: UserWarning: The number of unique values of variable price is large: 3557. Are you sure this is not an interval variable? Analysis for pairs of variables including price can be slow.\n",
      "  warnings.warn(\n"
     ]
    }
   ],
   "source": [
    "#так как мы будем обучать одну линейную модель, то необходимо проверить все входные признаки на мультиколлинеарность. (удалим цену (целевой признак) и входные признаки никак не влияющие на ценообразование машины) \n",
    "phik_overview = autos.drop(['number_of_pictures', 'date_crawled', 'date_created', 'last_seen', 'postal_code'], axis=1).phik_matrix(interval_cols=interval_cols)"
   ]
  },
  {
   "cell_type": "code",
   "execution_count": 36,
   "metadata": {},
   "outputs": [
    {
     "data": {
      "image/png": "[encoded data removed]",
      "text/plain": [
       "<Figure size 1440x1080 with 2 Axes>"
      ]
     },
     "metadata": {
      "needs_background": "light"
     },
     "output_type": "display_data"
    }
   ],
   "source": [
    "# визуализация тепловой карты коэффициентов корреляции\n",
    "plot_correlation_matrix(\n",
    "    phik_overview.values,\n",
    "    x_labels=phik_overview.columns,\n",
    "    y_labels=phik_overview.index,\n",
    "    vmin=0, vmax=1, color_map='Greens',\n",
    "    title=r'correlation $\\phi_K$',\n",
    "    fontsize_factor=2,\n",
    "    figsize=(20, 15)\n",
    ") "
   ]
  },
  {
   "cell_type": "markdown",
   "metadata": {},
   "source": [
    "**Обнаружена мультиколлинеарность между входными признаками model и brand, а также vehicle_type и model. При обучении моделей линейной регрессии следует удалить признак brand, так как есть хорошая зависимость между ценой и model (0.74).**"
   ]
  },
  {
   "cell_type": "code",
   "execution_count": 37,
   "metadata": {},
   "outputs": [
    {
     "data": {
      "text/plain": [
       "count    292390.000000\n",
       "mean       2002.747307\n",
       "std           5.599844\n",
       "min        1981.000000\n",
       "25%        1999.000000\n",
       "50%        2003.000000\n",
       "75%        2007.000000\n",
       "max        2015.000000\n",
       "Name: registration_year, dtype: float64"
      ]
     },
     "execution_count": 37,
     "metadata": {},
     "output_type": "execute_result"
    }
   ],
   "source": [
    "autos.registration_year.describe()"
   ]
  },
  {
   "cell_type": "markdown",
   "metadata": {},
   "source": [
    "**Вывод по разделу:** успешно провели предобработку и исследовательский анализ данных. Удалили лишние аномалии, обработали пропуски, выявили явные и неявные дубликаты."
   ]
  },
  {
   "cell_type": "markdown",
   "metadata": {},
   "source": [
    "## Обучение моделей"
   ]
  },
  {
   "cell_type": "code",
   "execution_count": 38,
   "metadata": {},
   "outputs": [
    {
     "data": {
      "text/html": [
       "<div>\n",
       "<style scoped>\n",
       "    .dataframe tbody tr th:only-of-type {\n",
       "        vertical-align: middle;\n",
       "    }\n",
       "\n",
       "    .dataframe tbody tr th {\n",
       "        vertical-align: top;\n",
       "    }\n",
       "\n",
       "    .dataframe thead th {\n",
       "        text-align: right;\n",
       "    }\n",
       "</style>\n",
       "<table border=\"1\" class=\"dataframe\">\n",
       "  <thead>\n",
       "    <tr style=\"text-align: right;\">\n",
       "      <th></th>\n",
       "      <th>date_crawled</th>\n",
       "      <th>price</th>\n",
       "      <th>vehicle_type</th>\n",
       "      <th>registration_year</th>\n",
       "      <th>gearbox</th>\n",
       "      <th>power</th>\n",
       "      <th>model</th>\n",
       "      <th>kilometer</th>\n",
       "      <th>registration_month</th>\n",
       "      <th>fuel_type</th>\n",
       "      <th>brand</th>\n",
       "      <th>repaired</th>\n",
       "      <th>date_created</th>\n",
       "      <th>number_of_pictures</th>\n",
       "      <th>postal_code</th>\n",
       "      <th>last_seen</th>\n",
       "    </tr>\n",
       "  </thead>\n",
       "  <tbody>\n",
       "    <tr>\n",
       "      <th>1</th>\n",
       "      <td>2016-03-24 10:58:45</td>\n",
       "      <td>18300</td>\n",
       "      <td>coupe</td>\n",
       "      <td>2011</td>\n",
       "      <td>manual</td>\n",
       "      <td>190</td>\n",
       "      <td>unknown</td>\n",
       "      <td>125000</td>\n",
       "      <td>5</td>\n",
       "      <td>gasoline</td>\n",
       "      <td>audi</td>\n",
       "      <td>yes</td>\n",
       "      <td>2016-03-24</td>\n",
       "      <td>0</td>\n",
       "      <td>66954</td>\n",
       "      <td>2016-04-07 01:46:50</td>\n",
       "    </tr>\n",
       "    <tr>\n",
       "      <th>2</th>\n",
       "      <td>2016-03-14 12:52:21</td>\n",
       "      <td>9800</td>\n",
       "      <td>suv</td>\n",
       "      <td>2004</td>\n",
       "      <td>auto</td>\n",
       "      <td>163</td>\n",
       "      <td>grand</td>\n",
       "      <td>125000</td>\n",
       "      <td>8</td>\n",
       "      <td>gasoline</td>\n",
       "      <td>jeep</td>\n",
       "      <td>unknown</td>\n",
       "      <td>2016-03-14</td>\n",
       "      <td>0</td>\n",
       "      <td>90480</td>\n",
       "      <td>2016-04-05 12:47:46</td>\n",
       "    </tr>\n",
       "  </tbody>\n",
       "</table>\n",
       "</div>"
      ],
      "text/plain": [
       "         date_crawled  price vehicle_type  registration_year gearbox  power  \\\n",
       "1 2016-03-24 10:58:45  18300        coupe               2011  manual    190   \n",
       "2 2016-03-14 12:52:21   9800          suv               2004    auto    163   \n",
       "\n",
       "     model  kilometer  registration_month fuel_type brand repaired  \\\n",
       "1  unknown     125000                   5  gasoline  audi      yes   \n",
       "2    grand     125000                   8  gasoline  jeep  unknown   \n",
       "\n",
       "  date_created  number_of_pictures  postal_code           last_seen  \n",
       "1   2016-03-24                   0        66954 2016-04-07 01:46:50  \n",
       "2   2016-03-14                   0        90480 2016-04-05 12:47:46  "
      ]
     },
     "execution_count": 38,
     "metadata": {},
     "output_type": "execute_result"
    }
   ],
   "source": [
    "#выведем повторно таблицу для удобства\n",
    "autos.head(2)"
   ]
  },
  {
   "cell_type": "code",
   "execution_count": 39,
   "metadata": {},
   "outputs": [],
   "source": [
    "#подготовим пайплайн\n",
    "#построим модели и проверим их гиперпараметры с помощью пайплайна на тренировочной выборке\n",
    "\n",
    "RANDOM_STATE = 42\n",
    "\n",
    "X = autos.drop(['price', 'registration_month', 'number_of_pictures', 'date_crawled', 'date_created', 'last_seen', 'postal_code', 'brand'], axis=1)\n",
    "y = autos['price']\n",
    "\n",
    "X_train, X_test, y_train, y_test = train_test_split(X, y, test_size=0.2, random_state=42)"
   ]
  },
  {
   "cell_type": "code",
   "execution_count": 40,
   "metadata": {},
   "outputs": [],
   "source": [
    "#выделем колонки для кодирования столбцов\n",
    "ohe_columns = ['vehicle_type', 'gearbox', 'model', 'fuel_type', 'repaired']\n",
    "\n",
    "num_columns = ['registration_year', 'power', 'kilometer']"
   ]
  },
  {
   "cell_type": "code",
   "execution_count": 41,
   "metadata": {},
   "outputs": [],
   "source": [
    "# создаём пайплайн для подготовки признаков из списка ohe_columns: OHE-кодирование\n",
    "ohe_pipe = Pipeline(\n",
    "    [\n",
    "    ('simpleImputer_ohe', SimpleImputer(missing_values=np.nan, strategy='most_frequent')),\n",
    "    ('ohe', OneHotEncoder(drop='first', handle_unknown='ignore', sparse_output=False)),\n",
    "    ]\n",
    "    )"
   ]
  },
  {
   "cell_type": "code",
   "execution_count": 42,
   "metadata": {},
   "outputs": [],
   "source": [
    "# создаём общий пайплайн для подготовки данных\n",
    "data_preprocessor = ColumnTransformer(\n",
    "    [('ohe', ohe_pipe, ohe_columns),\n",
    "     ('num', MinMaxScaler(), num_columns)\n",
    "    ], \n",
    "    remainder='passthrough'\n",
    ")"
   ]
  },
  {
   "cell_type": "code",
   "execution_count": 43,
   "metadata": {},
   "outputs": [],
   "source": [
    "# создаём итоговый пайплайн: подготовка данных и модель\n",
    "pipe_final= Pipeline([\n",
    "    ('preprocessor', data_preprocessor),\n",
    "    ('models', LinearRegression())\n",
    "])\n",
    "\n"
   ]
  },
  {
   "cell_type": "code",
   "execution_count": 44,
   "metadata": {},
   "outputs": [],
   "source": [
    "param_random = [\n",
    "    # словарь для модели LGBMRegressor()\n",
    "      {\n",
    "        'models': [lgb.LGBMRegressor(random_state=RANDOM_STATE)],\n",
    "        'models__max_depth': [None, 10],\n",
    "        'models__min_data_in_leaf': [1, 5],  # Пример настройки параметра\n",
    "        'preprocessor__num': [MinMaxScaler(), 'passthrough']\n",
    "    },\n",
    "        # словарь для модели LinearRegression()\n",
    "     {\n",
    "        'models': [LinearRegression()],\n",
    "        'preprocessor__num': [MinMaxScaler(), 'passthrough']\n",
    "    }\n",
    "]\n"
   ]
  },
  {
   "cell_type": "code",
   "execution_count": 45,
   "metadata": {},
   "outputs": [],
   "source": [
    "# Сначала определим функцию, которая вычисляет RMSE\n",
    "def rmse(y_true, y_pred):\n",
    "    return np.sqrt(mean_squared_error(y_true, y_pred))\n",
    "\n",
    "# Теперь создаем scorer объект.\n",
    "# greater_is_better=False указывает, что чем МЕНЬШЕ значение, тем лучше.\n",
    "rmse_scorer = make_scorer(rmse, greater_is_better=False)"
   ]
  },
  {
   "cell_type": "code",
   "execution_count": 46,
   "metadata": {},
   "outputs": [
    {
     "name": "stderr",
     "output_type": "stream",
     "text": [
      "/opt/conda/lib/python3.9/site-packages/sklearn/utils/deprecation.py:151: FutureWarning: 'force_all_finite' was renamed to 'ensure_all_finite' in 1.6 and will be removed in 1.8.\n",
      "  warnings.warn(\n"
     ]
    },
    {
     "name": "stdout",
     "output_type": "stream",
     "text": [
      "[LightGBM] [Warning] min_data_in_leaf is set=1, min_child_samples=20 will be ignored. Current value: min_data_in_leaf=1\n"
     ]
    },
    {
     "name": "stderr",
     "output_type": "stream",
     "text": [
      "/opt/conda/lib/python3.9/site-packages/sklearn/utils/deprecation.py:151: FutureWarning: 'force_all_finite' was renamed to 'ensure_all_finite' in 1.6 and will be removed in 1.8.\n",
      "  warnings.warn(\n",
      "/opt/conda/lib/python3.9/site-packages/sklearn/utils/deprecation.py:151: FutureWarning: 'force_all_finite' was renamed to 'ensure_all_finite' in 1.6 and will be removed in 1.8.\n",
      "  warnings.warn(\n"
     ]
    },
    {
     "name": "stdout",
     "output_type": "stream",
     "text": [
      "[LightGBM] [Warning] min_data_in_leaf is set=1, min_child_samples=20 will be ignored. Current value: min_data_in_leaf=1\n"
     ]
    },
    {
     "name": "stderr",
     "output_type": "stream",
     "text": [
      "/opt/conda/lib/python3.9/site-packages/sklearn/utils/deprecation.py:151: FutureWarning: 'force_all_finite' was renamed to 'ensure_all_finite' in 1.6 and will be removed in 1.8.\n",
      "  warnings.warn(\n",
      "/opt/conda/lib/python3.9/site-packages/sklearn/utils/deprecation.py:151: FutureWarning: 'force_all_finite' was renamed to 'ensure_all_finite' in 1.6 and will be removed in 1.8.\n",
      "  warnings.warn(\n"
     ]
    },
    {
     "name": "stdout",
     "output_type": "stream",
     "text": [
      "[LightGBM] [Warning] min_data_in_leaf is set=1, min_child_samples=20 will be ignored. Current value: min_data_in_leaf=1\n"
     ]
    },
    {
     "name": "stderr",
     "output_type": "stream",
     "text": [
      "/opt/conda/lib/python3.9/site-packages/sklearn/utils/deprecation.py:151: FutureWarning: 'force_all_finite' was renamed to 'ensure_all_finite' in 1.6 and will be removed in 1.8.\n",
      "  warnings.warn(\n",
      "/opt/conda/lib/python3.9/site-packages/sklearn/utils/deprecation.py:151: FutureWarning: 'force_all_finite' was renamed to 'ensure_all_finite' in 1.6 and will be removed in 1.8.\n",
      "  warnings.warn(\n"
     ]
    },
    {
     "name": "stdout",
     "output_type": "stream",
     "text": [
      "[LightGBM] [Warning] min_data_in_leaf is set=1, min_child_samples=20 will be ignored. Current value: min_data_in_leaf=1\n"
     ]
    },
    {
     "name": "stderr",
     "output_type": "stream",
     "text": [
      "/opt/conda/lib/python3.9/site-packages/sklearn/utils/deprecation.py:151: FutureWarning: 'force_all_finite' was renamed to 'ensure_all_finite' in 1.6 and will be removed in 1.8.\n",
      "  warnings.warn(\n",
      "/opt/conda/lib/python3.9/site-packages/sklearn/utils/deprecation.py:151: FutureWarning: 'force_all_finite' was renamed to 'ensure_all_finite' in 1.6 and will be removed in 1.8.\n",
      "  warnings.warn(\n"
     ]
    },
    {
     "name": "stdout",
     "output_type": "stream",
     "text": [
      "[LightGBM] [Warning] min_data_in_leaf is set=1, min_child_samples=20 will be ignored. Current value: min_data_in_leaf=1\n"
     ]
    },
    {
     "name": "stderr",
     "output_type": "stream",
     "text": [
      "/opt/conda/lib/python3.9/site-packages/sklearn/utils/deprecation.py:151: FutureWarning: 'force_all_finite' was renamed to 'ensure_all_finite' in 1.6 and will be removed in 1.8.\n",
      "  warnings.warn(\n",
      "/opt/conda/lib/python3.9/site-packages/sklearn/utils/deprecation.py:151: FutureWarning: 'force_all_finite' was renamed to 'ensure_all_finite' in 1.6 and will be removed in 1.8.\n",
      "  warnings.warn(\n"
     ]
    },
    {
     "name": "stdout",
     "output_type": "stream",
     "text": [
      "[LightGBM] [Warning] min_data_in_leaf is set=1, min_child_samples=20 will be ignored. Current value: min_data_in_leaf=1\n"
     ]
    },
    {
     "name": "stderr",
     "output_type": "stream",
     "text": [
      "/opt/conda/lib/python3.9/site-packages/sklearn/utils/deprecation.py:151: FutureWarning: 'force_all_finite' was renamed to 'ensure_all_finite' in 1.6 and will be removed in 1.8.\n",
      "  warnings.warn(\n",
      "/opt/conda/lib/python3.9/site-packages/sklearn/utils/deprecation.py:151: FutureWarning: 'force_all_finite' was renamed to 'ensure_all_finite' in 1.6 and will be removed in 1.8.\n",
      "  warnings.warn(\n"
     ]
    },
    {
     "name": "stdout",
     "output_type": "stream",
     "text": [
      "[LightGBM] [Warning] min_data_in_leaf is set=1, min_child_samples=20 will be ignored. Current value: min_data_in_leaf=1\n"
     ]
    },
    {
     "name": "stderr",
     "output_type": "stream",
     "text": [
      "/opt/conda/lib/python3.9/site-packages/sklearn/utils/deprecation.py:151: FutureWarning: 'force_all_finite' was renamed to 'ensure_all_finite' in 1.6 and will be removed in 1.8.\n",
      "  warnings.warn(\n",
      "/opt/conda/lib/python3.9/site-packages/sklearn/utils/deprecation.py:151: FutureWarning: 'force_all_finite' was renamed to 'ensure_all_finite' in 1.6 and will be removed in 1.8.\n",
      "  warnings.warn(\n"
     ]
    },
    {
     "name": "stdout",
     "output_type": "stream",
     "text": [
      "[LightGBM] [Warning] min_data_in_leaf is set=1, min_child_samples=20 will be ignored. Current value: min_data_in_leaf=1\n"
     ]
    },
    {
     "name": "stderr",
     "output_type": "stream",
     "text": [
      "/opt/conda/lib/python3.9/site-packages/sklearn/utils/deprecation.py:151: FutureWarning: 'force_all_finite' was renamed to 'ensure_all_finite' in 1.6 and will be removed in 1.8.\n",
      "  warnings.warn(\n",
      "/opt/conda/lib/python3.9/site-packages/sklearn/utils/deprecation.py:151: FutureWarning: 'force_all_finite' was renamed to 'ensure_all_finite' in 1.6 and will be removed in 1.8.\n",
      "  warnings.warn(\n"
     ]
    },
    {
     "name": "stdout",
     "output_type": "stream",
     "text": [
      "[LightGBM] [Warning] min_data_in_leaf is set=1, min_child_samples=20 will be ignored. Current value: min_data_in_leaf=1\n"
     ]
    },
    {
     "name": "stderr",
     "output_type": "stream",
     "text": [
      "/opt/conda/lib/python3.9/site-packages/sklearn/utils/deprecation.py:151: FutureWarning: 'force_all_finite' was renamed to 'ensure_all_finite' in 1.6 and will be removed in 1.8.\n",
      "  warnings.warn(\n",
      "/opt/conda/lib/python3.9/site-packages/sklearn/utils/deprecation.py:151: FutureWarning: 'force_all_finite' was renamed to 'ensure_all_finite' in 1.6 and will be removed in 1.8.\n",
      "  warnings.warn(\n"
     ]
    },
    {
     "name": "stdout",
     "output_type": "stream",
     "text": [
      "[LightGBM] [Warning] min_data_in_leaf is set=1, min_child_samples=20 will be ignored. Current value: min_data_in_leaf=1\n"
     ]
    },
    {
     "name": "stderr",
     "output_type": "stream",
     "text": [
      "/opt/conda/lib/python3.9/site-packages/sklearn/utils/deprecation.py:151: FutureWarning: 'force_all_finite' was renamed to 'ensure_all_finite' in 1.6 and will be removed in 1.8.\n",
      "  warnings.warn(\n",
      "/opt/conda/lib/python3.9/site-packages/sklearn/utils/deprecation.py:151: FutureWarning: 'force_all_finite' was renamed to 'ensure_all_finite' in 1.6 and will be removed in 1.8.\n",
      "  warnings.warn(\n"
     ]
    },
    {
     "name": "stdout",
     "output_type": "stream",
     "text": [
      "[LightGBM] [Warning] min_data_in_leaf is set=1, min_child_samples=20 will be ignored. Current value: min_data_in_leaf=1\n"
     ]
    },
    {
     "name": "stderr",
     "output_type": "stream",
     "text": [
      "/opt/conda/lib/python3.9/site-packages/sklearn/utils/deprecation.py:151: FutureWarning: 'force_all_finite' was renamed to 'ensure_all_finite' in 1.6 and will be removed in 1.8.\n",
      "  warnings.warn(\n",
      "/opt/conda/lib/python3.9/site-packages/sklearn/utils/deprecation.py:151: FutureWarning: 'force_all_finite' was renamed to 'ensure_all_finite' in 1.6 and will be removed in 1.8.\n",
      "  warnings.warn(\n"
     ]
    },
    {
     "name": "stdout",
     "output_type": "stream",
     "text": [
      "[LightGBM] [Warning] min_data_in_leaf is set=1, min_child_samples=20 will be ignored. Current value: min_data_in_leaf=1\n"
     ]
    },
    {
     "name": "stderr",
     "output_type": "stream",
     "text": [
      "/opt/conda/lib/python3.9/site-packages/sklearn/utils/deprecation.py:151: FutureWarning: 'force_all_finite' was renamed to 'ensure_all_finite' in 1.6 and will be removed in 1.8.\n",
      "  warnings.warn(\n",
      "/opt/conda/lib/python3.9/site-packages/sklearn/utils/deprecation.py:151: FutureWarning: 'force_all_finite' was renamed to 'ensure_all_finite' in 1.6 and will be removed in 1.8.\n",
      "  warnings.warn(\n"
     ]
    },
    {
     "name": "stdout",
     "output_type": "stream",
     "text": [
      "[LightGBM] [Warning] min_data_in_leaf is set=1, min_child_samples=20 will be ignored. Current value: min_data_in_leaf=1\n"
     ]
    },
    {
     "name": "stderr",
     "output_type": "stream",
     "text": [
      "/opt/conda/lib/python3.9/site-packages/sklearn/utils/deprecation.py:151: FutureWarning: 'force_all_finite' was renamed to 'ensure_all_finite' in 1.6 and will be removed in 1.8.\n",
      "  warnings.warn(\n",
      "/opt/conda/lib/python3.9/site-packages/sklearn/utils/deprecation.py:151: FutureWarning: 'force_all_finite' was renamed to 'ensure_all_finite' in 1.6 and will be removed in 1.8.\n",
      "  warnings.warn(\n"
     ]
    },
    {
     "name": "stdout",
     "output_type": "stream",
     "text": [
      "[LightGBM] [Warning] min_data_in_leaf is set=1, min_child_samples=20 will be ignored. Current value: min_data_in_leaf=1\n"
     ]
    },
    {
     "name": "stderr",
     "output_type": "stream",
     "text": [
      "/opt/conda/lib/python3.9/site-packages/sklearn/utils/deprecation.py:151: FutureWarning: 'force_all_finite' was renamed to 'ensure_all_finite' in 1.6 and will be removed in 1.8.\n",
      "  warnings.warn(\n",
      "/opt/conda/lib/python3.9/site-packages/sklearn/utils/deprecation.py:151: FutureWarning: 'force_all_finite' was renamed to 'ensure_all_finite' in 1.6 and will be removed in 1.8.\n",
      "  warnings.warn(\n"
     ]
    },
    {
     "name": "stdout",
     "output_type": "stream",
     "text": [
      "[LightGBM] [Warning] min_data_in_leaf is set=1, min_child_samples=20 will be ignored. Current value: min_data_in_leaf=1\n"
     ]
    },
    {
     "name": "stderr",
     "output_type": "stream",
     "text": [
      "/opt/conda/lib/python3.9/site-packages/sklearn/utils/deprecation.py:151: FutureWarning: 'force_all_finite' was renamed to 'ensure_all_finite' in 1.6 and will be removed in 1.8.\n",
      "  warnings.warn(\n",
      "/opt/conda/lib/python3.9/site-packages/sklearn/utils/deprecation.py:151: FutureWarning: 'force_all_finite' was renamed to 'ensure_all_finite' in 1.6 and will be removed in 1.8.\n",
      "  warnings.warn(\n"
     ]
    },
    {
     "name": "stdout",
     "output_type": "stream",
     "text": [
      "[LightGBM] [Warning] min_data_in_leaf is set=5, min_child_samples=20 will be ignored. Current value: min_data_in_leaf=5\n"
     ]
    },
    {
     "name": "stderr",
     "output_type": "stream",
     "text": [
      "/opt/conda/lib/python3.9/site-packages/sklearn/utils/deprecation.py:151: FutureWarning: 'force_all_finite' was renamed to 'ensure_all_finite' in 1.6 and will be removed in 1.8.\n",
      "  warnings.warn(\n",
      "/opt/conda/lib/python3.9/site-packages/sklearn/utils/deprecation.py:151: FutureWarning: 'force_all_finite' was renamed to 'ensure_all_finite' in 1.6 and will be removed in 1.8.\n",
      "  warnings.warn(\n"
     ]
    },
    {
     "name": "stdout",
     "output_type": "stream",
     "text": [
      "[LightGBM] [Warning] min_data_in_leaf is set=5, min_child_samples=20 will be ignored. Current value: min_data_in_leaf=5\n"
     ]
    },
    {
     "name": "stderr",
     "output_type": "stream",
     "text": [
      "/opt/conda/lib/python3.9/site-packages/sklearn/utils/deprecation.py:151: FutureWarning: 'force_all_finite' was renamed to 'ensure_all_finite' in 1.6 and will be removed in 1.8.\n",
      "  warnings.warn(\n",
      "/opt/conda/lib/python3.9/site-packages/sklearn/utils/deprecation.py:151: FutureWarning: 'force_all_finite' was renamed to 'ensure_all_finite' in 1.6 and will be removed in 1.8.\n",
      "  warnings.warn(\n"
     ]
    },
    {
     "name": "stdout",
     "output_type": "stream",
     "text": [
      "[LightGBM] [Warning] min_data_in_leaf is set=5, min_child_samples=20 will be ignored. Current value: min_data_in_leaf=5\n"
     ]
    },
    {
     "name": "stderr",
     "output_type": "stream",
     "text": [
      "/opt/conda/lib/python3.9/site-packages/sklearn/utils/deprecation.py:151: FutureWarning: 'force_all_finite' was renamed to 'ensure_all_finite' in 1.6 and will be removed in 1.8.\n",
      "  warnings.warn(\n",
      "/opt/conda/lib/python3.9/site-packages/sklearn/utils/deprecation.py:151: FutureWarning: 'force_all_finite' was renamed to 'ensure_all_finite' in 1.6 and will be removed in 1.8.\n",
      "  warnings.warn(\n"
     ]
    },
    {
     "name": "stdout",
     "output_type": "stream",
     "text": [
      "[LightGBM] [Warning] min_data_in_leaf is set=5, min_child_samples=20 will be ignored. Current value: min_data_in_leaf=5\n"
     ]
    },
    {
     "name": "stderr",
     "output_type": "stream",
     "text": [
      "/opt/conda/lib/python3.9/site-packages/sklearn/utils/deprecation.py:151: FutureWarning: 'force_all_finite' was renamed to 'ensure_all_finite' in 1.6 and will be removed in 1.8.\n",
      "  warnings.warn(\n",
      "/opt/conda/lib/python3.9/site-packages/sklearn/utils/deprecation.py:151: FutureWarning: 'force_all_finite' was renamed to 'ensure_all_finite' in 1.6 and will be removed in 1.8.\n",
      "  warnings.warn(\n"
     ]
    },
    {
     "name": "stdout",
     "output_type": "stream",
     "text": [
      "[LightGBM] [Warning] min_data_in_leaf is set=5, min_child_samples=20 will be ignored. Current value: min_data_in_leaf=5\n"
     ]
    },
    {
     "name": "stderr",
     "output_type": "stream",
     "text": [
      "/opt/conda/lib/python3.9/site-packages/sklearn/utils/deprecation.py:151: FutureWarning: 'force_all_finite' was renamed to 'ensure_all_finite' in 1.6 and will be removed in 1.8.\n",
      "  warnings.warn(\n",
      "/opt/conda/lib/python3.9/site-packages/sklearn/utils/deprecation.py:151: FutureWarning: 'force_all_finite' was renamed to 'ensure_all_finite' in 1.6 and will be removed in 1.8.\n",
      "  warnings.warn(\n"
     ]
    },
    {
     "name": "stdout",
     "output_type": "stream",
     "text": [
      "[LightGBM] [Warning] min_data_in_leaf is set=1, min_child_samples=20 will be ignored. Current value: min_data_in_leaf=1\n",
      "Лучшая модель и её параметры Pipeline(steps=[('preprocessor',\n",
      "                 ColumnTransformer(remainder='passthrough',\n",
      "                                   transformers=[('ohe',\n",
      "                                                  Pipeline(steps=[('simpleImputer_ohe',\n",
      "                                                                   SimpleImputer(strategy='most_frequent')),\n",
      "                                                                  ('ohe',\n",
      "                                                                   OneHotEncoder(drop='first',\n",
      "                                                                                 handle_unknown='ignore',\n",
      "                                                                                 sparse_output=False))]),\n",
      "                                                  ['vehicle_type', 'gearbox',\n",
      "                                                   'model', 'fuel_type',\n",
      "                                                   'repaired']),\n",
      "                                                 ('num', MinMaxScaler(),\n",
      "                                                  ['registration_year', 'power',\n",
      "                                                   'kilometer'])])),\n",
      "                ('models',\n",
      "                 LGBMRegressor(max_depth=None, min_data_in_leaf=1,\n",
      "                               random_state=42))])\n",
      "Метрика лучшей модели на кросс-валидации: -1749.8531825436287\n",
      "Общее время обучения: 220.73 секунд\n"
     ]
    }
   ],
   "source": [
    "# Засекаем общее время\n",
    "start_time = time.time()\n",
    "\n",
    "randomized_search = RandomizedSearchCV(\n",
    "    pipe_final, \n",
    "    param_random, \n",
    "    cv=5,\n",
    "    n_iter = 5,\n",
    "    scoring = rmse_scorer,\n",
    "    random_state=RANDOM_STATE,\n",
    "    n_jobs=-1\n",
    ")\n",
    "\n",
    "randomized_search.fit(X_train, y_train)\n",
    "print('Лучшая модель и её параметры', randomized_search.best_estimator_)\n",
    "print ('Метрика лучшей модели на кросс-валидации:', randomized_search.best_score_)\n",
    "\n",
    "end_time = time.time()\n",
    "total_time = end_time - start_time\n",
    "print(f\"Общее время обучения: {total_time:.2f} секунд\")"
   ]
  },
  {
   "cell_type": "markdown",
   "metadata": {},
   "source": [
    "**Промежуточный вывод:** Обучили разные модели, одна из которых — LightGBM, как минимум одна — не бустинг. Для каждой модели попробовали разные гиперпараметры.\n",
    "Проанализировали время обучения."
   ]
  },
  {
   "cell_type": "code",
   "execution_count": 47,
   "metadata": {},
   "outputs": [],
   "source": [
    "result = pd.DataFrame(randomized_search.cv_results_)"
   ]
  },
  {
   "cell_type": "code",
   "execution_count": 48,
   "metadata": {},
   "outputs": [
    {
     "data": {
      "text/html": [
       "<div>\n",
       "<style scoped>\n",
       "    .dataframe tbody tr th:only-of-type {\n",
       "        vertical-align: middle;\n",
       "    }\n",
       "\n",
       "    .dataframe tbody tr th {\n",
       "        vertical-align: top;\n",
       "    }\n",
       "\n",
       "    .dataframe thead th {\n",
       "        text-align: right;\n",
       "    }\n",
       "</style>\n",
       "<table border=\"1\" class=\"dataframe\">\n",
       "  <thead>\n",
       "    <tr style=\"text-align: right;\">\n",
       "      <th></th>\n",
       "      <th>mean_fit_time</th>\n",
       "      <th>param_models</th>\n",
       "      <th>param_models__min_data_in_leaf</th>\n",
       "      <th>param_models__max_depth</th>\n",
       "      <th>mean_test_score</th>\n",
       "    </tr>\n",
       "  </thead>\n",
       "  <tbody>\n",
       "    <tr>\n",
       "      <th>0</th>\n",
       "      <td>14.105566</td>\n",
       "      <td>LinearRegression()</td>\n",
       "      <td>NaN</td>\n",
       "      <td>NaN</td>\n",
       "      <td>-2434.285066</td>\n",
       "    </tr>\n",
       "    <tr>\n",
       "      <th>1</th>\n",
       "      <td>6.272558</td>\n",
       "      <td>LGBMRegressor(random_state=42)</td>\n",
       "      <td>1.0</td>\n",
       "      <td>None</td>\n",
       "      <td>-1750.783846</td>\n",
       "    </tr>\n",
       "    <tr>\n",
       "      <th>2</th>\n",
       "      <td>5.596758</td>\n",
       "      <td>LGBMRegressor(random_state=42)</td>\n",
       "      <td>1.0</td>\n",
       "      <td>10</td>\n",
       "      <td>-1768.374373</td>\n",
       "    </tr>\n",
       "    <tr>\n",
       "      <th>3</th>\n",
       "      <td>6.053037</td>\n",
       "      <td>LGBMRegressor(random_state=42)</td>\n",
       "      <td>1.0</td>\n",
       "      <td>None</td>\n",
       "      <td>-1749.853183</td>\n",
       "    </tr>\n",
       "    <tr>\n",
       "      <th>4</th>\n",
       "      <td>7.472896</td>\n",
       "      <td>LGBMRegressor(random_state=42)</td>\n",
       "      <td>5.0</td>\n",
       "      <td>10</td>\n",
       "      <td>-1766.304425</td>\n",
       "    </tr>\n",
       "  </tbody>\n",
       "</table>\n",
       "</div>"
      ],
      "text/plain": [
       "   mean_fit_time                    param_models  \\\n",
       "0      14.105566              LinearRegression()   \n",
       "1       6.272558  LGBMRegressor(random_state=42)   \n",
       "2       5.596758  LGBMRegressor(random_state=42)   \n",
       "3       6.053037  LGBMRegressor(random_state=42)   \n",
       "4       7.472896  LGBMRegressor(random_state=42)   \n",
       "\n",
       "   param_models__min_data_in_leaf param_models__max_depth  mean_test_score  \n",
       "0                             NaN                     NaN     -2434.285066  \n",
       "1                             1.0                    None     -1750.783846  \n",
       "2                             1.0                      10     -1768.374373  \n",
       "3                             1.0                    None     -1749.853183  \n",
       "4                             5.0                      10     -1766.304425  "
      ]
     },
     "execution_count": 48,
     "metadata": {},
     "output_type": "execute_result"
    }
   ],
   "source": [
    "result[['mean_fit_time', 'param_models', 'param_models__min_data_in_leaf', 'param_models__max_depth', 'mean_test_score']]"
   ]
  },
  {
   "cell_type": "markdown",
   "metadata": {},
   "source": [
    "**Вывод по разделу:** успешно обучили модель на различных гиперпараметрах. Посмотрели результаты по каждой модели. Лучшая модель - LGBMRegressor(max_depth=None, min_data_in_leaf=1,\n",
    "                               random_state=42)) как по времени обучения, так и по качеству."
   ]
  },
  {
   "cell_type": "markdown",
   "metadata": {},
   "source": [
    "## Анализ моделей"
   ]
  },
  {
   "cell_type": "code",
   "execution_count": 49,
   "metadata": {},
   "outputs": [
    {
     "name": "stderr",
     "output_type": "stream",
     "text": [
      "/opt/conda/lib/python3.9/site-packages/sklearn/preprocessing/_encoders.py:246: UserWarning: Found unknown categories in columns [2] during transform. These unknown categories will be encoded as all zeros\n",
      "  warnings.warn(\n"
     ]
    },
    {
     "data": {
      "text/html": [
       "<style>#sk-container-id-1 {\n",
       "  /* Definition of color scheme common for light and dark mode */\n",
       "  --sklearn-color-text: #000;\n",
       "  --sklearn-color-text-muted: #666;\n",
       "  --sklearn-color-line: gray;\n",
       "  /* Definition of color scheme for unfitted estimators */\n",
       "  --sklearn-color-unfitted-level-0: #fff5e6;\n",
       "  --sklearn-color-unfitted-level-1: #f6e4d2;\n",
       "  --sklearn-color-unfitted-level-2: #ffe0b3;\n",
       "  --sklearn-color-unfitted-level-3: chocolate;\n",
       "  /* Definition of color scheme for fitted estimators */\n",
       "  --sklearn-color-fitted-level-0: #f0f8ff;\n",
       "  --sklearn-color-fitted-level-1: #d4ebff;\n",
       "  --sklearn-color-fitted-level-2: #b3dbfd;\n",
       "  --sklearn-color-fitted-level-3: cornflowerblue;\n",
       "\n",
       "  /* Specific color for light theme */\n",
       "  --sklearn-color-text-on-default-background: var(--sg-text-color, var(--theme-code-foreground, var(--jp-content-font-color1, black)));\n",
       "  --sklearn-color-background: var(--sg-background-color, var(--theme-background, var(--jp-layout-color0, white)));\n",
       "  --sklearn-color-border-box: var(--sg-text-color, var(--theme-code-foreground, var(--jp-content-font-color1, black)));\n",
       "  --sklearn-color-icon: #696969;\n",
       "\n",
       "  @media (prefers-color-scheme: dark) {\n",
       "    /* Redefinition of color scheme for dark theme */\n",
       "    --sklearn-color-text-on-default-background: var(--sg-text-color, var(--theme-code-foreground, var(--jp-content-font-color1, white)));\n",
       "    --sklearn-color-background: var(--sg-background-color, var(--theme-background, var(--jp-layout-color0, #111)));\n",
       "    --sklearn-color-border-box: var(--sg-text-color, var(--theme-code-foreground, var(--jp-content-font-color1, white)));\n",
       "    --sklearn-color-icon: #878787;\n",
       "  }\n",
       "}\n",
       "\n",
       "#sk-container-id-1 {\n",
       "  color: var(--sklearn-color-text);\n",
       "}\n",
       "\n",
       "#sk-container-id-1 pre {\n",
       "  padding: 0;\n",
       "}\n",
       "\n",
       "#sk-container-id-1 input.sk-hidden--visually {\n",
       "  border: 0;\n",
       "  clip: rect(1px 1px 1px 1px);\n",
       "  clip: rect(1px, 1px, 1px, 1px);\n",
       "  height: 1px;\n",
       "  margin: -1px;\n",
       "  overflow: hidden;\n",
       "  padding: 0;\n",
       "  position: absolute;\n",
       "  width: 1px;\n",
       "}\n",
       "\n",
       "#sk-container-id-1 div.sk-dashed-wrapped {\n",
       "  border: 1px dashed var(--sklearn-color-line);\n",
       "  margin: 0 0.4em 0.5em 0.4em;\n",
       "  box-sizing: border-box;\n",
       "  padding-bottom: 0.4em;\n",
       "  background-color: var(--sklearn-color-background);\n",
       "}\n",
       "\n",
       "#sk-container-id-1 div.sk-container {\n",
       "  /* jupyter's `normalize.less` sets `[hidden] { display: none; }`\n",
       "     but bootstrap.min.css set `[hidden] { display: none !important; }`\n",
       "     so we also need the `!important` here to be able to override the\n",
       "     default hidden behavior on the sphinx rendered scikit-learn.org.\n",
       "     See: https://github.com/scikit-learn/scikit-learn/issues/21755 */\n",
       "  display: inline-block !important;\n",
       "  position: relative;\n",
       "}\n",
       "\n",
       "#sk-container-id-1 div.sk-text-repr-fallback {\n",
       "  display: none;\n",
       "}\n",
       "\n",
       "div.sk-parallel-item,\n",
       "div.sk-serial,\n",
       "div.sk-item {\n",
       "  /* draw centered vertical line to link estimators */\n",
       "  background-image: linear-gradient(var(--sklearn-color-text-on-default-background), var(--sklearn-color-text-on-default-background));\n",
       "  background-size: 2px 100%;\n",
       "  background-repeat: no-repeat;\n",
       "  background-position: center center;\n",
       "}\n",
       "\n",
       "/* Parallel-specific style estimator block */\n",
       "\n",
       "#sk-container-id-1 div.sk-parallel-item::after {\n",
       "  content: \"\";\n",
       "  width: 100%;\n",
       "  border-bottom: 2px solid var(--sklearn-color-text-on-default-background);\n",
       "  flex-grow: 1;\n",
       "}\n",
       "\n",
       "#sk-container-id-1 div.sk-parallel {\n",
       "  display: flex;\n",
       "  align-items: stretch;\n",
       "  justify-content: center;\n",
       "  background-color: var(--sklearn-color-background);\n",
       "  position: relative;\n",
       "}\n",
       "\n",
       "#sk-container-id-1 div.sk-parallel-item {\n",
       "  display: flex;\n",
       "  flex-direction: column;\n",
       "}\n",
       "\n",
       "#sk-container-id-1 div.sk-parallel-item:first-child::after {\n",
       "  align-self: flex-end;\n",
       "  width: 50%;\n",
       "}\n",
       "\n",
       "#sk-container-id-1 div.sk-parallel-item:last-child::after {\n",
       "  align-self: flex-start;\n",
       "  width: 50%;\n",
       "}\n",
       "\n",
       "#sk-container-id-1 div.sk-parallel-item:only-child::after {\n",
       "  width: 0;\n",
       "}\n",
       "\n",
       "/* Serial-specific style estimator block */\n",
       "\n",
       "#sk-container-id-1 div.sk-serial {\n",
       "  display: flex;\n",
       "  flex-direction: column;\n",
       "  align-items: center;\n",
       "  background-color: var(--sklearn-color-background);\n",
       "  padding-right: 1em;\n",
       "  padding-left: 1em;\n",
       "}\n",
       "\n",
       "\n",
       "/* Toggleable style: style used for estimator/Pipeline/ColumnTransformer box that is\n",
       "clickable and can be expanded/collapsed.\n",
       "- Pipeline and ColumnTransformer use this feature and define the default style\n",
       "- Estimators will overwrite some part of the style using the `sk-estimator` class\n",
       "*/\n",
       "\n",
       "/* Pipeline and ColumnTransformer style (default) */\n",
       "\n",
       "#sk-container-id-1 div.sk-toggleable {\n",
       "  /* Default theme specific background. It is overwritten whether we have a\n",
       "  specific estimator or a Pipeline/ColumnTransformer */\n",
       "  background-color: var(--sklearn-color-background);\n",
       "}\n",
       "\n",
       "/* Toggleable label */\n",
       "#sk-container-id-1 label.sk-toggleable__label {\n",
       "  cursor: pointer;\n",
       "  display: flex;\n",
       "  width: 100%;\n",
       "  margin-bottom: 0;\n",
       "  padding: 0.5em;\n",
       "  box-sizing: border-box;\n",
       "  text-align: center;\n",
       "  align-items: start;\n",
       "  justify-content: space-between;\n",
       "  gap: 0.5em;\n",
       "}\n",
       "\n",
       "#sk-container-id-1 label.sk-toggleable__label .caption {\n",
       "  font-size: 0.6rem;\n",
       "  font-weight: lighter;\n",
       "  color: var(--sklearn-color-text-muted);\n",
       "}\n",
       "\n",
       "#sk-container-id-1 label.sk-toggleable__label-arrow:before {\n",
       "  /* Arrow on the left of the label */\n",
       "  content: \"▸\";\n",
       "  float: left;\n",
       "  margin-right: 0.25em;\n",
       "  color: var(--sklearn-color-icon);\n",
       "}\n",
       "\n",
       "#sk-container-id-1 label.sk-toggleable__label-arrow:hover:before {\n",
       "  color: var(--sklearn-color-text);\n",
       "}\n",
       "\n",
       "/* Toggleable content - dropdown */\n",
       "\n",
       "#sk-container-id-1 div.sk-toggleable__content {\n",
       "  max-height: 0;\n",
       "  max-width: 0;\n",
       "  overflow: hidden;\n",
       "  text-align: left;\n",
       "  /* unfitted */\n",
       "  background-color: var(--sklearn-color-unfitted-level-0);\n",
       "}\n",
       "\n",
       "#sk-container-id-1 div.sk-toggleable__content.fitted {\n",
       "  /* fitted */\n",
       "  background-color: var(--sklearn-color-fitted-level-0);\n",
       "}\n",
       "\n",
       "#sk-container-id-1 div.sk-toggleable__content pre {\n",
       "  margin: 0.2em;\n",
       "  border-radius: 0.25em;\n",
       "  color: var(--sklearn-color-text);\n",
       "  /* unfitted */\n",
       "  background-color: var(--sklearn-color-unfitted-level-0);\n",
       "}\n",
       "\n",
       "#sk-container-id-1 div.sk-toggleable__content.fitted pre {\n",
       "  /* unfitted */\n",
       "  background-color: var(--sklearn-color-fitted-level-0);\n",
       "}\n",
       "\n",
       "#sk-container-id-1 input.sk-toggleable__control:checked~div.sk-toggleable__content {\n",
       "  /* Expand drop-down */\n",
       "  max-height: 200px;\n",
       "  max-width: 100%;\n",
       "  overflow: auto;\n",
       "}\n",
       "\n",
       "#sk-container-id-1 input.sk-toggleable__control:checked~label.sk-toggleable__label-arrow:before {\n",
       "  content: \"▾\";\n",
       "}\n",
       "\n",
       "/* Pipeline/ColumnTransformer-specific style */\n",
       "\n",
       "#sk-container-id-1 div.sk-label input.sk-toggleable__control:checked~label.sk-toggleable__label {\n",
       "  color: var(--sklearn-color-text);\n",
       "  background-color: var(--sklearn-color-unfitted-level-2);\n",
       "}\n",
       "\n",
       "#sk-container-id-1 div.sk-label.fitted input.sk-toggleable__control:checked~label.sk-toggleable__label {\n",
       "  background-color: var(--sklearn-color-fitted-level-2);\n",
       "}\n",
       "\n",
       "/* Estimator-specific style */\n",
       "\n",
       "/* Colorize estimator box */\n",
       "#sk-container-id-1 div.sk-estimator input.sk-toggleable__control:checked~label.sk-toggleable__label {\n",
       "  /* unfitted */\n",
       "  background-color: var(--sklearn-color-unfitted-level-2);\n",
       "}\n",
       "\n",
       "#sk-container-id-1 div.sk-estimator.fitted input.sk-toggleable__control:checked~label.sk-toggleable__label {\n",
       "  /* fitted */\n",
       "  background-color: var(--sklearn-color-fitted-level-2);\n",
       "}\n",
       "\n",
       "#sk-container-id-1 div.sk-label label.sk-toggleable__label,\n",
       "#sk-container-id-1 div.sk-label label {\n",
       "  /* The background is the default theme color */\n",
       "  color: var(--sklearn-color-text-on-default-background);\n",
       "}\n",
       "\n",
       "/* On hover, darken the color of the background */\n",
       "#sk-container-id-1 div.sk-label:hover label.sk-toggleable__label {\n",
       "  color: var(--sklearn-color-text);\n",
       "  background-color: var(--sklearn-color-unfitted-level-2);\n",
       "}\n",
       "\n",
       "/* Label box, darken color on hover, fitted */\n",
       "#sk-container-id-1 div.sk-label.fitted:hover label.sk-toggleable__label.fitted {\n",
       "  color: var(--sklearn-color-text);\n",
       "  background-color: var(--sklearn-color-fitted-level-2);\n",
       "}\n",
       "\n",
       "/* Estimator label */\n",
       "\n",
       "#sk-container-id-1 div.sk-label label {\n",
       "  font-family: monospace;\n",
       "  font-weight: bold;\n",
       "  display: inline-block;\n",
       "  line-height: 1.2em;\n",
       "}\n",
       "\n",
       "#sk-container-id-1 div.sk-label-container {\n",
       "  text-align: center;\n",
       "}\n",
       "\n",
       "/* Estimator-specific */\n",
       "#sk-container-id-1 div.sk-estimator {\n",
       "  font-family: monospace;\n",
       "  border: 1px dotted var(--sklearn-color-border-box);\n",
       "  border-radius: 0.25em;\n",
       "  box-sizing: border-box;\n",
       "  margin-bottom: 0.5em;\n",
       "  /* unfitted */\n",
       "  background-color: var(--sklearn-color-unfitted-level-0);\n",
       "}\n",
       "\n",
       "#sk-container-id-1 div.sk-estimator.fitted {\n",
       "  /* fitted */\n",
       "  background-color: var(--sklearn-color-fitted-level-0);\n",
       "}\n",
       "\n",
       "/* on hover */\n",
       "#sk-container-id-1 div.sk-estimator:hover {\n",
       "  /* unfitted */\n",
       "  background-color: var(--sklearn-color-unfitted-level-2);\n",
       "}\n",
       "\n",
       "#sk-container-id-1 div.sk-estimator.fitted:hover {\n",
       "  /* fitted */\n",
       "  background-color: var(--sklearn-color-fitted-level-2);\n",
       "}\n",
       "\n",
       "/* Specification for estimator info (e.g. \"i\" and \"?\") */\n",
       "\n",
       "/* Common style for \"i\" and \"?\" */\n",
       "\n",
       ".sk-estimator-doc-link,\n",
       "a:link.sk-estimator-doc-link,\n",
       "a:visited.sk-estimator-doc-link {\n",
       "  float: right;\n",
       "  font-size: smaller;\n",
       "  line-height: 1em;\n",
       "  font-family: monospace;\n",
       "  background-color: var(--sklearn-color-background);\n",
       "  border-radius: 1em;\n",
       "  height: 1em;\n",
       "  width: 1em;\n",
       "  text-decoration: none !important;\n",
       "  margin-left: 0.5em;\n",
       "  text-align: center;\n",
       "  /* unfitted */\n",
       "  border: var(--sklearn-color-unfitted-level-1) 1pt solid;\n",
       "  color: var(--sklearn-color-unfitted-level-1);\n",
       "}\n",
       "\n",
       ".sk-estimator-doc-link.fitted,\n",
       "a:link.sk-estimator-doc-link.fitted,\n",
       "a:visited.sk-estimator-doc-link.fitted {\n",
       "  /* fitted */\n",
       "  border: var(--sklearn-color-fitted-level-1) 1pt solid;\n",
       "  color: var(--sklearn-color-fitted-level-1);\n",
       "}\n",
       "\n",
       "/* On hover */\n",
       "div.sk-estimator:hover .sk-estimator-doc-link:hover,\n",
       ".sk-estimator-doc-link:hover,\n",
       "div.sk-label-container:hover .sk-estimator-doc-link:hover,\n",
       ".sk-estimator-doc-link:hover {\n",
       "  /* unfitted */\n",
       "  background-color: var(--sklearn-color-unfitted-level-3);\n",
       "  color: var(--sklearn-color-background);\n",
       "  text-decoration: none;\n",
       "}\n",
       "\n",
       "div.sk-estimator.fitted:hover .sk-estimator-doc-link.fitted:hover,\n",
       ".sk-estimator-doc-link.fitted:hover,\n",
       "div.sk-label-container:hover .sk-estimator-doc-link.fitted:hover,\n",
       ".sk-estimator-doc-link.fitted:hover {\n",
       "  /* fitted */\n",
       "  background-color: var(--sklearn-color-fitted-level-3);\n",
       "  color: var(--sklearn-color-background);\n",
       "  text-decoration: none;\n",
       "}\n",
       "\n",
       "/* Span, style for the box shown on hovering the info icon */\n",
       ".sk-estimator-doc-link span {\n",
       "  display: none;\n",
       "  z-index: 9999;\n",
       "  position: relative;\n",
       "  font-weight: normal;\n",
       "  right: .2ex;\n",
       "  padding: .5ex;\n",
       "  margin: .5ex;\n",
       "  width: min-content;\n",
       "  min-width: 20ex;\n",
       "  max-width: 50ex;\n",
       "  color: var(--sklearn-color-text);\n",
       "  box-shadow: 2pt 2pt 4pt #999;\n",
       "  /* unfitted */\n",
       "  background: var(--sklearn-color-unfitted-level-0);\n",
       "  border: .5pt solid var(--sklearn-color-unfitted-level-3);\n",
       "}\n",
       "\n",
       ".sk-estimator-doc-link.fitted span {\n",
       "  /* fitted */\n",
       "  background: var(--sklearn-color-fitted-level-0);\n",
       "  border: var(--sklearn-color-fitted-level-3);\n",
       "}\n",
       "\n",
       ".sk-estimator-doc-link:hover span {\n",
       "  display: block;\n",
       "}\n",
       "\n",
       "/* \"?\"-specific style due to the `<a>` HTML tag */\n",
       "\n",
       "#sk-container-id-1 a.estimator_doc_link {\n",
       "  float: right;\n",
       "  font-size: 1rem;\n",
       "  line-height: 1em;\n",
       "  font-family: monospace;\n",
       "  background-color: var(--sklearn-color-background);\n",
       "  border-radius: 1rem;\n",
       "  height: 1rem;\n",
       "  width: 1rem;\n",
       "  text-decoration: none;\n",
       "  /* unfitted */\n",
       "  color: var(--sklearn-color-unfitted-level-1);\n",
       "  border: var(--sklearn-color-unfitted-level-1) 1pt solid;\n",
       "}\n",
       "\n",
       "#sk-container-id-1 a.estimator_doc_link.fitted {\n",
       "  /* fitted */\n",
       "  border: var(--sklearn-color-fitted-level-1) 1pt solid;\n",
       "  color: var(--sklearn-color-fitted-level-1);\n",
       "}\n",
       "\n",
       "/* On hover */\n",
       "#sk-container-id-1 a.estimator_doc_link:hover {\n",
       "  /* unfitted */\n",
       "  background-color: var(--sklearn-color-unfitted-level-3);\n",
       "  color: var(--sklearn-color-background);\n",
       "  text-decoration: none;\n",
       "}\n",
       "\n",
       "#sk-container-id-1 a.estimator_doc_link.fitted:hover {\n",
       "  /* fitted */\n",
       "  background-color: var(--sklearn-color-fitted-level-3);\n",
       "}\n",
       "</style><div id=\"sk-container-id-1\" class=\"sk-top-container\"><div class=\"sk-text-repr-fallback\"><pre>LGBMRegressor(max_depth=None, min_data_in_leaf=1, random_state=42)</pre><b>In a Jupyter environment, please rerun this cell to show the HTML representation or trust the notebook. <br />On GitHub, the HTML representation is unable to render, please try loading this page with nbviewer.org.</b></div><div class=\"sk-container\" hidden><div class=\"sk-item\"><div class=\"sk-estimator fitted sk-toggleable\"><input class=\"sk-toggleable__control sk-hidden--visually\" id=\"sk-estimator-id-1\" type=\"checkbox\" checked><label for=\"sk-estimator-id-1\" class=\"sk-toggleable__label fitted sk-toggleable__label-arrow\"><div><div>LGBMRegressor</div></div><div><span class=\"sk-estimator-doc-link fitted\">i<span>Fitted</span></span></div></label><div class=\"sk-toggleable__content fitted\"><pre>LGBMRegressor(max_depth=None, min_data_in_leaf=1, random_state=42)</pre></div> </div></div></div></div>"
      ],
      "text/plain": [
       "LGBMRegressor(max_depth=None, min_data_in_leaf=1, random_state=42)"
      ]
     },
     "execution_count": 49,
     "metadata": {},
     "output_type": "execute_result"
    }
   ],
   "source": [
    "# извлекаем модель и трансформер из обученной модели\n",
    "model = randomized_search.best_estimator_.named_steps['models']\n",
    "pre = randomized_search.best_estimator_.named_steps['preprocessor']\n",
    "# трансформируем данные\n",
    "X_train_processed = pre.transform(X_train)\n",
    "X_test_processed  = pre.transform(X_test)\n",
    "# сохраняем признаков после всех трансформаций\n",
    "feature_names = pre.get_feature_names_out()\n",
    "X_train_df = pd.DataFrame(X_train_processed, columns=feature_names)\n",
    "X_test_df  = pd.DataFrame(X_test_processed,  columns=feature_names)\n",
    "\n",
    "model.fit(X_train_df, y_train)"
   ]
  },
  {
   "cell_type": "code",
   "execution_count": 50,
   "metadata": {},
   "outputs": [
    {
     "name": "stdout",
     "output_type": "stream",
     "text": [
      "Общее время предсказания: 0.80 секунд\n"
     ]
    }
   ],
   "source": [
    "# Засекаем общее время\n",
    "start_time = time.time()\n",
    "y_pred = model.predict(X_test_df)\n",
    "end_time = time.time()\n",
    "total_time = end_time - start_time\n",
    "print(f\"Общее время предсказания: {total_time:.2f} секунд\")"
   ]
  },
  {
   "cell_type": "code",
   "execution_count": 51,
   "metadata": {},
   "outputs": [],
   "source": [
    "y_test = y_test.to_numpy()"
   ]
  },
  {
   "cell_type": "code",
   "execution_count": 52,
   "metadata": {},
   "outputs": [
    {
     "name": "stdout",
     "output_type": "stream",
     "text": [
      "Метрика лучшей модели на тестовой выборке: 1740.4434653436235\n"
     ]
    }
   ],
   "source": [
    "scoring_best_model = rmse(y_test, y_pred)\n",
    "print('Метрика лучшей модели на тестовой выборке:', scoring_best_model)"
   ]
  },
  {
   "cell_type": "markdown",
   "metadata": {},
   "source": [
    "**Итоговый вывод:** Загрузили и подготовили данные, обучили разные модели, одна из которых — LightGBM, как минимум одна — не бустинг. Для каждой модели попробовали разные гиперпараметры.\n",
    "Проанализировали время обучения, время предсказания и качество моделей.\n",
    "Опираясь на критерии заказчика, выбрали лучшую модель, проверили её качество на тестовой выборке (менее 2500, что соответствует требованиям задачи)."
   ]
  },
  {
   "cell_type": "markdown",
   "metadata": {},
   "source": [
    "## Чек-лист проверки"
   ]
  },
  {
   "cell_type": "markdown",
   "metadata": {},
   "source": [
    "Поставьте 'x' в выполненных пунктах. Далее нажмите Shift+Enter."
   ]
  },
  {
   "cell_type": "markdown",
   "metadata": {},
   "source": [
    "- [x]  Jupyter Notebook открыт\n",
    "- [x]  Весь код выполняется без ошибок\n",
    "- [x]  Ячейки с кодом расположены в порядке исполнения\n",
    "- [x]  Выполнена загрузка и подготовка данных\n",
    "- [x]  Выполнено обучение моделей\n",
    "- [x]  Есть анализ скорости работы и качества моделей"
   ]
  },
  {
   "cell_type": "code",
   "execution_count": null,
   "metadata": {},
   "outputs": [],
   "source": []
  }
 ],
 "metadata": {
  "ExecuteTimeLog": [
   {
    "duration": 344,
    "start_time": "2025-10-06T18:01:14.397Z"
   },
   {
    "duration": 808,
    "start_time": "2025-10-06T18:01:14.743Z"
   },
   {
    "duration": 18,
    "start_time": "2025-10-06T18:01:25.814Z"
   },
   {
    "duration": 133,
    "start_time": "2025-10-06T18:03:34.050Z"
   },
   {
    "duration": 438,
    "start_time": "2025-10-07T09:05:07.320Z"
   },
   {
    "duration": 895,
    "start_time": "2025-10-07T09:05:07.760Z"
   },
   {
    "duration": 20,
    "start_time": "2025-10-07T09:05:08.656Z"
   },
   {
    "duration": 173,
    "start_time": "2025-10-07T09:05:08.678Z"
   },
   {
    "duration": 151,
    "start_time": "2025-10-07T09:05:08.853Z"
   },
   {
    "duration": 193,
    "start_time": "2025-10-07T09:06:51.899Z"
   },
   {
    "duration": 108,
    "start_time": "2025-10-07T09:07:15.376Z"
   },
   {
    "duration": 69,
    "start_time": "2025-10-07T09:10:34.701Z"
   },
   {
    "duration": 437,
    "start_time": "2025-10-07T09:11:25.512Z"
   },
   {
    "duration": 919,
    "start_time": "2025-10-07T09:11:25.951Z"
   },
   {
    "duration": 20,
    "start_time": "2025-10-07T09:11:26.872Z"
   },
   {
    "duration": 171,
    "start_time": "2025-10-07T09:11:26.894Z"
   },
   {
    "duration": 73,
    "start_time": "2025-10-07T09:11:27.067Z"
   },
   {
    "duration": 0,
    "start_time": "2025-10-07T09:11:27.142Z"
   },
   {
    "duration": 0,
    "start_time": "2025-10-07T09:11:27.143Z"
   },
   {
    "duration": 0,
    "start_time": "2025-10-07T09:11:27.144Z"
   },
   {
    "duration": 0,
    "start_time": "2025-10-07T09:11:27.145Z"
   },
   {
    "duration": 7,
    "start_time": "2025-10-07T09:11:48.916Z"
   },
   {
    "duration": 4,
    "start_time": "2025-10-07T09:12:44.601Z"
   },
   {
    "duration": 4,
    "start_time": "2025-10-07T09:14:58.047Z"
   },
   {
    "duration": 64,
    "start_time": "2025-10-07T09:18:05.472Z"
   },
   {
    "duration": 4,
    "start_time": "2025-10-07T09:18:12.778Z"
   },
   {
    "duration": 70,
    "start_time": "2025-10-07T09:18:54.124Z"
   },
   {
    "duration": 5,
    "start_time": "2025-10-07T09:18:55.747Z"
   },
   {
    "duration": 153,
    "start_time": "2025-10-07T09:19:43.174Z"
   },
   {
    "duration": 193,
    "start_time": "2025-10-07T09:19:43.541Z"
   },
   {
    "duration": 105,
    "start_time": "2025-10-07T09:19:44.269Z"
   },
   {
    "duration": 3,
    "start_time": "2025-10-07T09:19:45.202Z"
   },
   {
    "duration": 5133,
    "start_time": "2025-10-07T09:23:24.226Z"
   },
   {
    "duration": 299,
    "start_time": "2025-10-07T09:23:37.337Z"
   },
   {
    "duration": 2755,
    "start_time": "2025-10-07T09:24:08.464Z"
   },
   {
    "duration": 50,
    "start_time": "2025-10-07T09:24:11.221Z"
   },
   {
    "duration": 0,
    "start_time": "2025-10-07T09:24:11.273Z"
   },
   {
    "duration": 0,
    "start_time": "2025-10-07T09:24:11.274Z"
   },
   {
    "duration": 0,
    "start_time": "2025-10-07T09:24:11.275Z"
   },
   {
    "duration": 0,
    "start_time": "2025-10-07T09:24:11.276Z"
   },
   {
    "duration": 0,
    "start_time": "2025-10-07T09:24:11.277Z"
   },
   {
    "duration": 0,
    "start_time": "2025-10-07T09:24:11.279Z"
   },
   {
    "duration": 0,
    "start_time": "2025-10-07T09:24:11.280Z"
   },
   {
    "duration": 0,
    "start_time": "2025-10-07T09:24:11.281Z"
   },
   {
    "duration": 0,
    "start_time": "2025-10-07T09:24:11.282Z"
   },
   {
    "duration": 0,
    "start_time": "2025-10-07T09:24:11.283Z"
   },
   {
    "duration": 0,
    "start_time": "2025-10-07T09:24:11.283Z"
   },
   {
    "duration": 0,
    "start_time": "2025-10-07T09:24:11.284Z"
   },
   {
    "duration": 48,
    "start_time": "2025-10-07T09:25:47.193Z"
   },
   {
    "duration": 5,
    "start_time": "2025-10-07T09:25:56.236Z"
   },
   {
    "duration": 6,
    "start_time": "2025-10-07T09:26:43.067Z"
   },
   {
    "duration": 2938,
    "start_time": "2025-10-07T09:26:45.162Z"
   },
   {
    "duration": 9,
    "start_time": "2025-10-07T09:26:49.358Z"
   },
   {
    "duration": 1279,
    "start_time": "2025-10-07T09:27:55.503Z"
   },
   {
    "duration": 1993,
    "start_time": "2025-10-07T09:28:24.328Z"
   },
   {
    "duration": 3142,
    "start_time": "2025-10-07T09:28:33.530Z"
   },
   {
    "duration": 1971,
    "start_time": "2025-10-07T09:28:36.675Z"
   },
   {
    "duration": 424,
    "start_time": "2025-10-07T09:28:38.649Z"
   },
   {
    "duration": 1059,
    "start_time": "2025-10-07T09:28:39.075Z"
   },
   {
    "duration": 23,
    "start_time": "2025-10-07T09:28:40.136Z"
   },
   {
    "duration": 176,
    "start_time": "2025-10-07T09:28:40.161Z"
   },
   {
    "duration": 3,
    "start_time": "2025-10-07T09:28:40.339Z"
   },
   {
    "duration": 7,
    "start_time": "2025-10-07T09:28:40.343Z"
   },
   {
    "duration": 80,
    "start_time": "2025-10-07T09:28:40.352Z"
   },
   {
    "duration": 4,
    "start_time": "2025-10-07T09:28:40.435Z"
   },
   {
    "duration": 198,
    "start_time": "2025-10-07T09:28:40.442Z"
   },
   {
    "duration": 208,
    "start_time": "2025-10-07T09:28:40.642Z"
   },
   {
    "duration": 113,
    "start_time": "2025-10-07T09:28:40.852Z"
   },
   {
    "duration": 3,
    "start_time": "2025-10-07T09:28:40.966Z"
   },
   {
    "duration": 2904,
    "start_time": "2025-10-07T09:31:17.018Z"
   },
   {
    "duration": 1881,
    "start_time": "2025-10-07T09:31:19.924Z"
   },
   {
    "duration": 481,
    "start_time": "2025-10-07T09:31:21.807Z"
   },
   {
    "duration": 1054,
    "start_time": "2025-10-07T09:31:22.291Z"
   },
   {
    "duration": 22,
    "start_time": "2025-10-07T09:31:23.347Z"
   },
   {
    "duration": 212,
    "start_time": "2025-10-07T09:31:23.371Z"
   },
   {
    "duration": 3,
    "start_time": "2025-10-07T09:31:23.585Z"
   },
   {
    "duration": 5,
    "start_time": "2025-10-07T09:31:23.590Z"
   },
   {
    "duration": 84,
    "start_time": "2025-10-07T09:31:23.596Z"
   },
   {
    "duration": 5,
    "start_time": "2025-10-07T09:31:23.683Z"
   },
   {
    "duration": 210,
    "start_time": "2025-10-07T09:31:23.690Z"
   },
   {
    "duration": 235,
    "start_time": "2025-10-07T09:31:23.902Z"
   },
   {
    "duration": 124,
    "start_time": "2025-10-07T09:31:24.139Z"
   },
   {
    "duration": 7,
    "start_time": "2025-10-07T09:31:24.265Z"
   },
   {
    "duration": 1957,
    "start_time": "2025-10-07T09:33:31.557Z"
   },
   {
    "duration": 440,
    "start_time": "2025-10-07T09:37:09.689Z"
   },
   {
    "duration": 898,
    "start_time": "2025-10-07T09:37:10.132Z"
   },
   {
    "duration": 15,
    "start_time": "2025-10-07T09:37:11.032Z"
   },
   {
    "duration": 181,
    "start_time": "2025-10-07T09:37:11.049Z"
   },
   {
    "duration": 2,
    "start_time": "2025-10-07T09:37:11.233Z"
   },
   {
    "duration": 8,
    "start_time": "2025-10-07T09:37:11.237Z"
   },
   {
    "duration": 59,
    "start_time": "2025-10-07T09:37:11.246Z"
   },
   {
    "duration": 4,
    "start_time": "2025-10-07T09:37:11.307Z"
   },
   {
    "duration": 177,
    "start_time": "2025-10-07T09:37:11.313Z"
   },
   {
    "duration": 214,
    "start_time": "2025-10-07T09:37:11.492Z"
   },
   {
    "duration": 112,
    "start_time": "2025-10-07T09:37:11.707Z"
   },
   {
    "duration": 10,
    "start_time": "2025-10-07T09:37:11.820Z"
   },
   {
    "duration": 68,
    "start_time": "2025-10-07T09:50:27.267Z"
   },
   {
    "duration": 1253,
    "start_time": "2025-10-07T09:50:46.662Z"
   },
   {
    "duration": 47,
    "start_time": "2025-10-07T09:51:09.351Z"
   },
   {
    "duration": 1152,
    "start_time": "2025-10-07T09:51:13.520Z"
   },
   {
    "duration": 451,
    "start_time": "2025-10-07T09:51:27.090Z"
   },
   {
    "duration": 950,
    "start_time": "2025-10-07T09:51:27.543Z"
   },
   {
    "duration": 17,
    "start_time": "2025-10-07T09:51:28.495Z"
   },
   {
    "duration": 182,
    "start_time": "2025-10-07T09:51:28.513Z"
   },
   {
    "duration": 3,
    "start_time": "2025-10-07T09:51:28.697Z"
   },
   {
    "duration": 7,
    "start_time": "2025-10-07T09:51:28.701Z"
   },
   {
    "duration": 88,
    "start_time": "2025-10-07T09:51:28.710Z"
   },
   {
    "duration": 5,
    "start_time": "2025-10-07T09:51:28.800Z"
   },
   {
    "duration": 361,
    "start_time": "2025-10-07T09:51:28.806Z"
   },
   {
    "duration": 106,
    "start_time": "2025-10-07T09:51:29.169Z"
   },
   {
    "duration": 149,
    "start_time": "2025-10-07T09:51:29.276Z"
   },
   {
    "duration": 71,
    "start_time": "2025-10-07T09:51:29.430Z"
   },
   {
    "duration": 2,
    "start_time": "2025-10-07T09:51:29.503Z"
   },
   {
    "duration": 80,
    "start_time": "2025-10-07T09:51:52.674Z"
   },
   {
    "duration": 15,
    "start_time": "2025-10-07T09:52:14.826Z"
   },
   {
    "duration": 3,
    "start_time": "2025-10-07T09:56:35.713Z"
   },
   {
    "duration": 68,
    "start_time": "2025-10-07T09:59:28.809Z"
   },
   {
    "duration": 219,
    "start_time": "2025-10-07T09:59:36.483Z"
   },
   {
    "duration": 218,
    "start_time": "2025-10-07T09:59:57.216Z"
   },
   {
    "duration": 209,
    "start_time": "2025-10-07T10:00:08.700Z"
   },
   {
    "duration": 79,
    "start_time": "2025-10-07T10:01:31.982Z"
   },
   {
    "duration": 85,
    "start_time": "2025-10-07T10:01:53.000Z"
   },
   {
    "duration": 85,
    "start_time": "2025-10-07T10:01:59.704Z"
   },
   {
    "duration": 7,
    "start_time": "2025-10-07T12:22:33.975Z"
   },
   {
    "duration": 449,
    "start_time": "2025-10-07T12:22:38.836Z"
   },
   {
    "duration": 801,
    "start_time": "2025-10-07T12:22:39.287Z"
   },
   {
    "duration": 13,
    "start_time": "2025-10-07T12:22:40.089Z"
   },
   {
    "duration": 170,
    "start_time": "2025-10-07T12:22:40.103Z"
   },
   {
    "duration": 2,
    "start_time": "2025-10-07T12:22:40.275Z"
   },
   {
    "duration": 40,
    "start_time": "2025-10-07T12:22:40.279Z"
   },
   {
    "duration": 53,
    "start_time": "2025-10-07T12:22:40.321Z"
   },
   {
    "duration": 5,
    "start_time": "2025-10-07T12:22:40.376Z"
   },
   {
    "duration": 284,
    "start_time": "2025-10-07T12:22:40.382Z"
   },
   {
    "duration": 97,
    "start_time": "2025-10-07T12:22:40.667Z"
   },
   {
    "duration": 13,
    "start_time": "2025-10-07T12:22:40.765Z"
   },
   {
    "duration": 171,
    "start_time": "2025-10-07T12:22:40.779Z"
   },
   {
    "duration": 122,
    "start_time": "2025-10-07T12:22:40.951Z"
   },
   {
    "duration": 60,
    "start_time": "2025-10-07T12:22:41.075Z"
   },
   {
    "duration": 15,
    "start_time": "2025-10-07T12:22:41.137Z"
   },
   {
    "duration": 186,
    "start_time": "2025-10-07T12:22:41.153Z"
   },
   {
    "duration": 185,
    "start_time": "2025-10-07T12:22:41.341Z"
   },
   {
    "duration": 181,
    "start_time": "2025-10-07T12:22:41.528Z"
   },
   {
    "duration": 87,
    "start_time": "2025-10-07T12:22:41.711Z"
   },
   {
    "duration": 2,
    "start_time": "2025-10-07T12:22:41.800Z"
   },
   {
    "duration": 61,
    "start_time": "2025-10-07T12:24:14.171Z"
   },
   {
    "duration": 715,
    "start_time": "2025-10-07T12:24:21.288Z"
   },
   {
    "duration": 453,
    "start_time": "2025-10-07T12:24:49.587Z"
   },
   {
    "duration": 0,
    "start_time": "2025-10-07T12:24:50.041Z"
   },
   {
    "duration": 0,
    "start_time": "2025-10-07T12:24:50.042Z"
   },
   {
    "duration": 0,
    "start_time": "2025-10-07T12:24:50.043Z"
   },
   {
    "duration": 0,
    "start_time": "2025-10-07T12:24:50.044Z"
   },
   {
    "duration": 0,
    "start_time": "2025-10-07T12:24:50.045Z"
   },
   {
    "duration": 0,
    "start_time": "2025-10-07T12:24:50.046Z"
   },
   {
    "duration": 0,
    "start_time": "2025-10-07T12:24:50.047Z"
   },
   {
    "duration": 0,
    "start_time": "2025-10-07T12:24:50.049Z"
   },
   {
    "duration": 0,
    "start_time": "2025-10-07T12:24:50.050Z"
   },
   {
    "duration": 0,
    "start_time": "2025-10-07T12:24:50.051Z"
   },
   {
    "duration": 0,
    "start_time": "2025-10-07T12:24:50.052Z"
   },
   {
    "duration": 0,
    "start_time": "2025-10-07T12:24:50.053Z"
   },
   {
    "duration": 0,
    "start_time": "2025-10-07T12:24:50.054Z"
   },
   {
    "duration": 0,
    "start_time": "2025-10-07T12:24:50.055Z"
   },
   {
    "duration": 0,
    "start_time": "2025-10-07T12:24:50.056Z"
   },
   {
    "duration": 0,
    "start_time": "2025-10-07T12:24:50.057Z"
   },
   {
    "duration": 0,
    "start_time": "2025-10-07T12:24:50.058Z"
   },
   {
    "duration": 0,
    "start_time": "2025-10-07T12:24:50.059Z"
   },
   {
    "duration": 0,
    "start_time": "2025-10-07T12:24:50.060Z"
   },
   {
    "duration": 0,
    "start_time": "2025-10-07T12:24:50.061Z"
   },
   {
    "duration": 171,
    "start_time": "2025-10-07T12:24:59.924Z"
   },
   {
    "duration": 494,
    "start_time": "2025-10-07T12:25:03.191Z"
   },
   {
    "duration": 819,
    "start_time": "2025-10-07T12:25:03.687Z"
   },
   {
    "duration": 14,
    "start_time": "2025-10-07T12:25:04.508Z"
   },
   {
    "duration": 147,
    "start_time": "2025-10-07T12:25:04.524Z"
   },
   {
    "duration": 3,
    "start_time": "2025-10-07T12:25:04.673Z"
   },
   {
    "duration": 6,
    "start_time": "2025-10-07T12:25:04.677Z"
   },
   {
    "duration": 75,
    "start_time": "2025-10-07T12:25:04.685Z"
   },
   {
    "duration": 4,
    "start_time": "2025-10-07T12:25:04.762Z"
   },
   {
    "duration": 293,
    "start_time": "2025-10-07T12:25:04.767Z"
   },
   {
    "duration": 137,
    "start_time": "2025-10-07T12:25:05.062Z"
   },
   {
    "duration": 13,
    "start_time": "2025-10-07T12:25:05.200Z"
   },
   {
    "duration": 106,
    "start_time": "2025-10-07T12:25:05.215Z"
   },
   {
    "duration": 140,
    "start_time": "2025-10-07T12:25:05.322Z"
   },
   {
    "duration": 65,
    "start_time": "2025-10-07T12:25:05.465Z"
   },
   {
    "duration": 2,
    "start_time": "2025-10-07T12:25:05.532Z"
   },
   {
    "duration": 211,
    "start_time": "2025-10-07T12:25:05.536Z"
   },
   {
    "duration": 191,
    "start_time": "2025-10-07T12:25:05.750Z"
   },
   {
    "duration": 196,
    "start_time": "2025-10-07T12:25:05.943Z"
   },
   {
    "duration": 81,
    "start_time": "2025-10-07T12:25:06.140Z"
   },
   {
    "duration": 13,
    "start_time": "2025-10-07T12:25:06.223Z"
   },
   {
    "duration": 499,
    "start_time": "2025-10-07T12:25:06.237Z"
   },
   {
    "duration": 38,
    "start_time": "2025-10-07T12:25:15.680Z"
   },
   {
    "duration": 590,
    "start_time": "2025-10-07T12:25:18.604Z"
   },
   {
    "duration": 825,
    "start_time": "2025-10-07T12:25:19.196Z"
   },
   {
    "duration": 14,
    "start_time": "2025-10-07T12:25:20.022Z"
   },
   {
    "duration": 235,
    "start_time": "2025-10-07T12:25:20.038Z"
   },
   {
    "duration": 3,
    "start_time": "2025-10-07T12:25:20.274Z"
   },
   {
    "duration": 77,
    "start_time": "2025-10-07T12:25:20.278Z"
   },
   {
    "duration": 77,
    "start_time": "2025-10-07T12:25:20.356Z"
   },
   {
    "duration": 4,
    "start_time": "2025-10-07T12:25:20.434Z"
   },
   {
    "duration": 296,
    "start_time": "2025-10-07T12:25:20.439Z"
   },
   {
    "duration": 113,
    "start_time": "2025-10-07T12:25:20.738Z"
   },
   {
    "duration": 31,
    "start_time": "2025-10-07T12:25:20.852Z"
   },
   {
    "duration": 111,
    "start_time": "2025-10-07T12:25:20.885Z"
   },
   {
    "duration": 128,
    "start_time": "2025-10-07T12:25:20.998Z"
   },
   {
    "duration": 70,
    "start_time": "2025-10-07T12:25:21.128Z"
   },
   {
    "duration": 3,
    "start_time": "2025-10-07T12:25:21.199Z"
   },
   {
    "duration": 203,
    "start_time": "2025-10-07T12:25:21.203Z"
   },
   {
    "duration": 190,
    "start_time": "2025-10-07T12:25:21.408Z"
   },
   {
    "duration": 189,
    "start_time": "2025-10-07T12:25:21.599Z"
   },
   {
    "duration": 95,
    "start_time": "2025-10-07T12:25:21.789Z"
   },
   {
    "duration": 3,
    "start_time": "2025-10-07T12:25:21.885Z"
   },
   {
    "duration": 98686,
    "start_time": "2025-10-07T12:25:21.889Z"
   },
   {
    "duration": 672,
    "start_time": "2025-10-07T12:30:14.450Z"
   },
   {
    "duration": 815,
    "start_time": "2025-10-07T12:30:15.123Z"
   },
   {
    "duration": 19,
    "start_time": "2025-10-07T12:30:15.940Z"
   },
   {
    "duration": 174,
    "start_time": "2025-10-07T12:30:15.961Z"
   },
   {
    "duration": 104,
    "start_time": "2025-10-07T12:30:16.138Z"
   },
   {
    "duration": 11,
    "start_time": "2025-10-07T12:30:16.244Z"
   },
   {
    "duration": 58,
    "start_time": "2025-10-07T12:30:16.257Z"
   },
   {
    "duration": 4,
    "start_time": "2025-10-07T12:30:16.317Z"
   },
   {
    "duration": 304,
    "start_time": "2025-10-07T12:30:16.322Z"
   },
   {
    "duration": 93,
    "start_time": "2025-10-07T12:30:16.628Z"
   },
   {
    "duration": 13,
    "start_time": "2025-10-07T12:30:16.722Z"
   },
   {
    "duration": 99,
    "start_time": "2025-10-07T12:30:16.737Z"
   },
   {
    "duration": 183,
    "start_time": "2025-10-07T12:30:16.837Z"
   },
   {
    "duration": 62,
    "start_time": "2025-10-07T12:30:17.023Z"
   },
   {
    "duration": 2,
    "start_time": "2025-10-07T12:30:17.087Z"
   },
   {
    "duration": 227,
    "start_time": "2025-10-07T12:30:17.090Z"
   },
   {
    "duration": 198,
    "start_time": "2025-10-07T12:30:17.318Z"
   },
   {
    "duration": 186,
    "start_time": "2025-10-07T12:30:17.518Z"
   },
   {
    "duration": 68,
    "start_time": "2025-10-07T12:30:17.706Z"
   },
   {
    "duration": 3,
    "start_time": "2025-10-07T12:30:17.775Z"
   },
   {
    "duration": 948,
    "start_time": "2025-10-07T12:30:17.779Z"
   },
   {
    "duration": 909,
    "start_time": "2025-10-07T12:30:31.461Z"
   },
   {
    "duration": 885,
    "start_time": "2025-10-07T12:30:52.931Z"
   },
   {
    "duration": 910,
    "start_time": "2025-10-07T12:32:11.186Z"
   },
   {
    "duration": 1092,
    "start_time": "2025-10-07T12:32:33.346Z"
   },
   {
    "duration": 945,
    "start_time": "2025-10-07T12:32:51.097Z"
   },
   {
    "duration": 1012,
    "start_time": "2025-10-07T12:33:33.316Z"
   },
   {
    "duration": 945,
    "start_time": "2025-10-07T12:33:54.532Z"
   },
   {
    "duration": 998,
    "start_time": "2025-10-07T12:34:30.333Z"
   },
   {
    "duration": 695,
    "start_time": "2025-10-07T12:35:18.070Z"
   },
   {
    "duration": 785,
    "start_time": "2025-10-07T12:35:18.766Z"
   },
   {
    "duration": 15,
    "start_time": "2025-10-07T12:35:19.552Z"
   },
   {
    "duration": 146,
    "start_time": "2025-10-07T12:35:19.569Z"
   },
   {
    "duration": 3,
    "start_time": "2025-10-07T12:35:19.717Z"
   },
   {
    "duration": 43,
    "start_time": "2025-10-07T12:35:19.722Z"
   },
   {
    "duration": 60,
    "start_time": "2025-10-07T12:35:19.767Z"
   },
   {
    "duration": 4,
    "start_time": "2025-10-07T12:35:19.829Z"
   },
   {
    "duration": 289,
    "start_time": "2025-10-07T12:35:19.835Z"
   },
   {
    "duration": 100,
    "start_time": "2025-10-07T12:35:20.126Z"
   },
   {
    "duration": 42,
    "start_time": "2025-10-07T12:35:20.227Z"
   },
   {
    "duration": 91,
    "start_time": "2025-10-07T12:35:20.271Z"
   },
   {
    "duration": 127,
    "start_time": "2025-10-07T12:35:20.364Z"
   },
   {
    "duration": 70,
    "start_time": "2025-10-07T12:35:20.493Z"
   },
   {
    "duration": 2,
    "start_time": "2025-10-07T12:35:20.565Z"
   },
   {
    "duration": 218,
    "start_time": "2025-10-07T12:35:20.568Z"
   },
   {
    "duration": 198,
    "start_time": "2025-10-07T12:35:20.787Z"
   },
   {
    "duration": 173,
    "start_time": "2025-10-07T12:35:20.987Z"
   },
   {
    "duration": 62,
    "start_time": "2025-10-07T12:35:21.161Z"
   },
   {
    "duration": 2,
    "start_time": "2025-10-07T12:35:21.225Z"
   },
   {
    "duration": 1042,
    "start_time": "2025-10-07T12:35:21.229Z"
   },
   {
    "duration": 1022,
    "start_time": "2025-10-07T12:36:23.494Z"
   },
   {
    "duration": 3,
    "start_time": "2025-10-07T12:41:59.238Z"
   },
   {
    "duration": 2463,
    "start_time": "2025-10-07T12:42:02.176Z"
   },
   {
    "duration": 3,
    "start_time": "2025-10-07T12:43:11.372Z"
   },
   {
    "duration": 1267,
    "start_time": "2025-10-07T12:43:16.441Z"
   },
   {
    "duration": 13,
    "start_time": "2025-10-07T12:45:52.248Z"
   },
   {
    "duration": 971,
    "start_time": "2025-10-07T15:29:45.949Z"
   },
   {
    "duration": 1066,
    "start_time": "2025-10-07T15:29:46.922Z"
   },
   {
    "duration": 17,
    "start_time": "2025-10-07T15:29:47.990Z"
   },
   {
    "duration": 184,
    "start_time": "2025-10-07T15:29:48.009Z"
   },
   {
    "duration": 4,
    "start_time": "2025-10-07T15:29:48.195Z"
   },
   {
    "duration": 6,
    "start_time": "2025-10-07T15:29:48.201Z"
   },
   {
    "duration": 91,
    "start_time": "2025-10-07T15:29:48.209Z"
   },
   {
    "duration": 5,
    "start_time": "2025-10-07T15:29:48.302Z"
   },
   {
    "duration": 360,
    "start_time": "2025-10-07T15:29:48.309Z"
   },
   {
    "duration": 124,
    "start_time": "2025-10-07T15:29:48.671Z"
   },
   {
    "duration": 15,
    "start_time": "2025-10-07T15:29:48.797Z"
   },
   {
    "duration": 141,
    "start_time": "2025-10-07T15:29:48.814Z"
   },
   {
    "duration": 148,
    "start_time": "2025-10-07T15:29:48.957Z"
   },
   {
    "duration": 97,
    "start_time": "2025-10-07T15:29:49.108Z"
   },
   {
    "duration": 3,
    "start_time": "2025-10-07T15:29:49.207Z"
   },
   {
    "duration": 269,
    "start_time": "2025-10-07T15:29:49.212Z"
   },
   {
    "duration": 240,
    "start_time": "2025-10-07T15:29:49.483Z"
   },
   {
    "duration": 232,
    "start_time": "2025-10-07T15:29:49.725Z"
   },
   {
    "duration": 91,
    "start_time": "2025-10-07T15:29:49.959Z"
   },
   {
    "duration": 16,
    "start_time": "2025-10-07T15:29:50.052Z"
   },
   {
    "duration": 51,
    "start_time": "2025-10-07T15:29:50.070Z"
   },
   {
    "duration": 10049,
    "start_time": "2025-10-07T15:29:50.123Z"
   },
   {
    "duration": 818,
    "start_time": "2025-10-07T15:30:00.174Z"
   },
   {
    "duration": 800,
    "start_time": "2025-10-07T15:31:17.651Z"
   },
   {
    "duration": 1051,
    "start_time": "2025-10-07T15:31:18.457Z"
   },
   {
    "duration": 21,
    "start_time": "2025-10-07T15:31:19.511Z"
   },
   {
    "duration": 179,
    "start_time": "2025-10-07T15:31:19.539Z"
   },
   {
    "duration": 3,
    "start_time": "2025-10-07T15:31:19.721Z"
   },
   {
    "duration": 32,
    "start_time": "2025-10-07T15:31:19.725Z"
   },
   {
    "duration": 62,
    "start_time": "2025-10-07T15:31:19.759Z"
   },
   {
    "duration": 4,
    "start_time": "2025-10-07T15:31:19.823Z"
   },
   {
    "duration": 356,
    "start_time": "2025-10-07T15:31:19.828Z"
   },
   {
    "duration": 127,
    "start_time": "2025-10-07T15:31:20.186Z"
   },
   {
    "duration": 15,
    "start_time": "2025-10-07T15:31:20.314Z"
   },
   {
    "duration": 121,
    "start_time": "2025-10-07T15:31:20.343Z"
   },
   {
    "duration": 190,
    "start_time": "2025-10-07T15:31:20.465Z"
   },
   {
    "duration": 86,
    "start_time": "2025-10-07T15:31:20.659Z"
   },
   {
    "duration": 12,
    "start_time": "2025-10-07T15:31:20.748Z"
   },
   {
    "duration": 241,
    "start_time": "2025-10-07T15:31:20.762Z"
   },
   {
    "duration": 236,
    "start_time": "2025-10-07T15:31:21.005Z"
   },
   {
    "duration": 229,
    "start_time": "2025-10-07T15:31:21.243Z"
   },
   {
    "duration": 101,
    "start_time": "2025-10-07T15:31:21.474Z"
   },
   {
    "duration": 15,
    "start_time": "2025-10-07T15:31:21.577Z"
   },
   {
    "duration": 6,
    "start_time": "2025-10-07T15:31:21.594Z"
   },
   {
    "duration": 10478,
    "start_time": "2025-10-07T15:31:21.602Z"
   },
   {
    "duration": 584,
    "start_time": "2025-10-07T15:31:32.082Z"
   },
   {
    "duration": 860,
    "start_time": "2025-10-07T15:32:33.873Z"
   },
   {
    "duration": 1033,
    "start_time": "2025-10-07T15:32:34.735Z"
   },
   {
    "duration": 18,
    "start_time": "2025-10-07T15:32:35.770Z"
   },
   {
    "duration": 193,
    "start_time": "2025-10-07T15:32:35.790Z"
   },
   {
    "duration": 4,
    "start_time": "2025-10-07T15:32:35.985Z"
   },
   {
    "duration": 10,
    "start_time": "2025-10-07T15:32:35.991Z"
   },
   {
    "duration": 91,
    "start_time": "2025-10-07T15:32:36.003Z"
   },
   {
    "duration": 4,
    "start_time": "2025-10-07T15:32:36.096Z"
   },
   {
    "duration": 459,
    "start_time": "2025-10-07T15:32:36.102Z"
   },
   {
    "duration": 132,
    "start_time": "2025-10-07T15:32:36.566Z"
   },
   {
    "duration": 15,
    "start_time": "2025-10-07T15:32:36.700Z"
   },
   {
    "duration": 144,
    "start_time": "2025-10-07T15:32:36.717Z"
   },
   {
    "duration": 149,
    "start_time": "2025-10-07T15:32:36.863Z"
   },
   {
    "duration": 97,
    "start_time": "2025-10-07T15:32:37.014Z"
   },
   {
    "duration": 3,
    "start_time": "2025-10-07T15:32:37.113Z"
   },
   {
    "duration": 263,
    "start_time": "2025-10-07T15:32:37.117Z"
   },
   {
    "duration": 244,
    "start_time": "2025-10-07T15:32:37.382Z"
   },
   {
    "duration": 221,
    "start_time": "2025-10-07T15:32:37.628Z"
   },
   {
    "duration": 103,
    "start_time": "2025-10-07T15:32:37.857Z"
   },
   {
    "duration": 14,
    "start_time": "2025-10-07T15:32:37.962Z"
   },
   {
    "duration": 9,
    "start_time": "2025-10-07T15:32:37.978Z"
   },
   {
    "duration": 13969,
    "start_time": "2025-10-07T15:32:37.989Z"
   },
   {
    "duration": 423,
    "start_time": "2025-10-07T15:32:51.960Z"
   },
   {
    "duration": 753,
    "start_time": "2025-10-07T15:33:46.768Z"
   },
   {
    "duration": 1031,
    "start_time": "2025-10-07T15:33:47.522Z"
   },
   {
    "duration": 20,
    "start_time": "2025-10-07T15:33:48.556Z"
   },
   {
    "duration": 187,
    "start_time": "2025-10-07T15:33:48.578Z"
   },
   {
    "duration": 3,
    "start_time": "2025-10-07T15:33:48.767Z"
   },
   {
    "duration": 6,
    "start_time": "2025-10-07T15:33:48.772Z"
   },
   {
    "duration": 78,
    "start_time": "2025-10-07T15:33:48.780Z"
   },
   {
    "duration": 4,
    "start_time": "2025-10-07T15:33:48.860Z"
   },
   {
    "duration": 349,
    "start_time": "2025-10-07T15:33:48.865Z"
   },
   {
    "duration": 133,
    "start_time": "2025-10-07T15:33:49.216Z"
   },
   {
    "duration": 15,
    "start_time": "2025-10-07T15:33:49.356Z"
   },
   {
    "duration": 111,
    "start_time": "2025-10-07T15:33:49.373Z"
   },
   {
    "duration": 150,
    "start_time": "2025-10-07T15:33:49.485Z"
   },
   {
    "duration": 78,
    "start_time": "2025-10-07T15:33:49.640Z"
   },
   {
    "duration": 3,
    "start_time": "2025-10-07T15:33:49.720Z"
   },
   {
    "duration": 247,
    "start_time": "2025-10-07T15:33:49.741Z"
   },
   {
    "duration": 239,
    "start_time": "2025-10-07T15:33:49.990Z"
   },
   {
    "duration": 228,
    "start_time": "2025-10-07T15:33:50.231Z"
   },
   {
    "duration": 121,
    "start_time": "2025-10-07T15:33:50.461Z"
   },
   {
    "duration": 15,
    "start_time": "2025-10-07T15:33:50.584Z"
   },
   {
    "duration": 3,
    "start_time": "2025-10-07T15:33:50.601Z"
   },
   {
    "duration": 13986,
    "start_time": "2025-10-07T15:33:50.606Z"
   },
   {
    "duration": 255,
    "start_time": "2025-10-07T15:34:04.593Z"
   },
   {
    "duration": 2349,
    "start_time": "2025-10-07T15:37:32.212Z"
   },
   {
    "duration": 14354,
    "start_time": "2025-10-07T15:38:02.998Z"
   },
   {
    "duration": 758,
    "start_time": "2025-10-07T15:38:21.128Z"
   },
   {
    "duration": 1012,
    "start_time": "2025-10-07T15:38:21.889Z"
   },
   {
    "duration": 17,
    "start_time": "2025-10-07T15:38:22.903Z"
   },
   {
    "duration": 212,
    "start_time": "2025-10-07T15:38:22.922Z"
   },
   {
    "duration": 9,
    "start_time": "2025-10-07T15:38:23.136Z"
   },
   {
    "duration": 16,
    "start_time": "2025-10-07T15:38:23.147Z"
   },
   {
    "duration": 72,
    "start_time": "2025-10-07T15:38:23.165Z"
   },
   {
    "duration": 9,
    "start_time": "2025-10-07T15:38:23.239Z"
   },
   {
    "duration": 332,
    "start_time": "2025-10-07T15:38:23.253Z"
   },
   {
    "duration": 121,
    "start_time": "2025-10-07T15:38:23.586Z"
   },
   {
    "duration": 30,
    "start_time": "2025-10-07T15:38:23.709Z"
   },
   {
    "duration": 109,
    "start_time": "2025-10-07T15:38:23.748Z"
   },
   {
    "duration": 154,
    "start_time": "2025-10-07T15:38:23.859Z"
   },
   {
    "duration": 95,
    "start_time": "2025-10-07T15:38:24.016Z"
   },
   {
    "duration": 3,
    "start_time": "2025-10-07T15:38:24.113Z"
   },
   {
    "duration": 424,
    "start_time": "2025-10-07T15:38:24.118Z"
   },
   {
    "duration": 291,
    "start_time": "2025-10-07T15:38:24.549Z"
   },
   {
    "duration": 244,
    "start_time": "2025-10-07T15:38:24.846Z"
   },
   {
    "duration": 124,
    "start_time": "2025-10-07T15:38:25.092Z"
   },
   {
    "duration": 24,
    "start_time": "2025-10-07T15:38:25.218Z"
   },
   {
    "duration": 6,
    "start_time": "2025-10-07T15:38:25.244Z"
   },
   {
    "duration": 14842,
    "start_time": "2025-10-07T15:38:25.257Z"
   },
   {
    "duration": 233,
    "start_time": "2025-10-07T15:38:40.100Z"
   },
   {
    "duration": 827,
    "start_time": "2025-10-07T15:39:23.137Z"
   },
   {
    "duration": 1071,
    "start_time": "2025-10-07T15:39:23.966Z"
   },
   {
    "duration": 21,
    "start_time": "2025-10-07T15:39:25.043Z"
   },
   {
    "duration": 176,
    "start_time": "2025-10-07T15:39:25.066Z"
   },
   {
    "duration": 7,
    "start_time": "2025-10-07T15:39:25.249Z"
   },
   {
    "duration": 4,
    "start_time": "2025-10-07T15:39:25.258Z"
   },
   {
    "duration": 64,
    "start_time": "2025-10-07T15:39:25.263Z"
   },
   {
    "duration": 14,
    "start_time": "2025-10-07T15:39:25.343Z"
   },
   {
    "duration": 331,
    "start_time": "2025-10-07T15:39:25.359Z"
   },
   {
    "duration": 121,
    "start_time": "2025-10-07T15:39:25.693Z"
   },
   {
    "duration": 30,
    "start_time": "2025-10-07T15:39:25.816Z"
   },
   {
    "duration": 123,
    "start_time": "2025-10-07T15:39:25.849Z"
   },
   {
    "duration": 151,
    "start_time": "2025-10-07T15:39:25.974Z"
   },
   {
    "duration": 89,
    "start_time": "2025-10-07T15:39:26.127Z"
   },
   {
    "duration": 24,
    "start_time": "2025-10-07T15:39:26.218Z"
   },
   {
    "duration": 270,
    "start_time": "2025-10-07T15:39:26.244Z"
   },
   {
    "duration": 254,
    "start_time": "2025-10-07T15:39:26.516Z"
   },
   {
    "duration": 232,
    "start_time": "2025-10-07T15:39:26.772Z"
   },
   {
    "duration": 119,
    "start_time": "2025-10-07T15:39:27.006Z"
   },
   {
    "duration": 26,
    "start_time": "2025-10-07T15:39:27.126Z"
   },
   {
    "duration": 7,
    "start_time": "2025-10-07T15:39:27.153Z"
   },
   {
    "duration": 14504,
    "start_time": "2025-10-07T15:39:27.161Z"
   },
   {
    "duration": 237,
    "start_time": "2025-10-07T15:39:41.667Z"
   },
   {
    "duration": 748,
    "start_time": "2025-10-07T15:39:51.399Z"
   },
   {
    "duration": 1036,
    "start_time": "2025-10-07T15:39:52.150Z"
   },
   {
    "duration": 16,
    "start_time": "2025-10-07T15:39:53.188Z"
   },
   {
    "duration": 186,
    "start_time": "2025-10-07T15:39:53.205Z"
   },
   {
    "duration": 3,
    "start_time": "2025-10-07T15:39:53.394Z"
   },
   {
    "duration": 13,
    "start_time": "2025-10-07T15:39:53.399Z"
   },
   {
    "duration": 100,
    "start_time": "2025-10-07T15:39:53.414Z"
   },
   {
    "duration": 6,
    "start_time": "2025-10-07T15:39:53.516Z"
   },
   {
    "duration": 351,
    "start_time": "2025-10-07T15:39:53.524Z"
   },
   {
    "duration": 121,
    "start_time": "2025-10-07T15:39:53.876Z"
   },
   {
    "duration": 15,
    "start_time": "2025-10-07T15:39:53.999Z"
   },
   {
    "duration": 136,
    "start_time": "2025-10-07T15:39:54.016Z"
   },
   {
    "duration": 152,
    "start_time": "2025-10-07T15:39:54.154Z"
   },
   {
    "duration": 88,
    "start_time": "2025-10-07T15:39:54.309Z"
   },
   {
    "duration": 3,
    "start_time": "2025-10-07T15:39:54.398Z"
   },
   {
    "duration": 333,
    "start_time": "2025-10-07T15:39:54.403Z"
   },
   {
    "duration": 272,
    "start_time": "2025-10-07T15:39:54.739Z"
   },
   {
    "duration": 237,
    "start_time": "2025-10-07T15:39:55.013Z"
   },
   {
    "duration": 116,
    "start_time": "2025-10-07T15:39:55.252Z"
   },
   {
    "duration": 16,
    "start_time": "2025-10-07T15:39:55.370Z"
   },
   {
    "duration": 18,
    "start_time": "2025-10-07T15:39:55.387Z"
   },
   {
    "duration": 14976,
    "start_time": "2025-10-07T15:39:55.407Z"
   },
   {
    "duration": 273,
    "start_time": "2025-10-07T15:40:10.385Z"
   },
   {
    "duration": 786,
    "start_time": "2025-10-07T15:41:14.363Z"
   },
   {
    "duration": 1043,
    "start_time": "2025-10-07T15:41:15.151Z"
   },
   {
    "duration": 16,
    "start_time": "2025-10-07T15:41:16.196Z"
   },
   {
    "duration": 210,
    "start_time": "2025-10-07T15:41:16.214Z"
   },
   {
    "duration": 3,
    "start_time": "2025-10-07T15:41:16.426Z"
   },
   {
    "duration": 69,
    "start_time": "2025-10-07T15:41:16.431Z"
   },
   {
    "duration": 73,
    "start_time": "2025-10-07T15:41:16.502Z"
   },
   {
    "duration": 5,
    "start_time": "2025-10-07T15:41:16.577Z"
   },
   {
    "duration": 380,
    "start_time": "2025-10-07T15:41:16.584Z"
   },
   {
    "duration": 119,
    "start_time": "2025-10-07T15:41:16.966Z"
   },
   {
    "duration": 18,
    "start_time": "2025-10-07T15:41:17.087Z"
   },
   {
    "duration": 133,
    "start_time": "2025-10-07T15:41:17.107Z"
   },
   {
    "duration": 147,
    "start_time": "2025-10-07T15:41:17.248Z"
   },
   {
    "duration": 87,
    "start_time": "2025-10-07T15:41:17.397Z"
   },
   {
    "duration": 3,
    "start_time": "2025-10-07T15:41:17.485Z"
   },
   {
    "duration": 307,
    "start_time": "2025-10-07T15:41:17.490Z"
   },
   {
    "duration": 248,
    "start_time": "2025-10-07T15:41:17.798Z"
   },
   {
    "duration": 231,
    "start_time": "2025-10-07T15:41:18.048Z"
   },
   {
    "duration": 117,
    "start_time": "2025-10-07T15:41:18.281Z"
   },
   {
    "duration": 14,
    "start_time": "2025-10-07T15:41:18.400Z"
   },
   {
    "duration": 76,
    "start_time": "2025-10-07T15:41:18.416Z"
   },
   {
    "duration": 15025,
    "start_time": "2025-10-07T15:41:18.494Z"
   },
   {
    "duration": 288,
    "start_time": "2025-10-07T15:41:33.521Z"
   },
   {
    "duration": 781,
    "start_time": "2025-10-07T15:43:05.826Z"
   },
   {
    "duration": 1071,
    "start_time": "2025-10-07T15:43:06.609Z"
   },
   {
    "duration": 16,
    "start_time": "2025-10-07T15:43:07.682Z"
   },
   {
    "duration": 180,
    "start_time": "2025-10-07T15:43:07.700Z"
   },
   {
    "duration": 4,
    "start_time": "2025-10-07T15:43:07.882Z"
   },
   {
    "duration": 6,
    "start_time": "2025-10-07T15:43:07.887Z"
   },
   {
    "duration": 77,
    "start_time": "2025-10-07T15:43:07.895Z"
   },
   {
    "duration": 24,
    "start_time": "2025-10-07T15:43:07.974Z"
   },
   {
    "duration": 355,
    "start_time": "2025-10-07T15:43:08.000Z"
   },
   {
    "duration": 116,
    "start_time": "2025-10-07T15:43:08.357Z"
   },
   {
    "duration": 61,
    "start_time": "2025-10-07T15:43:08.475Z"
   },
   {
    "duration": 131,
    "start_time": "2025-10-07T15:43:08.538Z"
   },
   {
    "duration": 151,
    "start_time": "2025-10-07T15:43:08.672Z"
   },
   {
    "duration": 85,
    "start_time": "2025-10-07T15:43:08.825Z"
   },
   {
    "duration": 4,
    "start_time": "2025-10-07T15:43:08.911Z"
   },
   {
    "duration": 337,
    "start_time": "2025-10-07T15:43:08.916Z"
   },
   {
    "duration": 240,
    "start_time": "2025-10-07T15:43:09.255Z"
   },
   {
    "duration": 222,
    "start_time": "2025-10-07T15:43:09.497Z"
   },
   {
    "duration": 104,
    "start_time": "2025-10-07T15:43:09.721Z"
   },
   {
    "duration": 39,
    "start_time": "2025-10-07T15:43:09.826Z"
   },
   {
    "duration": 3,
    "start_time": "2025-10-07T15:43:09.867Z"
   },
   {
    "duration": 7608,
    "start_time": "2025-10-07T15:43:09.872Z"
   },
   {
    "duration": 582,
    "start_time": "2025-10-07T15:43:17.483Z"
   },
   {
    "duration": 752,
    "start_time": "2025-10-07T15:44:34.664Z"
   },
   {
    "duration": 999,
    "start_time": "2025-10-07T15:44:35.418Z"
   },
   {
    "duration": 29,
    "start_time": "2025-10-07T15:44:36.419Z"
   },
   {
    "duration": 179,
    "start_time": "2025-10-07T15:44:36.451Z"
   },
   {
    "duration": 10,
    "start_time": "2025-10-07T15:44:36.642Z"
   },
   {
    "duration": 4,
    "start_time": "2025-10-07T15:44:36.655Z"
   },
   {
    "duration": 74,
    "start_time": "2025-10-07T15:44:36.661Z"
   },
   {
    "duration": 6,
    "start_time": "2025-10-07T15:44:36.746Z"
   },
   {
    "duration": 330,
    "start_time": "2025-10-07T15:44:36.754Z"
   },
   {
    "duration": 118,
    "start_time": "2025-10-07T15:44:37.086Z"
   },
   {
    "duration": 15,
    "start_time": "2025-10-07T15:44:37.206Z"
   },
   {
    "duration": 130,
    "start_time": "2025-10-07T15:44:37.223Z"
   },
   {
    "duration": 153,
    "start_time": "2025-10-07T15:44:37.355Z"
   },
   {
    "duration": 103,
    "start_time": "2025-10-07T15:44:37.511Z"
   },
   {
    "duration": 4,
    "start_time": "2025-10-07T15:44:37.615Z"
   },
   {
    "duration": 262,
    "start_time": "2025-10-07T15:44:37.621Z"
   },
   {
    "duration": 237,
    "start_time": "2025-10-07T15:44:37.884Z"
   },
   {
    "duration": 241,
    "start_time": "2025-10-07T15:44:38.123Z"
   },
   {
    "duration": 111,
    "start_time": "2025-10-07T15:44:38.366Z"
   },
   {
    "duration": 14,
    "start_time": "2025-10-07T15:44:38.479Z"
   },
   {
    "duration": 4,
    "start_time": "2025-10-07T15:44:38.495Z"
   },
   {
    "duration": 7429,
    "start_time": "2025-10-07T15:44:38.501Z"
   },
   {
    "duration": 537,
    "start_time": "2025-10-07T15:44:45.932Z"
   },
   {
    "duration": 721,
    "start_time": "2025-10-07T15:45:00.671Z"
   },
   {
    "duration": 1005,
    "start_time": "2025-10-07T15:45:01.394Z"
   },
   {
    "duration": 16,
    "start_time": "2025-10-07T15:45:02.401Z"
   },
   {
    "duration": 190,
    "start_time": "2025-10-07T15:45:02.418Z"
   },
   {
    "duration": 23,
    "start_time": "2025-10-07T15:45:02.611Z"
   },
   {
    "duration": 36,
    "start_time": "2025-10-07T15:45:02.636Z"
   },
   {
    "duration": 104,
    "start_time": "2025-10-07T15:45:02.674Z"
   },
   {
    "duration": 5,
    "start_time": "2025-10-07T15:45:02.780Z"
   },
   {
    "duration": 363,
    "start_time": "2025-10-07T15:45:02.787Z"
   },
   {
    "duration": 115,
    "start_time": "2025-10-07T15:45:03.152Z"
   },
   {
    "duration": 15,
    "start_time": "2025-10-07T15:45:03.269Z"
   },
   {
    "duration": 130,
    "start_time": "2025-10-07T15:45:03.286Z"
   },
   {
    "duration": 159,
    "start_time": "2025-10-07T15:45:03.418Z"
   },
   {
    "duration": 86,
    "start_time": "2025-10-07T15:45:03.580Z"
   },
   {
    "duration": 3,
    "start_time": "2025-10-07T15:45:03.668Z"
   },
   {
    "duration": 289,
    "start_time": "2025-10-07T15:45:03.673Z"
   },
   {
    "duration": 285,
    "start_time": "2025-10-07T15:45:03.963Z"
   },
   {
    "duration": 235,
    "start_time": "2025-10-07T15:45:04.251Z"
   },
   {
    "duration": 108,
    "start_time": "2025-10-07T15:45:04.488Z"
   },
   {
    "duration": 16,
    "start_time": "2025-10-07T15:45:04.598Z"
   },
   {
    "duration": 17,
    "start_time": "2025-10-07T15:45:04.616Z"
   },
   {
    "duration": 7209,
    "start_time": "2025-10-07T15:45:04.643Z"
   },
   {
    "duration": 500,
    "start_time": "2025-10-07T15:45:11.855Z"
   },
   {
    "duration": 733,
    "start_time": "2025-10-07T15:45:18.175Z"
   },
   {
    "duration": 1000,
    "start_time": "2025-10-07T15:45:18.910Z"
   },
   {
    "duration": 17,
    "start_time": "2025-10-07T15:45:19.912Z"
   },
   {
    "duration": 220,
    "start_time": "2025-10-07T15:45:19.931Z"
   },
   {
    "duration": 4,
    "start_time": "2025-10-07T15:45:20.158Z"
   },
   {
    "duration": 94,
    "start_time": "2025-10-07T15:45:20.164Z"
   },
   {
    "duration": 79,
    "start_time": "2025-10-07T15:45:20.260Z"
   },
   {
    "duration": 9,
    "start_time": "2025-10-07T15:45:20.341Z"
   },
   {
    "duration": 344,
    "start_time": "2025-10-07T15:45:20.353Z"
   },
   {
    "duration": 121,
    "start_time": "2025-10-07T15:45:20.699Z"
   },
   {
    "duration": 32,
    "start_time": "2025-10-07T15:45:20.822Z"
   },
   {
    "duration": 143,
    "start_time": "2025-10-07T15:45:20.855Z"
   },
   {
    "duration": 156,
    "start_time": "2025-10-07T15:45:21.000Z"
   },
   {
    "duration": 74,
    "start_time": "2025-10-07T15:45:21.159Z"
   },
   {
    "duration": 6,
    "start_time": "2025-10-07T15:45:21.242Z"
   },
   {
    "duration": 267,
    "start_time": "2025-10-07T15:45:21.252Z"
   },
   {
    "duration": 247,
    "start_time": "2025-10-07T15:45:21.521Z"
   },
   {
    "duration": 235,
    "start_time": "2025-10-07T15:45:21.770Z"
   },
   {
    "duration": 113,
    "start_time": "2025-10-07T15:45:22.007Z"
   },
   {
    "duration": 27,
    "start_time": "2025-10-07T15:45:22.122Z"
   },
   {
    "duration": 37,
    "start_time": "2025-10-07T15:45:22.150Z"
   },
   {
    "duration": 7207,
    "start_time": "2025-10-07T15:45:22.189Z"
   },
   {
    "duration": 484,
    "start_time": "2025-10-07T15:45:29.398Z"
   },
   {
    "duration": 750,
    "start_time": "2025-10-07T15:49:06.503Z"
   },
   {
    "duration": 1035,
    "start_time": "2025-10-07T15:49:07.256Z"
   },
   {
    "duration": 16,
    "start_time": "2025-10-07T15:49:08.293Z"
   },
   {
    "duration": 180,
    "start_time": "2025-10-07T15:49:08.311Z"
   },
   {
    "duration": 48,
    "start_time": "2025-10-07T15:49:08.492Z"
   },
   {
    "duration": 11,
    "start_time": "2025-10-07T15:49:08.542Z"
   },
   {
    "duration": 74,
    "start_time": "2025-10-07T15:49:08.555Z"
   },
   {
    "duration": 4,
    "start_time": "2025-10-07T15:49:08.631Z"
   },
   {
    "duration": 345,
    "start_time": "2025-10-07T15:49:08.643Z"
   },
   {
    "duration": 118,
    "start_time": "2025-10-07T15:49:08.990Z"
   },
   {
    "duration": 15,
    "start_time": "2025-10-07T15:49:09.109Z"
   },
   {
    "duration": 108,
    "start_time": "2025-10-07T15:49:09.151Z"
   },
   {
    "duration": 149,
    "start_time": "2025-10-07T15:49:09.261Z"
   },
   {
    "duration": 88,
    "start_time": "2025-10-07T15:49:09.412Z"
   },
   {
    "duration": 3,
    "start_time": "2025-10-07T15:49:09.502Z"
   },
   {
    "duration": 325,
    "start_time": "2025-10-07T15:49:09.506Z"
   },
   {
    "duration": 240,
    "start_time": "2025-10-07T15:49:09.833Z"
   },
   {
    "duration": 214,
    "start_time": "2025-10-07T15:49:10.074Z"
   },
   {
    "duration": 107,
    "start_time": "2025-10-07T15:49:10.290Z"
   },
   {
    "duration": 14,
    "start_time": "2025-10-07T15:49:10.399Z"
   },
   {
    "duration": 4,
    "start_time": "2025-10-07T15:49:10.415Z"
   },
   {
    "duration": 7144,
    "start_time": "2025-10-07T15:49:10.421Z"
   },
   {
    "duration": 438,
    "start_time": "2025-10-07T15:49:17.567Z"
   },
   {
    "duration": 2442,
    "start_time": "2025-10-07T15:55:22.398Z"
   },
   {
    "duration": 1294,
    "start_time": "2025-10-07T15:57:02.958Z"
   },
   {
    "duration": 6,
    "start_time": "2025-10-07T15:59:31.490Z"
   },
   {
    "duration": 60,
    "start_time": "2025-10-08T14:40:42.785Z"
   },
   {
    "duration": 979,
    "start_time": "2025-10-08T14:40:47.027Z"
   },
   {
    "duration": 1021,
    "start_time": "2025-10-08T14:40:48.009Z"
   },
   {
    "duration": 21,
    "start_time": "2025-10-08T14:40:49.034Z"
   },
   {
    "duration": 219,
    "start_time": "2025-10-08T14:40:49.057Z"
   },
   {
    "duration": 3,
    "start_time": "2025-10-08T14:40:49.279Z"
   },
   {
    "duration": 39,
    "start_time": "2025-10-08T14:40:49.284Z"
   },
   {
    "duration": 81,
    "start_time": "2025-10-08T14:40:49.325Z"
   },
   {
    "duration": 4,
    "start_time": "2025-10-08T14:40:49.408Z"
   },
   {
    "duration": 337,
    "start_time": "2025-10-08T14:40:49.413Z"
   },
   {
    "duration": 124,
    "start_time": "2025-10-08T14:40:49.751Z"
   },
   {
    "duration": 15,
    "start_time": "2025-10-08T14:40:49.876Z"
   },
   {
    "duration": 141,
    "start_time": "2025-10-08T14:40:49.894Z"
   },
   {
    "duration": 157,
    "start_time": "2025-10-08T14:40:50.037Z"
   },
   {
    "duration": 97,
    "start_time": "2025-10-08T14:40:50.197Z"
   },
   {
    "duration": 4,
    "start_time": "2025-10-08T14:40:50.296Z"
   },
   {
    "duration": 266,
    "start_time": "2025-10-08T14:40:50.302Z"
   },
   {
    "duration": 236,
    "start_time": "2025-10-08T14:40:50.570Z"
   },
   {
    "duration": 231,
    "start_time": "2025-10-08T14:40:50.807Z"
   },
   {
    "duration": 101,
    "start_time": "2025-10-08T14:40:51.043Z"
   },
   {
    "duration": 16,
    "start_time": "2025-10-08T14:40:51.146Z"
   },
   {
    "duration": 7,
    "start_time": "2025-10-08T14:40:51.164Z"
   },
   {
    "duration": 7231,
    "start_time": "2025-10-08T14:40:51.173Z"
   },
   {
    "duration": 470,
    "start_time": "2025-10-08T14:40:58.405Z"
   },
   {
    "duration": 2597,
    "start_time": "2025-10-08T14:40:58.877Z"
   },
   {
    "duration": 1377,
    "start_time": "2025-10-08T14:41:01.476Z"
   },
   {
    "duration": 843,
    "start_time": "2025-10-08T14:41:02.855Z"
   },
   {
    "duration": 745,
    "start_time": "2025-10-08T14:42:37.464Z"
   },
   {
    "duration": 1011,
    "start_time": "2025-10-08T14:42:38.211Z"
   },
   {
    "duration": 28,
    "start_time": "2025-10-08T14:42:39.224Z"
   },
   {
    "duration": 164,
    "start_time": "2025-10-08T14:42:39.254Z"
   },
   {
    "duration": 3,
    "start_time": "2025-10-08T14:42:39.420Z"
   },
   {
    "duration": 28,
    "start_time": "2025-10-08T14:42:39.429Z"
   },
   {
    "duration": 62,
    "start_time": "2025-10-08T14:42:39.459Z"
   },
   {
    "duration": 4,
    "start_time": "2025-10-08T14:42:39.523Z"
   },
   {
    "duration": 341,
    "start_time": "2025-10-08T14:42:39.529Z"
   },
   {
    "duration": 124,
    "start_time": "2025-10-08T14:42:39.872Z"
   },
   {
    "duration": 36,
    "start_time": "2025-10-08T14:42:39.998Z"
   },
   {
    "duration": 146,
    "start_time": "2025-10-08T14:42:40.049Z"
   },
   {
    "duration": 162,
    "start_time": "2025-10-08T14:42:40.196Z"
   },
   {
    "duration": 118,
    "start_time": "2025-10-08T14:42:40.360Z"
   },
   {
    "duration": 3,
    "start_time": "2025-10-08T14:42:40.480Z"
   },
   {
    "duration": 263,
    "start_time": "2025-10-08T14:42:40.485Z"
   },
   {
    "duration": 244,
    "start_time": "2025-10-08T14:42:40.750Z"
   },
   {
    "duration": 220,
    "start_time": "2025-10-08T14:42:40.996Z"
   },
   {
    "duration": 99,
    "start_time": "2025-10-08T14:42:41.218Z"
   },
   {
    "duration": 22,
    "start_time": "2025-10-08T14:42:41.330Z"
   },
   {
    "duration": 3,
    "start_time": "2025-10-08T14:42:41.354Z"
   },
   {
    "duration": 7346,
    "start_time": "2025-10-08T14:42:41.359Z"
   },
   {
    "duration": 487,
    "start_time": "2025-10-08T14:42:48.707Z"
   },
   {
    "duration": 21,
    "start_time": "2025-10-08T14:42:49.196Z"
   },
   {
    "duration": 491,
    "start_time": "2025-10-08T14:42:49.219Z"
   },
   {
    "duration": 177,
    "start_time": "2025-10-08T14:42:49.712Z"
   },
   {
    "duration": 39,
    "start_time": "2025-10-08T14:43:25.390Z"
   },
   {
    "duration": 444,
    "start_time": "2025-10-08T14:43:26.290Z"
   },
   {
    "duration": 3539,
    "start_time": "2025-10-08T14:53:54.555Z"
   },
   {
    "duration": 705,
    "start_time": "2025-10-08T14:53:58.098Z"
   },
   {
    "duration": 979,
    "start_time": "2025-10-08T14:53:58.804Z"
   },
   {
    "duration": 17,
    "start_time": "2025-10-08T14:53:59.785Z"
   },
   {
    "duration": 195,
    "start_time": "2025-10-08T14:53:59.805Z"
   },
   {
    "duration": 4,
    "start_time": "2025-10-08T14:54:00.002Z"
   },
   {
    "duration": 45,
    "start_time": "2025-10-08T14:54:00.008Z"
   },
   {
    "duration": 77,
    "start_time": "2025-10-08T14:54:00.056Z"
   },
   {
    "duration": 5,
    "start_time": "2025-10-08T14:54:00.135Z"
   },
   {
    "duration": 365,
    "start_time": "2025-10-08T14:54:00.143Z"
   },
   {
    "duration": 126,
    "start_time": "2025-10-08T14:54:00.511Z"
   },
   {
    "duration": 15,
    "start_time": "2025-10-08T14:54:00.639Z"
   },
   {
    "duration": 121,
    "start_time": "2025-10-08T14:54:00.656Z"
   },
   {
    "duration": 172,
    "start_time": "2025-10-08T14:54:00.782Z"
   },
   {
    "duration": 85,
    "start_time": "2025-10-08T14:54:00.956Z"
   },
   {
    "duration": 3,
    "start_time": "2025-10-08T14:54:01.043Z"
   },
   {
    "duration": 252,
    "start_time": "2025-10-08T14:54:01.048Z"
   },
   {
    "duration": 238,
    "start_time": "2025-10-08T14:54:01.302Z"
   },
   {
    "duration": 217,
    "start_time": "2025-10-08T14:54:01.542Z"
   },
   {
    "duration": 111,
    "start_time": "2025-10-08T14:54:01.760Z"
   },
   {
    "duration": 15,
    "start_time": "2025-10-08T14:54:01.873Z"
   },
   {
    "duration": 3,
    "start_time": "2025-10-08T14:54:01.890Z"
   },
   {
    "duration": 7005,
    "start_time": "2025-10-08T14:54:01.895Z"
   },
   {
    "duration": 485,
    "start_time": "2025-10-08T14:54:08.902Z"
   },
   {
    "duration": 21,
    "start_time": "2025-10-08T14:54:09.389Z"
   },
   {
    "duration": 466,
    "start_time": "2025-10-08T14:54:09.412Z"
   },
   {
    "duration": 3,
    "start_time": "2025-10-08T14:54:09.880Z"
   },
   {
    "duration": 122,
    "start_time": "2025-10-08T14:54:09.884Z"
   },
   {
    "duration": 0,
    "start_time": "2025-10-08T14:54:10.008Z"
   },
   {
    "duration": 0,
    "start_time": "2025-10-08T14:54:10.009Z"
   },
   {
    "duration": 2744,
    "start_time": "2025-10-08T14:56:52.105Z"
   },
   {
    "duration": 1283,
    "start_time": "2025-10-08T14:56:54.852Z"
   },
   {
    "duration": 990,
    "start_time": "2025-10-08T14:56:56.136Z"
   },
   {
    "duration": 17,
    "start_time": "2025-10-08T14:56:57.131Z"
   },
   {
    "duration": 189,
    "start_time": "2025-10-08T14:56:57.149Z"
   },
   {
    "duration": 3,
    "start_time": "2025-10-08T14:56:57.340Z"
   },
   {
    "duration": 37,
    "start_time": "2025-10-08T14:56:57.345Z"
   },
   {
    "duration": 65,
    "start_time": "2025-10-08T14:56:57.384Z"
   },
   {
    "duration": 4,
    "start_time": "2025-10-08T14:56:57.451Z"
   },
   {
    "duration": 346,
    "start_time": "2025-10-08T14:56:57.458Z"
   },
   {
    "duration": 124,
    "start_time": "2025-10-08T14:56:57.806Z"
   },
   {
    "duration": 16,
    "start_time": "2025-10-08T14:56:57.932Z"
   },
   {
    "duration": 122,
    "start_time": "2025-10-08T14:56:57.950Z"
   },
   {
    "duration": 158,
    "start_time": "2025-10-08T14:56:58.074Z"
   },
   {
    "duration": 75,
    "start_time": "2025-10-08T14:56:58.234Z"
   },
   {
    "duration": 4,
    "start_time": "2025-10-08T14:56:58.310Z"
   },
   {
    "duration": 252,
    "start_time": "2025-10-08T14:56:58.330Z"
   },
   {
    "duration": 233,
    "start_time": "2025-10-08T14:56:58.584Z"
   },
   {
    "duration": 221,
    "start_time": "2025-10-08T14:56:58.819Z"
   },
   {
    "duration": 141,
    "start_time": "2025-10-08T14:56:59.042Z"
   },
   {
    "duration": 17,
    "start_time": "2025-10-08T14:56:59.185Z"
   },
   {
    "duration": 4,
    "start_time": "2025-10-08T14:56:59.204Z"
   },
   {
    "duration": 7134,
    "start_time": "2025-10-08T14:56:59.209Z"
   },
   {
    "duration": 560,
    "start_time": "2025-10-08T14:57:06.345Z"
   },
   {
    "duration": 34,
    "start_time": "2025-10-08T14:57:06.907Z"
   },
   {
    "duration": 440,
    "start_time": "2025-10-08T14:57:06.943Z"
   },
   {
    "duration": 3,
    "start_time": "2025-10-08T14:57:07.385Z"
   },
   {
    "duration": 53,
    "start_time": "2025-10-08T14:59:51.419Z"
   },
   {
    "duration": 2735,
    "start_time": "2025-10-08T14:59:58.650Z"
   },
   {
    "duration": 1318,
    "start_time": "2025-10-08T15:00:01.389Z"
   },
   {
    "duration": 1015,
    "start_time": "2025-10-08T15:00:02.708Z"
   },
   {
    "duration": 19,
    "start_time": "2025-10-08T15:00:03.725Z"
   },
   {
    "duration": 207,
    "start_time": "2025-10-08T15:00:03.746Z"
   },
   {
    "duration": 4,
    "start_time": "2025-10-08T15:00:03.954Z"
   },
   {
    "duration": 6,
    "start_time": "2025-10-08T15:00:03.960Z"
   },
   {
    "duration": 97,
    "start_time": "2025-10-08T15:00:03.968Z"
   },
   {
    "duration": 5,
    "start_time": "2025-10-08T15:00:04.067Z"
   },
   {
    "duration": 355,
    "start_time": "2025-10-08T15:00:04.076Z"
   },
   {
    "duration": 118,
    "start_time": "2025-10-08T15:00:04.433Z"
   },
   {
    "duration": 15,
    "start_time": "2025-10-08T15:00:04.553Z"
   },
   {
    "duration": 124,
    "start_time": "2025-10-08T15:00:04.570Z"
   },
   {
    "duration": 153,
    "start_time": "2025-10-08T15:00:04.696Z"
   },
   {
    "duration": 80,
    "start_time": "2025-10-08T15:00:04.851Z"
   },
   {
    "duration": 3,
    "start_time": "2025-10-08T15:00:04.933Z"
   },
   {
    "duration": 254,
    "start_time": "2025-10-08T15:00:04.937Z"
   },
   {
    "duration": 232,
    "start_time": "2025-10-08T15:00:05.193Z"
   },
   {
    "duration": 225,
    "start_time": "2025-10-08T15:00:05.429Z"
   },
   {
    "duration": 107,
    "start_time": "2025-10-08T15:00:05.656Z"
   },
   {
    "duration": 14,
    "start_time": "2025-10-08T15:00:05.765Z"
   },
   {
    "duration": 9,
    "start_time": "2025-10-08T15:00:05.781Z"
   },
   {
    "duration": 6922,
    "start_time": "2025-10-08T15:00:05.792Z"
   },
   {
    "duration": 551,
    "start_time": "2025-10-08T15:00:12.715Z"
   },
   {
    "duration": 22,
    "start_time": "2025-10-08T15:00:13.268Z"
   },
   {
    "duration": 455,
    "start_time": "2025-10-08T15:00:13.292Z"
   },
   {
    "duration": 3,
    "start_time": "2025-10-08T15:00:13.749Z"
   },
   {
    "duration": 84516,
    "start_time": "2025-10-08T15:00:13.755Z"
   },
   {
    "duration": 0,
    "start_time": "2025-10-08T15:01:38.273Z"
   },
   {
    "duration": 0,
    "start_time": "2025-10-08T15:01:38.273Z"
   },
   {
    "duration": 71,
    "start_time": "2025-10-08T15:08:13.821Z"
   },
   {
    "duration": 53,
    "start_time": "2025-10-08T15:08:25.543Z"
   },
   {
    "duration": 13,
    "start_time": "2025-10-08T15:09:01.044Z"
   },
   {
    "duration": 175,
    "start_time": "2025-10-08T15:09:07.129Z"
   },
   {
    "duration": 19,
    "start_time": "2025-10-08T15:10:01.355Z"
   },
   {
    "duration": 14,
    "start_time": "2025-10-08T15:11:15.756Z"
   },
   {
    "duration": 2660,
    "start_time": "2025-10-08T15:11:39.362Z"
   },
   {
    "duration": 1333,
    "start_time": "2025-10-08T15:11:42.025Z"
   },
   {
    "duration": 962,
    "start_time": "2025-10-08T15:11:43.360Z"
   },
   {
    "duration": 19,
    "start_time": "2025-10-08T15:11:44.324Z"
   },
   {
    "duration": 165,
    "start_time": "2025-10-08T15:11:44.344Z"
   },
   {
    "duration": 3,
    "start_time": "2025-10-08T15:11:44.511Z"
   },
   {
    "duration": 15,
    "start_time": "2025-10-08T15:11:44.516Z"
   },
   {
    "duration": 63,
    "start_time": "2025-10-08T15:11:44.533Z"
   },
   {
    "duration": 6,
    "start_time": "2025-10-08T15:11:44.598Z"
   },
   {
    "duration": 337,
    "start_time": "2025-10-08T15:11:44.608Z"
   },
   {
    "duration": 124,
    "start_time": "2025-10-08T15:11:44.947Z"
   },
   {
    "duration": 16,
    "start_time": "2025-10-08T15:11:45.074Z"
   },
   {
    "duration": 128,
    "start_time": "2025-10-08T15:11:45.093Z"
   },
   {
    "duration": 153,
    "start_time": "2025-10-08T15:11:45.223Z"
   },
   {
    "duration": 95,
    "start_time": "2025-10-08T15:11:45.379Z"
   },
   {
    "duration": 3,
    "start_time": "2025-10-08T15:11:45.476Z"
   },
   {
    "duration": 251,
    "start_time": "2025-10-08T15:11:45.481Z"
   },
   {
    "duration": 234,
    "start_time": "2025-10-08T15:11:45.734Z"
   },
   {
    "duration": 217,
    "start_time": "2025-10-08T15:11:45.970Z"
   },
   {
    "duration": 111,
    "start_time": "2025-10-08T15:11:46.189Z"
   },
   {
    "duration": 28,
    "start_time": "2025-10-08T15:11:46.302Z"
   },
   {
    "duration": 3,
    "start_time": "2025-10-08T15:11:46.333Z"
   },
   {
    "duration": 6919,
    "start_time": "2025-10-08T15:11:46.338Z"
   },
   {
    "duration": 545,
    "start_time": "2025-10-08T15:11:53.259Z"
   },
   {
    "duration": 29,
    "start_time": "2025-10-08T15:11:53.806Z"
   },
   {
    "duration": 477,
    "start_time": "2025-10-08T15:11:53.837Z"
   },
   {
    "duration": 22,
    "start_time": "2025-10-08T15:11:54.316Z"
   },
   {
    "duration": 8,
    "start_time": "2025-10-08T15:11:54.342Z"
   },
   {
    "duration": 5114,
    "start_time": "2025-10-08T15:11:54.352Z"
   },
   {
    "duration": 0,
    "start_time": "2025-10-08T15:11:59.468Z"
   },
   {
    "duration": 0,
    "start_time": "2025-10-08T15:11:59.469Z"
   },
   {
    "duration": 21,
    "start_time": "2025-10-08T15:12:52.035Z"
   },
   {
    "duration": 2721,
    "start_time": "2025-10-08T15:13:16.301Z"
   },
   {
    "duration": 1333,
    "start_time": "2025-10-08T15:13:19.025Z"
   },
   {
    "duration": 965,
    "start_time": "2025-10-08T15:13:20.360Z"
   },
   {
    "duration": 17,
    "start_time": "2025-10-08T15:13:21.329Z"
   },
   {
    "duration": 182,
    "start_time": "2025-10-08T15:13:21.348Z"
   },
   {
    "duration": 3,
    "start_time": "2025-10-08T15:13:21.532Z"
   },
   {
    "duration": 6,
    "start_time": "2025-10-08T15:13:21.537Z"
   },
   {
    "duration": 85,
    "start_time": "2025-10-08T15:13:21.545Z"
   },
   {
    "duration": 4,
    "start_time": "2025-10-08T15:13:21.632Z"
   },
   {
    "duration": 329,
    "start_time": "2025-10-08T15:13:21.638Z"
   },
   {
    "duration": 122,
    "start_time": "2025-10-08T15:13:21.970Z"
   },
   {
    "duration": 16,
    "start_time": "2025-10-08T15:13:22.094Z"
   },
   {
    "duration": 123,
    "start_time": "2025-10-08T15:13:22.112Z"
   },
   {
    "duration": 171,
    "start_time": "2025-10-08T15:13:22.239Z"
   },
   {
    "duration": 86,
    "start_time": "2025-10-08T15:13:22.412Z"
   },
   {
    "duration": 3,
    "start_time": "2025-10-08T15:13:22.500Z"
   },
   {
    "duration": 285,
    "start_time": "2025-10-08T15:13:22.505Z"
   },
   {
    "duration": 267,
    "start_time": "2025-10-08T15:13:22.793Z"
   },
   {
    "duration": 226,
    "start_time": "2025-10-08T15:13:23.063Z"
   },
   {
    "duration": 114,
    "start_time": "2025-10-08T15:13:23.291Z"
   },
   {
    "duration": 14,
    "start_time": "2025-10-08T15:13:23.406Z"
   },
   {
    "duration": 3,
    "start_time": "2025-10-08T15:13:23.431Z"
   },
   {
    "duration": 7013,
    "start_time": "2025-10-08T15:13:23.436Z"
   },
   {
    "duration": 572,
    "start_time": "2025-10-08T15:13:30.451Z"
   },
   {
    "duration": 22,
    "start_time": "2025-10-08T15:13:31.029Z"
   },
   {
    "duration": 459,
    "start_time": "2025-10-08T15:13:31.053Z"
   },
   {
    "duration": 19,
    "start_time": "2025-10-08T15:13:31.515Z"
   },
   {
    "duration": 54,
    "start_time": "2025-10-08T15:13:31.537Z"
   },
   {
    "duration": 5,
    "start_time": "2025-10-08T15:13:31.593Z"
   },
   {
    "duration": 55,
    "start_time": "2025-10-08T15:21:22.477Z"
   },
   {
    "duration": 2743,
    "start_time": "2025-10-08T15:21:28.321Z"
   },
   {
    "duration": 1295,
    "start_time": "2025-10-08T15:21:31.066Z"
   },
   {
    "duration": 983,
    "start_time": "2025-10-08T15:21:32.363Z"
   },
   {
    "duration": 17,
    "start_time": "2025-10-08T15:21:33.349Z"
   },
   {
    "duration": 179,
    "start_time": "2025-10-08T15:21:33.368Z"
   },
   {
    "duration": 4,
    "start_time": "2025-10-08T15:21:33.549Z"
   },
   {
    "duration": 9,
    "start_time": "2025-10-08T15:21:33.555Z"
   },
   {
    "duration": 75,
    "start_time": "2025-10-08T15:21:33.566Z"
   },
   {
    "duration": 4,
    "start_time": "2025-10-08T15:21:33.643Z"
   },
   {
    "duration": 340,
    "start_time": "2025-10-08T15:21:33.650Z"
   },
   {
    "duration": 145,
    "start_time": "2025-10-08T15:21:33.993Z"
   },
   {
    "duration": 16,
    "start_time": "2025-10-08T15:21:34.140Z"
   },
   {
    "duration": 119,
    "start_time": "2025-10-08T15:21:34.158Z"
   },
   {
    "duration": 151,
    "start_time": "2025-10-08T15:21:34.279Z"
   },
   {
    "duration": 72,
    "start_time": "2025-10-08T15:21:34.432Z"
   },
   {
    "duration": 3,
    "start_time": "2025-10-08T15:21:34.506Z"
   },
   {
    "duration": 256,
    "start_time": "2025-10-08T15:21:34.510Z"
   },
   {
    "duration": 227,
    "start_time": "2025-10-08T15:21:34.767Z"
   },
   {
    "duration": 213,
    "start_time": "2025-10-08T15:21:34.996Z"
   },
   {
    "duration": 100,
    "start_time": "2025-10-08T15:21:35.211Z"
   },
   {
    "duration": 27,
    "start_time": "2025-10-08T15:21:35.313Z"
   },
   {
    "duration": 36,
    "start_time": "2025-10-08T15:21:35.342Z"
   },
   {
    "duration": 6881,
    "start_time": "2025-10-08T15:21:35.380Z"
   },
   {
    "duration": 549,
    "start_time": "2025-10-08T15:21:42.263Z"
   },
   {
    "duration": 34,
    "start_time": "2025-10-08T15:21:42.814Z"
   },
   {
    "duration": 447,
    "start_time": "2025-10-08T15:21:42.850Z"
   },
   {
    "duration": 9,
    "start_time": "2025-10-08T15:21:43.300Z"
   },
   {
    "duration": 64,
    "start_time": "2025-10-08T15:21:43.312Z"
   },
   {
    "duration": 2,
    "start_time": "2025-10-08T15:21:43.378Z"
   },
   {
    "duration": 126,
    "start_time": "2025-10-08T15:21:43.382Z"
   },
   {
    "duration": 0,
    "start_time": "2025-10-08T15:21:43.509Z"
   },
   {
    "duration": 0,
    "start_time": "2025-10-08T15:21:43.511Z"
   },
   {
    "duration": 2670,
    "start_time": "2025-10-08T15:25:35.710Z"
   },
   {
    "duration": 1229,
    "start_time": "2025-10-08T15:25:38.383Z"
   },
   {
    "duration": 980,
    "start_time": "2025-10-08T15:25:39.614Z"
   },
   {
    "duration": 17,
    "start_time": "2025-10-08T15:25:40.596Z"
   },
   {
    "duration": 178,
    "start_time": "2025-10-08T15:25:40.616Z"
   },
   {
    "duration": 3,
    "start_time": "2025-10-08T15:25:40.796Z"
   },
   {
    "duration": 6,
    "start_time": "2025-10-08T15:25:40.801Z"
   },
   {
    "duration": 83,
    "start_time": "2025-10-08T15:25:40.808Z"
   },
   {
    "duration": 4,
    "start_time": "2025-10-08T15:25:40.893Z"
   },
   {
    "duration": 327,
    "start_time": "2025-10-08T15:25:40.898Z"
   },
   {
    "duration": 114,
    "start_time": "2025-10-08T15:25:41.229Z"
   },
   {
    "duration": 15,
    "start_time": "2025-10-08T15:25:41.345Z"
   },
   {
    "duration": 125,
    "start_time": "2025-10-08T15:25:41.362Z"
   },
   {
    "duration": 154,
    "start_time": "2025-10-08T15:25:41.490Z"
   },
   {
    "duration": 72,
    "start_time": "2025-10-08T15:25:41.646Z"
   },
   {
    "duration": 2,
    "start_time": "2025-10-08T15:25:41.731Z"
   },
   {
    "duration": 245,
    "start_time": "2025-10-08T15:25:41.735Z"
   },
   {
    "duration": 230,
    "start_time": "2025-10-08T15:25:41.982Z"
   },
   {
    "duration": 219,
    "start_time": "2025-10-08T15:25:42.214Z"
   },
   {
    "duration": 111,
    "start_time": "2025-10-08T15:25:42.434Z"
   },
   {
    "duration": 15,
    "start_time": "2025-10-08T15:25:42.546Z"
   },
   {
    "duration": 6,
    "start_time": "2025-10-08T15:25:42.563Z"
   },
   {
    "duration": 6919,
    "start_time": "2025-10-08T15:25:42.570Z"
   },
   {
    "duration": 566,
    "start_time": "2025-10-08T15:25:49.491Z"
   },
   {
    "duration": 27,
    "start_time": "2025-10-08T15:25:50.060Z"
   },
   {
    "duration": 434,
    "start_time": "2025-10-08T15:25:50.089Z"
   },
   {
    "duration": 9,
    "start_time": "2025-10-08T15:25:50.530Z"
   },
   {
    "duration": 60,
    "start_time": "2025-10-08T15:25:50.541Z"
   },
   {
    "duration": 3,
    "start_time": "2025-10-08T15:25:50.603Z"
   },
   {
    "duration": 151402,
    "start_time": "2025-10-08T15:25:50.608Z"
   },
   {
    "duration": 1810,
    "start_time": "2025-10-08T15:28:22.012Z"
   },
   {
    "duration": 21,
    "start_time": "2025-10-08T15:28:23.830Z"
   },
   {
    "duration": 4606,
    "start_time": "2025-10-08T15:29:32.606Z"
   },
   {
    "duration": 1543,
    "start_time": "2025-10-08T15:29:40.050Z"
   },
   {
    "duration": 59912,
    "start_time": "2025-10-08T15:38:04.882Z"
   },
   {
    "duration": 1813,
    "start_time": "2025-10-08T15:39:08.557Z"
   },
   {
    "duration": 13,
    "start_time": "2025-10-08T15:42:21.753Z"
   },
   {
    "duration": 3827,
    "start_time": "2025-10-08T17:32:30.327Z"
   },
   {
    "duration": 1528,
    "start_time": "2025-10-08T17:32:34.157Z"
   },
   {
    "duration": 969,
    "start_time": "2025-10-08T17:32:35.686Z"
   },
   {
    "duration": 17,
    "start_time": "2025-10-08T17:32:36.657Z"
   },
   {
    "duration": 173,
    "start_time": "2025-10-08T17:32:36.676Z"
   },
   {
    "duration": 3,
    "start_time": "2025-10-08T17:32:36.850Z"
   },
   {
    "duration": 36,
    "start_time": "2025-10-08T17:32:36.855Z"
   },
   {
    "duration": 63,
    "start_time": "2025-10-08T17:32:36.893Z"
   },
   {
    "duration": 4,
    "start_time": "2025-10-08T17:32:36.958Z"
   },
   {
    "duration": 370,
    "start_time": "2025-10-08T17:32:36.972Z"
   },
   {
    "duration": 113,
    "start_time": "2025-10-08T17:32:37.344Z"
   },
   {
    "duration": 16,
    "start_time": "2025-10-08T17:32:37.459Z"
   },
   {
    "duration": 123,
    "start_time": "2025-10-08T17:32:37.476Z"
   },
   {
    "duration": 147,
    "start_time": "2025-10-08T17:32:37.603Z"
   },
   {
    "duration": 101,
    "start_time": "2025-10-08T17:32:37.752Z"
   },
   {
    "duration": 50,
    "start_time": "2025-10-08T17:32:37.855Z"
   },
   {
    "duration": 345,
    "start_time": "2025-10-08T17:32:37.907Z"
   },
   {
    "duration": 233,
    "start_time": "2025-10-08T17:32:38.254Z"
   },
   {
    "duration": 220,
    "start_time": "2025-10-08T17:32:38.489Z"
   },
   {
    "duration": 105,
    "start_time": "2025-10-08T17:32:38.711Z"
   },
   {
    "duration": 24,
    "start_time": "2025-10-08T17:32:38.818Z"
   },
   {
    "duration": 30,
    "start_time": "2025-10-08T17:32:38.844Z"
   },
   {
    "duration": 6647,
    "start_time": "2025-10-08T17:32:38.875Z"
   },
   {
    "duration": 541,
    "start_time": "2025-10-08T17:32:45.524Z"
   },
   {
    "duration": 21,
    "start_time": "2025-10-08T17:32:46.067Z"
   },
   {
    "duration": 456,
    "start_time": "2025-10-08T17:32:46.089Z"
   },
   {
    "duration": 10,
    "start_time": "2025-10-08T17:32:46.546Z"
   },
   {
    "duration": 49,
    "start_time": "2025-10-08T17:32:46.558Z"
   },
   {
    "duration": 3,
    "start_time": "2025-10-08T17:32:46.609Z"
   },
   {
    "duration": 58700,
    "start_time": "2025-10-08T17:32:46.613Z"
   },
   {
    "duration": 1801,
    "start_time": "2025-10-08T17:33:45.315Z"
   },
   {
    "duration": 26,
    "start_time": "2025-10-08T17:33:47.117Z"
   },
   {
    "duration": 11,
    "start_time": "2025-10-08T17:33:47.145Z"
   },
   {
    "duration": 4,
    "start_time": "2025-10-08T18:00:53.855Z"
   },
   {
    "duration": 118,
    "start_time": "2025-10-08T18:00:54.992Z"
   },
   {
    "duration": 2826,
    "start_time": "2025-10-08T18:01:08.326Z"
   },
   {
    "duration": 1684,
    "start_time": "2025-10-08T18:01:11.156Z"
   },
   {
    "duration": 965,
    "start_time": "2025-10-08T18:01:12.844Z"
   },
   {
    "duration": 17,
    "start_time": "2025-10-08T18:01:13.811Z"
   },
   {
    "duration": 198,
    "start_time": "2025-10-08T18:01:13.830Z"
   },
   {
    "duration": 20,
    "start_time": "2025-10-08T18:01:14.029Z"
   },
   {
    "duration": 15,
    "start_time": "2025-10-08T18:01:14.051Z"
   },
   {
    "duration": 60,
    "start_time": "2025-10-08T18:01:14.068Z"
   },
   {
    "duration": 13,
    "start_time": "2025-10-08T18:01:14.129Z"
   },
   {
    "duration": 402,
    "start_time": "2025-10-08T18:01:14.144Z"
   },
   {
    "duration": 137,
    "start_time": "2025-10-08T18:01:14.548Z"
   },
   {
    "duration": 15,
    "start_time": "2025-10-08T18:01:14.687Z"
   },
   {
    "duration": 180,
    "start_time": "2025-10-08T18:01:14.706Z"
   },
   {
    "duration": 160,
    "start_time": "2025-10-08T18:01:14.889Z"
   },
   {
    "duration": 91,
    "start_time": "2025-10-08T18:01:15.051Z"
   },
   {
    "duration": 13,
    "start_time": "2025-10-08T18:01:15.144Z"
   },
   {
    "duration": 258,
    "start_time": "2025-10-08T18:01:15.159Z"
   },
   {
    "duration": 261,
    "start_time": "2025-10-08T18:01:15.418Z"
   },
   {
    "duration": 244,
    "start_time": "2025-10-08T18:01:15.681Z"
   },
   {
    "duration": 129,
    "start_time": "2025-10-08T18:01:15.926Z"
   },
   {
    "duration": 15,
    "start_time": "2025-10-08T18:01:16.057Z"
   },
   {
    "duration": 14,
    "start_time": "2025-10-08T18:01:16.074Z"
   },
   {
    "duration": 7387,
    "start_time": "2025-10-08T18:01:16.090Z"
   },
   {
    "duration": 472,
    "start_time": "2025-10-08T18:01:23.479Z"
   },
   {
    "duration": 26,
    "start_time": "2025-10-08T18:01:23.953Z"
   },
   {
    "duration": 501,
    "start_time": "2025-10-08T18:01:23.981Z"
   },
   {
    "duration": 9,
    "start_time": "2025-10-08T18:01:24.484Z"
   },
   {
    "duration": 101,
    "start_time": "2025-10-08T18:01:24.494Z"
   },
   {
    "duration": 2,
    "start_time": "2025-10-08T18:01:24.597Z"
   },
   {
    "duration": 63672,
    "start_time": "2025-10-08T18:01:24.601Z"
   },
   {
    "duration": 1774,
    "start_time": "2025-10-08T18:02:28.274Z"
   },
   {
    "duration": 17,
    "start_time": "2025-10-08T18:02:30.050Z"
   },
   {
    "duration": 95,
    "start_time": "2025-10-08T18:02:30.069Z"
   },
   {
    "duration": 30,
    "start_time": "2025-10-08T18:02:30.165Z"
   },
   {
    "duration": 142,
    "start_time": "2025-10-08T18:02:30.197Z"
   },
   {
    "duration": 0,
    "start_time": "2025-10-08T18:02:30.342Z"
   },
   {
    "duration": 0,
    "start_time": "2025-10-08T18:02:30.343Z"
   },
   {
    "duration": 0,
    "start_time": "2025-10-08T18:02:30.344Z"
   },
   {
    "duration": 0,
    "start_time": "2025-10-08T18:02:30.346Z"
   },
   {
    "duration": 2813,
    "start_time": "2025-10-08T18:03:40.069Z"
   },
   {
    "duration": 10403,
    "start_time": "2025-10-08T18:03:42.884Z"
   },
   {
    "duration": 10200,
    "start_time": "2025-10-08T18:03:53.290Z"
   },
   {
    "duration": 1907,
    "start_time": "2025-10-08T18:04:03.493Z"
   },
   {
    "duration": 934,
    "start_time": "2025-10-08T18:04:05.402Z"
   },
   {
    "duration": 18,
    "start_time": "2025-10-08T18:04:06.338Z"
   },
   {
    "duration": 204,
    "start_time": "2025-10-08T18:04:06.358Z"
   },
   {
    "duration": 4,
    "start_time": "2025-10-08T18:04:06.564Z"
   },
   {
    "duration": 38,
    "start_time": "2025-10-08T18:04:06.569Z"
   },
   {
    "duration": 64,
    "start_time": "2025-10-08T18:04:06.609Z"
   },
   {
    "duration": 5,
    "start_time": "2025-10-08T18:04:06.675Z"
   },
   {
    "duration": 327,
    "start_time": "2025-10-08T18:04:06.682Z"
   },
   {
    "duration": 114,
    "start_time": "2025-10-08T18:04:07.011Z"
   },
   {
    "duration": 26,
    "start_time": "2025-10-08T18:04:07.127Z"
   },
   {
    "duration": 131,
    "start_time": "2025-10-08T18:04:07.155Z"
   },
   {
    "duration": 142,
    "start_time": "2025-10-08T18:04:07.288Z"
   },
   {
    "duration": 88,
    "start_time": "2025-10-08T18:04:07.432Z"
   },
   {
    "duration": 3,
    "start_time": "2025-10-08T18:04:07.521Z"
   },
   {
    "duration": 253,
    "start_time": "2025-10-08T18:04:07.525Z"
   },
   {
    "duration": 215,
    "start_time": "2025-10-08T18:04:07.780Z"
   },
   {
    "duration": 212,
    "start_time": "2025-10-08T18:04:07.997Z"
   },
   {
    "duration": 101,
    "start_time": "2025-10-08T18:04:08.211Z"
   },
   {
    "duration": 14,
    "start_time": "2025-10-08T18:04:08.314Z"
   },
   {
    "duration": 12,
    "start_time": "2025-10-08T18:04:08.340Z"
   },
   {
    "duration": 6022,
    "start_time": "2025-10-08T18:04:08.354Z"
   },
   {
    "duration": 657,
    "start_time": "2025-10-08T18:04:14.378Z"
   },
   {
    "duration": 21,
    "start_time": "2025-10-08T18:04:15.041Z"
   },
   {
    "duration": 662,
    "start_time": "2025-10-08T18:04:15.066Z"
   },
   {
    "duration": 132,
    "start_time": "2025-10-08T18:04:15.730Z"
   },
   {
    "duration": 57,
    "start_time": "2025-10-08T18:04:15.864Z"
   },
   {
    "duration": 18,
    "start_time": "2025-10-08T18:04:15.923Z"
   },
   {
    "duration": 62689,
    "start_time": "2025-10-08T18:04:15.942Z"
   },
   {
    "duration": 1612,
    "start_time": "2025-10-08T18:05:18.633Z"
   },
   {
    "duration": 15,
    "start_time": "2025-10-08T18:05:20.247Z"
   },
   {
    "duration": 62,
    "start_time": "2025-10-08T18:05:20.263Z"
   },
   {
    "duration": 13,
    "start_time": "2025-10-08T18:05:20.327Z"
   },
   {
    "duration": 3,
    "start_time": "2025-10-08T18:05:20.342Z"
   },
   {
    "duration": 10,
    "start_time": "2025-10-08T18:05:20.347Z"
   },
   {
    "duration": 135,
    "start_time": "2025-10-08T18:05:20.359Z"
   },
   {
    "duration": 0,
    "start_time": "2025-10-08T18:05:20.496Z"
   },
   {
    "duration": 0,
    "start_time": "2025-10-08T18:05:20.497Z"
   },
   {
    "duration": 3,
    "start_time": "2025-10-08T18:06:25.770Z"
   },
   {
    "duration": 86,
    "start_time": "2025-10-08T18:06:29.642Z"
   },
   {
    "duration": 4,
    "start_time": "2025-10-08T18:06:35.592Z"
   },
   {
    "duration": 12,
    "start_time": "2025-10-08T18:06:38.669Z"
   },
   {
    "duration": 11,
    "start_time": "2025-10-08T18:07:01.184Z"
   },
   {
    "duration": 45532,
    "start_time": "2025-10-08T18:07:25.125Z"
   },
   {
    "duration": 43977,
    "start_time": "2025-10-08T18:09:07.994Z"
   },
   {
    "duration": 52,
    "start_time": "2025-10-08T18:13:02.208Z"
   },
   {
    "duration": 3,
    "start_time": "2025-10-08T18:13:02.859Z"
   },
   {
    "duration": 3,
    "start_time": "2025-10-08T18:13:03.266Z"
   },
   {
    "duration": 3,
    "start_time": "2025-10-08T18:13:03.700Z"
   },
   {
    "duration": 3,
    "start_time": "2025-10-08T18:13:04.360Z"
   },
   {
    "duration": 4,
    "start_time": "2025-10-08T18:13:05.208Z"
   },
   {
    "duration": 69500,
    "start_time": "2025-10-08T18:13:06.000Z"
   },
   {
    "duration": 1758,
    "start_time": "2025-10-08T18:15:53.244Z"
   },
   {
    "duration": 56,
    "start_time": "2025-10-08T18:19:32.994Z"
   },
   {
    "duration": 3,
    "start_time": "2025-10-08T18:19:33.528Z"
   },
   {
    "duration": 3,
    "start_time": "2025-10-08T18:19:34.310Z"
   },
   {
    "duration": 3,
    "start_time": "2025-10-08T18:19:36.146Z"
   },
   {
    "duration": 3,
    "start_time": "2025-10-08T18:19:36.958Z"
   },
   {
    "duration": 4,
    "start_time": "2025-10-08T18:19:37.647Z"
   },
   {
    "duration": 79097,
    "start_time": "2025-10-08T18:19:38.716Z"
   },
   {
    "duration": 4,
    "start_time": "2025-10-08T18:21:28.814Z"
   },
   {
    "duration": 62786,
    "start_time": "2025-10-08T18:21:29.481Z"
   },
   {
    "duration": 4,
    "start_time": "2025-10-08T18:22:38.248Z"
   },
   {
    "duration": 0,
    "start_time": "2025-10-08T18:28:15.340Z"
   },
   {
    "duration": 0,
    "start_time": "2025-10-08T18:28:15.342Z"
   },
   {
    "duration": 4,
    "start_time": "2025-10-08T18:28:17.383Z"
   },
   {
    "duration": 3505,
    "start_time": "2025-10-10T09:10:19.867Z"
   },
   {
    "duration": 6909,
    "start_time": "2025-10-10T09:10:23.375Z"
   },
   {
    "duration": 9290,
    "start_time": "2025-10-10T09:10:30.286Z"
   },
   {
    "duration": 2108,
    "start_time": "2025-10-10T09:10:39.579Z"
   },
   {
    "duration": 941,
    "start_time": "2025-10-10T09:10:41.689Z"
   },
   {
    "duration": 14,
    "start_time": "2025-10-10T09:10:42.631Z"
   },
   {
    "duration": 219,
    "start_time": "2025-10-10T09:10:42.647Z"
   },
   {
    "duration": 3,
    "start_time": "2025-10-10T09:10:42.867Z"
   },
   {
    "duration": 11,
    "start_time": "2025-10-10T09:10:42.872Z"
   },
   {
    "duration": 68,
    "start_time": "2025-10-10T09:10:42.885Z"
   },
   {
    "duration": 4,
    "start_time": "2025-10-10T09:10:42.954Z"
   },
   {
    "duration": 312,
    "start_time": "2025-10-10T09:10:42.960Z"
   },
   {
    "duration": 116,
    "start_time": "2025-10-10T09:10:43.274Z"
   },
   {
    "duration": 20,
    "start_time": "2025-10-10T09:10:43.392Z"
   },
   {
    "duration": 111,
    "start_time": "2025-10-10T09:10:43.414Z"
   },
   {
    "duration": 151,
    "start_time": "2025-10-10T09:10:43.526Z"
   },
   {
    "duration": 75,
    "start_time": "2025-10-10T09:10:43.679Z"
   },
   {
    "duration": 3,
    "start_time": "2025-10-10T09:10:43.756Z"
   },
   {
    "duration": 263,
    "start_time": "2025-10-10T09:10:43.760Z"
   },
   {
    "duration": 229,
    "start_time": "2025-10-10T09:10:44.025Z"
   },
   {
    "duration": 197,
    "start_time": "2025-10-10T09:10:44.255Z"
   },
   {
    "duration": 98,
    "start_time": "2025-10-10T09:10:44.454Z"
   },
   {
    "duration": 12,
    "start_time": "2025-10-10T09:10:44.554Z"
   },
   {
    "duration": 3,
    "start_time": "2025-10-10T09:10:44.567Z"
   },
   {
    "duration": 5787,
    "start_time": "2025-10-10T09:10:44.571Z"
   },
   {
    "duration": 637,
    "start_time": "2025-10-10T09:10:50.360Z"
   },
   {
    "duration": 26,
    "start_time": "2025-10-10T09:10:51.004Z"
   },
   {
    "duration": 556,
    "start_time": "2025-10-10T09:10:51.033Z"
   },
   {
    "duration": 16,
    "start_time": "2025-10-10T09:10:51.591Z"
   },
   {
    "duration": 46,
    "start_time": "2025-10-10T09:10:51.609Z"
   },
   {
    "duration": 2,
    "start_time": "2025-10-10T09:10:51.656Z"
   },
   {
    "duration": 62720,
    "start_time": "2025-10-10T09:10:51.660Z"
   },
   {
    "duration": 1502,
    "start_time": "2025-10-10T09:11:54.381Z"
   },
   {
    "duration": 22,
    "start_time": "2025-10-10T09:11:55.885Z"
   },
   {
    "duration": 42,
    "start_time": "2025-10-10T09:11:55.909Z"
   },
   {
    "duration": 3,
    "start_time": "2025-10-10T09:11:55.952Z"
   },
   {
    "duration": 8,
    "start_time": "2025-10-10T09:11:55.957Z"
   },
   {
    "duration": 5,
    "start_time": "2025-10-10T09:11:55.966Z"
   },
   {
    "duration": 3,
    "start_time": "2025-10-10T09:11:55.972Z"
   },
   {
    "duration": 4,
    "start_time": "2025-10-10T09:11:55.976Z"
   },
   {
    "duration": 923393,
    "start_time": "2025-10-10T09:11:55.981Z"
   },
   {
    "duration": 369353,
    "start_time": "2025-10-10T09:27:22.463Z"
   },
   {
    "duration": 10,
    "start_time": "2025-10-10T09:34:16.284Z"
   },
   {
    "duration": 2565,
    "start_time": "2025-10-10T09:34:51.793Z"
   },
   {
    "duration": 3188,
    "start_time": "2025-10-10T09:34:54.360Z"
   },
   {
    "duration": 2513,
    "start_time": "2025-10-10T09:34:57.549Z"
   },
   {
    "duration": 1837,
    "start_time": "2025-10-10T09:35:00.064Z"
   },
   {
    "duration": 914,
    "start_time": "2025-10-10T09:35:01.903Z"
   },
   {
    "duration": 14,
    "start_time": "2025-10-10T09:35:02.819Z"
   },
   {
    "duration": 245,
    "start_time": "2025-10-10T09:35:02.835Z"
   },
   {
    "duration": 3,
    "start_time": "2025-10-10T09:35:03.082Z"
   },
   {
    "duration": 31,
    "start_time": "2025-10-10T09:35:03.086Z"
   },
   {
    "duration": 79,
    "start_time": "2025-10-10T09:35:03.120Z"
   },
   {
    "duration": 4,
    "start_time": "2025-10-10T09:35:03.201Z"
   },
   {
    "duration": 304,
    "start_time": "2025-10-10T09:35:03.207Z"
   },
   {
    "duration": 109,
    "start_time": "2025-10-10T09:35:03.514Z"
   },
   {
    "duration": 14,
    "start_time": "2025-10-10T09:35:03.625Z"
   },
   {
    "duration": 123,
    "start_time": "2025-10-10T09:35:03.640Z"
   },
   {
    "duration": 136,
    "start_time": "2025-10-10T09:35:03.765Z"
   },
   {
    "duration": 74,
    "start_time": "2025-10-10T09:35:03.904Z"
   },
   {
    "duration": 2,
    "start_time": "2025-10-10T09:35:03.980Z"
   },
   {
    "duration": 264,
    "start_time": "2025-10-10T09:35:03.984Z"
   },
   {
    "duration": 209,
    "start_time": "2025-10-10T09:35:04.250Z"
   },
   {
    "duration": 195,
    "start_time": "2025-10-10T09:35:04.461Z"
   },
   {
    "duration": 92,
    "start_time": "2025-10-10T09:35:04.658Z"
   },
   {
    "duration": 13,
    "start_time": "2025-10-10T09:35:04.752Z"
   },
   {
    "duration": 74,
    "start_time": "2025-10-10T09:35:04.767Z"
   },
   {
    "duration": 5607,
    "start_time": "2025-10-10T09:35:04.843Z"
   },
   {
    "duration": 558,
    "start_time": "2025-10-10T09:35:10.451Z"
   },
   {
    "duration": 21,
    "start_time": "2025-10-10T09:35:11.012Z"
   },
   {
    "duration": 548,
    "start_time": "2025-10-10T09:35:11.035Z"
   },
   {
    "duration": 115,
    "start_time": "2025-10-10T09:35:11.584Z"
   },
   {
    "duration": 32,
    "start_time": "2025-10-10T09:35:11.704Z"
   },
   {
    "duration": 3,
    "start_time": "2025-10-10T09:35:11.737Z"
   },
   {
    "duration": 58873,
    "start_time": "2025-10-10T09:35:11.741Z"
   },
   {
    "duration": 1404,
    "start_time": "2025-10-10T09:36:10.617Z"
   },
   {
    "duration": 13,
    "start_time": "2025-10-10T09:36:12.022Z"
   },
   {
    "duration": 47,
    "start_time": "2025-10-10T09:36:12.037Z"
   },
   {
    "duration": 19,
    "start_time": "2025-10-10T09:36:12.086Z"
   },
   {
    "duration": 4,
    "start_time": "2025-10-10T09:36:12.107Z"
   },
   {
    "duration": 8,
    "start_time": "2025-10-10T09:36:12.113Z"
   },
   {
    "duration": 4,
    "start_time": "2025-10-10T09:36:12.122Z"
   },
   {
    "duration": 4,
    "start_time": "2025-10-10T09:36:12.127Z"
   },
   {
    "duration": 546595,
    "start_time": "2025-10-10T09:36:12.134Z"
   },
   {
    "duration": 2626,
    "start_time": "2025-10-10T09:51:52.562Z"
   },
   {
    "duration": 3372,
    "start_time": "2025-10-10T09:51:55.191Z"
   },
   {
    "duration": 2590,
    "start_time": "2025-10-10T09:51:58.565Z"
   },
   {
    "duration": 1914,
    "start_time": "2025-10-10T09:52:01.157Z"
   },
   {
    "duration": 915,
    "start_time": "2025-10-10T09:52:03.073Z"
   },
   {
    "duration": 30,
    "start_time": "2025-10-10T09:52:03.990Z"
   },
   {
    "duration": 163,
    "start_time": "2025-10-10T09:52:04.022Z"
   },
   {
    "duration": 3,
    "start_time": "2025-10-10T09:52:04.187Z"
   },
   {
    "duration": 5,
    "start_time": "2025-10-10T09:52:04.192Z"
   },
   {
    "duration": 62,
    "start_time": "2025-10-10T09:52:04.206Z"
   },
   {
    "duration": 4,
    "start_time": "2025-10-10T09:52:04.269Z"
   },
   {
    "duration": 337,
    "start_time": "2025-10-10T09:52:04.275Z"
   },
   {
    "duration": 112,
    "start_time": "2025-10-10T09:52:04.615Z"
   },
   {
    "duration": 14,
    "start_time": "2025-10-10T09:52:04.731Z"
   },
   {
    "duration": 130,
    "start_time": "2025-10-10T09:52:04.746Z"
   },
   {
    "duration": 151,
    "start_time": "2025-10-10T09:52:04.878Z"
   },
   {
    "duration": 65,
    "start_time": "2025-10-10T09:52:05.031Z"
   },
   {
    "duration": 4,
    "start_time": "2025-10-10T09:52:05.104Z"
   },
   {
    "duration": 242,
    "start_time": "2025-10-10T09:52:05.110Z"
   },
   {
    "duration": 231,
    "start_time": "2025-10-10T09:52:05.354Z"
   },
   {
    "duration": 201,
    "start_time": "2025-10-10T09:52:05.586Z"
   },
   {
    "duration": 95,
    "start_time": "2025-10-10T09:52:05.789Z"
   },
   {
    "duration": 22,
    "start_time": "2025-10-10T09:52:05.886Z"
   },
   {
    "duration": 36,
    "start_time": "2025-10-10T09:52:05.910Z"
   },
   {
    "duration": 5798,
    "start_time": "2025-10-10T09:52:05.948Z"
   },
   {
    "duration": 566,
    "start_time": "2025-10-10T09:52:11.748Z"
   },
   {
    "duration": 21,
    "start_time": "2025-10-10T09:52:12.316Z"
   },
   {
    "duration": 553,
    "start_time": "2025-10-10T09:52:12.339Z"
   },
   {
    "duration": 121,
    "start_time": "2025-10-10T09:52:12.894Z"
   },
   {
    "duration": 32,
    "start_time": "2025-10-10T09:52:13.018Z"
   },
   {
    "duration": 2,
    "start_time": "2025-10-10T09:52:13.051Z"
   },
   {
    "duration": 59267,
    "start_time": "2025-10-10T09:52:13.055Z"
   },
   {
    "duration": 1456,
    "start_time": "2025-10-10T09:53:12.325Z"
   },
   {
    "duration": 13,
    "start_time": "2025-10-10T09:53:13.783Z"
   },
   {
    "duration": 60,
    "start_time": "2025-10-10T09:53:13.807Z"
   },
   {
    "duration": 2,
    "start_time": "2025-10-10T09:53:13.869Z"
   },
   {
    "duration": 9,
    "start_time": "2025-10-10T09:53:13.872Z"
   },
   {
    "duration": 7,
    "start_time": "2025-10-10T09:53:13.883Z"
   },
   {
    "duration": 54,
    "start_time": "2025-10-10T09:53:13.891Z"
   },
   {
    "duration": 12,
    "start_time": "2025-10-10T09:53:13.947Z"
   },
   {
    "duration": 3,
    "start_time": "2025-10-10T09:53:13.962Z"
   },
   {
    "duration": 78,
    "start_time": "2025-10-10T09:53:13.966Z"
   },
   {
    "duration": 593320,
    "start_time": "2025-10-10T09:53:34.816Z"
   },
   {
    "duration": 30790,
    "start_time": "2025-10-10T10:06:20.326Z"
   },
   {
    "duration": 746,
    "start_time": "2025-10-10T10:07:54.370Z"
   },
   {
    "duration": 2,
    "start_time": "2025-10-10T10:07:57.082Z"
   },
   {
    "duration": 130,
    "start_time": "2025-10-10T10:07:57.897Z"
   },
   {
    "duration": 4,
    "start_time": "2025-10-10T10:08:24.778Z"
   },
   {
    "duration": 4,
    "start_time": "2025-10-10T10:08:26.649Z"
   },
   {
    "duration": 28560,
    "start_time": "2025-10-10T10:10:17.657Z"
   },
   {
    "duration": 710,
    "start_time": "2025-10-10T10:10:50.116Z"
   },
   {
    "duration": 10,
    "start_time": "2025-10-10T10:10:53.581Z"
   },
   {
    "duration": 4,
    "start_time": "2025-10-10T10:11:05.547Z"
   },
   {
    "duration": 3,
    "start_time": "2025-10-10T10:11:06.197Z"
   },
   {
    "duration": 2593,
    "start_time": "2025-10-10T10:13:14.897Z"
   },
   {
    "duration": 3160,
    "start_time": "2025-10-10T10:13:17.493Z"
   },
   {
    "duration": 2538,
    "start_time": "2025-10-10T10:13:20.654Z"
   },
   {
    "duration": 1852,
    "start_time": "2025-10-10T10:13:23.195Z"
   },
   {
    "duration": 933,
    "start_time": "2025-10-10T10:13:25.050Z"
   },
   {
    "duration": 15,
    "start_time": "2025-10-10T10:13:25.985Z"
   },
   {
    "duration": 168,
    "start_time": "2025-10-10T10:13:26.002Z"
   },
   {
    "duration": 3,
    "start_time": "2025-10-10T10:13:26.171Z"
   },
   {
    "duration": 19,
    "start_time": "2025-10-10T10:13:26.176Z"
   },
   {
    "duration": 66,
    "start_time": "2025-10-10T10:13:26.196Z"
   },
   {
    "duration": 4,
    "start_time": "2025-10-10T10:13:26.263Z"
   },
   {
    "duration": 321,
    "start_time": "2025-10-10T10:13:26.268Z"
   },
   {
    "duration": 99,
    "start_time": "2025-10-10T10:13:26.591Z"
   },
   {
    "duration": 28,
    "start_time": "2025-10-10T10:13:26.693Z"
   },
   {
    "duration": 98,
    "start_time": "2025-10-10T10:13:26.723Z"
   },
   {
    "duration": 126,
    "start_time": "2025-10-10T10:13:26.823Z"
   },
   {
    "duration": 90,
    "start_time": "2025-10-10T10:13:26.951Z"
   },
   {
    "duration": 2,
    "start_time": "2025-10-10T10:13:27.043Z"
   },
   {
    "duration": 225,
    "start_time": "2025-10-10T10:13:27.047Z"
   },
   {
    "duration": 205,
    "start_time": "2025-10-10T10:13:27.273Z"
   },
   {
    "duration": 214,
    "start_time": "2025-10-10T10:13:27.479Z"
   },
   {
    "duration": 88,
    "start_time": "2025-10-10T10:13:27.695Z"
   },
   {
    "duration": 38,
    "start_time": "2025-10-10T10:13:27.785Z"
   },
   {
    "duration": 5,
    "start_time": "2025-10-10T10:13:27.824Z"
   },
   {
    "duration": 5627,
    "start_time": "2025-10-10T10:13:27.831Z"
   },
   {
    "duration": 631,
    "start_time": "2025-10-10T10:13:33.459Z"
   },
   {
    "duration": 34,
    "start_time": "2025-10-10T10:13:34.092Z"
   },
   {
    "duration": 581,
    "start_time": "2025-10-10T10:13:34.128Z"
   },
   {
    "duration": 121,
    "start_time": "2025-10-10T10:13:34.712Z"
   },
   {
    "duration": 36,
    "start_time": "2025-10-10T10:13:34.834Z"
   },
   {
    "duration": 2,
    "start_time": "2025-10-10T10:13:34.871Z"
   },
   {
    "duration": 60249,
    "start_time": "2025-10-10T10:13:34.875Z"
   },
   {
    "duration": 1452,
    "start_time": "2025-10-10T10:14:35.125Z"
   },
   {
    "duration": 12,
    "start_time": "2025-10-10T10:14:36.579Z"
   },
   {
    "duration": 50,
    "start_time": "2025-10-10T10:14:36.604Z"
   },
   {
    "duration": 3,
    "start_time": "2025-10-10T10:14:36.656Z"
   },
   {
    "duration": 48,
    "start_time": "2025-10-10T10:14:36.660Z"
   },
   {
    "duration": 4,
    "start_time": "2025-10-10T10:14:36.712Z"
   },
   {
    "duration": 3,
    "start_time": "2025-10-10T10:14:36.718Z"
   },
   {
    "duration": 4,
    "start_time": "2025-10-10T10:14:36.722Z"
   },
   {
    "duration": 2,
    "start_time": "2025-10-10T10:14:36.729Z"
   },
   {
    "duration": 497603,
    "start_time": "2025-10-10T10:14:36.733Z"
   },
   {
    "duration": 26288,
    "start_time": "2025-10-10T10:22:54.338Z"
   },
   {
    "duration": 799,
    "start_time": "2025-10-10T10:23:20.628Z"
   },
   {
    "duration": 3,
    "start_time": "2025-10-10T10:23:21.429Z"
   },
   {
    "duration": 4,
    "start_time": "2025-10-10T10:23:21.434Z"
   },
   {
    "duration": 67,
    "start_time": "2025-10-10T10:23:21.440Z"
   },
   {
    "duration": 24413,
    "start_time": "2025-10-10T10:23:21.510Z"
   },
   {
    "duration": 796,
    "start_time": "2025-10-10T10:23:45.925Z"
   },
   {
    "duration": 179,
    "start_time": "2025-10-10T10:23:46.723Z"
   },
   {
    "duration": 0,
    "start_time": "2025-10-10T10:23:46.906Z"
   },
   {
    "duration": 0,
    "start_time": "2025-10-10T10:23:46.910Z"
   },
   {
    "duration": 33482,
    "start_time": "2025-10-10T10:23:50.142Z"
   },
   {
    "duration": 752,
    "start_time": "2025-10-10T10:24:26.259Z"
   },
   {
    "duration": 11,
    "start_time": "2025-10-10T10:24:28.151Z"
   },
   {
    "duration": 5,
    "start_time": "2025-10-10T10:24:32.179Z"
   },
   {
    "duration": 3615,
    "start_time": "2025-10-10T11:18:26.082Z"
   },
   {
    "duration": 7091,
    "start_time": "2025-10-10T11:18:29.700Z"
   },
   {
    "duration": 9414,
    "start_time": "2025-10-10T11:18:36.794Z"
   },
   {
    "duration": 2228,
    "start_time": "2025-10-10T11:18:46.211Z"
   },
   {
    "duration": 981,
    "start_time": "2025-10-10T11:18:48.441Z"
   },
   {
    "duration": 49,
    "start_time": "2025-10-10T11:18:49.424Z"
   },
   {
    "duration": 16,
    "start_time": "2025-10-10T11:18:49.475Z"
   },
   {
    "duration": 48,
    "start_time": "2025-10-10T11:18:49.493Z"
   },
   {
    "duration": 4,
    "start_time": "2025-10-10T11:18:49.542Z"
   },
   {
    "duration": 7,
    "start_time": "2025-10-10T11:18:49.548Z"
   },
   {
    "duration": 12,
    "start_time": "2025-10-10T11:18:49.557Z"
   },
   {
    "duration": 7,
    "start_time": "2025-10-10T11:18:49.571Z"
   },
   {
    "duration": 27,
    "start_time": "2025-10-10T11:18:49.580Z"
   },
   {
    "duration": 74,
    "start_time": "2025-10-10T11:18:49.610Z"
   },
   {
    "duration": 37,
    "start_time": "2025-10-10T11:18:49.686Z"
   },
   {
    "duration": 142,
    "start_time": "2025-10-10T11:18:49.725Z"
   },
   {
    "duration": 33,
    "start_time": "2025-10-10T11:18:49.868Z"
   },
   {
    "duration": 16,
    "start_time": "2025-10-10T11:18:49.903Z"
   },
   {
    "duration": 2,
    "start_time": "2025-10-10T11:18:49.921Z"
   },
   {
    "duration": 17,
    "start_time": "2025-10-10T11:18:49.925Z"
   },
   {
    "duration": 14,
    "start_time": "2025-10-10T11:18:49.943Z"
   },
   {
    "duration": 16,
    "start_time": "2025-10-10T11:18:49.959Z"
   },
   {
    "duration": 12,
    "start_time": "2025-10-10T11:18:49.977Z"
   },
   {
    "duration": 16,
    "start_time": "2025-10-10T11:18:49.990Z"
   },
   {
    "duration": 35,
    "start_time": "2025-10-10T11:18:50.007Z"
   },
   {
    "duration": 5554,
    "start_time": "2025-10-10T11:18:50.044Z"
   },
   {
    "duration": 633,
    "start_time": "2025-10-10T11:18:55.600Z"
   },
   {
    "duration": 11,
    "start_time": "2025-10-10T11:18:56.235Z"
   },
   {
    "duration": 683,
    "start_time": "2025-10-10T11:18:56.248Z"
   },
   {
    "duration": 11,
    "start_time": "2025-10-10T11:18:56.941Z"
   },
   {
    "duration": 20,
    "start_time": "2025-10-10T11:18:56.954Z"
   },
   {
    "duration": 4,
    "start_time": "2025-10-10T11:18:56.976Z"
   },
   {
    "duration": 19210,
    "start_time": "2025-10-10T11:18:56.981Z"
   },
   {
    "duration": 1554,
    "start_time": "2025-10-10T11:19:16.192Z"
   },
   {
    "duration": 16,
    "start_time": "2025-10-10T11:19:17.748Z"
   },
   {
    "duration": 82,
    "start_time": "2025-10-10T11:19:17.765Z"
   },
   {
    "duration": 3,
    "start_time": "2025-10-10T11:19:17.849Z"
   },
   {
    "duration": 3,
    "start_time": "2025-10-10T11:19:17.854Z"
   },
   {
    "duration": 19,
    "start_time": "2025-10-10T11:19:17.858Z"
   },
   {
    "duration": 14,
    "start_time": "2025-10-10T11:19:17.878Z"
   },
   {
    "duration": 19,
    "start_time": "2025-10-10T11:19:17.897Z"
   },
   {
    "duration": 6,
    "start_time": "2025-10-10T11:19:17.918Z"
   },
   {
    "duration": 33639,
    "start_time": "2025-10-10T11:19:17.925Z"
   },
   {
    "duration": 1485,
    "start_time": "2025-10-10T11:19:51.566Z"
   },
   {
    "duration": 93,
    "start_time": "2025-10-10T11:19:53.053Z"
   },
   {
    "duration": 3,
    "start_time": "2025-10-10T11:19:53.148Z"
   },
   {
    "duration": 10,
    "start_time": "2025-10-10T11:19:53.152Z"
   },
   {
    "duration": 62,
    "start_time": "2025-10-10T13:29:24.570Z"
   },
   {
    "duration": 3459,
    "start_time": "2025-10-10T13:38:42.190Z"
   },
   {
    "duration": 6987,
    "start_time": "2025-10-10T13:38:45.652Z"
   },
   {
    "duration": 9357,
    "start_time": "2025-10-10T13:38:52.642Z"
   },
   {
    "duration": 2211,
    "start_time": "2025-10-10T13:39:02.003Z"
   },
   {
    "duration": 938,
    "start_time": "2025-10-10T13:39:04.217Z"
   },
   {
    "duration": 17,
    "start_time": "2025-10-10T13:39:05.156Z"
   },
   {
    "duration": 204,
    "start_time": "2025-10-10T13:39:05.174Z"
   },
   {
    "duration": 3,
    "start_time": "2025-10-10T13:39:05.379Z"
   },
   {
    "duration": 5,
    "start_time": "2025-10-10T13:39:05.384Z"
   },
   {
    "duration": 78,
    "start_time": "2025-10-10T13:39:05.390Z"
   },
   {
    "duration": 4,
    "start_time": "2025-10-10T13:39:05.470Z"
   },
   {
    "duration": 329,
    "start_time": "2025-10-10T13:39:05.476Z"
   },
   {
    "duration": 118,
    "start_time": "2025-10-10T13:39:05.806Z"
   },
   {
    "duration": 15,
    "start_time": "2025-10-10T13:39:05.932Z"
   },
   {
    "duration": 117,
    "start_time": "2025-10-10T13:39:05.950Z"
   },
   {
    "duration": 2,
    "start_time": "2025-10-10T13:39:06.069Z"
   },
   {
    "duration": 117,
    "start_time": "2025-10-10T13:39:06.073Z"
   },
   {
    "duration": 115,
    "start_time": "2025-10-10T13:39:06.192Z"
   },
   {
    "duration": 3,
    "start_time": "2025-10-10T13:39:06.309Z"
   },
   {
    "duration": 319,
    "start_time": "2025-10-10T13:39:06.313Z"
   },
   {
    "duration": 387,
    "start_time": "2025-10-10T13:39:06.634Z"
   },
   {
    "duration": 277,
    "start_time": "2025-10-10T13:39:07.022Z"
   },
   {
    "duration": 147,
    "start_time": "2025-10-10T13:39:07.300Z"
   },
   {
    "duration": 15,
    "start_time": "2025-10-10T13:39:07.449Z"
   },
   {
    "duration": 3,
    "start_time": "2025-10-10T13:39:07.466Z"
   },
   {
    "duration": 3122,
    "start_time": "2025-10-10T13:39:07.471Z"
   },
   {
    "duration": 653,
    "start_time": "2025-10-10T13:39:10.595Z"
   },
   {
    "duration": 80,
    "start_time": "2025-10-10T13:39:11.250Z"
   },
   {
    "duration": 691,
    "start_time": "2025-10-10T13:39:11.332Z"
   },
   {
    "duration": 8,
    "start_time": "2025-10-10T13:39:12.031Z"
   },
   {
    "duration": 32,
    "start_time": "2025-10-10T13:39:12.041Z"
   },
   {
    "duration": 2,
    "start_time": "2025-10-10T13:39:12.075Z"
   },
   {
    "duration": 69494,
    "start_time": "2025-10-10T13:39:12.079Z"
   },
   {
    "duration": 1637,
    "start_time": "2025-10-10T13:40:21.574Z"
   },
   {
    "duration": 15,
    "start_time": "2025-10-10T13:40:23.213Z"
   },
   {
    "duration": 61,
    "start_time": "2025-10-10T13:40:23.230Z"
   },
   {
    "duration": 2,
    "start_time": "2025-10-10T13:40:23.293Z"
   },
   {
    "duration": 4,
    "start_time": "2025-10-10T13:40:23.297Z"
   },
   {
    "duration": 28,
    "start_time": "2025-10-10T13:40:23.302Z"
   },
   {
    "duration": 3,
    "start_time": "2025-10-10T13:40:23.332Z"
   },
   {
    "duration": 3,
    "start_time": "2025-10-10T13:40:23.339Z"
   },
   {
    "duration": 10,
    "start_time": "2025-10-10T13:40:23.344Z"
   },
   {
    "duration": 454094,
    "start_time": "2025-10-10T13:40:23.356Z"
   },
   {
    "duration": 26,
    "start_time": "2025-10-10T13:47:57.452Z"
   },
   {
    "duration": 10862,
    "start_time": "2025-10-10T13:47:57.480Z"
   },
   {
    "duration": 1088,
    "start_time": "2025-10-10T13:48:08.343Z"
   },
   {
    "duration": 3,
    "start_time": "2025-10-10T13:48:09.433Z"
   },
   {
    "duration": 6,
    "start_time": "2025-10-10T13:48:09.437Z"
   },
   {
    "duration": 5,
    "start_time": "2025-10-10T13:49:06.455Z"
   },
   {
    "duration": 24,
    "start_time": "2025-10-10T13:49:14.368Z"
   },
   {
    "duration": 1040,
    "start_time": "2025-10-10T13:52:16.424Z"
   },
   {
    "duration": 14,
    "start_time": "2025-10-10T13:52:33.495Z"
   },
   {
    "duration": 62,
    "start_time": "2025-10-10T13:53:29.055Z"
   },
   {
    "duration": 2969,
    "start_time": "2025-10-10T15:38:11.209Z"
   },
   {
    "duration": 5759,
    "start_time": "2025-10-10T15:38:14.181Z"
   },
   {
    "duration": 7658,
    "start_time": "2025-10-10T15:38:19.942Z"
   },
   {
    "duration": 2041,
    "start_time": "2025-10-10T15:38:27.602Z"
   },
   {
    "duration": 755,
    "start_time": "2025-10-10T15:38:29.644Z"
   },
   {
    "duration": 21,
    "start_time": "2025-10-10T15:38:30.400Z"
   },
   {
    "duration": 183,
    "start_time": "2025-10-10T15:38:30.423Z"
   },
   {
    "duration": 3,
    "start_time": "2025-10-10T15:38:30.607Z"
   },
   {
    "duration": 61,
    "start_time": "2025-10-10T15:38:30.611Z"
   },
   {
    "duration": 57,
    "start_time": "2025-10-10T15:38:30.674Z"
   },
   {
    "duration": 4,
    "start_time": "2025-10-10T15:38:30.733Z"
   },
   {
    "duration": 271,
    "start_time": "2025-10-10T15:38:30.738Z"
   },
   {
    "duration": 93,
    "start_time": "2025-10-10T15:38:31.010Z"
   },
   {
    "duration": 77,
    "start_time": "2025-10-10T15:38:31.105Z"
   },
   {
    "duration": 92,
    "start_time": "2025-10-10T15:38:31.184Z"
   },
   {
    "duration": 2,
    "start_time": "2025-10-10T15:38:31.278Z"
   },
   {
    "duration": 96,
    "start_time": "2025-10-10T15:38:31.281Z"
   },
   {
    "duration": 84,
    "start_time": "2025-10-10T15:38:31.379Z"
   },
   {
    "duration": 3,
    "start_time": "2025-10-10T15:38:31.464Z"
   },
   {
    "duration": 275,
    "start_time": "2025-10-10T15:38:31.468Z"
   },
   {
    "duration": 319,
    "start_time": "2025-10-10T15:38:31.745Z"
   },
   {
    "duration": 233,
    "start_time": "2025-10-10T15:38:32.065Z"
   },
   {
    "duration": 115,
    "start_time": "2025-10-10T15:38:32.299Z"
   },
   {
    "duration": 12,
    "start_time": "2025-10-10T15:38:32.415Z"
   },
   {
    "duration": 32,
    "start_time": "2025-10-10T15:38:32.428Z"
   },
   {
    "duration": 2715,
    "start_time": "2025-10-10T15:38:32.462Z"
   },
   {
    "duration": 547,
    "start_time": "2025-10-10T15:38:35.179Z"
   },
   {
    "duration": 70,
    "start_time": "2025-10-10T15:38:35.728Z"
   },
   {
    "duration": 700,
    "start_time": "2025-10-10T15:38:35.800Z"
   },
   {
    "duration": 7,
    "start_time": "2025-10-10T15:38:36.502Z"
   },
   {
    "duration": 111,
    "start_time": "2025-10-10T15:38:36.511Z"
   },
   {
    "duration": 46,
    "start_time": "2025-10-10T15:38:36.624Z"
   },
   {
    "duration": 58516,
    "start_time": "2025-10-10T15:38:36.671Z"
   },
   {
    "duration": 1371,
    "start_time": "2025-10-10T15:39:35.188Z"
   },
   {
    "duration": 14,
    "start_time": "2025-10-10T15:39:36.562Z"
   },
   {
    "duration": 3093,
    "start_time": "2025-10-10T16:04:39.743Z"
   },
   {
    "duration": 6119,
    "start_time": "2025-10-10T16:04:42.838Z"
   },
   {
    "duration": 8328,
    "start_time": "2025-10-10T16:04:48.960Z"
   },
   {
    "duration": 1866,
    "start_time": "2025-10-10T16:04:57.290Z"
   },
   {
    "duration": 813,
    "start_time": "2025-10-10T16:04:59.158Z"
   },
   {
    "duration": 14,
    "start_time": "2025-10-10T16:04:59.973Z"
   },
   {
    "duration": 164,
    "start_time": "2025-10-10T16:04:59.989Z"
   },
   {
    "duration": 8,
    "start_time": "2025-10-10T16:05:00.155Z"
   },
   {
    "duration": 10,
    "start_time": "2025-10-10T16:05:00.164Z"
   },
   {
    "duration": 82,
    "start_time": "2025-10-10T16:05:00.175Z"
   },
   {
    "duration": 5,
    "start_time": "2025-10-10T16:05:00.258Z"
   },
   {
    "duration": 352,
    "start_time": "2025-10-10T16:05:00.264Z"
   },
   {
    "duration": 107,
    "start_time": "2025-10-10T16:05:00.617Z"
   },
   {
    "duration": 33,
    "start_time": "2025-10-10T16:05:00.727Z"
   },
   {
    "duration": 96,
    "start_time": "2025-10-10T16:05:00.762Z"
   },
   {
    "duration": 3,
    "start_time": "2025-10-10T16:05:00.860Z"
   },
   {
    "duration": 105,
    "start_time": "2025-10-10T16:05:00.864Z"
   },
   {
    "duration": 100,
    "start_time": "2025-10-10T16:05:00.970Z"
   },
   {
    "duration": 3,
    "start_time": "2025-10-10T16:05:01.071Z"
   },
   {
    "duration": 273,
    "start_time": "2025-10-10T16:05:01.075Z"
   },
   {
    "duration": 346,
    "start_time": "2025-10-10T16:05:01.349Z"
   },
   {
    "duration": 266,
    "start_time": "2025-10-10T16:05:01.697Z"
   },
   {
    "duration": 126,
    "start_time": "2025-10-10T16:05:01.964Z"
   },
   {
    "duration": 17,
    "start_time": "2025-10-10T16:05:02.092Z"
   },
   {
    "duration": 26,
    "start_time": "2025-10-10T16:05:02.110Z"
   },
   {
    "duration": 3008,
    "start_time": "2025-10-10T16:05:02.138Z"
   },
   {
    "duration": 1376,
    "start_time": "2025-10-10T16:05:05.148Z"
   },
   {
    "duration": 104,
    "start_time": "2025-10-10T16:05:06.526Z"
   },
   {
    "duration": 0,
    "start_time": "2025-10-10T16:05:06.631Z"
   },
   {
    "duration": 0,
    "start_time": "2025-10-10T16:05:06.633Z"
   },
   {
    "duration": 0,
    "start_time": "2025-10-10T16:05:06.634Z"
   },
   {
    "duration": 0,
    "start_time": "2025-10-10T16:05:06.635Z"
   },
   {
    "duration": 0,
    "start_time": "2025-10-10T16:05:06.636Z"
   },
   {
    "duration": 0,
    "start_time": "2025-10-10T16:05:06.637Z"
   },
   {
    "duration": 0,
    "start_time": "2025-10-10T16:05:06.638Z"
   },
   {
    "duration": 0,
    "start_time": "2025-10-10T16:05:06.639Z"
   },
   {
    "duration": 0,
    "start_time": "2025-10-10T16:05:06.640Z"
   },
   {
    "duration": 0,
    "start_time": "2025-10-10T16:05:06.641Z"
   },
   {
    "duration": 0,
    "start_time": "2025-10-10T16:05:06.642Z"
   },
   {
    "duration": 0,
    "start_time": "2025-10-10T16:05:06.643Z"
   },
   {
    "duration": 0,
    "start_time": "2025-10-10T16:05:06.644Z"
   },
   {
    "duration": 0,
    "start_time": "2025-10-10T16:05:06.645Z"
   },
   {
    "duration": 0,
    "start_time": "2025-10-10T16:05:06.646Z"
   },
   {
    "duration": 0,
    "start_time": "2025-10-10T16:05:06.647Z"
   },
   {
    "duration": 0,
    "start_time": "2025-10-10T16:05:06.648Z"
   },
   {
    "duration": 0,
    "start_time": "2025-10-10T16:05:06.649Z"
   },
   {
    "duration": 0,
    "start_time": "2025-10-10T16:05:06.651Z"
   },
   {
    "duration": 0,
    "start_time": "2025-10-10T16:05:06.652Z"
   },
   {
    "duration": 0,
    "start_time": "2025-10-10T16:05:06.653Z"
   },
   {
    "duration": 0,
    "start_time": "2025-10-10T16:05:06.653Z"
   },
   {
    "duration": 0,
    "start_time": "2025-10-10T16:05:06.655Z"
   },
   {
    "duration": 0,
    "start_time": "2025-10-10T16:05:06.656Z"
   },
   {
    "duration": 1315,
    "start_time": "2025-10-10T16:05:59.357Z"
   },
   {
    "duration": 25,
    "start_time": "2025-10-10T16:06:21.829Z"
   },
   {
    "duration": 991,
    "start_time": "2025-10-10T16:06:28.627Z"
   },
   {
    "duration": 65,
    "start_time": "2025-10-10T16:08:25.835Z"
   },
   {
    "duration": 434,
    "start_time": "2025-10-10T16:08:27.732Z"
   },
   {
    "duration": 373,
    "start_time": "2025-10-10T16:08:35.181Z"
   },
   {
    "duration": 2397,
    "start_time": "2025-10-10T16:09:19.784Z"
   },
   {
    "duration": 3016,
    "start_time": "2025-10-10T16:09:22.184Z"
   },
   {
    "duration": 2358,
    "start_time": "2025-10-10T16:09:25.202Z"
   },
   {
    "duration": 1606,
    "start_time": "2025-10-10T16:09:27.562Z"
   },
   {
    "duration": 849,
    "start_time": "2025-10-10T16:09:29.170Z"
   },
   {
    "duration": 15,
    "start_time": "2025-10-10T16:09:30.020Z"
   },
   {
    "duration": 188,
    "start_time": "2025-10-10T16:09:30.037Z"
   },
   {
    "duration": 3,
    "start_time": "2025-10-10T16:09:30.227Z"
   },
   {
    "duration": 39,
    "start_time": "2025-10-10T16:09:30.231Z"
   },
   {
    "duration": 61,
    "start_time": "2025-10-10T16:09:30.272Z"
   },
   {
    "duration": 4,
    "start_time": "2025-10-10T16:09:30.335Z"
   },
   {
    "duration": 300,
    "start_time": "2025-10-10T16:09:30.341Z"
   },
   {
    "duration": 100,
    "start_time": "2025-10-10T16:09:30.642Z"
   },
   {
    "duration": 45,
    "start_time": "2025-10-10T16:09:30.746Z"
   },
   {
    "duration": 95,
    "start_time": "2025-10-10T16:09:30.793Z"
   },
   {
    "duration": 2,
    "start_time": "2025-10-10T16:09:30.890Z"
   },
   {
    "duration": 101,
    "start_time": "2025-10-10T16:09:30.894Z"
   },
   {
    "duration": 95,
    "start_time": "2025-10-10T16:09:30.997Z"
   },
   {
    "duration": 3,
    "start_time": "2025-10-10T16:09:31.104Z"
   },
   {
    "duration": 277,
    "start_time": "2025-10-10T16:09:31.109Z"
   },
   {
    "duration": 354,
    "start_time": "2025-10-10T16:09:31.388Z"
   },
   {
    "duration": 261,
    "start_time": "2025-10-10T16:09:31.744Z"
   },
   {
    "duration": 120,
    "start_time": "2025-10-10T16:09:32.007Z"
   },
   {
    "duration": 12,
    "start_time": "2025-10-10T16:09:32.128Z"
   },
   {
    "duration": 3,
    "start_time": "2025-10-10T16:09:32.142Z"
   },
   {
    "duration": 2805,
    "start_time": "2025-10-10T16:09:32.147Z"
   },
   {
    "duration": 78,
    "start_time": "2025-10-10T16:09:34.954Z"
   },
   {
    "duration": 336,
    "start_time": "2025-10-10T16:09:35.033Z"
   },
   {
    "duration": 712,
    "start_time": "2025-10-10T16:09:35.370Z"
   },
   {
    "duration": 57,
    "start_time": "2025-10-10T16:09:36.083Z"
   },
   {
    "duration": 530,
    "start_time": "2025-10-10T16:09:36.142Z"
   },
   {
    "duration": 8,
    "start_time": "2025-10-10T16:09:36.674Z"
   },
   {
    "duration": 41,
    "start_time": "2025-10-10T16:09:36.684Z"
   },
   {
    "duration": 2,
    "start_time": "2025-10-10T16:09:36.727Z"
   },
   {
    "duration": 52284,
    "start_time": "2025-10-10T16:09:36.731Z"
   },
   {
    "duration": 1373,
    "start_time": "2025-10-10T16:10:29.017Z"
   },
   {
    "duration": 15,
    "start_time": "2025-10-10T16:10:30.391Z"
   },
   {
    "duration": 37,
    "start_time": "2025-10-10T16:10:30.407Z"
   },
   {
    "duration": 63,
    "start_time": "2025-10-10T16:10:30.445Z"
   },
   {
    "duration": 3,
    "start_time": "2025-10-10T16:10:30.510Z"
   },
   {
    "duration": 3,
    "start_time": "2025-10-10T16:10:30.516Z"
   },
   {
    "duration": 7,
    "start_time": "2025-10-10T16:10:30.520Z"
   },
   {
    "duration": 10,
    "start_time": "2025-10-10T16:10:30.529Z"
   },
   {
    "duration": 26,
    "start_time": "2025-10-10T16:10:30.541Z"
   },
   {
    "duration": 7,
    "start_time": "2025-10-10T16:10:30.568Z"
   },
   {
    "duration": 220744,
    "start_time": "2025-10-10T16:10:30.577Z"
   },
   {
    "duration": 4,
    "start_time": "2025-10-10T16:14:11.323Z"
   },
   {
    "duration": 12,
    "start_time": "2025-10-10T16:14:11.328Z"
   },
   {
    "duration": 8369,
    "start_time": "2025-10-10T16:14:11.342Z"
   },
   {
    "duration": 804,
    "start_time": "2025-10-10T16:14:19.712Z"
   },
   {
    "duration": 3,
    "start_time": "2025-10-10T16:14:20.518Z"
   },
   {
    "duration": 7,
    "start_time": "2025-10-10T16:14:20.522Z"
   }
  ],
  "kernelspec": {
   "display_name": "Python 3 (ipykernel)",
   "language": "python",
   "name": "python3"
  },
  "language_info": {
   "codemirror_mode": {
    "name": "ipython",
    "version": 3
   },
   "file_extension": ".py",
   "mimetype": "text/x-python",
   "name": "python",
   "nbconvert_exporter": "python",
   "pygments_lexer": "ipython3",
   "version": "3.9.5"
  },
  "toc": {
   "base_numbering": 1,
   "nav_menu": {},
   "number_sections": true,
   "sideBar": true,
   "skip_h1_title": true,
   "title_cell": "Table of Contents",
   "title_sidebar": "Contents",
   "toc_cell": false,
   "toc_position": {},
   "toc_section_display": true,
   "toc_window_display": false
  }
 },
 "nbformat": 4,
 "nbformat_minor": 2
}
