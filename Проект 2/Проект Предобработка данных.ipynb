{
 "cells": [
  {
   "cell_type": "markdown",
   "id": "67dd86b5",
   "metadata": {
    "deletable": false,
    "editable": false,
    "id": "c81daeeb"
   },
   "source": [
    "# Исследование надежности заемщиков\n"
   ]
  },
  {
   "cell_type": "markdown",
   "id": "eaade8c2",
   "metadata": {
    "deletable": false,
    "editable": false,
    "id": "744d7639"
   },
   "source": [
    "## Откройте таблицу и изучите общую информацию о данных"
   ]
  },
  {
   "cell_type": "markdown",
   "id": "5004467f",
   "metadata": {
    "deletable": false,
    "editable": false,
    "id": "e7a14c31"
   },
   "source": [
    "**Задание 1. Импортируйте библиотеку pandas. Считайте данные из csv-файла в датафрейм и сохраните в переменную `data`. Путь к файлу:**\n",
    "\n",
    "`/datasets/data.csv`"
   ]
  },
  {
   "cell_type": "code",
   "execution_count": 1,
   "id": "56425916",
   "metadata": {
    "deletable": false,
    "id": "7bcf75c9"
   },
   "outputs": [],
   "source": [
    "import pandas as pd\n",
    "\n",
    "try:\n",
    "    data = pd.read_csv('/datasets/data.csv')\n",
    "except:\n",
    "    data = pd.read_csv('https://code.s3.yandex.net/datasets/data.csv')"
   ]
  },
  {
   "cell_type": "markdown",
   "id": "cdd6e6bd",
   "metadata": {
    "deletable": false,
    "editable": false,
    "id": "b8038fe3"
   },
   "source": [
    "**Задание 2. Выведите первые 20 строчек датафрейма `data` на экран.**"
   ]
  },
  {
   "cell_type": "code",
   "execution_count": 2,
   "id": "f8bda3e0",
   "metadata": {
    "deletable": false,
    "id": "2a7cab99",
    "outputId": "1a8f3ef2-d323-4ec2-ddf7-89670b5944c4"
   },
   "outputs": [
    {
     "data": {
      "text/html": [
       "<div>\n",
       "<style scoped>\n",
       "    .dataframe tbody tr th:only-of-type {\n",
       "        vertical-align: middle;\n",
       "    }\n",
       "\n",
       "    .dataframe tbody tr th {\n",
       "        vertical-align: top;\n",
       "    }\n",
       "\n",
       "    .dataframe thead th {\n",
       "        text-align: right;\n",
       "    }\n",
       "</style>\n",
       "<table border=\"1\" class=\"dataframe\">\n",
       "  <thead>\n",
       "    <tr style=\"text-align: right;\">\n",
       "      <th></th>\n",
       "      <th>children</th>\n",
       "      <th>days_employed</th>\n",
       "      <th>dob_years</th>\n",
       "      <th>education</th>\n",
       "      <th>education_id</th>\n",
       "      <th>family_status</th>\n",
       "      <th>family_status_id</th>\n",
       "      <th>gender</th>\n",
       "      <th>income_type</th>\n",
       "      <th>debt</th>\n",
       "      <th>total_income</th>\n",
       "      <th>purpose</th>\n",
       "    </tr>\n",
       "  </thead>\n",
       "  <tbody>\n",
       "    <tr>\n",
       "      <th>0</th>\n",
       "      <td>1</td>\n",
       "      <td>-8437.673028</td>\n",
       "      <td>42</td>\n",
       "      <td>высшее</td>\n",
       "      <td>0</td>\n",
       "      <td>женат / замужем</td>\n",
       "      <td>0</td>\n",
       "      <td>F</td>\n",
       "      <td>сотрудник</td>\n",
       "      <td>0</td>\n",
       "      <td>253875.639453</td>\n",
       "      <td>покупка жилья</td>\n",
       "    </tr>\n",
       "    <tr>\n",
       "      <th>1</th>\n",
       "      <td>1</td>\n",
       "      <td>-4024.803754</td>\n",
       "      <td>36</td>\n",
       "      <td>среднее</td>\n",
       "      <td>1</td>\n",
       "      <td>женат / замужем</td>\n",
       "      <td>0</td>\n",
       "      <td>F</td>\n",
       "      <td>сотрудник</td>\n",
       "      <td>0</td>\n",
       "      <td>112080.014102</td>\n",
       "      <td>приобретение автомобиля</td>\n",
       "    </tr>\n",
       "    <tr>\n",
       "      <th>2</th>\n",
       "      <td>0</td>\n",
       "      <td>-5623.422610</td>\n",
       "      <td>33</td>\n",
       "      <td>Среднее</td>\n",
       "      <td>1</td>\n",
       "      <td>женат / замужем</td>\n",
       "      <td>0</td>\n",
       "      <td>M</td>\n",
       "      <td>сотрудник</td>\n",
       "      <td>0</td>\n",
       "      <td>145885.952297</td>\n",
       "      <td>покупка жилья</td>\n",
       "    </tr>\n",
       "    <tr>\n",
       "      <th>3</th>\n",
       "      <td>3</td>\n",
       "      <td>-4124.747207</td>\n",
       "      <td>32</td>\n",
       "      <td>среднее</td>\n",
       "      <td>1</td>\n",
       "      <td>женат / замужем</td>\n",
       "      <td>0</td>\n",
       "      <td>M</td>\n",
       "      <td>сотрудник</td>\n",
       "      <td>0</td>\n",
       "      <td>267628.550329</td>\n",
       "      <td>дополнительное образование</td>\n",
       "    </tr>\n",
       "    <tr>\n",
       "      <th>4</th>\n",
       "      <td>0</td>\n",
       "      <td>340266.072047</td>\n",
       "      <td>53</td>\n",
       "      <td>среднее</td>\n",
       "      <td>1</td>\n",
       "      <td>гражданский брак</td>\n",
       "      <td>1</td>\n",
       "      <td>F</td>\n",
       "      <td>пенсионер</td>\n",
       "      <td>0</td>\n",
       "      <td>158616.077870</td>\n",
       "      <td>сыграть свадьбу</td>\n",
       "    </tr>\n",
       "    <tr>\n",
       "      <th>5</th>\n",
       "      <td>0</td>\n",
       "      <td>-926.185831</td>\n",
       "      <td>27</td>\n",
       "      <td>высшее</td>\n",
       "      <td>0</td>\n",
       "      <td>гражданский брак</td>\n",
       "      <td>1</td>\n",
       "      <td>M</td>\n",
       "      <td>компаньон</td>\n",
       "      <td>0</td>\n",
       "      <td>255763.565419</td>\n",
       "      <td>покупка жилья</td>\n",
       "    </tr>\n",
       "    <tr>\n",
       "      <th>6</th>\n",
       "      <td>0</td>\n",
       "      <td>-2879.202052</td>\n",
       "      <td>43</td>\n",
       "      <td>высшее</td>\n",
       "      <td>0</td>\n",
       "      <td>женат / замужем</td>\n",
       "      <td>0</td>\n",
       "      <td>F</td>\n",
       "      <td>компаньон</td>\n",
       "      <td>0</td>\n",
       "      <td>240525.971920</td>\n",
       "      <td>операции с жильем</td>\n",
       "    </tr>\n",
       "    <tr>\n",
       "      <th>7</th>\n",
       "      <td>0</td>\n",
       "      <td>-152.779569</td>\n",
       "      <td>50</td>\n",
       "      <td>СРЕДНЕЕ</td>\n",
       "      <td>1</td>\n",
       "      <td>женат / замужем</td>\n",
       "      <td>0</td>\n",
       "      <td>M</td>\n",
       "      <td>сотрудник</td>\n",
       "      <td>0</td>\n",
       "      <td>135823.934197</td>\n",
       "      <td>образование</td>\n",
       "    </tr>\n",
       "    <tr>\n",
       "      <th>8</th>\n",
       "      <td>2</td>\n",
       "      <td>-6929.865299</td>\n",
       "      <td>35</td>\n",
       "      <td>ВЫСШЕЕ</td>\n",
       "      <td>0</td>\n",
       "      <td>гражданский брак</td>\n",
       "      <td>1</td>\n",
       "      <td>F</td>\n",
       "      <td>сотрудник</td>\n",
       "      <td>0</td>\n",
       "      <td>95856.832424</td>\n",
       "      <td>на проведение свадьбы</td>\n",
       "    </tr>\n",
       "    <tr>\n",
       "      <th>9</th>\n",
       "      <td>0</td>\n",
       "      <td>-2188.756445</td>\n",
       "      <td>41</td>\n",
       "      <td>среднее</td>\n",
       "      <td>1</td>\n",
       "      <td>женат / замужем</td>\n",
       "      <td>0</td>\n",
       "      <td>M</td>\n",
       "      <td>сотрудник</td>\n",
       "      <td>0</td>\n",
       "      <td>144425.938277</td>\n",
       "      <td>покупка жилья для семьи</td>\n",
       "    </tr>\n",
       "    <tr>\n",
       "      <th>10</th>\n",
       "      <td>2</td>\n",
       "      <td>-4171.483647</td>\n",
       "      <td>36</td>\n",
       "      <td>высшее</td>\n",
       "      <td>0</td>\n",
       "      <td>женат / замужем</td>\n",
       "      <td>0</td>\n",
       "      <td>M</td>\n",
       "      <td>компаньон</td>\n",
       "      <td>0</td>\n",
       "      <td>113943.491460</td>\n",
       "      <td>покупка недвижимости</td>\n",
       "    </tr>\n",
       "    <tr>\n",
       "      <th>11</th>\n",
       "      <td>0</td>\n",
       "      <td>-792.701887</td>\n",
       "      <td>40</td>\n",
       "      <td>среднее</td>\n",
       "      <td>1</td>\n",
       "      <td>женат / замужем</td>\n",
       "      <td>0</td>\n",
       "      <td>F</td>\n",
       "      <td>сотрудник</td>\n",
       "      <td>0</td>\n",
       "      <td>77069.234271</td>\n",
       "      <td>покупка коммерческой недвижимости</td>\n",
       "    </tr>\n",
       "    <tr>\n",
       "      <th>12</th>\n",
       "      <td>0</td>\n",
       "      <td>NaN</td>\n",
       "      <td>65</td>\n",
       "      <td>среднее</td>\n",
       "      <td>1</td>\n",
       "      <td>гражданский брак</td>\n",
       "      <td>1</td>\n",
       "      <td>M</td>\n",
       "      <td>пенсионер</td>\n",
       "      <td>0</td>\n",
       "      <td>NaN</td>\n",
       "      <td>сыграть свадьбу</td>\n",
       "    </tr>\n",
       "    <tr>\n",
       "      <th>13</th>\n",
       "      <td>0</td>\n",
       "      <td>-1846.641941</td>\n",
       "      <td>54</td>\n",
       "      <td>неоконченное высшее</td>\n",
       "      <td>2</td>\n",
       "      <td>женат / замужем</td>\n",
       "      <td>0</td>\n",
       "      <td>F</td>\n",
       "      <td>сотрудник</td>\n",
       "      <td>0</td>\n",
       "      <td>130458.228857</td>\n",
       "      <td>приобретение автомобиля</td>\n",
       "    </tr>\n",
       "    <tr>\n",
       "      <th>14</th>\n",
       "      <td>0</td>\n",
       "      <td>-1844.956182</td>\n",
       "      <td>56</td>\n",
       "      <td>высшее</td>\n",
       "      <td>0</td>\n",
       "      <td>гражданский брак</td>\n",
       "      <td>1</td>\n",
       "      <td>F</td>\n",
       "      <td>компаньон</td>\n",
       "      <td>1</td>\n",
       "      <td>165127.911772</td>\n",
       "      <td>покупка жилой недвижимости</td>\n",
       "    </tr>\n",
       "    <tr>\n",
       "      <th>15</th>\n",
       "      <td>1</td>\n",
       "      <td>-972.364419</td>\n",
       "      <td>26</td>\n",
       "      <td>среднее</td>\n",
       "      <td>1</td>\n",
       "      <td>женат / замужем</td>\n",
       "      <td>0</td>\n",
       "      <td>F</td>\n",
       "      <td>сотрудник</td>\n",
       "      <td>0</td>\n",
       "      <td>116820.904450</td>\n",
       "      <td>строительство собственной недвижимости</td>\n",
       "    </tr>\n",
       "    <tr>\n",
       "      <th>16</th>\n",
       "      <td>0</td>\n",
       "      <td>-1719.934226</td>\n",
       "      <td>35</td>\n",
       "      <td>среднее</td>\n",
       "      <td>1</td>\n",
       "      <td>женат / замужем</td>\n",
       "      <td>0</td>\n",
       "      <td>F</td>\n",
       "      <td>сотрудник</td>\n",
       "      <td>0</td>\n",
       "      <td>289202.704229</td>\n",
       "      <td>недвижимость</td>\n",
       "    </tr>\n",
       "    <tr>\n",
       "      <th>17</th>\n",
       "      <td>0</td>\n",
       "      <td>-2369.999720</td>\n",
       "      <td>33</td>\n",
       "      <td>высшее</td>\n",
       "      <td>0</td>\n",
       "      <td>гражданский брак</td>\n",
       "      <td>1</td>\n",
       "      <td>M</td>\n",
       "      <td>сотрудник</td>\n",
       "      <td>0</td>\n",
       "      <td>90410.586745</td>\n",
       "      <td>строительство недвижимости</td>\n",
       "    </tr>\n",
       "    <tr>\n",
       "      <th>18</th>\n",
       "      <td>0</td>\n",
       "      <td>400281.136913</td>\n",
       "      <td>53</td>\n",
       "      <td>среднее</td>\n",
       "      <td>1</td>\n",
       "      <td>вдовец / вдова</td>\n",
       "      <td>2</td>\n",
       "      <td>F</td>\n",
       "      <td>пенсионер</td>\n",
       "      <td>0</td>\n",
       "      <td>56823.777243</td>\n",
       "      <td>на покупку подержанного автомобиля</td>\n",
       "    </tr>\n",
       "    <tr>\n",
       "      <th>19</th>\n",
       "      <td>0</td>\n",
       "      <td>-10038.818549</td>\n",
       "      <td>48</td>\n",
       "      <td>СРЕДНЕЕ</td>\n",
       "      <td>1</td>\n",
       "      <td>в разводе</td>\n",
       "      <td>3</td>\n",
       "      <td>F</td>\n",
       "      <td>сотрудник</td>\n",
       "      <td>0</td>\n",
       "      <td>242831.107982</td>\n",
       "      <td>на покупку своего автомобиля</td>\n",
       "    </tr>\n",
       "  </tbody>\n",
       "</table>\n",
       "</div>"
      ],
      "text/plain": [
       "    children  days_employed  dob_years            education  education_id  \\\n",
       "0          1   -8437.673028         42               высшее             0   \n",
       "1          1   -4024.803754         36              среднее             1   \n",
       "2          0   -5623.422610         33              Среднее             1   \n",
       "3          3   -4124.747207         32              среднее             1   \n",
       "4          0  340266.072047         53              среднее             1   \n",
       "5          0    -926.185831         27               высшее             0   \n",
       "6          0   -2879.202052         43               высшее             0   \n",
       "7          0    -152.779569         50              СРЕДНЕЕ             1   \n",
       "8          2   -6929.865299         35               ВЫСШЕЕ             0   \n",
       "9          0   -2188.756445         41              среднее             1   \n",
       "10         2   -4171.483647         36               высшее             0   \n",
       "11         0    -792.701887         40              среднее             1   \n",
       "12         0            NaN         65              среднее             1   \n",
       "13         0   -1846.641941         54  неоконченное высшее             2   \n",
       "14         0   -1844.956182         56               высшее             0   \n",
       "15         1    -972.364419         26              среднее             1   \n",
       "16         0   -1719.934226         35              среднее             1   \n",
       "17         0   -2369.999720         33               высшее             0   \n",
       "18         0  400281.136913         53              среднее             1   \n",
       "19         0  -10038.818549         48              СРЕДНЕЕ             1   \n",
       "\n",
       "       family_status  family_status_id gender income_type  debt  \\\n",
       "0    женат / замужем                 0      F   сотрудник     0   \n",
       "1    женат / замужем                 0      F   сотрудник     0   \n",
       "2    женат / замужем                 0      M   сотрудник     0   \n",
       "3    женат / замужем                 0      M   сотрудник     0   \n",
       "4   гражданский брак                 1      F   пенсионер     0   \n",
       "5   гражданский брак                 1      M   компаньон     0   \n",
       "6    женат / замужем                 0      F   компаньон     0   \n",
       "7    женат / замужем                 0      M   сотрудник     0   \n",
       "8   гражданский брак                 1      F   сотрудник     0   \n",
       "9    женат / замужем                 0      M   сотрудник     0   \n",
       "10   женат / замужем                 0      M   компаньон     0   \n",
       "11   женат / замужем                 0      F   сотрудник     0   \n",
       "12  гражданский брак                 1      M   пенсионер     0   \n",
       "13   женат / замужем                 0      F   сотрудник     0   \n",
       "14  гражданский брак                 1      F   компаньон     1   \n",
       "15   женат / замужем                 0      F   сотрудник     0   \n",
       "16   женат / замужем                 0      F   сотрудник     0   \n",
       "17  гражданский брак                 1      M   сотрудник     0   \n",
       "18    вдовец / вдова                 2      F   пенсионер     0   \n",
       "19         в разводе                 3      F   сотрудник     0   \n",
       "\n",
       "     total_income                                 purpose  \n",
       "0   253875.639453                           покупка жилья  \n",
       "1   112080.014102                 приобретение автомобиля  \n",
       "2   145885.952297                           покупка жилья  \n",
       "3   267628.550329              дополнительное образование  \n",
       "4   158616.077870                         сыграть свадьбу  \n",
       "5   255763.565419                           покупка жилья  \n",
       "6   240525.971920                       операции с жильем  \n",
       "7   135823.934197                             образование  \n",
       "8    95856.832424                   на проведение свадьбы  \n",
       "9   144425.938277                 покупка жилья для семьи  \n",
       "10  113943.491460                    покупка недвижимости  \n",
       "11   77069.234271       покупка коммерческой недвижимости  \n",
       "12            NaN                         сыграть свадьбу  \n",
       "13  130458.228857                 приобретение автомобиля  \n",
       "14  165127.911772              покупка жилой недвижимости  \n",
       "15  116820.904450  строительство собственной недвижимости  \n",
       "16  289202.704229                            недвижимость  \n",
       "17   90410.586745              строительство недвижимости  \n",
       "18   56823.777243      на покупку подержанного автомобиля  \n",
       "19  242831.107982            на покупку своего автомобиля  "
      ]
     },
     "execution_count": 2,
     "metadata": {},
     "output_type": "execute_result"
    }
   ],
   "source": [
    "data.head(20)"
   ]
  },
  {
   "cell_type": "markdown",
   "id": "9d50973a",
   "metadata": {
    "deletable": false,
    "editable": false,
    "id": "1c12e233"
   },
   "source": [
    "**Задание 3. Выведите основную информацию о датафрейме с помощью метода `info()`.**"
   ]
  },
  {
   "cell_type": "code",
   "execution_count": 3,
   "id": "96084cb2",
   "metadata": {
    "deletable": false,
    "id": "2b757bca",
    "outputId": "15376089-8dad-46c9-b520-c05248d43158"
   },
   "outputs": [
    {
     "name": "stdout",
     "output_type": "stream",
     "text": [
      "<class 'pandas.core.frame.DataFrame'>\n",
      "RangeIndex: 21525 entries, 0 to 21524\n",
      "Data columns (total 12 columns):\n",
      " #   Column            Non-Null Count  Dtype  \n",
      "---  ------            --------------  -----  \n",
      " 0   children          21525 non-null  int64  \n",
      " 1   days_employed     19351 non-null  float64\n",
      " 2   dob_years         21525 non-null  int64  \n",
      " 3   education         21525 non-null  object \n",
      " 4   education_id      21525 non-null  int64  \n",
      " 5   family_status     21525 non-null  object \n",
      " 6   family_status_id  21525 non-null  int64  \n",
      " 7   gender            21525 non-null  object \n",
      " 8   income_type       21525 non-null  object \n",
      " 9   debt              21525 non-null  int64  \n",
      " 10  total_income      19351 non-null  float64\n",
      " 11  purpose           21525 non-null  object \n",
      "dtypes: float64(2), int64(5), object(5)\n",
      "memory usage: 2.0+ MB\n"
     ]
    }
   ],
   "source": [
    "data.info()"
   ]
  },
  {
   "cell_type": "markdown",
   "id": "1c77a591",
   "metadata": {
    "deletable": false,
    "editable": false,
    "id": "333ec665"
   },
   "source": [
    "## Предобработка данных"
   ]
  },
  {
   "cell_type": "markdown",
   "id": "c087b019",
   "metadata": {
    "deletable": false,
    "editable": false,
    "id": "02d92d53"
   },
   "source": [
    "### Удаление пропусков"
   ]
  },
  {
   "cell_type": "markdown",
   "id": "ef292705",
   "metadata": {
    "deletable": false,
    "editable": false,
    "id": "cd84967c"
   },
   "source": [
    "**Задание 4. Выведите количество пропущенных значений для каждого столбца. Используйте комбинацию двух методов.**"
   ]
  },
  {
   "cell_type": "code",
   "execution_count": 4,
   "id": "6c497db6",
   "metadata": {
    "deletable": false,
    "id": "7f9b2309",
    "outputId": "81f4d817-781c-465c-ed15-91ce4446810d"
   },
   "outputs": [
    {
     "data": {
      "text/plain": [
       "children               0\n",
       "days_employed       2174\n",
       "dob_years              0\n",
       "education              0\n",
       "education_id           0\n",
       "family_status          0\n",
       "family_status_id       0\n",
       "gender                 0\n",
       "income_type            0\n",
       "debt                   0\n",
       "total_income        2174\n",
       "purpose                0\n",
       "dtype: int64"
      ]
     },
     "execution_count": 4,
     "metadata": {},
     "output_type": "execute_result"
    }
   ],
   "source": [
    "data.isna().sum()"
   ]
  },
  {
   "cell_type": "markdown",
   "id": "0b7ad3b9",
   "metadata": {
    "deletable": false,
    "editable": false,
    "id": "db86e27b"
   },
   "source": [
    "**Задание 5. В двух столбцах есть пропущенные значения. Один из них — `days_employed`. Пропуски в этом столбце вы обработаете на следующем этапе. Другой столбец с пропущенными значениями — `total_income` — хранит данные о доходах. На сумму дохода сильнее всего влияет тип занятости, поэтому заполнить пропуски в этом столбце нужно медианным значением по каждому типу из столбца `income_type`. Например, у человека с типом занятости `сотрудник` пропуск в столбце `total_income` должен быть заполнен медианным доходом среди всех записей с тем же типом.**"
   ]
  },
  {
   "cell_type": "code",
   "execution_count": 5,
   "id": "7349c33d",
   "metadata": {
    "deletable": false,
    "id": "42006a93"
   },
   "outputs": [],
   "source": [
    "for t in data['income_type'].unique():\n",
    "    data.loc[(data['income_type'] == t) & (data['total_income'].isna()), 'total_income'] = \\\n",
    "    data.loc[(data['income_type'] == t), 'total_income'].median()"
   ]
  },
  {
   "cell_type": "markdown",
   "id": "9746783e",
   "metadata": {
    "deletable": false,
    "editable": false,
    "id": "89da5ece"
   },
   "source": [
    "### Обработка аномальных значений"
   ]
  },
  {
   "cell_type": "markdown",
   "id": "4fd5c53a",
   "metadata": {
    "deletable": false,
    "editable": false,
    "id": "57964554"
   },
   "source": [
    "**Задание 6. В данных могут встречаться артефакты (аномалии) — значения, которые не отражают действительность и появились по какой-то ошибке. таким артефактом будет отрицательное количество дней трудового стажа в столбце `days_employed`. Для реальных данных это нормально. Обработайте значения в этом столбце: замените все отрицательные значения положительными с помощью метода `abs()`.**"
   ]
  },
  {
   "cell_type": "code",
   "execution_count": 6,
   "id": "71d5dd72",
   "metadata": {
    "deletable": false,
    "id": "f6f055bf"
   },
   "outputs": [],
   "source": [
    "data['days_employed'] = data['days_employed'].abs()"
   ]
  },
  {
   "cell_type": "markdown",
   "id": "d3c1e701",
   "metadata": {
    "deletable": false,
    "editable": false,
    "id": "6107dd2f"
   },
   "source": [
    "**Задание 7. Для каждого типа занятости выведите медианное значение трудового стажа `days_employed` в днях.**"
   ]
  },
  {
   "cell_type": "code",
   "execution_count": 7,
   "id": "8801f424",
   "metadata": {
    "deletable": false,
    "id": "85a5faf6",
    "outputId": "801ef80e-522b-4668-f34e-565af7432bcf"
   },
   "outputs": [
    {
     "data": {
      "text/plain": [
       "income_type\n",
       "безработный        366413.652744\n",
       "в декрете            3296.759962\n",
       "госслужащий          2689.368353\n",
       "компаньон            1547.382223\n",
       "пенсионер          365213.306266\n",
       "предприниматель       520.848083\n",
       "сотрудник            1574.202821\n",
       "студент               578.751554\n",
       "Name: days_employed, dtype: float64"
      ]
     },
     "execution_count": 7,
     "metadata": {},
     "output_type": "execute_result"
    }
   ],
   "source": [
    "data.groupby('income_type')['days_employed'].agg('median')"
   ]
  },
  {
   "cell_type": "markdown",
   "id": "b8f0d225",
   "metadata": {
    "deletable": false,
    "editable": false,
    "id": "38d1a030"
   },
   "source": [
    "У двух типов (безработные и пенсионеры) получатся аномально большие значения. Исправить такие значения сложно, поэтому оставьте их как есть. Тем более этот столбец не понадобится вам для исследования."
   ]
  },
  {
   "cell_type": "markdown",
   "id": "fad08344",
   "metadata": {
    "deletable": false,
    "editable": false,
    "id": "d8a9f147"
   },
   "source": [
    "**Задание 8. Выведите перечень уникальных значений столбца `children`.**"
   ]
  },
  {
   "cell_type": "code",
   "execution_count": 8,
   "id": "dd9575b9",
   "metadata": {
    "deletable": false,
    "id": "ef5056eb",
    "outputId": "6975b15c-7f95-4697-d16d-a0c79b657b03"
   },
   "outputs": [
    {
     "data": {
      "text/plain": [
       "array([ 1,  0,  3,  2, -1,  4, 20,  5])"
      ]
     },
     "execution_count": 8,
     "metadata": {},
     "output_type": "execute_result"
    }
   ],
   "source": [
    "data['children'].unique()"
   ]
  },
  {
   "cell_type": "markdown",
   "id": "3194144f",
   "metadata": {
    "deletable": false,
    "editable": false,
    "id": "40b9ebf2"
   },
   "source": [
    "**Задание 9. В столбце `children` есть два аномальных значения. Удалите строки, в которых встречаются такие аномальные значения из датафрейма `data`.**"
   ]
  },
  {
   "cell_type": "code",
   "execution_count": 9,
   "id": "6d7cca71",
   "metadata": {
    "deletable": false,
    "id": "3ff9801d"
   },
   "outputs": [],
   "source": [
    "data = data[(data['children'] != -1) & (data['children'] != 20)]"
   ]
  },
  {
   "cell_type": "markdown",
   "id": "ea7fe624",
   "metadata": {
    "deletable": false,
    "editable": false,
    "id": "bbc4d0ce"
   },
   "source": [
    "**Задание 10. Ещё раз выведите перечень уникальных значений столбца `children`, чтобы убедиться, что артефакты удалены.**"
   ]
  },
  {
   "cell_type": "code",
   "execution_count": 10,
   "id": "22ddb0f7",
   "metadata": {
    "deletable": false,
    "id": "ad4fa8b7",
    "outputId": "b2097101-d49d-44d9-901b-32a65c9463d1"
   },
   "outputs": [
    {
     "data": {
      "text/plain": [
       "array([1, 0, 3, 2, 4, 5])"
      ]
     },
     "execution_count": 10,
     "metadata": {},
     "output_type": "execute_result"
    }
   ],
   "source": [
    "data['children'].unique()"
   ]
  },
  {
   "cell_type": "markdown",
   "id": "d598a9f6",
   "metadata": {
    "deletable": false,
    "editable": false,
    "id": "75440b63"
   },
   "source": [
    "### Удаление пропусков (продолжение)"
   ]
  },
  {
   "cell_type": "markdown",
   "id": "40ffb90c",
   "metadata": {
    "deletable": false,
    "editable": false,
    "id": "f4ea573f"
   },
   "source": [
    "**Задание 11. Заполните пропуски в столбце `days_employed` медианными значениями по каждого типа занятости `income_type`.**"
   ]
  },
  {
   "cell_type": "code",
   "execution_count": 11,
   "id": "e32f9205",
   "metadata": {
    "deletable": false,
    "id": "af6b1a7e"
   },
   "outputs": [],
   "source": [
    "for t in data['income_type'].unique():\n",
    "    data.loc[(data['income_type'] == t) & (data['days_employed'].isna()), 'days_employed'] = \\\n",
    "    data.loc[(data['income_type'] == t), 'days_employed'].median()"
   ]
  },
  {
   "cell_type": "markdown",
   "id": "aaf5f4c4",
   "metadata": {
    "deletable": false,
    "editable": false,
    "id": "2753f40d"
   },
   "source": [
    "**Задание 12. Убедитесь, что все пропуски заполнены. Проверьте себя и ещё раз выведите количество пропущенных значений для каждого столбца с помощью двух методов.**"
   ]
  },
  {
   "cell_type": "code",
   "execution_count": 12,
   "id": "70bf0675",
   "metadata": {
    "deletable": false,
    "id": "55f78bc2",
    "outputId": "8da1e4e1-358e-4e87-98c9-f261bce0a7b2"
   },
   "outputs": [
    {
     "data": {
      "text/plain": [
       "children            0\n",
       "days_employed       0\n",
       "dob_years           0\n",
       "education           0\n",
       "education_id        0\n",
       "family_status       0\n",
       "family_status_id    0\n",
       "gender              0\n",
       "income_type         0\n",
       "debt                0\n",
       "total_income        0\n",
       "purpose             0\n",
       "dtype: int64"
      ]
     },
     "execution_count": 12,
     "metadata": {},
     "output_type": "execute_result"
    }
   ],
   "source": [
    "data.isna().sum()"
   ]
  },
  {
   "cell_type": "markdown",
   "id": "fccd20fd",
   "metadata": {
    "deletable": false,
    "editable": false,
    "id": "ddc81e43"
   },
   "source": [
    "### Изменение типов данных"
   ]
  },
  {
   "cell_type": "markdown",
   "id": "d73bbc43",
   "metadata": {
    "deletable": false,
    "editable": false,
    "id": "42d19d24"
   },
   "source": [
    "**Задание 13. Замените вещественный тип данных в столбце `total_income` на целочисленный с помощью метода `astype()`.**"
   ]
  },
  {
   "cell_type": "code",
   "execution_count": 13,
   "id": "84480d31",
   "metadata": {
    "deletable": false,
    "id": "920b65ad"
   },
   "outputs": [],
   "source": [
    "data['total_income'] = data['total_income'].astype(int)"
   ]
  },
  {
   "cell_type": "markdown",
   "id": "5e10efb5",
   "metadata": {
    "deletable": false,
    "editable": false,
    "id": "80c420ba"
   },
   "source": [
    "### Обработка дубликатов"
   ]
  },
  {
   "cell_type": "markdown",
   "id": "3bc378fd",
   "metadata": {
    "deletable": false,
    "editable": false
   },
   "source": [
    "**Задание 14. Обработайте неявные дубликаты в столбце `education`. В этом столбце есть одни и те же значения, но записанные по-разному: с использованием заглавных и строчных букв. Приведите их к нижнему регистру. Проверьте остальные столбцы.**"
   ]
  },
  {
   "cell_type": "code",
   "execution_count": 14,
   "id": "1cd77917",
   "metadata": {
    "deletable": false
   },
   "outputs": [],
   "source": [
    "data['education'] = data['education'].str.lower()"
   ]
  },
  {
   "cell_type": "markdown",
   "id": "92ae8ab3",
   "metadata": {
    "deletable": false,
    "editable": false,
    "id": "dc587695"
   },
   "source": [
    "**Задание 15. Выведите на экран количество строк-дубликатов в данных. Если такие строки присутствуют, удалите их.**"
   ]
  },
  {
   "cell_type": "code",
   "execution_count": 15,
   "id": "5ae918a4",
   "metadata": {
    "deletable": false,
    "id": "3ee445e4",
    "outputId": "9684deba-1934-42d1-99e1-cda61740f822"
   },
   "outputs": [
    {
     "data": {
      "text/plain": [
       "71"
      ]
     },
     "execution_count": 15,
     "metadata": {},
     "output_type": "execute_result"
    }
   ],
   "source": [
    "data.duplicated().sum()"
   ]
  },
  {
   "cell_type": "code",
   "execution_count": 16,
   "id": "558f34e1",
   "metadata": {
    "deletable": false,
    "id": "8575fe05"
   },
   "outputs": [],
   "source": [
    "data = data.drop_duplicates()"
   ]
  },
  {
   "cell_type": "markdown",
   "id": "b32696e8",
   "metadata": {
    "deletable": false,
    "editable": false,
    "id": "9904cf55"
   },
   "source": [
    "### Категоризация данных"
   ]
  },
  {
   "cell_type": "markdown",
   "id": "66bee49f",
   "metadata": {
    "deletable": false,
    "editable": false,
    "id": "72fcc8a2"
   },
   "source": [
    "**Задание 16. На основании диапазонов, указанных ниже, создайте в датафрейме `data` столбец `total_income_category` с категориями:**\n",
    "\n",
    "- 0–30000 — `'E'`;\n",
    "- 30001–50000 — `'D'`;\n",
    "- 50001–200000 — `'C'`;\n",
    "- 200001–1000000 — `'B'`;\n",
    "- 1000001 и выше — `'A'`.\n",
    "\n",
    "\n",
    "**Например, кредитополучателю с доходом 25000 нужно назначить категорию `'E'`, а клиенту, получающему 235000, — `'B'`. Используйте собственную функцию с именем `categorize_income()` и метод `apply()`.**"
   ]
  },
  {
   "cell_type": "code",
   "execution_count": 17,
   "id": "b9b0c9b7",
   "metadata": {
    "deletable": false,
    "id": "e1771346"
   },
   "outputs": [],
   "source": [
    "def categorize_income(income):\n",
    "    try:\n",
    "        if 0 <= income <= 30000:\n",
    "            return 'E'\n",
    "        elif 30001 <= income <= 50000:\n",
    "            return 'D'\n",
    "        elif 50001 <= income <= 200000:\n",
    "            return 'C'\n",
    "        elif 200001 <= income <= 1000000:\n",
    "            return 'B'\n",
    "        elif income >= 1000001:\n",
    "            return 'A'\n",
    "    except:\n",
    "        pass"
   ]
  },
  {
   "cell_type": "code",
   "execution_count": 18,
   "id": "e158b684",
   "metadata": {
    "deletable": false,
    "id": "d5f3586d"
   },
   "outputs": [],
   "source": [
    "data['total_income_category'] = data['total_income'].apply(categorize_income)"
   ]
  },
  {
   "cell_type": "markdown",
   "id": "de8add74",
   "metadata": {
    "deletable": false,
    "editable": false,
    "id": "dde49b5c"
   },
   "source": [
    "**Задание 17. Выведите на экран перечень уникальных целей взятия кредита из столбца `purpose`.**"
   ]
  },
  {
   "cell_type": "code",
   "execution_count": 19,
   "id": "003a3ee1",
   "metadata": {
    "deletable": false,
    "id": "f67ce9b3",
    "outputId": "673c12d9-7d7e-4ae0-9812-c622c89dd244"
   },
   "outputs": [
    {
     "data": {
      "text/plain": [
       "array(['покупка жилья', 'приобретение автомобиля',\n",
       "       'дополнительное образование', 'сыграть свадьбу',\n",
       "       'операции с жильем', 'образование', 'на проведение свадьбы',\n",
       "       'покупка жилья для семьи', 'покупка недвижимости',\n",
       "       'покупка коммерческой недвижимости', 'покупка жилой недвижимости',\n",
       "       'строительство собственной недвижимости', 'недвижимость',\n",
       "       'строительство недвижимости', 'на покупку подержанного автомобиля',\n",
       "       'на покупку своего автомобиля',\n",
       "       'операции с коммерческой недвижимостью',\n",
       "       'строительство жилой недвижимости', 'жилье',\n",
       "       'операции со своей недвижимостью', 'автомобили',\n",
       "       'заняться образованием', 'сделка с подержанным автомобилем',\n",
       "       'получение образования', 'автомобиль', 'свадьба',\n",
       "       'получение дополнительного образования', 'покупка своего жилья',\n",
       "       'операции с недвижимостью', 'получение высшего образования',\n",
       "       'свой автомобиль', 'сделка с автомобилем',\n",
       "       'профильное образование', 'высшее образование',\n",
       "       'покупка жилья для сдачи', 'на покупку автомобиля', 'ремонт жилью',\n",
       "       'заняться высшим образованием'], dtype=object)"
      ]
     },
     "execution_count": 19,
     "metadata": {},
     "output_type": "execute_result"
    }
   ],
   "source": [
    "data['purpose'].unique()"
   ]
  },
  {
   "cell_type": "markdown",
   "id": "81e37ea4",
   "metadata": {
    "deletable": false,
    "editable": false,
    "id": "85d0aef0"
   },
   "source": [
    "**Задание 18. Создайте функцию, которая на основании данных из столбца `purpose` сформирует новый столбец `purpose_category`, в который войдут следующие категории:**\n",
    "\n",
    "- `'операции с автомобилем'`,\n",
    "- `'операции с недвижимостью'`,\n",
    "- `'проведение свадьбы'`,\n",
    "- `'получение образования'`.\n",
    "\n",
    "**Например, если в столбце `purpose` находится подстрока `'на покупку автомобиля'`, то в столбце `purpose_category` должна появиться строка `'операции с автомобилем'`.**\n",
    "\n",
    "**Используйте собственную функцию с именем `categorize_purpose()` и метод `apply()`. Изучите данные в столбце `purpose` и определите, какие подстроки помогут вам правильно определить категорию.**"
   ]
  },
  {
   "cell_type": "code",
   "execution_count": 20,
   "id": "8849b10e",
   "metadata": {
    "deletable": false,
    "id": "e149fab4"
   },
   "outputs": [],
   "source": [
    "def categorize_purpose(row):\n",
    "    try:\n",
    "        if 'автом' in row:\n",
    "            return 'операции с автомобилем'\n",
    "        elif 'жил' in row or 'недвиж' in row:\n",
    "            return 'операции с недвижимостью'\n",
    "        elif 'свад' in row:\n",
    "            return 'проведение свадьбы'\n",
    "        elif 'образов' in row:\n",
    "            return 'получение образования'\n",
    "    except:\n",
    "        return 'нет категории'"
   ]
  },
  {
   "cell_type": "code",
   "execution_count": 21,
   "id": "b10bd906",
   "metadata": {
    "deletable": false,
    "id": "bf36e69b"
   },
   "outputs": [],
   "source": [
    "data['purpose_category'] = data['purpose'].apply(categorize_purpose)"
   ]
  },
  {
   "cell_type": "markdown",
   "id": "4e680347",
   "metadata": {
    "deletable": false,
    "editable": false,
    "id": "09b242bf"
   },
   "source": [
    "### Шаг 3. Исследуйте данные и ответьте на вопросы"
   ]
  },
  {
   "cell_type": "markdown",
   "id": "28c89935",
   "metadata": {
    "deletable": false,
    "editable": false,
    "id": "c5d66278"
   },
   "source": [
    "#### 3.1 Есть ли зависимость между количеством детей и возвратом кредита в срок?"
   ]
  },
  {
   "cell_type": "code",
   "execution_count": 22,
   "id": "28f7274f",
   "metadata": {
    "deletable": false,
    "id": "2cacfc4a"
   },
   "outputs": [
    {
     "data": {
      "text/html": [
       "<div>\n",
       "<style scoped>\n",
       "    .dataframe tbody tr th:only-of-type {\n",
       "        vertical-align: middle;\n",
       "    }\n",
       "\n",
       "    .dataframe tbody tr th {\n",
       "        vertical-align: top;\n",
       "    }\n",
       "\n",
       "    .dataframe thead tr th {\n",
       "        text-align: left;\n",
       "    }\n",
       "\n",
       "    .dataframe thead tr:last-of-type th {\n",
       "        text-align: right;\n",
       "    }\n",
       "</style>\n",
       "<table border=\"1\" class=\"dataframe\">\n",
       "  <thead>\n",
       "    <tr>\n",
       "      <th></th>\n",
       "      <th>count</th>\n",
       "      <th>sum</th>\n",
       "      <th>mean</th>\n",
       "    </tr>\n",
       "    <tr>\n",
       "      <th></th>\n",
       "      <th>debt</th>\n",
       "      <th>debt</th>\n",
       "      <th>debt</th>\n",
       "    </tr>\n",
       "    <tr>\n",
       "      <th>children</th>\n",
       "      <th></th>\n",
       "      <th></th>\n",
       "      <th></th>\n",
       "    </tr>\n",
       "  </thead>\n",
       "  <tbody>\n",
       "    <tr>\n",
       "      <th>0</th>\n",
       "      <td>14091</td>\n",
       "      <td>1063</td>\n",
       "      <td>0.075438</td>\n",
       "    </tr>\n",
       "    <tr>\n",
       "      <th>1</th>\n",
       "      <td>4808</td>\n",
       "      <td>444</td>\n",
       "      <td>0.092346</td>\n",
       "    </tr>\n",
       "    <tr>\n",
       "      <th>2</th>\n",
       "      <td>2052</td>\n",
       "      <td>194</td>\n",
       "      <td>0.094542</td>\n",
       "    </tr>\n",
       "    <tr>\n",
       "      <th>3</th>\n",
       "      <td>330</td>\n",
       "      <td>27</td>\n",
       "      <td>0.081818</td>\n",
       "    </tr>\n",
       "    <tr>\n",
       "      <th>4</th>\n",
       "      <td>41</td>\n",
       "      <td>4</td>\n",
       "      <td>0.097561</td>\n",
       "    </tr>\n",
       "    <tr>\n",
       "      <th>5</th>\n",
       "      <td>9</td>\n",
       "      <td>0</td>\n",
       "      <td>0.000000</td>\n",
       "    </tr>\n",
       "  </tbody>\n",
       "</table>\n",
       "</div>"
      ],
      "text/plain": [
       "          count   sum      mean\n",
       "           debt  debt      debt\n",
       "children                       \n",
       "0         14091  1063  0.075438\n",
       "1          4808   444  0.092346\n",
       "2          2052   194  0.094542\n",
       "3           330    27  0.081818\n",
       "4            41     4  0.097561\n",
       "5             9     0  0.000000"
      ]
     },
     "execution_count": 22,
     "metadata": {},
     "output_type": "execute_result"
    }
   ],
   "source": [
    "data.pivot_table(index='children', values='debt', aggfunc=['count', 'sum', 'mean']) #создание сводной"
   ]
  },
  {
   "cell_type": "markdown",
   "id": "0387298f",
   "metadata": {
    "deletable": false,
    "id": "3a6b99ec"
   },
   "source": [
    "**Вывод: Существует прямая зависимость наличия детей и невозвратов кредитов в срок, среди категорий с 0, 1 и 2 детьми. Чем больше детей, тем больше вероятность невозврата кредита в срок.**"
   ]
  },
  {
   "cell_type": "markdown",
   "id": "8598ae6a",
   "metadata": {
    "deletable": false,
    "editable": false,
    "id": "97be82ca"
   },
   "source": [
    "#### 3.2 Есть ли зависимость между семейным положением и возвратом кредита в срок?"
   ]
  },
  {
   "cell_type": "code",
   "execution_count": 23,
   "id": "4cf31204",
   "metadata": {
    "deletable": false,
    "id": "dc3f7ee8"
   },
   "outputs": [
    {
     "data": {
      "text/html": [
       "<div>\n",
       "<style scoped>\n",
       "    .dataframe tbody tr th:only-of-type {\n",
       "        vertical-align: middle;\n",
       "    }\n",
       "\n",
       "    .dataframe tbody tr th {\n",
       "        vertical-align: top;\n",
       "    }\n",
       "\n",
       "    .dataframe thead tr th {\n",
       "        text-align: left;\n",
       "    }\n",
       "\n",
       "    .dataframe thead tr:last-of-type th {\n",
       "        text-align: right;\n",
       "    }\n",
       "</style>\n",
       "<table border=\"1\" class=\"dataframe\">\n",
       "  <thead>\n",
       "    <tr>\n",
       "      <th></th>\n",
       "      <th>count</th>\n",
       "      <th>sum</th>\n",
       "      <th>mean</th>\n",
       "    </tr>\n",
       "    <tr>\n",
       "      <th></th>\n",
       "      <th>debt</th>\n",
       "      <th>debt</th>\n",
       "      <th>debt</th>\n",
       "    </tr>\n",
       "    <tr>\n",
       "      <th>family_status</th>\n",
       "      <th></th>\n",
       "      <th></th>\n",
       "      <th></th>\n",
       "    </tr>\n",
       "  </thead>\n",
       "  <tbody>\n",
       "    <tr>\n",
       "      <th>Не женат / не замужем</th>\n",
       "      <td>2796</td>\n",
       "      <td>273</td>\n",
       "      <td>0.097639</td>\n",
       "    </tr>\n",
       "    <tr>\n",
       "      <th>в разводе</th>\n",
       "      <td>1189</td>\n",
       "      <td>84</td>\n",
       "      <td>0.070648</td>\n",
       "    </tr>\n",
       "    <tr>\n",
       "      <th>вдовец / вдова</th>\n",
       "      <td>951</td>\n",
       "      <td>63</td>\n",
       "      <td>0.066246</td>\n",
       "    </tr>\n",
       "    <tr>\n",
       "      <th>гражданский брак</th>\n",
       "      <td>4134</td>\n",
       "      <td>385</td>\n",
       "      <td>0.093130</td>\n",
       "    </tr>\n",
       "    <tr>\n",
       "      <th>женат / замужем</th>\n",
       "      <td>12261</td>\n",
       "      <td>927</td>\n",
       "      <td>0.075606</td>\n",
       "    </tr>\n",
       "  </tbody>\n",
       "</table>\n",
       "</div>"
      ],
      "text/plain": [
       "                       count  sum      mean\n",
       "                        debt debt      debt\n",
       "family_status                              \n",
       "Не женат / не замужем   2796  273  0.097639\n",
       "в разводе               1189   84  0.070648\n",
       "вдовец / вдова           951   63  0.066246\n",
       "гражданский брак        4134  385  0.093130\n",
       "женат / замужем        12261  927  0.075606"
      ]
     },
     "execution_count": 23,
     "metadata": {},
     "output_type": "execute_result"
    }
   ],
   "source": [
    "data.pivot_table(index='family_status', values='debt', aggfunc=['count', 'sum', 'mean']) #построение сводной"
   ]
  },
  {
   "cell_type": "markdown",
   "id": "67254d7f",
   "metadata": {
    "deletable": false,
    "id": "1cef7837"
   },
   "source": [
    "**Вывод: Больше всего невозвратов у неженатых и незамужних женщин и мужчин (около 9.7%), меньше всего у вдовцов и вдов (около 6.6%). В целом можно сказать что люди в гражданском браке склонны чаще не возвращать кредит в срок, в отличии от людей, побывавших в официальном браке**"
   ]
  },
  {
   "cell_type": "markdown",
   "id": "15a56dcd",
   "metadata": {
    "deletable": false,
    "editable": false,
    "id": "1e8b2fca"
   },
   "source": [
    "#### 3.3 Есть ли зависимость между уровнем дохода и возвратом кредита в срок?"
   ]
  },
  {
   "cell_type": "code",
   "execution_count": 24,
   "id": "2eb6c411",
   "metadata": {
    "deletable": false,
    "id": "cd7e3720"
   },
   "outputs": [
    {
     "data": {
      "text/html": [
       "<div>\n",
       "<style scoped>\n",
       "    .dataframe tbody tr th:only-of-type {\n",
       "        vertical-align: middle;\n",
       "    }\n",
       "\n",
       "    .dataframe tbody tr th {\n",
       "        vertical-align: top;\n",
       "    }\n",
       "\n",
       "    .dataframe thead tr th {\n",
       "        text-align: left;\n",
       "    }\n",
       "\n",
       "    .dataframe thead tr:last-of-type th {\n",
       "        text-align: right;\n",
       "    }\n",
       "</style>\n",
       "<table border=\"1\" class=\"dataframe\">\n",
       "  <thead>\n",
       "    <tr>\n",
       "      <th></th>\n",
       "      <th>count</th>\n",
       "      <th>sum</th>\n",
       "      <th>mean</th>\n",
       "    </tr>\n",
       "    <tr>\n",
       "      <th></th>\n",
       "      <th>debt</th>\n",
       "      <th>debt</th>\n",
       "      <th>debt</th>\n",
       "    </tr>\n",
       "    <tr>\n",
       "      <th>total_income_category</th>\n",
       "      <th></th>\n",
       "      <th></th>\n",
       "      <th></th>\n",
       "    </tr>\n",
       "  </thead>\n",
       "  <tbody>\n",
       "    <tr>\n",
       "      <th>A</th>\n",
       "      <td>25</td>\n",
       "      <td>2</td>\n",
       "      <td>0.080000</td>\n",
       "    </tr>\n",
       "    <tr>\n",
       "      <th>B</th>\n",
       "      <td>5014</td>\n",
       "      <td>354</td>\n",
       "      <td>0.070602</td>\n",
       "    </tr>\n",
       "    <tr>\n",
       "      <th>C</th>\n",
       "      <td>15921</td>\n",
       "      <td>1353</td>\n",
       "      <td>0.084982</td>\n",
       "    </tr>\n",
       "    <tr>\n",
       "      <th>D</th>\n",
       "      <td>349</td>\n",
       "      <td>21</td>\n",
       "      <td>0.060172</td>\n",
       "    </tr>\n",
       "    <tr>\n",
       "      <th>E</th>\n",
       "      <td>22</td>\n",
       "      <td>2</td>\n",
       "      <td>0.090909</td>\n",
       "    </tr>\n",
       "  </tbody>\n",
       "</table>\n",
       "</div>"
      ],
      "text/plain": [
       "                       count   sum      mean\n",
       "                        debt  debt      debt\n",
       "total_income_category                       \n",
       "A                         25     2  0.080000\n",
       "B                       5014   354  0.070602\n",
       "C                      15921  1353  0.084982\n",
       "D                        349    21  0.060172\n",
       "E                         22     2  0.090909"
      ]
     },
     "execution_count": 24,
     "metadata": {},
     "output_type": "execute_result"
    }
   ],
   "source": [
    "data.pivot_table(index='total_income_category', values='debt', aggfunc=['count', 'sum', 'mean'])"
   ]
  },
  {
   "cell_type": "markdown",
   "id": "1c9d908e",
   "metadata": {
    "deletable": false,
    "id": "e8593def"
   },
   "source": [
    "**Вывод: согласно просчитанным данным можно сделать вывод, что люди доходом уровня B имеют тенденцию чаще возвращать кредит в срок, в отличии от категории С**"
   ]
  },
  {
   "cell_type": "markdown",
   "id": "8757a336",
   "metadata": {
    "deletable": false,
    "editable": false,
    "id": "99ecbd1f"
   },
   "source": [
    "#### 3.4 Как разные цели кредита влияют на его возврат в срок?"
   ]
  },
  {
   "cell_type": "code",
   "execution_count": 25,
   "id": "333562c6",
   "metadata": {
    "deletable": false,
    "id": "2b687290"
   },
   "outputs": [
    {
     "data": {
      "text/html": [
       "<div>\n",
       "<style scoped>\n",
       "    .dataframe tbody tr th:only-of-type {\n",
       "        vertical-align: middle;\n",
       "    }\n",
       "\n",
       "    .dataframe tbody tr th {\n",
       "        vertical-align: top;\n",
       "    }\n",
       "\n",
       "    .dataframe thead tr th {\n",
       "        text-align: left;\n",
       "    }\n",
       "\n",
       "    .dataframe thead tr:last-of-type th {\n",
       "        text-align: right;\n",
       "    }\n",
       "</style>\n",
       "<table border=\"1\" class=\"dataframe\">\n",
       "  <thead>\n",
       "    <tr>\n",
       "      <th></th>\n",
       "      <th>count</th>\n",
       "      <th>sum</th>\n",
       "      <th>mean</th>\n",
       "    </tr>\n",
       "    <tr>\n",
       "      <th></th>\n",
       "      <th>debt</th>\n",
       "      <th>debt</th>\n",
       "      <th>debt</th>\n",
       "    </tr>\n",
       "    <tr>\n",
       "      <th>purpose_category</th>\n",
       "      <th></th>\n",
       "      <th></th>\n",
       "      <th></th>\n",
       "    </tr>\n",
       "  </thead>\n",
       "  <tbody>\n",
       "    <tr>\n",
       "      <th>операции с автомобилем</th>\n",
       "      <td>4279</td>\n",
       "      <td>400</td>\n",
       "      <td>0.093480</td>\n",
       "    </tr>\n",
       "    <tr>\n",
       "      <th>операции с недвижимостью</th>\n",
       "      <td>10751</td>\n",
       "      <td>780</td>\n",
       "      <td>0.072551</td>\n",
       "    </tr>\n",
       "    <tr>\n",
       "      <th>получение образования</th>\n",
       "      <td>3988</td>\n",
       "      <td>369</td>\n",
       "      <td>0.092528</td>\n",
       "    </tr>\n",
       "    <tr>\n",
       "      <th>проведение свадьбы</th>\n",
       "      <td>2313</td>\n",
       "      <td>183</td>\n",
       "      <td>0.079118</td>\n",
       "    </tr>\n",
       "  </tbody>\n",
       "</table>\n",
       "</div>"
      ],
      "text/plain": [
       "                          count  sum      mean\n",
       "                           debt debt      debt\n",
       "purpose_category                              \n",
       "операции с автомобилем     4279  400  0.093480\n",
       "операции с недвижимостью  10751  780  0.072551\n",
       "получение образования      3988  369  0.092528\n",
       "проведение свадьбы         2313  183  0.079118"
      ]
     },
     "execution_count": 25,
     "metadata": {},
     "output_type": "execute_result"
    }
   ],
   "source": [
    "data.pivot_table(index='purpose_category', values='debt', aggfunc=['count', 'sum', 'mean']) #построение сводной таблицы"
   ]
  },
  {
   "cell_type": "markdown",
   "id": "5e1858f9",
   "metadata": {
    "deletable": false,
    "id": "b4bb2ce6"
   },
   "source": [
    "**Вывод: Больше всего невозвратов в срок наблюдается у людей, взявших кредит с целью, связанной с автомобилем, меньше всего - с недвижимостью. В целом можно сказать, что люди берущие кредит на недвижимость и проведение свадьбы склоны чаще возвращать кредит в срок по сравнению с другими группами** "
   ]
  },
  {
   "cell_type": "markdown",
   "id": "dd2c4d58",
   "metadata": {
    "deletable": false,
    "editable": false,
    "id": "09c3ac4c"
   },
   "source": [
    "#### 3.5 Приведите возможные причины появления пропусков в исходных данных."
   ]
  },
  {
   "cell_type": "markdown",
   "id": "0c5b9b7b",
   "metadata": {
    "deletable": false,
    "id": "9da2ceda"
   },
   "source": [
    "**Ответ: пропуски в столбцах days employed и total income могут быть связаны с человеческими и/или техническими факторами, такими как неправильный ввод или намеренное сокрытие данных**"
   ]
  },
  {
   "cell_type": "markdown",
   "id": "1b295b36",
   "metadata": {
    "deletable": false,
    "editable": false,
    "id": "7b0487d6"
   },
   "source": [
    "#### 3.6 Объясните, почему заполнить пропуски медианным значением — лучшее решение для количественных переменных."
   ]
  },
  {
   "cell_type": "markdown",
   "id": "72b547d0",
   "metadata": {
    "deletable": false,
    "id": "7ecf2b8e"
   },
   "source": [
    "**Ответ: медианна - делит ровно пополам выборку и является более репрезентативной метрикой, по сравнению со средним значением. Чем больше ассиметрично распределение, тем более различие между средней и медианной (не нормальное распределение)**"
   ]
  },
  {
   "cell_type": "markdown",
   "id": "1927a9be",
   "metadata": {
    "deletable": false,
    "editable": false,
    "id": "6db5255a"
   },
   "source": [
    "### Шаг 4: общий вывод."
   ]
  },
  {
   "cell_type": "markdown",
   "id": "eeea945a",
   "metadata": {
    "deletable": false,
    "id": "bad65432"
   },
   "source": [
    "**В ходе выполнения проекта, были посчитаны и выявлены закономерности по возврату кредита в срок по таким параметрам, как: семейное положение, уровень дохода, цель кредита, количество детей. \n",
    "1.Чем больше детей, тем больше вероятность невозврата кредита в срок. \n",
    "2.В целом можно сказать что люди в гражданском браке склонны чаще не возвращать кредит в срок, в отличии от людей, побывавших в официальном браке.\n",
    "3.Согласно просчитанным данным можно сделать вывод, что люди доходом уровня B имеют тенденцию чаще возвращать кредит в срок, в отличии от категории С, что косвенно может указывать на то, что бОльший уровень дохода влияет положительно на возврат кредитов в срок.\n",
    "4.Можно сказать, что люди берущие кредит на недвижимость и проведение свадьбы склоны чаще возвращать кредит в срок по сравнению с другими группами\n",
    "В совокупности идеальный портрет заёмщика представляет с собой человека без детей, с высоким уровнем дохода, разведенный, и берущий кредит с целью автомобиля и/или недвижимостью**\n"
   ]
  }
 ],
 "metadata": {
  "ExecuteTimeLog": [
   {
    "duration": 468,
    "start_time": "2025-05-15T13:44:00.819Z"
   },
   {
    "duration": 22,
    "start_time": "2025-05-15T13:44:01.289Z"
   },
   {
    "duration": 19,
    "start_time": "2025-05-15T13:44:01.312Z"
   },
   {
    "duration": 11,
    "start_time": "2025-05-15T13:44:01.334Z"
   },
   {
    "duration": 45,
    "start_time": "2025-05-15T13:44:01.357Z"
   },
   {
    "duration": 4,
    "start_time": "2025-05-15T13:44:01.403Z"
   },
   {
    "duration": 14,
    "start_time": "2025-05-15T13:44:01.408Z"
   },
   {
    "duration": 13,
    "start_time": "2025-05-15T13:44:01.423Z"
   },
   {
    "duration": 33,
    "start_time": "2025-05-15T13:44:01.438Z"
   },
   {
    "duration": 8,
    "start_time": "2025-05-15T13:44:01.478Z"
   },
   {
    "duration": 50,
    "start_time": "2025-05-15T13:44:01.488Z"
   },
   {
    "duration": 27,
    "start_time": "2025-05-15T13:44:01.540Z"
   },
   {
    "duration": 11,
    "start_time": "2025-05-15T13:44:01.569Z"
   },
   {
    "duration": 15,
    "start_time": "2025-05-15T13:44:01.582Z"
   },
   {
    "duration": 33,
    "start_time": "2025-05-15T13:44:01.599Z"
   },
   {
    "duration": 36,
    "start_time": "2025-05-15T13:44:01.634Z"
   },
   {
    "duration": 4,
    "start_time": "2025-05-15T13:44:01.672Z"
   },
   {
    "duration": 14,
    "start_time": "2025-05-15T13:44:01.678Z"
   },
   {
    "duration": 29,
    "start_time": "2025-05-15T13:44:01.693Z"
   },
   {
    "duration": 11,
    "start_time": "2025-05-15T13:44:01.724Z"
   },
   {
    "duration": 41,
    "start_time": "2025-05-15T13:44:01.736Z"
   },
   {
    "duration": 3,
    "start_time": "2025-05-15T13:44:01.778Z"
   },
   {
    "duration": 7,
    "start_time": "2025-05-15T13:44:01.783Z"
   },
   {
    "duration": 4,
    "start_time": "2025-05-15T13:44:01.791Z"
   },
   {
    "duration": 62,
    "start_time": "2025-05-15T13:44:01.796Z"
   },
   {
    "duration": 3,
    "start_time": "2025-05-15T13:45:50.603Z"
   },
   {
    "duration": 66,
    "start_time": "2025-05-15T13:46:37.108Z"
   },
   {
    "duration": 10,
    "start_time": "2025-05-15T13:49:12.454Z"
   },
   {
    "duration": 98,
    "start_time": "2025-05-15T13:51:02.756Z"
   },
   {
    "duration": 17,
    "start_time": "2025-05-15T13:51:16.090Z"
   },
   {
    "duration": 4,
    "start_time": "2025-05-15T13:52:09.876Z"
   },
   {
    "duration": 5,
    "start_time": "2025-05-15T13:52:29.749Z"
   },
   {
    "duration": 5,
    "start_time": "2025-05-15T13:52:40.628Z"
   },
   {
    "duration": 6,
    "start_time": "2025-05-15T13:53:09.063Z"
   },
   {
    "duration": 7,
    "start_time": "2025-05-15T13:55:25.964Z"
   },
   {
    "duration": 10,
    "start_time": "2025-05-15T13:56:09.358Z"
   },
   {
    "duration": 10,
    "start_time": "2025-05-15T13:56:16.846Z"
   },
   {
    "duration": 6,
    "start_time": "2025-05-15T13:56:26.729Z"
   },
   {
    "duration": 11,
    "start_time": "2025-05-15T13:56:51.399Z"
   },
   {
    "duration": 17,
    "start_time": "2025-05-15T13:57:08.716Z"
   },
   {
    "duration": 20,
    "start_time": "2025-05-15T13:57:24.750Z"
   },
   {
    "duration": 5,
    "start_time": "2025-05-15T13:58:05.238Z"
   },
   {
    "duration": 7,
    "start_time": "2025-05-15T13:58:50.064Z"
   },
   {
    "duration": 7,
    "start_time": "2025-05-15T13:59:47.872Z"
   },
   {
    "duration": 7,
    "start_time": "2025-05-15T14:04:10.718Z"
   },
   {
    "duration": 8,
    "start_time": "2025-05-15T14:04:41.878Z"
   },
   {
    "duration": 488,
    "start_time": "2025-05-15T14:13:32.366Z"
   },
   {
    "duration": 22,
    "start_time": "2025-05-15T14:13:32.856Z"
   },
   {
    "duration": 16,
    "start_time": "2025-05-15T14:13:32.880Z"
   },
   {
    "duration": 10,
    "start_time": "2025-05-15T14:13:32.898Z"
   },
   {
    "duration": 60,
    "start_time": "2025-05-15T14:13:32.910Z"
   },
   {
    "duration": 3,
    "start_time": "2025-05-15T14:13:32.972Z"
   },
   {
    "duration": 11,
    "start_time": "2025-05-15T14:13:32.976Z"
   },
   {
    "duration": 3,
    "start_time": "2025-05-15T14:13:32.989Z"
   },
   {
    "duration": 31,
    "start_time": "2025-05-15T14:13:32.994Z"
   },
   {
    "duration": 13,
    "start_time": "2025-05-15T14:13:33.029Z"
   },
   {
    "duration": 69,
    "start_time": "2025-05-15T14:13:33.044Z"
   },
   {
    "duration": 11,
    "start_time": "2025-05-15T14:13:33.114Z"
   },
   {
    "duration": 42,
    "start_time": "2025-05-15T14:13:33.126Z"
   },
   {
    "duration": 12,
    "start_time": "2025-05-15T14:13:33.170Z"
   },
   {
    "duration": 20,
    "start_time": "2025-05-15T14:13:33.183Z"
   },
   {
    "duration": 17,
    "start_time": "2025-05-15T14:13:33.205Z"
   },
   {
    "duration": 4,
    "start_time": "2025-05-15T14:13:33.224Z"
   },
   {
    "duration": 29,
    "start_time": "2025-05-15T14:13:33.229Z"
   },
   {
    "duration": 19,
    "start_time": "2025-05-15T14:13:33.259Z"
   },
   {
    "duration": 4,
    "start_time": "2025-05-15T14:13:33.280Z"
   },
   {
    "duration": 9,
    "start_time": "2025-05-15T14:13:33.285Z"
   },
   {
    "duration": 31,
    "start_time": "2025-05-15T14:13:33.295Z"
   },
   {
    "duration": 5,
    "start_time": "2025-05-15T14:13:33.327Z"
   },
   {
    "duration": 14,
    "start_time": "2025-05-15T14:13:33.334Z"
   },
   {
    "duration": 11,
    "start_time": "2025-05-15T14:13:33.350Z"
   },
   {
    "duration": 10,
    "start_time": "2025-05-15T14:13:33.362Z"
   },
   {
    "duration": 6,
    "start_time": "2025-05-15T14:13:55.001Z"
   },
   {
    "duration": 6,
    "start_time": "2025-05-15T14:13:56.892Z"
   },
   {
    "duration": 4,
    "start_time": "2025-05-15T14:13:58.843Z"
   },
   {
    "duration": 6,
    "start_time": "2025-05-15T14:15:30.242Z"
   },
   {
    "duration": 7,
    "start_time": "2025-05-15T14:15:32.315Z"
   },
   {
    "duration": 10,
    "start_time": "2025-05-15T14:16:37.166Z"
   },
   {
    "duration": 67,
    "start_time": "2025-05-15T14:18:30.323Z"
   },
   {
    "duration": 7,
    "start_time": "2025-05-15T14:18:38.864Z"
   },
   {
    "duration": 4,
    "start_time": "2025-05-15T14:19:46.874Z"
   },
   {
    "duration": 4,
    "start_time": "2025-05-15T14:26:19.663Z"
   },
   {
    "duration": 3,
    "start_time": "2025-05-15T14:26:58.618Z"
   },
   {
    "duration": 8,
    "start_time": "2025-05-15T14:27:45.754Z"
   },
   {
    "duration": 4,
    "start_time": "2025-05-15T14:27:53.724Z"
   },
   {
    "duration": 8,
    "start_time": "2025-05-15T14:33:31.086Z"
   },
   {
    "duration": 5,
    "start_time": "2025-05-15T14:35:20.797Z"
   },
   {
    "duration": 7,
    "start_time": "2025-05-15T14:35:44.915Z"
   },
   {
    "duration": 23483,
    "start_time": "2025-05-15T14:46:21.789Z"
   },
   {
    "duration": 940,
    "start_time": "2025-05-15T14:47:36.013Z"
   },
   {
    "duration": 527,
    "start_time": "2025-05-15T14:47:57.945Z"
   },
   {
    "duration": 22,
    "start_time": "2025-05-15T14:47:58.474Z"
   },
   {
    "duration": 15,
    "start_time": "2025-05-15T14:47:58.497Z"
   },
   {
    "duration": 10,
    "start_time": "2025-05-15T14:47:58.514Z"
   },
   {
    "duration": 64,
    "start_time": "2025-05-15T14:47:58.525Z"
   },
   {
    "duration": 3,
    "start_time": "2025-05-15T14:47:58.591Z"
   },
   {
    "duration": 26,
    "start_time": "2025-05-15T14:47:58.595Z"
   },
   {
    "duration": 11,
    "start_time": "2025-05-15T14:47:58.622Z"
   },
   {
    "duration": 8,
    "start_time": "2025-05-15T14:47:58.634Z"
   },
   {
    "duration": 5,
    "start_time": "2025-05-15T14:47:58.644Z"
   },
   {
    "duration": 46,
    "start_time": "2025-05-15T14:47:58.650Z"
   },
   {
    "duration": 11,
    "start_time": "2025-05-15T14:47:58.698Z"
   },
   {
    "duration": 4,
    "start_time": "2025-05-15T14:47:58.710Z"
   },
   {
    "duration": 11,
    "start_time": "2025-05-15T14:47:58.716Z"
   },
   {
    "duration": 51,
    "start_time": "2025-05-15T14:47:58.728Z"
   },
   {
    "duration": 16,
    "start_time": "2025-05-15T14:47:58.781Z"
   },
   {
    "duration": 4,
    "start_time": "2025-05-15T14:47:58.798Z"
   },
   {
    "duration": 13,
    "start_time": "2025-05-15T14:47:58.803Z"
   },
   {
    "duration": 5,
    "start_time": "2025-05-15T14:47:58.817Z"
   },
   {
    "duration": 3,
    "start_time": "2025-05-15T14:47:58.824Z"
   },
   {
    "duration": 45,
    "start_time": "2025-05-15T14:47:58.828Z"
   },
   {
    "duration": 9,
    "start_time": "2025-05-15T14:47:58.874Z"
   },
   {
    "duration": 5,
    "start_time": "2025-05-15T14:47:58.884Z"
   },
   {
    "duration": 6,
    "start_time": "2025-05-15T14:47:58.891Z"
   },
   {
    "duration": 11,
    "start_time": "2025-05-15T14:47:58.899Z"
   },
   {
    "duration": 22,
    "start_time": "2025-05-15T14:47:58.912Z"
   },
   {
    "duration": 5,
    "start_time": "2025-05-15T14:47:58.936Z"
   },
   {
    "duration": 9,
    "start_time": "2025-05-15T14:47:58.961Z"
   },
   {
    "duration": 7,
    "start_time": "2025-05-15T14:47:58.972Z"
   },
   {
    "duration": 1139,
    "start_time": "2025-05-15T14:47:58.980Z"
   },
   {
    "duration": 0,
    "start_time": "2025-05-15T14:48:00.120Z"
   },
   {
    "duration": 3606,
    "start_time": "2025-05-15T14:48:10.482Z"
   },
   {
    "duration": 3771,
    "start_time": "2025-05-15T14:49:48.005Z"
   },
   {
    "duration": 77,
    "start_time": "2025-05-15T14:51:43.509Z"
   },
   {
    "duration": 3656,
    "start_time": "2025-05-15T14:52:09.953Z"
   },
   {
    "duration": 2680,
    "start_time": "2025-05-15T14:53:32.109Z"
   },
   {
    "duration": 11,
    "start_time": "2025-05-15T14:54:39.454Z"
   },
   {
    "duration": 12,
    "start_time": "2025-05-15T14:55:28.052Z"
   },
   {
    "duration": 11,
    "start_time": "2025-05-15T14:55:43.619Z"
   },
   {
    "duration": 11,
    "start_time": "2025-05-15T14:56:42.467Z"
   },
   {
    "duration": 12,
    "start_time": "2025-05-15T14:59:07.598Z"
   },
   {
    "duration": 13,
    "start_time": "2025-05-15T14:59:17.432Z"
   },
   {
    "duration": 1025,
    "start_time": "2025-05-15T14:59:37.252Z"
   },
   {
    "duration": 3643,
    "start_time": "2025-05-15T15:01:40.855Z"
   },
   {
    "duration": 3524,
    "start_time": "2025-05-15T15:03:24.896Z"
   },
   {
    "duration": 3486,
    "start_time": "2025-05-15T15:03:56.381Z"
   },
   {
    "duration": 3545,
    "start_time": "2025-05-15T15:04:27.490Z"
   },
   {
    "duration": 450,
    "start_time": "2025-05-15T15:07:00.895Z"
   },
   {
    "duration": 23,
    "start_time": "2025-05-15T15:07:01.347Z"
   },
   {
    "duration": 57,
    "start_time": "2025-05-15T15:07:01.371Z"
   },
   {
    "duration": 10,
    "start_time": "2025-05-15T15:07:01.431Z"
   },
   {
    "duration": 45,
    "start_time": "2025-05-15T15:07:01.443Z"
   },
   {
    "duration": 4,
    "start_time": "2025-05-15T15:07:01.490Z"
   },
   {
    "duration": 10,
    "start_time": "2025-05-15T15:07:01.495Z"
   },
   {
    "duration": 25,
    "start_time": "2025-05-15T15:07:01.506Z"
   },
   {
    "duration": 19,
    "start_time": "2025-05-15T15:07:01.532Z"
   },
   {
    "duration": 22,
    "start_time": "2025-05-15T15:07:01.553Z"
   },
   {
    "duration": 60,
    "start_time": "2025-05-15T15:07:01.577Z"
   },
   {
    "duration": 11,
    "start_time": "2025-05-15T15:07:01.639Z"
   },
   {
    "duration": 15,
    "start_time": "2025-05-15T15:07:01.652Z"
   },
   {
    "duration": 14,
    "start_time": "2025-05-15T15:07:01.669Z"
   },
   {
    "duration": 20,
    "start_time": "2025-05-15T15:07:01.685Z"
   },
   {
    "duration": 17,
    "start_time": "2025-05-15T15:07:01.707Z"
   },
   {
    "duration": 8,
    "start_time": "2025-05-15T15:07:01.725Z"
   },
   {
    "duration": 24,
    "start_time": "2025-05-15T15:07:01.734Z"
   },
   {
    "duration": 5,
    "start_time": "2025-05-15T15:07:01.760Z"
   },
   {
    "duration": 4,
    "start_time": "2025-05-15T15:07:01.767Z"
   },
   {
    "duration": 12,
    "start_time": "2025-05-15T15:07:01.772Z"
   },
   {
    "duration": 14,
    "start_time": "2025-05-15T15:07:01.786Z"
   },
   {
    "duration": 11,
    "start_time": "2025-05-15T15:07:01.801Z"
   },
   {
    "duration": 23,
    "start_time": "2025-05-15T15:07:01.813Z"
   },
   {
    "duration": 28,
    "start_time": "2025-05-15T15:07:01.837Z"
   },
   {
    "duration": 81,
    "start_time": "2025-05-15T15:07:01.867Z"
   },
   {
    "duration": 8,
    "start_time": "2025-05-15T15:07:01.950Z"
   },
   {
    "duration": 10,
    "start_time": "2025-05-15T15:07:01.961Z"
   },
   {
    "duration": 7,
    "start_time": "2025-05-15T15:07:01.973Z"
   },
   {
    "duration": 3676,
    "start_time": "2025-05-15T15:07:01.982Z"
   },
   {
    "duration": 3,
    "start_time": "2025-05-15T15:07:05.660Z"
   },
   {
    "duration": 3571,
    "start_time": "2025-05-15T15:07:41.091Z"
   },
   {
    "duration": 3491,
    "start_time": "2025-05-15T15:07:57.445Z"
   },
   {
    "duration": 3569,
    "start_time": "2025-05-15T15:08:28.094Z"
   },
   {
    "duration": 10,
    "start_time": "2025-05-15T15:12:08.166Z"
   },
   {
    "duration": 15,
    "start_time": "2025-05-15T15:12:16.922Z"
   },
   {
    "duration": 16,
    "start_time": "2025-05-15T15:13:11.182Z"
   },
   {
    "duration": 15,
    "start_time": "2025-05-15T15:13:44.581Z"
   },
   {
    "duration": 11,
    "start_time": "2025-05-15T15:14:50.770Z"
   },
   {
    "duration": 7,
    "start_time": "2025-05-15T15:16:19.017Z"
   },
   {
    "duration": 7,
    "start_time": "2025-05-15T15:17:04.719Z"
   },
   {
    "duration": 9,
    "start_time": "2025-05-15T15:17:21.465Z"
   },
   {
    "duration": 7,
    "start_time": "2025-05-15T15:46:38.875Z"
   },
   {
    "duration": 8,
    "start_time": "2025-05-15T15:46:50.557Z"
   },
   {
    "duration": 8,
    "start_time": "2025-05-15T15:47:16.044Z"
   },
   {
    "duration": 439,
    "start_time": "2025-05-15T18:53:05.225Z"
   },
   {
    "duration": 22,
    "start_time": "2025-05-15T18:53:05.666Z"
   },
   {
    "duration": 45,
    "start_time": "2025-05-15T18:53:05.689Z"
   },
   {
    "duration": 9,
    "start_time": "2025-05-15T18:53:05.736Z"
   },
   {
    "duration": 42,
    "start_time": "2025-05-15T18:53:05.747Z"
   },
   {
    "duration": 18,
    "start_time": "2025-05-15T18:53:05.791Z"
   },
   {
    "duration": 24,
    "start_time": "2025-05-15T18:53:05.811Z"
   },
   {
    "duration": 10,
    "start_time": "2025-05-15T18:53:05.836Z"
   },
   {
    "duration": 14,
    "start_time": "2025-05-15T18:53:05.847Z"
   },
   {
    "duration": 41,
    "start_time": "2025-05-15T18:53:05.864Z"
   },
   {
    "duration": 50,
    "start_time": "2025-05-15T18:53:05.907Z"
   },
   {
    "duration": 9,
    "start_time": "2025-05-15T18:53:05.959Z"
   },
   {
    "duration": 33,
    "start_time": "2025-05-15T18:53:05.970Z"
   },
   {
    "duration": 14,
    "start_time": "2025-05-15T18:53:06.006Z"
   },
   {
    "duration": 47,
    "start_time": "2025-05-15T18:53:06.022Z"
   },
   {
    "duration": 15,
    "start_time": "2025-05-15T18:53:06.070Z"
   },
   {
    "duration": 16,
    "start_time": "2025-05-15T18:53:06.087Z"
   },
   {
    "duration": 11,
    "start_time": "2025-05-15T18:53:06.105Z"
   },
   {
    "duration": 5,
    "start_time": "2025-05-15T18:53:06.118Z"
   },
   {
    "duration": 42,
    "start_time": "2025-05-15T18:53:06.124Z"
   },
   {
    "duration": 45,
    "start_time": "2025-05-15T18:53:06.168Z"
   },
   {
    "duration": 39,
    "start_time": "2025-05-15T18:53:06.214Z"
   },
   {
    "duration": 34,
    "start_time": "2025-05-15T18:53:06.255Z"
   },
   {
    "duration": 18,
    "start_time": "2025-05-15T18:53:06.291Z"
   },
   {
    "duration": 41,
    "start_time": "2025-05-15T18:53:06.310Z"
   },
   {
    "duration": 65,
    "start_time": "2025-05-15T18:53:06.352Z"
   },
   {
    "duration": 52,
    "start_time": "2025-05-15T18:53:06.419Z"
   },
   {
    "duration": 81,
    "start_time": "2025-05-15T18:53:06.473Z"
   },
   {
    "duration": 32,
    "start_time": "2025-05-15T18:53:06.556Z"
   },
   {
    "duration": 26,
    "start_time": "2025-05-15T18:53:06.590Z"
   },
   {
    "duration": 62,
    "start_time": "2025-05-15T18:53:06.617Z"
   },
   {
    "duration": 47,
    "start_time": "2025-05-15T18:53:06.681Z"
   },
   {
    "duration": 59,
    "start_time": "2025-05-16T07:40:31.931Z"
   },
   {
    "duration": 102,
    "start_time": "2025-05-16T07:49:57.745Z"
   },
   {
    "duration": 9,
    "start_time": "2025-05-16T07:50:39.526Z"
   },
   {
    "duration": 492,
    "start_time": "2025-05-16T07:50:58.614Z"
   },
   {
    "duration": 25,
    "start_time": "2025-05-16T07:50:59.109Z"
   },
   {
    "duration": 33,
    "start_time": "2025-05-16T07:50:59.136Z"
   },
   {
    "duration": 12,
    "start_time": "2025-05-16T07:50:59.171Z"
   },
   {
    "duration": 40,
    "start_time": "2025-05-16T07:50:59.185Z"
   },
   {
    "duration": 4,
    "start_time": "2025-05-16T07:50:59.227Z"
   },
   {
    "duration": 34,
    "start_time": "2025-05-16T07:50:59.232Z"
   },
   {
    "duration": 4,
    "start_time": "2025-05-16T07:50:59.268Z"
   },
   {
    "duration": 9,
    "start_time": "2025-05-16T07:50:59.274Z"
   },
   {
    "duration": 5,
    "start_time": "2025-05-16T07:50:59.286Z"
   },
   {
    "duration": 71,
    "start_time": "2025-05-16T07:50:59.293Z"
   },
   {
    "duration": 12,
    "start_time": "2025-05-16T07:50:59.366Z"
   },
   {
    "duration": 79,
    "start_time": "2025-05-16T07:50:59.380Z"
   },
   {
    "duration": 14,
    "start_time": "2025-05-16T07:50:59.461Z"
   },
   {
    "duration": 47,
    "start_time": "2025-05-16T07:50:59.477Z"
   },
   {
    "duration": 20,
    "start_time": "2025-05-16T07:50:59.525Z"
   },
   {
    "duration": 4,
    "start_time": "2025-05-16T07:50:59.548Z"
   },
   {
    "duration": 17,
    "start_time": "2025-05-16T07:50:59.553Z"
   },
   {
    "duration": 7,
    "start_time": "2025-05-16T07:50:59.572Z"
   },
   {
    "duration": 4,
    "start_time": "2025-05-16T07:50:59.582Z"
   },
   {
    "duration": 14,
    "start_time": "2025-05-16T07:50:59.588Z"
   },
   {
    "duration": 100,
    "start_time": "2025-05-16T07:50:59.604Z"
   },
   {
    "duration": 0,
    "start_time": "2025-05-16T07:50:59.706Z"
   },
   {
    "duration": 0,
    "start_time": "2025-05-16T07:50:59.708Z"
   },
   {
    "duration": 0,
    "start_time": "2025-05-16T07:50:59.710Z"
   },
   {
    "duration": 0,
    "start_time": "2025-05-16T07:50:59.711Z"
   },
   {
    "duration": 0,
    "start_time": "2025-05-16T07:50:59.713Z"
   },
   {
    "duration": 0,
    "start_time": "2025-05-16T07:50:59.714Z"
   },
   {
    "duration": 0,
    "start_time": "2025-05-16T07:50:59.715Z"
   },
   {
    "duration": 0,
    "start_time": "2025-05-16T07:50:59.717Z"
   },
   {
    "duration": 20,
    "start_time": "2025-05-16T07:51:30.739Z"
   },
   {
    "duration": 93,
    "start_time": "2025-05-16T07:51:47.169Z"
   },
   {
    "duration": 83,
    "start_time": "2025-05-16T07:57:06.852Z"
   },
   {
    "duration": 26,
    "start_time": "2025-05-16T07:57:13.858Z"
   },
   {
    "duration": 9,
    "start_time": "2025-05-16T08:02:31.492Z"
   },
   {
    "duration": 16,
    "start_time": "2025-05-16T08:05:23.903Z"
   },
   {
    "duration": 42,
    "start_time": "2025-05-16T08:05:47.727Z"
   },
   {
    "duration": 86,
    "start_time": "2025-05-16T08:07:15.534Z"
   },
   {
    "duration": 36,
    "start_time": "2025-05-16T08:07:32.347Z"
   },
   {
    "duration": 89,
    "start_time": "2025-05-16T08:13:04.012Z"
   },
   {
    "duration": 105,
    "start_time": "2025-05-16T10:51:20.626Z"
   },
   {
    "duration": 47,
    "start_time": "2025-05-16T10:51:58.540Z"
   },
   {
    "duration": 507,
    "start_time": "2025-05-16T10:52:04.520Z"
   },
   {
    "duration": 25,
    "start_time": "2025-05-16T10:52:05.029Z"
   },
   {
    "duration": 24,
    "start_time": "2025-05-16T10:52:05.055Z"
   },
   {
    "duration": 39,
    "start_time": "2025-05-16T10:52:05.081Z"
   },
   {
    "duration": 54,
    "start_time": "2025-05-16T10:52:05.121Z"
   },
   {
    "duration": 4,
    "start_time": "2025-05-16T10:52:05.176Z"
   },
   {
    "duration": 22,
    "start_time": "2025-05-16T10:52:05.181Z"
   },
   {
    "duration": 4,
    "start_time": "2025-05-16T10:52:05.205Z"
   },
   {
    "duration": 26,
    "start_time": "2025-05-16T10:52:05.211Z"
   },
   {
    "duration": 26,
    "start_time": "2025-05-16T10:52:05.240Z"
   },
   {
    "duration": 67,
    "start_time": "2025-05-16T10:52:05.268Z"
   },
   {
    "duration": 12,
    "start_time": "2025-05-16T10:52:05.336Z"
   },
   {
    "duration": 33,
    "start_time": "2025-05-16T10:52:05.349Z"
   },
   {
    "duration": 23,
    "start_time": "2025-05-16T10:52:05.384Z"
   },
   {
    "duration": 20,
    "start_time": "2025-05-16T10:52:05.409Z"
   },
   {
    "duration": 30,
    "start_time": "2025-05-16T10:52:05.432Z"
   },
   {
    "duration": 5,
    "start_time": "2025-05-16T10:52:05.464Z"
   },
   {
    "duration": 42,
    "start_time": "2025-05-16T10:52:05.471Z"
   },
   {
    "duration": 34,
    "start_time": "2025-05-16T10:52:05.514Z"
   },
   {
    "duration": 22,
    "start_time": "2025-05-16T10:52:05.550Z"
   },
   {
    "duration": 22,
    "start_time": "2025-05-16T10:52:05.574Z"
   },
   {
    "duration": 70,
    "start_time": "2025-05-16T10:52:05.598Z"
   },
   {
    "duration": 66,
    "start_time": "2025-05-16T10:52:05.670Z"
   },
   {
    "duration": 0,
    "start_time": "2025-05-16T10:52:05.737Z"
   },
   {
    "duration": 1,
    "start_time": "2025-05-16T10:52:05.738Z"
   },
   {
    "duration": 0,
    "start_time": "2025-05-16T10:52:05.740Z"
   },
   {
    "duration": 0,
    "start_time": "2025-05-16T10:52:05.741Z"
   },
   {
    "duration": 0,
    "start_time": "2025-05-16T10:52:05.742Z"
   },
   {
    "duration": 0,
    "start_time": "2025-05-16T10:52:05.743Z"
   },
   {
    "duration": 0,
    "start_time": "2025-05-16T10:52:05.745Z"
   },
   {
    "duration": 0,
    "start_time": "2025-05-16T10:52:05.746Z"
   },
   {
    "duration": 91,
    "start_time": "2025-05-16T11:02:18.879Z"
   },
   {
    "duration": 61,
    "start_time": "2025-05-16T14:19:14.267Z"
   },
   {
    "duration": 546,
    "start_time": "2025-05-16T14:19:20.157Z"
   },
   {
    "duration": 22,
    "start_time": "2025-05-16T14:19:20.706Z"
   },
   {
    "duration": 16,
    "start_time": "2025-05-16T14:19:20.730Z"
   },
   {
    "duration": 30,
    "start_time": "2025-05-16T14:19:20.748Z"
   },
   {
    "duration": 46,
    "start_time": "2025-05-16T14:19:20.780Z"
   },
   {
    "duration": 2,
    "start_time": "2025-05-16T14:19:20.828Z"
   },
   {
    "duration": 25,
    "start_time": "2025-05-16T14:19:20.832Z"
   },
   {
    "duration": 31,
    "start_time": "2025-05-16T14:19:20.858Z"
   },
   {
    "duration": 32,
    "start_time": "2025-05-16T14:19:20.892Z"
   },
   {
    "duration": 79,
    "start_time": "2025-05-16T14:19:20.928Z"
   },
   {
    "duration": 139,
    "start_time": "2025-05-16T14:19:21.009Z"
   },
   {
    "duration": 10,
    "start_time": "2025-05-16T14:19:21.150Z"
   },
   {
    "duration": 98,
    "start_time": "2025-05-16T14:19:21.162Z"
   },
   {
    "duration": 56,
    "start_time": "2025-05-16T14:19:21.261Z"
   },
   {
    "duration": 72,
    "start_time": "2025-05-16T14:19:21.318Z"
   },
   {
    "duration": 26,
    "start_time": "2025-05-16T14:19:21.392Z"
   },
   {
    "duration": 97,
    "start_time": "2025-05-16T14:19:21.420Z"
   },
   {
    "duration": 99,
    "start_time": "2025-05-16T14:19:21.519Z"
   },
   {
    "duration": 55,
    "start_time": "2025-05-16T14:19:21.619Z"
   },
   {
    "duration": 20,
    "start_time": "2025-05-16T14:19:21.676Z"
   },
   {
    "duration": 44,
    "start_time": "2025-05-16T14:19:21.697Z"
   },
   {
    "duration": 61,
    "start_time": "2025-05-16T14:19:21.742Z"
   },
   {
    "duration": 79,
    "start_time": "2025-05-16T14:19:21.805Z"
   },
   {
    "duration": 0,
    "start_time": "2025-05-16T14:19:21.886Z"
   },
   {
    "duration": 0,
    "start_time": "2025-05-16T14:19:21.888Z"
   },
   {
    "duration": 0,
    "start_time": "2025-05-16T14:19:21.890Z"
   },
   {
    "duration": 0,
    "start_time": "2025-05-16T14:19:21.891Z"
   },
   {
    "duration": 0,
    "start_time": "2025-05-16T14:19:21.893Z"
   },
   {
    "duration": 0,
    "start_time": "2025-05-16T14:19:21.894Z"
   },
   {
    "duration": 0,
    "start_time": "2025-05-16T14:19:21.895Z"
   },
   {
    "duration": 0,
    "start_time": "2025-05-16T14:19:21.897Z"
   },
   {
    "duration": 23,
    "start_time": "2025-05-16T14:20:50.470Z"
   },
   {
    "duration": 20,
    "start_time": "2025-05-16T14:21:18.827Z"
   },
   {
    "duration": 23,
    "start_time": "2025-05-16T14:22:56.093Z"
   },
   {
    "duration": 21,
    "start_time": "2025-05-16T14:23:08.116Z"
   },
   {
    "duration": 91,
    "start_time": "2025-05-16T14:23:25.659Z"
   },
   {
    "duration": 18,
    "start_time": "2025-05-16T14:28:24.415Z"
   },
   {
    "duration": 7,
    "start_time": "2025-05-16T14:31:53.285Z"
   },
   {
    "duration": 11,
    "start_time": "2025-05-16T14:32:42.011Z"
   },
   {
    "duration": 8,
    "start_time": "2025-05-16T14:35:44.636Z"
   },
   {
    "duration": 114,
    "start_time": "2025-05-16T14:38:51.300Z"
   },
   {
    "duration": 100,
    "start_time": "2025-05-16T14:39:14.945Z"
   },
   {
    "duration": 89,
    "start_time": "2025-05-16T14:40:28.732Z"
   },
   {
    "duration": 10,
    "start_time": "2025-05-16T14:40:47.480Z"
   },
   {
    "duration": 20,
    "start_time": "2025-05-16T14:41:18.001Z"
   },
   {
    "duration": 15,
    "start_time": "2025-05-16T14:42:46.652Z"
   },
   {
    "duration": 9,
    "start_time": "2025-05-16T14:45:28.451Z"
   },
   {
    "duration": 7,
    "start_time": "2025-05-16T14:49:28.444Z"
   },
   {
    "duration": 6,
    "start_time": "2025-05-16T14:49:30.606Z"
   },
   {
    "duration": 6,
    "start_time": "2025-05-16T14:50:57.081Z"
   },
   {
    "duration": 17,
    "start_time": "2025-05-16T14:54:08.071Z"
   },
   {
    "duration": 16,
    "start_time": "2025-05-16T14:54:47.819Z"
   },
   {
    "duration": 16,
    "start_time": "2025-05-16T14:55:31.559Z"
   },
   {
    "duration": 8,
    "start_time": "2025-05-16T15:01:47.717Z"
   },
   {
    "duration": 8,
    "start_time": "2025-05-16T15:05:55.990Z"
   },
   {
    "duration": 10,
    "start_time": "2025-05-16T15:07:28.215Z"
   },
   {
    "duration": 11,
    "start_time": "2025-05-16T15:07:31.597Z"
   },
   {
    "duration": 6,
    "start_time": "2025-05-16T15:11:10.521Z"
   },
   {
    "duration": 6,
    "start_time": "2025-05-16T15:11:11.933Z"
   },
   {
    "duration": 5,
    "start_time": "2025-05-16T15:11:43.413Z"
   },
   {
    "duration": 15,
    "start_time": "2025-05-16T15:12:41.835Z"
   },
   {
    "duration": 8,
    "start_time": "2025-05-16T15:13:23.826Z"
   },
   {
    "duration": 9,
    "start_time": "2025-05-16T15:13:25.976Z"
   },
   {
    "duration": 9,
    "start_time": "2025-05-16T15:15:43.041Z"
   },
   {
    "duration": 11,
    "start_time": "2025-05-16T15:16:46.814Z"
   },
   {
    "duration": 9,
    "start_time": "2025-05-16T15:17:50.072Z"
   },
   {
    "duration": 5,
    "start_time": "2025-05-16T15:18:29.266Z"
   },
   {
    "duration": 17,
    "start_time": "2025-05-16T15:21:30.100Z"
   },
   {
    "duration": 621,
    "start_time": "2025-05-16T17:25:07.288Z"
   },
   {
    "duration": 24,
    "start_time": "2025-05-16T17:25:07.911Z"
   },
   {
    "duration": 18,
    "start_time": "2025-05-16T17:25:07.937Z"
   },
   {
    "duration": 32,
    "start_time": "2025-05-16T17:25:07.957Z"
   },
   {
    "duration": 39,
    "start_time": "2025-05-16T17:25:07.991Z"
   },
   {
    "duration": 4,
    "start_time": "2025-05-16T17:25:08.032Z"
   },
   {
    "duration": 50,
    "start_time": "2025-05-16T17:25:08.038Z"
   },
   {
    "duration": 4,
    "start_time": "2025-05-16T17:25:08.090Z"
   },
   {
    "duration": 13,
    "start_time": "2025-05-16T17:25:08.095Z"
   },
   {
    "duration": 4,
    "start_time": "2025-05-16T17:25:08.111Z"
   },
   {
    "duration": 54,
    "start_time": "2025-05-16T17:25:08.117Z"
   },
   {
    "duration": 12,
    "start_time": "2025-05-16T17:25:08.173Z"
   },
   {
    "duration": 4,
    "start_time": "2025-05-16T17:25:08.187Z"
   },
   {
    "duration": 13,
    "start_time": "2025-05-16T17:25:08.192Z"
   },
   {
    "duration": 21,
    "start_time": "2025-05-16T17:25:08.207Z"
   },
   {
    "duration": 51,
    "start_time": "2025-05-16T17:25:08.230Z"
   },
   {
    "duration": 4,
    "start_time": "2025-05-16T17:25:08.283Z"
   },
   {
    "duration": 15,
    "start_time": "2025-05-16T17:25:08.288Z"
   },
   {
    "duration": 33,
    "start_time": "2025-05-16T17:25:08.305Z"
   },
   {
    "duration": 6,
    "start_time": "2025-05-16T17:25:08.339Z"
   },
   {
    "duration": 32,
    "start_time": "2025-05-16T17:25:08.347Z"
   },
   {
    "duration": 19,
    "start_time": "2025-05-16T17:25:08.381Z"
   },
   {
    "duration": 20,
    "start_time": "2025-05-16T17:25:08.402Z"
   },
   {
    "duration": 18,
    "start_time": "2025-05-16T17:25:08.424Z"
   },
   {
    "duration": 10,
    "start_time": "2025-05-16T17:25:08.444Z"
   },
   {
    "duration": 19,
    "start_time": "2025-05-16T17:25:08.456Z"
   },
   {
    "duration": 22,
    "start_time": "2025-05-16T17:25:08.477Z"
   },
   {
    "duration": 19,
    "start_time": "2025-05-16T17:25:08.502Z"
   },
   {
    "duration": 8,
    "start_time": "2025-05-16T17:25:08.523Z"
   },
   {
    "duration": 22,
    "start_time": "2025-05-16T17:25:08.532Z"
   },
   {
    "duration": 28,
    "start_time": "2025-05-16T17:25:08.555Z"
   },
   {
    "duration": 10,
    "start_time": "2025-05-16T17:25:08.585Z"
   },
   {
    "duration": 10,
    "start_time": "2025-05-16T17:25:08.597Z"
   },
   {
    "duration": 5,
    "start_time": "2025-05-16T17:25:08.609Z"
   },
   {
    "duration": 15,
    "start_time": "2025-05-16T17:25:08.616Z"
   },
   {
    "duration": 3,
    "start_time": "2025-05-17T05:28:36.549Z"
   },
   {
    "duration": 437,
    "start_time": "2025-05-17T05:28:49.823Z"
   },
   {
    "duration": 21,
    "start_time": "2025-05-17T05:28:50.262Z"
   },
   {
    "duration": 15,
    "start_time": "2025-05-17T05:28:50.284Z"
   },
   {
    "duration": 11,
    "start_time": "2025-05-17T05:28:50.301Z"
   },
   {
    "duration": 35,
    "start_time": "2025-05-17T05:28:50.314Z"
   },
   {
    "duration": 22,
    "start_time": "2025-05-17T05:28:50.350Z"
   },
   {
    "duration": 14,
    "start_time": "2025-05-17T05:28:50.374Z"
   },
   {
    "duration": 4,
    "start_time": "2025-05-17T05:28:50.390Z"
   },
   {
    "duration": 7,
    "start_time": "2025-05-17T05:28:50.395Z"
   },
   {
    "duration": 4,
    "start_time": "2025-05-17T05:28:50.406Z"
   },
   {
    "duration": 38,
    "start_time": "2025-05-17T05:28:50.411Z"
   },
   {
    "duration": 29,
    "start_time": "2025-05-17T05:28:50.450Z"
   },
   {
    "duration": 8,
    "start_time": "2025-05-17T05:28:50.480Z"
   },
   {
    "duration": 16,
    "start_time": "2025-05-17T05:28:50.489Z"
   },
   {
    "duration": 21,
    "start_time": "2025-05-17T05:28:50.506Z"
   },
   {
    "duration": 16,
    "start_time": "2025-05-17T05:28:50.528Z"
   },
   {
    "duration": 3,
    "start_time": "2025-05-17T05:28:50.546Z"
   },
   {
    "duration": 31,
    "start_time": "2025-05-17T05:28:50.570Z"
   },
   {
    "duration": 5,
    "start_time": "2025-05-17T05:28:50.603Z"
   },
   {
    "duration": 7,
    "start_time": "2025-05-17T05:28:50.609Z"
   },
   {
    "duration": 19,
    "start_time": "2025-05-17T05:28:50.617Z"
   },
   {
    "duration": 4,
    "start_time": "2025-05-17T05:28:50.638Z"
   },
   {
    "duration": 0,
    "start_time": "2025-05-17T05:28:50.643Z"
   },
   {
    "duration": 0,
    "start_time": "2025-05-17T05:28:50.645Z"
   },
   {
    "duration": 0,
    "start_time": "2025-05-17T05:28:50.646Z"
   },
   {
    "duration": 0,
    "start_time": "2025-05-17T05:28:50.647Z"
   },
   {
    "duration": 0,
    "start_time": "2025-05-17T05:28:50.648Z"
   },
   {
    "duration": 0,
    "start_time": "2025-05-17T05:28:50.649Z"
   },
   {
    "duration": 0,
    "start_time": "2025-05-17T05:28:50.650Z"
   },
   {
    "duration": 0,
    "start_time": "2025-05-17T05:28:50.651Z"
   },
   {
    "duration": 0,
    "start_time": "2025-05-17T05:28:50.652Z"
   },
   {
    "duration": 0,
    "start_time": "2025-05-17T05:28:50.653Z"
   },
   {
    "duration": 0,
    "start_time": "2025-05-17T05:28:50.654Z"
   },
   {
    "duration": 0,
    "start_time": "2025-05-17T05:28:50.671Z"
   },
   {
    "duration": 0,
    "start_time": "2025-05-17T05:28:50.672Z"
   },
   {
    "duration": 0,
    "start_time": "2025-05-17T05:28:50.673Z"
   },
   {
    "duration": 0,
    "start_time": "2025-05-17T05:28:50.675Z"
   },
   {
    "duration": 11,
    "start_time": "2025-05-17T05:29:04.116Z"
   },
   {
    "duration": 26,
    "start_time": "2025-05-17T05:29:06.934Z"
   },
   {
    "duration": 480,
    "start_time": "2025-05-17T05:29:28.445Z"
   },
   {
    "duration": 21,
    "start_time": "2025-05-17T05:29:28.926Z"
   },
   {
    "duration": 23,
    "start_time": "2025-05-17T05:29:28.948Z"
   },
   {
    "duration": 18,
    "start_time": "2025-05-17T05:29:28.974Z"
   },
   {
    "duration": 41,
    "start_time": "2025-05-17T05:29:28.993Z"
   },
   {
    "duration": 3,
    "start_time": "2025-05-17T05:29:29.036Z"
   },
   {
    "duration": 20,
    "start_time": "2025-05-17T05:29:29.040Z"
   },
   {
    "duration": 4,
    "start_time": "2025-05-17T05:29:29.061Z"
   },
   {
    "duration": 6,
    "start_time": "2025-05-17T05:29:29.070Z"
   },
   {
    "duration": 4,
    "start_time": "2025-05-17T05:29:29.080Z"
   },
   {
    "duration": 39,
    "start_time": "2025-05-17T05:29:29.085Z"
   },
   {
    "duration": 9,
    "start_time": "2025-05-17T05:29:29.126Z"
   },
   {
    "duration": 34,
    "start_time": "2025-05-17T05:29:29.137Z"
   },
   {
    "duration": 11,
    "start_time": "2025-05-17T05:29:29.173Z"
   },
   {
    "duration": 26,
    "start_time": "2025-05-17T05:29:29.186Z"
   },
   {
    "duration": 16,
    "start_time": "2025-05-17T05:29:29.214Z"
   },
   {
    "duration": 4,
    "start_time": "2025-05-17T05:29:29.231Z"
   },
   {
    "duration": 35,
    "start_time": "2025-05-17T05:29:29.236Z"
   },
   {
    "duration": 23,
    "start_time": "2025-05-17T05:29:29.272Z"
   },
   {
    "duration": 5,
    "start_time": "2025-05-17T05:29:29.297Z"
   },
   {
    "duration": 17,
    "start_time": "2025-05-17T05:29:29.303Z"
   },
   {
    "duration": 7,
    "start_time": "2025-05-17T05:29:29.322Z"
   },
   {
    "duration": 33,
    "start_time": "2025-05-17T05:29:29.331Z"
   },
   {
    "duration": 19,
    "start_time": "2025-05-17T05:29:29.365Z"
   },
   {
    "duration": 6,
    "start_time": "2025-05-17T05:29:29.386Z"
   },
   {
    "duration": 61,
    "start_time": "2025-05-17T05:29:29.393Z"
   },
   {
    "duration": 23,
    "start_time": "2025-05-17T05:29:29.455Z"
   },
   {
    "duration": 63,
    "start_time": "2025-05-17T05:29:29.481Z"
   },
   {
    "duration": 22,
    "start_time": "2025-05-17T05:29:29.546Z"
   },
   {
    "duration": 11,
    "start_time": "2025-05-17T05:29:29.570Z"
   },
   {
    "duration": 42,
    "start_time": "2025-05-17T05:29:29.583Z"
   },
   {
    "duration": 14,
    "start_time": "2025-05-17T05:29:29.626Z"
   },
   {
    "duration": 13,
    "start_time": "2025-05-17T05:29:29.641Z"
   },
   {
    "duration": 8,
    "start_time": "2025-05-17T05:29:29.655Z"
   },
   {
    "duration": 16,
    "start_time": "2025-05-17T05:29:29.665Z"
   },
   {
    "duration": 56,
    "start_time": "2025-05-17T07:33:51.960Z"
   },
   {
    "duration": 556,
    "start_time": "2025-05-17T07:33:58.254Z"
   },
   {
    "duration": 27,
    "start_time": "2025-05-17T07:33:58.812Z"
   },
   {
    "duration": 83,
    "start_time": "2025-05-17T07:33:58.841Z"
   },
   {
    "duration": 13,
    "start_time": "2025-05-17T07:33:58.926Z"
   },
   {
    "duration": 55,
    "start_time": "2025-05-17T07:33:58.940Z"
   },
   {
    "duration": 3,
    "start_time": "2025-05-17T07:33:58.997Z"
   },
   {
    "duration": 22,
    "start_time": "2025-05-17T07:33:59.002Z"
   },
   {
    "duration": 5,
    "start_time": "2025-05-17T07:33:59.026Z"
   },
   {
    "duration": 10,
    "start_time": "2025-05-17T07:33:59.034Z"
   },
   {
    "duration": 6,
    "start_time": "2025-05-17T07:33:59.060Z"
   },
   {
    "duration": 43,
    "start_time": "2025-05-17T07:33:59.068Z"
   },
   {
    "duration": 12,
    "start_time": "2025-05-17T07:33:59.114Z"
   },
   {
    "duration": 33,
    "start_time": "2025-05-17T07:33:59.127Z"
   },
   {
    "duration": 14,
    "start_time": "2025-05-17T07:33:59.162Z"
   },
   {
    "duration": 23,
    "start_time": "2025-05-17T07:33:59.178Z"
   },
   {
    "duration": 19,
    "start_time": "2025-05-17T07:33:59.204Z"
   },
   {
    "duration": 4,
    "start_time": "2025-05-17T07:33:59.225Z"
   },
   {
    "duration": 40,
    "start_time": "2025-05-17T07:33:59.231Z"
   },
   {
    "duration": 43,
    "start_time": "2025-05-17T07:33:59.273Z"
   },
   {
    "duration": 4,
    "start_time": "2025-05-17T07:33:59.318Z"
   },
   {
    "duration": 21,
    "start_time": "2025-05-17T07:33:59.324Z"
   },
   {
    "duration": 38,
    "start_time": "2025-05-17T07:33:59.347Z"
   },
   {
    "duration": 17,
    "start_time": "2025-05-17T07:33:59.387Z"
   },
   {
    "duration": 8,
    "start_time": "2025-05-17T07:33:59.406Z"
   },
   {
    "duration": 8,
    "start_time": "2025-05-17T07:33:59.415Z"
   },
   {
    "duration": 5,
    "start_time": "2025-05-17T07:33:59.425Z"
   },
   {
    "duration": 17,
    "start_time": "2025-05-17T07:33:59.460Z"
   },
   {
    "duration": 23,
    "start_time": "2025-05-17T07:33:59.480Z"
   },
   {
    "duration": 11,
    "start_time": "2025-05-17T07:33:59.504Z"
   },
   {
    "duration": 5,
    "start_time": "2025-05-17T07:33:59.517Z"
   },
   {
    "duration": 41,
    "start_time": "2025-05-17T07:33:59.524Z"
   },
   {
    "duration": 77,
    "start_time": "2025-05-17T07:33:59.568Z"
   },
   {
    "duration": 10,
    "start_time": "2025-05-17T07:33:59.646Z"
   },
   {
    "duration": 7,
    "start_time": "2025-05-17T07:33:59.657Z"
   },
   {
    "duration": 16,
    "start_time": "2025-05-17T07:33:59.666Z"
   },
   {
    "duration": 33,
    "start_time": "2025-05-17T07:36:52.089Z"
   },
   {
    "duration": 31,
    "start_time": "2025-05-17T07:38:11.928Z"
   },
   {
    "duration": 35,
    "start_time": "2025-05-17T07:38:57.732Z"
   },
   {
    "duration": 459,
    "start_time": "2025-05-17T08:06:04.902Z"
   },
   {
    "duration": 22,
    "start_time": "2025-05-17T08:06:05.363Z"
   },
   {
    "duration": 15,
    "start_time": "2025-05-17T08:06:05.386Z"
   },
   {
    "duration": 10,
    "start_time": "2025-05-17T08:06:05.403Z"
   },
   {
    "duration": 53,
    "start_time": "2025-05-17T08:06:05.414Z"
   },
   {
    "duration": 3,
    "start_time": "2025-05-17T08:06:05.469Z"
   },
   {
    "duration": 11,
    "start_time": "2025-05-17T08:06:05.473Z"
   },
   {
    "duration": 4,
    "start_time": "2025-05-17T08:06:05.485Z"
   },
   {
    "duration": 5,
    "start_time": "2025-05-17T08:06:05.491Z"
   },
   {
    "duration": 4,
    "start_time": "2025-05-17T08:06:05.499Z"
   },
   {
    "duration": 62,
    "start_time": "2025-05-17T08:06:05.504Z"
   },
   {
    "duration": 10,
    "start_time": "2025-05-17T08:06:05.568Z"
   },
   {
    "duration": 11,
    "start_time": "2025-05-17T08:06:05.579Z"
   },
   {
    "duration": 14,
    "start_time": "2025-05-17T08:06:05.592Z"
   },
   {
    "duration": 34,
    "start_time": "2025-05-17T08:06:05.607Z"
   },
   {
    "duration": 17,
    "start_time": "2025-05-17T08:06:05.642Z"
   },
   {
    "duration": 3,
    "start_time": "2025-05-17T08:06:05.661Z"
   },
   {
    "duration": 18,
    "start_time": "2025-05-17T08:06:05.665Z"
   },
   {
    "duration": 5,
    "start_time": "2025-05-17T08:06:05.684Z"
   },
   {
    "duration": 7,
    "start_time": "2025-05-17T08:06:05.690Z"
   },
   {
    "duration": 35,
    "start_time": "2025-05-17T08:06:05.698Z"
   },
   {
    "duration": 39,
    "start_time": "2025-05-17T08:06:05.735Z"
   },
   {
    "duration": 27,
    "start_time": "2025-05-17T08:06:05.775Z"
   },
   {
    "duration": 25,
    "start_time": "2025-05-17T08:06:05.804Z"
   },
   {
    "duration": 50,
    "start_time": "2025-05-17T08:06:05.830Z"
   },
   {
    "duration": 446,
    "start_time": "2025-05-29T18:06:51.076Z"
   },
   {
    "duration": 21,
    "start_time": "2025-05-29T18:06:51.524Z"
   },
   {
    "duration": 241,
    "start_time": "2025-05-29T18:06:51.546Z"
   },
   {
    "duration": 11,
    "start_time": "2025-05-29T18:06:51.790Z"
   },
   {
    "duration": 48,
    "start_time": "2025-05-29T18:06:51.802Z"
   },
   {
    "duration": 3,
    "start_time": "2025-05-29T18:06:51.852Z"
   },
   {
    "duration": 13,
    "start_time": "2025-05-29T18:06:51.856Z"
   },
   {
    "duration": 41,
    "start_time": "2025-05-29T18:06:51.871Z"
   },
   {
    "duration": 29,
    "start_time": "2025-05-29T18:06:51.914Z"
   },
   {
    "duration": 5,
    "start_time": "2025-05-29T18:06:51.947Z"
   },
   {
    "duration": 37,
    "start_time": "2025-05-29T18:06:51.953Z"
   },
   {
    "duration": 9,
    "start_time": "2025-05-29T18:06:51.992Z"
   },
   {
    "duration": 113,
    "start_time": "2025-05-29T18:06:52.003Z"
   },
   {
    "duration": 17,
    "start_time": "2025-05-29T18:06:52.118Z"
   },
   {
    "duration": 39,
    "start_time": "2025-05-29T18:06:52.136Z"
   },
   {
    "duration": 21,
    "start_time": "2025-05-29T18:06:52.177Z"
   },
   {
    "duration": 4,
    "start_time": "2025-05-29T18:06:52.199Z"
   },
   {
    "duration": 28,
    "start_time": "2025-05-29T18:06:52.204Z"
   },
   {
    "duration": 33,
    "start_time": "2025-05-29T18:06:52.234Z"
   },
   {
    "duration": 4,
    "start_time": "2025-05-29T18:06:52.269Z"
   },
   {
    "duration": 11,
    "start_time": "2025-05-29T18:06:52.275Z"
   },
   {
    "duration": 29,
    "start_time": "2025-05-29T18:06:52.288Z"
   },
   {
    "duration": 28,
    "start_time": "2025-05-29T18:06:52.318Z"
   },
   {
    "duration": 145,
    "start_time": "2025-05-29T18:06:52.348Z"
   },
   {
    "duration": 31,
    "start_time": "2025-05-29T18:06:52.495Z"
   }
  ],
  "colab": {
   "name": "dpp_template_part2.ipynb",
   "provenance": []
  },
  "kernelspec": {
   "display_name": "Python 3 (ipykernel)",
   "language": "python",
   "name": "python3"
  },
  "language_info": {
   "codemirror_mode": {
    "name": "ipython",
    "version": 3
   },
   "file_extension": ".py",
   "mimetype": "text/x-python",
   "name": "python",
   "nbconvert_exporter": "python",
   "pygments_lexer": "ipython3",
   "version": "3.9.5"
  },
  "toc": {
   "base_numbering": 1,
   "nav_menu": {},
   "number_sections": true,
   "sideBar": true,
   "skip_h1_title": true,
   "title_cell": "Table of Contents",
   "title_sidebar": "Contents",
   "toc_cell": false,
   "toc_position": {},
   "toc_section_display": true,
   "toc_window_display": false
  }
 },
 "nbformat": 4,
 "nbformat_minor": 5
}
